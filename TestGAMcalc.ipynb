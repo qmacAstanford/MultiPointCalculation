{
 "cells": [
  {
   "cell_type": "code",
   "execution_count": 1,
   "metadata": {
    "collapsed": true
   },
   "outputs": [],
   "source": [
    "from GAMcalc import *\n",
    "import propagator \n",
    "import wignerD as wd"
   ]
  },
  {
   "cell_type": "markdown",
   "metadata": {},
   "source": [
    "## Sets of Ks"
   ]
  },
  {
   "cell_type": "code",
   "execution_count": 2,
   "metadata": {
    "collapsed": true
   },
   "outputs": [],
   "source": [
    "def set3Ks(K):\n",
    "    k1 = np.array([1,0,0])*K\n",
    "    k2 = np.array([-0.5,0.5*np.sqrt(3),0])*K\n",
    "    k3 = -k1-k2\n",
    "    return [k1, k2, k3]\n",
    "\n",
    "def set4Ks(K):\n",
    "    k1=np.array([1,0,0])*K\n",
    "    k2=np.array([-1,0,0])*K\n",
    "    k3, k4 = -k1, -k2\n",
    "    return [k1, k2, k3, k4]"
   ]
  },
  {
   "cell_type": "code",
   "execution_count": 3,
   "metadata": {
    "collapsed": true
   },
   "outputs": [],
   "source": [
    "def set4Ks1(K):\n",
    "    k1=np.array([1,0,0])*K\n",
    "    k2=np.array([1,0,0])*K\n",
    "    k3, k4 = -k1, -k2\n",
    "    return [k1, k2, k3, k4]\n",
    "\n",
    "def set4Ks2(K):\n",
    "    k1=np.array([1,0,0])*K\n",
    "    k2=np.array([0.5,0.5*np.sqrt(3),0])*K\n",
    "    k3, k4 = -k1, -k2\n",
    "    return [k1, k2, k3, k4]\n",
    "\n",
    "def set4Ks3(K):\n",
    "    k1=np.array([1,0,0])*K\n",
    "    k2=np.array([0,1,0])*K\n",
    "    k3, k4 = -k1, -k2\n",
    "    return [k1, k2, k3, k4]\n",
    "\n",
    "def set4Ks4(K):\n",
    "    k1=np.array([-1,0,1])/np.sqrt(2)*K\n",
    "    k2=np.array([-1,0,-1])/np.sqrt(2)*K\n",
    "    k3=np.array([1,1,0])/np.sqrt(2)*K\n",
    "    k4=np.array([1,-1,0])/np.sqrt(2)*K\n",
    "    return [k1, k2, k3, k4]"
   ]
  },
  {
   "cell_type": "markdown",
   "metadata": {},
   "source": [
    "## Simple examples"
   ]
  },
  {
   "cell_type": "code",
   "execution_count": 4,
   "metadata": {
    "collapsed": true
   },
   "outputs": [],
   "source": [
    "# N = 10\n",
    "# FA = 0.5\n",
    "# K = 10\n",
    "# CHI = 0\n",
    "\n",
    "# pset=propagator.prop_set(nlam=10)\n",
    "# wigset = wd.wigner_d_vals()\n",
    "\n",
    "# KS = spinodal(pset, N, FA)\n",
    "# Ks3 = set3Ks(KS)\n",
    "# Ks4 = set4Ks(KS)\n",
    "\n",
    "# print(gamma2(pset, N, FA, K, CHI))\n",
    "# print(gamma3(pset, N, FA, Ks3))\n",
    "# print(gamma4(pset, wigset, N, FA, Ks4))"
   ]
  },
  {
   "cell_type": "markdown",
   "metadata": {},
   "source": [
    "## Gamma2"
   ]
  },
  {
   "cell_type": "code",
   "execution_count": 5,
   "metadata": {
    "collapsed": true
   },
   "outputs": [],
   "source": [
    "N=10\n",
    "FA=0.5\n",
    "CHI = 0\n",
    "\n",
    "pset=propagator.prop_set(nlam=1)\n",
    "KV = np.logspace(-1,3,100)\n",
    "gam2 = np.zeros((len(KV), 1),dtype=type(1+1j))\n",
    "for i, K in enumerate(KV):\n",
    "    gam2[i] = gamma2(pset, N, FA, K, CHI)"
   ]
  },
  {
   "cell_type": "code",
   "execution_count": 6,
   "metadata": {
    "collapsed": false
   },
   "outputs": [
    {
     "data": {
      "image/png": "[encoded data removed]",
      "text/plain": [
       "<matplotlib.figure.Figure at 0x10d75bf60>"
      ]
     },
     "metadata": {},
     "output_type": "display_data"
    }
   ],
   "source": [
    "plt.loglog(KV, 1/gam2.real)\n",
    "plt.show()"
   ]
  },
  {
   "cell_type": "code",
   "execution_count": 7,
   "metadata": {
    "collapsed": true
   },
   "outputs": [],
   "source": [
    "FA = 0.5\n",
    "NV = np.logspace(-1, 4, 10)\n",
    "KSV = np.zeros((len(NV)))\n",
    "\n",
    "for ind, N in enumerate(NV):\n",
    "    KSV[ind] = spinodal(pset, N, FA)"
   ]
  },
  {
   "cell_type": "code",
   "execution_count": 8,
   "metadata": {
    "collapsed": false
   },
   "outputs": [
    {
     "data": {
      "image/png": "[encoded data removed]",
      "text/plain": [
       "<matplotlib.figure.Figure at 0x110abdef0>"
      ]
     },
     "metadata": {},
     "output_type": "display_data"
    }
   ],
   "source": [
    "plt.loglog(NV, 1/KSV)\n",
    "plt.show()"
   ]
  },
  {
   "cell_type": "markdown",
   "metadata": {},
   "source": [
    "## Gamma3"
   ]
  },
  {
   "cell_type": "code",
   "execution_count": null,
   "metadata": {
    "collapsed": true,
    "scrolled": true
   },
   "outputs": [],
   "source": [
    "FAV = np.linspace(.2, .5, 21)\n",
    "pset=propagator.prop_set(nlam=10)\n",
    "\n",
    "N = 1000\n",
    "GAM3N_N1000 = np.zeros((len(FAV)), dtype='complex')\n",
    "for ind, FA in enumerate(FAV):\n",
    "    Ks = set3Ks(spinodal(pset, N, FA))\n",
    "    GAM3N_N1000[ind] = gamma3(pset, N, FA, Ks)*N\n",
    "\n",
    "N = 100\n",
    "GAM3N_N100 = np.zeros((len(FAV)), dtype='complex')\n",
    "for ind, FA in enumerate(FAV):\n",
    "    Ks = set3Ks(spinodal(pset, N, FA))\n",
    "    GAM3N_N100[ind] = gamma3(pset, N, FA, Ks)*N\n",
    "    \n",
    "N = 1\n",
    "GAM3N_N1 = np.zeros((len(FAV)), dtype='complex')\n",
    "for ind, FA in enumerate(FAV):\n",
    "    Ks = set3Ks(spinodal(pset, N, FA))\n",
    "    GAM3N_N1[ind] = gamma3(pset, N, FA, Ks)*N"
   ]
  },
  {
   "cell_type": "code",
   "execution_count": null,
   "metadata": {
    "collapsed": true
   },
   "outputs": [],
   "source": [
    "plt.plot(FAV, -GAM3N_N1000.real, label='N=1000')\n",
    "plt.plot(FAV, -GAM3N_N100.real, label='N=100')\n",
    "plt.plot(FAV, -GAM3N_N1.real, label='N=1')\n",
    "plt.xlabel('$f_A$')\n",
    "plt.ylabel('$-N\\Gamma_{3}(q^*)$')\n",
    "plt.legend(loc=1)\n",
    "plt.axis([.2,.5,0,200])\n",
    "plt.show()"
   ]
  },
  {
   "cell_type": "markdown",
   "metadata": {},
   "source": [
    "## Gamma4"
   ]
  },
  {
   "cell_type": "code",
   "execution_count": null,
   "metadata": {
    "collapsed": true
   },
   "outputs": [],
   "source": [
    "FAV = np.linspace(.3, .5, 21)\n",
    "pset=propagator.prop_set(nlam=5)\n",
    "wigset = wd.wigner_d_vals()\n",
    "\n",
    "N = 1000\n",
    "GAM4N_N1000 = np.zeros((len(FAV)), dtype='complex')\n",
    "for ind, FA in enumerate(FAV):\n",
    "    Ks = set4Ks1(spinodal(pset, N, FA))\n",
    "    GAM4N_N1000[ind] = gamma4(pset, wigset, N, FA, Ks)*N\n",
    "\n",
    "N = 100\n",
    "GAM4N_N100 = np.zeros((len(FAV)), dtype='complex')\n",
    "for ind, FA in enumerate(FAV):\n",
    "    Ks = set4Ks1(spinodal(pset, N, FA))\n",
    "    GAM4N_N100[ind] = gamma4(pset, wigset, N, FA, Ks)*N\n",
    "\n",
    "    \n",
    "N = 10\n",
    "GAM4N_N10 = np.zeros((len(FAV)), dtype='complex')\n",
    "for ind, FA in enumerate(FAV):\n",
    "    Ks = set4Ks1(spinodal(pset, N, FA))\n",
    "    GAM4N_N10[ind] = gamma4(pset, wigset, N, FA, Ks)*N\n",
    "    \n",
    "N = 1\n",
    "GAM4N_N1 = np.zeros((len(FAV)), dtype='complex')\n",
    "for ind, FA in enumerate(FAV):\n",
    "    Ks = set4Ks1(spinodal(pset, N, FA))\n",
    "    GAM4N_N1[ind] = gamma4(pset, wigset, N, FA, Ks)*N"
   ]
  },
  {
   "cell_type": "code",
   "execution_count": null,
   "metadata": {
    "collapsed": true
   },
   "outputs": [],
   "source": [
    "plt.plot(FAV, GAM4N_N1000.real, label='N=1000')\n",
    "plt.plot(FAV, GAM4N_N100.real, label='N=100')\n",
    "plt.plot(FAV, GAM4N_N10.real, label='N=10')\n",
    "plt.plot(FAV, GAM4N_N1.real, label='N=1')\n",
    "plt.axis([.3,.5,100,500])\n",
    "plt.box\n",
    "plt.legend(loc=1)\n",
    "plt.show()"
   ]
  },
  {
   "cell_type": "markdown",
   "metadata": {},
   "source": [
    "## Check numerical convergence "
   ]
  },
  {
   "cell_type": "code",
   "execution_count": 5,
   "metadata": {
    "collapsed": false
   },
   "outputs": [
    {
     "name": "stdout",
     "output_type": "stream",
     "text": [
      "1000.0 (156.827674798+9.5578978339e-13j)\n"
     ]
    }
   ],
   "source": [
    "# NV = np.logspace(0,3,11)\n",
    "NV = [1e3]\n",
    "G4N = np.zeros((len(NV)), dtype='complex')\n",
    "FA = 0.5\n",
    "\n",
    "pset=propagator.prop_set(nlam=1)\n",
    "wigset = wd.wigner_d_vals()\n",
    "\n",
    "for ind, N in enumerate(NV):\n",
    "    Ks = set4Ks1(spinodal(pset, N, FA))\n",
    "    G4N[ind] = gamma4(pset, wigset, N, FA, Ks)*N\n",
    "    print(N, G4N[ind])"
   ]
  },
  {
   "cell_type": "code",
   "execution_count": null,
   "metadata": {
    "collapsed": true
   },
   "outputs": [],
   "source": [
    "NV = np.logspace(0,3,11)\n",
    "G4N = np.zeros((len(NV)), dtype='complex')\n",
    "S3N = np.zeros((len(NV)), dtype='complex')\n",
    "FA = 0.5\n",
    "\n",
    "pset=propagator.prop_set(nlam=5)\n",
    "wigset = wd.wigner_d_vals()\n",
    "\n",
    "for ind, N in enumerate(NV):\n",
    "    Ks = set4Ks1(spinodal(pset, N, FA))\n",
    "    G4N[ind] = gamma4(pset, wigset, N, FA, Ks)*N\n",
    "    print(N, G4N[ind])"
   ]
  },
  {
   "cell_type": "code",
   "execution_count": null,
   "metadata": {
    "collapsed": true
   },
   "outputs": [],
   "source": [
    "plt.semilogx(NV, G4N)\n",
    "plt.show()"
   ]
  },
  {
   "cell_type": "markdown",
   "metadata": {},
   "source": [
    "## Write to file"
   ]
  },
  {
   "cell_type": "code",
   "execution_count": 4,
   "metadata": {
    "collapsed": false
   },
   "outputs": [
    {
     "name": "stdout",
     "output_type": "stream",
     "text": [
      " 0.10, 0.50, 104.8062\n",
      " 0.11, 0.50, 104.7955\n",
      " 0.11, 0.50, 104.7861\n",
      " 0.12, 0.50, 104.7781\n",
      " 0.13, 0.50, 104.7717\n",
      " 0.13, 0.50, 104.7674\n",
      " 0.14, 0.50, 104.7654\n",
      " 0.15, 0.50, 104.7662\n",
      " 0.16, 0.50, 104.7702\n",
      " 0.17, 0.50, 104.7778\n",
      " 0.18, 0.50, 104.7897\n",
      " 0.19, 0.50, 104.8063\n",
      " 0.20, 0.50, 104.8285\n",
      " 0.21, 0.50, 104.8568\n",
      " 0.22, 0.50, 104.8921\n",
      " 0.24, 0.50, 104.9353\n",
      " 0.25, 0.50, 104.9873\n",
      " 0.27, 0.50, 105.0491\n",
      " 0.28, 0.50, 105.1220\n",
      " 0.30, 0.50, 105.2069\n",
      " 0.32, 0.50, 105.3054\n",
      " 0.33, 0.50, 105.4188\n",
      " 0.35, 0.50, 105.5484\n",
      " 0.38, 0.50, 105.6962\n",
      " 0.40, 0.50, 105.8634\n",
      " 0.42, 0.50, 106.0520\n",
      " 0.45, 0.50, 106.2638\n",
      " 0.47, 0.50, 106.5007\n",
      " 0.50, 0.50, 106.7644\n",
      " 0.53, 0.50, 107.0569\n",
      " 0.56, 0.50, 107.3804\n",
      " 0.60, 0.50, 107.7363\n",
      " 0.63, 0.50, 108.1270\n",
      " 0.67, 0.50, 108.5542\n",
      " 0.71, 0.50, 109.0196\n",
      " 0.75, 0.50, 109.5244\n",
      " 0.79, 0.50, 110.0709\n",
      " 0.84, 0.50, 110.6593\n",
      " 0.89, 0.50, 111.2911\n",
      " 0.94, 0.50, 111.9673\n",
      " 1.00, 0.50, 112.6879\n",
      " 1.06, 0.50, 113.4537\n",
      " 1.12, 0.50, 114.2639\n",
      " 1.19, 0.50, 115.1185\n",
      " 1.26, 0.50, 116.0162\n",
      " 1.33, 0.50, 116.9561\n",
      " 1.41, 0.50, 117.9358\n",
      " 1.50, 0.50, 118.9539\n",
      " 1.58, 0.50, 120.0067\n",
      " 1.68, 0.50, 121.0915\n",
      " 1.78, 0.50, 122.2052\n",
      " 1.88, 0.50, 123.3437\n",
      " 2.00, 0.50, 124.5029\n",
      " 2.11, 0.50, 125.6777\n",
      " 2.24, 0.50, 126.8627\n",
      " 2.37, 0.50, 128.0544\n",
      " 2.51, 0.50, 129.2467\n",
      " 2.66, 0.50, 130.4336\n",
      " 2.82, 0.50, 131.6114\n",
      " 2.99, 0.50, 132.7716\n",
      " 3.16, 0.50, 133.9138\n",
      " 3.35, 0.50, 135.0331\n",
      " 3.55, 0.50, 136.1222\n",
      " 3.76, 0.50, 137.1772\n",
      " 3.98, 0.50, 138.2014\n",
      " 4.22, 0.50, 139.1835\n",
      " 4.47, 0.50, 140.1258\n",
      " 4.73, 0.50, 141.0248\n",
      " 5.01, 0.50, 141.8781\n",
      " 5.31, 0.50, 142.6921\n",
      " 5.62, 0.50, 143.4666\n",
      " 5.96, 0.50, 144.1860\n",
      " 6.31, 0.50, 144.8678\n",
      " 6.68, 0.50, 145.5148\n",
      " 7.08, 0.50, 146.1119\n",
      " 7.50, 0.50, 146.6715\n",
      " 7.94, 0.50, 147.1976\n",
      " 8.41, 0.50, 147.6849\n",
      " 8.91, 0.50, 148.1380\n",
      " 9.44, 0.50, 148.5617\n",
      " 10.00, 0.50, 148.9611\n",
      " 10.59, 0.50, 149.3307\n",
      " 11.22, 0.50, 149.6753\n",
      " 11.89, 0.50, 149.9997\n",
      " 12.59, 0.50, 150.3087\n",
      " 13.34, 0.50, 150.5953\n",
      " 14.13, 0.50, 150.8636\n",
      " 14.96, 0.50, 151.1173\n",
      " 15.85, 0.50, 151.3602\n",
      " 16.79, 0.50, 151.5959\n",
      " 17.78, 0.50, 151.8149\n",
      " 18.84, 0.50, 152.0200\n",
      " 19.95, 0.50, 152.2136\n",
      " 21.13, 0.50, 152.3982\n",
      " 22.39, 0.50, 152.5759\n",
      " 23.71, 0.50, 152.7490\n",
      " 25.12, 0.50, 152.9193\n",
      " 26.61, 0.50, 153.0889\n",
      " 28.18, 0.50, 153.2315\n",
      " 29.85, 0.50, 153.3763\n",
      " 31.62, 0.50, 153.5248\n",
      " 33.50, 0.50, 153.6787\n",
      " 35.48, 0.50, 153.8106\n",
      " 37.58, 0.50, 153.9212\n",
      " 39.81, 0.50, 154.0405\n",
      " 42.17, 0.50, 154.1699\n",
      " 44.67, 0.50, 154.2809\n",
      " 47.32, 0.50, 154.3743\n",
      " 50.12, 0.50, 154.4806\n",
      " 53.09, 0.50, 154.6010\n",
      " 56.23, 0.50, 154.6758\n",
      " 59.57, 0.50, 154.7663\n",
      " 63.10, 0.50, 154.8733\n",
      " 66.83, 0.50, 154.9364\n",
      " 70.79, 0.50, 155.0483\n",
      " 74.99, 0.50, 155.0862\n",
      " 79.43, 0.50, 155.1745\n",
      " 84.14, 0.50, 155.2518\n",
      " 89.13, 0.50, 155.3186\n",
      " 94.41, 0.50, 155.3753\n",
      " 100.00, 0.50, 155.4224\n",
      " 105.93, 0.50, 155.5236\n",
      " 112.20, 0.50, 155.5529\n",
      " 118.85, 0.50, 155.5738\n",
      " 125.89, 0.50, 155.6504\n",
      " 133.35, 0.50, 155.7197\n",
      " 141.25, 0.50, 155.7180\n",
      " 149.62, 0.50, 155.7735\n",
      " 158.49, 0.50, 155.8226\n",
      " 167.88, 0.50, 155.8656\n",
      " 177.83, 0.50, 155.9029\n",
      " 188.36, 0.50, 155.9348\n",
      " 199.53, 0.50, 155.9614\n",
      " 211.35, 0.50, 155.9830\n",
      " 223.87, 0.50, 156.0648\n",
      " 237.14, 0.50, 156.0773\n",
      " 251.19, 0.50, 156.0856\n",
      " 266.07, 0.50, 156.1550\n",
      " 281.84, 0.50, 156.0904\n",
      " 298.54, 0.50, 156.1524\n",
      " 316.23, 0.50, 156.2111\n",
      " 334.97, 0.50, 156.2667\n",
      " 354.81, 0.50, 156.1885\n",
      " 375.84, 0.50, 156.2381\n",
      " 398.11, 0.50, 156.2851\n",
      " 421.70, 0.50, 156.3295\n",
      " 446.68, 0.50, 156.2404\n",
      " 473.15, 0.50, 156.2801\n",
      " 501.19, 0.50, 156.3176\n",
      " 530.88, 0.50, 156.3530\n",
      " 562.34, 0.50, 156.3866\n",
      " 595.66, 0.50, 156.4183\n",
      " 630.96, 0.50, 156.3166\n",
      " 668.34, 0.50, 156.3449\n",
      " 707.95, 0.50, 156.3716\n",
      " 749.89, 0.50, 156.3969\n",
      " 794.33, 0.50, 156.4207\n",
      " 841.40, 0.50, 156.4433\n",
      " 891.25, 0.50, 156.4646\n",
      " 944.06, 0.50, 156.4847\n",
      " 1000.00, 0.50, 156.5038\n"
     ]
    }
   ],
   "source": [
    "# Figure 1 data\n",
    "\n",
    "filename = 'data/fig1data'\n",
    "f1 = open(filename, 'w')\n",
    "\n",
    "FAV = [0.5]\n",
    "NV = np.logspace(-1,3,161)\n",
    "\n",
    "pset=propagator.prop_set(nlam=5)\n",
    "wigset = wd.wigner_d_vals()\n",
    "\n",
    "GAM3N = np.zeros((len(NV), len(FAV)), dtype='complex')\n",
    "GAM4N1 = np.zeros((len(NV), len(FAV)), dtype='complex')\n",
    "GAM4N2 = np.zeros((len(NV), len(FAV)), dtype='complex')\n",
    "GAM4N3 = np.zeros((len(NV), len(FAV)), dtype='complex')\n",
    "GAM4N4 = np.zeros((len(NV), len(FAV)), dtype='complex')\n",
    "for ii, N in enumerate(NV):\n",
    "    for jj, FA in enumerate(FAV):\n",
    "        KS = spinodal(pset, N, FA)\n",
    "        \n",
    "        Ks41 = set4Ks1(KS)\n",
    "        GAM4N1[ii][jj] = gamma4(pset, wigset, N, FA, Ks41)*N\n",
    "        f1.write(' %.2f, %.2f, %.4f\\n' %(N, FA, GAM4N1[ii][jj].real))\n",
    "        print(' %.2f, %.2f, %.4f' %(N, FA, GAM4N1[ii][jj].real))\n",
    "f1.close()"
   ]
  },
  {
   "cell_type": "code",
   "execution_count": 27,
   "metadata": {
    "collapsed": false
   },
   "outputs": [
    {
     "name": "stdout",
     "output_type": "stream",
     "text": [
      "100.00, 0.10, -1264.9813, 27294.0313, 27383.3213, 27383.3059, 27474.9040\n",
      "100.00, 0.11, -965.2800, 19036.6442, 19116.6787, 19118.1349, 19198.4514\n",
      "100.00, 0.12, -754.4908, 13713.9342, 13785.9025, 13788.2529, 13859.3408\n",
      "100.00, 0.13, -601.7583, 10153.3866, 10218.2874, 10221.1675, 10284.5358\n",
      "100.00, 0.14, -488.2127, 7694.2668, 7753.0418, 7756.2271, 7813.1176\n",
      "100.00, 0.15, -401.9290, 5948.9895, 6002.4643, 6005.8130, 6057.2316\n",
      "100.00, 0.16, -335.0722, 4679.9987, 4728.9458, 4732.3794, 4779.1950\n",
      "100.00, 0.17, -282.4414, 3739.2147, 3784.1964, 3787.6492, 3830.4981\n",
      "100.00, 0.18, -240.3798, 3028.6234, 3070.1583, 3073.5942, 3113.0328\n",
      "100.00, 0.19, -206.3190, 2483.1500, 2521.6850, 2525.0835, 2561.5781\n",
      "100.00, 0.20, -178.4199, 2058.5979, 2094.4922, 2097.8362, 2131.7609\n",
      "100.00, 0.21, -155.3186, 1723.7749, 1757.3493, 1760.6319, 1792.3117\n",
      "100.00, 0.22, -136.0091, 1456.7599, 1488.2769, 1491.4915, 1521.1926\n",
      "100.00, 0.23, -119.7197, 1241.4519, 1271.1543, 1274.3022, 1302.2630\n",
      "100.00, 0.24, -105.8682, 1066.2462, 1094.3357, 1097.4173, 1123.8366\n",
      "100.00, 0.25, -94.0027, 922.4918, 949.1370, 952.1521, 977.1969\n",
      "100.00, 0.26, -83.7680, 803.6592, 829.0021, 831.9496, 855.7616\n",
      "100.00, 0.27, -74.8761, 704.6108, 728.7934, 731.6787, 754.3927\n",
      "100.00, 0.28, -67.1033, 621.5375, 644.6813, 647.5086, 669.2403\n",
      "100.00, 0.29, -60.2689, 551.4711, 573.6803, 576.4528, 597.3022\n",
      "100.00, 0.30, -54.2307, 492.1993, 513.5441, 516.2578, 536.3001\n",
      "100.00, 0.31, -48.8578, 441.6215, 462.2005, 464.8638, 484.1873\n",
      "100.00, 0.32, -44.0517, 398.2842, 418.1840, 420.8045, 439.4868\n",
      "100.00, 0.33, -39.7342, 361.1181, 380.3971, 382.9751, 401.0746\n",
      "100.00, 0.34, -35.8354, 329.1595, 347.8689, 350.4044, 367.9730\n",
      "100.00, 0.35, -32.2937, 301.5340, 319.7362, 322.2347, 339.3285\n",
      "100.00, 0.36, -29.0599, 277.6126, 295.3637, 297.8303, 314.4997\n",
      "100.00, 0.37, -26.0946, 256.9605, 274.2944, 276.7277, 293.0094\n",
      "100.00, 0.38, -23.3589, 239.0616, 256.0249, 258.4290, 274.3650\n",
      "100.00, 0.39, -20.8215, 223.5634, 240.1984, 242.5771, 258.2060\n",
      "100.00, 0.40, -18.4570, 210.2469, 226.5769, 228.9278, 244.2768\n",
      "100.00, 0.41, -16.2379, 198.7195, 214.7964, 217.1286, 232.2389\n",
      "100.00, 0.42, -14.1464, 188.9254, 204.7672, 207.0778, 221.9722\n",
      "100.00, 0.43, -12.1607, 180.5565, 196.2100, 198.5074, 213.2228\n",
      "100.00, 0.44, -10.2664, 173.6136, 189.0931, 191.3742, 205.9302\n",
      "100.00, 0.45, -8.4459, 167.8501, 183.1987, 185.4715, 199.9017\n",
      "100.00, 0.46, -6.6868, 163.3085, 178.5381, 180.7991, 195.1208\n",
      "100.00, 0.47, -4.9748, 159.8521, 174.9885, 177.2398, 191.4773\n",
      "100.00, 0.48, -3.2973, 157.3649, 172.4481, 174.6973, 188.8815\n",
      "100.00, 0.49, -1.6430, 155.9379, 170.9774, 173.2210, 187.3674\n",
      "100.00, 0.50, 0.0000, 155.4224, 170.4573, 172.7027, 186.8415\n",
      "50.00, 0.10, -1238.4611, 26673.9589, 26731.0352, 26726.1247, 26792.3457\n",
      "50.00, 0.11, -945.1111, 18613.7711, 18668.3531, 18665.7467, 18726.0595\n",
      "50.00, 0.12, -738.8529, 13417.9234, 13469.3775, 13468.3214, 13523.3021\n",
      "50.00, 0.13, -589.3563, 9939.4613, 9987.6406, 9987.6461, 10037.9030\n",
      "50.00, 0.14, -478.2206, 7536.2766, 7581.2161, 7581.9502, 7628.0090\n",
      "50.00, 0.15, -393.7450, 5829.5248, 5871.4303, 5872.6729, 5915.0544\n",
      "50.00, 0.16, -328.3089, 4588.7046, 4627.8120, 4629.4092, 4668.5600\n",
      "50.00, 0.17, -276.7793, 3668.1159, 3704.6571, 3706.4982, 3742.7950\n",
      "50.00, 0.18, -235.5868, 2972.3481, 3006.5799, 3008.5917, 3042.3850\n",
      "50.00, 0.19, -202.2371, 2438.3125, 2470.4451, 2472.5697, 2504.1395\n",
      "50.00, 0.20, -174.9089, 2022.3118, 2052.5612, 2054.7613, 2084.3673\n",
      "50.00, 0.21, -152.2831, 1694.2402, 1722.7843, 1725.0292, 1752.8837\n",
      "50.00, 0.22, -133.3690, 1432.5235, 1459.5224, 1461.7894, 1488.0772\n",
      "50.00, 0.23, -117.4077, 1221.3375, 1246.9612, 1249.2403, 1274.1409\n",
      "50.00, 0.24, -103.8391, 1049.5542, 1073.9221, 1076.1984, 1099.8465\n",
      "50.00, 0.25, -92.2121, 908.5096, 931.7442, 934.0105, 956.5351\n",
      "50.00, 0.26, -82.1799, 791.8367, 814.0417, 816.2914, 837.8025\n",
      "50.00, 0.27, -73.4616, 694.5285, 715.8129, 718.0461, 738.6509\n",
      "50.00, 0.28, -65.8443, 612.9973, 633.4347, 635.6451, 655.4240\n",
      "50.00, 0.29, -59.1447, 544.1906, 563.8635, 566.0508, 585.0853\n",
      "50.00, 0.30, -53.2193, 485.8307, 504.8104, 506.9743, 525.3356\n",
      "50.00, 0.31, -47.9480, 436.0576, 454.4153, 456.5582, 474.3141\n",
      "50.00, 0.32, -43.2378, 393.5383, 411.3191, 413.4370, 430.6373\n",
      "50.00, 0.33, -39.0034, 357.0069, 374.2670, 376.3617, 393.0604\n",
      "50.00, 0.34, -35.1773, 325.5309, 342.3204, 344.3932, 360.6385\n",
      "50.00, 0.35, -31.7025, 298.3508, 314.7140, 316.7661, 332.6012\n",
      "50.00, 0.36, -28.5306, 274.8445, 290.8212, 292.8534, 308.3176\n",
      "50.00, 0.37, -25.6202, 254.5006, 270.1267, 272.1394, 287.2681\n",
      "50.00, 0.38, -22.9347, 236.8595, 252.1748, 254.1713, 269.0010\n",
      "50.00, 0.39, -20.4445, 221.6118, 236.6455, 238.6257, 253.1859\n",
      "50.00, 0.40, -18.1229, 208.4673, 223.2457, 225.2095, 239.5275\n",
      "50.00, 0.41, -15.9445, 197.1171, 211.6793, 213.6318, 227.7407\n",
      "50.00, 0.42, -13.8905, 187.4330, 201.8008, 203.7416, 217.6647\n",
      "50.00, 0.43, -11.9421, 179.2491, 193.4431, 195.3714, 209.1305\n",
      "50.00, 0.44, -10.0814, 172.3658, 186.4191, 188.3398, 201.9631\n",
      "50.00, 0.45, -8.2945, 166.7377, 180.6681, 182.5801, 196.0871\n",
      "50.00, 0.46, -6.5668, 162.2447, 176.0759, 177.9809, 191.3941\n",
      "50.00, 0.47, -4.8855, 158.8181, 172.5731, 174.4728, 187.8136\n",
      "50.00, 0.48, -3.2383, 156.4063, 170.1072, 172.0031, 185.2928\n",
      "50.00, 0.49, -1.6136, 154.9733, 168.6420, 170.5357, 183.7947\n",
      "50.00, 0.50, 0.0000, 154.4979, 168.1559, 170.0489, 183.2978\n",
      "10.00, 0.10, -1130.0750, 24041.3269, 24067.5568, 24073.4097, 24089.3161\n",
      "10.00, 0.11, -858.8103, 16738.1845, 16760.3391, 16764.2163, 16778.8299\n",
      "10.00, 0.12, -668.9715, 12047.7961, 12067.2815, 12069.8259, 12083.7425\n",
      "10.00, 0.13, -531.9716, 8917.4621, 8935.1141, 8936.7552, 8950.2627\n",
      "10.00, 0.14, -430.4899, 6759.2357, 6775.5651, 6776.5937, 6789.8289\n",
      "10.00, 0.15, -353.6235, 5229.4010, 5244.7277, 5245.3444, 5258.3649\n",
      "10.00, 0.16, -294.2654, 4118.6914, 4133.2204, 4133.5646, 4146.3894\n",
      "10.00, 0.17, -247.6453, 3295.2457, 3309.1119, 3309.2804, 3321.9111\n",
      "10.00, 0.18, -210.4745, 2673.3780, 2686.6745, 2686.7343, 2699.1693\n",
      "10.00, 0.19, -180.4433, 2196.0899, 2208.8802, 2208.8781, 2221.1102\n",
      "10.00, 0.20, -155.8863, 1824.3755, 1836.7073, 1836.6752, 1848.7011\n",
      "10.00, 0.21, -135.5898, 1531.1386, 1543.0461, 1543.0059, 1554.8210\n",
      "10.00, 0.22, -118.6458, 1297.0380, 1308.5513, 1308.5171, 1320.1233\n",
      "10.00, 0.23, -104.3739, 1108.1891, 1119.3317, 1119.3129, 1130.7117\n",
      "10.00, 0.24, -92.2517, 954.3644, 965.1581, 965.1603, 976.3565\n",
      "10.00, 0.25, -81.8773, 828.0032, 838.4654, 838.4916, 849.4887\n",
      "10.00, 0.26, -72.9344, 723.3762, 733.5237, 733.5750, 744.3786\n",
      "10.00, 0.27, -65.1728, 636.1122, 645.9616, 646.0382, 656.6558\n",
      "10.00, 0.28, -58.3937, 562.8611, 572.4279, 572.5290, 582.9682\n",
      "10.00, 0.29, -52.4358, 500.9929, 510.2941, 510.4189, 520.6894\n",
      "10.00, 0.30, -47.1710, 448.4965, 457.5443, 457.6908, 467.7986\n",
      "10.00, 0.31, -42.4908, 403.7062, 412.5173, 412.6842, 422.6399\n",
      "10.00, 0.32, -38.3088, 365.3581, 373.9450, 374.1301, 383.9410\n",
      "10.00, 0.33, -34.5520, 332.4033, 340.7788, 340.9802, 350.6542\n",
      "10.00, 0.34, -31.1582, 303.9769, 312.1571, 312.3737, 321.9213\n",
      "10.00, 0.35, -28.0774, 279.4173, 287.4145, 287.6444, 297.0734\n",
      "10.00, 0.36, -25.2664, 258.1691, 265.9943, 266.2352, 275.5525\n",
      "10.00, 0.37, -22.6866, 239.7350, 247.4050, 247.6569, 256.8735\n",
      "10.00, 0.38, -20.3081, 223.7806, 231.3041, 231.5644, 240.6860\n",
      "10.00, 0.39, -18.1021, 209.9554, 217.3473, 217.6155, 226.6517\n",
      "10.00, 0.40, -16.0453, 198.0150, 205.2869, 205.5618, 214.5201\n",
      "10.00, 0.41, -14.1166, 187.7336, 194.8986, 195.1797, 204.0687\n",
      "10.00, 0.42, -12.2979, 178.9459, 186.0143, 186.3000, 195.1264\n",
      "10.00, 0.43, -10.5721, 171.4819, 178.4679, 178.7585, 187.5313\n",
      "10.00, 0.44, -8.9250, 165.2441, 172.1568, 172.4506, 181.1760\n",
      "10.00, 0.45, -7.3430, 160.1227, 166.9731, 167.2692, 175.9542\n",
      "10.00, 0.46, -5.8133, 156.0277, 162.8287, 163.1272, 171.7801\n",
      "10.00, 0.47, -4.3249, 152.9086, 159.6703, 159.9703, 168.5979\n",
      "10.00, 0.48, -2.8667, 150.7081, 157.4430, 157.7445, 166.3546\n",
      "10.00, 0.49, -1.4284, 149.4047, 156.1227, 156.4247, 165.0238\n",
      "10.00, 0.50, 0.0000, 148.9688, 155.6819, 155.9844, 164.5803\n"
     ]
    }
   ],
   "source": [
    "# Figure 2 data\n",
    "\n",
    "filename = 'data/fig2data'\n",
    "f2 = open(filename, 'w')\n",
    "\n",
    "FAV = np.linspace(0.1,0.5,41)\n",
    "NV = [100,50,10]\n",
    "\n",
    "pset=propagator.prop_set(nlam=3)\n",
    "wigset = wd.wigner_d_vals()\n",
    "\n",
    "GAM3N = np.zeros((len(NV), len(FAV)), dtype='complex')\n",
    "GAM4N1 = np.zeros((len(NV), len(FAV)), dtype='complex')\n",
    "GAM4N2 = np.zeros((len(NV), len(FAV)), dtype='complex')\n",
    "GAM4N3 = np.zeros((len(NV), len(FAV)), dtype='complex')\n",
    "GAM4N4 = np.zeros((len(NV), len(FAV)), dtype='complex')\n",
    "for ii, N in enumerate(NV):\n",
    "    for jj, FA in enumerate(FAV):\n",
    "        KS = spinodal(pset, N, FA)\n",
    "        \n",
    "        Ks3 = set3Ks(KS)\n",
    "        Ks41 = set4Ks1(KS)\n",
    "        Ks42 = set4Ks2(KS)\n",
    "        Ks43 = set4Ks3(KS)\n",
    "        Ks44 = set4Ks4(KS)\n",
    "        \n",
    "        GAM3N[ii][jj] = gamma3(pset, N, FA, Ks3)*N\n",
    "        GAM4N1[ii][jj] = gamma4(pset, wigset, N, FA, Ks41)*N\n",
    "        GAM4N2[ii][jj] = gamma4(pset, wigset, N, FA, Ks42)*N\n",
    "        GAM4N3[ii][jj] = gamma4(pset, wigset, N, FA, Ks43)*N\n",
    "        GAM4N4[ii][jj] = gamma4(pset, wigset, N, FA, Ks44)*N\n",
    "        f2.write(' %.2f, %.2f, %.4f, %.4f, %.4f, %.4f, %.4f\\n' %(N, FA, \n",
    "                                           GAM3N[ii][jj].real, \n",
    "                                           GAM4N1[ii][jj].real, GAM4N2[ii][jj].real,\n",
    "                                           GAM4N3[ii][jj].real, GAM4N4[ii][jj].real))\n",
    "        print('%.2f, %.2f, %.4f, %.4f, %.4f, %.4f, %.4f' %(N, FA, \n",
    "                                           GAM3N[ii][jj].real, \n",
    "                                           GAM4N1[ii][jj].real, GAM4N2[ii][jj].real,\n",
    "                                           GAM4N3[ii][jj].real, GAM4N4[ii][jj].real))\n",
    "f2.close()"
   ]
  },
  {
   "cell_type": "code",
   "execution_count": null,
   "metadata": {
    "collapsed": true
   },
   "outputs": [],
   "source": []
  }
 ],
 "metadata": {
  "anaconda-cloud": {},
  "kernelspec": {
   "display_name": "Python 3",
   "language": "python",
   "name": "python3"
  },
  "language_info": {
   "codemirror_mode": {
    "name": "ipython",
    "version": 3
   },
   "file_extension": ".py",
   "mimetype": "text/x-python",
   "name": "python",
   "nbconvert_exporter": "python",
   "pygments_lexer": "ipython3",
   "version": "3.6.0"
  }
 },
 "nbformat": 4,
 "nbformat_minor": 1
}
