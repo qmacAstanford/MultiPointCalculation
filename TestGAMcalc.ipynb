{
 "cells": [
  {
   "cell_type": "markdown",
   "metadata": {},
   "source": [
    "# 0. Import and useful functions"
   ]
  },
  {
   "cell_type": "markdown",
   "metadata": {},
   "source": [
    "## 0.1 Gam calc functions"
   ]
  },
  {
   "cell_type": "code",
   "execution_count": 18,
   "metadata": {
    "collapsed": true
   },
   "outputs": [],
   "source": [
    "from GAMcalc import *\n",
    "import propagator \n",
    "import wignerD as wd\n",
    "from scipy import optimize\n",
    "from numpy.linalg import eig"
   ]
  },
  {
   "cell_type": "markdown",
   "metadata": {},
   "source": [
    "## 0.2 Initialize sets of Ks"
   ]
  },
  {
   "cell_type": "code",
   "execution_count": 19,
   "metadata": {
    "collapsed": true
   },
   "outputs": [],
   "source": [
    "def set3Ks(K):\n",
    "    k1 = np.array([1,0,0])*K\n",
    "    k2 = np.array([-0.5,0.5*np.sqrt(3),0])*K\n",
    "    k3 = -k1-k2\n",
    "    return [k1, k2, k3]\n",
    "\n",
    "def set4Ks1(K):\n",
    "    k1=np.array([1,0,0])*K\n",
    "    k2=np.array([1,0,0])*K\n",
    "    k3, k4 = -k1, -k2\n",
    "    return [k1, k2, k3, k4]\n",
    "\n",
    "def set4Ks2(K):\n",
    "    k1=np.array([1,0,0])*K\n",
    "    k2=np.array([0.5,0.5*np.sqrt(3),0])*K\n",
    "    k3, k4 = -k1, -k2\n",
    "    return [k1, k2, k3, k4]\n",
    "\n",
    "def set4Ks3(K):\n",
    "    k1=np.array([1,0,0])*K\n",
    "    k2=np.array([0,1,0])*K\n",
    "    k3, k4 = -k1, -k2\n",
    "    return [k1, k2, k3, k4]\n",
    "\n",
    "def set4Ks4(K):\n",
    "    k1=np.array([-1,0,1])/np.sqrt(2)*K\n",
    "    k2=np.array([-1,0,-1])/np.sqrt(2)*K\n",
    "    k3=np.array([1,1,0])/np.sqrt(2)*K\n",
    "    k4=np.array([1,-1,0])/np.sqrt(2)*K\n",
    "    return [k1, k2, k3, k4]"
   ]
  },
  {
   "cell_type": "markdown",
   "metadata": {},
   "source": [
    "## 0.3 Plot power laws"
   ]
  },
  {
   "cell_type": "code",
   "execution_count": 20,
   "metadata": {
    "collapsed": true
   },
   "outputs": [],
   "source": [
    "def plotlog(x, y, alpha, xrange=1, numx=2, color='k', plt=plt):\n",
    "    xv = np.logspace(np.log10(x), np.log10(x) + xrange, numx)\n",
    "    C = y / (x**alpha)\n",
    "    yv = C * xv**(alpha)\n",
    "    plt.loglog(xv, yv, '--', color=color)"
   ]
  },
  {
   "cell_type": "markdown",
   "metadata": {},
   "source": [
    "# 0.4 Minimizing functions"
   ]
  },
  {
   "cell_type": "code",
   "execution_count": 245,
   "metadata": {},
   "outputs": [],
   "source": [
    "def chis(pset, N, FA):\n",
    "    Ks = spinodal(pset, N, FA)\n",
    "    chis = gamma2(pset, N, FA, Ks, 0).real*N/2\n",
    "    \n",
    "    return chis"
   ]
  },
  {
   "cell_type": "code",
   "execution_count": 21,
   "metadata": {
    "collapsed": true
   },
   "outputs": [],
   "source": [
    "def gamma2sol_biggereig(pset, N, FA, PHIP, K, CHIAB, CHIAS, CHIBS):\n",
    "    gam2sol = gamma2sol(pset, N, FA, PHIP, K, CHIAB, CHIAS, CHIBS)\n",
    "    eigv, eigvec = eig(gam2sol)\n",
    "    return eigv.max().real, eigvec[:,eigv.argmax()].real"
   ]
  },
  {
   "cell_type": "code",
   "execution_count": 22,
   "metadata": {
    "collapsed": true
   },
   "outputs": [],
   "source": [
    "def gamma2sol_smallereig(pset, N, FA, PHIP, K, CHIAB, CHIAS, CHIBS):\n",
    "    gam2sol = gamma2sol(pset, N, FA, PHIP, K, CHIAB, CHIAS, CHIBS)\n",
    "    eigv, eigvec = eig(gam2sol)\n",
    "    return eigv.min().real, eigvec[:,eigv.argmin()].real"
   ]
  },
  {
   "cell_type": "code",
   "execution_count": 23,
   "metadata": {
    "collapsed": true
   },
   "outputs": [],
   "source": [
    "def gamma2sol_mineig(pset, N, FA, PHIP, CHIAB, CHIAS, CHIBS):\n",
    "    f = lambda K: gamma2sol_smallereig(pset, N, FA, PHIP, K, CHIAB, CHIAS, CHIBS)[0]\n",
    "    Ks = optimize.fmin(f, 1/np.sqrt(r2(N)), disp=False)\n",
    "    _, eigvmin = gamma2sol_smallereig(pset, N, FA, PHIP, Ks,\n",
    "                                   CHIAB, CHIAS, CHIBS)\n",
    "    \n",
    "    return f(Ks), Ks, eigvmin"
   ]
  },
  {
   "cell_type": "code",
   "execution_count": 24,
   "metadata": {
    "collapsed": true
   },
   "outputs": [],
   "source": [
    "def gamma2sol_spinodal(pset, N, FA, PHIP):\n",
    "    CHIAB = 5/N/PHIP\n",
    "    # check this, this seems to effect the initialization of the below solving for eqn.\n",
    "    \n",
    "    CHIAS, CHIBS = 0, 0\n",
    "    f = lambda CHIAB: gamma2sol_mineig(pset, N, FA, PHIP, CHIAB, CHIAS, CHIBS)[0]\n",
    "    CHIABs = optimize.newton(f, 1/N)\n",
    "    \n",
    "    # find Ks at spinodal\n",
    "    _, Kss, _ = gamma2sol_mineig(pset, N, FA, PHIP, CHIAB, CHIAS, CHIBS)\n",
    "    return CHIABs, Kss"
   ]
  },
  {
   "cell_type": "markdown",
   "metadata": {},
   "source": [
    "# 1. Melt vertices"
   ]
  },
  {
   "cell_type": "markdown",
   "metadata": {
    "heading_collapsed": true
   },
   "source": [
    "## 1.1 Simple examples"
   ]
  },
  {
   "cell_type": "code",
   "execution_count": null,
   "metadata": {
    "collapsed": true,
    "hidden": true
   },
   "outputs": [],
   "source": [
    "N = 10\n",
    "FA = 0.5\n",
    "K = 10\n",
    "CHI = 0\n",
    "\n",
    "pset=propagator.prop_set(nlam=1)\n",
    "wigset = wd.wigner_d_vals()\n",
    "\n",
    "KS = spinodal(pset, N, FA)\n",
    "Ks3 = set3Ks(KS)\n",
    "Ks4 = set4Ks(KS)\n",
    "\n",
    "print(gamma2(pset, N, FA, K, CHI))\n",
    "print(gamma3(pset, N, FA, Ks3))\n",
    "print(gamma4(pset, wigset, N, FA, Ks4))"
   ]
  },
  {
   "cell_type": "markdown",
   "metadata": {},
   "source": [
    "## 1.2 Vertices at all qs"
   ]
  },
  {
   "cell_type": "markdown",
   "metadata": {
    "heading_collapsed": true
   },
   "source": [
    "### 1.2.1 Gamma2 at all q"
   ]
  },
  {
   "cell_type": "code",
   "execution_count": null,
   "metadata": {
    "collapsed": true,
    "hidden": true
   },
   "outputs": [],
   "source": [
    "N=10\n",
    "FA=0.5\n",
    "CHI = 0\n",
    "\n",
    "pset=propagator.prop_set(nlam=1)\n",
    "KV = np.logspace(-1,3,100)\n",
    "gam2 = np.zeros((len(KV), 1),dtype=type(1+1j))\n",
    "for i, K in enumerate(KV):\n",
    "    gam2[i] = gamma2(pset, N, FA, K, CHI)"
   ]
  },
  {
   "cell_type": "code",
   "execution_count": null,
   "metadata": {
    "collapsed": true,
    "hidden": true
   },
   "outputs": [],
   "source": [
    "plt.loglog(KV, 1/gam2.real)\n",
    "plt.show()"
   ]
  },
  {
   "cell_type": "markdown",
   "metadata": {
    "heading_collapsed": true
   },
   "source": [
    "### 1.2.2 Gamma3 at all q"
   ]
  },
  {
   "cell_type": "code",
   "execution_count": null,
   "metadata": {
    "collapsed": true,
    "hidden": true
   },
   "outputs": [],
   "source": [
    "N=10\n",
    "FA=0.2\n",
    "\n",
    "pset=propagator.prop_set(nlam=1)\n",
    "KV = np.logspace(-1,3,100)\n",
    "gam3 = np.zeros((len(KV), 1),dtype=type(1+1j))\n",
    "for i, K in enumerate(KV):\n",
    "    Ks = set3Ks(K)\n",
    "    gam3[i] = gamma3(pset, N, FA, Ks)"
   ]
  },
  {
   "cell_type": "code",
   "execution_count": null,
   "metadata": {
    "collapsed": true,
    "hidden": true
   },
   "outputs": [],
   "source": [
    "plt.loglog(KV, -gam3.real)\n",
    "plt.loglog(KV, gam3.real)\n",
    "plt.show()"
   ]
  },
  {
   "cell_type": "markdown",
   "metadata": {
    "heading_collapsed": true
   },
   "source": [
    "### 1.2.3 Gamma4 at all q"
   ]
  },
  {
   "cell_type": "code",
   "execution_count": null,
   "metadata": {
    "collapsed": true,
    "hidden": true
   },
   "outputs": [],
   "source": [
    "N=10\n",
    "FA=0.2\n",
    "\n",
    "pset=propagator.prop_set(nlam=2)\n",
    "wigset = wd.wigner_d_vals()\n",
    "KV = np.logspace(-1,3,20)\n",
    "gam4 = np.zeros((len(KV), 1),dtype=type(1+1j))\n",
    "for i, K in enumerate(KV):\n",
    "    print(K)\n",
    "    Ks = set4Ks(K)\n",
    "    gam4[i] = gamma4(pset, wigset, N, FA, Ks)"
   ]
  },
  {
   "cell_type": "code",
   "execution_count": null,
   "metadata": {
    "collapsed": true,
    "hidden": true
   },
   "outputs": [],
   "source": [
    "plt.loglog(KV, gam4.real)\n",
    "plt.loglog(KV, -gam4.real)\n",
    "plt.show()"
   ]
  },
  {
   "cell_type": "markdown",
   "metadata": {},
   "source": [
    "## 1.3 Vertices at q*"
   ]
  },
  {
   "cell_type": "markdown",
   "metadata": {},
   "source": [
    "### 1.3.1 Gamma2 and find q*"
   ]
  },
  {
   "cell_type": "code",
   "execution_count": null,
   "metadata": {
    "collapsed": true
   },
   "outputs": [],
   "source": [
    "N=10\n",
    "FA=0.5\n",
    "CHI = 0\n",
    "\n",
    "pset=propagator.prop_set(nlam=1)\n",
    "KV = np.logspace(-1,3,100)\n",
    "gam2 = np.zeros((len(KV), 1),dtype=type(1+1j))\n",
    "for i, K in enumerate(KV):\n",
    "    gam2[i] = gamma2(pset, N, FA, K, CHI)"
   ]
  },
  {
   "cell_type": "code",
   "execution_count": null,
   "metadata": {
    "collapsed": true
   },
   "outputs": [],
   "source": [
    "plt.loglog(KV, 1/gam2.real)\n",
    "plt.show()"
   ]
  },
  {
   "cell_type": "code",
   "execution_count": null,
   "metadata": {
    "collapsed": true
   },
   "outputs": [],
   "source": [
    "FA = 0.5\n",
    "NV = np.logspace(-1, 4, 10)\n",
    "KSV = np.zeros((len(NV)))\n",
    "\n",
    "for ind, N in enumerate(NV):\n",
    "    KSV[ind] = spinodal(pset, N, FA)"
   ]
  },
  {
   "cell_type": "code",
   "execution_count": null,
   "metadata": {
    "collapsed": true
   },
   "outputs": [],
   "source": [
    "plt.loglog(NV, 1/KSV)\n",
    "plt.show()"
   ]
  },
  {
   "cell_type": "markdown",
   "metadata": {
    "heading_collapsed": true
   },
   "source": [
    "### 1.3.2 Gamma3 at q*"
   ]
  },
  {
   "cell_type": "code",
   "execution_count": null,
   "metadata": {
    "collapsed": true,
    "hidden": true,
    "scrolled": true
   },
   "outputs": [],
   "source": [
    "FAV = np.linspace(.2, .5, 21)\n",
    "pset=propagator.prop_set(nlam=10)\n",
    "\n",
    "N = 1000\n",
    "GAM3N_N1000 = np.zeros((len(FAV)), dtype='complex')\n",
    "for ind, FA in enumerate(FAV):\n",
    "    Ks = set3Ks(spinodal(pset, N, FA))\n",
    "    GAM3N_N1000[ind] = gamma3(pset, N, FA, Ks)*N\n",
    "\n",
    "N = 100\n",
    "GAM3N_N100 = np.zeros((len(FAV)), dtype='complex')\n",
    "for ind, FA in enumerate(FAV):\n",
    "    Ks = set3Ks(spinodal(pset, N, FA))\n",
    "    GAM3N_N100[ind] = gamma3(pset, N, FA, Ks)*N\n",
    "\n",
    "N = 1\n",
    "GAM3N_N1 = np.zeros((len(FAV)), dtype='complex')\n",
    "for ind, FA in enumerate(FAV):\n",
    "    Ks = set3Ks(spinodal(pset, N, FA))\n",
    "    GAM3N_N1[ind] = gamma3(pset, N, FA, Ks)*N"
   ]
  },
  {
   "cell_type": "code",
   "execution_count": null,
   "metadata": {
    "collapsed": true,
    "hidden": true
   },
   "outputs": [],
   "source": [
    "plt.plot(FAV, -GAM3N_N1000.real, label='N=1000')\n",
    "plt.plot(FAV, -GAM3N_N100.real, label='N=100')\n",
    "plt.plot(FAV, -GAM3N_N1.real, label='N=1')\n",
    "plt.xlabel('$f_A$')\n",
    "plt.ylabel('$-N\\Gamma_{3}(q^*)$')\n",
    "plt.legend(loc=1)\n",
    "plt.axis([.2,.5,0,200])\n",
    "plt.show()"
   ]
  },
  {
   "cell_type": "markdown",
   "metadata": {
    "heading_collapsed": true
   },
   "source": [
    "### 1.3.3 Gamma4 at q*"
   ]
  },
  {
   "cell_type": "code",
   "execution_count": null,
   "metadata": {
    "collapsed": true,
    "hidden": true
   },
   "outputs": [],
   "source": [
    "FAV = np.linspace(.3, .5, 21)\n",
    "pset=propagator.prop_set(nlam=5)\n",
    "wigset = wd.wigner_d_vals()\n",
    "\n",
    "N = 1000\n",
    "GAM4N_N1000 = np.zeros((len(FAV)), dtype='complex')\n",
    "for ind, FA in enumerate(FAV):\n",
    "    Ks = set4Ks1(spinodal(pset, N, FA))\n",
    "    GAM4N_N1000[ind] = gamma4(pset, wigset, N, FA, Ks)*N\n",
    "\n",
    "N = 100\n",
    "GAM4N_N100 = np.zeros((len(FAV)), dtype='complex')\n",
    "for ind, FA in enumerate(FAV):\n",
    "    Ks = set4Ks1(spinodal(pset, N, FA))\n",
    "    GAM4N_N100[ind] = gamma4(pset, wigset, N, FA, Ks)*N\n",
    "\n",
    "    \n",
    "N = 10\n",
    "GAM4N_N10 = np.zeros((len(FAV)), dtype='complex')\n",
    "for ind, FA in enumerate(FAV):\n",
    "    Ks = set4Ks1(spinodal(pset, N, FA))\n",
    "    GAM4N_N10[ind] = gamma4(pset, wigset, N, FA, Ks)*N\n",
    "    \n",
    "N = 1\n",
    "GAM4N_N1 = np.zeros((len(FAV)), dtype='complex')\n",
    "for ind, FA in enumerate(FAV):\n",
    "    Ks = set4Ks1(spinodal(pset, N, FA))\n",
    "    GAM4N_N1[ind] = gamma4(pset, wigset, N, FA, Ks)*N"
   ]
  },
  {
   "cell_type": "code",
   "execution_count": null,
   "metadata": {
    "collapsed": true,
    "hidden": true
   },
   "outputs": [],
   "source": [
    "plt.plot(FAV, GAM4N_N1000.real, label='N=1000')\n",
    "plt.plot(FAV, GAM4N_N100.real, label='N=100')\n",
    "plt.plot(FAV, GAM4N_N10.real, label='N=10')\n",
    "plt.plot(FAV, GAM4N_N1.real, label='N=1')\n",
    "plt.axis([.3,.5,100,500])\n",
    "plt.box\n",
    "plt.legend(loc=1)\n",
    "plt.show()"
   ]
  },
  {
   "cell_type": "markdown",
   "metadata": {},
   "source": [
    "## 1.3 Plot free energy"
   ]
  },
  {
   "cell_type": "code",
   "execution_count": 25,
   "metadata": {
    "collapsed": true
   },
   "outputs": [],
   "source": [
    "def FE1(A, CHI, gam41):\n",
    "    pi = 3.14159\n",
    "    a = -(2*pi)**(-3)*2*CHI\n",
    "    b = 0\n",
    "    c = (2*pi)**(-9)*(1/4)*gam41.real\n",
    "\n",
    "    return a*A**2 + b*A**3 + c*A**4\n",
    "\n",
    "def FE3(A, CHI, gam3, gam41, gam42):\n",
    "    pi = 3.14159\n",
    "    a = -(2*pi)**(-3)*2*CHI\n",
    "    b = (2*pi)**(-6)*(2/3/np.sqrt(3))*gam3.real\n",
    "    c = (2*pi)**(-9)*(1/12)*(gam41+4*gam42).real\n",
    "    \n",
    "    return a*A**2 + b*A**3 + c*A**4\n",
    "\n",
    "def FE6(A, CHI, gam3, gam41, gam42, gam43, gam44):\n",
    "    pi = 3.14159\n",
    "    a = -(2*pi)**(-3)*2*CHI\n",
    "    b = (2*pi)**(-6)*(4/3/np.sqrt(6))*gam3.real\n",
    "    c = (2*pi)**(-9)*(1/24)*(gam41+8*gam42+2*gam43+4*gam44).real\n",
    "    \n",
    "    return a*A**2 + b*A**3 + c*A**4"
   ]
  },
  {
   "cell_type": "markdown",
   "metadata": {
    "heading_collapsed": true
   },
   "source": [
    "### Calculate free energies"
   ]
  },
  {
   "cell_type": "code",
   "execution_count": 26,
   "metadata": {
    "hidden": true
   },
   "outputs": [],
   "source": [
    "N = 100\n",
    "FA = 0.3\n",
    "\n",
    "pset=propagator.prop_set(nlam=5)\n",
    "wigset = wd.wigner_d_vals()\n",
    "Ks = spinodal(pset, N, FA)\n",
    "\n",
    "# calculate vertices\n",
    "gam3 = gamma3(pset, N, FA, set3Ks(Ks)).real\n",
    "gam41 = gamma4(pset, wigset, N, FA, set4Ks1(Ks)).real\n",
    "gam42 = gamma4(pset, wigset, N, FA, set4Ks2(Ks)).real\n",
    "gam43 = gamma4(pset, wigset, N, FA, set4Ks3(Ks)).real\n",
    "gam44 = gamma4(pset, wigset, N, FA, set4Ks4(Ks)).real"
   ]
  },
  {
   "cell_type": "code",
   "execution_count": 27,
   "metadata": {
    "hidden": true
   },
   "outputs": [
    {
     "data": {
      "image/png": "[encoded data removed]",
      "text/plain": [
       "<matplotlib.figure.Figure at 0x112306438>"
      ]
     },
     "metadata": {},
     "output_type": "display_data"
    }
   ],
   "source": [
    "CHI = 0/N\n",
    "AV = np.linspace(0, 50, 100)\n",
    "\n",
    "plt.plot(AV, FE1(AV, CHI, gam41), label='LAM')\n",
    "plt.plot(AV, FE3(AV, CHI, gam3, gam41, gam42), label='CYL')\n",
    "plt.plot(AV, FE6(AV, CHI, gam3, gam41, gam42, gam43, gam44), label='BCC')\n",
    "plt.xlabel('Amplitude')\n",
    "plt.ylabel('Free Energy')\n",
    "plt.legend()\n",
    "# plt.axis([0,50,-0.1,0.2])\n",
    "plt.xlim([0,50])\n",
    "plt.show()"
   ]
  },
  {
   "cell_type": "code",
   "execution_count": 28,
   "metadata": {
    "hidden": true
   },
   "outputs": [
    {
     "data": {
      "image/png": "[encoded data removed]",
      "text/plain": [
       "<matplotlib.figure.Figure at 0x112eb0080>"
      ]
     },
     "metadata": {},
     "output_type": "display_data"
    }
   ],
   "source": [
    "CHI = 1/N\n",
    "AV = np.linspace(0, 50, 100)\n",
    "\n",
    "plt.plot(AV, FE1(AV, CHI, gam41), label='LAM')\n",
    "plt.plot(AV, FE3(AV, CHI, gam3, gam41, gam42), label='CYL')\n",
    "plt.plot(AV, FE6(AV, CHI, gam3, gam41, gam42, gam43, gam44), label='BCC')\n",
    "plt.xlabel('Amplitude')\n",
    "plt.ylabel('Free Energy')\n",
    "plt.legend()\n",
    "# plt.axis([0,50,-0.1,0.2])\n",
    "plt.xlim([0,50])\n",
    "plt.show()"
   ]
  },
  {
   "cell_type": "code",
   "execution_count": 29,
   "metadata": {
    "hidden": true
   },
   "outputs": [
    {
     "name": "stdout",
     "output_type": "stream",
     "text": [
      "LAM FE\n",
      "(array([ 22.36132813]), -0.020158468339313139, 25, 50, 0)\n",
      "CYL FE\n",
      "(array([ 28.48085938]), -0.052295153023099353, 30, 60, 0)\n"
     ]
    }
   ],
   "source": [
    "print('LAM FE')\n",
    "print(optimize.fmin(lambda A: FE1(A, CHI, gam41),\n",
    "                    1, disp=False, full_output=1))\n",
    "print('CYL FE')\n",
    "print(optimize.fmin(lambda A: FE3(A, CHI, gam3, gam41, gam42),\n",
    "                    1e-1, disp=False, full_output=1))"
   ]
  },
  {
   "cell_type": "markdown",
   "metadata": {},
   "source": [
    "### Make phase diagrams"
   ]
  },
  {
   "cell_type": "code",
   "execution_count": 10,
   "metadata": {
    "collapsed": true
   },
   "outputs": [],
   "source": [
    "def chioot(N, FA):\n",
    "    pset=propagator.prop_set(nlam=5)\n",
    "    wigset = wd.wigner_d_vals()\n",
    "    Ks = spinodal(pset, N, FA)\n",
    "    \n",
    "    # calculate vertices\n",
    "    gam3 = gamma3(pset, N, FA, set3Ks(Ks)).real\n",
    "    gam41 = gamma4(pset, wigset, N, FA, set4Ks1(Ks)).real\n",
    "    gam42 = gamma4(pset, wigset, N, FA, set4Ks2(Ks)).real\n",
    "    gam43 = gamma4(pset, wigset, N, FA, set4Ks3(Ks)).real\n",
    "    gam44 = gamma4(pset, wigset, N, FA, set4Ks4(Ks)).real\n",
    "    \n",
    "    # calculate oot temperatures\n",
    "    A0 = 1e-1\n",
    "    FE13 = lambda CHI: \\\n",
    "    optimize.fmin(lambda A: FE1(A, CHI, gam41),\n",
    "                  A0, disp=False, full_output=1)[1] - \\\n",
    "    optimize.fmin(lambda A: FE3(A, CHI, gam3, gam41, gam42),\n",
    "                  A0, disp=False, full_output=1)[1]\n",
    "    \n",
    "    FE36 = lambda CHI: \\\n",
    "    optimize.fmin(lambda A: FE3(A, CHI, gam3, gam41, gam42),\n",
    "                  A0, disp=False, full_output=1)[1] -\\\n",
    "    optimize.fmin(lambda A: FE6(A, CHI, gam3, gam41, gam42, gam43, gam44),\n",
    "                  A0, disp=False, full_output=1)[1]\n",
    "    \n",
    "    chi13 = optimize.ridder(FE13, 0, 100/N)\n",
    "    chi36 = optimize.ridder(FE36, 0, 100/N)\n",
    "    \n",
    "    return chi13, chi36"
   ]
  },
  {
   "cell_type": "code",
   "execution_count": 251,
   "metadata": {
    "scrolled": true
   },
   "outputs": [
    {
     "ename": "NameError",
     "evalue": "name 'chi36V' is not defined",
     "output_type": "error",
     "traceback": [
      "\u001b[0;31m---------------------------------------------------------------------------\u001b[0m",
      "\u001b[0;31mNameError\u001b[0m                                 Traceback (most recent call last)",
      "\u001b[0;32m<ipython-input-251-e18c50297d83>\u001b[0m in \u001b[0;36m<module>\u001b[0;34m()\u001b[0m\n\u001b[1;32m      7\u001b[0m \u001b[0;32mfor\u001b[0m \u001b[0mi\u001b[0m\u001b[0;34m,\u001b[0m \u001b[0mFA\u001b[0m \u001b[0;32min\u001b[0m \u001b[0menumerate\u001b[0m\u001b[0;34m(\u001b[0m\u001b[0mFAV\u001b[0m\u001b[0;34m)\u001b[0m\u001b[0;34m:\u001b[0m\u001b[0;34m\u001b[0m\u001b[0m\n\u001b[1;32m      8\u001b[0m     \u001b[0mCHIsV\u001b[0m\u001b[0;34m[\u001b[0m\u001b[0mi\u001b[0m\u001b[0;34m]\u001b[0m \u001b[0;34m=\u001b[0m \u001b[0mchis\u001b[0m\u001b[0;34m(\u001b[0m\u001b[0mpset\u001b[0m\u001b[0;34m,\u001b[0m \u001b[0mN\u001b[0m\u001b[0;34m,\u001b[0m \u001b[0mFA\u001b[0m\u001b[0;34m)\u001b[0m\u001b[0;34m\u001b[0m\u001b[0m\n\u001b[0;32m----> 9\u001b[0;31m     \u001b[0mCHI13V\u001b[0m\u001b[0;34m[\u001b[0m\u001b[0mi\u001b[0m\u001b[0;34m]\u001b[0m\u001b[0;34m,\u001b[0m \u001b[0mchi36V\u001b[0m\u001b[0;34m[\u001b[0m\u001b[0mi\u001b[0m\u001b[0;34m]\u001b[0m \u001b[0;34m=\u001b[0m \u001b[0mchioot\u001b[0m\u001b[0;34m(\u001b[0m\u001b[0mN\u001b[0m\u001b[0;34m,\u001b[0m \u001b[0mFA\u001b[0m\u001b[0;34m)\u001b[0m\u001b[0;34m\u001b[0m\u001b[0m\n\u001b[0m\u001b[1;32m     10\u001b[0m     \u001b[0mprint\u001b[0m\u001b[0;34m(\u001b[0m\u001b[0mN\u001b[0m\u001b[0;34m,\u001b[0m \u001b[0mFA\u001b[0m\u001b[0;34m,\u001b[0m \u001b[0mCHIsV\u001b[0m\u001b[0;34m[\u001b[0m\u001b[0mi\u001b[0m\u001b[0;34m]\u001b[0m\u001b[0;34m,\u001b[0m \u001b[0mCHI13V\u001b[0m\u001b[0;34m[\u001b[0m\u001b[0mi\u001b[0m\u001b[0;34m]\u001b[0m\u001b[0;34m,\u001b[0m \u001b[0mCHI36V\u001b[0m\u001b[0;34m[\u001b[0m\u001b[0mi\u001b[0m\u001b[0;34m]\u001b[0m\u001b[0;34m)\u001b[0m\u001b[0;34m\u001b[0m\u001b[0m\n",
      "\u001b[0;31mNameError\u001b[0m: name 'chi36V' is not defined"
     ]
    }
   ],
   "source": [
    "N = 100\n",
    "FAV = np.linspace(.10, .48, 21)\n",
    "CHIsV = np.zeros((len(FAV), 1))\n",
    "CHI13V = np.zeros((len(FAV), 1))\n",
    "CHI36V = np.zeros((len(FAV), 1))\n",
    "\n",
    "for i, FA in enumerate(FAV):\n",
    "    CHIsV[i] = chis(pset, N, FA)\n",
    "    CHI13V[i], chi36V[i] = chioot(N, FA)\n",
    "    print(N, FA, CHIsV[i], CHI13V[i], CHI36V[i])"
   ]
  },
  {
   "cell_type": "markdown",
   "metadata": {
    "collapsed": true
   },
   "source": [
    "## 1.4 Look at UV divergence"
   ]
  },
  {
   "cell_type": "markdown",
   "metadata": {
    "heading_collapsed": true
   },
   "source": [
    "### First N = 1000"
   ]
  },
  {
   "cell_type": "code",
   "execution_count": null,
   "metadata": {
    "collapsed": true,
    "hidden": true
   },
   "outputs": [],
   "source": [
    "N = 1000\n",
    "FA = 0.5\n",
    "\n",
    "normK = 1  # equals 2lp if =1\n",
    "# normK = np.sqrt(N/6)\n",
    "# KV = np.logspace(-1, 2, 201)/normK\n",
    "KV = np.linspace(1e-2, 0.5, 1001)/normK\n",
    "p = KV*normK\n",
    "CHI = 10/N\n",
    "\n",
    "pset=propagator.prop_set(nlam=1)\n",
    "wigset = wd.wigner_d_vals()\n",
    "\n",
    "KS = spinodal(pset, N, FA)\n",
    "GAM4N1 = np.zeros((len(KV),), dtype='complex')\n",
    "GAM2 = np.zeros((len(KV),), dtype='complex')\n",
    "for ii, K in enumerate(KV):\n",
    "    Ks41 = set4Ks1(K)\n",
    "    GAM4N1[ii] = gamma4(pset, wigset, N, FA, Ks41)\n",
    "    GAM2[ii] = gamma2(pset, N, FA, K, CHI)"
   ]
  },
  {
   "cell_type": "code",
   "execution_count": null,
   "metadata": {
    "collapsed": true,
    "hidden": true
   },
   "outputs": [],
   "source": [
    "fig, ax1 = plt.subplots(figsize=(6,4.5))\n",
    "ax1.loglog(p, 1./GAM2.real, '-', color='r')\n",
    "ax1.set_xlabel('$2l_{p}q$')\n",
    "\n",
    "# Make the y-axis label, ticks and tick labels match the line color.\n",
    "ax1.set_ylabel('$1/\\Gamma{2}$', color='r')\n",
    "ax1.tick_params('y', colors='r')\n",
    "\n",
    "ax2 = ax1.twinx()\n",
    "ax2.loglog(p, GAM4N1.real, 'b-')\n",
    "ax2.set_ylabel('$\\Gamma_{4}$', color='b')\n",
    "ax2.tick_params('y', colors='b')\n",
    "\n",
    "# add power laws\n",
    "plotlog(6e-1, 1.5e1, -2, xrange=0.5, color='r', plt=ax1)\n",
    "plotlog(6e-1, 3e0, 2, xrange=0.4, color='b', plt=ax2)\n",
    "plotlog(5e1, 2.5e-2, -1, xrange=0.5, color='r', plt=ax1)\n",
    "plotlog(5e1, 9e2, 1, xrange=0.5, color='b', plt=ax2)\n",
    "\n",
    "plt.xlim(0.1,1e2)\n",
    "fig.tight_layout()\n",
    "plt.title('N='+str(N))\n",
    "# plt.show()\n",
    "plt.savefig('figs/GAMsN'+str(N)+'.eps')"
   ]
  },
  {
   "cell_type": "code",
   "execution_count": null,
   "metadata": {
    "collapsed": true,
    "hidden": true
   },
   "outputs": [],
   "source": [
    "# Brazovskii approx.\n",
    "KSs41 = set4Ks1(KS)\n",
    "GAM4KS = gamma4(pset, wigset, N, FA, KSs41)\n",
    "pS = KS*normK\n",
    "braz = pS**2*GAM4KS.real/GAM2.real"
   ]
  },
  {
   "cell_type": "code",
   "execution_count": null,
   "metadata": {
    "collapsed": true,
    "hidden": true
   },
   "outputs": [],
   "source": [
    "plt.figure(figsize=(6,4.5))\n",
    "plt.loglog(p, p**2*GAM4N1.real/GAM2.real, 'k-', label='exact integrand')\n",
    "plt.loglog(p, braz, 'k-.', label='Brazovskii approx.')\n",
    "plt.axis([0.1,1e2,1e-5,1e6])\n",
    "plotlog(50,5e4,2)\n",
    "plotlog(6e-1,1.5e1,2,xrange=0.4)\n",
    "plt.legend()\n",
    "plt.xlabel('$2l_{p}q$')\n",
    "plt.ylabel('Integrand')\n",
    "plt.title('N='+str(N))\n",
    "# plt.show()\n",
    "plt.savefig('figs/BrazN'+str(N)+'.eps')"
   ]
  },
  {
   "cell_type": "code",
   "execution_count": null,
   "metadata": {
    "collapsed": true,
    "hidden": true
   },
   "outputs": [],
   "source": [
    "plt.figure(figsize=(6,4.5))\n",
    "plt.plot(p, p**2*GAM4N1.real/GAM2.real, 'k-', label='exact integrand')\n",
    "plt.plot(p, braz, 'k--', label='Brazovskii approx.')\n",
    "plt.axis([0.1,0.5,0,5])\n",
    "plt.title('N='+str(N))\n",
    "plt.xlabel('$2l_{p}q$')\n",
    "plt.ylabel('Integrand')\n",
    "plt.legend()\n",
    "# plt.show()\n",
    "plt.savefig('figs/Braz2N'+str(N)+'.eps')"
   ]
  },
  {
   "cell_type": "markdown",
   "metadata": {
    "heading_collapsed": true
   },
   "source": [
    "### Consider N = 1"
   ]
  },
  {
   "cell_type": "code",
   "execution_count": null,
   "metadata": {
    "collapsed": true,
    "hidden": true
   },
   "outputs": [],
   "source": [
    "N = 1\n",
    "FA = 0.5\n",
    "KS = spinodal(pset, N, FA)\n",
    "\n",
    "normK = 1  # equals 2lp if =1\n",
    "# normK = np.sqrt(N/6)\n",
    "KV = np.linspace(1e-2, 20, 501)/normK\n",
    "# KV = np.logspace(-1, 2, 201)/normK\n",
    "p = KV*normK\n",
    "CHI = 6/N\n",
    "\n",
    "pset=propagator.prop_set(nlam=2)\n",
    "wigset = wd.wigner_d_vals()\n",
    "\n",
    "GAM4N1 = np.zeros((len(KV),), dtype='complex')\n",
    "GAM2 = np.zeros((len(KV),), dtype='complex')\n",
    "for ii, K in enumerate(KV):\n",
    "    print(ii)\n",
    "    Ks41 = set4Ks1(K)\n",
    "    GAM4N1[ii] = gamma4(pset, wigset, N, FA, Ks41)\n",
    "    GAM2[ii] = gamma2(pset, N, FA, K, CHI)"
   ]
  },
  {
   "cell_type": "code",
   "execution_count": null,
   "metadata": {
    "collapsed": true,
    "hidden": true
   },
   "outputs": [],
   "source": [
    "fig, ax1 = plt.subplots(figsize=(6,4.5))\n",
    "ax1.loglog(p, 1./GAM2.real, '-', color='r')\n",
    "ax1.set_xlabel('$2l_{p}q$')\n",
    "\n",
    "# Make the y-axis label, ticks and tick labels match the line color.\n",
    "ax1.set_ylabel('$1/\\Gamma{2}$', color='r')\n",
    "ax1.tick_params('y', colors='r')\n",
    "\n",
    "ax2 = ax1.twinx()\n",
    "ax2.loglog(p, GAM4N1.real, 'b-')\n",
    "ax2.set_ylabel('$\\Gamma_{4}$', color='b')\n",
    "ax2.tick_params('y', colors='b')\n",
    "\n",
    "# add power laws\n",
    "plotlog(5e1, 2.5e-2, -1.05, xrange=0.5, color='r', plt=ax1)\n",
    "plotlog(5e1, 1.4e3, 1, xrange=0.5, color='b', plt=ax2)\n",
    "\n",
    "plt.xlim(0.1,1e2)\n",
    "fig.tight_layout()\n",
    "plt.title('N='+str(N))\n",
    "# plt.show()\n",
    "plt.savefig('figs/GAMsN'+str(N)+'.eps')"
   ]
  },
  {
   "cell_type": "code",
   "execution_count": null,
   "metadata": {
    "collapsed": true,
    "hidden": true
   },
   "outputs": [],
   "source": [
    "# Brazovskii approx.\n",
    "KSs41 = set4Ks1(KS)\n",
    "GAM4KS = gamma4(pset, wigset, N, FA, KSs41)\n",
    "pS = KS*normK\n",
    "braz = pS**2*GAM4KS.real/GAM2.real"
   ]
  },
  {
   "cell_type": "code",
   "execution_count": null,
   "metadata": {
    "collapsed": true,
    "hidden": true
   },
   "outputs": [],
   "source": [
    "plt.figure(figsize=(6,4.5))\n",
    "plt.loglog(p, p**2*GAM4N1.real/GAM2.real, 'k-', label='exact integrand')\n",
    "plt.loglog(p, braz, 'k-.', label='Brazovskii approx.')\n",
    "plt.axis([0.1,1e2,1e-1,1e6])\n",
    "plotlog(50,6e4,2)\n",
    "plt.legend()\n",
    "plt.xlabel('$2l_{p}q$')\n",
    "plt.ylabel('Integrand')\n",
    "plt.title('N='+str(N))\n",
    "# plt.show()\n",
    "plt.savefig('figs/BrazN'+str(N)+'.eps')"
   ]
  },
  {
   "cell_type": "code",
   "execution_count": null,
   "metadata": {
    "collapsed": true,
    "hidden": true
   },
   "outputs": [],
   "source": [
    "plt.figure(figsize=(6,4.5))\n",
    "plt.plot(p, p**2*GAM4N1.real/GAM2.real, 'k-', label='exact integrand')\n",
    "plt.plot(p, braz, 'k--', label='Brazovskii approx.')\n",
    "plt.axis([0.1,20,0,2e4])\n",
    "plt.legend()\n",
    "plt.xlabel('$2l_{p}q$')\n",
    "plt.ylabel('Integrand')\n",
    "plt.title('N='+str(N))\n",
    "plt.legend()\n",
    "# plt.show()\n",
    "plt.savefig('figs/Braz2N'+str(N)+'.eps')"
   ]
  },
  {
   "cell_type": "markdown",
   "metadata": {
    "heading_collapsed": true
   },
   "source": [
    "## Check numerical convergence "
   ]
  },
  {
   "cell_type": "code",
   "execution_count": null,
   "metadata": {
    "collapsed": true,
    "hidden": true
   },
   "outputs": [],
   "source": [
    "# NV = np.logspace(0,3,11)\n",
    "NV = [1e3]\n",
    "G4N = np.zeros((len(NV)), dtype='complex')\n",
    "FA = 0.5\n",
    "\n",
    "pset=propagator.prop_set(nlam=1)\n",
    "wigset = wd.wigner_d_vals()\n",
    "\n",
    "for ind, N in enumerate(NV):\n",
    "    Ks = set4Ks1(spinodal(pset, N, FA))\n",
    "    G4N[ind] = gamma4(pset, wigset, N, FA, Ks)*N\n",
    "    print(N, G4N[ind])"
   ]
  },
  {
   "cell_type": "code",
   "execution_count": null,
   "metadata": {
    "collapsed": true,
    "hidden": true
   },
   "outputs": [],
   "source": [
    "NV = np.logspace(0,3,11)\n",
    "G4N = np.zeros((len(NV)), dtype='complex')\n",
    "S3N = np.zeros((len(NV)), dtype='complex')\n",
    "FA = 0.5\n",
    "\n",
    "pset=propagator.prop_set(nlam=5)\n",
    "wigset = wd.wigner_d_vals()\n",
    "\n",
    "for ind, N in enumerate(NV):\n",
    "    Ks = set4Ks1(spinodal(pset, N, FA))\n",
    "    G4N[ind] = gamma4(pset, wigset, N, FA, Ks)*N\n",
    "    print(N, G4N[ind])"
   ]
  },
  {
   "cell_type": "code",
   "execution_count": null,
   "metadata": {
    "collapsed": true,
    "hidden": true
   },
   "outputs": [],
   "source": [
    "plt.semilogx(NV, G4N)\n",
    "plt.show()"
   ]
  },
  {
   "cell_type": "markdown",
   "metadata": {
    "heading_collapsed": true
   },
   "source": [
    "## Write to file"
   ]
  },
  {
   "cell_type": "code",
   "execution_count": null,
   "metadata": {
    "collapsed": true,
    "hidden": true
   },
   "outputs": [],
   "source": [
    "# Figure 1 data\n",
    "\n",
    "filename = 'data/fig1data'\n",
    "f1 = open(filename, 'w')\n",
    "\n",
    "FAV = [0.5]\n",
    "# NV = np.logspace(-1,3,81)\n",
    "NV = [1, 2, 4, 10, 20, 40, 100, 200, 400, 1000]\n",
    "\n",
    "pset=propagator.prop_set(nlam=5)\n",
    "wigset = wd.wigner_d_vals()\n",
    "\n",
    "GAM3N = np.zeros((len(NV), len(FAV)), dtype='complex')\n",
    "GAM4N1 = np.zeros((len(NV), len(FAV)), dtype='complex')\n",
    "GAM4N2 = np.zeros((len(NV), len(FAV)), dtype='complex')\n",
    "GAM4N3 = np.zeros((len(NV), len(FAV)), dtype='complex')\n",
    "GAM4N4 = np.zeros((len(NV), len(FAV)), dtype='complex')\n",
    "for ii, N in enumerate(NV):\n",
    "    for jj, FA in enumerate(FAV):\n",
    "        KS = spinodal(pset, N, FA)\n",
    "        \n",
    "        Ks41 = set4Ks1(KS)\n",
    "        GAM4N1[ii][jj] = gamma4(pset, wigset, N, FA, Ks41)*N\n",
    "        f1.write(' %.4f, %.2f, %.2f, %.4f\\n' %(N, FA, 0, GAM4N1[ii][jj].real))\n",
    "        print(' %.4f, %.2f, %.2f, %.4f' %(N, FA, 0, GAM4N1[ii][jj].real))\n",
    "f1.close()"
   ]
  },
  {
   "cell_type": "code",
   "execution_count": null,
   "metadata": {
    "collapsed": true,
    "hidden": true
   },
   "outputs": [],
   "source": [
    "# Figure 2 data\n",
    "\n",
    "filename = 'data/fig2data'\n",
    "f2 = open(filename, 'w')\n",
    "\n",
    "FAV = np.linspace(0.1,0.5,41)\n",
    "NV = [100,50,10]\n",
    "\n",
    "pset=propagator.prop_set(nlam=3)\n",
    "wigset = wd.wigner_d_vals()\n",
    "\n",
    "GAM3N = np.zeros((len(NV), len(FAV)), dtype='complex')\n",
    "GAM4N1 = np.zeros((len(NV), len(FAV)), dtype='complex')\n",
    "GAM4N2 = np.zeros((len(NV), len(FAV)), dtype='complex')\n",
    "GAM4N3 = np.zeros((len(NV), len(FAV)), dtype='complex')\n",
    "GAM4N4 = np.zeros((len(NV), len(FAV)), dtype='complex')\n",
    "for ii, N in enumerate(NV):\n",
    "    for jj, FA in enumerate(FAV):\n",
    "        KS = spinodal(pset, N, FA)\n",
    "        \n",
    "        Ks3 = set3Ks(KS)\n",
    "        Ks41 = set4Ks1(KS)\n",
    "        Ks42 = set4Ks2(KS)\n",
    "        Ks43 = set4Ks3(KS)\n",
    "        Ks44 = set4Ks4(KS)\n",
    "        \n",
    "        GAM3N[ii][jj] = gamma3(pset, N, FA, Ks3)*N\n",
    "        GAM4N1[ii][jj] = gamma4(pset, wigset, N, FA, Ks41)*N\n",
    "        GAM4N2[ii][jj] = gamma4(pset, wigset, N, FA, Ks42)*N\n",
    "        GAM4N3[ii][jj] = gamma4(pset, wigset, N, FA, Ks43)*N\n",
    "        GAM4N4[ii][jj] = gamma4(pset, wigset, N, FA, Ks44)*N\n",
    "        f2.write(' %.2f, %.2f, %.4f, %.4f, %.4f, %.4f, %.4f\\n' %(N, FA, \n",
    "                                           GAM3N[ii][jj].real, \n",
    "                                           GAM4N1[ii][jj].real, GAM4N2[ii][jj].real,\n",
    "                                           GAM4N3[ii][jj].real, GAM4N4[ii][jj].real))\n",
    "        print('%.2f, %.2f, %.4f, %.4f, %.4f, %.4f, %.4f' %(N, FA, \n",
    "                                           GAM3N[ii][jj].real, \n",
    "                                           GAM4N1[ii][jj].real, GAM4N2[ii][jj].real,\n",
    "                                           GAM4N3[ii][jj].real, GAM4N4[ii][jj].real))\n",
    "f2.close()"
   ]
  },
  {
   "cell_type": "markdown",
   "metadata": {
    "collapsed": true
   },
   "source": [
    "# 3. Solution vertices"
   ]
  },
  {
   "cell_type": "markdown",
   "metadata": {},
   "source": [
    "## 3.1 Vertices at all qs"
   ]
  },
  {
   "cell_type": "markdown",
   "metadata": {
    "heading_collapsed": true
   },
   "source": [
    "### 3.1.1 Gamma2 at all q"
   ]
  },
  {
   "cell_type": "code",
   "execution_count": 21,
   "metadata": {
    "collapsed": true,
    "hidden": true
   },
   "outputs": [],
   "source": [
    "N=100\n",
    "FA=0.2\n",
    "CHIAB, CHIAS, CHIBS = 0, 0, 0\n",
    "PHIP = 0.5\n",
    "\n",
    "pset=propagator.prop_set(nlam=1)\n",
    "KV = np.logspace(-1,3,100)\n",
    "gam2sol = np.zeros((len(KV), 2, 2),dtype=type(1+1j))\n",
    "for i, K in enumerate(KV):\n",
    "    gam2sol[i] = gamma2sol(pset, N, FA, PHIP, K, CHIAB, CHIAS, CHIBS)"
   ]
  },
  {
   "cell_type": "code",
   "execution_count": 22,
   "metadata": {
    "hidden": true
   },
   "outputs": [
    {
     "data": {
      "image/png": "[encoded data removed]",
      "text/plain": [
       "<matplotlib.figure.Figure at 0x11615d5c0>"
      ]
     },
     "metadata": {},
     "output_type": "display_data"
    }
   ],
   "source": [
    "plt.loglog(KV, gam2sol[..., 0, 0].real, label='$\\Gamma_2(1,1)$', linewidth=3)\n",
    "plt.loglog(KV, gam2sol[..., 0, 1].real, label='$\\Gamma_2(1,2)$', linewidth=3)\n",
    "plt.loglog(KV, gam2sol[..., 1, 1].real, label='$\\Gamma_2(2,2)$', linewidth=3)\n",
    "plt.legend(fontsize=15)\n",
    "plt.xlim(1e-1,1e2)\n",
    "# plt.ylim(1e-3,1e3)\n",
    "plt.xlabel('$l_{p}q$', fontsize=15)\n",
    "plt.ylabel('Quadratic Coefficient $\\Gamma_{2}$', fontsize=15)\n",
    "# plt.show()\n",
    "plt.savefig('figs/gam21.eps')"
   ]
  },
  {
   "cell_type": "markdown",
   "metadata": {
    "heading_collapsed": true
   },
   "source": [
    "### 3.1.2 Gamma3 at all q"
   ]
  },
  {
   "cell_type": "code",
   "execution_count": null,
   "metadata": {
    "collapsed": true,
    "hidden": true
   },
   "outputs": [],
   "source": [
    "N=100\n",
    "FA=0.2\n",
    "PHIP = 0.5\n",
    "\n",
    "pset=propagator.prop_set(nlam=1)\n",
    "KV = np.logspace(-1,3,100)\n",
    "gam3sol = np.zeros((len(KV), 2, 2, 2),dtype=type(1+1j))\n",
    "for i, K in enumerate(KV):\n",
    "    Ks = set3Ks(K)\n",
    "    gam3sol[i] = gamma3sol(pset, N, FA, PHIP, Ks)"
   ]
  },
  {
   "cell_type": "code",
   "execution_count": null,
   "metadata": {
    "collapsed": true,
    "hidden": true
   },
   "outputs": [],
   "source": [
    "plt.loglog(KV, -gam3sol[..., 0, 0, 0].real, label='$-\\Gamma_3(1,1,1)$', linewidth=3)\n",
    "plt.loglog(KV, -gam3sol[..., 0, 0, 1].real, label='$-\\Gamma_3(1,1,2)$', linewidth=3)\n",
    "plt.loglog(KV, -gam3sol[..., 1, 1, 1].real, label='$-\\Gamma_3(2,2,2)$', linewidth=3)\n",
    "plt.legend(fontsize=15)\n",
    "plt.xlim(1e-1,1e2)\n",
    "# plt.ylim(1e-1,1e3)\n",
    "plt.xlabel('$l_{p}q$', fontsize=15)\n",
    "plt.ylabel('Cubic Coefficient $-\\Gamma_{3}$', fontsize=13)\n",
    "# plt.show()\n",
    "plt.savefig('figs/gam31.eps')"
   ]
  },
  {
   "cell_type": "markdown",
   "metadata": {
    "heading_collapsed": true
   },
   "source": [
    "### 3.1.3 Gamma4 at all q"
   ]
  },
  {
   "cell_type": "code",
   "execution_count": null,
   "metadata": {
    "collapsed": true,
    "hidden": true
   },
   "outputs": [],
   "source": [
    "N=100\n",
    "FA=0.2\n",
    "PHIP = 0.5\n",
    "\n",
    "pset=propagator.prop_set(nlam=2)\n",
    "wigset = wd.wigner_d_vals()\n",
    "KV = np.logspace(-1,3,100)\n",
    "gam4sol = np.zeros((len(KV), 2, 2, 2, 2),dtype=type(1+1j))\n",
    "for i, K in enumerate(KV):\n",
    "    Ks = set4Ks(K)\n",
    "    gam4sol[i] = gamma4sol(pset, wigset, N, FA, PHIP, Ks)"
   ]
  },
  {
   "cell_type": "code",
   "execution_count": null,
   "metadata": {
    "collapsed": true,
    "hidden": true
   },
   "outputs": [],
   "source": [
    "plt.loglog(KV, gam4sol[..., 0, 0, 0, 0].real, label='$\\Gamma_4(1,1,1,1)$', linewidth=3)\n",
    "plt.loglog(KV, gam4sol[..., 0, 0, 1, 1].real, label='$\\Gamma_4(1,1,2,2)$', linewidth=3)\n",
    "plt.loglog(KV, gam4sol[..., 1, 1, 1, 1].real, label='$\\Gamma_4(2,2,2,2)$', linewidth=3)\n",
    "plt.legend(fontsize=15)\n",
    "plt.xlim(1e-1,1e2)\n",
    "# plt.ylim(1e-1,1e3)\n",
    "plt.xlabel('$l_{p}q$', fontsize=13)\n",
    "plt.ylabel('Quartic Coefficient $\\Gamma_{4}$', fontsize=15)\n",
    "# plt.show()\n",
    "plt.savefig('figs/gam41.eps')"
   ]
  },
  {
   "cell_type": "markdown",
   "metadata": {
    "collapsed": true,
    "heading_collapsed": true
   },
   "source": [
    "## Spinodals of diblock copolymer in solution"
   ]
  },
  {
   "cell_type": "code",
   "execution_count": 46,
   "metadata": {
    "collapsed": true,
    "hidden": true
   },
   "outputs": [],
   "source": [
    "N=100\n",
    "FA=0.2\n",
    "CHIAB, CHIAS, CHIBS = 0, 0, 0\n",
    "PHIP = 0.5\n",
    "\n",
    "pset=propagator.prop_set(nlam=1)\n",
    "KV = np.logspace(-1,3,100)\n",
    "# gam2sol = np.zeros((len(KV), 2, 2),dtype=type(1+1j))\n",
    "mineig = np.zeros((len(KV), 1),dtype=type(1+1j))\n",
    "maxeig = np.zeros((len(KV), 1),dtype=type(1+1j))\n",
    "for i, K in enumerate(KV):\n",
    "    maxeig[i], _ = gamma2sol_biggereig(pset, N, FA, PHIP, K, CHIAB, CHIAS, CHIBS)\n",
    "    mineig[i], _ = gamma2sol_smallereig(pset, N, FA, PHIP, K, CHIAB, CHIAS, CHIBS)"
   ]
  },
  {
   "cell_type": "code",
   "execution_count": 47,
   "metadata": {
    "hidden": true
   },
   "outputs": [
    {
     "data": {
      "image/png": "[encoded data removed]",
      "text/plain": [
       "<matplotlib.figure.Figure at 0x116187da0>"
      ]
     },
     "metadata": {},
     "output_type": "display_data"
    }
   ],
   "source": [
    "plt.loglog(KV, 1./mineig.real)\n",
    "plt.loglog(KV, 1./maxeig.real)\n",
    "# plt.loglog(KV, 1./mineig.imag)\n",
    "# plt.loglog(KV, abs(1./maxeig))\n",
    "# plt.axis([1e-1,1e3,1e-3,1])\n",
    "plt.show()"
   ]
  },
  {
   "cell_type": "code",
   "execution_count": null,
   "metadata": {
    "collapsed": true,
    "hidden": true
   },
   "outputs": [],
   "source": []
  },
  {
   "cell_type": "code",
   "execution_count": 81,
   "metadata": {
    "collapsed": true,
    "hidden": true
   },
   "outputs": [],
   "source": [
    "N=1\n",
    "FA=0.2\n",
    "CHIAB, CHIAS, CHIBS = 5/N/PHIP, 0, 0\n",
    "PHIP = 0.5\n",
    "\n",
    "pset=propagator.prop_set(nlam=1)\n",
    "KV = np.logspace(-1,3,100)\n",
    "# gam2sol = np.zeros((len(KV), 2, 2),dtype=type(1+1j))\n",
    "mineig = np.zeros((len(KV), 1),dtype=type(1+1j))\n",
    "maxeig = np.zeros((len(KV), 1),dtype=type(1+1j))\n",
    "for i, K in enumerate(KV):\n",
    "    maxeig[i], _ = gamma2sol_biggereig(pset, N, FA, PHIP, K, CHIAB, CHIAS, CHIBS)\n",
    "    mineig[i], _ = gamma2sol_smallereig(pset, N, FA, PHIP, K, CHIAB, CHIAS, CHIBS)"
   ]
  },
  {
   "cell_type": "code",
   "execution_count": 69,
   "metadata": {
    "hidden": true
   },
   "outputs": [
    {
     "data": {
      "image/png": "[encoded data removed]",
      "text/plain": [
       "<matplotlib.figure.Figure at 0x11620fdd8>"
      ]
     },
     "metadata": {},
     "output_type": "display_data"
    }
   ],
   "source": [
    "plt.loglog(KV, 1./mineig.real)\n",
    "plt.loglog(KV, 1./maxeig.real)\n",
    "# plt.loglog(KV, 1./mineig.imag)\n",
    "# plt.loglog(KV, abs(1./maxeig))\n",
    "# plt.axis([1e-1,1e3,1e-3,1])\n",
    "plt.show()"
   ]
  },
  {
   "cell_type": "markdown",
   "metadata": {},
   "source": [
    "## find spinodals"
   ]
  },
  {
   "cell_type": "code",
   "execution_count": 169,
   "metadata": {
    "collapsed": true
   },
   "outputs": [],
   "source": [
    "N=5\n",
    "FA=0.5\n",
    "CHIAB, CHIAS, CHIBS = 0, 0, 0\n",
    "PHIP = 0.99\n",
    "\n",
    "pset=propagator.prop_set(nlam=1)"
   ]
  },
  {
   "cell_type": "code",
   "execution_count": 170,
   "metadata": {
    "collapsed": true
   },
   "outputs": [],
   "source": [
    "FAV = np.linspace(.1, .9, 21)\n",
    "CHIABsV = np.zeros((len(FAV), 1))\n",
    "KsV = np.zeros((len(FAV), 1))\n",
    "for ind, FA in enumerate(FAV):\n",
    "    CHIABsV[ind], KsV[ind] = gamma2sol_spinodal(pset, N, FA, PHIP)"
   ]
  },
  {
   "cell_type": "code",
   "execution_count": 171,
   "metadata": {},
   "outputs": [
    {
     "data": {
      "image/png": "[encoded data removed]",
      "text/plain": [
       "<matplotlib.figure.Figure at 0x10a6dbbe0>"
      ]
     },
     "metadata": {},
     "output_type": "display_data"
    }
   ],
   "source": [
    "plt.plot(FAV, CHIABsV*N*PHIP)\n",
    "plt.show()"
   ]
  },
  {
   "cell_type": "code",
   "execution_count": 172,
   "metadata": {},
   "outputs": [
    {
     "data": {
      "image/png": "[encoded data removed]",
      "text/plain": [
       "<matplotlib.figure.Figure at 0x1097e77b8>"
      ]
     },
     "metadata": {},
     "output_type": "display_data"
    }
   ],
   "source": [
    "plt.plot(FAV, KsV)\n",
    "plt.show()"
   ]
  },
  {
   "cell_type": "markdown",
   "metadata": {},
   "source": [
    "## plot free energy"
   ]
  },
  {
   "cell_type": "code",
   "execution_count": 59,
   "metadata": {},
   "outputs": [],
   "source": [
    "def FE1sol(A1, A2, CHIAB, gam41sol):\n",
    "    # note here the amplitudes are in directions [1, 0] and [0, 1]\n",
    "    # i.e. psi = [A1, A2]*sin(q*x)\n",
    "    \n",
    "    # calculate second order vertex\n",
    "    CHIAS, CHIBS = 0, 0\n",
    "    gam2sol = gamma2sol(pset, N, FA, PHIP, Ks, CHIAB, CHIAS, CHIBS).real\n",
    "    \n",
    "    pi = 3.14159\n",
    "    FE = 0\n",
    "    A = [A1, A2]\n",
    "    for I1, I2 in product([0,1], repeat=2):\n",
    "            FE += (2*pi)**(-3)*gam2sol[I1][I2]*A[I1]*A[I2]\n",
    "            \n",
    "    for I1, I2, I3, I4 in product([0,1], repeat=4):\n",
    "        FE += (2*pi)**(-9)*(1/4)*\\\n",
    "        gam41sol[I1][I2][I3][I4]*A[I1]*A[I2]*A[I3]*A[I4].real\n",
    "        \n",
    "    return FE\n",
    "\n",
    "def FE3sol(A1, A2, CHIAB, gam3sol, gam41sol, gam42sol):\n",
    "    # calculate second order vertex\n",
    "    CHIAS, CHIBS = 0, 0\n",
    "    gam2sol = gamma2sol(pset, N, FA, PHIP, Ks, CHIAB, CHIAS, CHIBS).real\n",
    "    \n",
    "    pi = 3.14159\n",
    "    FE = 0\n",
    "    A = [A1, A2]\n",
    "    for I1, I2 in product([0,1], repeat=2):\n",
    "        FE += (2*pi)**(-3)*gam2sol[I1][I2]*A[I1]*A[I2]\n",
    "\n",
    "    for I1, I2, I3 in product([0,1], repeat=3):\n",
    "        FE += (2*pi)**(-6)*(2/3/np.sqrt(3))*gam3sol.real[I1][I2][I3]*\\\n",
    "        A[I1]*A[I2]*A[I3]\n",
    "        \n",
    "    for I1, I2, I3, I4 in product([0,1], repeat=4):\n",
    "        FE += (2*pi)**(-9)*(1/12)*\\\n",
    "        (gam41sol[I1][I2][I3][I4]+4*gam42sol[I1][I2][I3][I4]).real*\\\n",
    "        A[I1]*A[I2]*A[I3]*A[I4]\n",
    "        \n",
    "    return FE\n",
    "\n",
    "def FE6sol(A1, A2, gam2sol, gam3sol, gam41sol,\n",
    "           gam42sol, gam43sol, gam44sol):\n",
    "    # calculate second order vertex\n",
    "    CHIAS, CHIBS = 0, 0\n",
    "    gam2sol = gamma2sol(pset, N, FA, PHIP, Ks, CHIAB, CHIAS, CHIBS).real\n",
    "    \n",
    "    pi = 3.14159\n",
    "    FE = 0\n",
    "    A = [A1, A2]\n",
    "    for I1, I2 in product([0,1], repeat=2):\n",
    "        FE += (2*pi)**(-3)*gam2sol[I1][I2]*A[I1]*A[I2]\n",
    "\n",
    "    for I1, I2, I3 in product([0,1], repeat=3):\n",
    "        FE += (2*pi)**(-6)*(4/3/np.sqrt(6))*gam3sol.real[I1][I2][I3]*\\\n",
    "        A[I1]*A[I2]*A[I3]\n",
    "\n",
    "    for I1, I2, I3, I4 in product([0], repeat=4):\n",
    "        FE += (2*pi)**(-9)*(1/24)*\\\n",
    "        (gam41sol[I1][I2][I3][I4]+8*gam42sol[I1][I2][I3][I4]\\\n",
    "         +2*gam43sol[I1][I2][I3][I4]+4*gam44sol[I1][I2][I3][I4]).real*\\\n",
    "        A[I1]*A[I2]*A[I3]*A[I4]\n",
    "\n",
    "    return FE"
   ]
  },
  {
   "cell_type": "code",
   "execution_count": 96,
   "metadata": {},
   "outputs": [
    {
     "name": "stdout",
     "output_type": "stream",
     "text": [
      "[ 0.15587997] [ 0.9999947  -0.00325725]\n"
     ]
    }
   ],
   "source": [
    "# make surface plot of free energy at fixed CHIAB\n",
    "N=1000\n",
    "FA=0.3\n",
    "CHIAB, CHIAS, CHIBS = 0, 0, 0\n",
    "PHIP = 0.5\n",
    "CHIABs, _ = gamma2sol_spinodal(pset, N, FA, PHIP)\n",
    "\n",
    "pset=propagator.prop_set(nlam=5)\n",
    "wigset = wd.wigner_d_vals()\n",
    "\n",
    "# find critical wavemode\n",
    "_, Ks, eigvmin = gamma2sol_mineig(pset, N, FA, PHIP, CHIABs, CHIAS, CHIBS)\n",
    "print(Ks, eigvmin)\n",
    "\n",
    "gam3sol = gamma3sol(pset, N, FA, PHIP, set3Ks(Ks)).real\n",
    "gam41sol = gamma4sol(pset, wigset, N, FA, PHIP, set4Ks1(Ks)).real\n",
    "gam42sol = gamma4sol(pset, wigset, N, FA, PHIP, set4Ks2(Ks)).real\n",
    "gam43sol = gamma4sol(pset, wigset, N, FA, PHIP, set4Ks3(Ks)).real\n",
    "gam44sol = gamma4sol(pset, wigset, N, FA, PHIP, set4Ks4(Ks)).real"
   ]
  },
  {
   "cell_type": "code",
   "execution_count": 97,
   "metadata": {},
   "outputs": [],
   "source": [
    "CHIAB = CHIABs + 1/N/PHIP\n",
    "\n",
    "A1max, A2max = 60, 2\n",
    "A1V = np.linspace(-A1max,A1max,100)\n",
    "A2V = np.linspace(-A2max,A2max,100)\n",
    "X, Y = np.meshgrid(A1V, A2V)\n",
    "FE1V = np.zeros((len(A2V), len(A1V)))\n",
    "FE3V = np.zeros((len(A2V), len(A1V)))\n",
    "FE6V = np.zeros((len(A2V), len(A1V)))\n",
    "\n",
    "for i in range(X.shape[0]):\n",
    "    for j in range(X.shape[1]):\n",
    "        A1 = X[i][j]\n",
    "        A2 = Y[i][j]\n",
    "        FE1V[i][j] = FE1sol(A1, A2, CHIAB, gam41sol)\n",
    "        FE3V[i][j] = FE3sol(A1, A2, CHIAB, gam3sol,\n",
    "                            gam41sol, gam42sol)\n",
    "        FE6V[i][j] = FE6sol(A1, A2, CHIAB, gam3sol, \n",
    "                            gam41sol, gam42sol, gam43sol, gam44sol)"
   ]
  },
  {
   "cell_type": "code",
   "execution_count": 98,
   "metadata": {},
   "outputs": [
    {
     "data": {
      "image/png": "[encoded data removed]",
      "text/plain": [
       "<matplotlib.figure.Figure at 0x113f6e588>"
      ]
     },
     "metadata": {},
     "output_type": "display_data"
    }
   ],
   "source": [
    "plt.contourf(X, Y, FE1V, cmap=plt.cm.plasma)\n",
    "\n",
    "# plot eig. vector direction\n",
    "plt.plot(0, 0, 'ko', zorder=1)\n",
    "plt.plot(A1V, A1V*eigvmin[1]/eigvmin[0], 'k', zorder=1)\n",
    "plt.xlabel('$a_{1}$')\n",
    "plt.ylabel('$a_{2}$')\n",
    "plt.show()"
   ]
  },
  {
   "cell_type": "code",
   "execution_count": 99,
   "metadata": {},
   "outputs": [
    {
     "data": {
      "image/png": "[encoded data removed]",
      "text/plain": [
       "<matplotlib.figure.Figure at 0x112070390>"
      ]
     },
     "metadata": {},
     "output_type": "display_data"
    }
   ],
   "source": [
    "plt.contourf(X, Y, FE3V, cmap=plt.cm.plasma)\n",
    "\n",
    "# plot eig. vector direction\n",
    "plt.plot(0, 0, 'ko', zorder=1)\n",
    "plt.plot(A1V, A1V*eigvmin[1]/eigvmin[0], 'k', zorder=1)\n",
    "plt.xlabel('$a_{1}$')\n",
    "plt.ylabel('$a_{2}$')\n",
    "plt.show()"
   ]
  },
  {
   "cell_type": "code",
   "execution_count": 100,
   "metadata": {},
   "outputs": [
    {
     "data": {
      "image/png": "[encoded data removed]",
      "text/plain": [
       "<matplotlib.figure.Figure at 0x1132ac8d0>"
      ]
     },
     "metadata": {},
     "output_type": "display_data"
    }
   ],
   "source": [
    "plt.contourf(X, Y, FE6V, cmap=plt.cm.plasma)\n",
    "\n",
    "# plot eig. vector direction\n",
    "plt.plot(0, 0, 'ko', zorder=1)\n",
    "plt.plot(A1V, A1V*eigvmin[1]/eigvmin[0], 'k', zorder=1)\n",
    "plt.xlabel('$a_{1}$')\n",
    "plt.ylabel('$a_{2}$')\n",
    "plt.show()"
   ]
  },
  {
   "cell_type": "code",
   "execution_count": 174,
   "metadata": {},
   "outputs": [
    {
     "name": "stdout",
     "output_type": "stream",
     "text": [
      "[ 0.9999947  -0.00325725]\n"
     ]
    },
    {
     "data": {
      "text/plain": [
       "0.0086884983548373151"
      ]
     },
     "execution_count": 174,
     "metadata": {},
     "output_type": "execute_result"
    }
   ],
   "source": [
    "# energy landscape in the eigvec direction\n",
    "CHIAB = 10/N/PHIP\n",
    "\n",
    "Amax = 100\n",
    "AeigV = np.linspace(-Amax,Amax,100)\n",
    "FE1eigV = np.zeros((len(A1V), 1))\n",
    "FE3eigV = np.zeros((len(A1V), 1))\n",
    "FE6eigV = np.zeros((len(A1V), 1))\n",
    "print(eigvmin)\n",
    "\n",
    "for i, A in enumerate(AeigV):\n",
    "    A1 = eigvmin[0]*A\n",
    "    A2 = eigvmin[1]*A\n",
    "    FE1eigV[i] = FE1sol(A1, A2, CHIAB, gam41sol)\n",
    "    FE3eigV[i] = FE3sol(A1, A2, CHIAB, gam3sol, gam41sol, gam42sol)\n",
    "    FE6eigV[i] = FE6sol(A1, A2, CHIAB, gam3sol, \n",
    "                        gam41sol, gam42sol, gam43sol, gam44sol)\n",
    "\n",
    "Avec0 = [10, 10]\n",
    "optimize.fmin(lambda Avec: FE1sol(Avec[0], Avec[1], CHIABs+CHIAB, gam41sol),\n",
    "              Avec0, disp=False, full_output=1)[1] - \\\n",
    "optimize.fmin(lambda Avec: FE3sol(Avec[0], Avec[1], CHIABs+CHIAB,\n",
    "                                  gam3sol, gam41sol, gam42sol),\n",
    "              Avec0, disp=False, full_output=1)[1]"
   ]
  },
  {
   "cell_type": "code",
   "execution_count": 152,
   "metadata": {
    "scrolled": true
   },
   "outputs": [
    {
     "data": {
      "image/png": "[encoded data removed]",
      "text/plain": [
       "<matplotlib.figure.Figure at 0x1135936a0>"
      ]
     },
     "metadata": {},
     "output_type": "display_data"
    }
   ],
   "source": [
    "plt.plot(AeigV, FE1eigV, label='LAM')\n",
    "plt.plot(AeigV, FE3eigV, label='CYL')\n",
    "plt.plot(AeigV, FE6eigV, label='BCC')\n",
    "# plt.axis([0,50,-0.01,0.02])\n",
    "plt.xlim([0,100])\n",
    "# plt.ylim([-.1,.1])\n",
    "plt.xlabel('Eigenmode Amplitude')\n",
    "plt.ylabel('Free Energy')\n",
    "plt.legend()\n",
    "plt.show()"
   ]
  },
  {
   "cell_type": "markdown",
   "metadata": {},
   "source": [
    "### Make phase diagrams"
   ]
  },
  {
   "cell_type": "code",
   "execution_count": 191,
   "metadata": {
    "collapsed": true
   },
   "outputs": [],
   "source": [
    "def chiootsol(N, FA, PHIP):\n",
    "    pset=propagator.prop_set(nlam=5)\n",
    "    wigset = wd.wigner_d_vals()\n",
    "\n",
    "    CHIAB, CHIAS, CHIBS = 0, 0, 0\n",
    "    CHIABs, _ = gamma2sol_spinodal(pset, N, FA, PHIP)\n",
    "\n",
    "    # find critical wavemode\n",
    "    _, Ks, eigvmin = gamma2sol_mineig(pset, N, FA, PHIP, CHIAB, CHIAS, CHIBS)\n",
    "    print(Ks, eigvmin)\n",
    "\n",
    "    gam3sol = gamma3sol(pset, N, FA, PHIP, set3Ks(Ks)).real\n",
    "    gam41sol = gamma4sol(pset, wigset, N, FA, PHIP, set4Ks1(Ks)).real\n",
    "    gam42sol = gamma4sol(pset, wigset, N, FA, PHIP, set4Ks2(Ks)).real\n",
    "    gam43sol = gamma4sol(pset, wigset, N, FA, PHIP, set4Ks3(Ks)).real\n",
    "    gam44sol = gamma4sol(pset, wigset, N, FA, PHIP, set4Ks4(Ks)).real\n",
    "        \n",
    "    # calculate oot temperatures\n",
    "    Avec0 = [10,10]\n",
    "    FE13sol = lambda CHIAB: \\\n",
    "    optimize.fmin(lambda Avec: FE1sol(Avec[0], Avec[1], CHIABs+CHIAB, gam41sol),\n",
    "                  Avec0, disp=False, full_output=1)[1] - \\\n",
    "    optimize.fmin(lambda Avec: FE3sol(Avec[0], Avec[1], CHIABs+CHIAB,\n",
    "                                      gam3sol, gam41sol, gam42sol),\n",
    "                  Avec0, disp=False, full_output=1)[1]\n",
    "    \n",
    "    FE36sol = lambda CHIAB: \\\n",
    "    optimize.fmin(lambda Avec: FE3sol(Avec[0], Avec[1], CHIABs+CHIAB,\n",
    "                                      gam3sol, gam41sol, gam42sol),\n",
    "                  Avec0, disp=False, full_output=1)[1] - \\\n",
    "    optimize.fmin(lambda Avec: FE6sol(Avec[0], Avec[1], CHIABs+CHIAB,\n",
    "                                      gam3sol, gam41sol, gam42sol, gam43sol, gam44sol),\n",
    "                  Avec0, disp=False, full_output=1)[1]\n",
    "    \n",
    "    chi13sol = optimize.ridder(FE13sol, 0/N/PHIP, 100/N/PHIP)\n",
    "    chi36sol = optimize.ridder(FE36sol, 0/N/PHIP, 100/N/PHIP)\n",
    "    \n",
    "    return chi13sol, chi36sol"
   ]
  },
  {
   "cell_type": "code",
   "execution_count": 190,
   "metadata": {},
   "outputs": [
    {
     "name": "stdout",
     "output_type": "stream",
     "text": [
      "[ 0.49694705] [ 0.99999273 -0.00381296]\n"
     ]
    },
    {
     "ename": "ValueError",
     "evalue": "f(a) and f(b) must have different signs",
     "output_type": "error",
     "traceback": [
      "\u001b[0;31m---------------------------------------------------------------------------\u001b[0m",
      "\u001b[0;31mValueError\u001b[0m                                Traceback (most recent call last)",
      "\u001b[0;32m<ipython-input-190-e5d0f54a54bc>\u001b[0m in \u001b[0;36m<module>\u001b[0;34m()\u001b[0m\n\u001b[0;32m----> 1\u001b[0;31m \u001b[0mchiootsol\u001b[0m\u001b[0;34m(\u001b[0m\u001b[0;36m100\u001b[0m\u001b[0;34m,\u001b[0m \u001b[0;36m0.3\u001b[0m\u001b[0;34m,\u001b[0m \u001b[0;36m0.5\u001b[0m\u001b[0;34m)\u001b[0m\u001b[0;34m\u001b[0m\u001b[0m\n\u001b[0m",
      "\u001b[0;32m<ipython-input-153-d6d58349c770>\u001b[0m in \u001b[0;36mchiootsol\u001b[0;34m(N, FA, PHIP)\u001b[0m\n\u001b[1;32m     33\u001b[0m \u001b[0;34m\u001b[0m\u001b[0m\n\u001b[1;32m     34\u001b[0m     \u001b[0mchi13sol\u001b[0m \u001b[0;34m=\u001b[0m \u001b[0moptimize\u001b[0m\u001b[0;34m.\u001b[0m\u001b[0mridder\u001b[0m\u001b[0;34m(\u001b[0m\u001b[0mFE13sol\u001b[0m\u001b[0;34m,\u001b[0m \u001b[0;34m-\u001b[0m\u001b[0;36m10\u001b[0m\u001b[0;34m/\u001b[0m\u001b[0mN\u001b[0m\u001b[0;34m/\u001b[0m\u001b[0mPHIP\u001b[0m\u001b[0;34m,\u001b[0m \u001b[0;36m100\u001b[0m\u001b[0;34m/\u001b[0m\u001b[0mN\u001b[0m\u001b[0;34m/\u001b[0m\u001b[0mPHIP\u001b[0m\u001b[0;34m)\u001b[0m\u001b[0;34m\u001b[0m\u001b[0m\n\u001b[0;32m---> 35\u001b[0;31m     \u001b[0mchi36sol\u001b[0m \u001b[0;34m=\u001b[0m \u001b[0moptimize\u001b[0m\u001b[0;34m.\u001b[0m\u001b[0mridder\u001b[0m\u001b[0;34m(\u001b[0m\u001b[0mFE36sol\u001b[0m\u001b[0;34m,\u001b[0m \u001b[0;34m-\u001b[0m\u001b[0;36m10\u001b[0m\u001b[0;34m/\u001b[0m\u001b[0mN\u001b[0m\u001b[0;34m/\u001b[0m\u001b[0mPHIP\u001b[0m\u001b[0;34m,\u001b[0m \u001b[0;36m100\u001b[0m\u001b[0;34m/\u001b[0m\u001b[0mN\u001b[0m\u001b[0;34m/\u001b[0m\u001b[0mPHIP\u001b[0m\u001b[0;34m)\u001b[0m\u001b[0;34m\u001b[0m\u001b[0m\n\u001b[0m\u001b[1;32m     36\u001b[0m \u001b[0;34m\u001b[0m\u001b[0m\n\u001b[1;32m     37\u001b[0m     \u001b[0;32mreturn\u001b[0m \u001b[0mchi13sol\u001b[0m\u001b[0;34m,\u001b[0m \u001b[0mchi36sol\u001b[0m\u001b[0;34m\u001b[0m\u001b[0m\n",
      "\u001b[0;32m/usr/local/lib/python3.6/site-packages/scipy/optimize/zeros.py\u001b[0m in \u001b[0;36mridder\u001b[0;34m(f, a, b, args, xtol, rtol, maxiter, full_output, disp)\u001b[0m\n\u001b[1;32m    326\u001b[0m     \u001b[0;32mif\u001b[0m \u001b[0mrtol\u001b[0m \u001b[0;34m<\u001b[0m \u001b[0m_rtol\u001b[0m\u001b[0;34m:\u001b[0m\u001b[0;34m\u001b[0m\u001b[0m\n\u001b[1;32m    327\u001b[0m         \u001b[0;32mraise\u001b[0m \u001b[0mValueError\u001b[0m\u001b[0;34m(\u001b[0m\u001b[0;34m\"rtol too small (%g < %g)\"\u001b[0m \u001b[0;34m%\u001b[0m \u001b[0;34m(\u001b[0m\u001b[0mrtol\u001b[0m\u001b[0;34m,\u001b[0m \u001b[0m_rtol\u001b[0m\u001b[0;34m)\u001b[0m\u001b[0;34m)\u001b[0m\u001b[0;34m\u001b[0m\u001b[0m\n\u001b[0;32m--> 328\u001b[0;31m     \u001b[0mr\u001b[0m \u001b[0;34m=\u001b[0m \u001b[0m_zeros\u001b[0m\u001b[0;34m.\u001b[0m\u001b[0m_ridder\u001b[0m\u001b[0;34m(\u001b[0m\u001b[0mf\u001b[0m\u001b[0;34m,\u001b[0m\u001b[0ma\u001b[0m\u001b[0;34m,\u001b[0m\u001b[0mb\u001b[0m\u001b[0;34m,\u001b[0m\u001b[0mxtol\u001b[0m\u001b[0;34m,\u001b[0m\u001b[0mrtol\u001b[0m\u001b[0;34m,\u001b[0m\u001b[0mmaxiter\u001b[0m\u001b[0;34m,\u001b[0m\u001b[0margs\u001b[0m\u001b[0;34m,\u001b[0m\u001b[0mfull_output\u001b[0m\u001b[0;34m,\u001b[0m\u001b[0mdisp\u001b[0m\u001b[0;34m)\u001b[0m\u001b[0;34m\u001b[0m\u001b[0m\n\u001b[0m\u001b[1;32m    329\u001b[0m     \u001b[0;32mreturn\u001b[0m \u001b[0mresults_c\u001b[0m\u001b[0;34m(\u001b[0m\u001b[0mfull_output\u001b[0m\u001b[0;34m,\u001b[0m \u001b[0mr\u001b[0m\u001b[0;34m)\u001b[0m\u001b[0;34m\u001b[0m\u001b[0m\n\u001b[1;32m    330\u001b[0m \u001b[0;34m\u001b[0m\u001b[0m\n",
      "\u001b[0;31mValueError\u001b[0m: f(a) and f(b) must have different signs"
     ]
    }
   ],
   "source": [
    "chiootsol(100, 0.3, 0.5)"
   ]
  },
  {
   "cell_type": "code",
   "execution_count": 205,
   "metadata": {},
   "outputs": [
    {
     "name": "stdout",
     "output_type": "stream",
     "text": [
      "-5.19589430496e-20\n",
      "-3.96299825122\n",
      "4.95873320711e-13\n",
      "-10.3256152253\n"
     ]
    }
   ],
   "source": [
    "FE13sol = lambda CHIAB: \\\n",
    "optimize.fmin(lambda Avec: FE1sol(Avec[0], Avec[1], CHIABs+CHIAB, gam41sol),\n",
    "              Avec0, disp=False, full_output=1)[1] - \\\n",
    "optimize.fmin(lambda Avec: FE3sol(Avec[0], Avec[1], CHIABs+CHIAB,\n",
    "                                  gam3sol, gam41sol, gam42sol),\n",
    "              Avec0, disp=False, full_output=1)[1]\n",
    "\n",
    "FE36sol = lambda CHIAB: \\\n",
    "optimize.fmin(lambda Avec: FE3sol(Avec[0], Avec[1], CHIABs+CHIAB,\n",
    "                                  gam3sol, gam41sol, gam42sol),\n",
    "              Avec0, disp=False, full_output=1)[1] - \\\n",
    "optimize.fmin(lambda Avec: FE6sol(Avec[0], Avec[1], CHIABs+CHIAB,\n",
    "                                  gam3sol, gam41sol, gam42sol, gam43sol, gam44sol),\n",
    "              Avec0, disp=False, full_output=1)[1]\n",
    "    \n",
    "print(FE13sol(-10/N/PHIP))\n",
    "print(FE13sol(100/N/PHIP))\n",
    "\n",
    "print(FE36sol(-10/N/PHIP))\n",
    "print(FE36sol(100/N/PHIP))"
   ]
  },
  {
   "cell_type": "code",
   "execution_count": 203,
   "metadata": {},
   "outputs": [],
   "source": [
    "CHIV = np.linspace(-10, 10)/N/PHIP\n",
    "FE36solV = np.zeros((len(CHIV), 1))\n",
    "for i, CHI in enumerate(CHIV):\n",
    "    FE36solV[i] = FE36sol(CHI)"
   ]
  },
  {
   "cell_type": "code",
   "execution_count": 204,
   "metadata": {},
   "outputs": [
    {
     "data": {
      "image/png": "[encoded data removed]",
      "text/plain": [
       "<matplotlib.figure.Figure at 0x113f8d748>"
      ]
     },
     "metadata": {},
     "output_type": "display_data"
    }
   ],
   "source": [
    "plt.plot(CHIV, FE36solV)\n",
    "plt.show()"
   ]
  },
  {
   "cell_type": "markdown",
   "metadata": {},
   "source": [
    "# find coefficients in free energy expansion"
   ]
  },
  {
   "cell_type": "code",
   "execution_count": 29,
   "metadata": {},
   "outputs": [
    {
     "name": "stdout",
     "output_type": "stream",
     "text": [
      "2 0 6\n",
      "[[ 2.  2.]\n",
      " [ 2.  2.]]\n",
      "[[[[ 6.  6.]\n",
      "   [ 6.  6.]]\n",
      "\n",
      "  [[ 6.  6.]\n",
      "   [ 6.  6.]]]\n",
      "\n",
      "\n",
      " [[[ 6.  6.]\n",
      "   [ 6.  6.]]\n",
      "\n",
      "  [[ 6.  6.]\n",
      "   [ 6.  6.]]]]\n"
     ]
    }
   ],
   "source": [
    "Q1 = np.array([1,0,0])\n",
    "Q2 = -Q1\n",
    "Qs = [Q1, Q2]\n",
    "\n",
    "# simple melt case\n",
    "B, C, D = 0, 0, 0\n",
    "for Q1 in Qs:\n",
    "    for Q2 in Qs:\n",
    "        if norm(Q1+Q2) < 1e-10:\n",
    "            B +=1\n",
    "\n",
    "for Q1 in Qs:\n",
    "    for Q2 in Qs:\n",
    "        for Q3 in Qs:\n",
    "            for Q4 in Qs:\n",
    "                if norm(Q1+Q2+Q3+Q4) < 1e-10:\n",
    "                    D += 1\n",
    "print(B, C, D)\n",
    "\n",
    "# solution case\n",
    "B = np.zeros((2,2))\n",
    "C = np.zeros((2,2,2))\n",
    "D = np.zeros((2,2,2,2))\n",
    "for I in range(2):\n",
    "    for J in range(2):\n",
    "        for Q1 in Qs:\n",
    "            for Q2 in Qs:\n",
    "                if norm(Q1+Q2) < 1e-10:\n",
    "                    B[I][J] += 1\n",
    "\n",
    "for I in range(2):\n",
    "    for J in range(2):\n",
    "        for K in range(2):\n",
    "            for L in range(2):\n",
    "                for Q1 in Qs:\n",
    "                    for Q2 in Qs:\n",
    "                        for Q3 in Qs:\n",
    "                            for Q4 in Qs:\n",
    "                                if norm(Q1+Q2+Q3+Q4) < 1e-10:\n",
    "                                    D[I][J][K][L] += 1\n",
    "print(B)\n",
    "print(D)"
   ]
  },
  {
   "cell_type": "code",
   "execution_count": null,
   "metadata": {
    "collapsed": true
   },
   "outputs": [],
   "source": []
  }
 ],
 "metadata": {
  "anaconda-cloud": {},
  "kernelspec": {
   "display_name": "Python 3",
   "language": "python",
   "name": "python3"
  },
  "language_info": {
   "codemirror_mode": {
    "name": "ipython",
    "version": 3
   },
   "file_extension": ".py",
   "mimetype": "text/x-python",
   "name": "python",
   "nbconvert_exporter": "python",
   "pygments_lexer": "ipython3",
   "version": "3.6.0"
  }
 },
 "nbformat": 4,
 "nbformat_minor": 1
}
