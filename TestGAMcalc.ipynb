{
 "cells": [
  {
   "cell_type": "markdown",
   "metadata": {},
   "source": [
    "# 0. Import and useful functions"
   ]
  },
  {
   "cell_type": "markdown",
   "metadata": {},
   "source": [
    "## 0.1 Gam calc functions"
   ]
  },
  {
   "cell_type": "code",
   "execution_count": 1,
   "metadata": {
    "collapsed": true
   },
   "outputs": [],
   "source": [
    "from GAMcalc import *\n",
    "from FEcalc import *\n",
    "import propagator \n",
    "import wignerD as wd\n",
    "\n",
    "import numpy as np\n",
    "from scipy import optimize\n",
    "from numpy.linalg import eig"
   ]
  },
  {
   "cell_type": "markdown",
   "metadata": {},
   "source": [
    "## 0.3 Plot power laws"
   ]
  },
  {
   "cell_type": "code",
   "execution_count": 2,
   "metadata": {
    "collapsed": true
   },
   "outputs": [],
   "source": [
    "def plotlog(x, y, alpha, xrange=1, numx=2, color='k', plt=plt):\n",
    "    xv = np.logspace(np.log10(x), np.log10(x) + xrange, numx)\n",
    "    C = y / (x**alpha)\n",
    "    yv = C * xv**(alpha)\n",
    "    plt.loglog(xv, yv, '--', color=color)"
   ]
  },
  {
   "cell_type": "markdown",
   "metadata": {},
   "source": [
    "# 1. Melt vertices"
   ]
  },
  {
   "cell_type": "markdown",
   "metadata": {
    "heading_collapsed": true
   },
   "source": [
    "## 1.1 Simple examples"
   ]
  },
  {
   "cell_type": "code",
   "execution_count": null,
   "metadata": {
    "collapsed": true,
    "hidden": true
   },
   "outputs": [],
   "source": [
    "N = 10\n",
    "FA = 0.5\n",
    "K = 10\n",
    "CHI = 0\n",
    "\n",
    "pset=propagator.prop_set(nlam=1)\n",
    "wigset = wd.wigner_d_vals()\n",
    "\n",
    "KS = spinodal(pset, N, FA)\n",
    "Ks3 = set3Ks(KS)\n",
    "Ks4 = set4Ks(KS)\n",
    "\n",
    "print(gamma2(pset, N, FA, K, CHI))\n",
    "print(gamma3(pset, N, FA, Ks3))\n",
    "print(gamma4(pset, wigset, N, FA, Ks4))"
   ]
  },
  {
   "cell_type": "markdown",
   "metadata": {},
   "source": [
    "## 1.2 Vertices at all qs"
   ]
  },
  {
   "cell_type": "markdown",
   "metadata": {},
   "source": [
    "### 1.2.1 Gamma2 at all q"
   ]
  },
  {
   "cell_type": "code",
   "execution_count": null,
   "metadata": {
    "collapsed": true
   },
   "outputs": [],
   "source": [
    "N=10\n",
    "FA=0.5\n",
    "CHI = 0\n",
    "\n",
    "pset=propagator.prop_set(nlam=1)\n",
    "KV = np.logspace(-1,3,100)\n",
    "gam2 = np.zeros((len(KV), 1),dtype=type(1+1j))\n",
    "for i, K in enumerate(KV):\n",
    "    gam2[i] = gamma2(pset, N, FA, K, CHI)"
   ]
  },
  {
   "cell_type": "code",
   "execution_count": null,
   "metadata": {
    "collapsed": true
   },
   "outputs": [],
   "source": [
    "plt.loglog(KV, 1/gam2.real)\n",
    "plt.show()"
   ]
  },
  {
   "cell_type": "markdown",
   "metadata": {
    "heading_collapsed": true
   },
   "source": [
    "### 1.2.2 Gamma3 at all q"
   ]
  },
  {
   "cell_type": "code",
   "execution_count": null,
   "metadata": {
    "collapsed": true,
    "hidden": true
   },
   "outputs": [],
   "source": [
    "N=10\n",
    "FA=0.2\n",
    "\n",
    "pset=propagator.prop_set(nlam=1)\n",
    "KV = np.logspace(-1,3,100)\n",
    "gam3 = np.zeros((len(KV), 1),dtype=type(1+1j))\n",
    "for i, K in enumerate(KV):\n",
    "    Ks = set3Ks(K)\n",
    "    gam3[i] = gamma3(pset, N, FA, Ks)"
   ]
  },
  {
   "cell_type": "code",
   "execution_count": null,
   "metadata": {
    "collapsed": true,
    "hidden": true
   },
   "outputs": [],
   "source": [
    "plt.loglog(KV, -gam3.real)\n",
    "plt.loglog(KV, gam3.real)\n",
    "plt.show()"
   ]
  },
  {
   "cell_type": "markdown",
   "metadata": {
    "heading_collapsed": true
   },
   "source": [
    "### 1.2.3 Gamma4 at all q"
   ]
  },
  {
   "cell_type": "code",
   "execution_count": null,
   "metadata": {
    "collapsed": true,
    "hidden": true
   },
   "outputs": [],
   "source": [
    "N=10\n",
    "FA=0.2\n",
    "\n",
    "pset=propagator.prop_set(nlam=2)\n",
    "wigset = wd.wigner_d_vals()\n",
    "KV = np.logspace(-1,3,20)\n",
    "gam4 = np.zeros((len(KV), 1),dtype=type(1+1j))\n",
    "for i, K in enumerate(KV):\n",
    "    print(K)\n",
    "    Ks = set4Ks(K)\n",
    "    gam4[i] = gamma4(pset, wigset, N, FA, Ks)"
   ]
  },
  {
   "cell_type": "code",
   "execution_count": null,
   "metadata": {
    "collapsed": true,
    "hidden": true
   },
   "outputs": [],
   "source": [
    "plt.loglog(KV, gam4.real)\n",
    "plt.loglog(KV, -gam4.real)\n",
    "plt.show()"
   ]
  },
  {
   "cell_type": "markdown",
   "metadata": {},
   "source": [
    "## 1.3 Vertices at q*"
   ]
  },
  {
   "cell_type": "markdown",
   "metadata": {
    "heading_collapsed": true
   },
   "source": [
    "### 1.3.1 Gamma2 and find q*"
   ]
  },
  {
   "cell_type": "code",
   "execution_count": null,
   "metadata": {
    "collapsed": true,
    "hidden": true
   },
   "outputs": [],
   "source": [
    "N=10\n",
    "FA=0.5\n",
    "CHI = 0\n",
    "\n",
    "pset=propagator.prop_set(nlam=1)\n",
    "KV = np.logspace(-1,3,100)\n",
    "gam2 = np.zeros((len(KV), 1),dtype=type(1+1j))\n",
    "for i, K in enumerate(KV):\n",
    "    gam2[i] = gamma2(pset, N, FA, K, CHI)"
   ]
  },
  {
   "cell_type": "code",
   "execution_count": null,
   "metadata": {
    "collapsed": true,
    "hidden": true
   },
   "outputs": [],
   "source": [
    "plt.loglog(KV, 1/gam2.real)\n",
    "plt.show()"
   ]
  },
  {
   "cell_type": "code",
   "execution_count": null,
   "metadata": {
    "collapsed": true,
    "hidden": true
   },
   "outputs": [],
   "source": [
    "FA = 0.5\n",
    "NV = np.logspace(-1, 4, 10)\n",
    "KSV = np.zeros((len(NV)))\n",
    "\n",
    "for ind, N in enumerate(NV):\n",
    "    KSV[ind] = spinodal(pset, N, FA)"
   ]
  },
  {
   "cell_type": "code",
   "execution_count": null,
   "metadata": {
    "collapsed": true,
    "hidden": true
   },
   "outputs": [],
   "source": [
    "plt.loglog(NV, 1/KSV)\n",
    "plt.show()"
   ]
  },
  {
   "cell_type": "markdown",
   "metadata": {
    "heading_collapsed": true
   },
   "source": [
    "### 1.3.2 Gamma3 at q*"
   ]
  },
  {
   "cell_type": "code",
   "execution_count": null,
   "metadata": {
    "collapsed": true,
    "hidden": true,
    "scrolled": true
   },
   "outputs": [],
   "source": [
    "FAV = np.linspace(.2, .5, 21)\n",
    "pset=propagator.prop_set(nlam=10)\n",
    "\n",
    "N = 1000\n",
    "GAM3N_N1000 = np.zeros((len(FAV)), dtype='complex')\n",
    "for ind, FA in enumerate(FAV):\n",
    "    Ks = set3Ks(spinodal(pset, N, FA))\n",
    "    GAM3N_N1000[ind] = gamma3(pset, N, FA, Ks)*N\n",
    "\n",
    "N = 100\n",
    "GAM3N_N100 = np.zeros((len(FAV)), dtype='complex')\n",
    "for ind, FA in enumerate(FAV):\n",
    "    Ks = set3Ks(spinodal(pset, N, FA))\n",
    "    GAM3N_N100[ind] = gamma3(pset, N, FA, Ks)*N\n",
    "\n",
    "N = 1\n",
    "GAM3N_N1 = np.zeros((len(FAV)), dtype='complex')\n",
    "for ind, FA in enumerate(FAV):\n",
    "    Ks = set3Ks(spinodal(pset, N, FA))\n",
    "    GAM3N_N1[ind] = gamma3(pset, N, FA, Ks)*N"
   ]
  },
  {
   "cell_type": "code",
   "execution_count": null,
   "metadata": {
    "collapsed": true,
    "hidden": true
   },
   "outputs": [],
   "source": [
    "plt.plot(FAV, -GAM3N_N1000.real, label='N=1000')\n",
    "plt.plot(FAV, -GAM3N_N100.real, label='N=100')\n",
    "plt.plot(FAV, -GAM3N_N1.real, label='N=1')\n",
    "plt.xlabel('$f_A$')\n",
    "plt.ylabel('$-N\\Gamma_{3}(q^*)$')\n",
    "plt.legend(loc=1)\n",
    "plt.axis([.2,.5,0,200])\n",
    "plt.show()"
   ]
  },
  {
   "cell_type": "markdown",
   "metadata": {
    "heading_collapsed": true
   },
   "source": [
    "### 1.3.3 Gamma4 at q*"
   ]
  },
  {
   "cell_type": "code",
   "execution_count": null,
   "metadata": {
    "collapsed": true,
    "hidden": true
   },
   "outputs": [],
   "source": [
    "FAV = np.linspace(.3, .5, 21)\n",
    "pset=propagator.prop_set(nlam=5)\n",
    "wigset = wd.wigner_d_vals()\n",
    "\n",
    "N = 1000\n",
    "GAM4N_N1000 = np.zeros((len(FAV)), dtype='complex')\n",
    "for ind, FA in enumerate(FAV):\n",
    "    Ks = set4Ks1(spinodal(pset, N, FA))\n",
    "    GAM4N_N1000[ind] = gamma4(pset, wigset, N, FA, Ks)*N\n",
    "\n",
    "N = 100\n",
    "GAM4N_N100 = np.zeros((len(FAV)), dtype='complex')\n",
    "for ind, FA in enumerate(FAV):\n",
    "    Ks = set4Ks1(spinodal(pset, N, FA))\n",
    "    GAM4N_N100[ind] = gamma4(pset, wigset, N, FA, Ks)*N\n",
    "\n",
    "    \n",
    "N = 10\n",
    "GAM4N_N10 = np.zeros((len(FAV)), dtype='complex')\n",
    "for ind, FA in enumerate(FAV):\n",
    "    Ks = set4Ks1(spinodal(pset, N, FA))\n",
    "    GAM4N_N10[ind] = gamma4(pset, wigset, N, FA, Ks)*N\n",
    "    \n",
    "N = 1\n",
    "GAM4N_N1 = np.zeros((len(FAV)), dtype='complex')\n",
    "for ind, FA in enumerate(FAV):\n",
    "    Ks = set4Ks1(spinodal(pset, N, FA))\n",
    "    GAM4N_N1[ind] = gamma4(pset, wigset, N, FA, Ks)*N"
   ]
  },
  {
   "cell_type": "code",
   "execution_count": null,
   "metadata": {
    "collapsed": true,
    "hidden": true
   },
   "outputs": [],
   "source": [
    "plt.plot(FAV, GAM4N_N1000.real, label='N=1000')\n",
    "plt.plot(FAV, GAM4N_N100.real, label='N=100')\n",
    "plt.plot(FAV, GAM4N_N10.real, label='N=10')\n",
    "plt.plot(FAV, GAM4N_N1.real, label='N=1')\n",
    "plt.axis([.3,.5,100,500])\n",
    "plt.box\n",
    "plt.legend(loc=1)\n",
    "plt.show()"
   ]
  },
  {
   "cell_type": "markdown",
   "metadata": {
    "heading_collapsed": true
   },
   "source": [
    "## 1.4 Plot free energy"
   ]
  },
  {
   "cell_type": "code",
   "execution_count": null,
   "metadata": {
    "collapsed": true,
    "hidden": true
   },
   "outputs": [],
   "source": [
    "N = 1e3\n",
    "FA = 0.3\n",
    "\n",
    "pset=propagator.prop_set(nlam=5)\n",
    "wigset = wd.wigner_d_vals()\n",
    "Ks = spinodal(pset, N, FA)\n",
    "\n",
    "# calculate vertices\n",
    "gam3 = gamma3(pset, N, FA, set3Ks(Ks)).real\n",
    "gam41 = gamma4(pset, wigset, N, FA, set4Ks1(Ks)).real\n",
    "gam42 = gamma4(pset, wigset, N, FA, set4Ks2(Ks)).real\n",
    "gam43 = gamma4(pset, wigset, N, FA, set4Ks3(Ks)).real\n",
    "gam44 = gamma4(pset, wigset, N, FA, set4Ks4(Ks)).real\n",
    "print(Ks)\n",
    "print(gam3*N)\n",
    "print(gam41*N)"
   ]
  },
  {
   "cell_type": "code",
   "execution_count": null,
   "metadata": {
    "collapsed": true,
    "hidden": true
   },
   "outputs": [],
   "source": [
    "CHI = 1/N\n",
    "AV = np.linspace(0, 50, 100)\n",
    "\n",
    "plt.plot(AV, N*FE1(AV, CHI, gam41), label='LAM')\n",
    "plt.plot(AV, N*FE3(AV, CHI, gam3, gam41, gam42), label='CYL')\n",
    "plt.plot(AV, N*FE6(AV, CHI, gam3, gam41, gam42, gam43, gam44), label='BCC')\n",
    "plt.xlabel('Amplitude')\n",
    "plt.ylabel('Free Energy')\n",
    "plt.legend()\n",
    "# plt.axis([0,50,-0.1,1])\n",
    "plt.axis([0, 40, -10,10])\n",
    "plt.show()\n",
    "\n",
    "print('LAM FE')\n",
    "print(optimize.fmin(lambda A: FE1(A, CHI, gam41),\n",
    "                    1, disp=False, full_output=1))\n",
    "print('CYL FE')\n",
    "print(optimize.fmin(lambda A: FE3(A, CHI, gam3, gam41, gam42),\n",
    "                    1e-1, disp=False, full_output=1))\n",
    "print('BCC FE')\n",
    "print(optimize.fmin(lambda A: FE6(A, CHI, gam3, gam41, gam42, gam43, gam44),\n",
    "                    1e-1, disp=False, full_output=1))"
   ]
  },
  {
   "cell_type": "markdown",
   "metadata": {
    "heading_collapsed": true
   },
   "source": [
    "## 1.5 Make phase diagrams"
   ]
  },
  {
   "cell_type": "code",
   "execution_count": 5,
   "metadata": {
    "hidden": true
   },
   "outputs": [
    {
     "data": {
      "text/plain": [
       "(0.073003560271214837, 0.0013127702877559783)"
      ]
     },
     "execution_count": 5,
     "metadata": {},
     "output_type": "execute_result"
    }
   ],
   "source": [
    "chioot(100, 0.3)"
   ]
  },
  {
   "cell_type": "code",
   "execution_count": null,
   "metadata": {
    "collapsed": true,
    "hidden": true,
    "scrolled": true
   },
   "outputs": [],
   "source": [
    "N = 100\n",
    "FAV = np.linspace(.15, .499, 21)\n",
    "pset=propagator.prop_set(nlam=1)\n",
    "    \n",
    "CHIsV = np.zeros((len(FAV), 1))\n",
    "CHI13V = np.zeros((len(FAV), 1))\n",
    "CHI36V = np.zeros((len(FAV), 1))\n",
    "\n",
    "for i, FA in enumerate(FAV):\n",
    "    CHIsV[i] = chis(N, FA)\n",
    "    CHI13V[i], CHI36V[i] = chioot(N, FA)\n",
    "    print(N, FA, CHIsV[i], CHI13V[i], CHI36V[i])"
   ]
  },
  {
   "cell_type": "code",
   "execution_count": null,
   "metadata": {
    "collapsed": true,
    "hidden": true
   },
   "outputs": [],
   "source": [
    "plt.figure(figsize=(4,5))\n",
    "plt.plot(FAV, CHIsV*N)\n",
    "plt.plot(FAV, (CHIsV+CHI13V)*N)\n",
    "plt.plot(FAV, (CHIsV+CHI36V)*N)\n",
    "plt.plot(1-FAV, CHIsV*N)\n",
    "plt.plot(1-FAV, (CHIsV+CHI13V)*N)\n",
    "plt.plot(1-FAV, (CHIsV+CHI36V)*N)\n",
    "plt.axis([0.15,0.85,10,80])\n",
    "plt.show()"
   ]
  },
  {
   "cell_type": "markdown",
   "metadata": {
    "collapsed": true
   },
   "source": [
    "## 1.5 Look at UV divergence"
   ]
  },
  {
   "cell_type": "markdown",
   "metadata": {
    "heading_collapsed": true
   },
   "source": [
    "### First N = 1000"
   ]
  },
  {
   "cell_type": "code",
   "execution_count": null,
   "metadata": {
    "collapsed": true,
    "hidden": true
   },
   "outputs": [],
   "source": [
    "N = 1000\n",
    "FA = 0.5\n",
    "\n",
    "normK = 1  # equals 2lp if =1\n",
    "# normK = np.sqrt(N/6)\n",
    "# KV = np.logspace(-1, 2, 201)/normK\n",
    "KV = np.linspace(1e-2, 0.5, 1001)/normK\n",
    "p = KV*normK\n",
    "CHI = 10/N\n",
    "\n",
    "pset=propagator.prop_set(nlam=1)\n",
    "wigset = wd.wigner_d_vals()\n",
    "\n",
    "KS = spinodal(pset, N, FA)\n",
    "GAM4N1 = np.zeros((len(KV),), dtype='complex')\n",
    "GAM2 = np.zeros((len(KV),), dtype='complex')\n",
    "for ii, K in enumerate(KV):\n",
    "    Ks41 = set4Ks1(K)\n",
    "    GAM4N1[ii] = gamma4(pset, wigset, N, FA, Ks41)\n",
    "    GAM2[ii] = gamma2(pset, N, FA, K, CHI)"
   ]
  },
  {
   "cell_type": "code",
   "execution_count": null,
   "metadata": {
    "collapsed": true,
    "hidden": true
   },
   "outputs": [],
   "source": [
    "fig, ax1 = plt.subplots(figsize=(6,4.5))\n",
    "ax1.loglog(p, 1./GAM2.real, '-', color='r')\n",
    "ax1.set_xlabel('$2l_{p}q$')\n",
    "\n",
    "# Make the y-axis label, ticks and tick labels match the line color.\n",
    "ax1.set_ylabel('$1/\\Gamma{2}$', color='r')\n",
    "ax1.tick_params('y', colors='r')\n",
    "\n",
    "ax2 = ax1.twinx()\n",
    "ax2.loglog(p, GAM4N1.real, 'b-')\n",
    "ax2.set_ylabel('$\\Gamma_{4}$', color='b')\n",
    "ax2.tick_params('y', colors='b')\n",
    "\n",
    "# add power laws\n",
    "plotlog(6e-1, 1.5e1, -2, xrange=0.5, color='r', plt=ax1)\n",
    "plotlog(6e-1, 3e0, 2, xrange=0.4, color='b', plt=ax2)\n",
    "plotlog(5e1, 2.5e-2, -1, xrange=0.5, color='r', plt=ax1)\n",
    "plotlog(5e1, 9e2, 1, xrange=0.5, color='b', plt=ax2)\n",
    "\n",
    "plt.xlim(0.1,1e2)\n",
    "fig.tight_layout()\n",
    "plt.title('N='+str(N))\n",
    "# plt.show()\n",
    "plt.savefig('figs/GAMsN'+str(N)+'.eps')"
   ]
  },
  {
   "cell_type": "code",
   "execution_count": null,
   "metadata": {
    "collapsed": true,
    "hidden": true
   },
   "outputs": [],
   "source": [
    "# Brazovskii approx.\n",
    "KSs41 = set4Ks1(KS)\n",
    "GAM4KS = gamma4(pset, wigset, N, FA, KSs41)\n",
    "pS = KS*normK\n",
    "braz = pS**2*GAM4KS.real/GAM2.real"
   ]
  },
  {
   "cell_type": "code",
   "execution_count": null,
   "metadata": {
    "collapsed": true,
    "hidden": true
   },
   "outputs": [],
   "source": [
    "plt.figure(figsize=(6,4.5))\n",
    "plt.loglog(p, p**2*GAM4N1.real/GAM2.real, 'k-', label='exact integrand')\n",
    "plt.loglog(p, braz, 'k-.', label='Brazovskii approx.')\n",
    "plt.axis([0.1,1e2,1e-5,1e6])\n",
    "plotlog(50,5e4,2)\n",
    "plotlog(6e-1,1.5e1,2,xrange=0.4)\n",
    "plt.legend()\n",
    "plt.xlabel('$2l_{p}q$')\n",
    "plt.ylabel('Integrand')\n",
    "plt.title('N='+str(N))\n",
    "# plt.show()\n",
    "plt.savefig('figs/BrazN'+str(N)+'.eps')"
   ]
  },
  {
   "cell_type": "code",
   "execution_count": null,
   "metadata": {
    "collapsed": true,
    "hidden": true
   },
   "outputs": [],
   "source": [
    "plt.figure(figsize=(6,4.5))\n",
    "plt.plot(p, p**2*GAM4N1.real/GAM2.real, 'k-', label='exact integrand')\n",
    "plt.plot(p, braz, 'k--', label='Brazovskii approx.')\n",
    "plt.axis([0.1,0.5,0,5])\n",
    "plt.title('N='+str(N))\n",
    "plt.xlabel('$2l_{p}q$')\n",
    "plt.ylabel('Integrand')\n",
    "plt.legend()\n",
    "# plt.show()\n",
    "plt.savefig('figs/Braz2N'+str(N)+'.eps')"
   ]
  },
  {
   "cell_type": "markdown",
   "metadata": {
    "heading_collapsed": true
   },
   "source": [
    "### Consider N = 1"
   ]
  },
  {
   "cell_type": "code",
   "execution_count": null,
   "metadata": {
    "collapsed": true,
    "hidden": true
   },
   "outputs": [],
   "source": [
    "N = 1\n",
    "FA = 0.5\n",
    "KS = spinodal(pset, N, FA)\n",
    "\n",
    "normK = 1  # equals 2lp if =1\n",
    "# normK = np.sqrt(N/6)\n",
    "KV = np.linspace(1e-2, 20, 501)/normK\n",
    "# KV = np.logspace(-1, 2, 201)/normK\n",
    "p = KV*normK\n",
    "CHI = 6/N\n",
    "\n",
    "pset=propagator.prop_set(nlam=2)\n",
    "wigset = wd.wigner_d_vals()\n",
    "\n",
    "GAM4N1 = np.zeros((len(KV),), dtype='complex')\n",
    "GAM2 = np.zeros((len(KV),), dtype='complex')\n",
    "for ii, K in enumerate(KV):\n",
    "    print(ii)\n",
    "    Ks41 = set4Ks1(K)\n",
    "    GAM4N1[ii] = gamma4(pset, wigset, N, FA, Ks41)\n",
    "    GAM2[ii] = gamma2(pset, N, FA, K, CHI)"
   ]
  },
  {
   "cell_type": "code",
   "execution_count": null,
   "metadata": {
    "collapsed": true,
    "hidden": true
   },
   "outputs": [],
   "source": [
    "fig, ax1 = plt.subplots(figsize=(6,4.5))\n",
    "ax1.loglog(p, 1./GAM2.real, '-', color='r')\n",
    "ax1.set_xlabel('$2l_{p}q$')\n",
    "\n",
    "# Make the y-axis label, ticks and tick labels match the line color.\n",
    "ax1.set_ylabel('$1/\\Gamma{2}$', color='r')\n",
    "ax1.tick_params('y', colors='r')\n",
    "\n",
    "ax2 = ax1.twinx()\n",
    "ax2.loglog(p, GAM4N1.real, 'b-')\n",
    "ax2.set_ylabel('$\\Gamma_{4}$', color='b')\n",
    "ax2.tick_params('y', colors='b')\n",
    "\n",
    "# add power laws\n",
    "plotlog(5e1, 2.5e-2, -1.05, xrange=0.5, color='r', plt=ax1)\n",
    "plotlog(5e1, 1.4e3, 1, xrange=0.5, color='b', plt=ax2)\n",
    "\n",
    "plt.xlim(0.1,1e2)\n",
    "fig.tight_layout()\n",
    "plt.title('N='+str(N))\n",
    "# plt.show()\n",
    "plt.savefig('figs/GAMsN'+str(N)+'.eps')"
   ]
  },
  {
   "cell_type": "code",
   "execution_count": null,
   "metadata": {
    "collapsed": true,
    "hidden": true
   },
   "outputs": [],
   "source": [
    "# Brazovskii approx.\n",
    "KSs41 = set4Ks1(KS)\n",
    "GAM4KS = gamma4(pset, wigset, N, FA, KSs41)\n",
    "pS = KS*normK\n",
    "braz = pS**2*GAM4KS.real/GAM2.real"
   ]
  },
  {
   "cell_type": "code",
   "execution_count": null,
   "metadata": {
    "collapsed": true,
    "hidden": true
   },
   "outputs": [],
   "source": [
    "plt.figure(figsize=(6,4.5))\n",
    "plt.loglog(p, p**2*GAM4N1.real/GAM2.real, 'k-', label='exact integrand')\n",
    "plt.loglog(p, braz, 'k-.', label='Brazovskii approx.')\n",
    "plt.axis([0.1,1e2,1e-1,1e6])\n",
    "plotlog(50,6e4,2)\n",
    "plt.legend()\n",
    "plt.xlabel('$2l_{p}q$')\n",
    "plt.ylabel('Integrand')\n",
    "plt.title('N='+str(N))\n",
    "# plt.show()\n",
    "plt.savefig('figs/BrazN'+str(N)+'.eps')"
   ]
  },
  {
   "cell_type": "code",
   "execution_count": null,
   "metadata": {
    "collapsed": true,
    "hidden": true
   },
   "outputs": [],
   "source": [
    "plt.figure(figsize=(6,4.5))\n",
    "plt.plot(p, p**2*GAM4N1.real/GAM2.real, 'k-', label='exact integrand')\n",
    "plt.plot(p, braz, 'k--', label='Brazovskii approx.')\n",
    "plt.axis([0.1,20,0,2e4])\n",
    "plt.legend()\n",
    "plt.xlabel('$2l_{p}q$')\n",
    "plt.ylabel('Integrand')\n",
    "plt.title('N='+str(N))\n",
    "plt.legend()\n",
    "# plt.show()\n",
    "plt.savefig('figs/Braz2N'+str(N)+'.eps')"
   ]
  },
  {
   "cell_type": "markdown",
   "metadata": {
    "heading_collapsed": true
   },
   "source": [
    "## Check numerical convergence "
   ]
  },
  {
   "cell_type": "code",
   "execution_count": null,
   "metadata": {
    "collapsed": true,
    "hidden": true
   },
   "outputs": [],
   "source": [
    "# NV = np.logspace(0,3,11)\n",
    "NV = [1e3]\n",
    "G4N = np.zeros((len(NV)), dtype='complex')\n",
    "FA = 0.5\n",
    "\n",
    "pset=propagator.prop_set(nlam=1)\n",
    "wigset = wd.wigner_d_vals()\n",
    "\n",
    "for ind, N in enumerate(NV):\n",
    "    Ks = set4Ks1(spinodal(pset, N, FA))\n",
    "    G4N[ind] = gamma4(pset, wigset, N, FA, Ks)*N\n",
    "    print(N, G4N[ind])"
   ]
  },
  {
   "cell_type": "code",
   "execution_count": null,
   "metadata": {
    "collapsed": true,
    "hidden": true
   },
   "outputs": [],
   "source": [
    "NV = np.logspace(0,3,11)\n",
    "G4N = np.zeros((len(NV)), dtype='complex')\n",
    "S3N = np.zeros((len(NV)), dtype='complex')\n",
    "FA = 0.5\n",
    "\n",
    "pset=propagator.prop_set(nlam=5)\n",
    "wigset = wd.wigner_d_vals()\n",
    "\n",
    "for ind, N in enumerate(NV):\n",
    "    Ks = set4Ks1(spinodal(pset, N, FA))\n",
    "    G4N[ind] = gamma4(pset, wigset, N, FA, Ks)*N\n",
    "    print(N, G4N[ind])"
   ]
  },
  {
   "cell_type": "code",
   "execution_count": null,
   "metadata": {
    "collapsed": true,
    "hidden": true
   },
   "outputs": [],
   "source": [
    "plt.semilogx(NV, G4N)\n",
    "plt.show()"
   ]
  },
  {
   "cell_type": "markdown",
   "metadata": {
    "heading_collapsed": true
   },
   "source": [
    "## Write to file"
   ]
  },
  {
   "cell_type": "code",
   "execution_count": null,
   "metadata": {
    "collapsed": true,
    "hidden": true
   },
   "outputs": [],
   "source": [
    "# Figure 1 data\n",
    "\n",
    "filename = 'data/fig1data'\n",
    "f1 = open(filename, 'w')\n",
    "\n",
    "FAV = [0.5]\n",
    "# NV = np.logspace(-1,3,81)\n",
    "NV = [1, 2, 4, 10, 20, 40, 100, 200, 400, 1000]\n",
    "\n",
    "pset=propagator.prop_set(nlam=5)\n",
    "wigset = wd.wigner_d_vals()\n",
    "\n",
    "GAM3N = np.zeros((len(NV), len(FAV)), dtype='complex')\n",
    "GAM4N1 = np.zeros((len(NV), len(FAV)), dtype='complex')\n",
    "GAM4N2 = np.zeros((len(NV), len(FAV)), dtype='complex')\n",
    "GAM4N3 = np.zeros((len(NV), len(FAV)), dtype='complex')\n",
    "GAM4N4 = np.zeros((len(NV), len(FAV)), dtype='complex')\n",
    "for ii, N in enumerate(NV):\n",
    "    for jj, FA in enumerate(FAV):\n",
    "        KS = spinodal(pset, N, FA)\n",
    "        \n",
    "        Ks41 = set4Ks1(KS)\n",
    "        GAM4N1[ii][jj] = gamma4(pset, wigset, N, FA, Ks41)*N\n",
    "        f1.write(' %.4f, %.2f, %.2f, %.4f\\n' %(N, FA, 0, GAM4N1[ii][jj].real))\n",
    "        print(' %.4f, %.2f, %.2f, %.4f' %(N, FA, 0, GAM4N1[ii][jj].real))\n",
    "f1.close()"
   ]
  },
  {
   "cell_type": "code",
   "execution_count": null,
   "metadata": {
    "collapsed": true,
    "hidden": true
   },
   "outputs": [],
   "source": [
    "# Figure 2 data\n",
    "\n",
    "filename = 'data/fig2data'\n",
    "f2 = open(filename, 'w')\n",
    "\n",
    "FAV = np.linspace(0.1,0.5,41)\n",
    "NV = [100,50,10]\n",
    "\n",
    "pset=propagator.prop_set(nlam=3)\n",
    "wigset = wd.wigner_d_vals()\n",
    "\n",
    "GAM3N = np.zeros((len(NV), len(FAV)), dtype='complex')\n",
    "GAM4N1 = np.zeros((len(NV), len(FAV)), dtype='complex')\n",
    "GAM4N2 = np.zeros((len(NV), len(FAV)), dtype='complex')\n",
    "GAM4N3 = np.zeros((len(NV), len(FAV)), dtype='complex')\n",
    "GAM4N4 = np.zeros((len(NV), len(FAV)), dtype='complex')\n",
    "for ii, N in enumerate(NV):\n",
    "    for jj, FA in enumerate(FAV):\n",
    "        KS = spinodal(pset, N, FA)\n",
    "        \n",
    "        Ks3 = set3Ks(KS)\n",
    "        Ks41 = set4Ks1(KS)\n",
    "        Ks42 = set4Ks2(KS)\n",
    "        Ks43 = set4Ks3(KS)\n",
    "        Ks44 = set4Ks4(KS)\n",
    "        \n",
    "        GAM3N[ii][jj] = gamma3(pset, N, FA, Ks3)*N\n",
    "        GAM4N1[ii][jj] = gamma4(pset, wigset, N, FA, Ks41)*N\n",
    "        GAM4N2[ii][jj] = gamma4(pset, wigset, N, FA, Ks42)*N\n",
    "        GAM4N3[ii][jj] = gamma4(pset, wigset, N, FA, Ks43)*N\n",
    "        GAM4N4[ii][jj] = gamma4(pset, wigset, N, FA, Ks44)*N\n",
    "        f2.write(' %.2f, %.2f, %.4f, %.4f, %.4f, %.4f, %.4f\\n' %(N, FA, \n",
    "                                           GAM3N[ii][jj].real, \n",
    "                                           GAM4N1[ii][jj].real, GAM4N2[ii][jj].real,\n",
    "                                           GAM4N3[ii][jj].real, GAM4N4[ii][jj].real))\n",
    "        print('%.2f, %.2f, %.4f, %.4f, %.4f, %.4f, %.4f' %(N, FA, \n",
    "                                           GAM3N[ii][jj].real, \n",
    "                                           GAM4N1[ii][jj].real, GAM4N2[ii][jj].real,\n",
    "                                           GAM4N3[ii][jj].real, GAM4N4[ii][jj].real))\n",
    "f2.close()"
   ]
  },
  {
   "cell_type": "markdown",
   "metadata": {
    "collapsed": true
   },
   "source": [
    "# 3. Solution vertices"
   ]
  },
  {
   "cell_type": "markdown",
   "metadata": {},
   "source": [
    "## 3.1 Vertices at all qs"
   ]
  },
  {
   "cell_type": "markdown",
   "metadata": {
    "heading_collapsed": true
   },
   "source": [
    "### 3.1.1 Gamma2 at all q"
   ]
  },
  {
   "cell_type": "code",
   "execution_count": 122,
   "metadata": {
    "collapsed": true,
    "hidden": true
   },
   "outputs": [],
   "source": [
    "N=1e5\n",
    "FA=0.2\n",
    "CHIAB, CHIAS, CHIBS = 0, 0, 0\n",
    "PHIP = 0.2\n",
    "\n",
    "pset=propagator.prop_set(nlam=1)\n",
    "KV = np.logspace(-1,3,100)/np.sqrt(r2(N))\n",
    "gam2sol = np.zeros((len(KV), 2, 2),dtype=type(1+1j))\n",
    "for i, K in enumerate(KV):\n",
    "    gam2sol[i] = gamma2sol(pset, N, FA, PHIP, K, CHIAB, CHIAS, CHIBS)"
   ]
  },
  {
   "cell_type": "code",
   "execution_count": 123,
   "metadata": {
    "hidden": true
   },
   "outputs": [
    {
     "data": {
      "image/png": "[encoded data removed]",
      "text/plain": [
       "<matplotlib.figure.Figure at 0x119c45cc0>"
      ]
     },
     "metadata": {},
     "output_type": "display_data"
    }
   ],
   "source": [
    "plt.loglog(KV*np.sqrt(r2(N)), N*gam2sol[..., 0, 0].real, label='$\\Gamma_2(1,1)$', linewidth=3)\n",
    "plt.loglog(KV*np.sqrt(r2(N)), N*gam2sol[..., 0, 1].real, label='$\\Gamma_2(1,2)$', linewidth=3)\n",
    "plt.loglog(KV*np.sqrt(r2(N)), N*gam2sol[..., 1, 1].real, label='$\\Gamma_2(2,2)$', linewidth=3)\n",
    "plt.legend(fontsize=15)\n",
    "plt.xlabel('$l_{p}q$', fontsize=15)\n",
    "plt.ylabel('Quadratic Coefficient $\\Gamma_{2}$', fontsize=15)\n",
    "plt.axis([1e-1,1e3,1e-1,1e4])\n",
    "plt.show()\n",
    "# plt.savefig('figs/gam21.eps')"
   ]
  },
  {
   "cell_type": "code",
   "execution_count": 124,
   "metadata": {
    "collapsed": true,
    "hidden": true
   },
   "outputs": [],
   "source": [
    "N=1e5\n",
    "FA=0.2\n",
    "CHIAB, CHIAS, CHIBS = 0, 0, 0\n",
    "PHIP = 0.8\n",
    "\n",
    "pset=propagator.prop_set(nlam=1)\n",
    "KV = np.logspace(-1,3,100)/np.sqrt(r2(N))\n",
    "gam2sol = np.zeros((len(KV), 2, 2),dtype=type(1+1j))\n",
    "for i, K in enumerate(KV):\n",
    "    gam2sol[i] = gamma2sol(pset, N, FA, PHIP, K, CHIAB, CHIAS, CHIBS)"
   ]
  },
  {
   "cell_type": "code",
   "execution_count": 125,
   "metadata": {
    "hidden": true
   },
   "outputs": [
    {
     "data": {
      "image/png": "[encoded data removed]",
      "text/plain": [
       "<matplotlib.figure.Figure at 0x11a2bb6a0>"
      ]
     },
     "metadata": {},
     "output_type": "display_data"
    }
   ],
   "source": [
    "plt.loglog(KV*np.sqrt(r2(N)), N*gam2sol[..., 0, 0].real, label='$\\Gamma_2(1,1)$', linewidth=3)\n",
    "plt.loglog(KV*np.sqrt(r2(N)), N*gam2sol[..., 0, 1].real, label='$\\Gamma_2(1,2)$', linewidth=3)\n",
    "plt.loglog(KV*np.sqrt(r2(N)), N*gam2sol[..., 1, 1].real, label='$\\Gamma_2(2,2)$', linewidth=3)\n",
    "plt.legend(fontsize=15)\n",
    "plt.xlabel('$l_{p}q$', fontsize=15)\n",
    "plt.ylabel('Quadratic Coefficient $\\Gamma_{2}$', fontsize=15)\n",
    "plt.axis([1e-1,1e3,1e-1,1e4])\n",
    "plt.show()\n",
    "# plt.savefig('figs/gam21.eps')"
   ]
  },
  {
   "cell_type": "code",
   "execution_count": 113,
   "metadata": {
    "hidden": true
   },
   "outputs": [
    {
     "data": {
      "image/png": "[encoded data removed]",
      "text/plain": [
       "<matplotlib.figure.Figure at 0x1162d3198>"
      ]
     },
     "metadata": {},
     "output_type": "display_data"
    }
   ],
   "source": [
    "plt.loglog(KV, PHIP/(N*gam2sol[..., 0, 0].real), label='$\\Gamma_2(1,1)$', linewidth=3)\n",
    "plt.show()"
   ]
  },
  {
   "cell_type": "code",
   "execution_count": null,
   "metadata": {
    "collapsed": true,
    "hidden": true
   },
   "outputs": [],
   "source": []
  },
  {
   "cell_type": "code",
   "execution_count": null,
   "metadata": {
    "collapsed": true,
    "hidden": true
   },
   "outputs": [],
   "source": []
  },
  {
   "cell_type": "code",
   "execution_count": 6,
   "metadata": {
    "hidden": true
   },
   "outputs": [
    {
     "data": {
      "image/png": "[encoded data removed]",
      "text/plain": [
       "<matplotlib.figure.Figure at 0x115105518>"
      ]
     },
     "metadata": {},
     "output_type": "display_data"
    }
   ],
   "source": [
    "FA=0.4\n",
    "CHIAB, CHIAS, CHIBS = 0, 0, 0\n",
    "PHIP=0.5\n",
    "\n",
    "plt.figure(figsize=(7,5))\n",
    "for N in [1, 10, 100, 1e3, 1e4, 1e5]:\n",
    "    pset=propagator.prop_set(nlam=1)\n",
    "    \n",
    "    _, Kstar, _ = gamma2sol_spinodal(pset, N, FA, PHIP)\n",
    "    gam2starsol = gamma2sol(pset, N, FA, PHIP, Kstar, CHIAB, CHIAS, CHIBS)\n",
    "    \n",
    "    KV = np.logspace(0,2,100)/np.sqrt(r2(N))\n",
    "    gam2sol = np.zeros((len(KV), 2, 2),dtype=type(1+1j))\n",
    "    for i, K in enumerate(KV):\n",
    "        gam2sol[i] = gamma2sol(pset, N, FA, PHIP, K, CHIAB, CHIAS, CHIBS)\n",
    "\n",
    "    plt.loglog(KV*np.sqrt(r2(N)), N*gam2sol[..., 0, 1].real,\n",
    "               label='$N=$'+str(N), linewidth=2)\n",
    "    plt.plot(Kstar*np.sqrt(r2(N)), N*gam2starsol[0,1].real, 'k.', markersize=10)\n",
    "\n",
    "plt.legend()\n",
    "plt.xlabel('$qR$')\n",
    "plt.title('Quadratic Coefficient $\\Gamma_{2}$', fontsize=15)\n",
    "plt.axis([1e0,1e2,1e-1,1e1])\n",
    "plt.show()"
   ]
  },
  {
   "cell_type": "code",
   "execution_count": 142,
   "metadata": {
    "hidden": true
   },
   "outputs": [
    {
     "data": {
      "image/png": "[encoded data removed]",
      "text/plain": [
       "<matplotlib.figure.Figure at 0x10e586518>"
      ]
     },
     "metadata": {},
     "output_type": "display_data"
    }
   ],
   "source": [
    "FA=0.2\n",
    "CHIAB, CHIAS, CHIBS = 0, 0, 0\n",
    "\n",
    "plt.figure(figsize=(7,5))\n",
    "for N in [1, 10, 100, 1e3, 1e4, 1e5]:\n",
    "    pset=propagator.prop_set(nlam=1)\n",
    "    \n",
    "    _, Kstar, _ = gamma2sol_spinodal(pset, N, FA, PHIP)\n",
    "    gam2starsol = gamma2sol(pset, N, FA, PHIP, Kstar, CHIAB, CHIAS, CHIBS)\n",
    "    \n",
    "    KV = np.logspace(0,2,100)/np.sqrt(r2(N))\n",
    "    gam2sol = np.zeros((len(KV), 2, 2),dtype=type(1+1j))\n",
    "    for i, K in enumerate(KV):\n",
    "        gam2sol[i] = gamma2sol(pset, N, FA, PHIP, K, CHIAB, CHIAS, CHIBS)\n",
    "\n",
    "    plt.loglog(KV*np.sqrt(r2(N)), N*gam2sol[..., 0, 1].real,\n",
    "               label='$N=$'+str(N), linewidth=2)\n",
    "    plt.plot(Kstar*np.sqrt(r2(N)), N*gam2starsol[0,1].real, 'k.', markersize=10)\n",
    "\n",
    "plt.legend()\n",
    "plt.xlabel('$qR$')\n",
    "plt.title('Quadratic Coefficient $\\Gamma_{2}$', fontsize=15)\n",
    "plt.axis([1e0,1e2,1e-1,1e1])\n",
    "plt.show()"
   ]
  },
  {
   "cell_type": "code",
   "execution_count": 149,
   "metadata": {
    "hidden": true
   },
   "outputs": [
    {
     "data": {
      "image/png": "[encoded data removed]",
      "text/plain": [
       "<matplotlib.figure.Figure at 0x11637ecf8>"
      ]
     },
     "metadata": {},
     "output_type": "display_data"
    }
   ],
   "source": [
    "FA=0.2\n",
    "CHIAB, CHIAS, CHIBS = 0, 0, 0\n",
    "\n",
    "plt.figure(figsize=(7,5))\n",
    "for N in [1, 10, 100, 1e3, 1e4, 1e5]:\n",
    "    pset=propagator.prop_set(nlam=1)\n",
    "    \n",
    "    _, Kstar, _ = gamma2sol_spinodal(pset, N, FA, PHIP)\n",
    "    gam2starsol = gamma2sol(pset, N, FA, PHIP, Kstar, CHIAB, CHIAS, CHIBS)\n",
    "    \n",
    "    KV = np.logspace(0,2,100)/np.sqrt(r2(N))\n",
    "    gam2sol = np.zeros((len(KV), 2, 2),dtype=type(1+1j))\n",
    "    for i, K in enumerate(KV):\n",
    "        gam2sol[i] = gamma2sol(pset, N, FA, PHIP, K, CHIAB, CHIAS, CHIBS)\n",
    "\n",
    "    plt.loglog(KV*np.sqrt(r2(N)), N*gam2sol[..., 0, 0].real,\n",
    "               label='$N=$'+str(N), linewidth=2)\n",
    "    plt.plot(Kstar*np.sqrt(r2(N)), N*gam2starsol[0,0].real, 'k.', markersize=10)\n",
    "\n",
    "plt.legend()\n",
    "plt.xlabel('$qR$')\n",
    "plt.title('Quadratic Coefficient $\\Gamma_{2}$', fontsize=15)\n",
    "# plt.axis([1e0,1e2,1e-1,1e1])\n",
    "plt.show()"
   ]
  },
  {
   "cell_type": "code",
   "execution_count": 151,
   "metadata": {
    "hidden": true
   },
   "outputs": [
    {
     "data": {
      "image/png": "[encoded data removed]",
      "text/plain": [
       "<matplotlib.figure.Figure at 0x1251cce80>"
      ]
     },
     "metadata": {},
     "output_type": "display_data"
    }
   ],
   "source": [
    "FA=0.2\n",
    "CHIAB, CHIAS, CHIBS = 0, 0, 0\n",
    "\n",
    "plt.figure(figsize=(7,5))\n",
    "for N in [1, 10, 100, 1e3, 1e4, 1e5]:\n",
    "    pset=propagator.prop_set(nlam=1)\n",
    "    \n",
    "    _, Kstar, _ = gamma2sol_spinodal(pset, N, FA, PHIP)\n",
    "    gam2starsol = gamma2sol(pset, N, FA, PHIP, Kstar, CHIAB, CHIAS, CHIBS)\n",
    "    \n",
    "    KV = np.logspace(0,4,100)/np.sqrt(r2(N))\n",
    "    gam2sol = np.zeros((len(KV), 2, 2),dtype=type(1+1j))\n",
    "    for i, K in enumerate(KV):\n",
    "        gam2sol[i] = gamma2sol(pset, N, FA, PHIP, K, CHIAB, CHIAS, CHIBS)\n",
    "\n",
    "    plt.loglog(KV*np.sqrt(r2(N)), N*gam2sol[..., 1, 1].real,\n",
    "               label='$N=$'+str(N), linewidth=2)\n",
    "    plt.plot(Kstar*np.sqrt(r2(N)), N*gam2starsol[1,1].real, 'k.', markersize=10)\n",
    "\n",
    "plt.legend()\n",
    "plt.xlabel('$qR$')\n",
    "plt.title('Quadratic Coefficient $\\Gamma_{2}$', fontsize=15)\n",
    "# plt.axis([1e0,1e2,1e-1,1e1])\n",
    "plt.show()"
   ]
  },
  {
   "cell_type": "markdown",
   "metadata": {
    "heading_collapsed": true
   },
   "source": [
    "### 3.1.2 Gamma3 at all q"
   ]
  },
  {
   "cell_type": "code",
   "execution_count": null,
   "metadata": {
    "collapsed": true,
    "hidden": true
   },
   "outputs": [],
   "source": [
    "N=100\n",
    "FA=0.2\n",
    "PHIP = 0.5\n",
    "\n",
    "pset=propagator.prop_set(nlam=1)\n",
    "KV = np.logspace(-1,3,100)\n",
    "gam3sol = np.zeros((len(KV), 2, 2, 2),dtype=type(1+1j))\n",
    "for i, K in enumerate(KV):\n",
    "    Ks = set3Ks(K)\n",
    "    gam3sol[i] = gamma3sol(pset, N, FA, PHIP, Ks)"
   ]
  },
  {
   "cell_type": "code",
   "execution_count": null,
   "metadata": {
    "collapsed": true,
    "hidden": true
   },
   "outputs": [],
   "source": [
    "plt.loglog(KV, -gam3sol[..., 0, 0, 0].real, label='$-\\Gamma_3(1,1,1)$', linewidth=3)\n",
    "plt.loglog(KV, -gam3sol[..., 0, 0, 1].real, label='$-\\Gamma_3(1,1,2)$', linewidth=3)\n",
    "plt.loglog(KV, -gam3sol[..., 1, 1, 1].real, label='$-\\Gamma_3(2,2,2)$', linewidth=3)\n",
    "plt.legend(fontsize=15)\n",
    "plt.xlim(1e-1,1e2)\n",
    "# plt.ylim(1e-1,1e3)\n",
    "plt.xlabel('$l_{p}q$', fontsize=15)\n",
    "plt.ylabel('Cubic Coefficient $-\\Gamma_{3}$', fontsize=13)\n",
    "# plt.show()\n",
    "plt.savefig('figs/gam31.eps')"
   ]
  },
  {
   "cell_type": "markdown",
   "metadata": {
    "heading_collapsed": true
   },
   "source": [
    "### 3.1.3 Gamma4 at all q"
   ]
  },
  {
   "cell_type": "code",
   "execution_count": null,
   "metadata": {
    "collapsed": true,
    "hidden": true
   },
   "outputs": [],
   "source": [
    "N=100\n",
    "FA=0.2\n",
    "PHIP = 0.5\n",
    "\n",
    "pset=propagator.prop_set(nlam=2)\n",
    "wigset = wd.wigner_d_vals()\n",
    "KV = np.logspace(-1,3,100)\n",
    "gam4sol = np.zeros((len(KV), 2, 2, 2, 2),dtype=type(1+1j))\n",
    "for i, K in enumerate(KV):\n",
    "    Ks = set4Ks(K)\n",
    "    gam4sol[i] = gamma4sol(pset, wigset, N, FA, PHIP, Ks)"
   ]
  },
  {
   "cell_type": "code",
   "execution_count": null,
   "metadata": {
    "collapsed": true,
    "hidden": true
   },
   "outputs": [],
   "source": [
    "plt.loglog(KV, gam4sol[..., 0, 0, 0, 0].real, label='$\\Gamma_4(1,1,1,1)$', linewidth=3)\n",
    "plt.loglog(KV, gam4sol[..., 0, 0, 1, 1].real, label='$\\Gamma_4(1,1,2,2)$', linewidth=3)\n",
    "plt.loglog(KV, gam4sol[..., 1, 1, 1, 1].real, label='$\\Gamma_4(2,2,2,2)$', linewidth=3)\n",
    "plt.legend(fontsize=15)\n",
    "plt.xlim(1e-1,1e2)\n",
    "# plt.ylim(1e-1,1e3)\n",
    "plt.xlabel('$l_{p}q$', fontsize=13)\n",
    "plt.ylabel('Quartic Coefficient $\\Gamma_{4}$', fontsize=15)\n",
    "# plt.show()\n",
    "plt.savefig('figs/gam41.eps')"
   ]
  },
  {
   "cell_type": "markdown",
   "metadata": {
    "collapsed": true,
    "heading_collapsed": true
   },
   "source": [
    "## Structure factors of diblock copolymer in solution"
   ]
  },
  {
   "cell_type": "code",
   "execution_count": 16,
   "metadata": {
    "collapsed": true,
    "hidden": true
   },
   "outputs": [],
   "source": [
    "N=1\n",
    "FA=0.5\n",
    "CHIAB, CHIAS, CHIBS = 0, 0, 0\n",
    "PHIP = 0.5\n",
    "\n",
    "pset=propagator.prop_set(nlam=1)\n",
    "KV = np.logspace(-1,3,100)/np.sqrt(r2(N))\n",
    "# gam2sol = np.zeros((len(KV), 2, 2),dtype=type(1+1j))\n",
    "mineig = np.zeros((len(KV), 1),dtype=type(1+1j))\n",
    "maxeig = np.zeros((len(KV), 1),dtype=type(1+1j))\n",
    "for i, K in enumerate(KV):\n",
    "    maxeig[i], _ = gamma2sol_biggereig(pset, N, FA, PHIP, K, CHIAB, CHIAS, CHIBS)\n",
    "    mineig[i], _ = gamma2sol_smallereig(pset, N, FA, PHIP, K, CHIAB, CHIAS, CHIBS)"
   ]
  },
  {
   "cell_type": "code",
   "execution_count": 17,
   "metadata": {
    "hidden": true
   },
   "outputs": [
    {
     "data": {
      "image/png": "[encoded data removed]",
      "text/plain": [
       "<matplotlib.figure.Figure at 0x117f76d68>"
      ]
     },
     "metadata": {},
     "output_type": "display_data"
    }
   ],
   "source": [
    "plt.loglog(KV*np.sqrt(r2(N)), 1./(N*mineig.real))\n",
    "plt.loglog(KV*np.sqrt(r2(N)), 1./(N*maxeig.real))\n",
    "plt.show()"
   ]
  },
  {
   "cell_type": "code",
   "execution_count": null,
   "metadata": {
    "collapsed": true,
    "hidden": true
   },
   "outputs": [],
   "source": [
    "N=1\n",
    "FA=0.2\n",
    "CHIAB, CHIAS, CHIBS = 5/N/PHIP, 0, 0\n",
    "PHIP = 0.5\n",
    "\n",
    "pset=propagator.prop_set(nlam=1)\n",
    "KV = np.logspace(-1,3,100)\n",
    "# gam2sol = np.zeros((len(KV), 2, 2),dtype=type(1+1j))\n",
    "mineig = np.zeros((len(KV), 1),dtype=type(1+1j))\n",
    "maxeig = np.zeros((len(KV), 1),dtype=type(1+1j))\n",
    "for i, K in enumerate(KV):\n",
    "    maxeig[i], _ = gamma2sol_biggereig(pset, N, FA, PHIP, K, CHIAB, CHIAS, CHIBS)\n",
    "    mineig[i], _ = gamma2sol_smallereig(pset, N, FA, PHIP, K, CHIAB, CHIAS, CHIBS)"
   ]
  },
  {
   "cell_type": "code",
   "execution_count": null,
   "metadata": {
    "collapsed": true,
    "hidden": true
   },
   "outputs": [],
   "source": [
    "plt.loglog(KV, 1./mineig.real)\n",
    "plt.loglog(KV, 1./maxeig.real)\n",
    "# plt.axis([1e-1,1e3,1e-3,1])\n",
    "plt.show()"
   ]
  },
  {
   "cell_type": "markdown",
   "metadata": {
    "heading_collapsed": true
   },
   "source": [
    "## find spinodals"
   ]
  },
  {
   "cell_type": "code",
   "execution_count": 154,
   "metadata": {
    "hidden": true
   },
   "outputs": [
    {
     "name": "stdout",
     "output_type": "stream",
     "text": [
      "0\n",
      "1\n",
      "2\n",
      "3\n",
      "4\n"
     ]
    }
   ],
   "source": [
    "N=1000\n",
    "pset=propagator.prop_set(nlam=1)\n",
    "\n",
    "PHIPV = [0.2, 0.4, 0.6, 0.8, 0.9999]\n",
    "FAV = np.linspace(.15, .499, 21)\n",
    "CHIABsV_N1000 = np.zeros((len(FAV), len(PHIPV)))\n",
    "KsolsV_N1000 = np.zeros((len(FAV), len(PHIPV)))\n",
    "\n",
    "for iP, PHIP in enumerate(PHIPV):\n",
    "    print(iP)\n",
    "    for iF, FA in enumerate(FAV):\n",
    "        if 1-PHIP < 1e-3:\n",
    "            CHIABsV_N1000[iF][iP] = chis(N, FA)\n",
    "            KsolsV_N1000[iF][iP] = spinodal(pset, N, FA)\n",
    "        else:\n",
    "            CHIABsV_N1000[iF][iP], KsolsV_N1000[iF][iP], _ =\\\n",
    "            gamma2sol_spinodal(pset, N, FA, PHIP)"
   ]
  },
  {
   "cell_type": "code",
   "execution_count": 155,
   "metadata": {
    "hidden": true
   },
   "outputs": [
    {
     "name": "stdout",
     "output_type": "stream",
     "text": [
      "0\n",
      "1\n",
      "2\n",
      "3\n",
      "4\n"
     ]
    }
   ],
   "source": [
    "N=1\n",
    "pset=propagator.prop_set(nlam=1)\n",
    "\n",
    "PHIPV = [0.2, 0.4, 0.6, 0.8, 0.9999]\n",
    "FAV = np.linspace(.15, .499, 21)\n",
    "CHIABsV_N1 = np.zeros((len(FAV), len(PHIPV)))\n",
    "KsolsV_N1 = np.zeros((len(FAV), len(PHIPV)))\n",
    "\n",
    "for iP, PHIP in enumerate(PHIPV):\n",
    "    print(iP)\n",
    "    for iF, FA in enumerate(FAV):\n",
    "        if 1-PHIP < 1e-3:\n",
    "            CHIABsV_N1[iF][iP] = chis(N, FA)\n",
    "            KsolsV_N1[iF][iP] = spinodal(pset, N, FA)\n",
    "        else:\n",
    "            CHIABsV_N1[iF][iP], KsolsV_N1[iF][iP], _ =\\\n",
    "            gamma2sol_spinodal(pset, N, FA, PHIP)"
   ]
  },
  {
   "cell_type": "code",
   "execution_count": 176,
   "metadata": {
    "hidden": true
   },
   "outputs": [
    {
     "data": {
      "image/png": "[encoded data removed]",
      "text/plain": [
       "<matplotlib.figure.Figure at 0x112f56e10>"
      ]
     },
     "metadata": {},
     "output_type": "display_data"
    }
   ],
   "source": [
    "f, axarr = plt.subplots(1, 2, figsize=(8, 4))\n",
    "plt.axes(axarr[0])\n",
    "N = 1\n",
    "\n",
    "for iP, PHIP in enumerate(PHIPV):\n",
    "    col = iP/len(PHIPV)\n",
    "    plt.plot(FAV, CHIABsV_N1[:,iP]*N*PHIP, '-', color=(col, 0, 1-col))\n",
    "    plt.plot(1-FAV, CHIABsV_N1[:,iP]*N*PHIP, '-', color=(col, 0, 1-col))\n",
    "plt.axis([0.15, 0.85, 5, 30])\n",
    "\n",
    "plt.axes(axarr[1])\n",
    "for iP, PHIP in enumerate(PHIPV):\n",
    "    col = iP/len(PHIPV)\n",
    "    plt.plot(FAV, KsolsV_N1[:,iP]*np.sqrt(r2(N)), '-', color=(col, 0, 1-col))\n",
    "    plt.plot(1-FAV, KsolsV_N1[:,iP]*np.sqrt(r2(N)), '-', color=(col, 0, 1-col))\n",
    "plt.axis([0.15, 0.85, 4.5, 7.0])\n",
    "\n",
    "plt.show()"
   ]
  },
  {
   "cell_type": "code",
   "execution_count": 189,
   "metadata": {
    "collapsed": true,
    "hidden": true
   },
   "outputs": [],
   "source": [
    "plt.figure(figsize=(8, 8))\n",
    "for iP, PHIP in enumerate(PHIPV):\n",
    "    col = iP/(len(PHIPV)-1)\n",
    "    plt.plot(FAV, KsolsV_N1[:,iP]*np.sqrt(r2(1)), '-',\n",
    "             color=(col, 0, 1-col), linewidth=2)\n",
    "    plt.plot(1-FAV, KsolsV_N1[:,iP]*np.sqrt(r2(1)), '-',\n",
    "             color=(col, 0, 1-col), linewidth=2)\n",
    "    \n",
    "    plt.plot(FAV, KsolsV_N1000[:,iP]*np.sqrt(r2(1000)), '-',\n",
    "             color=(col, 0, 1-col), linewidth=2)\n",
    "    plt.plot(1-FAV, KsolsV_N1000[:,iP]*np.sqrt(r2(1000)), '-',\n",
    "             color=(col, 0, 1-col), linewidth=2)\n",
    "plt.axis([0.15, 0.85, 4.5, 7.0])\n",
    "plt.xticks(fontsize=20)\n",
    "plt.yticks(fontsize=20)\n",
    "plt.xlabel('$f_{A}$', fontsize=20)\n",
    "plt.ylabel('$Rq^{*}(\\chi_{AB}^{*})$', fontsize=20)\n",
    "\n",
    "# plt.show()\n",
    "plt.savefig('figs/qstar.svg')"
   ]
  },
  {
   "cell_type": "markdown",
   "metadata": {},
   "source": [
    "## plot free energy"
   ]
  },
  {
   "cell_type": "markdown",
   "metadata": {
    "heading_collapsed": true
   },
   "source": [
    "### Calculate free energy surfaces"
   ]
  },
  {
   "cell_type": "code",
   "execution_count": 51,
   "metadata": {
    "hidden": true
   },
   "outputs": [
    {
     "name": "stdout",
     "output_type": "stream",
     "text": [
      "1.68875284633 [ 0.98876456 -0.14948125]\n",
      "-46.9861333904\n",
      "444.83739092\n"
     ]
    }
   ],
   "source": [
    "# make surface plot of free energy at fixed CHIAB\n",
    "N = 10\n",
    "FA = 0.3\n",
    "PHIP = 0.5\n",
    "\n",
    "pset=propagator.prop_set(nlam=5)\n",
    "wigset = wd.wigner_d_vals()\n",
    "\n",
    "# find critical wavemode\n",
    "CHIABs, Ks, eigvmin = gamma2sol_spinodal(pset, N, FA, PHIP)\n",
    "\n",
    "gam3sol = gamma3sol(pset, N, FA, PHIP, set3Ks(Ks)).real\n",
    "gam41sol = gamma4sol(pset, wigset, N, FA, PHIP, set4Ks1(Ks)).real\n",
    "gam42sol = gamma4sol(pset, wigset, N, FA, PHIP, set4Ks2(Ks)).real\n",
    "gam43sol = gamma4sol(pset, wigset, N, FA, PHIP, set4Ks3(Ks)).real\n",
    "gam44sol = gamma4sol(pset, wigset, N, FA, PHIP, set4Ks4(Ks)).real\n",
    "\n",
    "print(Ks, eigvmin)\n",
    "print(gam3sol[0][0][0]*N/PHIP)\n",
    "print(gam41sol[0][0][0][0]*N/PHIP)"
   ]
  },
  {
   "cell_type": "code",
   "execution_count": 52,
   "metadata": {
    "hidden": true
   },
   "outputs": [
    {
     "name": "stdout",
     "output_type": "stream",
     "text": [
      "[ 0.98876456 -0.14948125]\n"
     ]
    },
    {
     "data": {
      "image/png": "[encoded data removed]",
      "text/plain": [
       "<matplotlib.figure.Figure at 0x117bffc50>"
      ]
     },
     "metadata": {},
     "output_type": "display_data"
    },
    {
     "name": "stdout",
     "output_type": "stream",
     "text": [
      "LAM FE\n",
      "(array([ 64.91142979, -14.08149224]), -4.6879714923486269, 62, 118, 0)\n",
      "CYL FE\n",
      "(array([ 54.39093111,  -8.81074546]), -3.5961529842788877, 58, 111, 0)\n",
      "BCC FE\n",
      "(array([ 44.87747866,  -6.86035293]), -2.4866533403506783, 62, 119, 0)\n"
     ]
    }
   ],
   "source": [
    "# energy landscape in the eigvec direction\n",
    "CHIAB = 5/N/PHIP\n",
    "\n",
    "# calculate second order vertex (assuming invariant Ks)\n",
    "CHIAS, CHIBS = 0, 0\n",
    "gam2sol = gamma2sol(pset, N, FA, PHIP, Ks, CHIAB+CHIABs, CHIAS, CHIBS).real\n",
    "\n",
    "Amax = 50\n",
    "AeigV = np.linspace(-Amax,Amax,100)\n",
    "FE1eigV = np.zeros((len(AeigV), 1))\n",
    "FE3eigV = np.zeros((len(AeigV), 1))\n",
    "FE6eigV = np.zeros((len(AeigV), 1))\n",
    "print(eigvmin)\n",
    "\n",
    "for i, A in enumerate(AeigV):\n",
    "    A1 = eigvmin[0]*A\n",
    "    A2 = eigvmin[1]*A\n",
    "    FE1eigV[i] = FE1sol(A1, A2, gam2sol, gam41sol)\n",
    "    FE3eigV[i] = FE3sol(A1, A2, gam2sol, gam3sol, gam41sol, gam42sol)\n",
    "    FE6eigV[i] = FE6sol(A1, A2, gam2sol, gam3sol, gam41sol, gam42sol, gam43sol, gam44sol)\n",
    "\n",
    "plt.plot(AeigV, N*FE1eigV, label='LAM')\n",
    "plt.plot(AeigV, N*FE3eigV, label='CYL')\n",
    "plt.plot(AeigV, N*FE6eigV, label='BCC')\n",
    "plt.axis([0,50,-10,10])\n",
    "# plt.xlim([0,50])\n",
    "# plt.ylim([-.1,.1])\n",
    "plt.xlabel('Eigenmode Amplitude')\n",
    "plt.ylabel('Free Energy')\n",
    "plt.legend()\n",
    "plt.show()\n",
    "\n",
    "Avec0 = [10,10]\n",
    "print('LAM FE')\n",
    "print(optimize.fmin(lambda Avec: FE1sol(Avec[0], Avec[1], gam2sol, gam41sol),\n",
    "                  Avec0, disp=False, full_output=1))\n",
    "print('CYL FE')\n",
    "print(optimize.fmin(lambda Avec: FE3sol(Avec[0], Avec[1], gam2sol,\n",
    "                                      gam3sol, gam41sol, gam42sol),\n",
    "                  Avec0, disp=False, full_output=1))\n",
    "print('BCC FE')\n",
    "print(optimize.fmin(lambda Avec: FE6sol(Avec[0], Avec[1], gam2sol,\n",
    "                                      gam3sol, gam41sol, gam42sol, gam43sol, gam44sol),\n",
    "                  Avec0, disp=False, full_output=1))"
   ]
  },
  {
   "cell_type": "code",
   "execution_count": null,
   "metadata": {
    "collapsed": true,
    "hidden": true
   },
   "outputs": [],
   "source": [
    "plt.plot(AV, N*FE1(AV, CHI, gam41),'r-', label='LAM')\n",
    "plt.plot(AV, N*FE3(AV, CHI, gam3, gam41, gam42), 'b-', label='CYL')\n",
    "plt.plot(AV, N*FE6(AV, CHI, gam3, gam41, gam42, gam43, gam44), 'k-', label='BCC')\n",
    "plt.plot(AeigV, N*FE1eigV, 'r-', label='LAM')\n",
    "plt.plot(AeigV, N*FE3eigV, 'b-', label='CYL')\n",
    "plt.plot(AeigV, N*FE6eigV, 'k-', label='BCC')\n",
    "# plt.axis([0,50,-0.1,0.5])"
   ]
  },
  {
   "cell_type": "markdown",
   "metadata": {
    "heading_collapsed": true
   },
   "source": [
    "### Energy surface"
   ]
  },
  {
   "cell_type": "code",
   "execution_count": 20,
   "metadata": {
    "collapsed": true,
    "hidden": true
   },
   "outputs": [],
   "source": [
    "def plotsurface(ax, X, Y, FE, eigvmin, Amin, \n",
    "                twomin=False, clims=[-20, 20], xlims=False, ylims=False):\n",
    "    plt.axes(ax)\n",
    "    cf = plt.pcolor(X, Y, FE, cmap=plt.cm.jet, vmin=clims[0], vmax=clims[1])\n",
    "\n",
    "    # plot eig. vector direction\n",
    "    plt.plot(X[0], X[0]*eigvmin[1]/eigvmin[0], 'w', zorder=1)\n",
    "    if twomin:\n",
    "        plt.plot(Amin[0], Amin[1], 'wo', markersize=5, zorder=1)\n",
    "        plt.plot(-Amin[0], -Amin[1], 'wo', markersize=5, zorder=1)\n",
    "    else:\n",
    "        plt.plot(Amin[0], Amin[1], 'wo', markersize=5, zorder=1)\n",
    "    plt.plot(0, 0, 'wo', markersize=5, zorder=1)\n",
    "    plt.xlabel('$a_{1}$', fontsize=15)\n",
    "    plt.ylabel('$a_{2}$', fontsize=15)\n",
    "    \n",
    "    if xlims:\n",
    "        plt.xlim(xlims)\n",
    "    if ylims:\n",
    "        plt.xlim(ylims)\n",
    "\n",
    "    plt.colorbar()"
   ]
  },
  {
   "cell_type": "code",
   "execution_count": 21,
   "metadata": {
    "collapsed": true,
    "hidden": true
   },
   "outputs": [],
   "source": [
    "def FEsurfcalc(A1max, A2max, gam2sol, gam3sol, gam41sol, gam42sol, gam43sol, gam44sol):\n",
    "    A1V = np.linspace(-A1max,A1max,200)\n",
    "    A2V = np.linspace(-A2max,A2max,200)\n",
    "    X, Y = np.meshgrid(A1V, A2V)\n",
    "    FE1V = np.zeros((len(A2V), len(A1V)))\n",
    "    FE3V = np.zeros((len(A2V), len(A1V)))\n",
    "    FE6V = np.zeros((len(A2V), len(A1V)))\n",
    "\n",
    "    # find free energies\n",
    "    for i in range(X.shape[0]):\n",
    "        for j in range(X.shape[1]):\n",
    "            A1 = X[i][j]\n",
    "            A2 = Y[i][j]\n",
    "            FE1V[i][j] = FE1sol(A1, A2, gam2sol, gam41sol)\n",
    "            FE3V[i][j] = FE3sol(A1, A2, gam2sol, gam3sol, gam41sol, gam42sol)\n",
    "            FE6V[i][j] = FE6sol(A1, A2, gam2sol, gam3sol,\n",
    "                                gam41sol, gam42sol, gam43sol, gam44sol)\n",
    "\n",
    "    # find minimum energy amplitudes\n",
    "    Avec0 = [10,10]\n",
    "    A1min = optimize.fmin(lambda Avec: FE1sol(Avec[0], Avec[1], gam2sol, gam41sol),\n",
    "                      Avec0, disp=False, full_output=1)[0]\n",
    "    A3min = optimize.fmin(lambda Avec: FE3sol(Avec[0], Avec[1], gam2sol,\n",
    "                                          gam3sol, gam41sol, gam42sol),\n",
    "                      Avec0, disp=False, full_output=1)[0]\n",
    "    A6min = optimize.fmin(lambda Avec: FE6sol(Avec[0], Avec[1], gam2sol,\n",
    "                                          gam3sol, gam41sol, gam42sol, gam43sol, gam44sol),\n",
    "                      Avec0, disp=False, full_output=1)[0]\n",
    "    \n",
    "    # find minimum energies\n",
    "    FE1min = optimize.fmin(lambda Avec: FE1sol(Avec[0], Avec[1], gam2sol, gam41sol),\n",
    "                      Avec0, disp=False, full_output=1)[1]\n",
    "    FE3min = optimize.fmin(lambda Avec: FE3sol(Avec[0], Avec[1], gam2sol,\n",
    "                                          gam3sol, gam41sol, gam42sol),\n",
    "                      Avec0, disp=False, full_output=1)[1]\n",
    "    FE6min = optimize.fmin(lambda Avec: FE6sol(Avec[0], Avec[1], gam2sol,\n",
    "                                          gam3sol, gam41sol, gam42sol, gam43sol, gam44sol),\n",
    "                      Avec0, disp=False, full_output=1)[1]\n",
    "    \n",
    "    return X, Y, FE1V, FE3V, FE6V, A1min, A3min, A6min"
   ]
  },
  {
   "cell_type": "code",
   "execution_count": 22,
   "metadata": {
    "collapsed": true,
    "hidden": true
   },
   "outputs": [],
   "source": [
    "def plotFEsurf(N, FA, PHIP):\n",
    "    pset=propagator.prop_set(nlam=5)\n",
    "    wigset = wd.wigner_d_vals()\n",
    "\n",
    "    # find critical wavemode\n",
    "    CHIABs, Ks, eigvmin = gamma2sol_spinodal(pset, N, FA, PHIP)\n",
    "\n",
    "    # calculate higher order vertices\n",
    "    gam3sol = gamma3sol(pset, N, FA, PHIP, set3Ks(Ks)).real\n",
    "    gam41sol = gamma4sol(pset, wigset, N, FA, PHIP, set4Ks1(Ks)).real\n",
    "    gam42sol = gamma4sol(pset, wigset, N, FA, PHIP, set4Ks2(Ks)).real\n",
    "    gam43sol = gamma4sol(pset, wigset, N, FA, PHIP, set4Ks3(Ks)).real\n",
    "    gam44sol = gamma4sol(pset, wigset, N, FA, PHIP, set4Ks4(Ks)).real\n",
    "\n",
    "    CHIABV = np.array([1, 2, 5])/N/PHIP\n",
    "    f, axarr = plt.subplots(3, 3, figsize=(12, 8))\n",
    "    for i, CHIAB in enumerate(CHIABV):\n",
    "        axarr[0][i].set_title('$(\\chi_{AB}-\\chi_{AB}^{*})N\\phi_{P}=$'+str(CHIAB*N*PHIP))\n",
    "        \n",
    "        # calculate second order vertex (assuming invariant Ks)\n",
    "        CHIAS, CHIBS = 0, 0\n",
    "        gam2sol = gamma2sol(pset, N, FA, PHIP, Ks, CHIAB+CHIABs, CHIAS, CHIBS).real\n",
    "\n",
    "        # calculate free energy surface\n",
    "        A1max, A2max = 100, 40\n",
    "        X, Y, FE1V, FE3V, FE6V, A1min, A3min, A6min = FEsurfcalc(A1max, A2max, gam2sol, gam3sol,\n",
    "                                                                 gam41sol, gam42sol, gam43sol, gam44sol)\n",
    "\n",
    "        plotsurface(axarr[0][i], X, Y, N*FE1V, eigvmin, A1min, twomin=True)\n",
    "        plotsurface(axarr[1][i], X, Y, N*FE3V, eigvmin, A3min)\n",
    "        plotsurface(axarr[2][i], X, Y, N*FE6V, eigvmin, A6min)"
   ]
  },
  {
   "cell_type": "code",
   "execution_count": 23,
   "metadata": {
    "collapsed": true,
    "hidden": true
   },
   "outputs": [],
   "source": [
    "# make surface plot of free energy at fixed CHIAB\n",
    "for N in [10, 50, 100]:\n",
    "    FA = 0.2\n",
    "    PHIP = 0.5\n",
    "    plotFEsurf(N, FA, PHIP)\n",
    "    plt.tight_layout()\n",
    "#     plt.show()\n",
    "    plt.savefig('figs/energy'+str(N)+'.eps')"
   ]
  },
  {
   "cell_type": "markdown",
   "metadata": {},
   "source": [
    "### Make phase diagrams"
   ]
  },
  {
   "cell_type": "markdown",
   "metadata": {
    "heading_collapsed": true
   },
   "source": [
    "#### recalculate phase diagams"
   ]
  },
  {
   "cell_type": "code",
   "execution_count": null,
   "metadata": {
    "collapsed": true,
    "hidden": true
   },
   "outputs": [],
   "source": [
    "chiootsol(100, 0.3, 0.5)"
   ]
  },
  {
   "cell_type": "code",
   "execution_count": null,
   "metadata": {
    "collapsed": true,
    "hidden": true
   },
   "outputs": [],
   "source": [
    "N = 100\n",
    "FAV = np.linspace(.15, .499, 21)\n",
    "PHIP = 0.99\n",
    "\n",
    "CHIsolsV = np.zeros((len(FAV), 1))\n",
    "CHIsol13V = np.zeros((len(FAV), 1))\n",
    "CHIsol36V = np.zeros((len(FAV), 1))\n",
    "\n",
    "for i, FA in enumerate(FAV):\n",
    "    CHIsolsV[i], CHIsol13V[i], CHIsol36V[i] = chiootsol(N, FA, PHIP)\n",
    "    print(N, FA, CHIsolsV[i], CHIsol13V[i], CHIsol36V[i])"
   ]
  },
  {
   "cell_type": "code",
   "execution_count": null,
   "metadata": {
    "collapsed": true,
    "hidden": true
   },
   "outputs": [],
   "source": [
    "FAV = np.linspace(.15, .499, 21)\n",
    "\n",
    "plt.figure(figsize=(4,5))\n",
    "# plt.plot(FAV, CHIsV*N, 'k-')\n",
    "# plt.plot(FAV, (CHIsV+CHI13V)*N, 'r-')\n",
    "# plt.plot(FAV, (CHIsV+CHI36V)*N, 'b-')\n",
    "# plt.plot(1-FAV, CHIsV*N, 'k-')\n",
    "# plt.plot(1-FAV, (CHIsV+CHI13V)*N, 'r-')\n",
    "# plt.plot(1-FAV, (CHIsV+CHI36V)*N, 'b-')\n",
    "\n",
    "plt.plot(FAV, CHIsolsV*N*PHIP, 'k--')\n",
    "plt.plot(FAV, (CHIsolsV+CHIsol13V)*N*PHIP, 'r--')\n",
    "plt.plot(FAV, (CHIsolsV+CHIsol36V)*N*PHIP, 'b--')\n",
    "plt.plot(1-FAV, CHIsolsV*N*PHIP, 'k--')\n",
    "plt.plot(1-FAV, (CHIsolsV+CHIsol13V)*N*PHIP, 'r--')\n",
    "plt.plot(1-FAV, (CHIsolsV+CHIsol36V)*N*PHIP, 'b--')\n",
    "\n",
    "plt.axis([0.15,0.85,10,80])\n",
    "plt.show()"
   ]
  },
  {
   "cell_type": "markdown",
   "metadata": {
    "collapsed": true,
    "heading_collapsed": true
   },
   "source": [
    "#### Load phase diags from precalculated data"
   ]
  },
  {
   "cell_type": "code",
   "execution_count": 491,
   "metadata": {
    "collapsed": true,
    "hidden": true
   },
   "outputs": [],
   "source": [
    "import csv\n",
    "import numpy as np\n",
    "import matplotlib.pyplot as plt\n",
    "\n",
    "filename = 'data/phasediag'\n",
    "with open(filename, 'r') as f:\n",
    "    reader = csv.reader(f)\n",
    "    data = list(reader)\n",
    "\n",
    "PHIPV = np.array([float(d[0]) for d in data])\n",
    "NV = np.array([float(d[1]) for d in data])\n",
    "FAV = np.array([float(d[2]) for d in data])\n",
    "CHIsV = np.array([float(d[3]) for d in data])\n",
    "CHI13V = np.array([float(d[4]) for d in data])\n",
    "CHI36V = np.array([float(d[5]) for d in data])"
   ]
  },
  {
   "cell_type": "code",
   "execution_count": 533,
   "metadata": {
    "collapsed": true,
    "hidden": true
   },
   "outputs": [],
   "source": [
    "def plotphase(ax, N, PHIP, cols=['k','r','b'], linestyl='-', alpha=1.0):\n",
    "    ind1 = np.where(PHIPV == PHIP)\n",
    "    ind2 = np.where(NV==N)\n",
    "    inds = np.intersect1d(ind1, ind2)\n",
    "\n",
    "    ax.plot(FAV[inds], CHIsV[inds], cols[0]+linestyl, alpha=alpha)\n",
    "    ax.plot(FAV[inds], CHIsV[inds]+CHI13V[inds], cols[1]+linestyl, alpha=alpha)\n",
    "    ax.plot(FAV[inds], CHIsV[inds]+CHI36V[inds], cols[2]+linestyl, alpha=alpha)\n",
    "    ax.plot(1-FAV[inds], CHIsV[inds], cols[0]+linestyl, alpha=alpha)\n",
    "    ax.plot(1-FAV[inds], CHIsV[inds]+CHI13V[inds], cols[1]+linestyl, alpha=alpha)\n",
    "    ax.plot(1-FAV[inds], CHIsV[inds]+CHI36V[inds], cols[2]+linestyl, alpha=alpha)\n",
    "    ax.set_xlabel('$f_{A}$', fontsize=15)\n",
    "    ax.set_ylabel('$\\chi N\\phi_{P}$', fontsize=15)\n",
    "    ax.set_title('$\\phi_{P}=$'+str(PHIP))\n",
    "    ax.axis([0.15,0.85,5,30])"
   ]
  },
  {
   "cell_type": "code",
   "execution_count": 542,
   "metadata": {
    "collapsed": true,
    "hidden": true
   },
   "outputs": [],
   "source": [
    "for N in [100, 50, 10]:\n",
    "    f, axarr = plt.subplots(1, 3, figsize=(14,4))\n",
    "    for i, PHIP in enumerate([0.75, 0.50, 0.25]):\n",
    "        plotphase(axarr[i], N, 0.99, alpha=0.15, linestyl='--')\n",
    "        plotphase(axarr[i], N, PHIP)\n",
    "#     plt.show()\n",
    "    plt.savefig('figs/phases'+str(N)+'.eps')"
   ]
  },
  {
   "cell_type": "markdown",
   "metadata": {
    "heading_collapsed": true
   },
   "source": [
    "# find coefficients in free energy expansion"
   ]
  },
  {
   "cell_type": "code",
   "execution_count": null,
   "metadata": {
    "collapsed": true,
    "hidden": true
   },
   "outputs": [],
   "source": [
    "Q1 = np.array([1,0,0])\n",
    "Q2 = -Q1\n",
    "Qs = [Q1, Q2]\n",
    "\n",
    "# simple melt case\n",
    "B, C, D = 0, 0, 0\n",
    "for Q1 in Qs:\n",
    "    for Q2 in Qs:\n",
    "        if norm(Q1+Q2) < 1e-10:\n",
    "            B +=1\n",
    "\n",
    "for Q1 in Qs:\n",
    "    for Q2 in Qs:\n",
    "        for Q3 in Qs:\n",
    "            for Q4 in Qs:\n",
    "                if norm(Q1+Q2+Q3+Q4) < 1e-10:\n",
    "                    D += 1\n",
    "print(B, C, D)\n",
    "\n",
    "# solution case\n",
    "B = np.zeros((2,2))\n",
    "C = np.zeros((2,2,2))\n",
    "D = np.zeros((2,2,2,2))\n",
    "for I in range(2):\n",
    "    for J in range(2):\n",
    "        for Q1 in Qs:\n",
    "            for Q2 in Qs:\n",
    "                if norm(Q1+Q2) < 1e-10:\n",
    "                    B[I][J] += 1\n",
    "\n",
    "for I in range(2):\n",
    "    for J in range(2):\n",
    "        for K in range(2):\n",
    "            for L in range(2):\n",
    "                for Q1 in Qs:\n",
    "                    for Q2 in Qs:\n",
    "                        for Q3 in Qs:\n",
    "                            for Q4 in Qs:\n",
    "                                if norm(Q1+Q2+Q3+Q4) < 1e-10:\n",
    "                                    D[I][J][K][L] += 1\n",
    "print(B)\n",
    "print(D)"
   ]
  }
 ],
 "metadata": {
  "anaconda-cloud": {},
  "kernelspec": {
   "display_name": "Python 3",
   "language": "python",
   "name": "python3"
  },
  "language_info": {
   "codemirror_mode": {
    "name": "ipython",
    "version": 3
   },
   "file_extension": ".py",
   "mimetype": "text/x-python",
   "name": "python",
   "nbconvert_exporter": "python",
   "pygments_lexer": "ipython3",
   "version": "3.6.0"
  }
 },
 "nbformat": 4,
 "nbformat_minor": 1
}
