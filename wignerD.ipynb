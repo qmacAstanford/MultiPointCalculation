{
 "cells": [
  {
   "cell_type": "markdown",
   "metadata": {},
   "source": [
    "  This class allows you to quickly calculate Wigner D matrix values.  I uses the symbolic lookup Wigner D functionality available from sympy.physics.  It will be slow when first calculating a set of m,mp, and l values but will hence-forth become fast and evaluate quickly for different angles.  See the file \"Wigner_Convention\" for the conventions I use.\n",
    "Examples: First you define a set, then use it\n",
    "\n",
    ">> import wignerD as wd\n",
    ">> myset = wd.wigner_d_vals()\n",
    ">> ans = myset.get(l,mp,m,alpha,beta,gamma)\n",
    "\n",
    "You can also use a faster algorithm if you have gamma=0.\n",
    "\n",
    ">> ans = myset.axial(l,mp,m,alpha,beta)"
   ]
  },
  {
   "cell_type": "code",
   "execution_count": 1,
   "metadata": {
    "collapsed": false
   },
   "outputs": [],
   "source": [
    "from sympy.physics.quantum.spin import Rotation\n",
    "from sympy import symbols\n",
    "import numpy as np\n",
    "from sympy.utilities import lambdify\n",
    "class wigner_d_vals:\n",
    "    def __init__(self):\n",
    "        self.fun = {} #dictionary of functions, key: (l,mp,m)\n",
    "        self.fun_axial = {} # axial symmetry\n",
    "        \n",
    "    def axial(self,l,mp,m,alpha,beta):\n",
    "        key = (l,mp,m)\n",
    "        if abs(mp)>l or abs(m)>l:\n",
    "            raise Exception('m must be <= l')\n",
    "        if key in self.fun_axial:\n",
    "            fun=self.fun_axial[key]\n",
    "        else:\n",
    "            al, be = symbols('alpha beta')\n",
    "            fun=lambdify((al,be),Rotation.D(l,mp,m,al,be,0).doit(),\"numpy\")\n",
    "            self.fun_axial[key]=fun\n",
    "        return fun(alpha,beta)    \n",
    "            \n",
    "    def get(self,l,mp,m,alpha,beta,gamma):\n",
    "        key = (l,mp,m)\n",
    "        if key in self.fun:\n",
    "            fun=self.fun[key]\n",
    "        else:\n",
    "            al, be, ga = symbols('alpha beta gamma')\n",
    "            fun=lambdify((al,be,ga),Rotation.D(l,mp,m,al,be,ga).doit(),\"numpy\")\n",
    "            self.fun[key]=fun\n",
    "        return fun(alpha,beta,gamma)             \n",
    "        \n",
    "    def get_mtrx(self,alpha,beta,gamma,nlam):\n",
    "        out=[] # list of matricies [l][mp-l,m-l]\n",
    "        for l in range(0,nlam):\n",
    "            print('l',l)\n",
    "            D = np.zeros((2*l+1,2*l+1),dtype='complex')\n",
    "            for m in range(-l,l+1):\n",
    "                for mp in range(-l,l+1):\n",
    "                    # note that I may use m and mp bacward from sympy docs\n",
    "                    D[mp-l,m-l]=self.get(l,mp,m,alpha,beta,gamma)\n",
    "            out.append(D)\n",
    "        return out"
   ]
  }
 ],
 "metadata": {
  "anaconda-cloud": {},
  "kernelspec": {
   "display_name": "Python [conda root]",
   "language": "python",
   "name": "conda-root-py"
  },
  "language_info": {
   "codemirror_mode": {
    "name": "ipython",
    "version": 3
   },
   "file_extension": ".py",
   "mimetype": "text/x-python",
   "name": "python",
   "nbconvert_exporter": "python",
   "pygments_lexer": "ipython3",
   "version": "3.5.2"
  },
  "latex_envs": {
   "LaTeX_envs_menu_present": true,
   "autocomplete": true,
   "bibliofile": "biblio.bib",
   "cite_by": "apalike",
   "current_citInitial": 1,
   "eqLabelWithNumbers": true,
   "eqNumInitial": 1,
   "hotkeys": {
    "equation": "Ctrl-E",
    "itemize": "Ctrl-I"
   },
   "labels_anchors": false,
   "latex_user_defs": false,
   "report_style_numbering": false,
   "user_envs_cfg": false
  },
  "toc": {
   "colors": {
    "hover_highlight": "#DAA520",
    "running_highlight": "#FF0000",
    "selected_highlight": "#FFD700"
   },
   "moveMenuLeft": true,
   "nav_menu": {
    "height": "12px",
    "width": "252px"
   },
   "navigate_menu": true,
   "number_sections": true,
   "sideBar": true,
   "threshold": 4,
   "toc_cell": false,
   "toc_section_display": "block",
   "toc_window_display": false,
   "widenNotebook": false
  }
 },
 "nbformat": 4,
 "nbformat_minor": 1
}
