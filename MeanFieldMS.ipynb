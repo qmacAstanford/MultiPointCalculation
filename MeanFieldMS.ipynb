{
 "cells": [
  {
   "cell_type": "code",
   "execution_count": 1,
   "metadata": {
    "collapsed": true
   },
   "outputs": [],
   "source": [
    "from itertools import permutations as perms\n",
    "from itertools import product\n",
    "import numpy as np\n",
    "from numpy.linalg import inv\n",
    "import MultiPoint as mp\n",
    "import propagator \n",
    "\n",
    "import imp  # imp.reload(module)\n",
    "import matplotlib.pyplot as plt\n",
    "%matplotlib inline\n",
    "# import mpld3\n",
    "# mpld3.enable_notebook()"
   ]
  },
  {
   "cell_type": "code",
   "execution_count": 2,
   "metadata": {
    "collapsed": true
   },
   "outputs": [],
   "source": [
    "class phi_tilde:    \n",
    "    def __init__(self,k=[1,0,0],alpha=0,l=0,m=0):\n",
    "        self.k=k\n",
    "        self.alpha=alpha\n",
    "        self.l=l\n",
    "        self.m=m"
   ]
  },
  {
   "cell_type": "code",
   "execution_count": 3,
   "metadata": {
    "collapsed": true
   },
   "outputs": [],
   "source": [
    "def s2wlc_2(pset, N, FA, K):\n",
    "    s2 = np.zeros((4,4),dtype=type(1+1j))\n",
    "    k1=np.array([0,0,1])*K\n",
    "    k2=-k1\n",
    "\n",
    "    basis=[{'alpha':0,'l':0},\n",
    "           {'alpha':1,'l':0},\n",
    "           {'alpha':0,'l':2},\n",
    "           {'alpha':1,'l':2}]\n",
    "    \n",
    "    #if norm(k1) < 1e-5:\n",
    "    #    raise ValueError('Note sure if this is OK')\n",
    "\n",
    "    for ii in range(0,4):\n",
    "        for jj in range(ii,4):\n",
    "            phi1 = phi_tilde(k1,**basis[ii])\n",
    "            phi2 = phi_tilde(k2,**basis[jj])\n",
    "            s2[ii,jj] = twoPointCorr(pset, N, FA, phi1, phi2)\n",
    "            s2[jj,ii]=s2[ii,jj] # save time on symmetric\n",
    "\n",
    "    return s2"
   ]
  },
  {
   "cell_type": "markdown",
   "metadata": {},
   "source": [
    "$$\n",
    "\\sum_{orders}\\int_{0}^{N}ds_{2}\\int_{0}^{s_{2}}ds_{1}\\delta_{\\alpha_{1}\\alpha\\left(s_{1}\\right)}\\delta_{\\alpha_{2}\\alpha\\left(s_{2}\\right)}\\mathcal{G}_{l_{1},l_{2}}^{m_{1}}\\left(\\vec{k}_{1},s_{2}-s_{1}\\right)\n",
    "$$"
   ]
  },
  {
   "cell_type": "code",
   "execution_count": 4,
   "metadata": {
    "collapsed": true
   },
   "outputs": [],
   "source": [
    "def twoPointCorr(pset,N,FA,phi1,phi2):\n",
    "    val = 0.0+0.0j\n",
    "    for ordered in perms([phi1,phi2]):\n",
    "        q1=-ordered[0].k\n",
    "\n",
    "        # chemical sequence\n",
    "        sequence = (ordered[0].alpha,ordered[1].alpha)\n",
    "        \n",
    "        # Calculate or look up eigenstuff\n",
    "        p = pset.get_vec_prop(q1)\n",
    "        \n",
    "        # Calculate time ordered intigral\n",
    "        val += I2N(N,FA,p.prop(0),ordered[0].l,ordered[1].l,\\\n",
    "                    sequence)\n",
    "    return val"
   ]
  },
  {
   "cell_type": "markdown",
   "metadata": {},
   "source": [
    "$$\n",
    "\\int_{0}^{N}ds_{2}\\int_{0}^{s_{2}}ds_{1}\\delta_{\\alpha_{1}\\alpha\\left(s_{1}\\right)}\\delta_{\\alpha_{2}\\alpha\\left(s_{2}\\right)}\\mathcal{G}_{l_{1},l_{2}}^{m_{1}}\\left(\\vec{k}_{1},s_{2}-s_{1}\\right)\n",
    "$$"
   ]
  },
  {
   "cell_type": "code",
   "execution_count": 5,
   "metadata": {
    "collapsed": true
   },
   "outputs": [],
   "source": [
    "def I2N(N, FA, p1,lam0,lam, sequence):    \n",
    "    if sequence == (0,0): # AA\n",
    "        value = mp.IAAswitch(N,FA,lam0,lam,p1)\n",
    "    elif sequence ==(0,1): # AB\n",
    "        value = mp.IABswitch(N,FA,lam0,lam,p1)\n",
    "    elif sequence == (1,1): # BB\n",
    "        value = mp.IAAswitch(N,1-FA,lam0,lam,p1)\n",
    "    else:\n",
    "        value=0.0\n",
    "    return value"
   ]
  },
  {
   "cell_type": "code",
   "execution_count": 6,
   "metadata": {
    "collapsed": true
   },
   "outputs": [],
   "source": [
    "def chiMtrx(xAA,xAB,xBB,xl2):\n",
    "    return np.array( [[xAA, xAB, 0.0, 0.0 ],\\\n",
    "                      [xAB, xBB, 0.0, 0.0 ],\\\n",
    "                      [0.0, 0.0, xl2, xl2 ],\\\n",
    "                      [0.0, 0.0, xl2, xl2 ]])"
   ]
  },
  {
   "cell_type": "markdown",
   "metadata": {},
   "source": [
    "$$2\\left(\\chi'_{\\alpha_{1}\\alpha_{2}}\\right)_{l_{1}l_{2}}^{m_{1}m_{2}}+N\\frac{1}{\\bar{\\phi}_{p}Al_{K}}\\left(S'^{\\left(2\\right)}\\right)^{-1}\\delta_{m_{1}m_{2}}+\\delta_{l_{1},0}\\delta_{l_{2},0}\\frac{1}{\\bar{\\phi}_{s}v_{s}}$$"
   ]
  },
  {
   "cell_type": "code",
   "execution_count": 7,
   "metadata": {
    "collapsed": false
   },
   "outputs": [],
   "source": [
    "def getGam(S,xAA=0.0,xAB=0.0,xBB=0.0,xl2=0.0,N=10.0,phiS=0.000001,vp=1.0,vs=1.0):\n",
    "    phiP=1.0-phiS\n",
    "    mtrx = np.array([[1.0, 1.0, 0.0, 0.0 ],\\\n",
    "                     [1.0, 1.0, 0.0, 0.0 ],\\\n",
    "                     [0.0, 0.0, 0.0, 0.0 ],\\\n",
    "                     [0.0, 0.0, 0.0, 0.0 ]])\n",
    "    Gam=2*chiMtrx(xAA,xAB,xBB,xl2) + (N/(phiP*vp))*inv(S) + (1.0/(phiS*vs))*mtrx\n",
    "    return Gam"
   ]
  },
  {
   "cell_type": "code",
   "execution_count": 8,
   "metadata": {
    "collapsed": true
   },
   "outputs": [],
   "source": [
    "# Find the eigenvectors of Gamma\n",
    "# sorted by increasing eigenvalues\n",
    "def getEigVV(S,parameters):\n",
    "    Gam=getGam(S,**parameters)\n",
    "    eigenValues, eigenVectors = np.linalg.eig(Gam)\n",
    "    idx = (eigenValues.real).argsort()[::]\n",
    "    eigenValues = eigenValues[idx]\n",
    "    eigenVectors = eigenVectors[:,idx]\n",
    "    return eigenValues, eigenVectors"
   ]
  },
  {
   "cell_type": "markdown",
   "metadata": {},
   "source": [
    "# Search Methode"
   ]
  },
  {
   "cell_type": "code",
   "execution_count": 9,
   "metadata": {
    "collapsed": false
   },
   "outputs": [],
   "source": [
    "# Find the zero of a decreasing function\n",
    "def findZero(fun,args,guess=1,tol=10**-10):\n",
    "    lower=0\n",
    "    while True:\n",
    "        if fun(guess,*args)> 0.0:\n",
    "            guess=guess*2.0\n",
    "            if guess>10*100:\n",
    "                return np.inf\n",
    "        else:\n",
    "            upper=guess\n",
    "            break\n",
    "    while upper-lower>tol:\n",
    "        test=(upper+lower)/2\n",
    "        if fun(test,*args)> 0.0:\n",
    "            lower=test\n",
    "        else:\n",
    "            upper=test\n",
    "    return test"
   ]
  },
  {
   "cell_type": "code",
   "execution_count": 67,
   "metadata": {
    "collapsed": false
   },
   "outputs": [],
   "source": [
    "def firstUnstable(xfun,FA,N,pset,display=False,guess=1.0,\\\n",
    "                  instabilitiesK=False,returnKinfo=False):\n",
    "    # -------\n",
    "    # Find x that instability for each k value\n",
    "    # -------\n",
    "    nkpts=100\n",
    "    KV = np.logspace(-3,2,nkpts)\n",
    "    x=np.zeros(nkpts)*np.NaN\n",
    "    for ii in range(0,nkpts):\n",
    "        S=s2wlc_2(pset, N, FA, KV[ii])\n",
    "        x[ii] = findZero(xfun,[S],guess=guess)\n",
    "    # You could implement a local search over k here ...\n",
    "    \n",
    "    # -------\n",
    "    # Return info at instability of each K\n",
    "    #--------\n",
    "    if instabilitiesK:\n",
    "        Slist=[]\n",
    "        eigVectorList=[]\n",
    "        for ii in range(0,nkpts):\n",
    "            S=s2wlc_2(pset, N, FA, KV[ii])\n",
    "            parameters = xfun(x[ii],S,returnValues=True)\n",
    "            eigenValues, eigenVectors = getEigVV(S,parameters)\n",
    "            Slist.append(S)\n",
    "            eigVectorList.append(eigenVectors[:,0])\n",
    "        return KV,x,eigenVectors\n",
    "    \n",
    "    # ------\n",
    "    # Get info for the first unstabel K value\n",
    "    # ------\n",
    "    ii=np.argmin(x)\n",
    "    x=x[ii]\n",
    "    K=KV[ii]\n",
    "    S=s2wlc_2(pset, N, FA, KV[ii])\n",
    "    if np.isinf(x):\n",
    "        print('No x value searched was unstable!')\n",
    "        raise ValueError('x=inf')\n",
    "    parameters = xfun(x,S,returnValues=True)\n",
    "    eigenValues, eigenVectors = getEigVV(S,parameters)\n",
    "    chi = chiMtrx(parameters['xAA'],parameters['xAB'],parameters['xBB'],parameters['xl2'])\n",
    "\n",
    "    # -------\n",
    "    # Return info at each K at x of first unstable K\n",
    "    #--------\n",
    "    if returnKinfo:\n",
    "        minii=ii\n",
    "        Slist=[]\n",
    "        eigVectorList=[]\n",
    "        eigValueList=[]\n",
    "        for ii in range(0,nkpts):\n",
    "            S=s2wlc_2(pset, N, FA, KV[ii])\n",
    "            parameters = xfun(x,S,returnValues=True)\n",
    "            eigenValues, eigenVectors = getEigVV(S,parameters)\n",
    "            Slist.append(S)\n",
    "            eigVectorList.append(eigenVectors[:,0])\n",
    "            eigValueList.append(eigenValues[0])\n",
    "        return KV,x,minii,eigValueList,eigVectorList    \n",
    "    \n",
    "    # -------\n",
    "    # Print out info at unstable K value\n",
    "    # -------\n",
    "    if display:\n",
    "        print('K',K)\n",
    "        print('chi')\n",
    "        print(chi)\n",
    "        print('eigenValues')\n",
    "        print(eigenValues.real)\n",
    "        print('eigenVector')\n",
    "        print(eigenVectors[:,0].real)\n",
    "        print('S')\n",
    "        print(S.real)\n",
    "    return {'K':K,'chi':chi, 'eigVec':eigenVectors[:,0],'x':x}"
   ]
  },
  {
   "cell_type": "code",
   "execution_count": 11,
   "metadata": {
    "collapsed": true
   },
   "outputs": [],
   "source": [
    "# Returns the lowest eigenvalue of Gamma\n",
    "def lowestEig(S,para):\n",
    "    eigenValues, eigenVectors = getEigVV(S,para)\n",
    "    return eigenValues[0]"
   ]
  },
  {
   "cell_type": "markdown",
   "metadata": {},
   "source": [
    "# Melt"
   ]
  },
  {
   "cell_type": "code",
   "execution_count": 13,
   "metadata": {
    "collapsed": true
   },
   "outputs": [],
   "source": [
    "pset=propagator.prop_set(nlam=3)"
   ]
  },
  {
   "cell_type": "markdown",
   "metadata": {},
   "source": [
    "## Some example parameter sets"
   ]
  },
  {
   "cell_type": "code",
   "execution_count": 14,
   "metadata": {
    "collapsed": false
   },
   "outputs": [],
   "source": [
    "def nearMelt(x,S,returnValues=False):   \n",
    "    para={\\\n",
    "    'xAA':0.0,\\\n",
    "    'xAB':x,\\\n",
    "    'xBB':0.0,\\\n",
    "    'xl2':0.0,\\\n",
    "    'N':1.0,\\\n",
    "    'phiS':0.05,\\\n",
    "    'vp':1.0,\\\n",
    "    'vs':1.0\\\n",
    "          }\n",
    "    if returnValues:\n",
    "        return para\n",
    "    return lowestEig(S,para)"
   ]
  },
  {
   "cell_type": "code",
   "execution_count": 15,
   "metadata": {
    "collapsed": false
   },
   "outputs": [
    {
     "name": "stdout",
     "output_type": "stream",
     "text": [
      "K 8.1113083079\n",
      "chi\n",
      "[[ 0.          3.33971971  0.          0.        ]\n",
      " [ 3.33971971  0.          0.          0.        ]\n",
      " [ 0.          0.          0.          0.        ]\n",
      " [ 0.          0.          0.          0.        ]]\n",
      "eigenValues\n",
      "[  4.59878021e-11   1.44180369e+01   1.51486861e+01   5.59810754e+01]\n",
      "eigenVector\n",
      "[ 0.7053179  -0.7053179   0.05026592 -0.05026592]\n",
      "S\n",
      "[[ 0.17622468  0.01863188 -0.03594474 -0.04717591]\n",
      " [ 0.01863188  0.17622468 -0.04717591 -0.03594474]\n",
      " [-0.03594474 -0.04717591  0.08700971  0.01636971]\n",
      " [-0.04717591 -0.03594474  0.01636971  0.08700971]]\n"
     ]
    }
   ],
   "source": [
    "N=nearMelt(0,0,True)['N']\n",
    "FA=0.5\n",
    "stuff = firstUnstable(nearMelt,FA,N,pset,display=True)"
   ]
  },
  {
   "cell_type": "code",
   "execution_count": 16,
   "metadata": {
    "collapsed": true
   },
   "outputs": [],
   "source": [
    "def nearMelt(x,S,returnValues=False):   \n",
    "    para={\\\n",
    "    'xAA':0.0,\\\n",
    "    'xAB':x,\\\n",
    "    'xBB':0.0,\\\n",
    "    'xl2':1.0,\\\n",
    "    'N':1.0,\\\n",
    "    'phiS':0.05,\\\n",
    "    'vp':1.0,\\\n",
    "    'vs':1.0\\\n",
    "          }\n",
    "    if returnValues:\n",
    "        return para\n",
    "    return lowestEig(S,para)"
   ]
  },
  {
   "cell_type": "code",
   "execution_count": 17,
   "metadata": {
    "collapsed": false
   },
   "outputs": [
    {
     "name": "stdout",
     "output_type": "stream",
     "text": [
      "K 8.1113083079\n",
      "chi\n",
      "[[ 0.          3.33971971  0.          0.        ]\n",
      " [ 3.33971971  0.          0.          0.        ]\n",
      " [ 0.          0.          1.          1.        ]\n",
      " [ 0.          0.          1.          1.        ]]\n",
      "eigenValues\n",
      "[  4.59960222e-11   1.51486861e+01   1.83034293e+01   5.60956829e+01]\n",
      "eigenVector\n",
      "[ 0.7053179  -0.7053179   0.05026592 -0.05026592]\n",
      "S\n",
      "[[ 0.17622468  0.01863188 -0.03594474 -0.04717591]\n",
      " [ 0.01863188  0.17622468 -0.04717591 -0.03594474]\n",
      " [-0.03594474 -0.04717591  0.08700971  0.01636971]\n",
      " [-0.04717591 -0.03594474  0.01636971  0.08700971]]\n"
     ]
    }
   ],
   "source": [
    "N=nearMelt(0,0,True)['N']\n",
    "FA=0.5\n",
    "stuff = firstUnstable(nearMelt,FA,N,pset,display=True)"
   ]
  },
  {
   "cell_type": "markdown",
   "metadata": {},
   "source": [
    "## eigenvalue at first instability"
   ]
  },
  {
   "cell_type": "code",
   "execution_count": 75,
   "metadata": {
    "collapsed": true
   },
   "outputs": [],
   "source": [
    "def nearMelt(x,S,returnValues=False):   \n",
    "    para={\\\n",
    "    'xAA':0.0,\\\n",
    "    'xAB':x,\\\n",
    "    'xBB':0.0,\\\n",
    "    'xl2':-1.0,\\\n",
    "    'N':1.0,\\\n",
    "    'phiS':0.05,\\\n",
    "    'vp':1.0,\\\n",
    "    'vs':1.0\\\n",
    "          }\n",
    "    if returnValues:\n",
    "        return para\n",
    "    return lowestEig(S,para)"
   ]
  },
  {
   "cell_type": "code",
   "execution_count": 76,
   "metadata": {
    "collapsed": false
   },
   "outputs": [],
   "source": [
    "N=nearMelt(0,0,True)['N']\n",
    "FA=0.5\n",
    "KV,x,minii,eigValueList,eigVectorList = firstUnstable(nearMelt,FA,N,pset,returnKinfo=True)"
   ]
  },
  {
   "cell_type": "code",
   "execution_count": 77,
   "metadata": {
    "collapsed": false
   },
   "outputs": [],
   "source": [
    "eigValueList=np.array(eigValueList).real"
   ]
  },
  {
   "cell_type": "code",
   "execution_count": 78,
   "metadata": {
    "collapsed": false
   },
   "outputs": [
    {
     "data": {
      "image/png": "[encoded data removed]",
      "text/plain": [
       "<matplotlib.figure.Figure at 0x7f56d819ce10>"
      ]
     },
     "metadata": {},
     "output_type": "display_data"
    }
   ],
   "source": [
    "plt.plot(KV,eigValueList)\n",
    "plt.xlabel('K*l_K')\n",
    "plt.ylabel('minimum eigenvalue')\n",
    "plt.show()"
   ]
  },
  {
   "cell_type": "markdown",
   "metadata": {},
   "source": [
    "## Make Phase diagram"
   ]
  },
  {
   "cell_type": "code",
   "execution_count": 19,
   "metadata": {
    "collapsed": false
   },
   "outputs": [
    {
     "name": "stdout",
     "output_type": "stream",
     "text": [
      "working on  0 of 100\n",
      "working on  10 of 100\n",
      "working on  20 of 100\n",
      "working on  30 of 100\n",
      "working on  40 of 100\n",
      "working on  50 of 100\n",
      "working on  60 of 100\n",
      "working on  70 of 100\n",
      "working on  80 of 100\n",
      "working on  90 of 100\n"
     ]
    }
   ],
   "source": [
    "npts=100\n",
    "FAs=np.linspace(0.1,0.9,npts)\n",
    "chi_stars=np.zeros(npts)\n",
    "def nearMelt(x,S,returnValues=False):   \n",
    "    para={\\\n",
    "    'xAA':0.0,\\\n",
    "    'xAB':x,\\\n",
    "    'xBB':0.0,\\\n",
    "    'xl2':0.0,\\\n",
    "    'N':1.0,\\\n",
    "    'phiS':0.000001,\\\n",
    "    'vp':1.0,\\\n",
    "    'vs':1.0\\\n",
    "          }\n",
    "    if returnValues:\n",
    "        return para\n",
    "    return lowestEig(S,para)\n",
    "for ii in range(0,npts):\n",
    "    if np.mod(ii,10)==0:\n",
    "        print('working on ',ii,'of',npts)\n",
    "    stuff = firstUnstable(nearMelt,FAs[ii],N,pset,display=False)\n",
    "    chi_stars[ii]=stuff['chi'][0,1]*2.0"
   ]
  },
  {
   "cell_type": "code",
   "execution_count": 20,
   "metadata": {
    "collapsed": false
   },
   "outputs": [
    {
     "name": "stdout",
     "output_type": "stream",
     "text": [
      "working on  0 of 100\n",
      "working on  10 of 100\n",
      "working on  20 of 100\n",
      "working on  30 of 100\n",
      "working on  40 of 100\n",
      "working on  50 of 100\n",
      "working on  60 of 100\n",
      "working on  70 of 100\n",
      "working on  80 of 100\n",
      "working on  90 of 100\n"
     ]
    }
   ],
   "source": [
    "chi_starsMS=np.zeros(npts)\n",
    "def nearMelt(x,S,returnValues=False):   \n",
    "    para={\\\n",
    "    'xAA':0.0,\\\n",
    "    'xAB':x,\\\n",
    "    'xBB':0.0,\\\n",
    "    'xl2':-1.0,\\\n",
    "    'N':1.0,\\\n",
    "    'phiS':0.000001,\\\n",
    "    'vp':1.0,\\\n",
    "    'vs':1.0\\\n",
    "          }\n",
    "    if returnValues:\n",
    "        return para\n",
    "    return lowestEig(S,para)\n",
    "for ii in range(0,npts):\n",
    "    if np.mod(ii,10)==0:\n",
    "        print('working on ',ii,'of',npts)\n",
    "    stuff = firstUnstable(nearMelt,FAs[ii],N,pset,display=False)\n",
    "    chi_starsMS[ii]=stuff['chi'][0,1]*2.0"
   ]
  },
  {
   "cell_type": "code",
   "execution_count": 21,
   "metadata": {
    "collapsed": false
   },
   "outputs": [
    {
     "data": {
      "image/png": "[encoded data removed]",
      "text/plain": [
       "<matplotlib.figure.Figure at 0x7f56941d57f0>"
      ]
     },
     "metadata": {},
     "output_type": "display_data"
    }
   ],
   "source": [
    "plt.plot(FAs,chi_stars,label='no MS')\n",
    "xl2=nearMelt(0,0,True)['xl2']\n",
    "plt.plot(FAs,chi_starsMS,label='MS='+str())\n",
    "plt.xlim([0,1])\n",
    "plt.xlabel('FA')\n",
    "plt.ylabel('chi*')\n",
    "plt.show()"
   ]
  },
  {
   "cell_type": "markdown",
   "metadata": {},
   "source": [
    "# Pneumatic Transition "
   ]
  },
  {
   "cell_type": "code",
   "execution_count": 68,
   "metadata": {
    "collapsed": true
   },
   "outputs": [],
   "source": [
    "def MSonly(x,S,returnValues=False):   \n",
    "    para={\\\n",
    "    'xAA':0.0,\\\n",
    "    'xAB':0.0,\\\n",
    "    'xBB':0.0,\\\n",
    "    'xl2':-x,\\\n",
    "    'N':1.0,\\\n",
    "    'phiS':0.0001,\\\n",
    "    'vp':1.0,\\\n",
    "    'vs':1.0\\\n",
    "          }\n",
    "    if returnValues:\n",
    "        return para\n",
    "    return lowestEig(S,para)"
   ]
  },
  {
   "cell_type": "code",
   "execution_count": 69,
   "metadata": {
    "collapsed": false
   },
   "outputs": [
    {
     "name": "stdout",
     "output_type": "stream",
     "text": [
      "K 0.001\n",
      "chi\n",
      "[[ 0.          0.          0.          0.        ]\n",
      " [ 0.          0.          0.          0.        ]\n",
      " [ 0.          0.         -1.79928804 -1.79928804]\n",
      " [ 0.          0.         -1.79928804 -1.79928804]]\n",
      "eigenValues\n",
      "[  1.81721487e-10   1.12628472e+01   2.00020002e+04   1.45255968e+08]\n",
      "eigenVector\n",
      "[ -1.81713233e-12  -1.81713233e-12   7.07106781e-01   7.07106781e-01]\n",
      "S\n",
      "[[  2.49999999e-01   2.49999992e-01  -7.70920427e-10  -2.80003387e-09]\n",
      " [  2.49999992e-01   2.49999999e-01  -2.80003387e-09  -7.70920427e-10]\n",
      " [ -7.70920427e-10  -2.80003387e-09   1.13877059e-01   2.50806828e-02]\n",
      " [ -2.80003387e-09  -7.70920427e-10   2.50806828e-02   1.13877059e-01]]\n"
     ]
    }
   ],
   "source": [
    "N=nearMelt(0,0,True)['N']\n",
    "FA=0.5\n",
    "stuff = firstUnstable(MSonly,FA,N,pset,display=True,guess=0.01)"
   ]
  },
  {
   "cell_type": "code",
   "execution_count": 70,
   "metadata": {
    "collapsed": false
   },
   "outputs": [
    {
     "name": "stdout",
     "output_type": "stream",
     "text": [
      "working on  0 of 50\n",
      "working on  10 of 50\n",
      "working on  20 of 50\n",
      "working on  30 of 50\n",
      "working on  40 of 50\n"
     ]
    }
   ],
   "source": [
    "npts=50\n",
    "Ns=np.logspace(-1,4,npts)\n",
    "MSstars=np.zeros(npts)\n",
    "\n",
    "for ii in range(0,npts):\n",
    "    if np.mod(ii,10)==0:\n",
    "        print('working on ',ii,'of',npts)\n",
    "    def nearMelt(x,S,returnValues=False):   \n",
    "        para={\\\n",
    "        'xAA':0.0,\\\n",
    "        'xAB':0.0,\\\n",
    "        'xBB':0.0,\\\n",
    "        'xl2':-x,\\\n",
    "        'N':Ns[ii],\\\n",
    "        'phiS':0.000001,\\\n",
    "        'vp':1.0,\\\n",
    "        'vs':1.0\\\n",
    "              }\n",
    "        if returnValues:\n",
    "            return para\n",
    "        return lowestEig(S,para)\n",
    "    stuff = firstUnstable(nearMelt,FA,Ns[ii],pset,display=False)\n",
    "    MSstars[ii]=stuff['x']"
   ]
  },
  {
   "cell_type": "code",
   "execution_count": 25,
   "metadata": {
    "collapsed": false
   },
   "outputs": [
    {
     "data": {
      "image/png": "[encoded data removed]",
      "text/plain": [
       "<matplotlib.figure.Figure at 0x7f56bb7cb3c8>"
      ]
     },
     "metadata": {},
     "output_type": "display_data"
    }
   ],
   "source": [
    "plt.loglog(Ns,MSstars)\n",
    "plt.xlabel('N')\n",
    "plt.ylabel('MS parameter')\n",
    "plt.show()"
   ]
  },
  {
   "cell_type": "markdown",
   "metadata": {
    "heading_collapsed": true
   },
   "source": [
    "# $\\chi^*_{AB}$"
   ]
  },
  {
   "cell_type": "code",
   "execution_count": null,
   "metadata": {
    "collapsed": true,
    "hidden": true
   },
   "outputs": [],
   "source": [
    "def neutral(x,S,returnValues=False):\n",
    "    chiAS=0.0\n",
    "    chiBS=0.0\n",
    "    chiAB=x\n",
    "    xl2=0.0\n",
    "    xAA=-4*np.pi*chiAS\n",
    "    xBB=-4*np.pi*chiBS\n",
    "    xAB=2*np.pi*(chiAB-chiAS-chiBS)\n",
    "    if returnValues:\n",
    "        return xAA, xAB, xBB, xl2\n",
    "    return lowestEig(xAB,xAA,xBB,xl2,S)"
   ]
  },
  {
   "cell_type": "code",
   "execution_count": null,
   "metadata": {
    "collapsed": false,
    "hidden": true
   },
   "outputs": [],
   "source": [
    "pset=propagator.prop_set(nlam=5)\n",
    "FA=0.75\n",
    "N=10\n",
    "stuff = firstUnstable(neutral,FA,N,pset,display=True)\n"
   ]
  },
  {
   "cell_type": "code",
   "execution_count": null,
   "metadata": {
    "collapsed": true,
    "hidden": true
   },
   "outputs": [],
   "source": [
    "nFA=25\n",
    "FAs=np.linspace(0.5,0.9,nFA)\n",
    "chiS=np.zeros(nFA)\n",
    "for ii in range(0,nFA):\n",
    "    stuff = firstUnstable(neutral,FAs[ii],N,pset)\n",
    "    chiS[ii]=stuff['chi'][0,1]"
   ]
  },
  {
   "cell_type": "markdown",
   "metadata": {
    "heading_collapsed": true
   },
   "source": [
    "# Nematic transition"
   ]
  },
  {
   "cell_type": "code",
   "execution_count": null,
   "metadata": {
    "collapsed": false,
    "hidden": true
   },
   "outputs": [],
   "source": [
    "nFA=25\n",
    "FAs=np.linspace(0.5,0.9,nFA)\n",
    "chi_MS=np.zeros(nFA)\n",
    "xl2=-0.8\n",
    "def funMS(x,S,returnValues=False):\n",
    "    chiAS=0.0\n",
    "    chiBS=0.0\n",
    "    chiAB=x\n",
    "    xAA=-4*np.pi*chiAS\n",
    "    xBB=-4*np.pi*chiBS\n",
    "    xAB=2*np.pi*(chiAB-chiAS-chiBS)\n",
    "    if returnValues:\n",
    "        return xAA, xAB, xBB, xl2\n",
    "    return lowestEig(xAB,xAA,xBB,xl2,S)\n",
    "for ii in range(0,nFA):\n",
    "    stuff = firstUnstable(funMS,FAs[ii],N,pset)\n",
    "    chi_MS[ii]=stuff['chi'][0,1]"
   ]
  },
  {
   "cell_type": "code",
   "execution_count": null,
   "metadata": {
    "collapsed": false,
    "hidden": true
   },
   "outputs": [],
   "source": [
    "plt.plot(FAs,chiS,label='MS=0')\n",
    "plt.plot(FAs,chi_MS,label='MS='+str(xl2))\n",
    "plt.legend()\n",
    "plt.xlabel('FA')\n",
    "plt.show()"
   ]
  },
  {
   "cell_type": "code",
   "execution_count": null,
   "metadata": {
    "collapsed": true,
    "hidden": true
   },
   "outputs": [],
   "source": []
  },
  {
   "cell_type": "markdown",
   "metadata": {
    "heading_collapsed": true
   },
   "source": [
    "# Old"
   ]
  },
  {
   "cell_type": "code",
   "execution_count": null,
   "metadata": {
    "collapsed": false,
    "hidden": true
   },
   "outputs": [],
   "source": [
    "nkpts=100\n",
    "KV = np.logspace(-2,4,nkpts)\n",
    "chiStars=np.zeros(nkpts)*np.NaN\n",
    "FA=0.25\n",
    "N=10\n",
    "chiAS=0.0\n",
    "chiBS=0.0\n",
    "xl2=1.0\n",
    "\n",
    "pset=propagator.prop_set(nlam=5)\n",
    "\n",
    "for ii in range(0,nkpts):\n",
    "    S=s2wlc_2(pset, N, FA, KV[ii])\n",
    "    args=[chiAS,chiBS,xl2,S]\n",
    "    chiStars[ii] = findZero(EigOf_xAB_neutral,args)"
   ]
  },
  {
   "cell_type": "code",
   "execution_count": null,
   "metadata": {
    "collapsed": false,
    "hidden": true
   },
   "outputs": [],
   "source": [
    "plt.loglog(KV,chiStars)\n",
    "plt.xlabel('K')\n",
    "plt.ylabel('chi*')\n",
    "plt.show()"
   ]
  },
  {
   "cell_type": "code",
   "execution_count": null,
   "metadata": {
    "collapsed": false,
    "hidden": true
   },
   "outputs": [],
   "source": [
    "ii=np.argmin(chiStars)\n",
    "chiStar=chiStars[ii]\n",
    "K=KV[ii]\n",
    "S=s2wlc_2(pset, N, FA, KV[ii])"
   ]
  },
  {
   "cell_type": "code",
   "execution_count": null,
   "metadata": {
    "collapsed": false,
    "hidden": true
   },
   "outputs": [],
   "source": [
    "xAA=-4*np.pi*chiAS\n",
    "xBB=-4*np.pi*chiBS\n",
    "xAB=2*np.pi*(chiStar-chiAS-chiBS)\n",
    "eigenValues, eigenVectors = getEigVV(S,xAB=xAB,xAA=xAA,xBB=xBB,xl2=xl2)\n",
    "print('Chi Star')\n",
    "print(chiStar)\n",
    "print('K star')\n",
    "print(K)\n",
    "print('eigenValues')\n",
    "print(eigenValues.real)\n",
    "print('eigenVector')\n",
    "print(eigenVectors[:,0].real)\n",
    "print('Gamma')\n",
    "print(getGam(S,xAB=xAB,xAA=xAA,xBB=xBB,xl2=xl2).real)"
   ]
  },
  {
   "cell_type": "markdown",
   "metadata": {},
   "source": [
    "# Critical Nematic"
   ]
  },
  {
   "cell_type": "code",
   "execution_count": null,
   "metadata": {
    "collapsed": true
   },
   "outputs": [],
   "source": []
  }
 ],
 "metadata": {
  "anaconda-cloud": {},
  "kernelspec": {
   "display_name": "Python [conda root]",
   "language": "python",
   "name": "conda-root-py"
  },
  "language_info": {
   "codemirror_mode": {
    "name": "ipython",
    "version": 3
   },
   "file_extension": ".py",
   "mimetype": "text/x-python",
   "name": "python",
   "nbconvert_exporter": "python",
   "pygments_lexer": "ipython3",
   "version": "3.5.2"
  },
  "latex_envs": {
   "LaTeX_envs_menu_present": true,
   "autocomplete": true,
   "bibliofile": "biblio.bib",
   "cite_by": "apalike",
   "current_citInitial": 1,
   "eqLabelWithNumbers": true,
   "eqNumInitial": 1,
   "hotkeys": {
    "equation": "Ctrl-E",
    "itemize": "Ctrl-I"
   },
   "labels_anchors": false,
   "latex_user_defs": false,
   "report_style_numbering": false,
   "user_envs_cfg": false
  },
  "toc": {
   "colors": {
    "hover_highlight": "#DAA520",
    "running_highlight": "#FF0000",
    "selected_highlight": "#FFD700"
   },
   "moveMenuLeft": true,
   "nav_menu": {
    "height": "12px",
    "width": "252px"
   },
   "navigate_menu": true,
   "number_sections": true,
   "sideBar": true,
   "threshold": 4,
   "toc_cell": false,
   "toc_section_display": "block",
   "toc_window_display": false,
   "widenNotebook": false
  }
 },
 "nbformat": 4,
 "nbformat_minor": 1
}
