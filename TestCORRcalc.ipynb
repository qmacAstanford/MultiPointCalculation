{
 "cells": [
  {
   "cell_type": "code",
   "execution_count": 24,
   "metadata": {
    "collapsed": true
   },
   "outputs": [],
   "source": [
    "from itertools import permutations as perms\n",
    "from itertools import product\n",
    "import numpy as np\n",
    "import MultiPoint as mp\n",
    "import propagator\n",
    "import wignerD as wd"
   ]
  },
  {
   "cell_type": "code",
   "execution_count": 25,
   "metadata": {
    "collapsed": true
   },
   "outputs": [],
   "source": [
    "from CORRcalc import *"
   ]
  },
  {
   "cell_type": "code",
   "execution_count": 26,
   "metadata": {
    "collapsed": true
   },
   "outputs": [],
   "source": [
    "import imp  # imp.reload(module)\n",
    "import matplotlib.pyplot as plt\n",
    "%matplotlib inline\n",
    "# import mpld3\n",
    "# mpld3.enable_notebook()"
   ]
  },
  {
   "cell_type": "markdown",
   "metadata": {},
   "source": [
    "## Set of Ks for testing"
   ]
  },
  {
   "cell_type": "code",
   "execution_count": 4,
   "metadata": {
    "collapsed": true
   },
   "outputs": [],
   "source": [
    "def set3Ks(K):\n",
    "    k1 = np.array([1,0,0])*K\n",
    "    k2 = np.array([-0.5,0.5*np.sqrt(3),0])*K\n",
    "    k3 = -k1-k2\n",
    "\n",
    "    Ks = [k1, k2, k3]\n",
    "    return Ks"
   ]
  },
  {
   "cell_type": "code",
   "execution_count": 5,
   "metadata": {
    "collapsed": true
   },
   "outputs": [],
   "source": [
    "def set4Ks_line(K):\n",
    "    k1=np.array([1,0,0])*K\n",
    "    k2=np.array([-1,0,0])*K\n",
    "    k3=-k1\n",
    "    k4=-k2\n",
    "\n",
    "    k = [k1, k2, k3, k4]\n",
    "    return k"
   ]
  },
  {
   "cell_type": "code",
   "execution_count": 6,
   "metadata": {
    "collapsed": true
   },
   "outputs": [],
   "source": [
    "def set4Ks_square(K):\n",
    "    k1=np.array([1,0,0])*K\n",
    "    k2=np.array([0,1,0])*K\n",
    "    k3=-k1\n",
    "    k4=-k2\n",
    "\n",
    "    k = [k1, k2, k3, k4]\n",
    "    return k"
   ]
  },
  {
   "cell_type": "markdown",
   "metadata": {},
   "source": [
    "## 1. Structure factors"
   ]
  },
  {
   "cell_type": "code",
   "execution_count": null,
   "metadata": {
    "collapsed": true
   },
   "outputs": [],
   "source": [
    "# Wormlike chain\n",
    "FA=1.0\n",
    "N=1e3\n",
    "\n",
    "pset=propagator.prop_set(nlam=1)\n",
    "wigset = wd.wigner_d_vals()\n",
    "\n",
    "KV = np.logspace(-2,4,100)\n",
    "s2 = np.zeros((len(KV)),dtype=type(1+1j))\n",
    "s3 = np.zeros((len(KV)),dtype=type(1+1j))\n",
    "s4 = np.zeros((len(KV)),dtype=type(1+1j))\n",
    "for ind, K in enumerate(KV):\n",
    "    s2[ind] = s2wlc(pset, N, FA, K, sequence=[0,0])/(N**2)\n",
    "\n",
    "    pset=propagator.prop_set(nlam=1)\n",
    "    Ks = set3Ks(K)\n",
    "    s3[ind] = s3wlc(pset, N, FA, Ks, sequence=[0,0,0])/(N**3)\n",
    "    \n",
    "    pset=propagator.prop_set(nlam=1)\n",
    "    Ks = set4Ks_line(K)\n",
    "    s4[ind] = s4wlc(pset, wigset, N, FA, Ks, sequence=[0,0,0,0])/(N**4)"
   ]
  },
  {
   "cell_type": "code",
   "execution_count": null,
   "metadata": {
    "collapsed": true
   },
   "outputs": [],
   "source": [
    "plt.loglog(KV, s2.real, label='S2')\n",
    "plt.loglog(KV, s3.real, label='S3')\n",
    "plt.loglog(KV, s4.real, label='S4')\n",
    "plt.legend(loc=1)\n",
    "plt.show()"
   ]
  },
  {
   "cell_type": "markdown",
   "metadata": {},
   "source": [
    "## 2. Check Leibler's identities"
   ]
  },
  {
   "cell_type": "code",
   "execution_count": null,
   "metadata": {
    "collapsed": true
   },
   "outputs": [],
   "source": [
    "N=1.0\n",
    "FA=0.2\n",
    "\n",
    "pset=propagator.prop_set(nlam=5)\n",
    "wigset = wd.wigner_d_vals()\n",
    "\n",
    "K = 10.0\n",
    "Ks3 = set3Ks(K)\n",
    "Ks4 = set4Ks_line(K)\n",
    "\n",
    "print(s3wlc(pset, N, FA, Ks3, sequence=[0, 1, 0]))\n",
    "print(s3wlc(pset, N, FA, Ks3, sequence=[1, 0, 0]))\n",
    "\n",
    "print(s3wlc(pset, N, FA, Ks3, sequence=[1, 0, 1]))\n",
    "print(s3wlc(pset, N, FA, Ks3, sequence=[0, 1, 1]))\n",
    "\n",
    "print(s4wlc(pset, wigset, N, FA, Ks4, sequence=[0, 0, 0, 1]))\n",
    "print(s4wlc(pset, wigset, N, FA, Ks4, sequence=[0, 0, 1, 0]))\n",
    "print(s4wlc(pset, wigset, N, FA, Ks4, sequence=[0, 1, 0, 0]))\n",
    "print(s4wlc(pset, wigset, N, FA, Ks4, sequence=[1, 0, 0, 0]))\n",
    "\n",
    "print(s4wlc(pset, wigset, N, FA, Ks4, sequence=[1, 1, 0, 0]))\n",
    "print(s4wlc(pset, wigset, N, FA, Ks4, sequence=[0, 0, 1, 1]))\n",
    "\n",
    "print(s4wlc(pset, wigset, N, FA, Ks4, sequence=[1, 0, 0, 1]))\n",
    "print(s4wlc(pset, wigset, N, FA, Ks4, sequence=[0, 1, 1, 0]))\n",
    "\n",
    "print(s4wlc(pset, wigset, N, FA, Ks4, sequence=[1, 0, 1, 0]))\n",
    "print(s4wlc(pset, wigset, N, FA, Ks4, sequence=[0, 1, 0, 1]))"
   ]
  },
  {
   "cell_type": "markdown",
   "metadata": {},
   "source": [
    "## 3. Check with rigid rod limits"
   ]
  },
  {
   "cell_type": "markdown",
   "metadata": {},
   "source": [
    "### 3.1 Pair correlation"
   ]
  },
  {
   "cell_type": "code",
   "execution_count": null,
   "metadata": {
    "collapsed": true
   },
   "outputs": [],
   "source": [
    "FA=1.0\n",
    "sequence = [0,0]\n",
    "kL = np.linspace(0,20,100)\n",
    "\n",
    "# Rigid rod\n",
    "NRR = 10\n",
    "KVRR = kL/NRR\n",
    "r2 = np.zeros((len(KVRR)),dtype=type(1+1j))\n",
    "for ind, K in enumerate(KVRR):\n",
    "    r2[ind] = r2wlc(NRR, FA, K, sequence=sequence)/(NRR**2)"
   ]
  },
  {
   "cell_type": "code",
   "execution_count": null,
   "metadata": {
    "collapsed": true
   },
   "outputs": [],
   "source": [
    "# Wormlike chain\n",
    "pset=propagator.prop_set(nlam=1)\n",
    "\n",
    "N=1.0\n",
    "KV = kL/N\n",
    "s2_N1 = np.zeros((len(KV)),dtype=type(1+1j))\n",
    "for ind, K in enumerate(KV):\n",
    "    s2_N1[ind] = s2wlc(pset, N, FA, K, sequence=sequence)/(N**2)\n",
    "    \n",
    "N=0.1\n",
    "KV = kL/N\n",
    "s2_Np1 = np.zeros((len(KV)),dtype=type(1+1j))\n",
    "for ind, K in enumerate(KV):\n",
    "    s2_Np1[ind] = s2wlc(pset, N, FA, K, sequence=sequence)/(N**2)"
   ]
  },
  {
   "cell_type": "code",
   "execution_count": null,
   "metadata": {
    "collapsed": true
   },
   "outputs": [],
   "source": [
    "plt.plot(kL, r2.real*kL, label='Rigid Rod')\n",
    "plt.plot(kL, s2_N1.real*kL, label='N=1')\n",
    "plt.plot(kL, s2_Np1.real*kL, label='N=0.1')\n",
    "plt.xlabel('kL')\n",
    "plt.ylabel('SkL')\n",
    "plt.legend(loc=4)\n",
    "# plt.axis([2,20,2,3.5])\n",
    "plt.show()"
   ]
  },
  {
   "cell_type": "markdown",
   "metadata": {
    "collapsed": true
   },
   "source": [
    "### 3.2 Three-point correlations"
   ]
  },
  {
   "cell_type": "code",
   "execution_count": 27,
   "metadata": {
    "collapsed": true
   },
   "outputs": [],
   "source": [
    "FA=1.0\n",
    "sequence = [0,0,0]\n",
    "kL = np.linspace(0,30,100)\n",
    "\n",
    "# Rigid rod\n",
    "NRR = 10\n",
    "KVRR = kL/NRR\n",
    "r3 = np.zeros((len(KVRR)),dtype=type(1+1j))\n",
    "for ind, K in enumerate(KVRR):\n",
    "    Ks = set3Ks(K)\n",
    "    r3[ind] = r3wlc(NRR, FA, Ks, sequence=sequence)/(NRR**3)"
   ]
  },
  {
   "cell_type": "code",
   "execution_count": 28,
   "metadata": {
    "collapsed": true
   },
   "outputs": [],
   "source": [
    "# Wormlike chain\n",
    "pset=propagator.prop_set(nlam=10)\n",
    "\n",
    "N=1.0\n",
    "KV = kL/N\n",
    "s3_N1 = np.zeros((len(KV)),dtype=type(1+1j))\n",
    "for ind, K in enumerate(KV):\n",
    "    Ks = set3Ks(K)\n",
    "    s3_N1[ind] = s3wlc(pset, N, FA, Ks, sequence=sequence)/(N**3)\n",
    "\n",
    "N=0.1\n",
    "KV = kL/N\n",
    "s3_Np1 = np.zeros((len(KV)),dtype=type(1+1j))\n",
    "for ind, K in enumerate(KV):\n",
    "    Ks = set3Ks(K)\n",
    "    s3_Np1[ind] = s3wlc(pset, N, FA, Ks, sequence=sequence)/(N**3)"
   ]
  },
  {
   "cell_type": "code",
   "execution_count": 29,
   "metadata": {},
   "outputs": [
    {
     "data": {
      "image/png": "[encoded data removed]",
      "text/plain": [
       "<matplotlib.figure.Figure at 0x10f5cd3c8>"
      ]
     },
     "metadata": {},
     "output_type": "display_data"
    }
   ],
   "source": [
    "plt.plot(kL, r3.real*kL**2, label='Rigid rod')\n",
    "plt.plot(kL, s3_N1.real*kL**2, label='N=1.0')\n",
    "plt.plot(kL, s3_Np1.real*kL**2, label='N=0.1')\n",
    "plt.legend(loc=4)\n",
    "plt.xlabel('kL')\n",
    "plt.ylabel('S(kL)^2')\n",
    "plt.show()"
   ]
  },
  {
   "cell_type": "markdown",
   "metadata": {
    "collapsed": true
   },
   "source": [
    "### 3.3 Four-point correlations"
   ]
  },
  {
   "cell_type": "code",
   "execution_count": null,
   "metadata": {
    "collapsed": true
   },
   "outputs": [],
   "source": [
    "FA=1.0\n",
    "sequence = [0,0,0,0]\n",
    "kL = np.linspace(0.1,30,100)\n",
    "\n",
    "# Rigid rod\n",
    "NRR = 10\n",
    "KVRR = kL/NRR\n",
    "r4 = np.zeros((len(KVRR)),dtype=type(1+1j))\n",
    "for ind, K in enumerate(KVRR):\n",
    "    Ks = set4Ks_square(K)\n",
    "    r4[ind] = r4wlc(NRR, FA, Ks, sequence=sequence)/(NRR**4)\n",
    "\n",
    "# Wormlike chain\n",
    "pset=propagator.prop_set(nlam=5)\n",
    "wigset = wd.wigner_d_vals()\n",
    "\n",
    "N = 1\n",
    "KV = kL/N\n",
    "s4_N1 = np.zeros((len(KV)),dtype=type(1+1j))\n",
    "for ind, K in enumerate(KV):\n",
    "    Ks = set4Ks_square(K)\n",
    "    s4_N1[ind] = s4wlc(pset, wigset, N, FA, Ks, sequence=sequence)/(N**4)\n",
    "    \n",
    "N = 0.1\n",
    "KV = kL/N\n",
    "s4_Np1 = np.zeros((len(KV)),dtype=type(1+1j))\n",
    "for ind, K in enumerate(KV):\n",
    "    Ks = set4Ks_square(K)\n",
    "    s4_Np1[ind] = s4wlc(pset, wigset, N, FA, Ks, sequence=sequence)/(N**4)"
   ]
  },
  {
   "cell_type": "code",
   "execution_count": null,
   "metadata": {
    "collapsed": true
   },
   "outputs": [],
   "source": [
    "plt.plot(kL, r4.real*kL**2, label='Rigid rod')\n",
    "plt.plot(kL, s4_N1.real*kL**2, label='N=1.0')\n",
    "plt.plot(kL, s4_Np1.real*kL**2, label='N=0.1')\n",
    "plt.legend(loc=4)\n",
    "plt.xlabel('$kL$')\n",
    "plt.ylabel('$(kL)^2S_{4}$')\n",
    "plt.show()"
   ]
  },
  {
   "cell_type": "markdown",
   "metadata": {},
   "source": [
    "## 4. Cross-chemical-identity correlations"
   ]
  },
  {
   "cell_type": "code",
   "execution_count": null,
   "metadata": {
    "collapsed": true
   },
   "outputs": [],
   "source": [
    "FA=0.5\n",
    "sequence = [0,1]\n",
    "kL = np.linspace(0,20,100)\n",
    "\n",
    "# Rigid rod\n",
    "NRR = 10\n",
    "KVRR = kL/NRR\n",
    "r2 = np.zeros((len(KVRR)),dtype=type(1+1j))\n",
    "for ind, K in enumerate(KVRR):\n",
    "    r2[ind] = r2wlc(NRR, FA, K, sequence=sequence)/(NRR**2)"
   ]
  },
  {
   "cell_type": "code",
   "execution_count": null,
   "metadata": {
    "collapsed": true
   },
   "outputs": [],
   "source": [
    "# Wormlike chain\n",
    "pset=propagator.prop_set(nlam=1)\n",
    "\n",
    "N=1.0\n",
    "KV = kL/N\n",
    "s2_N1 = np.zeros((len(KV)),dtype=type(1+1j))\n",
    "for ind, K in enumerate(KV):\n",
    "    s2_N1[ind] = s2wlc(pset, N, FA, K, sequence=sequence)/(N**2)\n",
    "    \n",
    "N=0.1\n",
    "KV = kL/N\n",
    "s2_Np1 = np.zeros((len(KV)),dtype=type(1+1j))\n",
    "for ind, K in enumerate(KV):\n",
    "    s2_Np1[ind] = s2wlc(pset, N, FA, K, sequence=sequence)/(N**2)"
   ]
  },
  {
   "cell_type": "code",
   "execution_count": null,
   "metadata": {
    "collapsed": true
   },
   "outputs": [],
   "source": [
    "plt.plot(kL, r2.real, label='Rigid Rod')\n",
    "plt.plot(kL, s2_N1.real, label='N=1')\n",
    "plt.plot(kL, s2_Np1.real, label='N=0.1')\n",
    "plt.xlabel('kL')\n",
    "plt.ylabel('S')\n",
    "plt.legend(loc=1)\n",
    "# plt.axis([2,20,2,3.5])\n",
    "plt.show()"
   ]
  },
  {
   "cell_type": "markdown",
   "metadata": {},
   "source": [
    "### 4.2 Three-point correlations"
   ]
  },
  {
   "cell_type": "code",
   "execution_count": null,
   "metadata": {
    "collapsed": true
   },
   "outputs": [],
   "source": [
    "FA=0.5\n",
    "sequence = [0,0,1]\n",
    "kL = np.linspace(0,30,100)\n",
    "\n",
    "# Rigid rod\n",
    "NRR = 10\n",
    "KVRR = kL/NRR\n",
    "r3 = np.zeros((len(KVRR)),dtype=type(1+1j))\n",
    "for ind, K in enumerate(KVRR):\n",
    "    Ks = set3Ks(K)\n",
    "    r3[ind] = r3wlc(NRR, FA, Ks, sequence=sequence)/(NRR**3)"
   ]
  },
  {
   "cell_type": "code",
   "execution_count": null,
   "metadata": {
    "collapsed": true
   },
   "outputs": [],
   "source": [
    "# Wormlike chain\n",
    "pset=propagator.prop_set(nlam=2)\n",
    "\n",
    "N=1.0\n",
    "KV = kL/N\n",
    "s3_N1 = np.zeros((len(KV)),dtype=type(1+1j))\n",
    "for ind, K in enumerate(KV):\n",
    "    Ks = set3Ks(K)\n",
    "    s3_N1[ind] = s3wlc(pset, N, FA, Ks, sequence=sequence)/(N**3)\n",
    "\n",
    "N=0.1\n",
    "KV = kL/N\n",
    "s3_Np1 = np.zeros((len(KV)),dtype=type(1+1j))\n",
    "for ind, K in enumerate(KV):\n",
    "    Ks = set3Ks(K)\n",
    "    s3_Np1[ind] = s3wlc(pset, N, FA, Ks, sequence=sequence)/(N**3)"
   ]
  },
  {
   "cell_type": "code",
   "execution_count": null,
   "metadata": {
    "collapsed": true
   },
   "outputs": [],
   "source": [
    "plt.plot(kL, r3.real, label='Rigid rod')\n",
    "plt.plot(kL, s3_N1.real, label='N=1.0')\n",
    "plt.plot(kL, s3_Np1.real, label='N=0.1')\n",
    "plt.legend(loc=1)\n",
    "plt.xlabel('kL')\n",
    "plt.ylabel('S')\n",
    "plt.show()"
   ]
  },
  {
   "cell_type": "markdown",
   "metadata": {
    "collapsed": true
   },
   "source": [
    "### 4.3 Four-point correlations"
   ]
  },
  {
   "cell_type": "code",
   "execution_count": null,
   "metadata": {
    "collapsed": true
   },
   "outputs": [],
   "source": [
    "FA=0.5\n",
    "sequence = [0,0,0,1]\n",
    "kL = np.linspace(0.1,30,10)\n",
    "\n",
    "# Rigid rod\n",
    "NRR = 10\n",
    "KVRR = kL/NRR\n",
    "r4 = np.zeros((len(KVRR)),dtype=type(1+1j))\n",
    "for ind, K in enumerate(KVRR):\n",
    "    Ks = set4Ks_square(K)\n",
    "    r4[ind] = r4wlc(NRR, FA, Ks, sequence=sequence)/(NRR**4)\n",
    "\n",
    "# Wormlike chain\n",
    "pset=propagator.prop_set(nlam=5)\n",
    "wigset = wd.wigner_d_vals()\n",
    "\n",
    "N = 1\n",
    "KV = kL/N\n",
    "s4_N1 = np.zeros((len(KV)),dtype=type(1+1j))\n",
    "for ind, K in enumerate(KV):\n",
    "    print(ind)\n",
    "    Ks = set4Ks_square(K)\n",
    "    s4_N1[ind] = s4wlc(pset, wigset, N, FA, Ks, sequence=sequence)/(N**4)\n",
    "    \n",
    "N = 0.1\n",
    "KV = kL/N\n",
    "s4_Np1 = np.zeros((len(KV)),dtype=type(1+1j))\n",
    "for ind, K in enumerate(KV):\n",
    "    print(ind)\n",
    "    Ks = set4Ks_square(K)\n",
    "    s4_Np1[ind] = s4wlc(pset, wigset, N, FA, Ks, sequence=sequence)/(N**4)"
   ]
  },
  {
   "cell_type": "code",
   "execution_count": null,
   "metadata": {
    "collapsed": true
   },
   "outputs": [],
   "source": [
    "plt.plot(kL, r4.real*kL**2, label='Rigid rod')\n",
    "plt.plot(kL, s4_N1.real*kL**2, label='N=1.0')\n",
    "plt.plot(kL, s4_Np1.real*kL**2, label='N=0.1')\n",
    "plt.legend(loc=4)\n",
    "plt.xlabel('$kL$')\n",
    "plt.ylabel('$(kL)^2S_{4}$')\n",
    "plt.ylim([-1,1])\n",
    "plt.show()"
   ]
  },
  {
   "cell_type": "markdown",
   "metadata": {},
   "source": [
    "## 5. Code Profiling"
   ]
  },
  {
   "cell_type": "code",
   "execution_count": null,
   "metadata": {
    "collapsed": true
   },
   "outputs": [],
   "source": [
    "# import cProfile\n",
    "# cProfile.run('s4wlc(pset, N, FA, Ks, sequence=sequence)')"
   ]
  },
  {
   "cell_type": "markdown",
   "metadata": {},
   "source": [
    "## 6. All chemical identities"
   ]
  },
  {
   "cell_type": "code",
   "execution_count": 13,
   "metadata": {
    "collapsed": true
   },
   "outputs": [],
   "source": [
    "FA = 0.5\n",
    "\n",
    "# KV = np.logspace(-1,3,10)\n",
    "KV = [1e-2]\n",
    "N = 1e3\n",
    "\n",
    "pset=propagator.prop_set(nlam=1)\n",
    "wigset = wd.wigner_d_vals()\n",
    "\n",
    "s4 = np.zeros((2,2,2,2,len(KV)),dtype=type(1+1j))\n",
    "for ind, K in enumerate(KV):\n",
    "    Ks = set4Ks_line(K)\n",
    "    s4[:,:,:,:,ind] = s4wlc(pset, wigset, N, FA, Ks)/(N**4)"
   ]
  },
  {
   "cell_type": "code",
   "execution_count": 16,
   "metadata": {},
   "outputs": [
    {
     "data": {
      "text/plain": [
       "array([-43825853.49837162 -2.41599684e-08j])"
      ]
     },
     "execution_count": 16,
     "metadata": {},
     "output_type": "execute_result"
    }
   ],
   "source": [
    "s4[0][1][1][1]"
   ]
  },
  {
   "cell_type": "code",
   "execution_count": 22,
   "metadata": {},
   "outputs": [
    {
     "data": {
      "text/plain": [
       "array([-43825853.49837162 -2.41599684e-08j])"
      ]
     },
     "execution_count": 22,
     "metadata": {},
     "output_type": "execute_result"
    }
   ],
   "source": [
    "s4[1][0][1][1]"
   ]
  },
  {
   "cell_type": "code",
   "execution_count": 23,
   "metadata": {},
   "outputs": [
    {
     "data": {
      "text/plain": [
       "array([[[[[  6.21544930e-02 -2.77751025e-07j],\n",
       "          [ -4.38258535e+07 -2.41599684e-08j]],\n",
       "\n",
       "         [[ -4.38258535e+07 -2.41599684e-08j],\n",
       "          [  6.21550120e-02 +0.00000000e+00j]]],\n",
       "\n",
       "\n",
       "        [[[ -4.38258535e+07 -2.41599684e-08j],\n",
       "          [  6.21550120e-02 +0.00000000e+00j]],\n",
       "\n",
       "         [[  3.26832644e+05 -1.70809269e-08j],\n",
       "          [ -4.38258535e+07 -2.41599684e-08j]]]],\n",
       "\n",
       "\n",
       "\n",
       "       [[[[ -4.38258535e+07 -2.41599684e-08j],\n",
       "          [  3.26832644e+05 -1.70809269e-08j]],\n",
       "\n",
       "         [[  6.21550120e-02 +0.00000000e+00j],\n",
       "          [ -4.38258535e+07 -2.41599684e-08j]]],\n",
       "\n",
       "\n",
       "        [[[  6.21550120e-02 +0.00000000e+00j],\n",
       "          [ -4.38258535e+07 -2.41599684e-08j]],\n",
       "\n",
       "         [[ -4.38258535e+07 -2.41599684e-08j],\n",
       "          [  6.21544930e-02 -2.77751025e-07j]]]]])"
      ]
     },
     "execution_count": 23,
     "metadata": {},
     "output_type": "execute_result"
    }
   ],
   "source": [
    "s4"
   ]
  },
  {
   "cell_type": "code",
   "execution_count": null,
   "metadata": {
    "collapsed": true
   },
   "outputs": [],
   "source": [
    "# plt.loglog(KV, s4[0,0,0,0,:])\n",
    "# plotlog(1e1, 5e-3, -2, xrange=2)\n",
    "# plt.show()"
   ]
  }
 ],
 "metadata": {
  "anaconda-cloud": {},
  "kernelspec": {
   "display_name": "Python 3",
   "language": "python",
   "name": "python3"
  },
  "language_info": {
   "codemirror_mode": {
    "name": "ipython",
    "version": 3
   },
   "file_extension": ".py",
   "mimetype": "text/x-python",
   "name": "python",
   "nbconvert_exporter": "python",
   "pygments_lexer": "ipython3",
   "version": "3.6.0"
  }
 },
 "nbformat": 4,
 "nbformat_minor": 1
}
