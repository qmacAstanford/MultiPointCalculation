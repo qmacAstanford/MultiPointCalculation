{
 "cells": [
  {
   "cell_type": "code",
   "execution_count": 1,
   "metadata": {
    "collapsed": true
   },
   "outputs": [],
   "source": [
    "from itertools import permutations as perms\n",
    "from itertools import product\n",
    "import numpy as np\n",
    "import MultiPoint as mp\n",
    "import propagator\n",
    "import wignerD as wd"
   ]
  },
  {
   "cell_type": "code",
   "execution_count": 2,
   "metadata": {
    "collapsed": false
   },
   "outputs": [],
   "source": [
    "from CORRcalc import *"
   ]
  },
  {
   "cell_type": "code",
   "execution_count": 3,
   "metadata": {
    "collapsed": true
   },
   "outputs": [],
   "source": [
    "import imp  # imp.reload(module)\n",
    "import matplotlib.pyplot as plt\n",
    "%matplotlib inline\n",
    "# import mpld3\n",
    "# mpld3.enable_notebook()"
   ]
  },
  {
   "cell_type": "markdown",
   "metadata": {},
   "source": [
    "## 1.1 Two point correlations"
   ]
  },
  {
   "cell_type": "code",
   "execution_count": null,
   "metadata": {
    "collapsed": false
   },
   "outputs": [],
   "source": [
    "N = 100\n",
    "K = 0.0\n",
    "FA = 1.0\n",
    "\n",
    "nlam=1\n",
    "pset=propagator.prop_set(nlam=nlam)\n",
    "\n",
    "s2wlc(pset, N, FA, K, sequence=[0, 0])"
   ]
  },
  {
   "cell_type": "code",
   "execution_count": null,
   "metadata": {
    "collapsed": true
   },
   "outputs": [],
   "source": [
    "N=1.0\n",
    "FA=0.5\n",
    "\n",
    "nlam=4\n",
    "pset=propagator.prop_set(nlam=nlam)\n",
    "\n",
    "\n",
    "sequence = [0,0]\n",
    "KV = np.logspace(-2,7,100)\n",
    "s2 = np.zeros((len(KV)),dtype=type(1+1j))\n",
    "for ind, K in enumerate(KV):\n",
    "    s2[ind] = s2wlc(pset, N, FA, K, sequence=sequence)/(N**2)"
   ]
  },
  {
   "cell_type": "code",
   "execution_count": null,
   "metadata": {
    "collapsed": false
   },
   "outputs": [],
   "source": [
    "plt.loglog(KV, np.real(s2))\n",
    "plotlog(1e1,1e-1,-1)\n",
    "plt.show()"
   ]
  },
  {
   "cell_type": "markdown",
   "metadata": {},
   "source": [
    "## 1.2 Three point correlations"
   ]
  },
  {
   "cell_type": "code",
   "execution_count": null,
   "metadata": {
    "collapsed": true
   },
   "outputs": [],
   "source": [
    "def set3Ks(K):\n",
    "#     k1=np.array([0,0,1])*K\n",
    "#     k2=np.array([0,0,-1])*K\n",
    "#     k3=-k1-k2\n",
    "    \n",
    "    k1 = np.array([1,0,0])*K\n",
    "    k2 = np.array([-0.5,0.5*np.sqrt(3),0])*K\n",
    "    k3 = -k1-k2\n",
    "\n",
    "    Ks = [k1, k2, k3]\n",
    "    return Ks"
   ]
  },
  {
   "cell_type": "code",
   "execution_count": null,
   "metadata": {
    "collapsed": false
   },
   "outputs": [],
   "source": [
    "N = 1000\n",
    "FA = 1.0\n",
    "K = 1e0\n",
    "\n",
    "nlam = 6\n",
    "pset=propagator.prop_set(nlam=nlam)\n",
    "\n",
    "Ks = set3Ks(K)\n",
    "s3 = s3wlc(pset, N, FA, Ks, sequence=[0, 0, 0])\n",
    "\n",
    "print(Ks)\n",
    "print(s3)"
   ]
  },
  {
   "cell_type": "code",
   "execution_count": null,
   "metadata": {
    "collapsed": false
   },
   "outputs": [],
   "source": [
    "N=10\n",
    "FA=1.0\n",
    "\n",
    "nlam = 5\n",
    "pset=propagator.prop_set(nlam=nlam)\n",
    "\n",
    "sequence = [0,0,0]\n",
    "KV = np.logspace(-2,5,50)\n",
    "s3 = np.zeros((len(KV)),dtype=type(1+1j))\n",
    "for ind, K in enumerate(KV):\n",
    "    k = set3Ks(K)\n",
    "    s3[ind] = s3wlc(pset, N, FA, k, sequence=sequence)/(N**3)"
   ]
  },
  {
   "cell_type": "code",
   "execution_count": null,
   "metadata": {
    "collapsed": false
   },
   "outputs": [],
   "source": [
    "plt.loglog(KV, s3.real, '-', color=[col, 0.0, 1-col])\n",
    "plotlog(1e3, 2e-7, -2, xrange=2)\n",
    "plt.title('lam = ' + str(nlam))\n",
    "\n",
    "plt.show()"
   ]
  },
  {
   "cell_type": "markdown",
   "metadata": {},
   "source": [
    "## 1.3 Four point correlations"
   ]
  },
  {
   "cell_type": "code",
   "execution_count": null,
   "metadata": {
    "collapsed": true
   },
   "outputs": [],
   "source": [
    "N=1000.0\n",
    "FA=1.0\n",
    "\n",
    "def setKs(K):\n",
    "    k1=np.array([0,0,1])*K\n",
    "#     k2=np.array([0,0,1])*K\n",
    "    k2=np.array([0,1,0])*K\n",
    "    k3=-k1\n",
    "    k4=-k2\n",
    "\n",
    "    k = [k1, k2, k3, k4]\n",
    "    return k\n",
    "\n",
    "nlam=10\n",
    "pset=propagator.prop_set(nlam=nlam)\n",
    "wigset = wd.wigner_d_vals()"
   ]
  },
  {
   "cell_type": "code",
   "execution_count": null,
   "metadata": {
    "collapsed": false
   },
   "outputs": [],
   "source": [
    "sequence = [0, 0, 0, 0]\n",
    "KV = np.logspace(-5,3,100)\n",
    "s4 = np.zeros((len(KV)),dtype=type(1+1j))\n",
    "for ind, K in enumerate(KV):\n",
    "    Ks = setKs(K)\n",
    "    s4[ind] = s4wlc(pset,wigset, N, FA, Ks, sequence=sequence)/(N**4)\n",
    "    \n",
    "sequence = [0,0]\n",
    "s2 = np.zeros((len(KV)),dtype=type(1+1j))\n",
    "for ind, K in enumerate(KV):\n",
    "    s2[ind] = s2wlc(pset, N, FA, K, sequence=sequence)/(N**2)"
   ]
  },
  {
   "cell_type": "code",
   "execution_count": null,
   "metadata": {
    "collapsed": false
   },
   "outputs": [],
   "source": [
    "plt.loglog(KV, abs(s4.real))\n",
    "plotlog(5e-1, 5e-2, -4, xrange=1)\n",
    "plotlog(5e1, 5e-8, -2, xrange=1)\n",
    "plt.show()"
   ]
  },
  {
   "cell_type": "markdown",
   "metadata": {},
   "source": [
    "## 2. Check Leibler's identities"
   ]
  },
  {
   "cell_type": "code",
   "execution_count": null,
   "metadata": {
    "collapsed": false
   },
   "outputs": [],
   "source": [
    "N=1.0\n",
    "FA=0.2\n",
    "\n",
    "nlam=10\n",
    "pset=propagator.prop_set(nlam=nlam)\n",
    "\n",
    "def set4Ks(K):\n",
    "    k1=np.array([0,0,1])*K\n",
    "    k2=np.array([0,0,1])*K\n",
    "    k3=-k1\n",
    "    k4=-k2\n",
    "\n",
    "    k = [k1, k2, k3, k4]\n",
    "    return k\n",
    "\n",
    "K = 10.0\n",
    "k = set4Ks(K)\n",
    "\n",
    "print(s4wlc(pset, wigset, N, FA, k, sequence=[0, 0, 0, 0]))\n",
    "print(s4wlc(pset, wigset, N, FA, k, sequence=[0, 0, 0, 1]))\n",
    "print(s4wlc(pset, wigset, N, FA, k, sequence=[0, 0, 1, 0]))\n",
    "print(s4wlc(pset, wigset, N, FA, k, sequence=[0, 1, 0, 0]))\n",
    "print(s4wlc(pset, wigset, N, FA, k, sequence=[1, 0, 0, 0]))\n",
    "\n",
    "print(s4wlc(pset, wigset, N, FA, k, sequence=[1, 1, 0, 0]))\n",
    "print(s4wlc(pset, wigset, N, FA, k, sequence=[0, 0, 1, 1]))\n",
    "\n",
    "print(s4wlc(pset, wigset, N, FA, k, sequence=[1, 0, 0, 1]))\n",
    "print(s4wlc(pset, wigset, N, FA, k, sequence=[0, 1, 1, 0]))\n",
    "\n",
    "print(s4wlc(pset, wigset, N, FA, k, sequence=[1, 0, 1, 0]))\n",
    "print(s4wlc(pset, wigset, N, FA, k, sequence=[0, 1, 0, 1]))"
   ]
  },
  {
   "cell_type": "code",
   "execution_count": null,
   "metadata": {
    "collapsed": true
   },
   "outputs": [],
   "source": [
    "# import cProfile\n",
    "# cProfile.run('s4wlc(pset, N, FA, Ks, sequence=sequence)')"
   ]
  },
  {
   "cell_type": "code",
   "execution_count": null,
   "metadata": {
    "collapsed": true
   },
   "outputs": [],
   "source": [
    "# KV = np.logspace(-1,3,10)\n",
    "# s4 = np.zeros((2,2,2,2,len(KV)),dtype=type(1+1j))\n",
    "# for ind, K in enumerate(KV):\n",
    "#     Ks = setKs(K)\n",
    "#     s4[:,:,:,:,ind] = s4wlc(pset, N, FA, Ks)/(N**4)"
   ]
  },
  {
   "cell_type": "code",
   "execution_count": null,
   "metadata": {
    "collapsed": true
   },
   "outputs": [],
   "source": [
    "# plt.loglog(KV, s4[0,0,0,0,:])\n",
    "# plotlog(1e1, 5e-3, -2, xrange=2)\n",
    "# plt.show()"
   ]
  },
  {
   "cell_type": "markdown",
   "metadata": {},
   "source": [
    "## 3. Check with rigid rod limits"
   ]
  },
  {
   "cell_type": "code",
   "execution_count": 6,
   "metadata": {
    "collapsed": false
   },
   "outputs": [
    {
     "name": "stderr",
     "output_type": "stream",
     "text": [
      "/Users/shifan/Dropbox/Codes/wlc/MultiPointCalculation/CORRcalc.py:536: RuntimeWarning: invalid value encountered in double_scalars\n",
      "  intg = np.sin(K*sep) / float(K*sep)\n"
     ]
    },
    {
     "ename": "TypeError",
     "evalue": "only length-1 arrays can be converted to Python scalars",
     "output_type": "error",
     "traceback": [
      "\u001b[0;31m---------------------------------------------------------------------------\u001b[0m",
      "\u001b[0;31mTypeError\u001b[0m                                 Traceback (most recent call last)",
      "\u001b[0;32m<ipython-input-6-1d01e6d36981>\u001b[0m in \u001b[0;36m<module>\u001b[0;34m()\u001b[0m\n\u001b[1;32m     15\u001b[0m \u001b[0mr2\u001b[0m \u001b[0;34m=\u001b[0m \u001b[0mnp\u001b[0m\u001b[0;34m.\u001b[0m\u001b[0mzeros\u001b[0m\u001b[0;34m(\u001b[0m\u001b[0;34m(\u001b[0m\u001b[0mlen\u001b[0m\u001b[0;34m(\u001b[0m\u001b[0mKV\u001b[0m\u001b[0;34m)\u001b[0m\u001b[0;34m)\u001b[0m\u001b[0;34m,\u001b[0m\u001b[0mdtype\u001b[0m\u001b[0;34m=\u001b[0m\u001b[0mtype\u001b[0m\u001b[0;34m(\u001b[0m\u001b[0;36m1\u001b[0m\u001b[0;34m+\u001b[0m\u001b[0;36m1j\u001b[0m\u001b[0;34m)\u001b[0m\u001b[0;34m)\u001b[0m\u001b[0;34m\u001b[0m\u001b[0m\n\u001b[1;32m     16\u001b[0m \u001b[0;32mfor\u001b[0m \u001b[0mind\u001b[0m\u001b[0;34m,\u001b[0m \u001b[0mK\u001b[0m \u001b[0;32min\u001b[0m \u001b[0menumerate\u001b[0m\u001b[0;34m(\u001b[0m\u001b[0mKVRR\u001b[0m\u001b[0;34m)\u001b[0m\u001b[0;34m:\u001b[0m\u001b[0;34m\u001b[0m\u001b[0m\n\u001b[0;32m---> 17\u001b[0;31m     \u001b[0mr2\u001b[0m\u001b[0;34m[\u001b[0m\u001b[0mind\u001b[0m\u001b[0;34m]\u001b[0m \u001b[0;34m=\u001b[0m \u001b[0mr2wlc\u001b[0m\u001b[0;34m(\u001b[0m\u001b[0mNRR\u001b[0m\u001b[0;34m,\u001b[0m \u001b[0mFA\u001b[0m\u001b[0;34m,\u001b[0m \u001b[0mK\u001b[0m\u001b[0;34m,\u001b[0m \u001b[0msequence\u001b[0m\u001b[0;34m=\u001b[0m\u001b[0msequence\u001b[0m\u001b[0;34m)\u001b[0m\u001b[0;34m/\u001b[0m\u001b[0;34m(\u001b[0m\u001b[0mNRR\u001b[0m\u001b[0;34m**\u001b[0m\u001b[0;36m2\u001b[0m\u001b[0;34m)\u001b[0m\u001b[0;34m\u001b[0m\u001b[0m\n\u001b[0m",
      "\u001b[0;31mTypeError\u001b[0m: only length-1 arrays can be converted to Python scalars"
     ]
    }
   ],
   "source": [
    "FA=1.0\n",
    "sequence = [0,0]\n",
    "\n",
    "nlam=1\n",
    "pset=propagator.prop_set(nlam=nlam)\n",
    "\n",
    "N=1.0\n",
    "KV = np.linspace(0,20,100)/N\n",
    "s2 = np.zeros((len(KV)),dtype=type(1+1j))\n",
    "for ind, K in enumerate(KV):\n",
    "    s2[ind] = s2wlc(pset, N, FA, K, sequence=sequence)/(N**2)\n",
    "    \n",
    "NRR = 10\n",
    "KVRR = np.linspace(0,20,100)/NRR\n",
    "r2 = np.zeros((len(KV)),dtype=type(1+1j))\n",
    "for ind, K in enumerate(KVRR):\n",
    "    r2[ind] = r2wlc(NRR, FA, K, sequence=sequence)/(NRR**2)"
   ]
  },
  {
   "cell_type": "code",
   "execution_count": null,
   "metadata": {
    "collapsed": false
   },
   "outputs": [],
   "source": [
    "plt.plot(KVRR*NRR, r2.real*KVRR*NRR)\n",
    "plt.plot(KV*N, s2.real*KV*N)\n",
    "plt.show()"
   ]
  },
  {
   "cell_type": "code",
   "execution_count": null,
   "metadata": {
    "collapsed": true
   },
   "outputs": [],
   "source": []
  },
  {
   "cell_type": "code",
   "execution_count": null,
   "metadata": {
    "collapsed": true
   },
   "outputs": [],
   "source": []
  },
  {
   "cell_type": "code",
   "execution_count": null,
   "metadata": {
    "collapsed": true
   },
   "outputs": [],
   "source": []
  },
  {
   "cell_type": "code",
   "execution_count": null,
   "metadata": {
    "collapsed": true
   },
   "outputs": [],
   "source": [
    "def set4Ks(K):\n",
    "    k1=np.array([0,0,1])*K\n",
    "#     k2=np.array([0,0,1])*K\n",
    "    k2=np.array([0,1,0])*K\n",
    "    k3=-k1\n",
    "    k4=-k2\n",
    "\n",
    "    k = [k1, k2, k3, k4]\n",
    "    return k\n",
    "\n",
    "FA=1.0\n",
    "sequence = [0,0,0,0]\n",
    "\n",
    "NRR = 10\n",
    "KVRR = np.linspace(.5,20,100)/NRR\n",
    "r4 = np.zeros((len(KVRR)),dtype=type(1+1j))\n",
    "for ind, K in enumerate(KVRR):\n",
    "    Ks = set4Ks(K)\n",
    "    r4[ind] = r4wlc(NRR, FA, Ks, sequence=sequence)/(NRR**4)\n",
    "    \n",
    "N = 1\n",
    "KV = np.linspace(.5,20,100)/N\n",
    "s4 = np.zeros((len(KV)),dtype=type(1+1j))\n",
    "\n",
    "nlam=5\n",
    "pset=propagator.prop_set(nlam=nlam)\n",
    "wigset = wd.wigner_d_vals()\n",
    "\n",
    "for ind, K in enumerate(KV):\n",
    "    Ks = set4Ks(K)\n",
    "    s4[ind] = s4wlc(pset, wigset, N, FA, Ks, sequence=sequence)/(N**4)"
   ]
  },
  {
   "cell_type": "code",
   "execution_count": null,
   "metadata": {
    "collapsed": true
   },
   "outputs": [],
   "source": [
    "plt.plot(KVRR*NRR, r4.real)\n",
    "plt.plot(KV*N, s4.real)"
   ]
  },
  {
   "cell_type": "code",
   "execution_count": null,
   "metadata": {
    "collapsed": true
   },
   "outputs": [],
   "source": []
  },
  {
   "cell_type": "code",
   "execution_count": null,
   "metadata": {
    "collapsed": true
   },
   "outputs": [],
   "source": [
    "def set4Ks(K):\n",
    "    k1=np.array([0,0,1])*K\n",
    "#     k2=np.array([0,0,1])*K\n",
    "    k2=np.array([0,1,0])*K\n",
    "    k3=-k1\n",
    "    k4=-k2\n",
    "\n",
    "    k = [k1, k2, k3, k4]\n",
    "    return k\n",
    "\n",
    "FA=1.0\n",
    "sequence = [0,0,0,0]\n",
    "\n",
    "NRR = 20\n",
    "KVRR = np.logspace(-2,3,50)/NRR\n",
    "r4 = np.zeros((len(KVRR)),dtype=type(1+1j))\n",
    "for ind, K in enumerate(KVRR):\n",
    "    Ks = set4Ks(K)\n",
    "    r4[ind] = r4wlc(NRR, FA, Ks, sequence=sequence)/(NRR**4)\n",
    "    \n",
    "N = 1\n",
    "KV = np.logspace(-2,3,50)/N\n",
    "s4 = np.zeros((len(KV)),dtype=type(1+1j))\n",
    "\n",
    "nlam=5\n",
    "pset=propagator.prop_set(nlam=nlam)\n",
    "wigset = wd.wigner_d_vals()\n",
    "\n",
    "for ind, K in enumerate(KV):\n",
    "    Ks = set4Ks(K)\n",
    "    s4[ind] = s4wlc(pset, wigset, N, FA, Ks, sequence=sequence)/(N**4)"
   ]
  },
  {
   "cell_type": "code",
   "execution_count": null,
   "metadata": {
    "collapsed": true
   },
   "outputs": [],
   "source": [
    "plt.loglog(KVRR*NRR, r4.real)\n",
    "plt.loglog(KV*N, s4.real)\n",
    "plotlog(1e1,1e-2,-2)\n",
    "plt.show()"
   ]
  },
  {
   "cell_type": "code",
   "execution_count": null,
   "metadata": {
    "collapsed": true
   },
   "outputs": [],
   "source": []
  },
  {
   "cell_type": "code",
   "execution_count": null,
   "metadata": {
    "collapsed": true
   },
   "outputs": [],
   "source": [
    "FA=1.0\n",
    "sequence = [0,0,0,0]\n",
    "\n",
    "NRR = 30\n",
    "KVRR = np.logspace(-2,3,50)/NRR\n",
    "r4 = np.zeros((len(KVRR)),dtype=type(1+1j))\n",
    "for ind, K in enumerate(KVRR):\n",
    "    print(ind)\n",
    "    Ks = set4Ks(K)\n",
    "    r4[ind] = r4wlc(NRR, FA, Ks, sequence=sequence)/(NRR**4)"
   ]
  },
  {
   "cell_type": "code",
   "execution_count": null,
   "metadata": {
    "collapsed": true
   },
   "outputs": [],
   "source": [
    "FA=1.0\n",
    "sequence = [0,0]\n",
    "\n",
    "nlam=1\n",
    "pset=propagator.prop_set(nlam=nlam)\n",
    "\n",
    "N=1.0\n",
    "KV = np.linspace(0,20,100)/N\n",
    "s2 = np.zeros((len(KV)),dtype=type(1+1j))\n",
    "for ind, K in enumerate(KV):\n",
    "    s2[ind] = s2wlc(pset, N, FA, K, sequence=sequence)/(N**2)\n",
    "    \n",
    "NRR = 10\n",
    "KVRR = np.linspace(0,20,100)/NRR\n",
    "r2 = np.zeros((len(KV)),dtype=type(1+1j))\n",
    "for ind, K in enumerate(KVRR):\n",
    "    r2[ind] = r2wlc(NRR, FA, K, sequence=sequence)/(NRR**2)"
   ]
  }
 ],
 "metadata": {
  "anaconda-cloud": {},
  "kernelspec": {
   "display_name": "Python [conda root]",
   "language": "python",
   "name": "conda-root-py"
  },
  "language_info": {
   "codemirror_mode": {
    "name": "ipython",
    "version": 3
   },
   "file_extension": ".py",
   "mimetype": "text/x-python",
   "name": "python",
   "nbconvert_exporter": "python",
   "pygments_lexer": "ipython3",
   "version": "3.5.2"
  }
 },
 "nbformat": 4,
 "nbformat_minor": 1
}
