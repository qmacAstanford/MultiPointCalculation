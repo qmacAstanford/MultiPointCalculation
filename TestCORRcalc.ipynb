{
 "cells": [
  {
   "cell_type": "code",
   "execution_count": 1,
   "metadata": {
    "collapsed": true
   },
   "outputs": [],
   "source": [
    "from itertools import permutations as perms\n",
    "from itertools import product\n",
    "import numpy as np\n",
    "import MultiPoint as mp\n",
    "import propagator\n",
    "import wignerD as wd"
   ]
  },
  {
   "cell_type": "code",
   "execution_count": 2,
   "metadata": {
    "collapsed": true
   },
   "outputs": [],
   "source": [
    "from CORRcalc import *"
   ]
  },
  {
   "cell_type": "code",
   "execution_count": 3,
   "metadata": {
    "collapsed": true
   },
   "outputs": [],
   "source": [
    "import imp  # imp.reload(module)\n",
    "import matplotlib.pyplot as plt\n",
    "%matplotlib inline\n",
    "# import mpld3\n",
    "# mpld3.enable_notebook()"
   ]
  },
  {
   "cell_type": "markdown",
   "metadata": {},
   "source": [
    "## Set of Ks for testing"
   ]
  },
  {
   "cell_type": "code",
   "execution_count": 4,
   "metadata": {
    "collapsed": true
   },
   "outputs": [],
   "source": [
    "def set3Ks(K):\n",
    "    k1 = np.array([1,0,0])*K\n",
    "    k2 = np.array([-0.5,0.5*np.sqrt(3),0])*K\n",
    "    k3 = -k1-k2\n",
    "\n",
    "    Ks = [k1, k2, k3]\n",
    "    return Ks"
   ]
  },
  {
   "cell_type": "code",
   "execution_count": 5,
   "metadata": {
    "collapsed": true
   },
   "outputs": [],
   "source": [
    "def set4Ks_line(K):\n",
    "    k1=np.array([1,0,0])*K\n",
    "    k2=np.array([-1,0,0])*K\n",
    "    k3=-k1\n",
    "    k4=-k2\n",
    "\n",
    "    k = [k1, k2, k3, k4]\n",
    "    return k"
   ]
  },
  {
   "cell_type": "code",
   "execution_count": 6,
   "metadata": {
    "collapsed": true
   },
   "outputs": [],
   "source": [
    "def set4Ks_square(K):\n",
    "    k1=np.array([1,0,0])*K\n",
    "    k2=np.array([0,1,0])*K\n",
    "    k3=-k1\n",
    "    k4=-k2\n",
    "\n",
    "    k = [k1, k2, k3, k4]\n",
    "    return k"
   ]
  },
  {
   "cell_type": "markdown",
   "metadata": {},
   "source": [
    "## 1. Structure factors"
   ]
  },
  {
   "cell_type": "code",
   "execution_count": 7,
   "metadata": {},
   "outputs": [
    {
     "ename": "ZeroDivisionError",
     "evalue": "division by zero",
     "output_type": "error",
     "traceback": [
      "\u001b[0;31m---------------------------------------------------------------------------\u001b[0m",
      "\u001b[0;31mZeroDivisionError\u001b[0m                         Traceback (most recent call last)",
      "\u001b[0;32m<ipython-input-7-44229389b226>\u001b[0m in \u001b[0;36m<module>\u001b[0;34m()\u001b[0m\n\u001b[1;32m     17\u001b[0m \u001b[0;34m\u001b[0m\u001b[0m\n\u001b[1;32m     18\u001b[0m     \u001b[0mKs\u001b[0m \u001b[0;34m=\u001b[0m \u001b[0mset4Ks_line\u001b[0m\u001b[0;34m(\u001b[0m\u001b[0mK\u001b[0m\u001b[0;34m)\u001b[0m\u001b[0;34m\u001b[0m\u001b[0m\n\u001b[0;32m---> 19\u001b[0;31m     \u001b[0ms4\u001b[0m\u001b[0;34m[\u001b[0m\u001b[0mind\u001b[0m\u001b[0;34m]\u001b[0m \u001b[0;34m=\u001b[0m \u001b[0ms4wlc\u001b[0m\u001b[0;34m(\u001b[0m\u001b[0mpset\u001b[0m\u001b[0;34m,\u001b[0m \u001b[0mwigset\u001b[0m\u001b[0;34m,\u001b[0m \u001b[0mN\u001b[0m\u001b[0;34m,\u001b[0m \u001b[0mFA\u001b[0m\u001b[0;34m,\u001b[0m \u001b[0mKs\u001b[0m\u001b[0;34m,\u001b[0m \u001b[0msequence\u001b[0m\u001b[0;34m=\u001b[0m\u001b[0;34m[\u001b[0m\u001b[0;36m0\u001b[0m\u001b[0;34m,\u001b[0m\u001b[0;36m0\u001b[0m\u001b[0;34m,\u001b[0m\u001b[0;36m0\u001b[0m\u001b[0;34m,\u001b[0m\u001b[0;36m0\u001b[0m\u001b[0;34m]\u001b[0m\u001b[0;34m)\u001b[0m\u001b[0;34m/\u001b[0m\u001b[0;34m(\u001b[0m\u001b[0mN\u001b[0m\u001b[0;34m**\u001b[0m\u001b[0;36m4\u001b[0m\u001b[0;34m)\u001b[0m\u001b[0;34m\u001b[0m\u001b[0m\n\u001b[0m",
      "\u001b[0;32m~/Dropbox/Codes/wlc/MultiPointCalculation/CORRcalc.py\u001b[0m in \u001b[0;36ms4wlc\u001b[0;34m(pset, wigset, N, FA, Ks, sequence)\u001b[0m\n\u001b[1;32m    403\u001b[0m         \u001b[0mphi3\u001b[0m \u001b[0;34m=\u001b[0m \u001b[0mphi_tilde\u001b[0m\u001b[0;34m(\u001b[0m\u001b[0mk3\u001b[0m\u001b[0;34m,\u001b[0m\u001b[0malpha\u001b[0m\u001b[0;34m=\u001b[0m\u001b[0ma3\u001b[0m\u001b[0;34m)\u001b[0m\u001b[0;34m\u001b[0m\u001b[0m\n\u001b[1;32m    404\u001b[0m         \u001b[0mphi4\u001b[0m \u001b[0;34m=\u001b[0m \u001b[0mphi_tilde\u001b[0m\u001b[0;34m(\u001b[0m\u001b[0mk4\u001b[0m\u001b[0;34m,\u001b[0m\u001b[0malpha\u001b[0m\u001b[0;34m=\u001b[0m\u001b[0ma4\u001b[0m\u001b[0;34m)\u001b[0m\u001b[0;34m\u001b[0m\u001b[0m\n\u001b[0;32m--> 405\u001b[0;31m         \u001b[0ms4\u001b[0m \u001b[0;34m=\u001b[0m \u001b[0mfourPointCorr\u001b[0m\u001b[0;34m(\u001b[0m\u001b[0mpset\u001b[0m\u001b[0;34m,\u001b[0m\u001b[0mwigset\u001b[0m\u001b[0;34m,\u001b[0m \u001b[0mN\u001b[0m\u001b[0;34m,\u001b[0m \u001b[0mFA\u001b[0m\u001b[0;34m,\u001b[0m                            \u001b[0mphi1\u001b[0m\u001b[0;34m,\u001b[0m \u001b[0mphi2\u001b[0m\u001b[0;34m,\u001b[0m \u001b[0mphi3\u001b[0m\u001b[0;34m,\u001b[0m \u001b[0mphi4\u001b[0m\u001b[0;34m)\u001b[0m\u001b[0;34m\u001b[0m\u001b[0m\n\u001b[0m\u001b[1;32m    406\u001b[0m \u001b[0;34m\u001b[0m\u001b[0m\n\u001b[1;32m    407\u001b[0m     \u001b[0;32mreturn\u001b[0m \u001b[0ms4\u001b[0m\u001b[0;34m\u001b[0m\u001b[0m\n",
      "\u001b[0;32m~/Dropbox/Codes/wlc/MultiPointCalculation/CORRcalc.py\u001b[0m in \u001b[0;36mfourPointCorr\u001b[0;34m(pset, wigset, N, FA, phi1, phi2, phi3, phi4)\u001b[0m\n\u001b[1;32m    488\u001b[0m                     \u001b[0mlam0_3\u001b[0m\u001b[0;34m=\u001b[0m\u001b[0mlam_2\u001b[0m\u001b[0;34m\u001b[0m\u001b[0m\n\u001b[1;32m    489\u001b[0m \u001b[0;34m\u001b[0m\u001b[0m\n\u001b[0;32m--> 490\u001b[0;31m                     \u001b[0mvalue\u001b[0m\u001b[0;34m=\u001b[0m\u001b[0mI4N\u001b[0m\u001b[0;34m(\u001b[0m\u001b[0mN\u001b[0m\u001b[0;34m,\u001b[0m\u001b[0mFA\u001b[0m\u001b[0;34m,\u001b[0m\u001b[0mlam0_1\u001b[0m\u001b[0;34m,\u001b[0m\u001b[0mlam_1\u001b[0m\u001b[0;34m,\u001b[0m\u001b[0mmu1\u001b[0m\u001b[0;34m,\u001b[0m                               \u001b[0mlam0_2\u001b[0m\u001b[0;34m,\u001b[0m\u001b[0mlam_2\u001b[0m\u001b[0;34m,\u001b[0m\u001b[0mmu2\u001b[0m\u001b[0;34m,\u001b[0m                               \u001b[0mlam0_3\u001b[0m\u001b[0;34m,\u001b[0m\u001b[0mlam_3\u001b[0m\u001b[0;34m,\u001b[0m\u001b[0mmu3\u001b[0m\u001b[0;34m,\u001b[0m                               \u001b[0mp1\u001b[0m\u001b[0;34m,\u001b[0m\u001b[0mp2\u001b[0m\u001b[0;34m,\u001b[0m\u001b[0mp3\u001b[0m\u001b[0;34m,\u001b[0m                               \u001b[0msequence\u001b[0m\u001b[0;34m)\u001b[0m\u001b[0;34m\u001b[0m\u001b[0m\n\u001b[0m\u001b[1;32m    491\u001b[0m \u001b[0;34m\u001b[0m\u001b[0m\n\u001b[1;32m    492\u001b[0m                     \u001b[0;31m# Wigner D to rotate first and third frames into second\u001b[0m\u001b[0;34m\u001b[0m\u001b[0;34m\u001b[0m\u001b[0m\n",
      "\u001b[0;32m~/Dropbox/Codes/wlc/MultiPointCalculation/CORRcalc.py\u001b[0m in \u001b[0;36mI4N\u001b[0;34m(N, FA, lam0_1, lam_1, mu1, lam0_2, lam_2, mu2, lam0_3, lam_3, mu3, p1, p2, p3, sequence)\u001b[0m\n\u001b[1;32m    417\u001b[0m \u001b[0;34m\u001b[0m\u001b[0m\n\u001b[1;32m    418\u001b[0m     \u001b[0;32mif\u001b[0m \u001b[0msequence\u001b[0m \u001b[0;34m==\u001b[0m \u001b[0;34m(\u001b[0m\u001b[0;36m0\u001b[0m\u001b[0;34m,\u001b[0m\u001b[0;36m0\u001b[0m\u001b[0;34m,\u001b[0m\u001b[0;36m0\u001b[0m\u001b[0;34m,\u001b[0m\u001b[0;36m0\u001b[0m\u001b[0;34m)\u001b[0m\u001b[0;34m:\u001b[0m \u001b[0;31m# AAAA\u001b[0m\u001b[0;34m\u001b[0m\u001b[0m\n\u001b[0;32m--> 419\u001b[0;31m         \u001b[0;32mreturn\u001b[0m \u001b[0mmp\u001b[0m\u001b[0;34m.\u001b[0m\u001b[0mIAAAAswitch\u001b[0m\u001b[0;34m(\u001b[0m\u001b[0mN\u001b[0m\u001b[0;34m,\u001b[0m \u001b[0mFA\u001b[0m\u001b[0;34m,\u001b[0m \u001b[0;34m*\u001b[0m\u001b[0mlams\u001b[0m\u001b[0;34m,\u001b[0m \u001b[0;34m*\u001b[0m\u001b[0mprops\u001b[0m\u001b[0;34m)\u001b[0m\u001b[0;34m\u001b[0m\u001b[0m\n\u001b[0m\u001b[1;32m    420\u001b[0m \u001b[0;34m\u001b[0m\u001b[0m\n\u001b[1;32m    421\u001b[0m     \u001b[0;32melif\u001b[0m \u001b[0msequence\u001b[0m \u001b[0;34m==\u001b[0m \u001b[0;34m(\u001b[0m\u001b[0;36m0\u001b[0m\u001b[0;34m,\u001b[0m\u001b[0;36m0\u001b[0m\u001b[0;34m,\u001b[0m\u001b[0;36m0\u001b[0m\u001b[0;34m,\u001b[0m\u001b[0;36m1\u001b[0m\u001b[0;34m)\u001b[0m\u001b[0;34m:\u001b[0m \u001b[0;31m# AAAB\u001b[0m\u001b[0;34m\u001b[0m\u001b[0m\n",
      "\u001b[0;32m~/Dropbox/Codes/wlc/MultiPointCalculation/MultiPoint.py\u001b[0m in \u001b[0;36mIAAAAswitch\u001b[0;34m(N, fa, lam0_1, lam_1, lam0_2, lam_2, lam0_3, lam_3, p1, p2, p3)\u001b[0m\n\u001b[1;32m    779\u001b[0m     \u001b[0mK\u001b[0m\u001b[0;34m=\u001b[0m\u001b[0;34m(\u001b[0m\u001b[0mp1\u001b[0m\u001b[0;34m.\u001b[0m\u001b[0mK\u001b[0m\u001b[0;34m*\u001b[0m\u001b[0mp2\u001b[0m\u001b[0;34m.\u001b[0m\u001b[0mK\u001b[0m\u001b[0;34m*\u001b[0m\u001b[0mp3\u001b[0m\u001b[0;34m.\u001b[0m\u001b[0mK\u001b[0m\u001b[0;34m)\u001b[0m\u001b[0;34m**\u001b[0m\u001b[0;34m(\u001b[0m\u001b[0;36m1\u001b[0m\u001b[0;34m/\u001b[0m\u001b[0;36m3.0\u001b[0m\u001b[0;34m)\u001b[0m\u001b[0;34m\u001b[0m\u001b[0m\n\u001b[1;32m    780\u001b[0m     \u001b[0;32mif\u001b[0m \u001b[0mK\u001b[0m\u001b[0;34m<\u001b[0m\u001b[0;36m50.0\u001b[0m\u001b[0;34m:\u001b[0m\u001b[0;34m\u001b[0m\u001b[0m\n\u001b[0;32m--> 781\u001b[0;31m         \u001b[0mout\u001b[0m \u001b[0;34m=\u001b[0m \u001b[0mIexplicit\u001b[0m\u001b[0;34m(\u001b[0m\u001b[0mN\u001b[0m\u001b[0;34m,\u001b[0m\u001b[0mfa\u001b[0m\u001b[0;34m,\u001b[0m\u001b[0mlam0_1\u001b[0m\u001b[0;34m,\u001b[0m\u001b[0mlam_1\u001b[0m\u001b[0;34m,\u001b[0m\u001b[0mlam0_2\u001b[0m\u001b[0;34m,\u001b[0m\u001b[0mlam_2\u001b[0m\u001b[0;34m,\u001b[0m\u001b[0mlam0_3\u001b[0m\u001b[0;34m,\u001b[0m\u001b[0mlam_3\u001b[0m                      \u001b[0;34m,\u001b[0m\u001b[0mp1\u001b[0m\u001b[0;34m,\u001b[0m\u001b[0mp2\u001b[0m\u001b[0;34m,\u001b[0m\u001b[0mp3\u001b[0m\u001b[0;34m,\u001b[0m\u001b[0mcaseAAAA\u001b[0m\u001b[0;34m)\u001b[0m\u001b[0;34m\u001b[0m\u001b[0m\n\u001b[0m\u001b[1;32m    782\u001b[0m     \u001b[0;32melse\u001b[0m\u001b[0;34m:\u001b[0m\u001b[0;34m\u001b[0m\u001b[0m\n\u001b[1;32m    783\u001b[0m         \u001b[0mout\u001b[0m \u001b[0;34m=\u001b[0m\u001b[0mIAAAA\u001b[0m\u001b[0;34m(\u001b[0m\u001b[0mN\u001b[0m\u001b[0;34m,\u001b[0m\u001b[0mfa\u001b[0m\u001b[0;34m,\u001b[0m\u001b[0mlam0_1\u001b[0m\u001b[0;34m,\u001b[0m\u001b[0mlam_1\u001b[0m\u001b[0;34m,\u001b[0m\u001b[0mlam0_2\u001b[0m\u001b[0;34m,\u001b[0m\u001b[0mlam_2\u001b[0m\u001b[0;34m,\u001b[0m\u001b[0mlam0_3\u001b[0m\u001b[0;34m,\u001b[0m\u001b[0mlam_3\u001b[0m               \u001b[0;34m,\u001b[0m\u001b[0mp1\u001b[0m\u001b[0;34m,\u001b[0m\u001b[0mp2\u001b[0m\u001b[0;34m,\u001b[0m\u001b[0mp3\u001b[0m\u001b[0;34m)\u001b[0m\u001b[0;34m\u001b[0m\u001b[0m\n",
      "\u001b[0;32m~/Dropbox/Codes/wlc/MultiPointCalculation/MultiPoint.py\u001b[0m in \u001b[0;36mIexplicit\u001b[0;34m(N, fa, lam0_1, lam_1, lam0_2, lam_2, lam0_3, lam_3, p1, p2, p3, fun)\u001b[0m\n\u001b[1;32m    580\u001b[0m                 \u001b[0me3\u001b[0m\u001b[0;34m=\u001b[0m\u001b[0mp3\u001b[0m\u001b[0;34m.\u001b[0m\u001b[0meig\u001b[0m\u001b[0;34m[\u001b[0m\u001b[0ml3\u001b[0m\u001b[0;34m]\u001b[0m\u001b[0;34m\u001b[0m\u001b[0m\n\u001b[1;32m    581\u001b[0m                 \u001b[0mR3\u001b[0m\u001b[0;34m=\u001b[0m\u001b[0mp3\u001b[0m\u001b[0;34m.\u001b[0m\u001b[0mres\u001b[0m\u001b[0;34m[\u001b[0m\u001b[0ml3\u001b[0m\u001b[0;34m]\u001b[0m\u001b[0;34m[\u001b[0m\u001b[0mlam0_3\u001b[0m\u001b[0;34m,\u001b[0m\u001b[0mlam_3\u001b[0m\u001b[0;34m]\u001b[0m\u001b[0;34m\u001b[0m\u001b[0m\n\u001b[0;32m--> 582\u001b[0;31m                 \u001b[0mtemp\u001b[0m \u001b[0;34m=\u001b[0m \u001b[0mR1\u001b[0m\u001b[0;34m*\u001b[0m\u001b[0mR2\u001b[0m\u001b[0;34m*\u001b[0m\u001b[0mR3\u001b[0m\u001b[0;34m*\u001b[0m\u001b[0mfun\u001b[0m\u001b[0;34m(\u001b[0m\u001b[0me1\u001b[0m\u001b[0;34m,\u001b[0m\u001b[0me2\u001b[0m\u001b[0;34m,\u001b[0m\u001b[0me3\u001b[0m\u001b[0;34m,\u001b[0m\u001b[0mN\u001b[0m\u001b[0;34m,\u001b[0m\u001b[0mfa\u001b[0m\u001b[0;34m)\u001b[0m\u001b[0;34m\u001b[0m\u001b[0m\n\u001b[0m\u001b[1;32m    583\u001b[0m                 \u001b[0msum3\u001b[0m\u001b[0;34m=\u001b[0m\u001b[0msum3\u001b[0m\u001b[0;34m+\u001b[0m\u001b[0mtemp\u001b[0m\u001b[0;34m\u001b[0m\u001b[0m\n\u001b[1;32m    584\u001b[0m                 \u001b[0;32mif\u001b[0m \u001b[0mabs\u001b[0m\u001b[0;34m(\u001b[0m\u001b[0mtemp\u001b[0m\u001b[0;34m/\u001b[0m\u001b[0;34m(\u001b[0m\u001b[0msum3\u001b[0m\u001b[0;34m+\u001b[0m\u001b[0mtol\u001b[0m\u001b[0;34m)\u001b[0m\u001b[0;34m)\u001b[0m\u001b[0;34m<\u001b[0m\u001b[0mtol\u001b[0m \u001b[0;32mand\u001b[0m \u001b[0ml3\u001b[0m\u001b[0;34m>\u001b[0m\u001b[0mmax\u001b[0m\u001b[0;34m(\u001b[0m\u001b[0mlam0_3\u001b[0m\u001b[0;34m,\u001b[0m\u001b[0mlam_3\u001b[0m\u001b[0;34m)\u001b[0m\u001b[0;34m:\u001b[0m\u001b[0;34m\u001b[0m\u001b[0m\n",
      "\u001b[0;31mZeroDivisionError\u001b[0m: division by zero"
     ]
    }
   ],
   "source": [
    "# Wormlike chain\n",
    "FA=1.0\n",
    "N=1e3\n",
    "\n",
    "pset=propagator.prop_set(nlam=1)\n",
    "wigset = wd.wigner_d_vals()\n",
    "\n",
    "KV = np.logspace(-5,4,100)\n",
    "s2 = np.zeros((len(KV)),dtype=type(1+1j))\n",
    "s3 = np.zeros((len(KV)),dtype=type(1+1j))\n",
    "s4 = np.zeros((len(KV)),dtype=type(1+1j))\n",
    "for ind, K in enumerate(KV):\n",
    "    s2[ind] = s2wlc(pset, N, FA, K, sequence=[0,0])/(N**2)\n",
    "\n",
    "    Ks = set3Ks(K)\n",
    "    s3[ind] = s3wlc(pset, N, FA, Ks, sequence=[0,0,0])/(N**3)\n",
    "    \n",
    "    Ks = set4Ks_line(K)\n",
    "    s4[ind] = s4wlc(pset, wigset, N, FA, Ks, sequence=[0,0,0,0])/(N**4)"
   ]
  },
  {
   "cell_type": "code",
   "execution_count": null,
   "metadata": {},
   "outputs": [],
   "source": [
    "plt.loglog(KV, s2.real, label='S2')\n",
    "plt.loglog(KV, s3.real, label='S3')\n",
    "plt.loglog(KV, s4.real, label='S4')\n",
    "plt.legend(loc=1)\n",
    "plt.show()"
   ]
  },
  {
   "cell_type": "markdown",
   "metadata": {},
   "source": [
    "## 2. Check Leibler's identities"
   ]
  },
  {
   "cell_type": "code",
   "execution_count": null,
   "metadata": {
    "collapsed": true
   },
   "outputs": [],
   "source": [
    "N=1.0\n",
    "FA=0.2\n",
    "\n",
    "pset=propagator.prop_set(nlam=5)\n",
    "wigset = wd.wigner_d_vals()\n",
    "\n",
    "K = 10.0\n",
    "Ks3 = set3Ks(K)\n",
    "Ks4 = set4Ks_line(K)\n",
    "\n",
    "print(s3wlc(pset, N, FA, Ks3, sequence=[0, 1, 0]))\n",
    "print(s3wlc(pset, N, FA, Ks3, sequence=[1, 0, 0]))\n",
    "\n",
    "print(s3wlc(pset, N, FA, Ks3, sequence=[1, 0, 1]))\n",
    "print(s3wlc(pset, N, FA, Ks3, sequence=[0, 1, 1]))\n",
    "\n",
    "print(s4wlc(pset, wigset, N, FA, Ks4, sequence=[0, 0, 0, 1]))\n",
    "print(s4wlc(pset, wigset, N, FA, Ks4, sequence=[0, 0, 1, 0]))\n",
    "print(s4wlc(pset, wigset, N, FA, Ks4, sequence=[0, 1, 0, 0]))\n",
    "print(s4wlc(pset, wigset, N, FA, Ks4, sequence=[1, 0, 0, 0]))\n",
    "\n",
    "print(s4wlc(pset, wigset, N, FA, Ks4, sequence=[1, 1, 0, 0]))\n",
    "print(s4wlc(pset, wigset, N, FA, Ks4, sequence=[0, 0, 1, 1]))\n",
    "\n",
    "print(s4wlc(pset, wigset, N, FA, Ks4, sequence=[1, 0, 0, 1]))\n",
    "print(s4wlc(pset, wigset, N, FA, Ks4, sequence=[0, 1, 1, 0]))\n",
    "\n",
    "print(s4wlc(pset, wigset, N, FA, Ks4, sequence=[1, 0, 1, 0]))\n",
    "print(s4wlc(pset, wigset, N, FA, Ks4, sequence=[0, 1, 0, 1]))"
   ]
  },
  {
   "cell_type": "markdown",
   "metadata": {},
   "source": [
    "## 3. Check with rigid rod limits"
   ]
  },
  {
   "cell_type": "markdown",
   "metadata": {},
   "source": [
    "### 3.1 Pair correlation"
   ]
  },
  {
   "cell_type": "code",
   "execution_count": null,
   "metadata": {
    "collapsed": true
   },
   "outputs": [],
   "source": [
    "FA=1.0\n",
    "sequence = [0,0]\n",
    "kL = np.linspace(0,20,100)\n",
    "\n",
    "# Rigid rod\n",
    "NRR = 10\n",
    "KVRR = kL/NRR\n",
    "r2 = np.zeros((len(KVRR)),dtype=type(1+1j))\n",
    "for ind, K in enumerate(KVRR):\n",
    "    r2[ind] = r2wlc(NRR, FA, K, sequence=sequence)/(NRR**2)"
   ]
  },
  {
   "cell_type": "code",
   "execution_count": null,
   "metadata": {
    "collapsed": true
   },
   "outputs": [],
   "source": [
    "# Wormlike chain\n",
    "pset=propagator.prop_set(nlam=1)\n",
    "\n",
    "N=1.0\n",
    "KV = kL/N\n",
    "s2_N1 = np.zeros((len(KV)),dtype=type(1+1j))\n",
    "for ind, K in enumerate(KV):\n",
    "    s2_N1[ind] = s2wlc(pset, N, FA, K, sequence=sequence)/(N**2)\n",
    "    \n",
    "N=0.1\n",
    "KV = kL/N\n",
    "s2_Np1 = np.zeros((len(KV)),dtype=type(1+1j))\n",
    "for ind, K in enumerate(KV):\n",
    "    s2_Np1[ind] = s2wlc(pset, N, FA, K, sequence=sequence)/(N**2)"
   ]
  },
  {
   "cell_type": "code",
   "execution_count": null,
   "metadata": {
    "collapsed": true
   },
   "outputs": [],
   "source": [
    "plt.plot(kL, r2.real*kL, label='Rigid Rod')\n",
    "plt.plot(kL, s2_N1.real*kL, label='N=1')\n",
    "plt.plot(kL, s2_Np1.real*kL, label='N=0.1')\n",
    "plt.xlabel('kL')\n",
    "plt.ylabel('SkL')\n",
    "plt.legend(loc=4)\n",
    "# plt.axis([2,20,2,3.5])\n",
    "plt.show()"
   ]
  },
  {
   "cell_type": "markdown",
   "metadata": {
    "collapsed": true
   },
   "source": [
    "### 3.2 Three-point correlations"
   ]
  },
  {
   "cell_type": "code",
   "execution_count": null,
   "metadata": {
    "collapsed": true
   },
   "outputs": [],
   "source": [
    "FA=1.0\n",
    "sequence = [0,0,0]\n",
    "kL = np.linspace(0,30,100)\n",
    "\n",
    "# Rigid rod\n",
    "NRR = 10\n",
    "KVRR = kL/NRR\n",
    "r3 = np.zeros((len(KVRR)),dtype=type(1+1j))\n",
    "for ind, K in enumerate(KVRR):\n",
    "    Ks = set3Ks(K)\n",
    "    r3[ind] = r3wlc(NRR, FA, Ks, sequence=sequence)/(NRR**3)"
   ]
  },
  {
   "cell_type": "code",
   "execution_count": null,
   "metadata": {
    "collapsed": true
   },
   "outputs": [],
   "source": [
    "# Wormlike chain\n",
    "pset=propagator.prop_set(nlam=10)\n",
    "\n",
    "N=1.0\n",
    "KV = kL/N\n",
    "s3_N1 = np.zeros((len(KV)),dtype=type(1+1j))\n",
    "for ind, K in enumerate(KV):\n",
    "    Ks = set3Ks(K)\n",
    "    s3_N1[ind] = s3wlc(pset, N, FA, Ks, sequence=sequence)/(N**3)\n",
    "\n",
    "N=0.1\n",
    "KV = kL/N\n",
    "s3_Np1 = np.zeros((len(KV)),dtype=type(1+1j))\n",
    "for ind, K in enumerate(KV):\n",
    "    Ks = set3Ks(K)\n",
    "    s3_Np1[ind] = s3wlc(pset, N, FA, Ks, sequence=sequence)/(N**3)"
   ]
  },
  {
   "cell_type": "code",
   "execution_count": null,
   "metadata": {},
   "outputs": [],
   "source": [
    "plt.plot(kL, r3.real*kL**2, label='Rigid rod')\n",
    "plt.plot(kL, s3_N1.real*kL**2, label='N=1.0')\n",
    "plt.plot(kL, s3_Np1.real*kL**2, label='N=0.1')\n",
    "plt.legend(loc=4)\n",
    "plt.xlabel('kL')\n",
    "plt.ylabel('S(kL)^2')\n",
    "plt.show()"
   ]
  },
  {
   "cell_type": "markdown",
   "metadata": {
    "collapsed": true
   },
   "source": [
    "### 3.3 Four-point correlations"
   ]
  },
  {
   "cell_type": "code",
   "execution_count": null,
   "metadata": {
    "collapsed": true
   },
   "outputs": [],
   "source": [
    "FA=1.0\n",
    "sequence = [0,0,0,0]\n",
    "kL = np.linspace(0.1,30,100)\n",
    "\n",
    "# Rigid rod\n",
    "NRR = 10\n",
    "KVRR = kL/NRR\n",
    "r4 = np.zeros((len(KVRR)),dtype=type(1+1j))\n",
    "for ind, K in enumerate(KVRR):\n",
    "    Ks = set4Ks_square(K)\n",
    "    r4[ind] = r4wlc(NRR, FA, Ks, sequence=sequence)/(NRR**4)\n",
    "\n",
    "# Wormlike chain\n",
    "pset=propagator.prop_set(nlam=5)\n",
    "wigset = wd.wigner_d_vals()\n",
    "\n",
    "N = 1\n",
    "KV = kL/N\n",
    "s4_N1 = np.zeros((len(KV)),dtype=type(1+1j))\n",
    "for ind, K in enumerate(KV):\n",
    "    Ks = set4Ks_square(K)\n",
    "    s4_N1[ind] = s4wlc(pset, wigset, N, FA, Ks, sequence=sequence)/(N**4)\n",
    "    \n",
    "N = 0.1\n",
    "KV = kL/N\n",
    "s4_Np1 = np.zeros((len(KV)),dtype=type(1+1j))\n",
    "for ind, K in enumerate(KV):\n",
    "    Ks = set4Ks_square(K)\n",
    "    s4_Np1[ind] = s4wlc(pset, wigset, N, FA, Ks, sequence=sequence)/(N**4)"
   ]
  },
  {
   "cell_type": "code",
   "execution_count": null,
   "metadata": {
    "collapsed": true
   },
   "outputs": [],
   "source": [
    "plt.plot(kL, r4.real*kL**2, label='Rigid rod')\n",
    "plt.plot(kL, s4_N1.real*kL**2, label='N=1.0')\n",
    "plt.plot(kL, s4_Np1.real*kL**2, label='N=0.1')\n",
    "plt.legend(loc=4)\n",
    "plt.xlabel('$kL$')\n",
    "plt.ylabel('$(kL)^2S_{4}$')\n",
    "plt.show()"
   ]
  },
  {
   "cell_type": "markdown",
   "metadata": {},
   "source": [
    "## 4. Cross-chemical-identity correlations"
   ]
  },
  {
   "cell_type": "code",
   "execution_count": null,
   "metadata": {
    "collapsed": true
   },
   "outputs": [],
   "source": [
    "FA=0.5\n",
    "sequence = [0,1]\n",
    "kL = np.linspace(0,20,100)\n",
    "\n",
    "# Rigid rod\n",
    "NRR = 10\n",
    "KVRR = kL/NRR\n",
    "r2 = np.zeros((len(KVRR)),dtype=type(1+1j))\n",
    "for ind, K in enumerate(KVRR):\n",
    "    r2[ind] = r2wlc(NRR, FA, K, sequence=sequence)/(NRR**2)"
   ]
  },
  {
   "cell_type": "code",
   "execution_count": null,
   "metadata": {
    "collapsed": true
   },
   "outputs": [],
   "source": [
    "# Wormlike chain\n",
    "pset=propagator.prop_set(nlam=1)\n",
    "\n",
    "N=1.0\n",
    "KV = kL/N\n",
    "s2_N1 = np.zeros((len(KV)),dtype=type(1+1j))\n",
    "for ind, K in enumerate(KV):\n",
    "    s2_N1[ind] = s2wlc(pset, N, FA, K, sequence=sequence)/(N**2)\n",
    "    \n",
    "N=0.1\n",
    "KV = kL/N\n",
    "s2_Np1 = np.zeros((len(KV)),dtype=type(1+1j))\n",
    "for ind, K in enumerate(KV):\n",
    "    s2_Np1[ind] = s2wlc(pset, N, FA, K, sequence=sequence)/(N**2)"
   ]
  },
  {
   "cell_type": "code",
   "execution_count": null,
   "metadata": {
    "collapsed": true
   },
   "outputs": [],
   "source": [
    "plt.plot(kL, r2.real, label='Rigid Rod')\n",
    "plt.plot(kL, s2_N1.real, label='N=1')\n",
    "plt.plot(kL, s2_Np1.real, label='N=0.1')\n",
    "plt.xlabel('kL')\n",
    "plt.ylabel('S')\n",
    "plt.legend(loc=1)\n",
    "# plt.axis([2,20,2,3.5])\n",
    "plt.show()"
   ]
  },
  {
   "cell_type": "markdown",
   "metadata": {},
   "source": [
    "### 4.2 Three-point correlations"
   ]
  },
  {
   "cell_type": "code",
   "execution_count": null,
   "metadata": {
    "collapsed": true
   },
   "outputs": [],
   "source": [
    "FA=0.5\n",
    "sequence = [0,0,1]\n",
    "kL = np.linspace(0,30,100)\n",
    "\n",
    "# Rigid rod\n",
    "NRR = 10\n",
    "KVRR = kL/NRR\n",
    "r3 = np.zeros((len(KVRR)),dtype=type(1+1j))\n",
    "for ind, K in enumerate(KVRR):\n",
    "    Ks = set3Ks(K)\n",
    "    r3[ind] = r3wlc(NRR, FA, Ks, sequence=sequence)/(NRR**3)"
   ]
  },
  {
   "cell_type": "code",
   "execution_count": null,
   "metadata": {
    "collapsed": true
   },
   "outputs": [],
   "source": [
    "# Wormlike chain\n",
    "pset=propagator.prop_set(nlam=2)\n",
    "\n",
    "N=1.0\n",
    "KV = kL/N\n",
    "s3_N1 = np.zeros((len(KV)),dtype=type(1+1j))\n",
    "for ind, K in enumerate(KV):\n",
    "    Ks = set3Ks(K)\n",
    "    s3_N1[ind] = s3wlc(pset, N, FA, Ks, sequence=sequence)/(N**3)\n",
    "\n",
    "N=0.1\n",
    "KV = kL/N\n",
    "s3_Np1 = np.zeros((len(KV)),dtype=type(1+1j))\n",
    "for ind, K in enumerate(KV):\n",
    "    Ks = set3Ks(K)\n",
    "    s3_Np1[ind] = s3wlc(pset, N, FA, Ks, sequence=sequence)/(N**3)"
   ]
  },
  {
   "cell_type": "code",
   "execution_count": null,
   "metadata": {
    "collapsed": true
   },
   "outputs": [],
   "source": [
    "plt.plot(kL, r3.real, label='Rigid rod')\n",
    "plt.plot(kL, s3_N1.real, label='N=1.0')\n",
    "plt.plot(kL, s3_Np1.real, label='N=0.1')\n",
    "plt.legend(loc=1)\n",
    "plt.xlabel('kL')\n",
    "plt.ylabel('S')\n",
    "plt.show()"
   ]
  },
  {
   "cell_type": "markdown",
   "metadata": {
    "collapsed": true
   },
   "source": [
    "### 4.3 Four-point correlations"
   ]
  },
  {
   "cell_type": "code",
   "execution_count": null,
   "metadata": {
    "collapsed": true
   },
   "outputs": [],
   "source": [
    "FA=0.5\n",
    "sequence = [0,0,0,1]\n",
    "kL = np.linspace(0.1,30,10)\n",
    "\n",
    "# Rigid rod\n",
    "NRR = 10\n",
    "KVRR = kL/NRR\n",
    "r4 = np.zeros((len(KVRR)),dtype=type(1+1j))\n",
    "for ind, K in enumerate(KVRR):\n",
    "    Ks = set4Ks_square(K)\n",
    "    r4[ind] = r4wlc(NRR, FA, Ks, sequence=sequence)/(NRR**4)\n",
    "\n",
    "# Wormlike chain\n",
    "pset=propagator.prop_set(nlam=5)\n",
    "wigset = wd.wigner_d_vals()\n",
    "\n",
    "N = 1\n",
    "KV = kL/N\n",
    "s4_N1 = np.zeros((len(KV)),dtype=type(1+1j))\n",
    "for ind, K in enumerate(KV):\n",
    "    print(ind)\n",
    "    Ks = set4Ks_square(K)\n",
    "    s4_N1[ind] = s4wlc(pset, wigset, N, FA, Ks, sequence=sequence)/(N**4)\n",
    "    \n",
    "N = 0.1\n",
    "KV = kL/N\n",
    "s4_Np1 = np.zeros((len(KV)),dtype=type(1+1j))\n",
    "for ind, K in enumerate(KV):\n",
    "    print(ind)\n",
    "    Ks = set4Ks_square(K)\n",
    "    s4_Np1[ind] = s4wlc(pset, wigset, N, FA, Ks, sequence=sequence)/(N**4)"
   ]
  },
  {
   "cell_type": "code",
   "execution_count": null,
   "metadata": {
    "collapsed": true
   },
   "outputs": [],
   "source": [
    "plt.plot(kL, r4.real*kL**2, label='Rigid rod')\n",
    "plt.plot(kL, s4_N1.real*kL**2, label='N=1.0')\n",
    "plt.plot(kL, s4_Np1.real*kL**2, label='N=0.1')\n",
    "plt.legend(loc=4)\n",
    "plt.xlabel('$kL$')\n",
    "plt.ylabel('$(kL)^2S_{4}$')\n",
    "plt.ylim([-1,1])\n",
    "plt.show()"
   ]
  },
  {
   "cell_type": "markdown",
   "metadata": {},
   "source": [
    "## 5. Code Profiling"
   ]
  },
  {
   "cell_type": "code",
   "execution_count": null,
   "metadata": {
    "collapsed": true
   },
   "outputs": [],
   "source": [
    "# import cProfile\n",
    "# cProfile.run('s4wlc(pset, N, FA, Ks, sequence=sequence)')"
   ]
  },
  {
   "cell_type": "markdown",
   "metadata": {},
   "source": [
    "## 6. All chemical identities"
   ]
  },
  {
   "cell_type": "code",
   "execution_count": null,
   "metadata": {
    "collapsed": true
   },
   "outputs": [],
   "source": [
    "FA = 0.5\n",
    "\n",
    "# KV = np.logspace(-1,3,10)\n",
    "KV = [1e-2]\n",
    "N = 1e3\n",
    "\n",
    "pset=propagator.prop_set(nlam=1)\n",
    "wigset = wd.wigner_d_vals()\n",
    "\n",
    "s4 = np.zeros((2,2,2,2,len(KV)),dtype=type(1+1j))\n",
    "for ind, K in enumerate(KV):\n",
    "    Ks = set4Ks_line(K)\n",
    "    s4[:,:,:,:,ind] = s4wlc(pset, wigset, N, FA, Ks)/(N**4)"
   ]
  },
  {
   "cell_type": "code",
   "execution_count": null,
   "metadata": {},
   "outputs": [],
   "source": [
    "s4[0][1][1][1]"
   ]
  },
  {
   "cell_type": "code",
   "execution_count": null,
   "metadata": {},
   "outputs": [],
   "source": [
    "s4[1][0][1][1]"
   ]
  },
  {
   "cell_type": "code",
   "execution_count": null,
   "metadata": {},
   "outputs": [],
   "source": [
    "s4"
   ]
  },
  {
   "cell_type": "code",
   "execution_count": null,
   "metadata": {
    "collapsed": true
   },
   "outputs": [],
   "source": [
    "# plt.loglog(KV, s4[0,0,0,0,:])\n",
    "# plotlog(1e1, 5e-3, -2, xrange=2)\n",
    "# plt.show()"
   ]
  }
 ],
 "metadata": {
  "anaconda-cloud": {},
  "kernelspec": {
   "display_name": "Python 3",
   "language": "python",
   "name": "python3"
  },
  "language_info": {
   "codemirror_mode": {
    "name": "ipython",
    "version": 3
   },
   "file_extension": ".py",
   "mimetype": "text/x-python",
   "name": "python",
   "nbconvert_exporter": "python",
   "pygments_lexer": "ipython3",
   "version": "3.6.0"
  }
 },
 "nbformat": 4,
 "nbformat_minor": 1
}
