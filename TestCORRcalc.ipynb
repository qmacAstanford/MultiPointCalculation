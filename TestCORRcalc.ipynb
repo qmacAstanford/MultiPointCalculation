{
 "cells": [
  {
   "cell_type": "code",
   "execution_count": 1,
   "metadata": {
    "collapsed": true
   },
   "outputs": [],
   "source": [
    "from itertools import permutations as perms\n",
    "from itertools import product\n",
    "import numpy as np\n",
    "import MultiPoint as mp\n",
    "import propagator\n",
    "import wignerD as wd"
   ]
  },
  {
   "cell_type": "code",
   "execution_count": 2,
   "metadata": {
    "collapsed": true
   },
   "outputs": [],
   "source": [
    "from CORRcalc import *"
   ]
  },
  {
   "cell_type": "code",
   "execution_count": 3,
   "metadata": {
    "collapsed": true
   },
   "outputs": [],
   "source": [
    "import imp  # imp.reload(module)\n",
    "import matplotlib.pyplot as plt\n",
    "%matplotlib inline\n",
    "# import mpld3\n",
    "# mpld3.enable_notebook()"
   ]
  },
  {
   "cell_type": "code",
   "execution_count": 4,
   "metadata": {
    "collapsed": true
   },
   "outputs": [],
   "source": [
    "def plotlog(x, y, alpha, xrange=1, numx=2):\n",
    "    xv = np.logspace(np.log10(x), np.log10(x) + xrange, numx)\n",
    "    C = y / (x**alpha)\n",
    "    yv = C * xv**(alpha)\n",
    "    plt.loglog(xv, yv, 'k--')"
   ]
  },
  {
   "cell_type": "markdown",
   "metadata": {},
   "source": [
    "## Set of Ks for testing"
   ]
  },
  {
   "cell_type": "code",
   "execution_count": 5,
   "metadata": {
    "collapsed": true
   },
   "outputs": [],
   "source": [
    "def set3Ks(K):\n",
    "    k1 = np.array([1,0,0])*K\n",
    "    k2 = np.array([-0.5,0.5*np.sqrt(3),0])*K\n",
    "    k3 = -k1-k2\n",
    "\n",
    "    Ks = [k1, k2, k3]\n",
    "    return Ks"
   ]
  },
  {
   "cell_type": "code",
   "execution_count": 6,
   "metadata": {
    "collapsed": true
   },
   "outputs": [],
   "source": [
    "def set4Ks_line(K):\n",
    "    k1=np.array([1,0,0])*K\n",
    "    k2=np.array([-1,0,0])*K\n",
    "    k3=-k1\n",
    "    k4=-k2\n",
    "\n",
    "    k = [k1, k2, k3, k4]\n",
    "    return k"
   ]
  },
  {
   "cell_type": "code",
   "execution_count": 7,
   "metadata": {
    "collapsed": true
   },
   "outputs": [],
   "source": [
    "def set4Ks_square(K):\n",
    "    k1=np.array([1,0,0])*K\n",
    "    k2=np.array([0,1,0])*K\n",
    "    k3=-k1\n",
    "    k4=-k2\n",
    "\n",
    "    k = [k1, k2, k3, k4]\n",
    "    return k"
   ]
  },
  {
   "cell_type": "markdown",
   "metadata": {},
   "source": [
    "## 1. Structure factors"
   ]
  },
  {
   "cell_type": "code",
   "execution_count": 113,
   "metadata": {},
   "outputs": [],
   "source": [
    "# Wormlike chain\n",
    "FA=1.0\n",
    "N=1000\n",
    "\n",
    "pset=propagator.prop_set(nlam=5)\n",
    "wigset = wd.wigner_d_vals()\n",
    "\n",
    "KV = np.logspace(-1,2,100)\n",
    "s2 = np.zeros((len(KV)),dtype=type(1+1j))\n",
    "s3 = np.zeros((len(KV)),dtype=type(1+1j))\n",
    "s4L = np.zeros((len(KV)),dtype=type(1+1j))\n",
    "s4S = np.zeros((len(KV)),dtype=type(1+1j))\n",
    "for ind, K in enumerate(KV):\n",
    "    s2[ind] = s2wlc(pset, N, FA, K, sequence=[0,0])/(N**2)\n",
    "\n",
    "    Ks = set3Ks(K)\n",
    "    s3[ind] = s3wlc(pset, N, FA, Ks, sequence=[0,0,0])/(N**3)\n",
    "    \n",
    "    Ks = set4Ks_line(K)\n",
    "    s4L[ind] = s4wlc(pset, wigset, N, FA, Ks, sequence=[0,0,0,0])/(N**4)\n",
    "    \n",
    "    Ks = set4Ks_square(K)\n",
    "    s4S[ind] = s4wlc(pset, wigset, N, FA, Ks, sequence=[0,0,0,0])/(N**4)"
   ]
  },
  {
   "cell_type": "code",
   "execution_count": 120,
   "metadata": {},
   "outputs": [
    {
     "data": {
      "image/png": "[encoded data removed]",
      "text/plain": [
       "<matplotlib.figure.Figure at 0x10f7fc208>"
      ]
     },
     "metadata": {},
     "output_type": "display_data"
    }
   ],
   "source": [
    "plt.figure(figsize=(6,4.5))\n",
    "plt.title('N='+str(N))\n",
    "plt.loglog(KV, s2.real, label='$I_{2}$')\n",
    "plt.loglog(KV, s3.real, label='$I_{3}$')\n",
    "plt.loglog(KV, s4L.real, label='$I_{4}$')\n",
    "\n",
    "if N == 1:\n",
    "    plotlog(5e1,8e-2,-1,xrange=0.3)\n",
    "    plotlog(5e1,1.5e-2,-2,xrange=0.3)\n",
    "    plotlog(5e1,0.4e-2,-2,xrange=0.3)\n",
    "elif N == 1e3:\n",
    "    plotlog(1e0,2e-2,-2,xrange=0.3)\n",
    "    plotlog(1e0,5e-4,-4,xrange=0.3)\n",
    "    plotlog(2e1,3e-4,-1,xrange=0.5)\n",
    "    plotlog(2e1,1e-7,-2,xrange=0.5)\n",
    "\n",
    "plt.xlim([1e-1,KV[-1]])\n",
    "plt.ylim([1e-10,1e0])\n",
    "plt.xlabel('$2l_pq$')\n",
    "plt.ylabel('$I_{n}(q)$')\n",
    "plt.legend(loc=3)\n",
    "plt.show()\n",
    "# plt.savefig('figs/I'+str(N)+'.eps')"
   ]
  },
  {
   "cell_type": "code",
   "execution_count": 118,
   "metadata": {},
   "outputs": [],
   "source": [
    "filename = 'data/SN'+str(N)\n",
    "f = open(filename, 'w')\n",
    "\n",
    "for i in range(len(KV)):\n",
    "    f.write(' %.3f, %.8f, %.8f, %.8f, %.8f\\n'\n",
    "            %(KV[i], s2[i].real, s3[i].real, s4L[i].real, s4S[i].real))\n",
    "f.close()"
   ]
  },
  {
   "cell_type": "code",
   "execution_count": 119,
   "metadata": {
    "collapsed": true
   },
   "outputs": [],
   "source": [
    "N = 1000\n",
    "KV, s2, s3, s4 = [np.array([])]*4\n",
    "filename = 'data/SN'+str(N)\n",
    "with open(filename, 'r') as f:\n",
    "    content = f.readlines()\n",
    "    lines = [line.strip().split(', ') for line in content]\n",
    "    for line in lines:\n",
    "        KV = np.append(KV, float(line[0]))\n",
    "        s2 = np.append(s2, float(line[1]))\n",
    "        s3 = np.append(s3, float(line[2]))\n",
    "        s4 = np.append(s4, float(line[3]))"
   ]
  },
  {
   "cell_type": "markdown",
   "metadata": {},
   "source": [
    "## 2. Check Leibler's identities"
   ]
  },
  {
   "cell_type": "code",
   "execution_count": null,
   "metadata": {
    "collapsed": true
   },
   "outputs": [],
   "source": [
    "N=1.0\n",
    "FA=0.2\n",
    "\n",
    "pset=propagator.prop_set(nlam=5)\n",
    "wigset = wd.wigner_d_vals()\n",
    "\n",
    "K = 10.0\n",
    "Ks3 = set3Ks(K)\n",
    "Ks4 = set4Ks_line(K)\n",
    "\n",
    "print(s3wlc(pset, N, FA, Ks3, sequence=[0, 1, 0]))\n",
    "print(s3wlc(pset, N, FA, Ks3, sequence=[1, 0, 0]))\n",
    "\n",
    "print(s3wlc(pset, N, FA, Ks3, sequence=[1, 0, 1]))\n",
    "print(s3wlc(pset, N, FA, Ks3, sequence=[0, 1, 1]))\n",
    "\n",
    "print(s4wlc(pset, wigset, N, FA, Ks4, sequence=[0, 0, 0, 1]))\n",
    "print(s4wlc(pset, wigset, N, FA, Ks4, sequence=[0, 0, 1, 0]))\n",
    "print(s4wlc(pset, wigset, N, FA, Ks4, sequence=[0, 1, 0, 0]))\n",
    "print(s4wlc(pset, wigset, N, FA, Ks4, sequence=[1, 0, 0, 0]))\n",
    "\n",
    "print(s4wlc(pset, wigset, N, FA, Ks4, sequence=[1, 1, 0, 0]))\n",
    "print(s4wlc(pset, wigset, N, FA, Ks4, sequence=[0, 0, 1, 1]))\n",
    "\n",
    "print(s4wlc(pset, wigset, N, FA, Ks4, sequence=[1, 0, 0, 1]))\n",
    "print(s4wlc(pset, wigset, N, FA, Ks4, sequence=[0, 1, 1, 0]))\n",
    "\n",
    "print(s4wlc(pset, wigset, N, FA, Ks4, sequence=[1, 0, 1, 0]))\n",
    "print(s4wlc(pset, wigset, N, FA, Ks4, sequence=[0, 1, 0, 1]))"
   ]
  },
  {
   "cell_type": "markdown",
   "metadata": {},
   "source": [
    "## 3. Check with rigid rod limits"
   ]
  },
  {
   "cell_type": "markdown",
   "metadata": {},
   "source": [
    "### 3.1 Pair correlation"
   ]
  },
  {
   "cell_type": "code",
   "execution_count": null,
   "metadata": {
    "collapsed": true
   },
   "outputs": [],
   "source": [
    "FA=1.0\n",
    "sequence = [0,0]\n",
    "kL = np.linspace(0,20,100)\n",
    "\n",
    "# Rigid rod\n",
    "NRR = 100\n",
    "KVRR = kL/NRR\n",
    "r2 = np.zeros((len(KVRR)),dtype=type(1+1j))\n",
    "for ind, K in enumerate(KVRR):\n",
    "    r2[ind] = r2wlc(NRR, FA, K, sequence=sequence)/(NRR**2)"
   ]
  },
  {
   "cell_type": "code",
   "execution_count": null,
   "metadata": {
    "collapsed": true
   },
   "outputs": [],
   "source": [
    "# Wormlike chain\n",
    "pset=propagator.prop_set(nlam=1)\n",
    "\n",
    "N=1.0\n",
    "KV = kL/N\n",
    "s2_N1 = np.zeros((len(KV)),dtype=type(1+1j))\n",
    "for ind, K in enumerate(KV):\n",
    "    s2_N1[ind] = s2wlc(pset, N, FA, K, sequence=sequence)/(N**2)\n",
    "    \n",
    "N=0.1\n",
    "KV = kL/N\n",
    "s2_Np1 = np.zeros((len(KV)),dtype=type(1+1j))\n",
    "for ind, K in enumerate(KV):\n",
    "    s2_Np1[ind] = s2wlc(pset, N, FA, K, sequence=sequence)/(N**2)"
   ]
  },
  {
   "cell_type": "code",
   "execution_count": null,
   "metadata": {},
   "outputs": [],
   "source": [
    "kL = np.linspace(0,20,100)\n",
    "plt.plot(kL, r2.real*kL, label='Rigid Rod')\n",
    "plt.plot(kL, s2_N1.real*kL, label='N=1')\n",
    "plt.plot(kL, s2_Np1.real*kL, label='N=0.1')\n",
    "plt.xlabel('kL')\n",
    "plt.ylabel('SkL')\n",
    "plt.legend(loc=4)\n",
    "plt.axis([0,20,0,3.5])\n",
    "plt.show()"
   ]
  },
  {
   "cell_type": "markdown",
   "metadata": {
    "collapsed": true
   },
   "source": [
    "### 3.2 Three-point correlations"
   ]
  },
  {
   "cell_type": "code",
   "execution_count": null,
   "metadata": {},
   "outputs": [],
   "source": [
    "FA=1.0\n",
    "sequence = [0,0,0]\n",
    "kL = np.linspace(0,30,100)\n",
    "\n",
    "# Rigid rod\n",
    "NRR = 100\n",
    "KVRR = kL/NRR\n",
    "r3 = np.zeros((len(KVRR)),dtype=type(1+1j))\n",
    "for ind, K in enumerate(KVRR):\n",
    "    Ks = set3Ks(K)\n",
    "    r3[ind] = r3wlc(NRR, FA, Ks, sequence=sequence)/(NRR**3)"
   ]
  },
  {
   "cell_type": "code",
   "execution_count": null,
   "metadata": {
    "collapsed": true
   },
   "outputs": [],
   "source": [
    "# Wormlike chain\n",
    "pset=propagator.prop_set(nlam=10)\n",
    "\n",
    "N=1.0\n",
    "KV = kL/N\n",
    "s3_N1 = np.zeros((len(KV)),dtype=type(1+1j))\n",
    "for ind, K in enumerate(KV):\n",
    "    Ks = set3Ks(K)\n",
    "    s3_N1[ind] = s3wlc(pset, N, FA, Ks, sequence=sequence)/(N**3)\n",
    "\n",
    "N=0.1\n",
    "KV = kL/N\n",
    "s3_Np1 = np.zeros((len(KV)),dtype=type(1+1j))\n",
    "for ind, K in enumerate(KV):\n",
    "    Ks = set3Ks(K)\n",
    "    s3_Np1[ind] = s3wlc(pset, N, FA, Ks, sequence=sequence)/(N**3)"
   ]
  },
  {
   "cell_type": "code",
   "execution_count": null,
   "metadata": {},
   "outputs": [],
   "source": [
    "kL = np.linspace(0,30,100)\n",
    "plt.figure(figsize=(8,6))\n",
    "plt.plot(kL, r3.real*kL**2, label='Rigid rod')\n",
    "plt.plot(kL, s3_N1.real*kL**2, label='N=1.0')\n",
    "plt.plot(kL, s3_Np1.real*kL**2, label='N=0.1')\n",
    "plt.legend(loc=1)\n",
    "plt.xlabel('$qL$')\n",
    "plt.ylabel('$S(qL)^2$')\n",
    "plt.axis([0,30,0,14])\n",
    "# plt.show()\n",
    "plt.savefig('test.eps')"
   ]
  },
  {
   "cell_type": "code",
   "execution_count": null,
   "metadata": {},
   "outputs": [],
   "source": [
    "# filename = 'data/I3RR'\n",
    "# f = open(filename, 'w')\n",
    "\n",
    "# for i in range(len(kL)):\n",
    "#     f.write(' %.3f, %.8f\\n' %(kL[i], r3[i].real))\n",
    "# f.close()"
   ]
  },
  {
   "cell_type": "code",
   "execution_count": null,
   "metadata": {},
   "outputs": [],
   "source": [
    "kL, r3 = np.array([]), np.array([])\n",
    "filename = 'data/I3RR'\n",
    "with open(filename, 'r') as f:\n",
    "    content = f.readlines()\n",
    "    lines = [line.strip().split(', ') for line in content]\n",
    "    for line in lines:\n",
    "        kL = np.append(kL, float(line[0]))\n",
    "        r3 = np.append(r3, float(line[1]))"
   ]
  },
  {
   "cell_type": "markdown",
   "metadata": {
    "collapsed": true
   },
   "source": [
    "### 3.3 Four-point correlations"
   ]
  },
  {
   "cell_type": "code",
   "execution_count": null,
   "metadata": {
    "collapsed": true
   },
   "outputs": [],
   "source": [
    "FA=1.0\n",
    "sequence = [0,0,0,0]\n",
    "kL = np.linspace(0.1,30,100)"
   ]
  },
  {
   "cell_type": "code",
   "execution_count": null,
   "metadata": {},
   "outputs": [],
   "source": [
    "# Rigid rod\n",
    "NRR = 50\n",
    "KVRR = kL/NRR\n",
    "r4 = np.zeros((len(KVRR)),dtype=type(1+1j))\n",
    "for ind, K in enumerate(KVRR):\n",
    "    print(ind)\n",
    "    Ks = set4Ks_square(K)\n",
    "    r4[ind] = r4wlc(NRR, FA, Ks, sequence=sequence)/(NRR**4)"
   ]
  },
  {
   "cell_type": "code",
   "execution_count": null,
   "metadata": {
    "collapsed": true
   },
   "outputs": [],
   "source": [
    "# Wormlike chain\n",
    "pset=propagator.prop_set(nlam=5)\n",
    "wigset = wd.wigner_d_vals()\n",
    "\n",
    "N = 1\n",
    "KV = kL/N\n",
    "s4_N1 = np.zeros((len(KV)),dtype=type(1+1j))\n",
    "for ind, K in enumerate(KV):\n",
    "    Ks = set4Ks_square(K)\n",
    "    s4_N1[ind] = s4wlc(pset, wigset, N, FA, Ks, sequence=sequence)/(N**4)\n",
    "    \n",
    "N = 0.1\n",
    "KV = kL/N\n",
    "s4_Np1 = np.zeros((len(KV)),dtype=type(1+1j))\n",
    "for ind, K in enumerate(KV):\n",
    "    Ks = set4Ks_square(K)\n",
    "    s4_Np1[ind] = s4wlc(pset, wigset, N, FA, Ks, sequence=sequence)/(N**4)"
   ]
  },
  {
   "cell_type": "code",
   "execution_count": null,
   "metadata": {},
   "outputs": [],
   "source": [
    "plt.plot(kL, r4.real*kL**2, label='Rigid rod')\n",
    "plt.plot(kL, s4_N1.real*kL**2, label='N=1.0')\n",
    "plt.plot(kL, s4_Np1.real*kL**2, label='N=0.1')\n",
    "plt.legend(loc=4)\n",
    "plt.xlabel('$kL$')\n",
    "plt.ylabel('$(kL)^2S_{4}$')\n",
    "plt.show()"
   ]
  },
  {
   "cell_type": "markdown",
   "metadata": {},
   "source": [
    "## 4. Cross-chemical-identity correlations"
   ]
  },
  {
   "cell_type": "code",
   "execution_count": null,
   "metadata": {
    "collapsed": true
   },
   "outputs": [],
   "source": [
    "FA=0.5\n",
    "sequence = [0,1]\n",
    "kL = np.linspace(0,20,100)\n",
    "\n",
    "# Rigid rod\n",
    "NRR = 10\n",
    "KVRR = kL/NRR\n",
    "r2 = np.zeros((len(KVRR)),dtype=type(1+1j))\n",
    "for ind, K in enumerate(KVRR):\n",
    "    r2[ind] = r2wlc(NRR, FA, K, sequence=sequence)/(NRR**2)"
   ]
  },
  {
   "cell_type": "code",
   "execution_count": null,
   "metadata": {
    "collapsed": true
   },
   "outputs": [],
   "source": [
    "# Wormlike chain\n",
    "pset=propagator.prop_set(nlam=1)\n",
    "\n",
    "N=1.0\n",
    "KV = kL/N\n",
    "s2_N1 = np.zeros((len(KV)),dtype=type(1+1j))\n",
    "for ind, K in enumerate(KV):\n",
    "    s2_N1[ind] = s2wlc(pset, N, FA, K, sequence=sequence)/(N**2)\n",
    "    \n",
    "N=0.1\n",
    "KV = kL/N\n",
    "s2_Np1 = np.zeros((len(KV)),dtype=type(1+1j))\n",
    "for ind, K in enumerate(KV):\n",
    "    s2_Np1[ind] = s2wlc(pset, N, FA, K, sequence=sequence)/(N**2)"
   ]
  },
  {
   "cell_type": "code",
   "execution_count": null,
   "metadata": {
    "collapsed": true
   },
   "outputs": [],
   "source": [
    "plt.plot(kL, r2.real, label='Rigid Rod')\n",
    "plt.plot(kL, s2_N1.real, label='N=1')\n",
    "plt.plot(kL, s2_Np1.real, label='N=0.1')\n",
    "plt.xlabel('kL')\n",
    "plt.ylabel('S')\n",
    "plt.legend(loc=1)\n",
    "# plt.axis([2,20,2,3.5])\n",
    "plt.show()"
   ]
  },
  {
   "cell_type": "markdown",
   "metadata": {},
   "source": [
    "### 4.2 Three-point correlations"
   ]
  },
  {
   "cell_type": "code",
   "execution_count": null,
   "metadata": {
    "collapsed": true
   },
   "outputs": [],
   "source": [
    "FA=0.5\n",
    "sequence = [0,0,1]\n",
    "kL = np.linspace(0,30,100)\n",
    "\n",
    "# Rigid rod\n",
    "NRR = 10\n",
    "KVRR = kL/NRR\n",
    "r3 = np.zeros((len(KVRR)),dtype=type(1+1j))\n",
    "for ind, K in enumerate(KVRR):\n",
    "    Ks = set3Ks(K)\n",
    "    r3[ind] = r3wlc(NRR, FA, Ks, sequence=sequence)/(NRR**3)"
   ]
  },
  {
   "cell_type": "code",
   "execution_count": null,
   "metadata": {
    "collapsed": true
   },
   "outputs": [],
   "source": [
    "# Wormlike chain\n",
    "pset=propagator.prop_set(nlam=2)\n",
    "\n",
    "N=1.0\n",
    "KV = kL/N\n",
    "s3_N1 = np.zeros((len(KV)),dtype=type(1+1j))\n",
    "for ind, K in enumerate(KV):\n",
    "    Ks = set3Ks(K)\n",
    "    s3_N1[ind] = s3wlc(pset, N, FA, Ks, sequence=sequence)/(N**3)\n",
    "\n",
    "N=0.1\n",
    "KV = kL/N\n",
    "s3_Np1 = np.zeros((len(KV)),dtype=type(1+1j))\n",
    "for ind, K in enumerate(KV):\n",
    "    Ks = set3Ks(K)\n",
    "    s3_Np1[ind] = s3wlc(pset, N, FA, Ks, sequence=sequence)/(N**3)"
   ]
  },
  {
   "cell_type": "code",
   "execution_count": null,
   "metadata": {
    "collapsed": true
   },
   "outputs": [],
   "source": [
    "plt.plot(kL, r3.real, label='Rigid rod')\n",
    "plt.plot(kL, s3_N1.real, label='N=1.0')\n",
    "plt.plot(kL, s3_Np1.real, label='N=0.1')\n",
    "plt.legend(loc=1)\n",
    "plt.xlabel('kL')\n",
    "plt.ylabel('S')\n",
    "plt.show()"
   ]
  },
  {
   "cell_type": "markdown",
   "metadata": {
    "collapsed": true
   },
   "source": [
    "### 4.3 Four-point correlations"
   ]
  },
  {
   "cell_type": "code",
   "execution_count": null,
   "metadata": {
    "collapsed": true
   },
   "outputs": [],
   "source": [
    "FA=0.5\n",
    "sequence = [0,0,0,1]\n",
    "kL = np.linspace(0.1,30,10)\n",
    "\n",
    "# Rigid rod\n",
    "NRR = 10\n",
    "KVRR = kL/NRR\n",
    "r4 = np.zeros((len(KVRR)),dtype=type(1+1j))\n",
    "for ind, K in enumerate(KVRR):\n",
    "    Ks = set4Ks_square(K)\n",
    "    r4[ind] = r4wlc(NRR, FA, Ks, sequence=sequence)/(NRR**4)\n",
    "\n",
    "# Wormlike chain\n",
    "pset=propagator.prop_set(nlam=5)\n",
    "wigset = wd.wigner_d_vals()\n",
    "\n",
    "N = 1\n",
    "KV = kL/N\n",
    "s4_N1 = np.zeros((len(KV)),dtype=type(1+1j))\n",
    "for ind, K in enumerate(KV):\n",
    "    print(ind)\n",
    "    Ks = set4Ks_square(K)\n",
    "    s4_N1[ind] = s4wlc(pset, wigset, N, FA, Ks, sequence=sequence)/(N**4)\n",
    "    \n",
    "N = 0.1\n",
    "KV = kL/N\n",
    "s4_Np1 = np.zeros((len(KV)),dtype=type(1+1j))\n",
    "for ind, K in enumerate(KV):\n",
    "    print(ind)\n",
    "    Ks = set4Ks_square(K)\n",
    "    s4_Np1[ind] = s4wlc(pset, wigset, N, FA, Ks, sequence=sequence)/(N**4)"
   ]
  },
  {
   "cell_type": "code",
   "execution_count": null,
   "metadata": {
    "collapsed": true
   },
   "outputs": [],
   "source": [
    "plt.plot(kL, r4.real*kL**2, label='Rigid rod')\n",
    "plt.plot(kL, s4_N1.real*kL**2, label='N=1.0')\n",
    "plt.plot(kL, s4_Np1.real*kL**2, label='N=0.1')\n",
    "plt.legend(loc=4)\n",
    "plt.xlabel('$kL$')\n",
    "plt.ylabel('$(kL)^2S_{4}$')\n",
    "plt.ylim([-1,1])\n",
    "plt.show()"
   ]
  },
  {
   "cell_type": "markdown",
   "metadata": {},
   "source": [
    "## 5. Code Profiling"
   ]
  },
  {
   "cell_type": "code",
   "execution_count": null,
   "metadata": {
    "collapsed": true
   },
   "outputs": [],
   "source": [
    "# import cProfile\n",
    "# cProfile.run('s4wlc(pset, N, FA, Ks, sequence=sequence)')"
   ]
  },
  {
   "cell_type": "markdown",
   "metadata": {},
   "source": [
    "## 6. All chemical identities"
   ]
  },
  {
   "cell_type": "code",
   "execution_count": null,
   "metadata": {
    "collapsed": true
   },
   "outputs": [],
   "source": [
    "FA = 0.5\n",
    "\n",
    "# KV = np.logspace(-1,3,10)\n",
    "KV = [1e-2]\n",
    "N = 1e3\n",
    "\n",
    "pset=propagator.prop_set(nlam=1)\n",
    "wigset = wd.wigner_d_vals()\n",
    "\n",
    "s4 = np.zeros((2,2,2,2,len(KV)),dtype=type(1+1j))\n",
    "for ind, K in enumerate(KV):\n",
    "    Ks = set4Ks_line(K)\n",
    "    s4[:,:,:,:,ind] = s4wlc(pset, wigset, N, FA, Ks)/(N**4)"
   ]
  }
 ],
 "metadata": {
  "anaconda-cloud": {},
  "kernelspec": {
   "display_name": "Python 3",
   "language": "python",
   "name": "python3"
  },
  "language_info": {
   "codemirror_mode": {
    "name": "ipython",
    "version": 3
   },
   "file_extension": ".py",
   "mimetype": "text/x-python",
   "name": "python",
   "nbconvert_exporter": "python",
   "pygments_lexer": "ipython3",
   "version": "3.6.0"
  }
 },
 "nbformat": 4,
 "nbformat_minor": 1
}
