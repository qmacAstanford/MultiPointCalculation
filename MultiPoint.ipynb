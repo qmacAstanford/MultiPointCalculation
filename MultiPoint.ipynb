{
 "cells": [
  {
   "cell_type": "code",
   "execution_count": 1,
   "metadata": {
    "collapsed": false
   },
   "outputs": [],
   "source": [
    "import numpy as np\n",
    "import WLCgreen as wlc\n",
    "import matplotlib.pyplot as plt\n",
    "#%matplotlib\n",
    "import propagator \n",
    "import special as sp\n",
    "from numba import jit"
   ]
  },
  {
   "cell_type": "markdown",
   "metadata": {},
   "source": [
    "## 2 point"
   ]
  },
  {
   "cell_type": "markdown",
   "metadata": {
    "heading_collapsed": true
   },
   "source": [
    "###  AA"
   ]
  },
  {
   "cell_type": "markdown",
   "metadata": {
    "hidden": true
   },
   "source": [
    "\\begin{align*}\n",
    "\\sum_{l}Res_{l}\\int_{0}^{N}ds_{2}\\int_{0}^{s_{2}}ds_{1}e^{\\epsilon_{l}\\left(s_{2}-s_{1}\\right)} & =\\sum_{l}Res_{l}\\left(\\frac{e^{N\\epsilon}}{\\epsilon^{2}}-\\frac{1}{\\epsilon^{2}}-\\frac{N}{\\epsilon}\\right)\n",
    "\\end{align*}"
   ]
  },
  {
   "cell_type": "code",
   "execution_count": 2,
   "metadata": {
    "collapsed": true,
    "hidden": true
   },
   "outputs": [],
   "source": [
    "# expl expansion methode\n",
    "def IAAexplicit(N,fa,lam0,lam,p1):\n",
    "    eig=p1.eig\n",
    "    res=p1.res\n",
    "    out=0.0\n",
    "    for l in range(abs(p1.mu),p1.ORDEig):\n",
    "        eps=eig[l]\n",
    "        R=res[l][lam0,lam]\n",
    "        #out=out+2*R*((np.exp(N*eps)-1)/(eps**2)-N/eps)\n",
    "        out=out+R*sp.expl(N*fa*eps,2)/(eps**2)\n",
    "    return out  "
   ]
  },
  {
   "cell_type": "markdown",
   "metadata": {
    "hidden": true
   },
   "source": [
    "\\[\n",
    "\\underset{AA}{I_{1}^{\\left(2\\right)}}\\left(N\\right)=\\sum_{l_{1}}\\frac{e^{\\epsilon_{1}N}}{\\epsilon_{1}^{2}}R_{1}+dG_{1}\\left(0\\right)+NG\\left(0\\right)\n",
    "\\]"
   ]
  },
  {
   "cell_type": "code",
   "execution_count": 3,
   "metadata": {
    "collapsed": true,
    "hidden": true
   },
   "outputs": [],
   "source": [
    "# residue resum methode\n",
    "def IAAresum(N,fa,lam0,lam,p1):\n",
    "    res=p1.res\n",
    "    eig=p1.eig\n",
    "    G0=p1.G0\n",
    "    dG0=p1.dG0\n",
    "    out = 0.0\n",
    "    for l in range(abs(p1.mu),p1.ORDEig):\n",
    "        out=out+np.exp(eig[l]*N*fa)*(eig[l]**-2)*res[l][lam0,lam]\n",
    "        #out=out-res[l][lam0,lam]*(eig[l]**-2)\n",
    "        #out=out-res[l][lam0,lam]*(N/eig[l])\n",
    "        \n",
    "    out=out+N*fa*G0[lam0,lam]\n",
    "    out=out+dG0[lam0,lam]\n",
    "    return out"
   ]
  },
  {
   "cell_type": "markdown",
   "metadata": {
    "heading_collapsed": true
   },
   "source": [
    "### AB"
   ]
  },
  {
   "cell_type": "markdown",
   "metadata": {
    "hidden": true
   },
   "source": [
    "$$\n",
    "\\int_{Nf_{A}}^{N}ds_{2}\\int_{0}^{Nf_{A}}ds_{1}\\mathcal{G}\\left(\\left|s_{2}-s_{1}\\right|\\right)=\\sum_{l=0}^{\\infty}\\frac{\\left(e^{\\epsilon_{l}Nf_{A}}-1\\right)\\left(e^{\\epsilon_{l}N\\left(1-f_{A}\\right)}-1\\right)}{\\epsilon_{l}^{2}}R_1\n",
    "$$"
   ]
  },
  {
   "cell_type": "code",
   "execution_count": 4,
   "metadata": {
    "collapsed": true,
    "hidden": true
   },
   "outputs": [],
   "source": [
    "# Double Intigral Methode\n",
    "def IABexplicit(N,fa,lam0,lam,p1):\n",
    "    eig=p1.eig\n",
    "    res=p1.res\n",
    "    fb=1-fa\n",
    "    out=0.0\n",
    "    for l in range(abs(p1.mu),p1.ORDEig):\n",
    "        eps=eig[l]\n",
    "        R=res[l][lam0,lam]\n",
    "        out=out+R*(sp.expl(N*fa*eps,1)*sp.expl(N*fb*eps,1))/(eps**2)\n",
    "    return out   "
   ]
  },
  {
   "cell_type": "markdown",
   "metadata": {
    "hidden": true
   },
   "source": [
    "\n",
    "$$\n",
    "\\underset{AB}{I_{1}^{\\left(2\\right)}}\\left(N\\right)=\\sum_{l_{1}=0}^{\\infty}R_{1}\\frac{\\left(e^{\\epsilon_{1}N}-e^{Nf_{A}\\epsilon_{1}}-e^{Nf_{B}\\epsilon_{1}}\\right)}{\\epsilon_{1}^{2}}-dG_{1}\n",
    "$$\n"
   ]
  },
  {
   "cell_type": "code",
   "execution_count": 5,
   "metadata": {
    "collapsed": false,
    "hidden": true
   },
   "outputs": [],
   "source": [
    "# Resum methode\n",
    "def IABresum(N,fa,lam0,lam,p1):\n",
    "    eig=p1.eig\n",
    "    res=p1.res\n",
    "    dG0=p1.dG0\n",
    "    fb=1-fa\n",
    "    out=0.0\n",
    "    for l in range(abs(p1.mu),p1.ORDEig):\n",
    "        eps=eig[l]\n",
    "        R=res[l][lam0,lam]\n",
    "        out=out+R*(np.exp(N*eps) - np.exp(N*fa*eps) - np.exp(N*fb*eps))/(eps**2)\n",
    "    out=out-dG0[lam0,lam]\n",
    "    return out   "
   ]
  },
  {
   "cell_type": "markdown",
   "metadata": {
    "heading_collapsed": true
   },
   "source": [
    "## 3 Point"
   ]
  },
  {
   "cell_type": "markdown",
   "metadata": {
    "hidden": true
   },
   "source": [
    "$$\n",
    "f2resum\\left(j,\\epsilon_{1},\\epsilon_{2},N\\right)\\equiv\\sum_{l_{1},l_{2}}R_{1}R_{2}\\frac{1}{\\left(\\epsilon_{1}-\\epsilon_{2}\\right)}\\left(\\frac{e^{N\\epsilon_{1}}}{\\epsilon_{1}^{j}}-\\frac{e^{N\\epsilon_{2}}}{\\epsilon_{2}^{j}}\\right)\n",
    "$$\n",
    "\n",
    "\n",
    "we may use\n",
    "\n",
    "$$\n",
    "\\sum_{l_{2}=0}^{\\infty}\\left(\\frac{-R{}_{2}\\left(\\epsilon_{l}\\right)}{\\epsilon_{l}-p}\\right)=\\begin{cases}\n",
    "G_{2}\\left(p\\right) & p\\notin\\left\\{ \\epsilon_{2}\\right\\} \\\\\n",
    "\\frac{-R{}_{2}\\left(\\epsilon_{2,i}\\right)}{\\epsilon_{2,i}-p}+a_{2,i} & p=\\epsilon_{2,i}\n",
    "\\end{cases}\n",
    "$$\n",
    "\n",
    "\n",
    "$$\n",
    "a_{2,i}=-\\frac{R_{2,i}^{2}}{2}\\lim_{p\\to\\epsilon}\\frac{\\partial^{2}}{\\partial^{2}p}\\left(\\frac{1}{G_{2}\\left(p\\right)}\\right)\n",
    "$$\n",
    "\n",
    "\n",
    "so\n",
    "\n",
    "$$\n",
    "\\begin{align*}\n",
    "f2resum\\left(j,N\\right)= & \\sum_{l_{1},\\epsilon_{1}\\notin\\epsilon_{2}}R_{1}\\frac{e^{N\\epsilon_{1}}}{\\epsilon_{1}^{j}}\\mathcal{G}_{2}\\left(\\epsilon_{1}\\right)+\\sum_{l_{2},\\epsilon_{1}\\notin\\epsilon_{2}}R_{2}\\frac{e^{N\\epsilon_{2}}}{\\epsilon_{2}^{j}}\\mathcal{G}_{1}\\left(\\epsilon_{2}\\right)\\\\\n",
    " & \\sum_{\\epsilon_{1}=\\epsilon_{2}}\\left(R_{1}\\frac{e^{N\\epsilon_{1}}}{\\epsilon_{1}^{j}}a_{2}\\left(\\epsilon_{=}\\right)+R_{2}\\frac{e^{N\\epsilon_{2}}}{\\epsilon_{2}^{j}}a_{1}\\left(\\epsilon_{=}\\right)+\\lim_{\\epsilon_{1},\\epsilon_{2}\\to\\epsilon_{=}}R_{1}R_{2}\\frac{1}{\\left(\\epsilon_{1}-\\epsilon_{2}\\right)}\\left(\\frac{e^{N\\epsilon_{1}}}{\\epsilon_{1}^{j}}-\\frac{e^{N\\epsilon_{2}}}{\\epsilon_{2}^{j}}\\right)\\right)\n",
    "\\end{align*}\n",
    "$$"
   ]
  },
  {
   "cell_type": "code",
   "execution_count": null,
   "metadata": {
    "collapsed": true,
    "hidden": true
   },
   "outputs": [],
   "source": [
    "def f2resum(j,p1,p2,lam0_1,lam_1,lam0_2,lam_2,N):\n",
    "    set1only, set2only, pairs\\\n",
    "      =propagator.IntersectEig2(p1.eig,p2.eig,tol=10**-4)\n",
    "    out=0.0+0.0j\n",
    "    \n",
    "    G2at1 = p2.G_others(lam0_2,lam_2,p1)\n",
    "    for l1 in range(abs(p1.mu),p1.ORDEig):\n",
    "        if set1only[l1]==0:\n",
    "            continue\n",
    "        eps1=p1.eig[l1]\n",
    "        R1=p1.res[l1][lam0_1,lam_1]\n",
    "        out=out+(eps1**(-1*j))*np.exp(eps1*N)*R1*G2at1[l1]\n",
    "        \n",
    "    G1at2 = p1.G_others(lam0_1,lam_1,p2)\n",
    "    for l2 in range(abs(p2.mu),p2.ORDEig):\n",
    "        if set2only[l2]==0:\n",
    "            continue\n",
    "        eps2=p2.eig[l2]\n",
    "        R2=p2.res[l2][lam0_2,lam_2]\n",
    "        out=out+(eps2**(-1*j))*np.exp(eps2*N)*R2*G1at2[l2]\n",
    "        \n",
    "    for pair in pairs:\n",
    "        (l1,l2)=pair\n",
    "        eps1=p1.eig[l1]    \n",
    "        eps2=p2.eig[l2] \n",
    "        R1=p1.res[l1][lam0_1,lam_1]\n",
    "        R2=p2.res[l2][lam0_2,lam_2]\n",
    "        a1=p1.a[l1][lam0_1,lam_1]\n",
    "        a2=p2.a[l2][lam0_2,lam_2]\n",
    "        out = out - R1*R2*sp.f2(j,eps1,eps2,N)\n",
    "        out = out - a2*R1*np.exp(N*eps1)/(eps1**j)\n",
    "        out = out - a1*R2*np.exp(N*eps2)/(eps2**j)\n",
    "    \n",
    "    return out"
   ]
  },
  {
   "cell_type": "markdown",
   "metadata": {
    "heading_collapsed": true,
    "hidden": true
   },
   "source": [
    "### AAA"
   ]
  },
  {
   "cell_type": "markdown",
   "metadata": {
    "hidden": true
   },
   "source": [
    "\\begin{align*}\n",
    "I_{1,2}^{\\left(3\\right)}\\left(N\\right) & =\\sum_{l_{1},l_{2}=0}^{\\infty}R{}_{1}\\left(\\epsilon_{1}\\right)R{}_{2}\\left(\\epsilon_{2}\\right)\\left(\\frac{\\epsilon_{1}^{-2}e^{N\\epsilon_{1}}}{\\epsilon_{1}-\\epsilon_{2}}+\\frac{\\epsilon_{2}^{-2}e^{N\\epsilon_{2}}}{\\epsilon_{2}-\\epsilon_{1}}+\\frac{1}{\\epsilon_{1}\\epsilon_{2}^{2}}+\\frac{1}{\\epsilon_{1}^{2}\\epsilon_{2}}+\\frac{N}{\\epsilon_{1}\\epsilon_{2}}\\right)\n",
    "\\end{align*}"
   ]
  },
  {
   "cell_type": "code",
   "execution_count": null,
   "metadata": {
    "collapsed": true,
    "hidden": true
   },
   "outputs": [],
   "source": [
    "def IAAA(N,fa,lam0_1,lam_1,lam0_2,lam_2,p1,p2):\n",
    "    \n",
    "    out=-f2resum(2,p1,p2,lam0_1,lam_1,lam0_2,lam_2,N*fa)\n",
    "            \n",
    "    out=out+N*fa*p2.G0[lam0_2,lam_2]*p1.G0[lam0_1,lam_1]\n",
    "    out=out+p2.dG0[lam0_2,lam_2]*p1.G0[lam0_1,lam_1]\n",
    "    out=out+p1.dG0[lam0_1,lam_1]*p2.G0[lam0_2,lam_2]\n",
    "    return out"
   ]
  },
  {
   "cell_type": "markdown",
   "metadata": {
    "hidden": true
   },
   "source": [
    "\\begin{align*}\n",
    "\\underset{AAA}{I_{1,2}^{\\left(3\\right)}}\\left(Nf_{A}\\right)= & \\sum_{l_{1},l_{2}}\\left[Res_{1}\\left(\\epsilon_{1,l_{1}}\\right)Res_{2}\\left(\\epsilon_{2,l_{2}}\\right)f2\\left(2,\\epsilon_{1,l_{1}},\\epsilon_{2,l_{2}},Nf_{A}\\right)\\right]\\\\\n",
    " & +Nf_{A}\\mathcal{G}_{2}\\left(0\\right)\\mathcal{G}_{1}\\left(0\\right)+\\mathcal{G}'_{2}\\left(0\\right)\\mathcal{G}_{1}\\left(0\\right)+\\mathcal{G}_{2}\\left(0\\right)\\mathcal{G}'_{1}\\left(0\\right)\n",
    "\\end{align*}"
   ]
  },
  {
   "cell_type": "code",
   "execution_count": 2,
   "metadata": {
    "collapsed": true,
    "hidden": true
   },
   "outputs": [],
   "source": [
    "def IAAAresum(N,fa,lam0_1,lam_1,lam0_2,lam_2,p1,p2):\n",
    "    out=0.0+0.0j\n",
    "    for l1 in range(abs(p1.mu),p1.ORDEig):\n",
    "        for l2 in range(abs(p2.mu),p2.ORDEig):\n",
    "            eps1=p1.eig[l1]\n",
    "            eps2=p2.eig[l2]\n",
    "            R1=p1.res[l1][lam0_1,lam_1]\n",
    "            R2=p2.res[l2][lam0_2,lam_2]\n",
    "            \n",
    "            out=out+sp.f2(2,eps1,eps2,N*fa)\n",
    "        \n",
    "    out=out+N*fa*p2.G0[lam0_2,lam_2]*p1.G0[lam0_1,lam_1]\n",
    "    out=out+p2.dG0[lam0_2,lam_2]*p1.G0[lam0_1,lam_1]\n",
    "    out=out+p1.dG0[lam0_1,lam_1]*p2.G0[lam0_2,lam_2]\n",
    "    return out"
   ]
  },
  {
   "cell_type": "code",
   "execution_count": 5,
   "metadata": {
    "collapsed": false,
    "hidden": true
   },
   "outputs": [],
   "source": [
    "def IAAAexplicit(N,fa,lam0_1,lam_1,lam0_2,lam_2,p1,p2):\n",
    "    out=0\n",
    "    tol=10**-6\n",
    "    for l1 in range(abs(p1.mu),p1.ORDEig):\n",
    "        for l2 in range(abs(p2.mu),p2.ORDEig):\n",
    "            eps1=p1.eig[l1]\n",
    "            eps2=p2.eig[l2]\n",
    "            R1=p1.res[l1][lam0_1,lam_1]\n",
    "            R2=p2.res[l2][lam0_2,lam_2]\n",
    "            if abs((eps1-eps2)/(eps1+eps2)) > tol:\n",
    "                out=out+R1*R2*((eps2**-2)*sp.expl(N*fa*eps2,2)-\\\n",
    "                               (eps1**-2)*sp.expl(N*fa*eps1,2))/\\\n",
    "                               (eps2-eps1)\n",
    "            else:\n",
    "                out=out+R1*R2*(-2*sp.expl(N*fa*eps1,3)+\\\n",
    "                               N*fa*eps1*sp.expl(N*fa*eps1,2))/(eps1**3)\n",
    "    return out"
   ]
  },
  {
   "cell_type": "markdown",
   "metadata": {
    "heading_collapsed": true,
    "hidden": true
   },
   "source": [
    "### ABB"
   ]
  },
  {
   "cell_type": "markdown",
   "metadata": {
    "hidden": true
   },
   "source": [
    "\\begin{align*}\n",
    "\\underset{ABB}{I_{1,2}^{\\left(3\\right)}}\\left(Nf_{A}\\right)= & \\sum_{l_{1},l_{2}}Res_{1}\\left(\\epsilon_{1,l_{1}}\\right)Res_{2}\\left(\\epsilon_{2,l_{2}}\\right)\\left[\\frac{e^{Nf_{A}\\epsilon_{1}}}{\\epsilon_{1}}f2\\left(1,\\epsilon_{1},\\epsilon_{2},Nf_{B}\\right)-f2\\left(2,\\epsilon_{1,l_{1}},\\epsilon_{2,l_{2}},Nf_{B}\\right)\\right]\\\\\n",
    " & +\\mathcal{G}_{1}\\left(0\\right)\\sum_{l_{2}=0}^{\\infty}Res_{2}\\left(\\epsilon_{2}\\right)\\frac{e^{Nf_{B}\\epsilon_{2}}}{\\epsilon_{2}^{2}}-\\mathcal{G}{}_{2}\\left(0\\right)\\sum_{l_{1}=0}^{\\infty}Res_{1}\\left(\\epsilon_{1}\\right)\\frac{e^{Nf_{A}\\epsilon_{1}}}{\\epsilon_{1}^{2}}\\\\\n",
    " & -\\mathcal{G}'_{1}\\left(0\\right)\\mathcal{G}{}_{2}\\left(0\\right)\n",
    "\\end{align*}"
   ]
  },
  {
   "cell_type": "code",
   "execution_count": 13,
   "metadata": {
    "collapsed": false,
    "hidden": true
   },
   "outputs": [],
   "source": [
    "def IABBresum(N,fa,lam0_1,lam_1,lam0_2,lam_2,p1,p2):\n",
    "    out=0.0+0.0j\n",
    "    fb=1.0-fa\n",
    "    for l1 in range(abs(p1.mu),p1.ORDEig):\n",
    "        for l2 in range(abs(p2.mu),p2.ORDEig):\n",
    "            e1=p1.eig[l1]\n",
    "            e2=p2.eig[l2]\n",
    "            R1=p1.res[l1][lam0_1,lam_1]\n",
    "            R2=p2.res[l2][lam0_2,lam_2]\n",
    "            \n",
    "            out=out+R1*R2*(np.exp(N*fa*e1)*sp.f2(1,e1,e2,N*fb)/e1 \\\n",
    "                           - sp.f2(2,e1,e2,N*fb))\n",
    "    \n",
    "    temp=0.0\n",
    "    for l2 in range(abs(p2.mu),p2.ORDEig):     \n",
    "        e2=p2.eig[l2]\n",
    "        R2=p2.res[l2][lam0_2,lam_2]\n",
    "        temp=temp+R2*np.exp(N*fb*e2)/(e2**2)\n",
    "    out = out + temp*p1.G0[lam0_1,lam_1]\n",
    "         \n",
    "    temp=0.0\n",
    "    for l1 in range(abs(p1.mu),p1.ORDEig):     \n",
    "        e1=p1.eig[l1]\n",
    "        R1=p1.res[l1][lam0_1,lam_1]\n",
    "        temp=temp+R1*np.exp(N*fa*e1)/(e1**2)\n",
    "    out = out - temp*p2.G0[lam0_2,lam_2]\n",
    "    \n",
    "    out = out - p1.dG0[lam0_1,lam_1]*p2.G0[lam0_2,lam_2]\n",
    "    return out"
   ]
  },
  {
   "cell_type": "markdown",
   "metadata": {},
   "source": [
    "## 4 point"
   ]
  },
  {
   "cell_type": "markdown",
   "metadata": {},
   "source": [
    "$$\n",
    "\\mathrm{f3resum}=\\sum_{l_{1},l_{2},l_{3}}R_{1}R_{2}R_{3}\\left(\\frac{e^{N\\epsilon_{1}}}{\\epsilon_{1}^{n}}\\frac{1}{\\left(\\epsilon_{1}-\\epsilon_{2}\\right)\\left(\\epsilon_{3}-\\epsilon_{1}\\right)}+\\frac{e^{N\\epsilon_{2}}}{\\epsilon_{2}^{n}}\\frac{1}{\\left(\\epsilon_{1}-\\epsilon_{2}\\right)\\left(\\epsilon_{2}-\\epsilon_{3}\\right)}+\\frac{e^{N\\epsilon_{3}}}{\\epsilon_{3}^{n}}\\frac{1}{\\left(\\epsilon_{2}-\\epsilon_{3}\\right)\\left(\\epsilon_{3}-\\epsilon_{1}\\right)}\\right)\n",
    "$$\n",
    "\n",
    "\n",
    "$$\n",
    "\\mathrm{f3resum=\\mathrm{single\\ poles}+\\mathrm{double\\ poles}+\\mathrm{triple\\ poles}}\n",
    "$$\n",
    "\n",
    "\n",
    "$$\n",
    "\\mathrm{single\\ pole}=\\frac{e^{\\epsilon_{1}N}}{\\epsilon_{1}^{2}}\\breve{\\mathcal{G}}_{3}\\left(\\epsilon_{1}\\right)\\breve{\\mathcal{G}}_{2}\\left(\\epsilon_{1}\\right)R_{1}\n",
    "$$\n",
    "\n",
    "\n",
    "$$\n",
    "\\mathrm{double\\ pole}=\\frac{e^{N\\epsilon_{1}}\\left(N\\epsilon_{1}-2\\right)}{\\epsilon_{1}^{3}}R_{1}R_{2}\\breve{\\mathcal{G}}_{3}\\left(\\epsilon_{1}\\right)+\\frac{e^{\\epsilon_{1}N}}{\\epsilon_{1}^{2}}\\left(R_{1}R_{2}\\partial\\breve{\\mathcal{G}}_{3}\\left(\\epsilon_{1}\\right)+a_{1}R_{2}\\breve{\\mathcal{G}}_{3}\\left(\\epsilon_{1}\\right)+R_{1}a_{2}\\breve{\\mathcal{G}}_{3}\\left(\\epsilon_{1}\\right)\\right)\n",
    "$$\n",
    "\n",
    "\n",
    "$$\n",
    "\\mathrm{triple\\ pole}=\\spadesuit+\\diamondsuit_{23}a_{1}+\\diamondsuit_{31}a_{2}+\\diamondsuit_{12}a_{3}+\\frac{e^{\\epsilon N}}{\\epsilon^{2}}\\left(R_{1}a_{2}a_{3}+a_{1}R_{2}a_{3}+a_{1}a_{2}R_{3}\\right)+\\heartsuit\n",
    "$$\n",
    "\n",
    "\n",
    "$$\n",
    "\\spadesuit_{123}=-R_{1}R_{2}R_{3}\\frac{e^{N\\epsilon}\\left(N^{2}\\epsilon^{2}-2nN\\epsilon-n\\left(n+1\\right)\\right)}{2\\epsilon^{n+2}}\n",
    "$$\n",
    "\n",
    "\n",
    "$$\n",
    "\\heartsuit=\\frac{e^{\\epsilon N}}{\\epsilon^{2}}\\left(2b_{1}R_{2}R_{3}+R_{1}2b_{2}R_{3}+R_{1}R_{2}2b_{3}\\right)\n",
    "$$\n",
    "\n",
    "\n",
    "$$\n",
    "\\diamondsuit_{12}=R_{1}R_{2}\\frac{e^{N\\epsilon}\\left(N\\epsilon-n\\right)}{\\epsilon^{n+1}}\n",
    "$$"
   ]
  },
  {
   "cell_type": "code",
   "execution_count": null,
   "metadata": {
    "collapsed": true
   },
   "outputs": [],
   "source": [
    "def f3resum(j,p1,p2,p3,lam0_1,lam_1,lam0_2,lam_2,lam0_3,lam_3,N):\n",
    "    set1only, set2only, set3only, \\\n",
    "      pairs12, pairs23, pairs31, triplets\\\n",
    "      =propagator.IntersectEig3(p1.eig,p2.eig,p3.eig,tol=10**-4)\n",
    "    \n",
    "    out=0.0+0.0j\n",
    "    \n",
    "    out=out+singlePoles(set1only,p1,p2,p3,j,N,\n",
    "               lam0_1,lam_1,\n",
    "               lam0_2,lam_2,\n",
    "               lam0_3,lam_3)\n",
    "        \n",
    "    out=out+singlePoles(set2only,p2,p3,p1,j,N,\n",
    "               lam0_2,lam_2,\n",
    "               lam0_3,lam_3,\n",
    "               lam0_1,lam_1)\n",
    "        \n",
    "    out=out+singlePoles(set3only,p3,p1,p2,j,N,\n",
    "               lam0_3,lam_3,\n",
    "               lam0_1,lam_1,\n",
    "               lam0_2,lam_2)\n",
    "      \n",
    "    out=out+doublePoles(pairs12,p1,p2,p3,j,N,\n",
    "               lam0_1,lam_1,\n",
    "               lam0_2,lam_2,\n",
    "               lam0_3,lam_3)\n",
    "        \n",
    "    out=out+doublePoles(pairs23,p2,p3,p1,j,N,\n",
    "               lam0_2,lam_2,\n",
    "               lam0_3,lam_3,\n",
    "               lam0_1,lam_1)\n",
    "        \n",
    "    out=out+doublePoles(pairs31,p3,p1,p2,j,N,\n",
    "               lam0_3,lam_3,\n",
    "               lam0_1,lam_1,\n",
    "               lam0_2,lam_2)\n",
    "\n",
    "    \n",
    "    out=out+triplePoles(triplets,p3,p1,p2,j,N,\n",
    "               lam0_3,lam_3,\n",
    "               lam0_1,lam_1,\n",
    "               lam0_2,lam_2)\n",
    "        \n",
    "    out = - out # f3 is defined as -(club+club+club)\n",
    "    return out"
   ]
  },
  {
   "cell_type": "markdown",
   "metadata": {},
   "source": [
    "$$\n",
    "\\sum_{simple\\ l_{1}}R_{1}\\frac{e^{N\\epsilon_{1}}}{\\epsilon_{1}^{n}}\\breve{\\mathcal{G}}_{2}\\left(\\epsilon_{1}\\right)\\breve{\\mathcal{G}}_{3}\\left(\\epsilon_{1}\\right)\n",
    "$$"
   ]
  },
  {
   "cell_type": "code",
   "execution_count": null,
   "metadata": {
    "collapsed": true
   },
   "outputs": [],
   "source": [
    "def singlePoles(set1only,p1,p2,p3,j,N,\n",
    "               lam0_1,lam_1,\n",
    "               lam0_2,lam_2,\n",
    "               lam0_3,lam_3):\n",
    "    G2at1 = p2.G_others(lam0_2,lam_2,p1)\n",
    "    G3at1 = p3.G_others(lam0_3,lam_3,p1)\n",
    "    out=0.0+0.0j\n",
    "    for l1 in range(abs(p1.mu),p1.ORDEig):\n",
    "        if set1only[l1]==0:\n",
    "            continue\n",
    "        eps1=p1.eig[l1]\n",
    "        R1=p1.res[l1][lam0_1,lam_1]\n",
    "        out=out+(eps1**(-1*j))*np.exp(eps1*N)*R1*G2at1[l1]*G3at1[l1]   \n",
    "    return out"
   ]
  },
  {
   "cell_type": "markdown",
   "metadata": {},
   "source": [
    "$$\n",
    "\\sum_{double\\ 12}\\left[R_{1}R_{2}\\lim_{\\epsilon_{1}\\to\\epsilon_{2}}\\left(\\frac{\\frac{e^{N\\epsilon_{1}}}{\\epsilon_{1}^{n}}-\\frac{e^{N\\epsilon_{2}}}{\\epsilon_{2}^{n}}}{\\epsilon_{1}-\\epsilon_{2}}\\right)\\breve{\\mathcal{G}}_{3}\\left(\\epsilon_{1}\\right)+\\frac{e^{\\epsilon_{1}N}}{\\epsilon_{1}^{2}}R_{1}R_{2}\\partial_{p}\\breve{\\mathcal{G}}_{3}\\left(\\epsilon_{1}\\right)+\\left(R_{2}\\frac{e^{N\\epsilon_{2}}}{\\epsilon_{2}^{n}}a_{1}+R_{1}\\frac{e^{N\\epsilon_{1}}}{\\epsilon_{1}^{n}}a_{2}\\right)\\breve{\\mathcal{G}}_{3}\\left(\\epsilon_{1}\\right)\\right]\n",
    "$$"
   ]
  },
  {
   "cell_type": "code",
   "execution_count": null,
   "metadata": {
    "collapsed": true
   },
   "outputs": [],
   "source": [
    "def doublePoles(pairs12,p1,p2,p3,j,N,\n",
    "               lam0_1,lam_1,\n",
    "               lam0_2,lam_2,\n",
    "               lam0_3,lam_3):\n",
    "    G3at1 = p3.G_others(lam0_3,lam_3,p1)\n",
    "    G3at2 = p3.G_others(lam0_3,lam_3,p2)\n",
    "    dG3at1 = p3.dG_others(lam0_3,lam_3,p1)\n",
    "    dG3at2 = p3.dG_others(lam0_3,lam_3,p2)\n",
    "    out=0.0+0.0j\n",
    "    for pair in pairs12:\n",
    "        (l1,l2)=pair\n",
    "        eps1=p1.eig[l1]    \n",
    "        eps2=p2.eig[l2] \n",
    "        R1=p1.res[l1][lam0_1,lam_1]\n",
    "        R2=p2.res[l2][lam0_2,lam_2]\n",
    "        a1=p1.a[l1][lam0_1,lam_1]\n",
    "        a2=p2.a[l2][lam0_2,lam_2]\n",
    "        \n",
    "        G3=0.5*(G3at1[l1]+G3at2[l2]) # should be about the same\n",
    "        if abs(G3at1[l1]- G3at2[l2])/abs(G3) > 0.0001:\n",
    "            raise Exception('G3at1[l1]- G3at2[l2] too large')\n",
    "           \n",
    "        eps=0.5*(eps1+eps2)\n",
    "        if abs(eps1-eps2) > 0.0001:\n",
    "            raise Exception('Are you sure that is a double pole?')\n",
    "            \n",
    "        dG3 =0.5*(dG3at1[l1]+dG3at2[l2])\n",
    "        if abs(dG3at1[l1]- dG3at2[l2])/abs(dG3) > 0.0001:\n",
    "            raise Exception('dG3at1[l1]+dG3at2[l2] too large') \n",
    "            \n",
    "        out = out + G3*R1*R2*sp.f2(j,eps1,eps2,N)\n",
    "        out = out + G3*a2*R1*np.exp(N*eps1)/(eps1**j)\n",
    "        out = out + G3*a1*R2*np.exp(N*eps2)/(eps2**j)\n",
    "        out = out + dG3*R1*R2*np.exp(N*eps)/(eps**j)\n",
    "        \n",
    "        # If we were sure eps1==eps2\n",
    "        # out = out - np.exp(N*eps)*(eps**-j)*(G3*a2*R1+G3*a1*R2+dG3*R1*R2)\n",
    "    return out"
   ]
  },
  {
   "cell_type": "code",
   "execution_count": 1,
   "metadata": {
    "collapsed": true
   },
   "outputs": [],
   "source": [
    "def triplePoles(triplets,p1,p2,p3,j,N,\n",
    "               lam0_1,lam_1,\n",
    "               lam0_2,lam_2,\n",
    "               lam0_3,lam_3):\n",
    "    heart=0.0+0.0j\n",
    "    Raa=0.0+0.0j\n",
    "    diamond=0.0+0.0j\n",
    "    spade=0.0+0.0j\n",
    "    for triplet in triplets:\n",
    "        (l1,l2,l3)=triplet\n",
    "        eps1=p1.eig[l1]    \n",
    "        eps2=p2.eig[l2] \n",
    "        eps3=p3.eig[l3]\n",
    "        R1=p1.res[l1][lam0_1,lam_1]\n",
    "        R2=p2.res[l2][lam0_2,lam_2]\n",
    "        R3=p3.res[l3][lam0_3,lam_3]\n",
    "        a1=p1.a[l1][lam0_1,lam_1]\n",
    "        a2=p2.a[l2][lam0_2,lam_2]\n",
    "        a3=p3.a[l3][lam0_3,lam_3]\n",
    "        b1=p1.b[l1][lam0_1,lam_1]\n",
    "        b2=p2.b[l2][lam0_2,lam_2]\n",
    "        b3=p3.b[l3][lam0_3,lam_3] \n",
    "        \n",
    "        eps = (eps1+eps2+eps3)/3.0\n",
    "        \n",
    "        # Raa terms\n",
    "        Raa = Raa + np.exp(N*eps)/(eps**j)*(a2*a3*R1 + a3*a1*R2 + a1*a2*R3)\n",
    "        #Raa=Raa + a2*a3*R1*np.exp(N*eps1)/(eps1**j)\n",
    "        #Raa=Raa + a3*a1*R2*np.exp(N*eps2)/(eps2**j)\n",
    "        #Raa=Raa + a1*a2*R3*np.exp(N*eps3)/(eps3**j)\n",
    "        \n",
    "        # Heart term\n",
    "        #heart = heart + np.exp(N*eps)/(eps**j)*(R2*R3*b1 + R3*R1*b2 + R1*R2*b3)*2\n",
    "        heart=heart + R2*R3*b1*np.exp(N*eps1)/(eps1**j)\n",
    "        heart=heart + R3*R1*b2*np.exp(N*eps2)/(eps2**j)\n",
    "        heart=heart + R1*R2*b3*np.exp(N*eps3)/(eps3**j)\n",
    "        \n",
    "        # Diamond term\n",
    "        diamond = diamond + np.exp(N*eps)*(N*eps-j)*(eps**(-j-1))*(R1*R2*a3 + R2*R3*a1 + R3*R1*a2)\n",
    "        #diamond=diamond + R1*R2*sp.f2(j,eps1,eps2,N)*a3\n",
    "        #diamond=diamond + R2*R3*sp.f2(j,eps2,eps3,N)*a1\n",
    "        #diamond=diamond + R3*R1*sp.f2(j,eps3,eps1,N)*a2\n",
    "        \n",
    "        # Spade term\n",
    "        spade = spade + R1*R2*R3*np.exp(N*eps)*(N**2*eps**2 - 2*j*N*eps+j*(j+1))/(2*eps**(j+2))\n",
    "        #spade=spade - R1*R2*R3*sp.f3(j,eps1,eps2,eps3,N)\n",
    "\n",
    "    return Raa+heart+diamond+spade        \n",
    "/"
   ]
  },
  {
   "cell_type": "markdown",
   "metadata": {},
   "source": [
    "### AAAA"
   ]
  },
  {
   "cell_type": "code",
   "execution_count": 1,
   "metadata": {
    "collapsed": true
   },
   "outputs": [],
   "source": [
    "def IAAAA(N,fa,lam0_1,lam_1,lam0_2,lam_2,lam0_3,lam_3\\\n",
    "               ,p1,p2,p3,K0cuttoff=10**-9):\n",
    "    if p2.K < K0cuttoff:\n",
    "            return IAAAAresumK2is0(N,fa,lam0_1,lam_1,\\\n",
    "                                   lam0_2,lam_2,\\\n",
    "                                   lam0_3,lam_3,p1,p3)\n",
    "    \n",
    "    out = - f3resum(2,p1,p2,p3,lam0_1,lam_1,lam0_2,lam_2,lam0_3,lam_3,N*fa)\n",
    "    \n",
    "    #print('f3part',out)\n",
    "    \n",
    "    G1=p1.G0[lam0_1,lam_1]\n",
    "    G2=p2.G0[lam0_2,lam_2]\n",
    "    G3=p3.G0[lam0_3,lam_3]\n",
    "    dG1=p1.dG0[lam0_1,lam_1]\n",
    "    dG2=p2.dG0[lam0_2,lam_2]\n",
    "    dG3=p3.dG0[lam0_3,lam_3]\n",
    "    zeroPole = N*fa*G1*G2*G3 + dG1*G2*G3 + G1*dG2*G3 + G1*G2*dG3\n",
    "    \n",
    "    #print('zeroPole',zeroPole)\n",
    "    #print('ratio',out/zeroPole)\n",
    "    #print('---')\n",
    "    out = out + zeroPole\n",
    "        \n",
    "    return out"
   ]
  },
  {
   "cell_type": "markdown",
   "metadata": {},
   "source": [
    "\\begin{align*}\n",
    "\\underset{AAAA}{I_{1,2,3}^{\\left(4\\right)}\\left(Nf_{A}\\right)}= & -\\sum_{l_{1},l_{2},l_{3}}R_{1}R_{2}R_{3}f3\\left(2,\\epsilon_{1},\\epsilon_{2},\\epsilon_{3},Nf_{A}\\right)\\\\\n",
    " & +Nf_{A}\\mathcal{G}_{3}\\mathcal{G}_{2}\\mathcal{G}_{1}+\\mathcal{G}'_{3}\\mathcal{G}{}_{2}\\mathcal{G}_{1}+\\mathcal{G}_{3}\\mathcal{G}'_{2}\\mathcal{G}_{1}+\\mathcal{G}_{3}\\mathcal{G}_{2}\\mathcal{G}'_{1}\n",
    "\\end{align*}"
   ]
  },
  {
   "cell_type": "code",
   "execution_count": 19,
   "metadata": {
    "collapsed": true
   },
   "outputs": [],
   "source": [
    "@jit\n",
    "def IAAAAresum(N,fa,lam0_1,lam_1,lam0_2,lam_2,lam0_3,lam_3\\\n",
    "               ,p1,p2,p3,K0cuttoff=10**-9):\n",
    "    if p2.K < K0cuttoff:\n",
    "            return IAAAAresumK2is0(N,fa,lam0_1,lam_1,\\\n",
    "                                   lam0_2,lam_2,\\\n",
    "                                   lam0_3,lam_3,p1,p3)\n",
    "    out=0.0+0.0j\n",
    "    tol = 10**-15\n",
    "    for l1 in range(abs(p1.mu),p1.ORDEig):\n",
    "        e1=p1.eig[l1]\n",
    "        R1=p1.res[l1][lam0_1,lam_1]\n",
    "        for l2 in range(abs(p2.mu),p2.ORDEig):\n",
    "            e2=p2.eig[l2]\n",
    "            R2=p2.res[l2][lam0_2,lam_2]\n",
    "            for l3 in range(abs(p3.mu),p3.ORDEig):\n",
    "                e3=p3.eig[l3]\n",
    "                R3=p3.res[l3][lam0_3,lam_3]\n",
    "                #if abs(e2)<10**-7:\n",
    "                #    print('epsilon of zero incountered')\n",
    "                #    print('e1',e1,'e2',e2,'e3',e3)\n",
    "                #    print('l1',l1,'l2',l2,'l3',l3)\n",
    "                temp= - R1*R2*R3*sp.f3(2,e1,e2,e3,N*fa)\n",
    "                out=out+temp\n",
    "                if abs(temp/(out+tol))<tol and l3>max(lam0_3,lam_3):\n",
    "                    break\n",
    "    \n",
    "    G1=p1.G0[lam0_1,lam_1]\n",
    "    G2=p2.G0[lam0_2,lam_2]\n",
    "    G3=p3.G0[lam0_3,lam_3]\n",
    "    dG1=p1.dG0[lam0_1,lam_1]\n",
    "    dG2=p2.dG0[lam0_2,lam_2]\n",
    "    dG3=p3.dG0[lam0_3,lam_3]\n",
    "    \n",
    "    out = out + N*fa*G1*G2*G3 + dG1*G2*G3 + G1*dG2*G3 + G1*G2*dG3\n",
    "    return out"
   ]
  },
  {
   "cell_type": "markdown",
   "metadata": {},
   "source": [
    "\\[\n",
    "\\sum_{l_{1},l_{3}}R{}_{1}R{}_{3}f2\\left(3,\\epsilon_{1},\\epsilon_{3},Nf_{A}\\right)+G_{1}d^{2}G_{3}+dG_{1}dG_{3}+d^{2}G_{1}G_{3}+Nf_{A}G_{1}dG_{3}+Nf_{A}dG_{1}G_{3}+\\frac{N^{2}f_{A}^{2}}{2}G_{1}G_{3}\n",
    "\\]"
   ]
  },
  {
   "cell_type": "code",
   "execution_count": 20,
   "metadata": {
    "collapsed": true
   },
   "outputs": [],
   "source": [
    "def IAAAAresumK2is0(N,fa,lam0_1,lam_1,\\\n",
    "                         lam0_2,lam_2,\\\n",
    "                         lam0_3,lam_3,p1,p3):\n",
    "    if lam0_2 != lam_2:\n",
    "        return 0.0\n",
    "    elif lam0_2==0 and lam_2==0:\n",
    "        out=0.0+0.0j\n",
    "        for l1 in range(abs(p1.mu),p1.ORDEig):\n",
    "            e1=p1.eig[l1]\n",
    "            R1=p1.res[l1][lam0_1,lam_1]\n",
    "            for l3 in range(abs(p3.mu),p3.ORDEig): \n",
    "                e3=p1.eig[l3]\n",
    "                R3=p3.res[l3][lam0_3,lam_3]\n",
    "\n",
    "                out=out+R1*R3*sp.f2(3,e1,e3,N*fa)\n",
    "\n",
    "        G1=p1.G0[lam0_1,lam_1]\n",
    "        G3=p3.G0[lam0_3,lam_3]\n",
    "        dG1=p1.dG0[lam0_1,lam_1]\n",
    "        dG3=p3.dG0[lam0_3,lam_3]    \n",
    "\n",
    "        #This look can be replaced by next derivative\n",
    "        ddG1=0.0\n",
    "        for l1 in range(abs(p1.mu),p1.ORDEig):\n",
    "            e1=p1.eig[l1]\n",
    "            R1=p1.res[l1][lam0_1,lam_1]\n",
    "            ddG1=ddG1-R1/(e1**3) \n",
    "\n",
    "        #This look can be replaced by next derivative\n",
    "        ddG3=0.0\n",
    "        for l3 in range(abs(p3.mu),p3.ORDEig):\n",
    "            e3=p3.eig[l3]\n",
    "            R3=p3.res[l3][lam0_3,lam_3]\n",
    "            ddG3=ddG3-R3/(e3**3) \n",
    "\n",
    "        out=out+G1*ddG3 + dG1*dG3 + ddG1*G3 + \\\n",
    "            N*fa*G1*dG3 + N*fa*dG1*G3+0.5*N*fa*N*fa*G1*G3\n",
    "        return out\n",
    "    else: # lam_2 == lam_2\n",
    "        out=0.0+0.0j\n",
    "        tol = 10**-15\n",
    "        e2=-lam_2*(lam_2 + p1.d -2)\n",
    "        R2=1.0\n",
    "        for l1 in range(abs(p1.mu),p1.ORDEig):\n",
    "            e1=p1.eig[l1]\n",
    "            R1=p1.res[l1][lam0_1,lam_1]\n",
    "            for l3 in range(abs(p3.mu),p3.ORDEig):\n",
    "                e3=p3.eig[l3]\n",
    "                R3=p3.res[l3][lam0_3,lam_3]\n",
    "                temp= - R1*R2*R3*sp.f3(2,e1,e2,e3,N*fa)\n",
    "                out=out+temp\n",
    "\n",
    "        \n",
    "        G1=p1.G0[lam0_1,lam_1]\n",
    "        G2=-1.0/e2\n",
    "        G3=p3.G0[lam0_3,lam_3]\n",
    "        dG1=p1.dG0[lam0_1,lam_1]\n",
    "        dG2=-1.0/(e2**2)\n",
    "        dG3=p3.dG0[lam0_3,lam_3]\n",
    "\n",
    "        out = out + N*fa*G1*G2*G3 + dG1*G2*G3 + G1*dG2*G3 + G1*G2*dG3        \n",
    "        return out\n",
    "    "
   ]
  },
  {
   "cell_type": "markdown",
   "metadata": {},
   "source": [
    "For IAAAA if $\\epsilon_{1}\\not\\approx\\epsilon_{2}\\not\\approx\\epsilon_{3}$\n",
    "\n",
    "\\[\n",
    "=\\frac{\\left(\\frac{\\epsilon_{2}-\\epsilon_{3}}{\\epsilon_{1}^{2}}\\right)\\mathrm{expl}\\left(2,N\\epsilon_{1}\\right)+\\left(\\frac{\\epsilon_{3}-\\epsilon_{1}}{\\epsilon_{2}^{2}}\\right)\\mathrm{expl}\\left(2,N\\epsilon_{2}\\right)+\\left(\\frac{\\epsilon_{1}-\\epsilon_{2}}{\\epsilon_{3}^{2}}\\right)\\mathrm{expl}\\left(2,N\\epsilon_{3}\\right)}{\\left(\\epsilon_{1}-\\epsilon_{2}\\right)\\left(\\epsilon_{1}-\\epsilon_{3}\\right)\\left(\\epsilon_{2}-\\epsilon_{3}\\right)}\n",
    "\\]\n",
    "\n",
    "\n",
    "if $\\epsilon_{1}\\not\\approx\\epsilon_{2}\\approx\\epsilon_{3}$ \n",
    "\n",
    "\\[\n",
    "=\\frac{-N\\epsilon_{2}\\epsilon_{1}^{3}\\mathrm{expl\\left(3,N\\epsilon_{2}\\right)+2\\epsilon_{1}^{3}\\mathrm{expl}\\left(4,N\\epsilon_{2}\\right)+\\epsilon_{2}^{3}\\mathrm{expl}}\\left(4,N\\epsilon_{1}\\right)-3\\epsilon_{1}^{2}\\epsilon_{2}\\mathrm{expl}\\left(4,N\\epsilon_{2}\\right)+N\\epsilon_{2}^{2}\\epsilon_{1}^{2}\\mathrm{expl}\\left(3,N\\epsilon_{2}\\right)}{\\epsilon_{1}^{4}\\epsilon_{2}^{3}-2\\epsilon_{1}^{3}\\epsilon_{2}^{4}+\\epsilon_{1}^{2}\\epsilon_{2}^{5}}\n",
    "\\]\n",
    "\n",
    "\n",
    "if $\\epsilon_{1}\\approx\\epsilon_{2}\\approx\\epsilon_{3}$\n",
    "\n",
    "\\[\n",
    "=\\frac{-6\\mathrm{expl}\\left(4,N\\epsilon_{1}\\right)-N^{2}\\epsilon_{1}^{2}\\mathrm{expl}\\left(2,N\\epsilon_{1}\\right)+4N\\epsilon_{1}\\mathrm{expl}\\left(3,N\\epsilon_{1}\\right)}{2\\epsilon_{1}^{4}}\n",
    "\\]"
   ]
  },
  {
   "cell_type": "code",
   "execution_count": 11,
   "metadata": {
    "collapsed": false
   },
   "outputs": [],
   "source": [
    "#@jit\n",
    "def case1(e1,e2,e3,N):\n",
    "    e3,e2,e1 = sp.arrange(e1,e2,e3)\n",
    "    tol=10**-6\n",
    "    if abs(e2-e3)>tol:\n",
    "        out=-( (e2-e3)*sp.expl(N*e1,2)/(e1**2) + \\\n",
    "               (e3-e1)*sp.expl(N*e2,2)/(e2**2) + \\\n",
    "               (e1-e2)*sp.expl(N*e3,2)/(e3**2) )/ \\\n",
    "             ((e1-e2)*(e2-e3)*(e3-e1))\n",
    "    elif min(abs(e1-e2),abs(e3-e1)) > tol:\n",
    "        out = (-N*e2*sp.expl(N*e2,3)*e1**3 + \\\n",
    "               2*sp.expl(N*e2,4)*e1**3 + sp.expl(N*e1,4)*e2**3 \\\n",
    "               - 3*sp.expl(N*e2,4)*e1**2*e2 +  N*e2*sp.expl(N*e2,3)*e1**2*e2)/\\\n",
    "              (e1**4*e2**3  - 2*e1**3*e2**4 + e1**2*e2**5)\n",
    "    else:\n",
    "        out = (-6*sp.expl(N*e1,4)-(N*e1)**2*sp.expl(N*e1,2)+\\\n",
    "               4*N*e1*sp.expl(N*e1,3))/(2*e1**4)\n",
    "    return out"
   ]
  },
  {
   "cell_type": "code",
   "execution_count": 22,
   "metadata": {
    "collapsed": true
   },
   "outputs": [],
   "source": [
    "def IAAAAexplicit(N,fa,lam0_1,lam_1,lam0_2,lam_2,lam0_3,lam_3,p1,p2,p3):\n",
    "    out=0.0+0.0j\n",
    "    tol = 10**-15\n",
    "    for l1 in range(abs(p1.mu),p1.ORDEig):\n",
    "        e1=p1.eig[l1]\n",
    "        R1=p1.res[l1][lam0_1,lam_1]\n",
    "        for l2 in range(abs(p2.mu),p2.ORDEig):\n",
    "            e2=p2.eig[l2]\n",
    "            R2=p2.res[l2][lam0_2,lam_2]\n",
    "            for l3 in range(abs(p3.mu),p3.ORDEig):\n",
    "                e3=p3.eig[l3]\n",
    "                R3=p3.res[l3][lam0_3,lam_3]\n",
    "                temp = R1*R2*R3*case1(e1,e2,e3,N*fa)\n",
    "                out=out+temp\n",
    "                if abs(temp/(out+tol))<tol and l3>max(lam0_3,lam_3):\n",
    "                    break\n",
    "    return out"
   ]
  },
  {
   "cell_type": "code",
   "execution_count": null,
   "metadata": {
    "collapsed": true
   },
   "outputs": [],
   "source": [
    "# Use explicit calculation for low K and IAAAA for high K\n",
    "def IAAAAswitch(N,fa,lam0_1,lam_1,lam0_2,lam_2,lam0_3,lam_3\\\n",
    "               ,p1,p2,p3):\n",
    "    K=(p1.K+p3.K)/2.0\n",
    "    if K*(N**0.5)<0.3:\n",
    "        out =IAAAAexplicit(N,fa,lam0_1,lam_1,lam0_2,lam_2,lam0_3,lam_3,p1,p2,p3)\n",
    "    else:\n",
    "        out =IAAAA(N,fa,lam0_1,lam_1,lam0_2,lam_2,lam0_3,lam_3\\\n",
    "               ,p1,p2,p3)"
   ]
  },
  {
   "cell_type": "markdown",
   "metadata": {
    "heading_collapsed": true
   },
   "source": [
    "### AAAB"
   ]
  },
  {
   "cell_type": "markdown",
   "metadata": {
    "hidden": true
   },
   "source": [
    "\\begin{align*}\n",
    "\\underset{AAAB}{I_{1,2,3}^{\\left(4\\right)}\\left(N\\right)}= & \\sum_{l_{1},l_{2},l_{3}}R{}_{1}R{}_{2}R{}_{3}\\left[f3\\left(2,\\epsilon_{1},\\epsilon_{2},\\epsilon_{3},Nf_{A}\\right)-\\frac{e^{Nf_{B}\\epsilon_{3}}}{\\epsilon_{3}}f3\\left(1,\\epsilon_{1},\\epsilon_{2},\\epsilon_{3},Nf_{A}\\right)\\right]\\\\\n",
    " & +\\mathcal{G}_{3}\\sum_{l_{1},l_{2}}R{}_{1}R{}_{2}f2\\left(2,\\epsilon_{1},\\epsilon_{2},Nf_{A}\\right)\\\\\n",
    " & -\\mathcal{G}_{1}\\mathcal{G}_{2}\\sum_{l_{3}}R_{3}\\frac{e^{Nf_{B}\\epsilon_{3}}}{\\epsilon_{3}^{2}}\\\\\n",
    " & -\\mathcal{G}_{1}\\mathcal{G}_{2}\\mathcal{G}'_{3}\n",
    "\\end{align*}"
   ]
  },
  {
   "cell_type": "code",
   "execution_count": 23,
   "metadata": {
    "collapsed": false,
    "hidden": true
   },
   "outputs": [],
   "source": [
    "#@jit#(nopython=True)\n",
    "def IAAABresum(N,fa,lam0_1,lam_1,lam0_2,lam_2,lam0_3,lam_3\\\n",
    "               ,p1,p2,p3,K0cuttoff=10**-9):\n",
    "    if p2.K < K0cuttoff:\n",
    "        return IAAABresumK2is0(N,fa,lam0_1,lam_1\\\n",
    "                               ,lam0_2,lam_2\\\n",
    "                               ,lam0_3,lam_3,p1,p3)\n",
    "    fb=1.0-fa\n",
    "    out=0.0+0.0j\n",
    "    tol = 10**-15\n",
    "    for l1 in range(abs(p1.mu),p1.ORDEig):\n",
    "        e1=p1.eig[l1]\n",
    "        R1=p1.res[l1][lam0_1,lam_1]\n",
    "        for l2 in range(abs(p2.mu),p2.ORDEig):\n",
    "            e2=p2.eig[l2]\n",
    "            R2=p2.res[l2][lam0_2,lam_2]\n",
    "            for l3 in range(abs(p3.mu),p3.ORDEig):\n",
    "                e3=p3.eig[l3]\n",
    "                R3=p3.res[l3][lam0_3,lam_3]\n",
    "\n",
    "                temp= R1*R2*R3*( sp.f3(2,e1,e2,e3,N*fa) -\\\n",
    "                                     np.exp(N*fb*e3)*sp.f3(1,e1,e2,e3,N*fa)/e3 )\n",
    "                out=out+temp\n",
    "                if abs(temp/(out+tol))<tol and l3>max(lam0_3,lam_3):\n",
    "                    break\n",
    "\n",
    "    G1=p1.G0[lam0_1,lam_1]\n",
    "    G2=p2.G0[lam0_2,lam_2]\n",
    "    G3=p3.G0[lam0_3,lam_3]          \n",
    "                \n",
    "    temp=0.0\n",
    "    for l1 in range(abs(p1.mu),p1.ORDEig):\n",
    "        for l2 in range(abs(p2.mu),p2.ORDEig):\n",
    "            e1=p1.eig[l1]\n",
    "            e2=p2.eig[l2]\n",
    "            R1=p1.res[l1][lam0_1,lam_1]\n",
    "            R2=p2.res[l2][lam0_2,lam_2]   \n",
    "            temp=temp+R1*R2*sp.f2(2,e1,e2,N*fa)\n",
    "    out=out+temp*G3\n",
    "            \n",
    "    temp=0.0    \n",
    "    for l3 in range(abs(p3.mu),p3.ORDEig):\n",
    "        e3=p3.eig[l3]\n",
    "        R3=p3.res[l3][lam0_3,lam_3]\n",
    "        temp=temp+R3*np.exp(N*fb*e3)/(e3**2)\n",
    "    out=out-temp*G1*G2\n",
    "    \n",
    "    out = out - G1*G2*p3.dG0[lam0_3,lam_3] \n",
    "    return out"
   ]
  },
  {
   "cell_type": "markdown",
   "metadata": {
    "hidden": true
   },
   "source": [
    "\\begin{align*}\n",
    "\\underset{AAAB}{I_{1,2,3}^{\\left(4\\right)}\\left(N\\right)}= & \\sum_{l_{1},l_{3}}R{}_{1}R{}_{3}f2\\left(2,\\epsilon_{1}\\epsilon_{3},Nf_{A}\\right)\\frac{\\exp\\left(Nf_{B}\\epsilon_{3}-1\\right)}{\\epsilon_{3}}\\\\\n",
    " & -G_{1}\\sum_{l_{3}}R{}_{3}\\frac{e^{Nf_{B}\\epsilon_{3}}\\left(1+Nf_{A}\\epsilon_{3}\\right)}{\\epsilon_{3}^{3}}-dG_{1}\\sum_{l_{3}}R{}_{3}\\frac{e^{Nf_{B}\\epsilon_{3}}}{\\epsilon_{3}^{2}}\\\\\n",
    " & -G_{1}d^{2}G_{3}-dG_{1}dG_{3}-Nf_{A}G_{1}dG_{3}\n",
    "\\end{align*}"
   ]
  },
  {
   "cell_type": "code",
   "execution_count": 24,
   "metadata": {
    "collapsed": true,
    "hidden": true
   },
   "outputs": [],
   "source": [
    "def IAAABresumK2is0(N,fa,lam0_1,lam_1\\\n",
    "                        ,lam0_2,lam_2\\\n",
    "                        ,lam0_3,lam_3\\\n",
    "                        ,p1,p3):\n",
    "    if lam0_2 != lam_2:\n",
    "        return 0.0\n",
    "    elif lam0_2==0 and lam_2==0:\n",
    "        fb=1.0-fa\n",
    "        out=0.0+0.0j\n",
    "        for l1 in range(abs(p1.mu),p1.ORDEig):\n",
    "            for l3 in range(abs(p3.mu),p3.ORDEig): \n",
    "                e1=p1.eig[l1]\n",
    "                e3=p1.eig[l3]\n",
    "                R1=p1.res[l1][lam0_1,lam_1]\n",
    "                R3=p3.res[l3][lam0_3,lam_3]\n",
    "\n",
    "                out=out+R1*R3*sp.f2(2,e1,e3,N*fa)*(np.exp(N*fb*e3)-1)/e3\n",
    "\n",
    "        G1=p1.G0[lam0_1,lam_1]\n",
    "        dG1=p1.dG0[lam0_1,lam_1]\n",
    "        dG3=p3.dG0[lam0_3,lam_3]   \n",
    "\n",
    "        for l3 in range(abs(p3.mu),p3.ORDEig):\n",
    "            e3=p3.eig[l3]\n",
    "            R3=p3.res[l3][lam0_3,lam_3]\n",
    "            out=out-G1*R3*np.exp(N*fb*e3)*(1+N*fa*e3)/(e3**3)\n",
    "            out=out-dG1*R3*np.exp(N*fb*e3)/(e3**2)\n",
    "\n",
    "        #This look can be replaced by next derivative\n",
    "        ddG3=0.0\n",
    "        for l3 in range(abs(p3.mu),p3.ORDEig):\n",
    "            e3=p3.eig[l3]\n",
    "            R3=p3.res[l3][lam0_3,lam_3]\n",
    "            ddG3=ddG3-R3/(e3**3) \n",
    "\n",
    "        out=out-G1*ddG3-dG1*dG3-N*fa*G1*dG3\n",
    "        return out\n",
    "    else: # lam_2 == lam_2\n",
    "        fb=1.0-fa\n",
    "        out=0.0+0.0j\n",
    "        tol = 10**-15\n",
    "        e2=-lam_2*(lam_2 + p1.d -2)\n",
    "        R2=1.0\n",
    "        for l1 in range(abs(p1.mu),p1.ORDEig):\n",
    "            e1=p1.eig[l1]\n",
    "            R1=p1.res[l1][lam0_1,lam_1]\n",
    "            for l3 in range(abs(p3.mu),p3.ORDEig):\n",
    "                e3=p3.eig[l3]\n",
    "                R3=p3.res[l3][lam0_3,lam_3]\n",
    "\n",
    "                temp= R1*R2*R3*( sp.f3(2,e1,e2,e3,N*fa) -\\\n",
    "                                 np.exp(N*fb*e3)*\\\n",
    "                                 sp.f3(1,e1,e2,e3,N*fa)/e3 )\n",
    "                out=out+temp\n",
    "\n",
    "        G1=p1.G0[lam0_1,lam_1]\n",
    "        G2=-1.0/e2\n",
    "        G3=p3.G0[lam0_3,lam_3]          \n",
    "\n",
    "        temp=0.0\n",
    "        for l1 in range(abs(p1.mu),p1.ORDEig):\n",
    "            e1=p1.eig[l1]\n",
    "            R1=p1.res[l1][lam0_1,lam_1]  \n",
    "            temp=temp+R1*R2*sp.f2(2,e1,e2,N*fa)\n",
    "        out=out+temp*G3\n",
    "\n",
    "        temp=0.0    \n",
    "        for l3 in range(abs(p3.mu),p3.ORDEig):\n",
    "            e3=p3.eig[l3]\n",
    "            R3=p3.res[l3][lam0_3,lam_3]\n",
    "            temp=temp+R3*np.exp(N*fb*e3)/(e3**2)\n",
    "        out=out-temp*G1*G2\n",
    "\n",
    "        out = out - G1*G2*p3.dG0[lam0_3,lam_3] \n",
    "        \n",
    "        return out        "
   ]
  },
  {
   "cell_type": "markdown",
   "metadata": {
    "heading_collapsed": true
   },
   "source": [
    "### AABB"
   ]
  },
  {
   "cell_type": "markdown",
   "metadata": {
    "hidden": true
   },
   "source": [
    "\\begin{align*}\n",
    "\\underset{AABB}{I_{1,2,3}^{\\left(4\\right)}\\left(N\\right)}= & \\sum_{l_{1},l_{2},l_{3}}R{}_{1}R{}_{2}R{}_{3}f\\left(1,\\epsilon_{1},\\epsilon_{2},Nf_{A}\\right)f\\left(1,\\epsilon_{2},\\epsilon_{3},Nf_{B}\\right)\\\\\n",
    " & -\\mathcal{G}_{3}\\sum_{l_{1},l_{2}}R{}_{1}R{}_{2}f\\left(2,\\epsilon_{1},\\epsilon_{2},Nf_{A}\\right)-\\mathcal{G}_{1}\\sum_{l_{2},l_{3}}R{}_{2}R{}_{3}f\\left(2,\\epsilon_{2},\\epsilon_{3},Nf_{B}\\right)\\\\\n",
    " & +\\mathcal{G}_{2}\\mathcal{G}_{3}\\sum_{l_{1}}R_{1}\\frac{e^{Nf_{A}\\epsilon_{1}}}{\\epsilon_{1}^{2}}+\\mathcal{G}_{1}\\mathcal{G}_{2}\\sum_{l_{3}}R_{3}\\frac{e^{Nf_{B}\\epsilon_{3}}}{\\epsilon_{3}^{2}}\\\\\n",
    " & -\\mathcal{G}_{1}\\mathcal{G}'_{2}\\mathcal{G}_{3}\n",
    "\\end{align*}"
   ]
  },
  {
   "cell_type": "code",
   "execution_count": 25,
   "metadata": {
    "collapsed": true,
    "hidden": true
   },
   "outputs": [],
   "source": [
    "def IAABBresum(N,fa,lam0_1,lam_1,lam0_2,lam_2,lam0_3,lam_3\\\n",
    "               ,p1,p2,p3,K0cuttoff=10**-9):\n",
    "    if p2.K < K0cuttoff:\n",
    "            return IAABBresumK2is0(N,fa,lam0_1,lam_1\\\n",
    "                                       ,lam0_2,lam_2\\\n",
    "                                       ,lam0_3,lam_3,p1,p3)\n",
    "    fb=1.0-fa\n",
    "    out=0.0+0.0j\n",
    "    tol = 10**-15\n",
    "    for l1 in range(abs(p1.mu),p1.ORDEig):\n",
    "        e1=p1.eig[l1]\n",
    "        R1=p1.res[l1][lam0_1,lam_1]\n",
    "        for l2 in range(abs(p2.mu),p2.ORDEig):\n",
    "            e2=p2.eig[l2]\n",
    "            R2=p2.res[l2][lam0_2,lam_2]\n",
    "            for l3 in range(abs(p3.mu),p3.ORDEig):\n",
    "                e3=p3.eig[l3]\n",
    "                R3=p3.res[l3][lam0_3,lam_3]\n",
    "\n",
    "                temp= R1*R2*R3*( sp.f2(1,e1,e2,N*fa)*sp.f2(1,e2,e3,N*fb) )\n",
    "                out=out+temp\n",
    "                if abs(temp/(out+tol))<tol and l3>max(lam0_3,lam_3):\n",
    "                    break\n",
    "    G1=p1.G0[lam0_1,lam_1]\n",
    "    G2=p2.G0[lam0_2,lam_2]\n",
    "    G3=p3.G0[lam0_3,lam_3]\n",
    "           \n",
    "    temp=0.0\n",
    "    for l1 in range(abs(p1.mu),p1.ORDEig):\n",
    "        for l2 in range(abs(p2.mu),p2.ORDEig):\n",
    "            e1=p1.eig[l1]\n",
    "            e2=p2.eig[l2]\n",
    "            R1=p1.res[l1][lam0_1,lam_1]\n",
    "            R2=p2.res[l2][lam0_2,lam_2]   \n",
    "            temp=temp+R1*R2*sp.f2(2,e1,e2,N*fa)\n",
    "    out=out-temp*G3\n",
    "\n",
    "    temp=0.0\n",
    "    for l2 in range(abs(p2.mu),p2.ORDEig):\n",
    "        for l3 in range(abs(p3.mu),p3.ORDEig):\n",
    "            e3=p3.eig[l3]\n",
    "            e2=p2.eig[l2]\n",
    "            R3=p3.res[l3][lam0_3,lam_3]\n",
    "            R2=p2.res[l2][lam0_2,lam_2]   \n",
    "            temp=temp+R2*R3*sp.f2(2,e2,e3,N*fb)\n",
    "    out=out-temp*G1    \n",
    "\n",
    "    temp=0.0    \n",
    "    for l1 in range(abs(p1.mu),p1.ORDEig):\n",
    "        e1=p1.eig[l1]\n",
    "        R1=p1.res[l1][lam0_1,lam_1]\n",
    "        temp=temp+R1*np.exp(N*fa*e1)/(e1**2)\n",
    "    out=out+temp*G2*G3    \n",
    "    \n",
    "    temp=0.0    \n",
    "    for l3 in range(abs(p3.mu),p3.ORDEig):\n",
    "        e3=p3.eig[l3]\n",
    "        R3=p3.res[l3][lam0_3,lam_3]\n",
    "        temp=temp+R3*np.exp(N*fb*e3)/(e3**2)\n",
    "    out=out+temp*G1*G2\n",
    "    \n",
    "    out = out - G1*p2.dG0[lam0_2,lam_2]*G3\n",
    "    return out"
   ]
  },
  {
   "cell_type": "markdown",
   "metadata": {
    "hidden": true
   },
   "source": [
    "\\[\n",
    "\\underset{AABB}{I_{1,2,3}^{\\left(4\\right)}\\left(N\\right)}=\\underset{AA}{I_{1}^{\\left(2\\right)}}\\left(N\\right)\\underset{BB}{I_{3}^{\\left(2\\right)}}\\left(N\\right)\n",
    "\\]"
   ]
  },
  {
   "cell_type": "code",
   "execution_count": 26,
   "metadata": {
    "collapsed": true,
    "hidden": true
   },
   "outputs": [],
   "source": [
    "def IAABBresumK2is0(N,fa,lam0_1,lam_1,lam0_2,lam_2,lam0_3,lam_3\\\n",
    "                    ,p1,p3):\n",
    "    if lam0_2 != lam_2:\n",
    "        return 0.0\n",
    "    elif lam0_2==0 and lam_2==0:\n",
    "        fb=1.0-fa\n",
    "        out=IAAresum(N,fa,lam0_1,lam_1,p1)*IAAresum(N,fb,lam0_3,lam_3,p3)\n",
    "        return out\n",
    "    else:\n",
    "        fb=1.0-fa\n",
    "        out=0.0+0.0j\n",
    "        tol = 10**-15\n",
    "        e2=-lam_2*(lam_2 + p1.d -2)\n",
    "        R2=1.0\n",
    "        for l1 in range(abs(p1.mu),p1.ORDEig):\n",
    "            e1=p1.eig[l1]\n",
    "            R1=p1.res[l1][lam0_1,lam_1]\n",
    "            for l3 in range(abs(p3.mu),p3.ORDEig):\n",
    "                e3=p3.eig[l3]\n",
    "                R3=p3.res[l3][lam0_3,lam_3]\n",
    "\n",
    "                temp= R1*R2*R3*( sp.f2(1,e1,e2,N*fa)*sp.f2(1,e2,e3,N*fb) )\n",
    "                out=out+temp\n",
    "                \n",
    "        G1=p1.G0[lam0_1,lam_1]\n",
    "        G2=-1.0/e2\n",
    "        G3=p3.G0[lam0_3,lam_3]\n",
    "\n",
    "        temp=0.0\n",
    "        for l1 in range(abs(p1.mu),p1.ORDEig):\n",
    "            e1=p1.eig[l1]\n",
    "            R1=p1.res[l1][lam0_1,lam_1]  \n",
    "            temp=temp+R1*R2*sp.f2(2,e1,e2,N*fa)\n",
    "        out=out-temp*G3\n",
    "\n",
    "        temp=0.0\n",
    "        for l3 in range(abs(p3.mu),p3.ORDEig):\n",
    "            e3=p3.eig[l3]\n",
    "            R3=p3.res[l3][lam0_3,lam_3]  \n",
    "            temp=temp+R2*R3*sp.f2(2,e2,e3,N*fb)\n",
    "        out=out-temp*G1    \n",
    "\n",
    "        temp=0.0    \n",
    "        for l1 in range(abs(p1.mu),p1.ORDEig):\n",
    "            e1=p1.eig[l1]\n",
    "            R1=p1.res[l1][lam0_1,lam_1]\n",
    "            temp=temp+R1*np.exp(N*fa*e1)/(e1**2)\n",
    "        out=out+temp*G2*G3    \n",
    "\n",
    "        temp=0.0    \n",
    "        for l3 in range(abs(p3.mu),p3.ORDEig):\n",
    "            e3=p3.eig[l3]\n",
    "            R3=p3.res[l3][lam0_3,lam_3]\n",
    "            temp=temp+R3*np.exp(N*fb*e3)/(e3**2)\n",
    "        out=out+temp*G1*G2\n",
    "\n",
    "        out = out - G1*(-1.0/(e2**2))*G3\n",
    "        return out"
   ]
  }
 ],
 "metadata": {
  "anaconda-cloud": {},
  "kernelspec": {
   "display_name": "Python [conda root]",
   "language": "python",
   "name": "conda-root-py"
  },
  "language_info": {
   "codemirror_mode": {
    "name": "ipython",
    "version": 3
   },
   "file_extension": ".py",
   "mimetype": "text/x-python",
   "name": "python",
   "nbconvert_exporter": "python",
   "pygments_lexer": "ipython3",
   "version": "3.5.2"
  },
  "latex_envs": {
   "LaTeX_envs_menu_present": true,
   "autocomplete": true,
   "bibliofile": "biblio.bib",
   "cite_by": "apalike",
   "current_citInitial": 1,
   "eqLabelWithNumbers": true,
   "eqNumInitial": 1,
   "hotkeys": {
    "equation": "Ctrl-E",
    "itemize": "Ctrl-I"
   },
   "labels_anchors": false,
   "latex_user_defs": false,
   "report_style_numbering": false,
   "user_envs_cfg": false
  },
  "toc": {
   "colors": {
    "hover_highlight": "#DAA520",
    "running_highlight": "#FF0000",
    "selected_highlight": "#FFD700"
   },
   "moveMenuLeft": true,
   "nav_menu": {
    "height": "86px",
    "width": "252px"
   },
   "navigate_menu": true,
   "number_sections": true,
   "sideBar": true,
   "threshold": 4,
   "toc_cell": false,
   "toc_section_display": "block",
   "toc_window_display": false,
   "widenNotebook": false
  }
 },
 "nbformat": 4,
 "nbformat_minor": 1
}
