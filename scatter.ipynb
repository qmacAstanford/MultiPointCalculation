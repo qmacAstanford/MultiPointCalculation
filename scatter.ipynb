{
 "cells": [
  {
   "cell_type": "markdown",
   "metadata": {},
   "source": [
    "# import modules"
   ]
  },
  {
   "cell_type": "code",
   "execution_count": null,
   "metadata": {
    "collapsed": true
   },
   "outputs": [],
   "source": [
    "import numpy as np\n",
    "from scipy import optimize\n",
    "from numpy.linalg import eig\n",
    "\n",
    "import MultiPoint as mp\n",
    "from CORRcalc import *\n",
    "from GAMcalc import *\n",
    "from FEcalc import *\n",
    "\n",
    "import propagator \n",
    "import wignerD as wd"
   ]
  },
  {
   "cell_type": "markdown",
   "metadata": {},
   "source": [
    "# define scattering functions"
   ]
  },
  {
   "cell_type": "code",
   "execution_count": null,
   "metadata": {
    "collapsed": true
   },
   "outputs": [],
   "source": [
    "def scatter_pol(KV, N):\n",
    "    FA=1.0  # leave this to 1.0 for homopolymers\n",
    "    \n",
    "    pset=propagator.prop_set(nlam=1)\n",
    "    wigset = wd.wigner_d_vals()\n",
    "    \n",
    "    s2 = np.zeros((len(KV)),dtype=type(1+1j))\n",
    "    for ind, K in enumerate(KV):\n",
    "        s2[ind] = s2wlc(pset, N, FA, K, sequence=[0,0])/(N**2)\n",
    "        \n",
    "    return s2.real"
   ]
  },
  {
   "cell_type": "code",
   "execution_count": null,
   "metadata": {
    "collapsed": true
   },
   "outputs": [],
   "source": [
    "def scatter_copol(KV, N, FA, CHI):\n",
    "    pset=propagator.prop_set(nlam=1)\n",
    "\n",
    "    gam2 = np.zeros((len(KV), 1),dtype=type(1+1j))\n",
    "    for i, K in enumerate(KV):\n",
    "        gam2[i] = gamma2(pset, N, FA, K, CHI)\n",
    "        \n",
    "    return 1./gam2.real"
   ]
  },
  {
   "cell_type": "code",
   "execution_count": null,
   "metadata": {
    "collapsed": true
   },
   "outputs": [],
   "source": [
    "def scatter_sol(KV, N, FA, PHIP, CHIAB, CHIAS, CHIBS):\n",
    "    pset=propagator.prop_set(nlam=1)\n",
    "    mineig = np.zeros((len(KV), 1),dtype=type(1+1j))\n",
    "    \n",
    "    for i, K in enumerate(KV):\n",
    "        mineig[i], _ = gamma2sol_smallereig(pset, N, FA, PHIP, K, CHIAB, CHIAS, CHIBS)\n",
    "        \n",
    "    return mineig.real"
   ]
  }
 ],
 "metadata": {
  "kernelspec": {
   "display_name": "Python 3",
   "language": "python",
   "name": "python3"
  },
  "language_info": {
   "codemirror_mode": {
    "name": "ipython",
    "version": 3
   },
   "file_extension": ".py",
   "mimetype": "text/x-python",
   "name": "python",
   "nbconvert_exporter": "python",
   "pygments_lexer": "ipython3",
   "version": "3.6.0"
  }
 },
 "nbformat": 4,
 "nbformat_minor": 2
}
