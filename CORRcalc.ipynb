{
 "cells": [
  {
   "cell_type": "code",
   "execution_count": 130,
   "metadata": {
    "collapsed": false,
    "deletable": true,
    "editable": true
   },
   "outputs": [],
   "source": [
    "from itertools import permutations as perms\n",
    "from itertools import product\n",
    "import numpy as np\n",
    "import MultiPoint as mp\n",
    "import propagator "
   ]
  },
  {
   "cell_type": "code",
   "execution_count": 131,
   "metadata": {
    "collapsed": true,
    "deletable": true,
    "editable": true
   },
   "outputs": [],
   "source": [
    "%matplotlib inline\n",
    "import mpld3\n",
    "import matplotlib.pyplot as plt\n",
    "mpld3.enable_notebook()\n",
    "import numpy as np"
   ]
  },
  {
   "cell_type": "code",
   "execution_count": 132,
   "metadata": {
    "collapsed": false,
    "deletable": true,
    "editable": true
   },
   "outputs": [],
   "source": [
    "class phi_tilde:    \n",
    "    def __init__(self,k,alpha=0,l=0,m=0):\n",
    "        self.k=k\n",
    "        self.alpha=alpha\n",
    "        self.l=l\n",
    "        self.m=m"
   ]
  },
  {
   "cell_type": "code",
   "execution_count": 133,
   "metadata": {
    "collapsed": false,
    "deletable": true,
    "editable": true
   },
   "outputs": [],
   "source": [
    "def plotlog(x, y, alpha, xrange=1, numx=2):\n",
    "    xv = np.logspace(np.log10(x), np.log10(x) + xrange, numx)\n",
    "    C = y / (x**alpha)\n",
    "    yv = C * xv**(alpha)\n",
    "    plt.loglog(xv, yv)"
   ]
  },
  {
   "cell_type": "markdown",
   "metadata": {},
   "source": [
    "### Some simple functions"
   ]
  },
  {
   "cell_type": "code",
   "execution_count": 84,
   "metadata": {
    "collapsed": true,
    "deletable": true,
    "editable": true
   },
   "outputs": [],
   "source": [
    "def norm(K):\n",
    "    return np.linalg.norm(K)"
   ]
  },
  {
   "cell_type": "code",
   "execution_count": 85,
   "metadata": {
    "collapsed": false
   },
   "outputs": [],
   "source": [
    "def legendrep(Q1, Q2, nlam):\n",
    "    EQ1 = Q1/norm(Q1)\n",
    "    EQ2 = Q2/norm(Q2)\n",
    "    RHO = -sum(EQ1*EQ2)\n",
    "    \n",
    "    val = [1, RHO]\n",
    "    for L  in range(1, nlam-1):\n",
    "        newval = ( (2*L+1)*RHO*val[L]-L*val[L-1] ) / (L+1)\n",
    "        val.append(newval)\n",
    "        \n",
    "    return val"
   ]
  },
  {
   "cell_type": "markdown",
   "metadata": {},
   "source": [
    "## Two point correlations"
   ]
  },
  {
   "cell_type": "code",
   "execution_count": 86,
   "metadata": {
    "collapsed": false,
    "deletable": true,
    "editable": true
   },
   "outputs": [],
   "source": [
    "def I2N(N, FA, p1, sequence):\n",
    "    lam0=0\n",
    "    lam=0\n",
    "    \n",
    "    if sequence == (0,0): # AA\n",
    "        value = mp.IAAresum(N,FA,lam0,lam,p1)\n",
    "    elif sequence ==(0,1): # AB\n",
    "        value = mp.IABresum(N,FA,lam0,lam,p1)\n",
    "    elif sequence == (1,1): # BB\n",
    "        value = mp.IAAresum(N,1-FA,lam0,lam,p1)\n",
    "    else:\n",
    "        value=0.0\n",
    "    return value"
   ]
  },
  {
   "cell_type": "code",
   "execution_count": 87,
   "metadata": {
    "collapsed": true,
    "deletable": true,
    "editable": true
   },
   "outputs": [],
   "source": [
    "def twoPointCorr(pset,N,FA,phi1,phi2):\n",
    "    val = 0.0+0.0j\n",
    "    for ordered in perms([phi1,phi2]):\n",
    "        q1=-ordered[0].k\n",
    "\n",
    "        # chemical sequence, A is 1\n",
    "        sequence = (ordered[0].alpha,ordered[1].alpha)\n",
    "\n",
    "        # Calculate or look up eigenstuff\n",
    "        p = pset.get_vec_prop(q1)\n",
    "        val += I2N(N, FA, p.prop(0), sequence)\n",
    "    return val"
   ]
  },
  {
   "cell_type": "code",
   "execution_count": 88,
   "metadata": {
    "collapsed": true,
    "deletable": true,
    "editable": true
   },
   "outputs": [],
   "source": [
    "def s2wlc(pset, N, FA, K, sequence='all'):\n",
    "    s2 = np.zeros((2,2),dtype=type(1+1j))\n",
    "    k1=np.array([0,0,1])*K\n",
    "    k2=-k1\n",
    "\n",
    "    if sequence == 'all':\n",
    "        for a1 in [0,1]:\n",
    "            for a2 in [0,1]:\n",
    "                phi1 = phi_tilde(k1,alpha=a1)\n",
    "                phi2 = phi_tilde(k2,alpha=a2)\n",
    "                s2[a1][a2] = twoPointCorr(pset, N, FA, phi1, phi2)\n",
    "    else:\n",
    "        a1, a2 = sequence\n",
    "        phi1 = phi_tilde(k1,alpha=a1)\n",
    "        phi2 = phi_tilde(k2,alpha=a2)\n",
    "        s2 = twoPointCorr(pset, N, FA, phi1, phi2)\n",
    "        \n",
    "    return s2"
   ]
  },
  {
   "cell_type": "code",
   "execution_count": 128,
   "metadata": {
    "collapsed": true,
    "deletable": true,
    "editable": true
   },
   "outputs": [],
   "source": [
    "def s2inverse(pset, N, FA, K):\n",
    "    s2 = s2wlc(pset, N, FA, K)\n",
    "    s2inv = np.zeros((2,2),dtype=type(1+1j))\n",
    "    \n",
    "    [s2aa, s2ab], [s2ba, s2bb] = s2\n",
    "    det = s2aa*s2bb - s2ab*s2ba\n",
    "    \n",
    "    s2inv[0,0] = s2bb/det\n",
    "    s2inv[0,1] = -s2ab/det\n",
    "    s2inv[1,0] = -s2ba/det\n",
    "    s2inv[1,1] = s2aa/det\n",
    "    \n",
    "    return s2inv"
   ]
  },
  {
   "cell_type": "code",
   "execution_count": 127,
   "metadata": {
    "collapsed": false
   },
   "outputs": [
    {
     "data": {
      "text/plain": [
       "(32.124531680909918-9.6241432468793957e-131j)"
      ]
     },
     "execution_count": 127,
     "metadata": {},
     "output_type": "execute_result"
    }
   ],
   "source": [
    "# N = 100\n",
    "# K = 10.0\n",
    "# FA = 1.0\n",
    "\n",
    "# nlam=1\n",
    "# pset=propagator.prop_set(nlam=nlam)\n",
    "\n",
    "# s2wlc(pset, N, FA, K, sequence=[0, 0])"
   ]
  },
  {
   "cell_type": "code",
   "execution_count": 90,
   "metadata": {
    "collapsed": false,
    "deletable": true,
    "editable": true
   },
   "outputs": [],
   "source": [
    "# N=10\n",
    "# FA=0.5\n",
    "\n",
    "# nlam=4\n",
    "# pset=propagator.prop_set(nlam=nlam)\n",
    "\n",
    "# # K = 10\n",
    "# # s2wlc(pset, N, FA, K)\n",
    "\n",
    "# KV = np.logspace(-1,3,10)\n",
    "# s2 = np.zeros((2,2,len(KV)),dtype=type(1+1j))\n",
    "# for ind, K in enumerate(KV):\n",
    "#     s2[:,:,ind] = s2wlc(pset, N, FA, K)/(N**2)"
   ]
  },
  {
   "cell_type": "code",
   "execution_count": 91,
   "metadata": {
    "collapsed": false,
    "deletable": true,
    "editable": true
   },
   "outputs": [
    {
     "data": {
      "image/png": "[encoded data removed]",
      "text/html": [
       "\n",
       "\n",
       "<style>\n",
       "\n",
       "</style>\n",
       "\n",
       "<div id=\"fig_el3071145709886243448467294\"></div>\n",
       "<script>\n",
       "function mpld3_load_lib(url, callback){\n",
       "  var s = document.createElement('script');\n",
       "  s.src = url;\n",
       "  s.async = true;\n",
       "  s.onreadystatechange = s.onload = callback;\n",
       "  s.onerror = function(){console.warn(\"failed to load library \" + url);};\n",
       "  document.getElementsByTagName(\"head\")[0].appendChild(s);\n",
       "}\n",
       "\n",
       "if(typeof(mpld3) !== \"undefined\" && mpld3._mpld3IsLoaded){\n",
       "   // already loaded: just create the figure\n",
       "   !function(mpld3){\n",
       "       \n",
       "       mpld3.draw_figure(\"fig_el3071145709886243448467294\", {\"axes\": [{\"xlim\": [0.1, 1000.0], \"yscale\": \"log\", \"axesbg\": \"#FFFFFF\", \"texts\": [], \"zoomable\": true, \"images\": [], \"xdomain\": [0.1, 1000.0], \"ylim\": [0.0001, 1.0], \"paths\": [], \"sharey\": [], \"sharex\": [], \"axesbgalpha\": null, \"axes\": [{\"scale\": \"log\", \"tickformat\": null, \"grid\": {\"gridOn\": false}, \"visible\": true, \"fontsize\": 10.0, \"position\": \"bottom\", \"nticks\": 7, \"tickvalues\": null}, {\"scale\": \"log\", \"tickformat\": null, \"grid\": {\"gridOn\": false}, \"visible\": true, \"fontsize\": 10.0, \"position\": \"left\", \"nticks\": 7, \"tickvalues\": null}], \"lines\": [{\"drawstyle\": \"default\", \"color\": \"#0000FF\", \"yindex\": 1, \"coordinates\": \"data\", \"dasharray\": \"none\", \"zorder\": 2, \"alpha\": 1, \"xindex\": 0, \"linewidth\": 1.0, \"data\": \"data01\", \"id\": \"el307114553047184\"}, {\"drawstyle\": \"default\", \"color\": \"#007F00\", \"yindex\": 1, \"coordinates\": \"data\", \"dasharray\": \"none\", \"zorder\": 2, \"alpha\": 1, \"xindex\": 0, \"linewidth\": 1.0, \"data\": \"data02\", \"id\": \"el307114570991952\"}], \"markers\": [], \"id\": \"el307114570992528\", \"ydomain\": [0.0001, 1.0], \"collections\": [], \"xscale\": \"log\", \"bbox\": [0.125, 0.125, 0.775, 0.775]}], \"height\": 288.0, \"width\": 432.0, \"plugins\": [{\"type\": \"reset\"}, {\"enabled\": false, \"button\": true, \"type\": \"zoom\"}, {\"enabled\": false, \"button\": true, \"type\": \"boxzoom\"}], \"data\": {\"data02\": [[10.0, 0.1], [100.0, 0.01]], \"data01\": [[0.1, 0.9952151476545259], [0.2782559402207124, 0.9637988862182465], [0.774263682681127, 0.7635232822859366], [2.1544346900318834, 0.25672034910668096], [5.994842503189409, 0.056828175238638555], [16.68100537200059, 0.019175498755349137], [46.41588833612777, 0.006820716724860767], [129.15496650148827, 0.002439213930659809], [359.38136638046257, 0.0008750442949863176], [1000.0, 0.0003142725983339925]]}, \"id\": \"el307114570988624\"});\n",
       "   }(mpld3);\n",
       "}else if(typeof define === \"function\" && define.amd){\n",
       "   // require.js is available: use it to load d3/mpld3\n",
       "   require.config({paths: {d3: \"https://mpld3.github.io/js/d3.v3.min\"}});\n",
       "   require([\"d3\"], function(d3){\n",
       "      window.d3 = d3;\n",
       "      mpld3_load_lib(\"https://mpld3.github.io/js/mpld3.v0.3.js\", function(){\n",
       "         \n",
       "         mpld3.draw_figure(\"fig_el3071145709886243448467294\", {\"axes\": [{\"xlim\": [0.1, 1000.0], \"yscale\": \"log\", \"axesbg\": \"#FFFFFF\", \"texts\": [], \"zoomable\": true, \"images\": [], \"xdomain\": [0.1, 1000.0], \"ylim\": [0.0001, 1.0], \"paths\": [], \"sharey\": [], \"sharex\": [], \"axesbgalpha\": null, \"axes\": [{\"scale\": \"log\", \"tickformat\": null, \"grid\": {\"gridOn\": false}, \"visible\": true, \"fontsize\": 10.0, \"position\": \"bottom\", \"nticks\": 7, \"tickvalues\": null}, {\"scale\": \"log\", \"tickformat\": null, \"grid\": {\"gridOn\": false}, \"visible\": true, \"fontsize\": 10.0, \"position\": \"left\", \"nticks\": 7, \"tickvalues\": null}], \"lines\": [{\"drawstyle\": \"default\", \"color\": \"#0000FF\", \"yindex\": 1, \"coordinates\": \"data\", \"dasharray\": \"none\", \"zorder\": 2, \"alpha\": 1, \"xindex\": 0, \"linewidth\": 1.0, \"data\": \"data01\", \"id\": \"el307114553047184\"}, {\"drawstyle\": \"default\", \"color\": \"#007F00\", \"yindex\": 1, \"coordinates\": \"data\", \"dasharray\": \"none\", \"zorder\": 2, \"alpha\": 1, \"xindex\": 0, \"linewidth\": 1.0, \"data\": \"data02\", \"id\": \"el307114570991952\"}], \"markers\": [], \"id\": \"el307114570992528\", \"ydomain\": [0.0001, 1.0], \"collections\": [], \"xscale\": \"log\", \"bbox\": [0.125, 0.125, 0.775, 0.775]}], \"height\": 288.0, \"width\": 432.0, \"plugins\": [{\"type\": \"reset\"}, {\"enabled\": false, \"button\": true, \"type\": \"zoom\"}, {\"enabled\": false, \"button\": true, \"type\": \"boxzoom\"}], \"data\": {\"data02\": [[10.0, 0.1], [100.0, 0.01]], \"data01\": [[0.1, 0.9952151476545259], [0.2782559402207124, 0.9637988862182465], [0.774263682681127, 0.7635232822859366], [2.1544346900318834, 0.25672034910668096], [5.994842503189409, 0.056828175238638555], [16.68100537200059, 0.019175498755349137], [46.41588833612777, 0.006820716724860767], [129.15496650148827, 0.002439213930659809], [359.38136638046257, 0.0008750442949863176], [1000.0, 0.0003142725983339925]]}, \"id\": \"el307114570988624\"});\n",
       "      });\n",
       "    });\n",
       "}else{\n",
       "    // require.js not available: dynamically load d3 & mpld3\n",
       "    mpld3_load_lib(\"https://mpld3.github.io/js/d3.v3.min.js\", function(){\n",
       "         mpld3_load_lib(\"https://mpld3.github.io/js/mpld3.v0.3.js\", function(){\n",
       "                 \n",
       "                 mpld3.draw_figure(\"fig_el3071145709886243448467294\", {\"axes\": [{\"xlim\": [0.1, 1000.0], \"yscale\": \"log\", \"axesbg\": \"#FFFFFF\", \"texts\": [], \"zoomable\": true, \"images\": [], \"xdomain\": [0.1, 1000.0], \"ylim\": [0.0001, 1.0], \"paths\": [], \"sharey\": [], \"sharex\": [], \"axesbgalpha\": null, \"axes\": [{\"scale\": \"log\", \"tickformat\": null, \"grid\": {\"gridOn\": false}, \"visible\": true, \"fontsize\": 10.0, \"position\": \"bottom\", \"nticks\": 7, \"tickvalues\": null}, {\"scale\": \"log\", \"tickformat\": null, \"grid\": {\"gridOn\": false}, \"visible\": true, \"fontsize\": 10.0, \"position\": \"left\", \"nticks\": 7, \"tickvalues\": null}], \"lines\": [{\"drawstyle\": \"default\", \"color\": \"#0000FF\", \"yindex\": 1, \"coordinates\": \"data\", \"dasharray\": \"none\", \"zorder\": 2, \"alpha\": 1, \"xindex\": 0, \"linewidth\": 1.0, \"data\": \"data01\", \"id\": \"el307114553047184\"}, {\"drawstyle\": \"default\", \"color\": \"#007F00\", \"yindex\": 1, \"coordinates\": \"data\", \"dasharray\": \"none\", \"zorder\": 2, \"alpha\": 1, \"xindex\": 0, \"linewidth\": 1.0, \"data\": \"data02\", \"id\": \"el307114570991952\"}], \"markers\": [], \"id\": \"el307114570992528\", \"ydomain\": [0.0001, 1.0], \"collections\": [], \"xscale\": \"log\", \"bbox\": [0.125, 0.125, 0.775, 0.775]}], \"height\": 288.0, \"width\": 432.0, \"plugins\": [{\"type\": \"reset\"}, {\"enabled\": false, \"button\": true, \"type\": \"zoom\"}, {\"enabled\": false, \"button\": true, \"type\": \"boxzoom\"}], \"data\": {\"data02\": [[10.0, 0.1], [100.0, 0.01]], \"data01\": [[0.1, 0.9952151476545259], [0.2782559402207124, 0.9637988862182465], [0.774263682681127, 0.7635232822859366], [2.1544346900318834, 0.25672034910668096], [5.994842503189409, 0.056828175238638555], [16.68100537200059, 0.019175498755349137], [46.41588833612777, 0.006820716724860767], [129.15496650148827, 0.002439213930659809], [359.38136638046257, 0.0008750442949863176], [1000.0, 0.0003142725983339925]]}, \"id\": \"el307114570988624\"});\n",
       "            })\n",
       "         });\n",
       "}\n",
       "</script>"
      ],
      "text/plain": [
       "<matplotlib.figure.Figure at 0x11073c050>"
      ]
     },
     "metadata": {},
     "output_type": "display_data"
    }
   ],
   "source": [
    "# plt.loglog(KV, np.real(np.sum(np.vstack([s2[0,0,:], s2[0,1,:], \\\n",
    "#                                          s2[1,0,:], s2[1,1,:]]), axis=0)))\n",
    "# plotlog(1e1,1e-1,-1)\n",
    "# plt.show()"
   ]
  },
  {
   "cell_type": "markdown",
   "metadata": {
    "deletable": true,
    "editable": true
   },
   "source": [
    "## Three point correlations"
   ]
  },
  {
   "cell_type": "code",
   "execution_count": 92,
   "metadata": {
    "collapsed": false,
    "deletable": true,
    "editable": true
   },
   "outputs": [],
   "source": [
    "def I3N(N,FA,lam0_1,lam_1,mu1,\\\n",
    "            lam0_2,lam_2,mu2,\\\n",
    "            p1,p2,\\\n",
    "            sequence):\n",
    "    \n",
    "    value = 0\n",
    "    if sequence == (0,0,0): # AAA\n",
    "        value = mp.IAAAresum(N,FA,lam0_1,lam_1,\\\n",
    "                                  lam0_2,lam_2,\\\n",
    "                                  p1.prop(mu1),\\\n",
    "                                  p2.prop(mu2))\n",
    "    elif sequence == (0,0,1): # AAB\n",
    "        value = mp.IABBresum(N,1-FA,lam0_1,lam_1,\\\n",
    "                                  lam0_2,lam_2,\\\n",
    "                                  p1.prop(mu1),\\\n",
    "                                  p2.prop(mu2))\n",
    "    elif sequence == (0,1,1): # ABB\n",
    "        value = mp.IABBresum(N,FA,lam0_1,lam_1,\\\n",
    "                                  lam0_2,lam_2,\\\n",
    "                                  p1.prop(mu1),\\\n",
    "                                  p2.prop(mu2))\n",
    "    elif sequence == (1,1,1): # BBB\n",
    "        fb=1.0-FA\n",
    "        # Same as AAAA except fb instead of FA\n",
    "        value = mp.IAAAresum(N,fb,lam0_1,lam_1,\\\n",
    "                                  lam0_2,lam_2,\\\n",
    "                                  p1.prop(mu1),\\\n",
    "                                  p2.prop(mu2))\n",
    "    else:\n",
    "        pass\n",
    "    \n",
    "    return value"
   ]
  },
  {
   "cell_type": "markdown",
   "metadata": {
    "deletable": true,
    "editable": true
   },
   "source": [
    "### Space ordering of wavevectors"
   ]
  },
  {
   "cell_type": "code",
   "execution_count": 93,
   "metadata": {
    "collapsed": false,
    "deletable": true,
    "editable": true
   },
   "outputs": [],
   "source": [
    "# Inputs\n",
    "#     pset (propagator.prop_set), the set of propagators used so FAr\n",
    "#     N (float), number of Khun lengths\n",
    "#     FA (float), fraction of type A\n",
    "#     prop1 (phi_tilde), contains k and alpha\n",
    "def threePointCorr(pset,N,FA,phi1,phi2,phi3):\n",
    "#     print('Warning: Winger D hasnt been implemented!')\n",
    "    nlam=pset.nlam\n",
    "    # The first and last lam must be zero \n",
    "    mu1=0\n",
    "    mu2=0\n",
    "    lam0_1=0\n",
    "    lam_2=0\n",
    "    \n",
    "    total = 0.0+0.0j\n",
    "    # The Points can be visited in any order\n",
    "    for ordered in perms([phi1,phi2,phi3]):\n",
    "        # while phi1.k is the absolute Fourier position\n",
    "        # q1 is the relitive Fourier position of 1 and 2\n",
    "        q1=-ordered[0].k\n",
    "        q2=-ordered[0].k-ordered[1].k\n",
    "        \n",
    "        # chemical sequence, A is 1\n",
    "        sequence = (ordered[0].alpha,ordered[1].alpha,ordered[2].alpha)\n",
    "        \n",
    "        # Calculate or look up eigenstuff\n",
    "        p1 = pset.get_vec_prop(q1)\n",
    "        p2 = pset.get_vec_prop(q2)\n",
    "\n",
    "        # Calculate Legendre polynomial\n",
    "        PL = legendrep(q1, q2, nlam)\n",
    "        \n",
    "        # Angular sum\n",
    "        for lam in range(0,nlam):\n",
    "            lam_1, lam0_2 = lam, lam\n",
    "            value = I3N(N,FA,lam0_1,lam_1,mu1,\\\n",
    "                        lam0_2,lam_2,mu2,\\\n",
    "                        p1,p2,\\\n",
    "                        sequence)\n",
    "\n",
    "            # Wigner D goes here!\n",
    "            value *= PL[lam]\n",
    "\n",
    "            total = total + value\n",
    "    return total"
   ]
  },
  {
   "cell_type": "code",
   "execution_count": 149,
   "metadata": {
    "collapsed": true
   },
   "outputs": [],
   "source": [
    "def s3wlc_zeroq3(pset, N, FA, Ks, sequence='all'):\n",
    "    k1, k2, k3 = Ks\n",
    "    s3 = np.zeros((2,2,2),dtype=type(1+1j))\n",
    "\n",
    "    FB = 1.0-FA\n",
    "    s2 = s2wlc(pset, N, FA, norm(k1))\n",
    "    s3[0][0][0] = s2[0][0]*FA*N\n",
    "    s3[0][0][1] = s2[0][0]*FB*N\n",
    "    s3[0][1][0] = s2[0][1]*FA*N\n",
    "    s3[0][1][1] = s2[0][1]*FB*N\n",
    "    s3[1][0][0] = s2[1][0]*FA*N\n",
    "    s3[1][0][1] = s2[1][0]*FB*N\n",
    "    s3[1][1][0] = s2[1][1]*FA*N\n",
    "    s3[1][1][1] = s2[1][1]*FB*N\n",
    "    \n",
    "    return s3"
   ]
  },
  {
   "cell_type": "code",
   "execution_count": 150,
   "metadata": {
    "collapsed": true,
    "deletable": true,
    "editable": true
   },
   "outputs": [],
   "source": [
    "def s3wlc(pset, N, FA, Ks, sequence='all'):\n",
    "    k1, k2, k3 = Ks\n",
    "    print(norm(k3))\n",
    "    if norm(k1+k2+k3) >= 1e-10:\n",
    "        raise ValueError('Qs must add up to zero')\n",
    "\n",
    "    if sequence=='all':\n",
    "        s3 = np.zeros((2,2,2),dtype=type(1+1j))\n",
    "        if norm(k3) < 1e-5:\n",
    "            return s3wlc_zeroq3(pset, N, FA, Ks, sequence='all')\n",
    "        \n",
    "        for a1, a2, a3 in product([0,1], repeat=3):\n",
    "            phi1 = phi_tilde(k1,alpha=a1)\n",
    "            phi2 = phi_tilde(k2,alpha=a2)\n",
    "            phi3 = phi_tilde(k3,alpha=a3)\n",
    "\n",
    "            s3[a1][a2][a3] = threePointCorr(pset, N, FA, \\\n",
    "                                            phi1, phi2, phi3)\n",
    "    else:\n",
    "        a1, a2, a3 = sequence\n",
    "        if norm(k3) < 1e-5:\n",
    "            s3 = s3wlc_zeroq3(pset, N, FA, Ks, sequence='all')\n",
    "            return s3[a1][a2][a3]\n",
    "\n",
    "        phi1 = phi_tilde(k1,alpha=a1)\n",
    "        phi2 = phi_tilde(k2,alpha=a2)\n",
    "        phi3 = phi_tilde(k3,alpha=a3)\n",
    "        s3 = threePointCorr(pset, N, FA, phi1, phi2, phi3)\n",
    "        \n",
    "    return s3"
   ]
  },
  {
   "cell_type": "code",
   "execution_count": 151,
   "metadata": {
    "collapsed": true
   },
   "outputs": [],
   "source": [
    "def set3Ks(K):\n",
    "    k1=np.array([0,0,1])*K\n",
    "    k2=np.array([0,0,-1])*K\n",
    "    k3=-k1-k2\n",
    "    \n",
    "#     k1 = np.array([1,0,0])*K\n",
    "#     k2 = np.array([-0.5,0.5*np.sqrt(3),0])*K\n",
    "#     k3 = -k1-k2\n",
    "\n",
    "    Ks = [k1, k2, k3]\n",
    "    return Ks"
   ]
  },
  {
   "cell_type": "code",
   "execution_count": 152,
   "metadata": {
    "collapsed": false
   },
   "outputs": [
    {
     "name": "stdout",
     "output_type": "stream",
     "text": [
      "0.0\n",
      "[array([ 0.,  0.,  1.]), array([ 0.,  0., -1.]), array([-0., -0.,  0.])]\n",
      "(12196450.6964+0j)\n"
     ]
    }
   ],
   "source": [
    "# N = 1000\n",
    "# FA = 1.0\n",
    "# K = 1e0\n",
    "\n",
    "# nlam = 6\n",
    "# pset=propagator.prop_set(nlam=nlam)\n",
    "\n",
    "# Ks = set3Ks(K)\n",
    "# s3 = s3wlc(pset, N, FA, Ks, sequence=[0, 0, 0])\n",
    "\n",
    "# print(Ks)\n",
    "# print(s3)"
   ]
  },
  {
   "cell_type": "code",
   "execution_count": 95,
   "metadata": {
    "collapsed": false,
    "deletable": true,
    "editable": true
   },
   "outputs": [
    {
     "data": {
      "image/png": "[encoded data removed]",
      "text/html": [
       "\n",
       "\n",
       "<style>\n",
       "\n",
       "</style>\n",
       "\n",
       "<div id=\"fig_el3071145650483367898088333\"></div>\n",
       "<script>\n",
       "function mpld3_load_lib(url, callback){\n",
       "  var s = document.createElement('script');\n",
       "  s.src = url;\n",
       "  s.async = true;\n",
       "  s.onreadystatechange = s.onload = callback;\n",
       "  s.onerror = function(){console.warn(\"failed to load library \" + url);};\n",
       "  document.getElementsByTagName(\"head\")[0].appendChild(s);\n",
       "}\n",
       "\n",
       "if(typeof(mpld3) !== \"undefined\" && mpld3._mpld3IsLoaded){\n",
       "   // already loaded: just create the figure\n",
       "   !function(mpld3){\n",
       "       \n",
       "       mpld3.draw_figure(\"fig_el3071145650483367898088333\", {\"axes\": [{\"xlim\": [0.01, 100000.0], \"yscale\": \"log\", \"axesbg\": \"#FFFFFF\", \"texts\": [{\"v_baseline\": \"auto\", \"h_anchor\": \"middle\", \"color\": \"#000000\", \"text\": \"lam = 20\", \"coordinates\": \"axes\", \"zorder\": 3, \"alpha\": 1, \"fontsize\": 12.0, \"position\": [0.49999999999999994, 1.0224014336917562], \"rotation\": -0.0, \"id\": \"el307114550919376\"}], \"zoomable\": true, \"images\": [], \"xdomain\": [0.01, 100000.0], \"ylim\": [1e-09, 10000000000000.0], \"paths\": [], \"sharey\": [], \"sharex\": [], \"axesbgalpha\": null, \"axes\": [{\"scale\": \"log\", \"tickformat\": null, \"grid\": {\"gridOn\": false}, \"visible\": true, \"fontsize\": 10.0, \"position\": \"bottom\", \"nticks\": 10, \"tickvalues\": null}, {\"scale\": \"log\", \"tickformat\": null, \"grid\": {\"gridOn\": false}, \"visible\": true, \"fontsize\": 10.0, \"position\": \"left\", \"nticks\": 14, \"tickvalues\": null}], \"lines\": [{\"drawstyle\": \"default\", \"color\": \"#FF0000\", \"yindex\": 1, \"coordinates\": \"data\", \"dasharray\": \"6,6\", \"zorder\": 2, \"alpha\": 1, \"xindex\": 0, \"linewidth\": 1.0, \"data\": \"data01\", \"id\": \"el307114558128336\"}, {\"drawstyle\": \"default\", \"color\": \"#FF0000\", \"yindex\": 1, \"coordinates\": \"data\", \"dasharray\": \"none\", \"zorder\": 2, \"alpha\": 1, \"xindex\": 0, \"linewidth\": 1.0, \"data\": \"data02\", \"id\": \"el307114560410256\"}, {\"drawstyle\": \"default\", \"color\": \"#0000FF\", \"yindex\": 1, \"coordinates\": \"data\", \"dasharray\": \"none\", \"zorder\": 2, \"alpha\": 1, \"xindex\": 0, \"linewidth\": 1.0, \"data\": \"data03\", \"id\": \"el307114558128016\"}], \"markers\": [], \"id\": \"el307114565818448\", \"ydomain\": [1e-09, 10000000000000.0], \"collections\": [], \"xscale\": \"log\", \"bbox\": [0.125, 0.125, 0.775, 0.775]}], \"height\": 288.0, \"width\": 432.0, \"plugins\": [{\"type\": \"reset\"}, {\"enabled\": false, \"button\": true, \"type\": \"zoom\"}, {\"enabled\": false, \"button\": true, \"type\": \"boxzoom\"}], \"data\": {\"data02\": [[0.07196856730011521, 0.9996607359569095], [0.1, 0.9993603836899689], [0.13894954943731375, 0.9987654320890174], [0.19306977288832497, 0.997618778871209], [0.2682695795279725, 0.9954099419824504], [0.372759372031494, 0.9911653440847623], [0.517947467923121, 0.9830441801297033], [0.7196856730011517, 0.9676356984187435], [1.0, 0.9388662276505211], [1.3894954943731375, 0.8867630976878255], [1.9306977288832496, 0.7976277005069975], [2.6826957952797246, 0.6600475447520064], [3.727593720314938, 0.4813153331160451], [5.179474679231207, 0.30038422978498913], [7.196856730011514, 0.16671500490174593], [10.0, 0.0965782546589534], [13.894954943731374, 0.057744351625042996], [19.306977288832496, 0.03415971980024293], [26.826957952797247, 0.019990134648266485], [37.27593720314938, 0.011653959434748222], [51.794746792312075, 0.006782931541028217], [71.96856730011514, 0.003941483663116173], [100.0, 0.002287520858337734], [138.9495494373136, 0.0013263942238098004], [193.06977288832496, 0.0007685575843040818], [268.26957952797216, 0.0004450880810736834], [372.7593720314938, 0.0002576473621881706], [517.9474679231213, 0.00014906679950768526], [719.6856730011514, 8.61349646008121e-05], [1000.0, 4.9595561299326126e-05], [1389.4954943731361, 2.8347990172864408e-05], [1930.6977288832495, 1.6021367174873986e-05], [2682.695795279722, 8.931102334144171e-06], [3727.593720314938, 4.908672797801875e-06], [5179.474679231202, 2.663114761681951e-06], [7196.856730011514, 1.4290280855564055e-06], [10000.0, 7.600637216859001e-07], [13894.95494373136, 4.014897652105858e-07], [19306.977288832495, 2.1097638117302146e-07], [26826.95795279722, 1.1043366912933726e-07], [37275.93720314938, 5.763941161142478e-08], [51794.74679231202, 3.0020748411900985e-08], [71968.56730011514, 1.5611891710109796e-08], [100000.0, 8.109691218469272e-09]], \"data03\": [[10.0, 0.005], [1000.0, 5e-07]], \"data01\": [[0.01, 6454959682240.947], [0.013894954943731374, 897023974778.1211], [0.019306977288832496, 124670660805.38223], [0.02682695795279726, 17330874197.219875], [0.0372759372031494, 11275953.49282548], [0.0517947467923121, 922133.7447608482], [0.07196856730011521, 0.9996607359569095], [0.1, 0.9993603836899689], [0.13894954943731375, 0.9987654320890174], [0.19306977288832497, 0.997618778871209], [0.2682695795279725, 0.9954099419824504], [0.372759372031494, 0.9911653440847623], [0.517947467923121, 0.9830441801297033], [0.7196856730011517, 0.9676356984187435], [1.0, 0.9388662276505211], [1.3894954943731375, 0.8867630976878255], [1.9306977288832496, 0.7976277005069975], [2.6826957952797246, 0.6600475447520064], [3.727593720314938, 0.4813153331160451], [5.179474679231207, 0.30038422978498913], [7.196856730011514, 0.16671500490174593], [10.0, 0.0965782546589534], [13.894954943731374, 0.057744351625042996], [19.306977288832496, 0.03415971980024293], [26.826957952797247, 0.019990134648266485], [37.27593720314938, 0.011653959434748222], [51.794746792312075, 0.006782931541028217], [71.96856730011514, 0.003941483663116173], [100.0, 0.002287520858337734], [138.9495494373136, 0.0013263942238098004], [193.06977288832496, 0.0007685575843040818], [268.26957952797216, 0.0004450880810736834], [372.7593720314938, 0.0002576473621881706], [517.9474679231213, 0.00014906679950768526], [719.6856730011514, 8.61349646008121e-05], [1000.0, 4.9595561299326126e-05], [1389.4954943731361, 2.8347990172864408e-05], [1930.6977288832495, 1.6021367174873986e-05], [2682.695795279722, 8.931102334144171e-06], [3727.593720314938, 4.908672797801875e-06], [5179.474679231202, 2.663114761681951e-06], [7196.856730011514, 1.4290280855564055e-06], [10000.0, 7.600637216859001e-07], [13894.95494373136, 4.014897652105858e-07], [19306.977288832495, 2.1097638117302146e-07], [26826.95795279722, 1.1043366912933726e-07], [37275.93720314938, 5.763941161142478e-08], [51794.74679231202, 3.0020748411900985e-08], [71968.56730011514, 1.5611891710109796e-08], [100000.0, 8.109691218469272e-09]]}, \"id\": \"el307114565048336\"});\n",
       "   }(mpld3);\n",
       "}else if(typeof define === \"function\" && define.amd){\n",
       "   // require.js is available: use it to load d3/mpld3\n",
       "   require.config({paths: {d3: \"https://mpld3.github.io/js/d3.v3.min\"}});\n",
       "   require([\"d3\"], function(d3){\n",
       "      window.d3 = d3;\n",
       "      mpld3_load_lib(\"https://mpld3.github.io/js/mpld3.v0.3.js\", function(){\n",
       "         \n",
       "         mpld3.draw_figure(\"fig_el3071145650483367898088333\", {\"axes\": [{\"xlim\": [0.01, 100000.0], \"yscale\": \"log\", \"axesbg\": \"#FFFFFF\", \"texts\": [{\"v_baseline\": \"auto\", \"h_anchor\": \"middle\", \"color\": \"#000000\", \"text\": \"lam = 20\", \"coordinates\": \"axes\", \"zorder\": 3, \"alpha\": 1, \"fontsize\": 12.0, \"position\": [0.49999999999999994, 1.0224014336917562], \"rotation\": -0.0, \"id\": \"el307114550919376\"}], \"zoomable\": true, \"images\": [], \"xdomain\": [0.01, 100000.0], \"ylim\": [1e-09, 10000000000000.0], \"paths\": [], \"sharey\": [], \"sharex\": [], \"axesbgalpha\": null, \"axes\": [{\"scale\": \"log\", \"tickformat\": null, \"grid\": {\"gridOn\": false}, \"visible\": true, \"fontsize\": 10.0, \"position\": \"bottom\", \"nticks\": 10, \"tickvalues\": null}, {\"scale\": \"log\", \"tickformat\": null, \"grid\": {\"gridOn\": false}, \"visible\": true, \"fontsize\": 10.0, \"position\": \"left\", \"nticks\": 14, \"tickvalues\": null}], \"lines\": [{\"drawstyle\": \"default\", \"color\": \"#FF0000\", \"yindex\": 1, \"coordinates\": \"data\", \"dasharray\": \"6,6\", \"zorder\": 2, \"alpha\": 1, \"xindex\": 0, \"linewidth\": 1.0, \"data\": \"data01\", \"id\": \"el307114558128336\"}, {\"drawstyle\": \"default\", \"color\": \"#FF0000\", \"yindex\": 1, \"coordinates\": \"data\", \"dasharray\": \"none\", \"zorder\": 2, \"alpha\": 1, \"xindex\": 0, \"linewidth\": 1.0, \"data\": \"data02\", \"id\": \"el307114560410256\"}, {\"drawstyle\": \"default\", \"color\": \"#0000FF\", \"yindex\": 1, \"coordinates\": \"data\", \"dasharray\": \"none\", \"zorder\": 2, \"alpha\": 1, \"xindex\": 0, \"linewidth\": 1.0, \"data\": \"data03\", \"id\": \"el307114558128016\"}], \"markers\": [], \"id\": \"el307114565818448\", \"ydomain\": [1e-09, 10000000000000.0], \"collections\": [], \"xscale\": \"log\", \"bbox\": [0.125, 0.125, 0.775, 0.775]}], \"height\": 288.0, \"width\": 432.0, \"plugins\": [{\"type\": \"reset\"}, {\"enabled\": false, \"button\": true, \"type\": \"zoom\"}, {\"enabled\": false, \"button\": true, \"type\": \"boxzoom\"}], \"data\": {\"data02\": [[0.07196856730011521, 0.9996607359569095], [0.1, 0.9993603836899689], [0.13894954943731375, 0.9987654320890174], [0.19306977288832497, 0.997618778871209], [0.2682695795279725, 0.9954099419824504], [0.372759372031494, 0.9911653440847623], [0.517947467923121, 0.9830441801297033], [0.7196856730011517, 0.9676356984187435], [1.0, 0.9388662276505211], [1.3894954943731375, 0.8867630976878255], [1.9306977288832496, 0.7976277005069975], [2.6826957952797246, 0.6600475447520064], [3.727593720314938, 0.4813153331160451], [5.179474679231207, 0.30038422978498913], [7.196856730011514, 0.16671500490174593], [10.0, 0.0965782546589534], [13.894954943731374, 0.057744351625042996], [19.306977288832496, 0.03415971980024293], [26.826957952797247, 0.019990134648266485], [37.27593720314938, 0.011653959434748222], [51.794746792312075, 0.006782931541028217], [71.96856730011514, 0.003941483663116173], [100.0, 0.002287520858337734], [138.9495494373136, 0.0013263942238098004], [193.06977288832496, 0.0007685575843040818], [268.26957952797216, 0.0004450880810736834], [372.7593720314938, 0.0002576473621881706], [517.9474679231213, 0.00014906679950768526], [719.6856730011514, 8.61349646008121e-05], [1000.0, 4.9595561299326126e-05], [1389.4954943731361, 2.8347990172864408e-05], [1930.6977288832495, 1.6021367174873986e-05], [2682.695795279722, 8.931102334144171e-06], [3727.593720314938, 4.908672797801875e-06], [5179.474679231202, 2.663114761681951e-06], [7196.856730011514, 1.4290280855564055e-06], [10000.0, 7.600637216859001e-07], [13894.95494373136, 4.014897652105858e-07], [19306.977288832495, 2.1097638117302146e-07], [26826.95795279722, 1.1043366912933726e-07], [37275.93720314938, 5.763941161142478e-08], [51794.74679231202, 3.0020748411900985e-08], [71968.56730011514, 1.5611891710109796e-08], [100000.0, 8.109691218469272e-09]], \"data03\": [[10.0, 0.005], [1000.0, 5e-07]], \"data01\": [[0.01, 6454959682240.947], [0.013894954943731374, 897023974778.1211], [0.019306977288832496, 124670660805.38223], [0.02682695795279726, 17330874197.219875], [0.0372759372031494, 11275953.49282548], [0.0517947467923121, 922133.7447608482], [0.07196856730011521, 0.9996607359569095], [0.1, 0.9993603836899689], [0.13894954943731375, 0.9987654320890174], [0.19306977288832497, 0.997618778871209], [0.2682695795279725, 0.9954099419824504], [0.372759372031494, 0.9911653440847623], [0.517947467923121, 0.9830441801297033], [0.7196856730011517, 0.9676356984187435], [1.0, 0.9388662276505211], [1.3894954943731375, 0.8867630976878255], [1.9306977288832496, 0.7976277005069975], [2.6826957952797246, 0.6600475447520064], [3.727593720314938, 0.4813153331160451], [5.179474679231207, 0.30038422978498913], [7.196856730011514, 0.16671500490174593], [10.0, 0.0965782546589534], [13.894954943731374, 0.057744351625042996], [19.306977288832496, 0.03415971980024293], [26.826957952797247, 0.019990134648266485], [37.27593720314938, 0.011653959434748222], [51.794746792312075, 0.006782931541028217], [71.96856730011514, 0.003941483663116173], [100.0, 0.002287520858337734], [138.9495494373136, 0.0013263942238098004], [193.06977288832496, 0.0007685575843040818], [268.26957952797216, 0.0004450880810736834], [372.7593720314938, 0.0002576473621881706], [517.9474679231213, 0.00014906679950768526], [719.6856730011514, 8.61349646008121e-05], [1000.0, 4.9595561299326126e-05], [1389.4954943731361, 2.8347990172864408e-05], [1930.6977288832495, 1.6021367174873986e-05], [2682.695795279722, 8.931102334144171e-06], [3727.593720314938, 4.908672797801875e-06], [5179.474679231202, 2.663114761681951e-06], [7196.856730011514, 1.4290280855564055e-06], [10000.0, 7.600637216859001e-07], [13894.95494373136, 4.014897652105858e-07], [19306.977288832495, 2.1097638117302146e-07], [26826.95795279722, 1.1043366912933726e-07], [37275.93720314938, 5.763941161142478e-08], [51794.74679231202, 3.0020748411900985e-08], [71968.56730011514, 1.5611891710109796e-08], [100000.0, 8.109691218469272e-09]]}, \"id\": \"el307114565048336\"});\n",
       "      });\n",
       "    });\n",
       "}else{\n",
       "    // require.js not available: dynamically load d3 & mpld3\n",
       "    mpld3_load_lib(\"https://mpld3.github.io/js/d3.v3.min.js\", function(){\n",
       "         mpld3_load_lib(\"https://mpld3.github.io/js/mpld3.v0.3.js\", function(){\n",
       "                 \n",
       "                 mpld3.draw_figure(\"fig_el3071145650483367898088333\", {\"axes\": [{\"xlim\": [0.01, 100000.0], \"yscale\": \"log\", \"axesbg\": \"#FFFFFF\", \"texts\": [{\"v_baseline\": \"auto\", \"h_anchor\": \"middle\", \"color\": \"#000000\", \"text\": \"lam = 20\", \"coordinates\": \"axes\", \"zorder\": 3, \"alpha\": 1, \"fontsize\": 12.0, \"position\": [0.49999999999999994, 1.0224014336917562], \"rotation\": -0.0, \"id\": \"el307114550919376\"}], \"zoomable\": true, \"images\": [], \"xdomain\": [0.01, 100000.0], \"ylim\": [1e-09, 10000000000000.0], \"paths\": [], \"sharey\": [], \"sharex\": [], \"axesbgalpha\": null, \"axes\": [{\"scale\": \"log\", \"tickformat\": null, \"grid\": {\"gridOn\": false}, \"visible\": true, \"fontsize\": 10.0, \"position\": \"bottom\", \"nticks\": 10, \"tickvalues\": null}, {\"scale\": \"log\", \"tickformat\": null, \"grid\": {\"gridOn\": false}, \"visible\": true, \"fontsize\": 10.0, \"position\": \"left\", \"nticks\": 14, \"tickvalues\": null}], \"lines\": [{\"drawstyle\": \"default\", \"color\": \"#FF0000\", \"yindex\": 1, \"coordinates\": \"data\", \"dasharray\": \"6,6\", \"zorder\": 2, \"alpha\": 1, \"xindex\": 0, \"linewidth\": 1.0, \"data\": \"data01\", \"id\": \"el307114558128336\"}, {\"drawstyle\": \"default\", \"color\": \"#FF0000\", \"yindex\": 1, \"coordinates\": \"data\", \"dasharray\": \"none\", \"zorder\": 2, \"alpha\": 1, \"xindex\": 0, \"linewidth\": 1.0, \"data\": \"data02\", \"id\": \"el307114560410256\"}, {\"drawstyle\": \"default\", \"color\": \"#0000FF\", \"yindex\": 1, \"coordinates\": \"data\", \"dasharray\": \"none\", \"zorder\": 2, \"alpha\": 1, \"xindex\": 0, \"linewidth\": 1.0, \"data\": \"data03\", \"id\": \"el307114558128016\"}], \"markers\": [], \"id\": \"el307114565818448\", \"ydomain\": [1e-09, 10000000000000.0], \"collections\": [], \"xscale\": \"log\", \"bbox\": [0.125, 0.125, 0.775, 0.775]}], \"height\": 288.0, \"width\": 432.0, \"plugins\": [{\"type\": \"reset\"}, {\"enabled\": false, \"button\": true, \"type\": \"zoom\"}, {\"enabled\": false, \"button\": true, \"type\": \"boxzoom\"}], \"data\": {\"data02\": [[0.07196856730011521, 0.9996607359569095], [0.1, 0.9993603836899689], [0.13894954943731375, 0.9987654320890174], [0.19306977288832497, 0.997618778871209], [0.2682695795279725, 0.9954099419824504], [0.372759372031494, 0.9911653440847623], [0.517947467923121, 0.9830441801297033], [0.7196856730011517, 0.9676356984187435], [1.0, 0.9388662276505211], [1.3894954943731375, 0.8867630976878255], [1.9306977288832496, 0.7976277005069975], [2.6826957952797246, 0.6600475447520064], [3.727593720314938, 0.4813153331160451], [5.179474679231207, 0.30038422978498913], [7.196856730011514, 0.16671500490174593], [10.0, 0.0965782546589534], [13.894954943731374, 0.057744351625042996], [19.306977288832496, 0.03415971980024293], [26.826957952797247, 0.019990134648266485], [37.27593720314938, 0.011653959434748222], [51.794746792312075, 0.006782931541028217], [71.96856730011514, 0.003941483663116173], [100.0, 0.002287520858337734], [138.9495494373136, 0.0013263942238098004], [193.06977288832496, 0.0007685575843040818], [268.26957952797216, 0.0004450880810736834], [372.7593720314938, 0.0002576473621881706], [517.9474679231213, 0.00014906679950768526], [719.6856730011514, 8.61349646008121e-05], [1000.0, 4.9595561299326126e-05], [1389.4954943731361, 2.8347990172864408e-05], [1930.6977288832495, 1.6021367174873986e-05], [2682.695795279722, 8.931102334144171e-06], [3727.593720314938, 4.908672797801875e-06], [5179.474679231202, 2.663114761681951e-06], [7196.856730011514, 1.4290280855564055e-06], [10000.0, 7.600637216859001e-07], [13894.95494373136, 4.014897652105858e-07], [19306.977288832495, 2.1097638117302146e-07], [26826.95795279722, 1.1043366912933726e-07], [37275.93720314938, 5.763941161142478e-08], [51794.74679231202, 3.0020748411900985e-08], [71968.56730011514, 1.5611891710109796e-08], [100000.0, 8.109691218469272e-09]], \"data03\": [[10.0, 0.005], [1000.0, 5e-07]], \"data01\": [[0.01, 6454959682240.947], [0.013894954943731374, 897023974778.1211], [0.019306977288832496, 124670660805.38223], [0.02682695795279726, 17330874197.219875], [0.0372759372031494, 11275953.49282548], [0.0517947467923121, 922133.7447608482], [0.07196856730011521, 0.9996607359569095], [0.1, 0.9993603836899689], [0.13894954943731375, 0.9987654320890174], [0.19306977288832497, 0.997618778871209], [0.2682695795279725, 0.9954099419824504], [0.372759372031494, 0.9911653440847623], [0.517947467923121, 0.9830441801297033], [0.7196856730011517, 0.9676356984187435], [1.0, 0.9388662276505211], [1.3894954943731375, 0.8867630976878255], [1.9306977288832496, 0.7976277005069975], [2.6826957952797246, 0.6600475447520064], [3.727593720314938, 0.4813153331160451], [5.179474679231207, 0.30038422978498913], [7.196856730011514, 0.16671500490174593], [10.0, 0.0965782546589534], [13.894954943731374, 0.057744351625042996], [19.306977288832496, 0.03415971980024293], [26.826957952797247, 0.019990134648266485], [37.27593720314938, 0.011653959434748222], [51.794746792312075, 0.006782931541028217], [71.96856730011514, 0.003941483663116173], [100.0, 0.002287520858337734], [138.9495494373136, 0.0013263942238098004], [193.06977288832496, 0.0007685575843040818], [268.26957952797216, 0.0004450880810736834], [372.7593720314938, 0.0002576473621881706], [517.9474679231213, 0.00014906679950768526], [719.6856730011514, 8.61349646008121e-05], [1000.0, 4.9595561299326126e-05], [1389.4954943731361, 2.8347990172864408e-05], [1930.6977288832495, 1.6021367174873986e-05], [2682.695795279722, 8.931102334144171e-06], [3727.593720314938, 4.908672797801875e-06], [5179.474679231202, 2.663114761681951e-06], [7196.856730011514, 1.4290280855564055e-06], [10000.0, 7.600637216859001e-07], [13894.95494373136, 4.014897652105858e-07], [19306.977288832495, 2.1097638117302146e-07], [26826.95795279722, 1.1043366912933726e-07], [37275.93720314938, 5.763941161142478e-08], [51794.74679231202, 3.0020748411900985e-08], [71968.56730011514, 1.5611891710109796e-08], [100000.0, 8.109691218469272e-09]]}, \"id\": \"el307114565048336\"});\n",
       "            })\n",
       "         });\n",
       "}\n",
       "</script>"
      ],
      "text/plain": [
       "<matplotlib.figure.Figure at 0x110191c10>"
      ]
     },
     "metadata": {},
     "output_type": "display_data"
    }
   ],
   "source": [
    "# N=1\n",
    "# FA=1.0\n",
    "\n",
    "# nlam = 20\n",
    "# pset=propagator.prop_set(nlam=nlam)\n",
    "\n",
    "# sequence = [0,0,0]\n",
    "# KV = np.logspace(-2,5,50)\n",
    "# s3 = np.zeros((len(KV)),dtype=type(1+1j))\n",
    "# for ind, K in enumerate(KV):\n",
    "#     k = setKs(K)\n",
    "#     s3[ind] = s3wlc(pset, N, FA, k, sequence=sequence)/(N**3)\n",
    "\n",
    "# col = 1\n",
    "# plt.loglog(KV, abs(s3), '--', color=[col, 0.0, 1-col])\n",
    "# plt.loglog(KV[s3>0], abs(s3[s3>0]), '-', color=[col, 0.0, 1-col])\n",
    "# plotlog(1e1, 5e-3, -2, xrange=2)\n",
    "# plt.title('lam = ' + str(nlam))\n",
    "    \n",
    "# plt.show()"
   ]
  },
  {
   "cell_type": "code",
   "execution_count": 39,
   "metadata": {
    "collapsed": true
   },
   "outputs": [],
   "source": [
    "# KV = np.logspace(-2,5,50)\n",
    "# s3 = np.zeros((2,2,2,len(KV)),dtype=type(1+1j))\n",
    "# for ind, K in enumerate(KV):\n",
    "#     k = setKs(K)\n",
    "#     s3[:,:,:,ind] = s3wlc(pset, N, FA, k)/(N**3)"
   ]
  },
  {
   "cell_type": "markdown",
   "metadata": {
    "deletable": true,
    "editable": true
   },
   "source": [
    "## Four point correlations"
   ]
  },
  {
   "cell_type": "markdown",
   "metadata": {
    "deletable": true,
    "editable": true
   },
   "source": [
    "\\begin{align*}\n",
    "\\underset{\\alpha_{1}\\alpha_{2}\\alpha_{3}\\alpha_{4}}{I_{1,2,3}^{\\left(4\\right)}\\left(N\\right)}= & \\int_{0}^{N}ds_{3}\\int_{0}^{s_{4}}ds_{2}\\int_{0}^{s_{3}}ds_{1}\\int_{0}^{s_{1}}ds_{0}\\delta_{\\alpha\\left(s_{1}\\right),\\alpha_{1}}\\delta_{\\alpha\\left(s_{2}\\right),\\alpha_{2}}\\delta_{\\alpha\\left(s_{3}\\right),\\alpha_{3}}\\delta_{\\alpha\\left(s_{4}\\right),\\alpha_{4}}\\\\\n",
    " & \\cdot\\mathcal{G}_{\\lambda0_{1}\\lambda_{1}}^{\\mu_{1}}\\left(s_{4}-s_{3},K_{1}\\right)\\mathcal{G}_{\\lambda0_{2}\\lambda_{2}}^{\\mu_{2}}\\left(s_{3}-s_{2},K_{2}\\right)\\mathcal{G}_{\\lambda0_{3}\\lambda_{3}}^{\\mu_{3}}\\left(s_{2}-s_{1},K_{2}\\right)\n",
    "\\end{align*}"
   ]
  },
  {
   "cell_type": "code",
   "execution_count": 40,
   "metadata": {
    "collapsed": false,
    "deletable": true,
    "editable": true
   },
   "outputs": [],
   "source": [
    "def I4N(N,FA,lam0_1,lam_1,mu1,\\\n",
    "           lam0_2,lam_2,mu2,\\\n",
    "           lam0_3,lam_3,mu3,\\\n",
    "           p1,p2,p3,\\\n",
    "           sequence):\n",
    "    \n",
    "    value = 0\n",
    "    if sequence == (0,0,0,0): # AAAA\n",
    "        value = mp.IAAAAresum(N,FA,lam0_1,lam_1,\\\n",
    "                                   lam0_2,lam_2,\\\n",
    "                                   lam0_3,lam_3,\\\n",
    "                                   p1.prop(mu1),\\\n",
    "                                   p2.prop(mu2),\\\n",
    "                                   p3.prop(mu3))\n",
    "    elif sequence == (0,0,0,1): # AAAB\n",
    "        value = mp.IAAABresum(N,FA,lam0_1,lam_1,\\\n",
    "                                   lam0_2,lam_2,\\\n",
    "                                   lam0_3,lam_3,\\\n",
    "                                   p1.prop(mu1),\\\n",
    "                                   p2.prop(mu2),\\\n",
    "                                   p3.prop(mu3))   \n",
    "    elif sequence == (0,0,1,1): # AABB\n",
    "        value = mp.IAABBresum(N,FA,lam0_1,lam_1,\\\n",
    "                                   lam0_2,lam_2,\\\n",
    "                                   lam0_3,lam_3,\\\n",
    "                                   p1.prop(mu1),\\\n",
    "                                   p2.prop(mu2),\\\n",
    "                                   p3.prop(mu3))\n",
    "    elif sequence == (0,1,1,1): # ABBB\n",
    "        fb=1.0-FA\n",
    "        # Same as AAAB except fb instead of FA\n",
    "        value = mp.IAAABresum(N,fb,lam0_1,lam_1,\\\n",
    "                                   lam0_2,lam_2,\\\n",
    "                                   lam0_3,lam_3,\\\n",
    "                                   p1.prop(mu1),\\\n",
    "                                   p2.prop(mu2),\\\n",
    "                                   p3.prop(mu3))\n",
    "    elif sequence == (1,1,1,1): # BBBB\n",
    "        fb=1.0-FA\n",
    "        # Same as AAAA except fb instead of FA\n",
    "        value = mp.IAAAAresum(N,fb,lam0_1,lam_1,\\\n",
    "                                   lam0_2,lam_2,\\\n",
    "                                   lam0_3,lam_3,\\\n",
    "                                   p1.prop(mu1),\\\n",
    "                                   p2.prop(mu2),\\\n",
    "                                   p3.prop(mu3))\n",
    "    else:\n",
    "        pass\n",
    "    \n",
    "    return value"
   ]
  },
  {
   "cell_type": "markdown",
   "metadata": {
    "deletable": true,
    "editable": true
   },
   "source": [
    "### Space ordering of wavevectors\n",
    "\n",
    "$\\textbf{fourPointCorr}$ calculates $\\int_0^N d^4s\\left\\langle \\tilde{\\psi}_{1}\\tilde{\\psi}_{2}\\tilde{\\psi}_{3}\\tilde{\\psi}_{3}\\right\\rangle $.\n",
    "The $\\psi$s are not orientation dependent. This will change when\n",
    "I introduce Maier-Saupe interaction.\n",
    "The average is over the unperturbed distribution of a single WLC that\n",
    "is N segments long with $f_{A}$ being of A type.\n",
    "Each $\\tilde{\\psi}$ has an associated chemical identity, $\\alpha$, and Fourier location, $\\vec{k}$."
   ]
  },
  {
   "cell_type": "code",
   "execution_count": 41,
   "metadata": {
    "collapsed": true,
    "deletable": true,
    "editable": true
   },
   "outputs": [],
   "source": [
    "# Inputs\n",
    "#     pset (propagator.prop_set), the set of propagators used so FAr\n",
    "#     N (float), number of Khun lengths\n",
    "#     FA (float), fraction of type A\n",
    "#     prop1 (phi_tilde), contains k and alpha\n",
    "def fourPointCorr(pset,N,FA,phi1,phi2,phi3,phi4):\n",
    "    print('Warning: Winger D hasnt been implemented!')\n",
    "    nlam=pset.nlam\n",
    "    # The first and last lam must be zero \n",
    "    mu1=0 \n",
    "    mu3=0\n",
    "    lam0_1=0\n",
    "    lam_3=0\n",
    "    \n",
    "    total = 0.0+0.0j\n",
    "    # The Points can be visited in any order\n",
    "    for ordered in perms([phi1,phi2,phi3,phi4]):\n",
    "        # while phi1.k is the absolute Fourier position\n",
    "        # q1 is the relitive Fourier position of 1 and 2\n",
    "        q1=-ordered[0].k\n",
    "        q2=-ordered[0].k-ordered[1].k\n",
    "        q3=-ordered[0].k-ordered[1].k-ordered[2].k\n",
    "\n",
    "        # chemical sequence, A is 1\n",
    "        sequence = (ordered[0].alpha,ordered[1].alpha,\\\n",
    "                    ordered[2].alpha,ordered[3].alpha)\n",
    "        \n",
    "        # Calculate or look up eigenstuff\n",
    "        p1 = pset.get_vec_prop(q1)\n",
    "        p2 = pset.get_vec_prop(q2)\n",
    "        p3 = pset.get_vec_prop(q3)\n",
    "\n",
    "        # Angular sum\n",
    "        for lam_1 in range(0,nlam):\n",
    "            for lam_2 in range(0,nlam):\n",
    "                for mu2 in range(-min(lam_2,lam_3),\\\n",
    "                                 min(lam_2,lam_3)+1): \n",
    "                    lam0_2=lam_1\n",
    "                    lam0_3=lam_2\n",
    "                    \n",
    "                    value=I4N(N,FA,lam0_1,lam_1,mu1,\\\n",
    "                               lam0_2,lam_2,mu2,\\\n",
    "                               lam0_3,lam_3,mu3,\\\n",
    "                               p1,p2,p3,\\\n",
    "                               sequence) \n",
    "                        \n",
    "                    # Wigner D goes here!\n",
    "                    \n",
    "                    total = total + value\n",
    "    return total"
   ]
  },
  {
   "cell_type": "code",
   "execution_count": 42,
   "metadata": {
    "collapsed": true,
    "deletable": true,
    "editable": true
   },
   "outputs": [],
   "source": [
    "def s4wlc(pset, N, FA, Ks, sequence='all'):\n",
    "    s4 = np.zeros((2,2,2,2),dtype=type(1+1j))\n",
    "    k1, k2, k3, k4 = Ks\n",
    "    if norm(k1+k2+k3+k4) >= 1e-10:\n",
    "        print(k1, k2, k3, k4)\n",
    "        print(k1+k2+k3+k4)\n",
    "        raise ValueError('Qs must add up to zero')\n",
    "    \n",
    "    if sequence == 'all':\n",
    "        for a1, a2, a3, a4 in product([0,1], repeat=4):\n",
    "            phi1 = phi_tilde(k1,alpha=a1)\n",
    "            phi2 = phi_tilde(k2,alpha=a2)\n",
    "            phi3 = phi_tilde(k3,alpha=a3)\n",
    "            phi4 = phi_tilde(k4,alpha=a4)\n",
    "            s4[a1][a2][a3][a4] = fourPointCorr(pset, N, FA, \\\n",
    "                                               phi1, phi2, phi3, phi4)\n",
    "    else:\n",
    "        a1, a2, a3, a4 = sequence\n",
    "        phi1 = phi_tilde(k1,alpha=a1)\n",
    "        phi2 = phi_tilde(k2,alpha=a2)\n",
    "        phi3 = phi_tilde(k3,alpha=a3)\n",
    "        phi4 = phi_tilde(k4,alpha=a4)\n",
    "        s4 = fourPointCorr(pset, N, FA, \\\n",
    "                           phi1, phi2, phi3, phi4)\n",
    "            \n",
    "    return s4"
   ]
  },
  {
   "cell_type": "code",
   "execution_count": 48,
   "metadata": {
    "collapsed": false,
    "deletable": true,
    "editable": true
   },
   "outputs": [
    {
     "name": "stdout",
     "output_type": "stream",
     "text": [
      "Warning: Winger D hasnt been implemented!\n",
      "Warning: Winger D hasnt been implemented!\n",
      "Warning: Winger D hasnt been implemented!\n",
      "Warning: Winger D hasnt been implemented!\n",
      "Warning: Winger D hasnt been implemented!\n",
      "Warning: Winger D hasnt been implemented!\n",
      "Warning: Winger D hasnt been implemented!\n",
      "Warning: Winger D hasnt been implemented!\n",
      "Warning: Winger D hasnt been implemented!\n",
      "Warning: Winger D hasnt been implemented!\n"
     ]
    }
   ],
   "source": [
    "# N=1.0\n",
    "# FA=1.0\n",
    "\n",
    "# def setKs(K):\n",
    "#     k1=np.array([0,0,1])*K\n",
    "#     k2=np.array([0,0,1])*K\n",
    "#     k3=-k1\n",
    "#     k4=-k2\n",
    "\n",
    "#     k = [k1, k2, k3, k4]\n",
    "#     return k\n",
    "\n",
    "# # K = 10.0\n",
    "# # k = setKs(K)\n",
    "# # s4wlc(pset, N, FA, k)\n",
    "\n",
    "# nlam=10\n",
    "# pset=propagator.prop_set(nlam=nlam)\n",
    "\n",
    "# sequence = [0, 0, 0, 0]\n",
    "# KV = np.logspace(-1,3,10)\n",
    "# s4 = np.zeros((len(KV)),dtype=type(1+1j))\n",
    "# for ind, K in enumerate(KV):\n",
    "#     Ks = setKs(K)\n",
    "#     s4[ind] = s4wlc(pset, N, FA, Ks, sequence=sequence)/(N**4)"
   ]
  },
  {
   "cell_type": "code",
   "execution_count": 49,
   "metadata": {
    "collapsed": false
   },
   "outputs": [
    {
     "data": {
      "image/png": "[encoded data removed]",
      "text/html": [
       "\n",
       "\n",
       "<style>\n",
       "\n",
       "</style>\n",
       "\n",
       "<div id=\"fig_el3071145712566561727336455\"></div>\n",
       "<script>\n",
       "function mpld3_load_lib(url, callback){\n",
       "  var s = document.createElement('script');\n",
       "  s.src = url;\n",
       "  s.async = true;\n",
       "  s.onreadystatechange = s.onload = callback;\n",
       "  s.onerror = function(){console.warn(\"failed to load library \" + url);};\n",
       "  document.getElementsByTagName(\"head\")[0].appendChild(s);\n",
       "}\n",
       "\n",
       "if(typeof(mpld3) !== \"undefined\" && mpld3._mpld3IsLoaded){\n",
       "   // already loaded: just create the figure\n",
       "   !function(mpld3){\n",
       "       \n",
       "       mpld3.draw_figure(\"fig_el3071145712566561727336455\", {\"axes\": [{\"xlim\": [0.1, 1000.0], \"yscale\": \"log\", \"axesbg\": \"#FFFFFF\", \"texts\": [], \"zoomable\": true, \"images\": [], \"xdomain\": [0.1, 1000.0], \"ylim\": [1e-07, 10000000000000.0], \"paths\": [], \"sharey\": [], \"sharex\": [], \"axesbgalpha\": null, \"axes\": [{\"scale\": \"log\", \"tickformat\": null, \"grid\": {\"gridOn\": false}, \"visible\": true, \"fontsize\": 10.0, \"position\": \"bottom\", \"nticks\": 7, \"tickvalues\": null}, {\"scale\": \"log\", \"tickformat\": null, \"grid\": {\"gridOn\": false}, \"visible\": true, \"fontsize\": 10.0, \"position\": \"left\", \"nticks\": 13, \"tickvalues\": null}], \"lines\": [{\"drawstyle\": \"default\", \"color\": \"#0000FF\", \"yindex\": 1, \"coordinates\": \"data\", \"dasharray\": \"none\", \"zorder\": 2, \"alpha\": 1, \"xindex\": 0, \"linewidth\": 1.0, \"data\": \"data01\", \"id\": \"el307114558720272\"}, {\"drawstyle\": \"default\", \"color\": \"#007F00\", \"yindex\": 1, \"coordinates\": \"data\", \"dasharray\": \"none\", \"zorder\": 2, \"alpha\": 1, \"xindex\": 0, \"linewidth\": 1.0, \"data\": \"data02\", \"id\": \"el307114571257680\"}], \"markers\": [], \"id\": \"el307114571403024\", \"ydomain\": [1e-07, 10000000000000.0], \"collections\": [], \"xscale\": \"log\", \"bbox\": [0.125, 0.125, 0.775, 0.775]}], \"height\": 288.0, \"width\": 432.0, \"plugins\": [{\"type\": \"reset\"}, {\"enabled\": false, \"button\": true, \"type\": \"zoom\"}, {\"enabled\": false, \"button\": true, \"type\": \"boxzoom\"}], \"data\": {\"data02\": [[10.0, 0.005], [1000.0, 5e-07]], \"data01\": [[0.1, 2525152165538.5747], [0.2782559402207124, 0.9966727163040826], [0.774263682681127, 0.9750156025792293], [2.1544346900318834, 0.826893573385254], [5.994842503189409, 0.3121895271227064], [16.68100537200059, 0.03668992205245647], [46.41588833612777, 0.004869065068908761], [129.15496650148827, 0.0006321909967580696], [359.38136638046257, 8.110141014717075e-05], [1000.0, 1.099493195206862e-05]]}, \"id\": \"el307114571256656\"});\n",
       "   }(mpld3);\n",
       "}else if(typeof define === \"function\" && define.amd){\n",
       "   // require.js is available: use it to load d3/mpld3\n",
       "   require.config({paths: {d3: \"https://mpld3.github.io/js/d3.v3.min\"}});\n",
       "   require([\"d3\"], function(d3){\n",
       "      window.d3 = d3;\n",
       "      mpld3_load_lib(\"https://mpld3.github.io/js/mpld3.v0.3.js\", function(){\n",
       "         \n",
       "         mpld3.draw_figure(\"fig_el3071145712566561727336455\", {\"axes\": [{\"xlim\": [0.1, 1000.0], \"yscale\": \"log\", \"axesbg\": \"#FFFFFF\", \"texts\": [], \"zoomable\": true, \"images\": [], \"xdomain\": [0.1, 1000.0], \"ylim\": [1e-07, 10000000000000.0], \"paths\": [], \"sharey\": [], \"sharex\": [], \"axesbgalpha\": null, \"axes\": [{\"scale\": \"log\", \"tickformat\": null, \"grid\": {\"gridOn\": false}, \"visible\": true, \"fontsize\": 10.0, \"position\": \"bottom\", \"nticks\": 7, \"tickvalues\": null}, {\"scale\": \"log\", \"tickformat\": null, \"grid\": {\"gridOn\": false}, \"visible\": true, \"fontsize\": 10.0, \"position\": \"left\", \"nticks\": 13, \"tickvalues\": null}], \"lines\": [{\"drawstyle\": \"default\", \"color\": \"#0000FF\", \"yindex\": 1, \"coordinates\": \"data\", \"dasharray\": \"none\", \"zorder\": 2, \"alpha\": 1, \"xindex\": 0, \"linewidth\": 1.0, \"data\": \"data01\", \"id\": \"el307114558720272\"}, {\"drawstyle\": \"default\", \"color\": \"#007F00\", \"yindex\": 1, \"coordinates\": \"data\", \"dasharray\": \"none\", \"zorder\": 2, \"alpha\": 1, \"xindex\": 0, \"linewidth\": 1.0, \"data\": \"data02\", \"id\": \"el307114571257680\"}], \"markers\": [], \"id\": \"el307114571403024\", \"ydomain\": [1e-07, 10000000000000.0], \"collections\": [], \"xscale\": \"log\", \"bbox\": [0.125, 0.125, 0.775, 0.775]}], \"height\": 288.0, \"width\": 432.0, \"plugins\": [{\"type\": \"reset\"}, {\"enabled\": false, \"button\": true, \"type\": \"zoom\"}, {\"enabled\": false, \"button\": true, \"type\": \"boxzoom\"}], \"data\": {\"data02\": [[10.0, 0.005], [1000.0, 5e-07]], \"data01\": [[0.1, 2525152165538.5747], [0.2782559402207124, 0.9966727163040826], [0.774263682681127, 0.9750156025792293], [2.1544346900318834, 0.826893573385254], [5.994842503189409, 0.3121895271227064], [16.68100537200059, 0.03668992205245647], [46.41588833612777, 0.004869065068908761], [129.15496650148827, 0.0006321909967580696], [359.38136638046257, 8.110141014717075e-05], [1000.0, 1.099493195206862e-05]]}, \"id\": \"el307114571256656\"});\n",
       "      });\n",
       "    });\n",
       "}else{\n",
       "    // require.js not available: dynamically load d3 & mpld3\n",
       "    mpld3_load_lib(\"https://mpld3.github.io/js/d3.v3.min.js\", function(){\n",
       "         mpld3_load_lib(\"https://mpld3.github.io/js/mpld3.v0.3.js\", function(){\n",
       "                 \n",
       "                 mpld3.draw_figure(\"fig_el3071145712566561727336455\", {\"axes\": [{\"xlim\": [0.1, 1000.0], \"yscale\": \"log\", \"axesbg\": \"#FFFFFF\", \"texts\": [], \"zoomable\": true, \"images\": [], \"xdomain\": [0.1, 1000.0], \"ylim\": [1e-07, 10000000000000.0], \"paths\": [], \"sharey\": [], \"sharex\": [], \"axesbgalpha\": null, \"axes\": [{\"scale\": \"log\", \"tickformat\": null, \"grid\": {\"gridOn\": false}, \"visible\": true, \"fontsize\": 10.0, \"position\": \"bottom\", \"nticks\": 7, \"tickvalues\": null}, {\"scale\": \"log\", \"tickformat\": null, \"grid\": {\"gridOn\": false}, \"visible\": true, \"fontsize\": 10.0, \"position\": \"left\", \"nticks\": 13, \"tickvalues\": null}], \"lines\": [{\"drawstyle\": \"default\", \"color\": \"#0000FF\", \"yindex\": 1, \"coordinates\": \"data\", \"dasharray\": \"none\", \"zorder\": 2, \"alpha\": 1, \"xindex\": 0, \"linewidth\": 1.0, \"data\": \"data01\", \"id\": \"el307114558720272\"}, {\"drawstyle\": \"default\", \"color\": \"#007F00\", \"yindex\": 1, \"coordinates\": \"data\", \"dasharray\": \"none\", \"zorder\": 2, \"alpha\": 1, \"xindex\": 0, \"linewidth\": 1.0, \"data\": \"data02\", \"id\": \"el307114571257680\"}], \"markers\": [], \"id\": \"el307114571403024\", \"ydomain\": [1e-07, 10000000000000.0], \"collections\": [], \"xscale\": \"log\", \"bbox\": [0.125, 0.125, 0.775, 0.775]}], \"height\": 288.0, \"width\": 432.0, \"plugins\": [{\"type\": \"reset\"}, {\"enabled\": false, \"button\": true, \"type\": \"zoom\"}, {\"enabled\": false, \"button\": true, \"type\": \"boxzoom\"}], \"data\": {\"data02\": [[10.0, 0.005], [1000.0, 5e-07]], \"data01\": [[0.1, 2525152165538.5747], [0.2782559402207124, 0.9966727163040826], [0.774263682681127, 0.9750156025792293], [2.1544346900318834, 0.826893573385254], [5.994842503189409, 0.3121895271227064], [16.68100537200059, 0.03668992205245647], [46.41588833612777, 0.004869065068908761], [129.15496650148827, 0.0006321909967580696], [359.38136638046257, 8.110141014717075e-05], [1000.0, 1.099493195206862e-05]]}, \"id\": \"el307114571256656\"});\n",
       "            })\n",
       "         });\n",
       "}\n",
       "</script>"
      ],
      "text/plain": [
       "<matplotlib.figure.Figure at 0x11077d750>"
      ]
     },
     "metadata": {},
     "output_type": "display_data"
    }
   ],
   "source": [
    "# plt.loglog(KV, s4)\n",
    "# plotlog(1e1, 5e-3, -2, xrange=2)\n",
    "# plt.show()"
   ]
  },
  {
   "cell_type": "code",
   "execution_count": null,
   "metadata": {
    "collapsed": true
   },
   "outputs": [],
   "source": [
    "# KV = np.logspace(-1,3,10)\n",
    "# s4 = np.zeros((2,2,2,2,len(KV)),dtype=type(1+1j))\n",
    "# for ind, K in enumerate(KV):\n",
    "#     Ks = setKs(K)\n",
    "#     s4[:,:,:,:,ind] = s4wlc(pset, N, FA, Ks)/(N**4)"
   ]
  },
  {
   "cell_type": "code",
   "execution_count": 48,
   "metadata": {
    "collapsed": false,
    "deletable": true,
    "editable": true
   },
   "outputs": [],
   "source": [
    "# plt.loglog(KV, s4[0,0,0,0,:])\n",
    "# plotlog(1e1, 5e-3, -2, xrange=2)\n",
    "# plt.show()"
   ]
  },
  {
   "cell_type": "markdown",
   "metadata": {
    "deletable": true,
    "editable": true
   },
   "source": [
    "## Rigid rod limit structure FActor\n",
    "\n",
    "Consider the special case that the four wavevectors form a straight line.\n",
    "\n",
    "The structure FActor of a rigid rod after rotation average is\n",
    "\\begin{eqnarray}\n",
    "I_4 = \n",
    "\\int_{0}^{L} ds_1\n",
    "\\int_{0}^{L} ds_2\n",
    "\\int_{0}^{L} ds_3\n",
    "\\int_{0}^{L} ds_4\n",
    "\\frac{\\sin{kL(s_1 + s_2 - s_3 - s_4)}}\n",
    "{kL(s_1 + s_2 - s_3 - s_4)}\n",
    "\\end{eqnarray}"
   ]
  },
  {
   "cell_type": "code",
   "execution_count": null,
   "metadata": {
    "collapsed": true,
    "deletable": true,
    "editable": true
   },
   "outputs": [],
   "source": []
  }
 ],
 "metadata": {
  "anaconda-cloud": {},
  "kernelspec": {
   "display_name": "Python 2",
   "language": "python",
   "name": "python2"
  },
  "language_info": {
   "codemirror_mode": {
    "name": "ipython",
    "version": 2
   },
   "file_extension": ".py",
   "mimetype": "text/x-python",
   "name": "python",
   "nbconvert_exporter": "python",
   "pygments_lexer": "ipython2",
   "version": "2.7.13"
  },
  "latex_envs": {
   "LaTeX_envs_menu_present": true,
   "autocomplete": true,
   "bibliofile": "biblio.bib",
   "cite_by": "apalike",
   "current_citInitial": 1,
   "eqLabelWithNumbers": true,
   "eqNumInitial": 1,
   "hotkeys": {
    "equation": "Ctrl-E",
    "itemize": "Ctrl-I"
   },
   "labels_anchors": false,
   "latex_user_defs": false,
   "report_style_numbering": false,
   "user_envs_cfg": false
  },
  "toc": {
   "colors": {
    "hover_highlight": "#DAA520",
    "running_highlight": "#FF0000",
    "selected_highlight": "#FFD700"
   },
   "moveMenuLeft": true,
   "nav_menu": {
    "height": "12px",
    "width": "252px"
   },
   "navigate_menu": true,
   "number_sections": true,
   "sideBar": true,
   "threshold": 4,
   "toc_cell": false,
   "toc_section_display": "block",
   "toc_window_display": false,
   "widenNotebook": false
  }
 },
 "nbformat": 4,
 "nbformat_minor": 1
}
