{
 "cells": [
  {
   "cell_type": "code",
   "execution_count": 1,
   "metadata": {
    "collapsed": false,
    "deletable": true,
    "editable": true
   },
   "outputs": [],
   "source": [
    "from itertools import permutations as perms\n",
    "from itertools import product\n",
    "import numpy as np\n",
    "import MultiPoint as mp\n",
    "import propagator \n",
    "import wignerD as wd"
   ]
  },
  {
   "cell_type": "code",
   "execution_count": 2,
   "metadata": {
    "collapsed": true,
    "deletable": true,
    "editable": true
   },
   "outputs": [],
   "source": [
    "%matplotlib inline\n",
    "import mpld3\n",
    "import matplotlib.pyplot as plt\n",
    "mpld3.enable_notebook()\n",
    "import numpy as np"
   ]
  },
  {
   "cell_type": "code",
   "execution_count": 3,
   "metadata": {
    "collapsed": false,
    "deletable": true,
    "editable": true
   },
   "outputs": [],
   "source": [
    "class phi_tilde:    \n",
    "    def __init__(self,k,alpha=0,l=0,m=0):\n",
    "        self.k=k\n",
    "        self.alpha=alpha\n",
    "        self.l=l\n",
    "        self.m=m"
   ]
  },
  {
   "cell_type": "code",
   "execution_count": 4,
   "metadata": {
    "collapsed": false,
    "deletable": true,
    "editable": true
   },
   "outputs": [],
   "source": [
    "def plotlog(x, y, alpha, xrange=1, numx=2):\n",
    "    xv = np.logspace(np.log10(x), np.log10(x) + xrange, numx)\n",
    "    C = y / (x**alpha)\n",
    "    yv = C * xv**(alpha)\n",
    "    plt.loglog(xv, yv)"
   ]
  },
  {
   "cell_type": "markdown",
   "metadata": {
    "deletable": true,
    "editable": true
   },
   "source": [
    "### Some simple functions"
   ]
  },
  {
   "cell_type": "code",
   "execution_count": 5,
   "metadata": {
    "collapsed": true,
    "deletable": true,
    "editable": true
   },
   "outputs": [],
   "source": [
    "def norm(K):\n",
    "    return np.linalg.norm(K)"
   ]
  },
  {
   "cell_type": "code",
   "execution_count": 6,
   "metadata": {
    "collapsed": false,
    "deletable": true,
    "editable": true
   },
   "outputs": [],
   "source": [
    "def legendrep(Q1, Q2, nlam):\n",
    "    EQ1 = Q1/norm(Q1)\n",
    "    EQ2 = Q2/norm(Q2)\n",
    "    RHO = -sum(EQ1*EQ2)\n",
    "    \n",
    "    val = [1, RHO]\n",
    "    for L  in range(1, nlam-1):\n",
    "        newval = ( (2*L+1)*RHO*val[L]-L*val[L-1] ) / (L+1)\n",
    "        val.append(newval)\n",
    "        \n",
    "    return val"
   ]
  },
  {
   "cell_type": "code",
   "execution_count": 7,
   "metadata": {
    "collapsed": false,
    "deletable": true,
    "editable": true
   },
   "outputs": [
    {
     "name": "stdout",
     "output_type": "stream",
     "text": [
      "[1, -1.0, 1.0, -1.0, 1.0, -1.0, 1.0, -1.0, 1.0, -1.0]\n",
      "[1, 1.0, 1.0, 1.0, 1.0, 1.0, 1.0, 1.0, 1.0, 1.0]\n"
     ]
    }
   ],
   "source": [
    "print(legendrep([1, 0, 0], [1, 0, 0], 10))\n",
    "print(legendrep([1, 0, 0], [-1, 0, 0], 10))"
   ]
  },
  {
   "cell_type": "markdown",
   "metadata": {
    "deletable": true,
    "editable": true,
    "heading_collapsed": true
   },
   "source": [
    "## 1. Two point correlations"
   ]
  },
  {
   "cell_type": "code",
   "execution_count": 8,
   "metadata": {
    "collapsed": false,
    "deletable": true,
    "editable": true,
    "hidden": true
   },
   "outputs": [],
   "source": [
    "def I2N(N, FA, p1, sequence):\n",
    "    lam0=0\n",
    "    lam=0\n",
    "    \n",
    "    if sequence == (0,0): # AA\n",
    "        value = mp.IAAresum(N,FA,lam0,lam,p1)\n",
    "    elif sequence ==(0,1): # AB\n",
    "        value = mp.IABresum(N,FA,lam0,lam,p1)\n",
    "    elif sequence == (1,1): # BB\n",
    "        value = mp.IAAresum(N,1-FA,lam0,lam,p1)\n",
    "    else:\n",
    "        value=0.0\n",
    "    return value"
   ]
  },
  {
   "cell_type": "code",
   "execution_count": 9,
   "metadata": {
    "collapsed": true,
    "deletable": true,
    "editable": true,
    "hidden": true
   },
   "outputs": [],
   "source": [
    "def twoPointCorr(pset,N,FA,phi1,phi2):\n",
    "    val = 0.0+0.0j\n",
    "    for ordered in perms([phi1,phi2]):\n",
    "        q1=-ordered[0].k\n",
    "\n",
    "        # chemical sequence, A is 1\n",
    "        sequence = (ordered[0].alpha,ordered[1].alpha)\n",
    "\n",
    "        # Calculate or look up eigenstuff\n",
    "        p = pset.get_vec_prop(q1)\n",
    "        val += I2N(N, FA, p.prop(0), sequence)\n",
    "    return val"
   ]
  },
  {
   "cell_type": "code",
   "execution_count": 10,
   "metadata": {
    "collapsed": true,
    "deletable": true,
    "editable": true,
    "hidden": true
   },
   "outputs": [],
   "source": [
    "def s2wlc_zeroq(pset, N, FA):\n",
    "    s2 = np.zeros((2,2),dtype='complex')\n",
    "\n",
    "    FB = 1.0-FA\n",
    "    s2[0][0] = FA*FA\n",
    "    s2[1][1] = FB*FB\n",
    "    s2[0][1] = FA*FB\n",
    "    s2[1][0] = FB*FA\n",
    "    \n",
    "    return s2"
   ]
  },
  {
   "cell_type": "code",
   "execution_count": 11,
   "metadata": {
    "collapsed": true,
    "deletable": true,
    "editable": true,
    "hidden": true
   },
   "outputs": [],
   "source": [
    "def s2wlc(pset, N, FA, K, sequence='all'):\n",
    "    s2 = np.zeros((2,2),dtype=type(1+1j))\n",
    "    k1=np.array([0,0,1])*K\n",
    "    k2=-k1\n",
    "\n",
    "    if sequence == 'all':\n",
    "        if norm(k1) < 1e-5:\n",
    "            s2 = s2wlc_zeroq(pset, N, FA)\n",
    "            return s2\n",
    "            \n",
    "        for a1 in [0,1]:\n",
    "            for a2 in [0,1]:\n",
    "                phi1 = phi_tilde(k1,alpha=a1)\n",
    "                phi2 = phi_tilde(k2,alpha=a2)\n",
    "                s2[a1][a2] = twoPointCorr(pset, N, FA, phi1, phi2)\n",
    "    else:\n",
    "        a1, a2 = sequence\n",
    "        if norm(k1) < 1e-5:\n",
    "            s2 = s2wlc_zeroq(pset, N, FA)\n",
    "            return s2[a1][a2]\n",
    "        \n",
    "        phi1 = phi_tilde(k1,alpha=a1)\n",
    "        phi2 = phi_tilde(k2,alpha=a2)\n",
    "        s2 = twoPointCorr(pset, N, FA, phi1, phi2)\n",
    "        \n",
    "    return s2"
   ]
  },
  {
   "cell_type": "code",
   "execution_count": 12,
   "metadata": {
    "collapsed": true,
    "deletable": true,
    "editable": true,
    "hidden": true
   },
   "outputs": [],
   "source": [
    "def s2inverse_zeroq(pset, N, FA):\n",
    "    s2 = np.ones((2,2),dtype='complex')\n",
    "    \n",
    "    return s2/(N**2)"
   ]
  },
  {
   "cell_type": "code",
   "execution_count": 13,
   "metadata": {
    "collapsed": true,
    "deletable": true,
    "editable": true,
    "hidden": true
   },
   "outputs": [],
   "source": [
    "def s2inverse(pset, N, FA, K):\n",
    "    if norm(K) < 1e-5:\n",
    "        s2inv = s2inverse_zeroq(pset, N, FA)\n",
    "        return s2inv\n",
    "\n",
    "    s2 = s2wlc(pset, N, FA, K)\n",
    "    s2inv = np.zeros((2,2),dtype=type(1+1j))\n",
    "    \n",
    "    [s2aa, s2ab], [s2ba, s2bb] = s2\n",
    "    det = s2aa*s2bb - s2ab*s2ba\n",
    "    \n",
    "    s2inv[0,0] = s2bb/det\n",
    "    s2inv[0,1] = -s2ab/det\n",
    "    s2inv[1,0] = -s2ba/det\n",
    "    s2inv[1,1] = s2aa/det\n",
    "    \n",
    "    return s2inv"
   ]
  },
  {
   "cell_type": "code",
   "execution_count": null,
   "metadata": {
    "collapsed": false,
    "deletable": true,
    "editable": true,
    "hidden": true
   },
   "outputs": [],
   "source": [
    "N = 100\n",
    "K = 0.0\n",
    "FA = 1.0\n",
    "\n",
    "nlam=1\n",
    "pset=propagator.prop_set(nlam=nlam)\n",
    "\n",
    "s2wlc(pset, N, FA, K, sequence=[0, 0])"
   ]
  },
  {
   "cell_type": "code",
   "execution_count": null,
   "metadata": {
    "collapsed": false,
    "deletable": true,
    "editable": true,
    "hidden": true
   },
   "outputs": [],
   "source": [
    "N = 100\n",
    "K = 0.0\n",
    "FA = 0.1\n",
    "\n",
    "nlam=1\n",
    "pset=propagator.prop_set(nlam=nlam)\n",
    "\n",
    "s2inverse(pset, N, FA, K)"
   ]
  },
  {
   "cell_type": "code",
   "execution_count": null,
   "metadata": {
    "collapsed": false,
    "deletable": true,
    "editable": true,
    "hidden": true
   },
   "outputs": [],
   "source": [
    "N=10\n",
    "FA=0.5\n",
    "\n",
    "nlam=4\n",
    "pset=propagator.prop_set(nlam=nlam)\n",
    "\n",
    "\n",
    "sequence = [0,0]\n",
    "KV = np.logspace(-4,3,10)\n",
    "s2 = np.zeros((len(KV)),dtype=type(1+1j))\n",
    "for ind, K in enumerate(KV):\n",
    "    s2[ind] = s2wlc(pset, N, FA, K, sequence=sequence)/(N**2)"
   ]
  },
  {
   "cell_type": "code",
   "execution_count": null,
   "metadata": {
    "collapsed": false,
    "deletable": true,
    "editable": true,
    "hidden": true
   },
   "outputs": [],
   "source": [
    "# plt.loglog(KV, np.real(np.sum(np.vstack([s2[0,0,:], s2[0,1,:], \\\n",
    "#                                          s2[1,0,:], s2[1,1,:]]), axis=0)))\n",
    "plt.loglog(KV, np.real(s2))\n",
    "plotlog(1e1,1e-1,-1)\n",
    "plt.show()"
   ]
  },
  {
   "cell_type": "markdown",
   "metadata": {
    "deletable": true,
    "editable": true,
    "heading_collapsed": true
   },
   "source": [
    "## Three point correlations"
   ]
  },
  {
   "cell_type": "code",
   "execution_count": null,
   "metadata": {
    "collapsed": false,
    "deletable": true,
    "editable": true,
    "hidden": true
   },
   "outputs": [],
   "source": [
    "def I3N(N,FA,lam0_1,lam_1,mu1,\\\n",
    "            lam0_2,lam_2,mu2,\\\n",
    "            p1,p2,\\\n",
    "            sequence):\n",
    "    \n",
    "    value = 0\n",
    "    if sequence == (0,0,0): # AAA\n",
    "        value = mp.IAAAresum(N,FA,lam0_1,lam_1,\\\n",
    "                                  lam0_2,lam_2,\\\n",
    "                                  p1.prop(mu1),\\\n",
    "                                  p2.prop(mu2))\n",
    "    elif sequence == (0,0,1): # AAB\n",
    "        value = mp.IABBresum(N,1-FA,lam0_1,lam_1,\\\n",
    "                                  lam0_2,lam_2,\\\n",
    "                                  p1.prop(mu1),\\\n",
    "                                  p2.prop(mu2))\n",
    "    elif sequence == (0,1,1): # ABB\n",
    "        value = mp.IABBresum(N,FA,lam0_1,lam_1,\\\n",
    "                                  lam0_2,lam_2,\\\n",
    "                                  p1.prop(mu1),\\\n",
    "                                  p2.prop(mu2))\n",
    "    elif sequence == (1,1,1): # BBB\n",
    "        fb=1.0-FA\n",
    "        # Same as AAAA except fb instead of FA\n",
    "        value = mp.IAAAresum(N,fb,lam0_1,lam_1,\\\n",
    "                                  lam0_2,lam_2,\\\n",
    "                                  p1.prop(mu1),\\\n",
    "                                  p2.prop(mu2))\n",
    "    else:\n",
    "        pass\n",
    "    \n",
    "    return value"
   ]
  },
  {
   "cell_type": "markdown",
   "metadata": {
    "deletable": true,
    "editable": true,
    "hidden": true
   },
   "source": [
    "### Space ordering of wavevectors"
   ]
  },
  {
   "cell_type": "code",
   "execution_count": null,
   "metadata": {
    "collapsed": false,
    "deletable": true,
    "editable": true,
    "hidden": true
   },
   "outputs": [],
   "source": [
    "# Inputs\n",
    "#     pset (propagator.prop_set), the set of propagators used so FAr\n",
    "#     N (float), number of Khun lengths\n",
    "#     FA (float), fraction of type A\n",
    "#     prop1 (phi_tilde), contains k and alpha\n",
    "def threePointCorr(pset,N,FA,phi1,phi2,phi3):\n",
    "#     print('Warning: Winger D hasnt been implemented!')\n",
    "    nlam=pset.nlam\n",
    "    # The first and last lam must be zero \n",
    "    mu1=0\n",
    "    mu2=0\n",
    "    lam0_1=0\n",
    "    lam_2=0\n",
    "    \n",
    "    total = 0.0+0.0j\n",
    "    # The Points can be visited in any order\n",
    "    for ordered in perms([phi1,phi2,phi3]):\n",
    "        # while phi1.k is the absolute Fourier position\n",
    "        # q1 is the relitive Fourier position of 1 and 2\n",
    "        q1=-ordered[0].k\n",
    "        q2=-ordered[0].k-ordered[1].k\n",
    "        \n",
    "        # chemical sequence, A is 1\n",
    "        sequence = (ordered[0].alpha,ordered[1].alpha,ordered[2].alpha)\n",
    "        \n",
    "        # Calculate or look up eigenstuff\n",
    "        p1 = pset.get_vec_prop(q1)\n",
    "        p2 = pset.get_vec_prop(q2)\n",
    "\n",
    "        # Calculate Legendre polynomial\n",
    "        PL = legendrep(q1, q2, nlam)\n",
    "        \n",
    "        # Angular sum\n",
    "        for lam in range(0,nlam):\n",
    "            lam_1, lam0_2 = lam, lam\n",
    "            value = I3N(N,FA,lam0_1,lam_1,mu1,\\\n",
    "                        lam0_2,lam_2,mu2,\\\n",
    "                        p1,p2,\\\n",
    "                        sequence)\n",
    "\n",
    "            # Wigner D goes here!\n",
    "            value *= PL[lam]\n",
    "\n",
    "            total = total + value\n",
    "    return total"
   ]
  },
  {
   "cell_type": "code",
   "execution_count": null,
   "metadata": {
    "collapsed": true,
    "deletable": true,
    "editable": true,
    "hidden": true
   },
   "outputs": [],
   "source": [
    "def s3wlc_zeroq3(pset, N, FA, Ks):\n",
    "    k1, k2, k3 = Ks\n",
    "    s3 = np.zeros((2,2,2),dtype=type(1+1j))\n",
    "\n",
    "    FB = 1.0-FA\n",
    "    s2 = s2wlc(pset, N, FA, norm(k1))\n",
    "    s3[0][0][0] = s2[0][0]*FA*N\n",
    "    s3[0][0][1] = s2[0][0]*FB*N\n",
    "    s3[0][1][0] = s2[0][1]*FA*N\n",
    "    s3[0][1][1] = s2[0][1]*FB*N\n",
    "    s3[1][0][0] = s2[1][0]*FA*N\n",
    "    s3[1][0][1] = s2[1][0]*FB*N\n",
    "    s3[1][1][0] = s2[1][1]*FA*N\n",
    "    s3[1][1][1] = s2[1][1]*FB*N\n",
    "    \n",
    "    return s3"
   ]
  },
  {
   "cell_type": "code",
   "execution_count": null,
   "metadata": {
    "collapsed": true,
    "deletable": true,
    "editable": true,
    "hidden": true
   },
   "outputs": [],
   "source": [
    "def s3wlc(pset, N, FA, Ks, sequence='all'):\n",
    "    k1, k2, k3 = Ks\n",
    "    if norm(k1+k2+k3) >= 1e-10:\n",
    "        raise ValueError('Qs must add up to zero')\n",
    "\n",
    "    if sequence=='all':\n",
    "        s3 = np.zeros((2,2,2),dtype=type(1+1j))\n",
    "        if norm(k3) < 1e-5:\n",
    "            return s3wlc_zeroq3(pset, N, FA, Ks)\n",
    "        \n",
    "        for a1, a2, a3 in product([0,1], repeat=3):\n",
    "            phi1 = phi_tilde(k1,alpha=a1)\n",
    "            phi2 = phi_tilde(k2,alpha=a2)\n",
    "            phi3 = phi_tilde(k3,alpha=a3)\n",
    "\n",
    "            s3[a1][a2][a3] = threePointCorr(pset, N, FA, \\\n",
    "                                            phi1, phi2, phi3)\n",
    "    else:\n",
    "        a1, a2, a3 = sequence\n",
    "        if norm(k3) < 1e-5:\n",
    "            s3 = s3wlc_zeroq3(pset, N, FA, Ks)\n",
    "            return s3[a1][a2][a3]\n",
    "\n",
    "        phi1 = phi_tilde(k1,alpha=a1)\n",
    "        phi2 = phi_tilde(k2,alpha=a2)\n",
    "        phi3 = phi_tilde(k3,alpha=a3)\n",
    "        s3 = threePointCorr(pset, N, FA, phi1, phi2, phi3)\n",
    "        \n",
    "    return s3"
   ]
  },
  {
   "cell_type": "code",
   "execution_count": null,
   "metadata": {
    "collapsed": false,
    "deletable": true,
    "editable": true,
    "hidden": true
   },
   "outputs": [],
   "source": [
    "N = 1000\n",
    "FA = 1.0\n",
    "K = 1e0\n",
    "\n",
    "def set3Ks(K):\n",
    "#     k1=np.array([0,0,1])*K\n",
    "#     k2=np.array([0,0,-1])*K\n",
    "#     k3=-k1-k2\n",
    "    \n",
    "    k1 = np.array([1,0,0])*K\n",
    "    k2 = np.array([-0.5,0.5*np.sqrt(3),0])*K\n",
    "    k3 = -k1-k2\n",
    "\n",
    "    Ks = [k1, k2, k3]\n",
    "    return Ks\n",
    "\n",
    "nlam = 6\n",
    "pset=propagator.prop_set(nlam=nlam)\n",
    "\n",
    "Ks = set3Ks(K)\n",
    "s3 = s3wlc(pset, N, FA, Ks, sequence=[0, 0, 0])\n",
    "\n",
    "print(Ks)\n",
    "print(s3)"
   ]
  },
  {
   "cell_type": "code",
   "execution_count": null,
   "metadata": {
    "collapsed": false,
    "deletable": true,
    "editable": true,
    "hidden": true
   },
   "outputs": [],
   "source": [
    "N=1\n",
    "FA=1.0\n",
    "\n",
    "nlam = 20\n",
    "pset=propagator.prop_set(nlam=nlam)\n",
    "\n",
    "sequence = [0,0,0]\n",
    "KV = np.logspace(-2,5,50)\n",
    "s3 = np.zeros((len(KV)),dtype=type(1+1j))\n",
    "for ind, K in enumerate(KV):\n",
    "    k = set3Ks(K)\n",
    "    s3[ind] = s3wlc(pset, N, FA, k, sequence=sequence)/(N**3)\n",
    "\n",
    "col = 1\n",
    "plt.loglog(KV, abs(s3), '--', color=[col, 0.0, 1-col])\n",
    "plt.loglog(KV[s3>0], abs(s3[s3>0]), '-', color=[col, 0.0, 1-col])\n",
    "plotlog(1e1, 5e-3, -2, xrange=2)\n",
    "plt.title('lam = ' + str(nlam))\n",
    "    \n",
    "plt.show()"
   ]
  },
  {
   "cell_type": "code",
   "execution_count": null,
   "metadata": {
    "collapsed": false,
    "deletable": true,
    "editable": true,
    "hidden": true
   },
   "outputs": [],
   "source": [
    "# KV = np.logspace(-2,5,50)\n",
    "# s3 = np.zeros((2,2,2,len(KV)),dtype=type(1+1j))\n",
    "# for ind, K in enumerate(KV):\n",
    "#     k = setKs(K)\n",
    "#     s3[:,:,:,ind] = s3wlc(pset, N, FA, k)/(N**3)"
   ]
  },
  {
   "cell_type": "markdown",
   "metadata": {
    "deletable": true,
    "editable": true
   },
   "source": [
    "## Four point correlations"
   ]
  },
  {
   "cell_type": "markdown",
   "metadata": {
    "deletable": true,
    "editable": true
   },
   "source": [
    "\\begin{align*}\n",
    "\\underset{\\alpha_{1}\\alpha_{2}\\alpha_{3}\\alpha_{4}}{I_{1,2,3}^{\\left(4\\right)}\\left(N\\right)}= & \\int_{0}^{N}ds_{3}\\int_{0}^{s_{4}}ds_{2}\\int_{0}^{s_{3}}ds_{1}\\int_{0}^{s_{1}}ds_{0}\\delta_{\\alpha\\left(s_{1}\\right),\\alpha_{1}}\\delta_{\\alpha\\left(s_{2}\\right),\\alpha_{2}}\\delta_{\\alpha\\left(s_{3}\\right),\\alpha_{3}}\\delta_{\\alpha\\left(s_{4}\\right),\\alpha_{4}}\\\\\n",
    " & \\cdot\\mathcal{G}_{\\lambda0_{1}\\lambda_{1}}^{\\mu_{1}}\\left(s_{4}-s_{3},K_{1}\\right)\\mathcal{G}_{\\lambda0_{2}\\lambda_{2}}^{\\mu_{2}}\\left(s_{3}-s_{2},K_{2}\\right)\\mathcal{G}_{\\lambda0_{3}\\lambda_{3}}^{\\mu_{3}}\\left(s_{2}-s_{1},K_{2}\\right)\n",
    "\\end{align*}"
   ]
  },
  {
   "cell_type": "code",
   "execution_count": 7,
   "metadata": {
    "collapsed": false,
    "deletable": true,
    "editable": true
   },
   "outputs": [],
   "source": [
    "def I4N(N,FA,lam0_1,lam_1,mu1,\\\n",
    "           lam0_2,lam_2,mu2,\\\n",
    "           lam0_3,lam_3,mu3,\\\n",
    "           p1,p2,p3,\\\n",
    "           sequence):\n",
    "    \n",
    "    value = 0\n",
    "    if sequence == (0,0,0,0): # AAAA\n",
    "        value = mp.IAAAAresum(N,FA,lam0_1,lam_1,\\\n",
    "                                   lam0_2,lam_2,\\\n",
    "                                   lam0_3,lam_3,\\\n",
    "                                   p1.prop(mu1),\\\n",
    "                                   p2.prop(mu2),\\\n",
    "                                   p3.prop(mu3))\n",
    "    elif sequence == (0,0,0,1): # AAAB\n",
    "        value = mp.IAAABresum(N,FA,lam0_1,lam_1,\\\n",
    "                                   lam0_2,lam_2,\\\n",
    "                                   lam0_3,lam_3,\\\n",
    "                                   p1.prop(mu1),\\\n",
    "                                   p2.prop(mu2),\\\n",
    "                                   p3.prop(mu3))   \n",
    "    elif sequence == (0,0,1,1): # AABB\n",
    "        value = mp.IAABBresum(N,FA,lam0_1,lam_1,\\\n",
    "                                   lam0_2,lam_2,\\\n",
    "                                   lam0_3,lam_3,\\\n",
    "                                   p1.prop(mu1),\\\n",
    "                                   p2.prop(mu2),\\\n",
    "                                   p3.prop(mu3))\n",
    "    elif sequence == (0,1,1,1): # ABBB\n",
    "        fb=1.0-FA\n",
    "        # Same as AAAB except fb instead of FA\n",
    "        value = mp.IAAABresum(N,fb,lam0_1,lam_1,\\\n",
    "                                   lam0_2,lam_2,\\\n",
    "                                   lam0_3,lam_3,\\\n",
    "                                   p1.prop(mu1),\\\n",
    "                                   p2.prop(mu2),\\\n",
    "                                   p3.prop(mu3))\n",
    "    elif sequence == (1,1,1,1): # BBBB\n",
    "        fb=1.0-FA\n",
    "        # Same as AAAA except fb instead of FA\n",
    "        value = mp.IAAAAresum(N,fb,lam0_1,lam_1,\\\n",
    "                                   lam0_2,lam_2,\\\n",
    "                                   lam0_3,lam_3,\\\n",
    "                                   p1.prop(mu1),\\\n",
    "                                   p2.prop(mu2),\\\n",
    "                                   p3.prop(mu3))\n",
    "    else:\n",
    "        pass\n",
    "    \n",
    "    return value"
   ]
  },
  {
   "cell_type": "markdown",
   "metadata": {
    "deletable": true,
    "editable": true
   },
   "source": [
    "### Space ordering of wavevectors"
   ]
  },
  {
   "cell_type": "markdown",
   "metadata": {},
   "source": [
    "fourPointCorr\n",
    "calculates\n",
    "$\\int_0^N d^4 s\\left\\langle \\tilde{\\psi}_{1}\\tilde{\\psi}_{2}\\tilde{\\psi}_{3}\\tilde{\\psi}_{3}\\right\\rangle $\n",
    ".\n",
    "The $\\psi$s are not orientation dependent. This will change when\n",
    "I introduce Maier-Saupe interaction.\n",
    "The average is over the unperturbed distribution of a single WLC that\n",
    "is N segments long with $f_{A}$ being of A type.\n",
    "Each $\\tilde{\\psi}$ has an associated chemical identity, $\\alpha$, and Fourier location, $\\vec{k}$."
   ]
  },
  {
   "cell_type": "code",
   "execution_count": 14,
   "metadata": {
    "collapsed": true,
    "deletable": true,
    "editable": true
   },
   "outputs": [],
   "source": [
    "# Inputs\n",
    "#     pset (propagator.prop_set), the set of propagators used so FAr\n",
    "#     N (float), number of Khun lengths\n",
    "#     FA (float), fraction of type A\n",
    "#     prop1 (phi_tilde), contains k and alpha\n",
    "def fourPointCorr(pset,wigset,N,FA,phi1,phi2,phi3,phi4):\n",
    "    nlam=pset.nlam\n",
    "    # The first and last lam must be zero \n",
    "    mu1=0 \n",
    "    mu3=0\n",
    "    lam0_1=0\n",
    "    lam_3=0\n",
    "    \n",
    "    total = 0.0+0.0j\n",
    "    # The Points can be visited in any order\n",
    "    for ordered in perms([phi1,phi2,phi3,phi4]):\n",
    "        # while phi1.k is the absolute Fourier position\n",
    "        # q1 is the relitive Fourier position of 1 and 2\n",
    "        q1=-ordered[0].k\n",
    "        q2=-ordered[0].k-ordered[1].k\n",
    "        q3=-ordered[0].k-ordered[1].k-ordered[2].k\n",
    "\n",
    "        # chemical sequence, A is 0\n",
    "        sequence = (ordered[0].alpha,ordered[1].alpha,\\\n",
    "                    ordered[2].alpha,ordered[3].alpha)\n",
    "        \n",
    "        # Calculate or look up eigenstuff\n",
    "        p1 = pset.get_vec_prop(q1)\n",
    "        p2 = pset.get_vec_prop(q2)\n",
    "        p3 = pset.get_vec_prop(q3)       \n",
    "\n",
    "        alpha1, beta1, beta2 = get_angles(q1,q2,q3)\n",
    "        # Angular sum\n",
    "        for lam_1 in range(0,nlam):\n",
    "            for lam_2 in range(0,nlam):\n",
    "                for mu2 in range(-min(lam_2,lam_3),\\\n",
    "                                 min(lam_2,lam_3)+1): \n",
    "                    lam0_2=lam_1\n",
    "                    lam0_3=lam_2\n",
    "                    \n",
    "                    value=I4N(N,FA,lam0_1,lam_1,mu1,\\\n",
    "                               lam0_2,lam_2,mu2,\\\n",
    "                               lam0_3,lam_3,mu3,\\\n",
    "                               p1,p2,p3,\\\n",
    "                               sequence) \n",
    "                    \n",
    "                    # Wigner D to rotate first and third frames into second\n",
    "                    D1 = wigset.axial(lam_1,mu2,0,alpha1,beta1)    \n",
    "                    D2 = wigset.axial(lam_2,mu2,0,0,beta2) \n",
    "                    \n",
    "                    total = total + value*D1*D2\n",
    "    return total"
   ]
  },
  {
   "cell_type": "code",
   "execution_count": 18,
   "metadata": {
    "collapsed": false
   },
   "outputs": [],
   "source": [
    "# Returns Euler angles needed to rotate q1 and q3 away from q2\n",
    "# Returns alpha1, beta1, beta2\n",
    "def get_angles(q1,q2,q3):\n",
    "        # Find unit vectors\n",
    "        aligned=10**-13; # angle in radians betwene to vectors before I assume they are the same\n",
    "        if norm(q1)< aligned or norm(q3)<aligned:\n",
    "            raise Exception('I assume q1 1= 0 and q3 != 0')\n",
    "        Q1_n=q1/norm(q1) # I assume q1 != 0\n",
    "        Q3_n=q3/norm(q3) # I assume q3 != 0\n",
    "\n",
    "        #Find Euler angles\n",
    "        if norm(q2) < aligned:\n",
    "            # if q2=0 we need to rotate q3 away from q2 \n",
    "            beta1=0.0\n",
    "            beta2=np.arccos(np.dot(Q1_n,Q3_n))\n",
    "            alpha1=0.0\n",
    "            return alpha1, beta1, beta2\n",
    "        \n",
    "        Q2_n=q2/norm(q2);\n",
    "        if norm(Q2_n-Q1_n) < aligned:\n",
    "            # if  Q2_n = Q1_n  simply rotate q3 away\n",
    "            beta1=0.0\n",
    "            alpha1=0.0\n",
    "            beta2=np.arccos(np.dot(Q2_n,Q3_n))\n",
    "        elif norm(Q2_n-Q3_n) < aligned:\n",
    "            # if  Q2_n = Q3_n  simply rotate q1 away\n",
    "            beta1=np.arccos(np.dot(Q2_n,Q1_n))\n",
    "            alpha1=0.0\n",
    "            beta2=0.0\n",
    "        else:\n",
    "            beta1=np.arccos(np.dot(Q2_n,Q1_n))\n",
    "            beta2=np.arccos(np.dot(Q2_n,Q3_n))\n",
    "            v1=np.cross(Q2_n,Q1_n)/norm(np.cross(Q2_n,Q1_n))\n",
    "            v2=np.cross(Q2_n,Q3_n)/norm(np.cross(Q2_n,Q3_n))\n",
    "            alpha1=np.arccos(np.dot(v1,v2))\n",
    "        return alpha1, beta1, beta2"
   ]
  },
  {
   "cell_type": "code",
   "execution_count": 19,
   "metadata": {
    "collapsed": true,
    "deletable": true,
    "editable": true
   },
   "outputs": [],
   "source": [
    "def s4wlc(pset,wigset, N, FA, Ks, sequence='all'):\n",
    "    s4 = np.zeros((2,2,2,2),dtype=type(1+1j))\n",
    "    k1, k2, k3, k4 = Ks\n",
    "    if norm(k1+k2+k3+k4) >= 1e-10:\n",
    "        print(k1, k2, k3, k4)\n",
    "        print(k1+k2+k3+k4)\n",
    "        raise ValueError('Qs must add up to zero')\n",
    "    \n",
    "    if sequence == 'all':\n",
    "        for a1, a2, a3, a4 in product([0,1], repeat=4):\n",
    "            phi1 = phi_tilde(k1,alpha=a1)\n",
    "            phi2 = phi_tilde(k2,alpha=a2)\n",
    "            phi3 = phi_tilde(k3,alpha=a3)\n",
    "            phi4 = phi_tilde(k4,alpha=a4)\n",
    "            s4[a1][a2][a3][a4] = fourPointCorr(pset,wigset, N, FA, \\\n",
    "                                               phi1, phi2, phi3, phi4)\n",
    "    else:\n",
    "        a1, a2, a3, a4 = sequence\n",
    "        phi1 = phi_tilde(k1,alpha=a1)\n",
    "        phi2 = phi_tilde(k2,alpha=a2)\n",
    "        phi3 = phi_tilde(k3,alpha=a3)\n",
    "        phi4 = phi_tilde(k4,alpha=a4)\n",
    "        s4 = fourPointCorr(pset,wigset, N, FA, \\\n",
    "                           phi1, phi2, phi3, phi4)\n",
    "            \n",
    "    return s4"
   ]
  },
  {
   "cell_type": "code",
   "execution_count": 20,
   "metadata": {
    "collapsed": false,
    "deletable": true,
    "editable": true
   },
   "outputs": [],
   "source": [
    "N=1.0\n",
    "FA=1.0\n",
    "\n",
    "def setKs(K):\n",
    "    k1=np.array([0,0,1])*K\n",
    "    k2=np.array([0,0,1])*K\n",
    "    k3=-k1\n",
    "    k4=-k2\n",
    "\n",
    "    k = [k1, k2, k3, k4]\n",
    "    return k\n",
    "\n",
    "nlam=10\n",
    "pset=propagator.prop_set(nlam=nlam)\n",
    "wigset = wd.wigner_d_vals()\n",
    "\n",
    "sequence = [0, 0, 0, 0]\n",
    "KV = np.logspace(-1,3,10)\n",
    "s4 = np.zeros((len(KV)),dtype=type(1+1j))\n",
    "for ind, K in enumerate(KV):\n",
    "    Ks = setKs(K)\n",
    "    s4[ind] = s4wlc(pset,wigset, N, FA, Ks, sequence=sequence)/(N**4)"
   ]
  },
  {
   "cell_type": "code",
   "execution_count": 21,
   "metadata": {
    "collapsed": false,
    "deletable": true,
    "editable": true
   },
   "outputs": [
    {
     "data": {
      "image/png": "[encoded data removed]",
      "text/html": [
       "\n",
       "\n",
       "<style>\n",
       "\n",
       "</style>\n",
       "\n",
       "<div id=\"fig_el54239140624763107200358513102\"></div>\n",
       "<script>\n",
       "function mpld3_load_lib(url, callback){\n",
       "  var s = document.createElement('script');\n",
       "  s.src = url;\n",
       "  s.async = true;\n",
       "  s.onreadystatechange = s.onload = callback;\n",
       "  s.onerror = function(){console.warn(\"failed to load library \" + url);};\n",
       "  document.getElementsByTagName(\"head\")[0].appendChild(s);\n",
       "}\n",
       "\n",
       "if(typeof(mpld3) !== \"undefined\" && mpld3._mpld3IsLoaded){\n",
       "   // already loaded: just create the figure\n",
       "   !function(mpld3){\n",
       "       \n",
       "       mpld3.draw_figure(\"fig_el54239140624763107200358513102\", {\"width\": 432.0, \"height\": 288.0, \"plugins\": [{\"type\": \"reset\"}, {\"enabled\": false, \"button\": true, \"type\": \"zoom\"}, {\"enabled\": false, \"button\": true, \"type\": \"boxzoom\"}], \"axes\": [{\"id\": \"el54239140624755181496\", \"sharey\": [], \"sharex\": [], \"yscale\": \"log\", \"paths\": [], \"axes\": [{\"position\": \"bottom\", \"visible\": true, \"nticks\": 7, \"tickformat\": null, \"scale\": \"log\", \"tickvalues\": null, \"grid\": {\"gridOn\": false}, \"fontsize\": 10.0}, {\"position\": \"left\", \"visible\": true, \"nticks\": 13, \"tickformat\": null, \"scale\": \"log\", \"tickvalues\": null, \"grid\": {\"gridOn\": false}, \"fontsize\": 10.0}], \"markers\": [], \"ylim\": [1e-07, 10000000000000.0], \"xlim\": [0.1, 1000.0], \"bbox\": [0.125, 0.125, 0.775, 0.775], \"images\": [], \"xscale\": \"log\", \"axesbg\": \"#FFFFFF\", \"collections\": [], \"ydomain\": [1e-07, 10000000000000.0], \"axesbgalpha\": null, \"lines\": [{\"yindex\": 1, \"xindex\": 0, \"coordinates\": \"data\", \"drawstyle\": \"default\", \"color\": \"#0000FF\", \"linewidth\": 1.0, \"id\": \"el54239140624755182560\", \"dasharray\": \"none\", \"data\": \"data01\", \"alpha\": 1, \"zorder\": 2}, {\"yindex\": 1, \"xindex\": 0, \"coordinates\": \"data\", \"drawstyle\": \"default\", \"color\": \"#007F00\", \"linewidth\": 1.0, \"id\": \"el54239140624754962784\", \"dasharray\": \"none\", \"data\": \"data02\", \"alpha\": 1, \"zorder\": 2}], \"texts\": [], \"xdomain\": [0.1, 1000.0], \"zoomable\": true}], \"id\": \"el54239140624763107200\", \"data\": {\"data01\": [[0.1, 2525152165538.5728], [0.2782559402207124, 0.9969838402793264], [0.774263682681127, 0.976996058180202], [2.1544346900318834, 0.8412357656229507], [5.994842503189409, 0.3789699931053648], [16.68100537200059, 0.07300866399516012], [46.41588833612777, 0.011450043721991056], [129.15496650148827, 0.0016408733290837652], [359.38136638046257, 0.00022506670994353444], [1000.0, 3.004461967794676e-05]], \"data02\": [[10.0, 0.005], [1000.0, 5e-07]]}});\n",
       "   }(mpld3);\n",
       "}else if(typeof define === \"function\" && define.amd){\n",
       "   // require.js is available: use it to load d3/mpld3\n",
       "   require.config({paths: {d3: \"https://mpld3.github.io/js/d3.v3.min\"}});\n",
       "   require([\"d3\"], function(d3){\n",
       "      window.d3 = d3;\n",
       "      mpld3_load_lib(\"https://mpld3.github.io/js/mpld3.v0.3.js\", function(){\n",
       "         \n",
       "         mpld3.draw_figure(\"fig_el54239140624763107200358513102\", {\"width\": 432.0, \"height\": 288.0, \"plugins\": [{\"type\": \"reset\"}, {\"enabled\": false, \"button\": true, \"type\": \"zoom\"}, {\"enabled\": false, \"button\": true, \"type\": \"boxzoom\"}], \"axes\": [{\"id\": \"el54239140624755181496\", \"sharey\": [], \"sharex\": [], \"yscale\": \"log\", \"paths\": [], \"axes\": [{\"position\": \"bottom\", \"visible\": true, \"nticks\": 7, \"tickformat\": null, \"scale\": \"log\", \"tickvalues\": null, \"grid\": {\"gridOn\": false}, \"fontsize\": 10.0}, {\"position\": \"left\", \"visible\": true, \"nticks\": 13, \"tickformat\": null, \"scale\": \"log\", \"tickvalues\": null, \"grid\": {\"gridOn\": false}, \"fontsize\": 10.0}], \"markers\": [], \"ylim\": [1e-07, 10000000000000.0], \"xlim\": [0.1, 1000.0], \"bbox\": [0.125, 0.125, 0.775, 0.775], \"images\": [], \"xscale\": \"log\", \"axesbg\": \"#FFFFFF\", \"collections\": [], \"ydomain\": [1e-07, 10000000000000.0], \"axesbgalpha\": null, \"lines\": [{\"yindex\": 1, \"xindex\": 0, \"coordinates\": \"data\", \"drawstyle\": \"default\", \"color\": \"#0000FF\", \"linewidth\": 1.0, \"id\": \"el54239140624755182560\", \"dasharray\": \"none\", \"data\": \"data01\", \"alpha\": 1, \"zorder\": 2}, {\"yindex\": 1, \"xindex\": 0, \"coordinates\": \"data\", \"drawstyle\": \"default\", \"color\": \"#007F00\", \"linewidth\": 1.0, \"id\": \"el54239140624754962784\", \"dasharray\": \"none\", \"data\": \"data02\", \"alpha\": 1, \"zorder\": 2}], \"texts\": [], \"xdomain\": [0.1, 1000.0], \"zoomable\": true}], \"id\": \"el54239140624763107200\", \"data\": {\"data01\": [[0.1, 2525152165538.5728], [0.2782559402207124, 0.9969838402793264], [0.774263682681127, 0.976996058180202], [2.1544346900318834, 0.8412357656229507], [5.994842503189409, 0.3789699931053648], [16.68100537200059, 0.07300866399516012], [46.41588833612777, 0.011450043721991056], [129.15496650148827, 0.0016408733290837652], [359.38136638046257, 0.00022506670994353444], [1000.0, 3.004461967794676e-05]], \"data02\": [[10.0, 0.005], [1000.0, 5e-07]]}});\n",
       "      });\n",
       "    });\n",
       "}else{\n",
       "    // require.js not available: dynamically load d3 & mpld3\n",
       "    mpld3_load_lib(\"https://mpld3.github.io/js/d3.v3.min.js\", function(){\n",
       "         mpld3_load_lib(\"https://mpld3.github.io/js/mpld3.v0.3.js\", function(){\n",
       "                 \n",
       "                 mpld3.draw_figure(\"fig_el54239140624763107200358513102\", {\"width\": 432.0, \"height\": 288.0, \"plugins\": [{\"type\": \"reset\"}, {\"enabled\": false, \"button\": true, \"type\": \"zoom\"}, {\"enabled\": false, \"button\": true, \"type\": \"boxzoom\"}], \"axes\": [{\"id\": \"el54239140624755181496\", \"sharey\": [], \"sharex\": [], \"yscale\": \"log\", \"paths\": [], \"axes\": [{\"position\": \"bottom\", \"visible\": true, \"nticks\": 7, \"tickformat\": null, \"scale\": \"log\", \"tickvalues\": null, \"grid\": {\"gridOn\": false}, \"fontsize\": 10.0}, {\"position\": \"left\", \"visible\": true, \"nticks\": 13, \"tickformat\": null, \"scale\": \"log\", \"tickvalues\": null, \"grid\": {\"gridOn\": false}, \"fontsize\": 10.0}], \"markers\": [], \"ylim\": [1e-07, 10000000000000.0], \"xlim\": [0.1, 1000.0], \"bbox\": [0.125, 0.125, 0.775, 0.775], \"images\": [], \"xscale\": \"log\", \"axesbg\": \"#FFFFFF\", \"collections\": [], \"ydomain\": [1e-07, 10000000000000.0], \"axesbgalpha\": null, \"lines\": [{\"yindex\": 1, \"xindex\": 0, \"coordinates\": \"data\", \"drawstyle\": \"default\", \"color\": \"#0000FF\", \"linewidth\": 1.0, \"id\": \"el54239140624755182560\", \"dasharray\": \"none\", \"data\": \"data01\", \"alpha\": 1, \"zorder\": 2}, {\"yindex\": 1, \"xindex\": 0, \"coordinates\": \"data\", \"drawstyle\": \"default\", \"color\": \"#007F00\", \"linewidth\": 1.0, \"id\": \"el54239140624754962784\", \"dasharray\": \"none\", \"data\": \"data02\", \"alpha\": 1, \"zorder\": 2}], \"texts\": [], \"xdomain\": [0.1, 1000.0], \"zoomable\": true}], \"id\": \"el54239140624763107200\", \"data\": {\"data01\": [[0.1, 2525152165538.5728], [0.2782559402207124, 0.9969838402793264], [0.774263682681127, 0.976996058180202], [2.1544346900318834, 0.8412357656229507], [5.994842503189409, 0.3789699931053648], [16.68100537200059, 0.07300866399516012], [46.41588833612777, 0.011450043721991056], [129.15496650148827, 0.0016408733290837652], [359.38136638046257, 0.00022506670994353444], [1000.0, 3.004461967794676e-05]], \"data02\": [[10.0, 0.005], [1000.0, 5e-07]]}});\n",
       "            })\n",
       "         });\n",
       "}\n",
       "</script>"
      ],
      "text/plain": [
       "<matplotlib.figure.Figure at 0x7fe5c10d3780>"
      ]
     },
     "metadata": {},
     "output_type": "display_data"
    }
   ],
   "source": [
    "plt.loglog(KV, s4.real)\n",
    "plotlog(1e1, 5e-3, -2, xrange=2)\n",
    "plt.show()"
   ]
  },
  {
   "cell_type": "code",
   "execution_count": 12,
   "metadata": {
    "collapsed": false
   },
   "outputs": [
    {
     "name": "stdout",
     "output_type": "stream",
     "text": [
      "Warning: Winger D hasnt been implemented!\n",
      "         4384789 function calls (4383989 primitive calls) in 63.239 seconds\n",
      "\n",
      "   Ordered by: standard name\n",
      "\n",
      "   ncalls  tottime  percall  cumtime  percall filename:lineno(function)\n",
      "    19200    0.028    0.000    0.038    0.000 <frozen importlib._bootstrap>:996(_handle_fromlist)\n",
      "        4    0.000    0.000    0.000    0.000 <ipython-input-3-f4b7cbf9e8bd>:2(__init__)\n",
      "        1    0.000    0.000    0.000    0.000 <ipython-input-5-4c9741b7fa37>:1(norm)\n",
      "     2400    0.085    0.000   63.215    0.026 <ipython-input-7-82487a00d993>:1(I4N)\n",
      "        1    0.019    0.019   63.239   63.239 <ipython-input-8-a06ba42c7f13>:6(fourPointCorr)\n",
      "        1    0.000    0.000   63.239   63.239 <ipython-input-9-3088a0d0d0b8>:1(s4wlc)\n",
      "        1    0.000    0.000   63.239   63.239 <string>:1(<module>)\n",
      "     9600    0.008    0.000    0.017    0.000 <string>:12(__new__)\n",
      "3200/2400   46.762    0.015   62.802    0.026 MultiPoint.py:290(IAAAAresum)\n",
      "     1600    0.876    0.001    1.251    0.001 MultiPoint.py:331(IAAAAresumK2is0)\n",
      "     9600    0.028    0.000    0.037    0.000 api.py:176(typeof)\n",
      "     9600    0.010    0.000    0.013    0.000 cffi_utils.py:27(is_ffi_instance)\n",
      "     9600    0.021    0.000    0.057    0.000 cffi_utils.py:37(is_cffi_func)\n",
      "     9600    0.035    0.000    0.419    0.000 dispatcher.py:376(typeof_pyval)\n",
      "       72    0.000    0.000    0.001    0.000 fromnumeric.py:2778(round_)\n",
      "     9600    0.016    0.000    0.028    0.000 functools.py:704(dispatch)\n",
      "     9600    0.023    0.000    0.296    0.000 functools.py:742(wrapper)\n",
      "        1    0.000    0.000    0.000    0.000 ioloop.py:932(add_callback)\n",
      "        2    0.000    0.000    0.000    0.000 iostream.py:228(_is_master_process)\n",
      "        2    0.000    0.000    0.000    0.000 iostream.py:241(_schedule_flush)\n",
      "        2    0.000    0.000    0.000    0.000 iostream.py:309(write)\n",
      "        1    0.000    0.000    0.000    0.000 linalg.py:111(isComplexType)\n",
      "        1    0.000    0.000    0.000    0.000 linalg.py:1976(norm)\n",
      "        1    0.000    0.000    0.000    0.000 numeric.py:414(asarray)\n",
      "     7200    0.008    0.000    0.010    0.000 propagator.py:283(prop)\n",
      "       72    0.000    0.000    0.001    0.000 propagator.py:318(get_vec_prop)\n",
      "  4106272   15.030    0.000   15.030    0.000 special.py:122(f3)\n",
      "    10000    0.032    0.000    0.032    0.000 special.py:67(f2)\n",
      "        1    0.000    0.000    0.000    0.000 stack_context.py:253(wrap)\n",
      "     9600    0.071    0.000    0.383    0.000 typeof.py:22(typeof)\n",
      "     9600    0.052    0.000    0.245    0.000 typeof.py:35(typeof_impl)\n",
      "     9600    0.071    0.000    0.092    0.000 typeof.py:56(_typeof_buffer)\n",
      "     9600    0.012    0.000    0.012    0.000 weakref.py:364(__getitem__)\n",
      "     9600    0.009    0.000    0.009    0.000 {built-in method __new__ of type object at 0x7ff32faea360}\n",
      "        1    0.000    0.000    0.000    0.000 {built-in method _thread.get_ident}\n",
      "    18592    0.003    0.000    0.003    0.000 {built-in method builtins.abs}\n",
      "        1    0.000    0.000   63.239   63.239 {built-in method builtins.exec}\n",
      "     9600    0.015    0.000    0.015    0.000 {built-in method builtins.getattr}\n",
      "    38401    0.009    0.000    0.009    0.000 {built-in method builtins.hasattr}\n",
      "    48002    0.012    0.000    0.012    0.000 {built-in method builtins.isinstance}\n",
      "        2    0.000    0.000    0.000    0.000 {built-in method builtins.issubclass}\n",
      "     4800    0.004    0.000    0.004    0.000 {built-in method builtins.min}\n",
      "        1    0.000    0.000    0.000    0.000 {built-in method builtins.print}\n",
      "       73    0.000    0.000    0.000    0.000 {built-in method numpy.core.multiarray.array}\n",
      "        1    0.000    0.000    0.000    0.000 {built-in method numpy.core.multiarray.dot}\n",
      "        1    0.000    0.000    0.000    0.000 {built-in method numpy.core.multiarray.zeros}\n",
      "        2    0.000    0.000    0.000    0.000 {built-in method posix.getpid}\n",
      "        1    0.000    0.000    0.000    0.000 {method 'append' of 'list' objects}\n",
      "        1    0.000    0.000    0.000    0.000 {method 'disable' of '_lsprof.Profiler' objects}\n",
      "        1    0.000    0.000    0.000    0.000 {method 'ravel' of 'numpy.ndarray' objects}\n",
      "       72    0.001    0.000    0.001    0.000 {method 'round' of 'numpy.ndarray' objects}\n",
      "        2    0.000    0.000    0.000    0.000 {method 'write' of '_io.StringIO' objects}\n",
      "\n",
      "\n"
     ]
    }
   ],
   "source": [
    "import cProfile\n",
    "cProfile.run('s4wlc(pset, N, FA, Ks, sequence=sequence)')"
   ]
  },
  {
   "cell_type": "code",
   "execution_count": 13,
   "metadata": {
    "collapsed": false,
    "deletable": true,
    "editable": true
   },
   "outputs": [
    {
     "name": "stdout",
     "output_type": "stream",
     "text": [
      "Warning: Winger D hasnt been implemented!\n"
     ]
    },
    {
     "name": "stderr",
     "output_type": "stream",
     "text": [
      "/home/users/qmac/MultiPointCalculation/WLCgreen.py:1311: RuntimeWarning: invalid value encountered in multiply\n",
      "  dinvG=np.ones((nlam,nlam),dtype='complex')*np.inf\n"
     ]
    },
    {
     "name": "stdout",
     "output_type": "stream",
     "text": [
      "(0.00128181639932-7.8435146457e-17j)\n",
      "Warning: Winger D hasnt been implemented!\n",
      "(0.000317731103746+1.40920003367e-17j)\n",
      "Warning: Winger D hasnt been implemented!\n",
      "(0.000317731103746+1.40920003367e-17j)\n",
      "Warning: Winger D hasnt been implemented!\n",
      "(0.000317731103746+1.40920003367e-17j)\n",
      "Warning: Winger D hasnt been implemented!\n",
      "(0.000317731103746+1.40920003367e-17j)\n",
      "Warning: Winger D hasnt been implemented!\n",
      "(-9.2626826525e-05+2.52344698539e-19j)\n",
      "Warning: Winger D hasnt been implemented!\n",
      "(-9.2626826525e-05+2.52344698539e-19j)\n",
      "Warning: Winger D hasnt been implemented!\n",
      "(0.00749545407137+1.89914544414e-18j)\n",
      "Warning: Winger D hasnt been implemented!\n",
      "(0.00749545407137+1.89914544414e-18j)\n",
      "Warning: Winger D hasnt been implemented!\n",
      "(0.00749545407137+1.89914544414e-18j)\n",
      "Warning: Winger D hasnt been implemented!\n",
      "(0.00749545407137+1.89914544414e-18j)\n"
     ]
    }
   ],
   "source": [
    "N=1.0\n",
    "FA=0.2\n",
    "\n",
    "nlam=10\n",
    "pset=propagator.prop_set(nlam=nlam)\n",
    "\n",
    "def set4Ks(K):\n",
    "    k1=np.array([0,0,1])*K\n",
    "    k2=np.array([0,0,1])*K\n",
    "    k3=-k1\n",
    "    k4=-k2\n",
    "\n",
    "    k = [k1, k2, k3, k4]\n",
    "    return k\n",
    "\n",
    "K = 10.0\n",
    "k = set4Ks(K)\n",
    "\n",
    "print(s4wlc(pset, N, FA, k, sequence=[0, 0, 0, 0]))\n",
    "print(s4wlc(pset, N, FA, k, sequence=[0, 0, 0, 1]))\n",
    "print(s4wlc(pset, N, FA, k, sequence=[0, 0, 1, 0]))\n",
    "print(s4wlc(pset, N, FA, k, sequence=[0, 1, 0, 0]))\n",
    "print(s4wlc(pset, N, FA, k, sequence=[1, 0, 0, 0]))\n",
    "\n",
    "print(s4wlc(pset, N, FA, k, sequence=[1, 1, 0, 0]))\n",
    "print(s4wlc(pset, N, FA, k, sequence=[0, 0, 1, 1]))\n",
    "\n",
    "print(s4wlc(pset, N, FA, k, sequence=[1, 0, 0, 1]))\n",
    "print(s4wlc(pset, N, FA, k, sequence=[0, 1, 1, 0]))\n",
    "\n",
    "print(s4wlc(pset, N, FA, k, sequence=[1, 0, 1, 0]))\n",
    "print(s4wlc(pset, N, FA, k, sequence=[0, 1, 0, 1]))"
   ]
  },
  {
   "cell_type": "code",
   "execution_count": null,
   "metadata": {
    "collapsed": true,
    "deletable": true,
    "editable": true
   },
   "outputs": [],
   "source": [
    "# KV = np.logspace(-1,3,10)\n",
    "# s4 = np.zeros((2,2,2,2,len(KV)),dtype=type(1+1j))\n",
    "# for ind, K in enumerate(KV):\n",
    "#     Ks = setKs(K)\n",
    "#     s4[:,:,:,:,ind] = s4wlc(pset, N, FA, Ks)/(N**4)"
   ]
  },
  {
   "cell_type": "code",
   "execution_count": null,
   "metadata": {
    "collapsed": false,
    "deletable": true,
    "editable": true
   },
   "outputs": [],
   "source": [
    "# plt.loglog(KV, s4[0,0,0,0,:])\n",
    "# plotlog(1e1, 5e-3, -2, xrange=2)\n",
    "# plt.show()"
   ]
  },
  {
   "cell_type": "markdown",
   "metadata": {
    "deletable": true,
    "editable": true
   },
   "source": [
    "## Rigid rod limit structure FActor\n",
    "\n",
    "Consider the special case that the four wavevectors form a straight line.\n",
    "\n",
    "The structure FActor of a rigid rod after rotation average is\n",
    "\\begin{eqnarray}\n",
    "I_4 = \n",
    "\\int_{0}^{L} ds_1\n",
    "\\int_{0}^{L} ds_2\n",
    "\\int_{0}^{L} ds_3\n",
    "\\int_{0}^{L} ds_4\n",
    "\\frac{\\sin{kL(s_1 + s_2 - s_3 - s_4)}}\n",
    "{kL(s_1 + s_2 - s_3 - s_4)}\n",
    "\\end{eqnarray}"
   ]
  },
  {
   "cell_type": "code",
   "execution_count": null,
   "metadata": {
    "collapsed": true,
    "deletable": true,
    "editable": true
   },
   "outputs": [],
   "source": []
  }
 ],
 "metadata": {
  "anaconda-cloud": {},
  "kernelspec": {
   "display_name": "Python [conda root]",
   "language": "python",
   "name": "conda-root-py"
  },
  "language_info": {
   "codemirror_mode": {
    "name": "ipython",
    "version": 3
   },
   "file_extension": ".py",
   "mimetype": "text/x-python",
   "name": "python",
   "nbconvert_exporter": "python",
   "pygments_lexer": "ipython3",
   "version": "3.5.2"
  },
  "latex_envs": {
   "LaTeX_envs_menu_present": true,
   "autocomplete": true,
   "bibliofile": "biblio.bib",
   "cite_by": "apalike",
   "current_citInitial": 1,
   "eqLabelWithNumbers": true,
   "eqNumInitial": 1,
   "hotkeys": {
    "equation": "Ctrl-E",
    "itemize": "Ctrl-I"
   },
   "labels_anchors": false,
   "latex_user_defs": false,
   "report_style_numbering": false,
   "user_envs_cfg": false
  },
  "toc": {
   "colors": {
    "hover_highlight": "#DAA520",
    "running_highlight": "#FF0000",
    "selected_highlight": "#FFD700"
   },
   "moveMenuLeft": true,
   "nav_menu": {
    "height": "12px",
    "width": "252px"
   },
   "navigate_menu": true,
   "number_sections": true,
   "sideBar": true,
   "threshold": 4,
   "toc_cell": false,
   "toc_section_display": "block",
   "toc_window_display": false,
   "widenNotebook": false
  }
 },
 "nbformat": 4,
 "nbformat_minor": 1
}
