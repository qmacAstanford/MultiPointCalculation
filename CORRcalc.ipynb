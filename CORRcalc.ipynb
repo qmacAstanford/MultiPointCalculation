{
 "cells": [
  {
   "cell_type": "code",
   "execution_count": 3,
   "metadata": {
    "collapsed": false,
    "deletable": true,
    "editable": true
   },
   "outputs": [],
   "source": [
    "from itertools import permutations as perms\n",
    "from itertools import product\n",
    "import numpy as np\n",
    "import MultiPoint as mp\n",
    "import propagator \n",
    "import wignerD as wd"
   ]
  },
  {
   "cell_type": "code",
   "execution_count": 4,
   "metadata": {
    "collapsed": true,
    "deletable": true,
    "editable": true
   },
   "outputs": [],
   "source": [
    "import imp  # imp.reload(module)\n",
    "%matplotlib inline\n",
    "import mpld3\n",
    "import matplotlib.pyplot as plt\n",
    "mpld3.enable_notebook()"
   ]
  },
  {
   "cell_type": "code",
   "execution_count": 5,
   "metadata": {
    "collapsed": false,
    "deletable": true,
    "editable": true
   },
   "outputs": [],
   "source": [
    "class phi_tilde:    \n",
    "    def __init__(self,k,alpha=0,l=0,m=0):\n",
    "        self.k=k\n",
    "        self.alpha=alpha\n",
    "        self.l=l\n",
    "        self.m=m"
   ]
  },
  {
   "cell_type": "code",
   "execution_count": 6,
   "metadata": {
    "collapsed": false,
    "deletable": true,
    "editable": true
   },
   "outputs": [],
   "source": [
    "def plotlog(x, y, alpha, xrange=1, numx=2):\n",
    "    xv = np.logspace(np.log10(x), np.log10(x) + xrange, numx)\n",
    "    C = y / (x**alpha)\n",
    "    yv = C * xv**(alpha)\n",
    "    plt.loglog(xv, yv)"
   ]
  },
  {
   "cell_type": "markdown",
   "metadata": {
    "deletable": true,
    "editable": true
   },
   "source": [
    "### Some simple functions"
   ]
  },
  {
   "cell_type": "code",
   "execution_count": 7,
   "metadata": {
    "collapsed": true,
    "deletable": true,
    "editable": true
   },
   "outputs": [],
   "source": [
    "def norm(K):\n",
    "    return np.linalg.norm(K)"
   ]
  },
  {
   "cell_type": "code",
   "execution_count": 8,
   "metadata": {
    "collapsed": false,
    "deletable": true,
    "editable": true
   },
   "outputs": [],
   "source": [
    "def legendrep(Q1, Q2, nlam):\n",
    "    EQ1 = Q1/norm(Q1)\n",
    "    EQ2 = Q2/norm(Q2)\n",
    "    RHO = -sum(EQ1*EQ2)\n",
    "    \n",
    "    val = [1, RHO]\n",
    "    for L  in range(1, nlam-1):\n",
    "        newval = ( (2*L+1)*RHO*val[L]-L*val[L-1] ) / (L+1)\n",
    "        val.append(newval)\n",
    "        \n",
    "    return val"
   ]
  },
  {
   "cell_type": "code",
   "execution_count": 7,
   "metadata": {
    "collapsed": false,
    "deletable": true,
    "editable": true
   },
   "outputs": [
    {
     "name": "stdout",
     "output_type": "stream",
     "text": [
      "[1, -1.0, 1.0, -1.0, 1.0, -1.0, 1.0, -1.0, 1.0, -1.0]\n",
      "[1, 1.0, 1.0, 1.0, 1.0, 1.0, 1.0, 1.0, 1.0, 1.0]\n"
     ]
    }
   ],
   "source": [
    "print(legendrep([1, 0, 0], [1, 0, 0], 10))\n",
    "print(legendrep([1, 0, 0], [-1, 0, 0], 10))"
   ]
  },
  {
   "cell_type": "markdown",
   "metadata": {
    "deletable": true,
    "editable": true,
    "heading_collapsed": true
   },
   "source": [
    "## 1. Two point correlations"
   ]
  },
  {
   "cell_type": "code",
   "execution_count": 7,
   "metadata": {
    "collapsed": false,
    "deletable": true,
    "editable": true,
    "hidden": true
   },
   "outputs": [],
   "source": [
    "def I2N(N, FA, p1, sequence):\n",
    "    lam0=0\n",
    "    lam=0\n",
    "    \n",
    "    if sequence == (0,0): # AA\n",
    "        value = mp.IAAresum(N,FA,lam0,lam,p1)\n",
    "    elif sequence ==(0,1): # AB\n",
    "        value = mp.IABresum(N,FA,lam0,lam,p1)\n",
    "    elif sequence == (1,1): # BB\n",
    "        value = mp.IAAresum(N,1-FA,lam0,lam,p1)\n",
    "    else:\n",
    "        value=0.0\n",
    "    return value"
   ]
  },
  {
   "cell_type": "code",
   "execution_count": 8,
   "metadata": {
    "collapsed": true,
    "deletable": true,
    "editable": true,
    "hidden": true
   },
   "outputs": [],
   "source": [
    "def twoPointCorr(pset,N,FA,phi1,phi2):\n",
    "    val = 0.0+0.0j\n",
    "    for ordered in perms([phi1,phi2]):\n",
    "        q1=-ordered[0].k\n",
    "\n",
    "        # chemical sequence, A is 1\n",
    "        sequence = (ordered[0].alpha,ordered[1].alpha)\n",
    "\n",
    "        # Calculate or look up eigenstuff\n",
    "        p = pset.get_vec_prop(q1)\n",
    "        val += I2N(N, FA, p.prop(0), sequence)\n",
    "    return val"
   ]
  },
  {
   "cell_type": "code",
   "execution_count": 9,
   "metadata": {
    "collapsed": true,
    "deletable": true,
    "editable": true,
    "hidden": true
   },
   "outputs": [],
   "source": [
    "def s2wlc_zeroq(pset, N, FA):\n",
    "    s2 = np.zeros((2,2),dtype='complex')\n",
    "\n",
    "    FB = 1.0-FA\n",
    "    s2[0][0] = FA*FA\n",
    "    s2[1][1] = FB*FB\n",
    "    s2[0][1] = FA*FB\n",
    "    s2[1][0] = FB*FA\n",
    "    \n",
    "    return s2"
   ]
  },
  {
   "cell_type": "code",
   "execution_count": 10,
   "metadata": {
    "collapsed": true,
    "deletable": true,
    "editable": true,
    "hidden": true
   },
   "outputs": [],
   "source": [
    "def s2wlc(pset, N, FA, K, sequence='all'):\n",
    "    s2 = np.zeros((2,2),dtype=type(1+1j))\n",
    "    k1=np.array([0,0,1])*K\n",
    "    k2=-k1\n",
    "\n",
    "    if sequence == 'all':\n",
    "        if norm(k1) < 1e-5:\n",
    "            s2 = s2wlc_zeroq(pset, N, FA)\n",
    "            return s2\n",
    "            \n",
    "        for a1 in [0,1]:\n",
    "            for a2 in [0,1]:\n",
    "                phi1 = phi_tilde(k1,alpha=a1)\n",
    "                phi2 = phi_tilde(k2,alpha=a2)\n",
    "                s2[a1][a2] = twoPointCorr(pset, N, FA, phi1, phi2)\n",
    "    else:\n",
    "        a1, a2 = sequence\n",
    "        if norm(k1) < 1e-5:\n",
    "            s2 = s2wlc_zeroq(pset, N, FA)\n",
    "            return s2[a1][a2]\n",
    "        \n",
    "        phi1 = phi_tilde(k1,alpha=a1)\n",
    "        phi2 = phi_tilde(k2,alpha=a2)\n",
    "        s2 = twoPointCorr(pset, N, FA, phi1, phi2)\n",
    "        \n",
    "    return s2"
   ]
  },
  {
   "cell_type": "code",
   "execution_count": 11,
   "metadata": {
    "collapsed": true,
    "deletable": true,
    "editable": true,
    "hidden": true
   },
   "outputs": [],
   "source": [
    "def s2inverse_zeroq(pset, N, FA):\n",
    "    s2 = np.ones((2,2),dtype='complex')\n",
    "    \n",
    "    return s2/(N**2)"
   ]
  },
  {
   "cell_type": "code",
   "execution_count": 12,
   "metadata": {
    "collapsed": true,
    "deletable": true,
    "editable": true,
    "hidden": true
   },
   "outputs": [],
   "source": [
    "def s2inverse(pset, N, FA, K):\n",
    "    if norm(K) < 1e-5:\n",
    "        s2inv = s2inverse_zeroq(pset, N, FA)\n",
    "        return s2inv\n",
    "\n",
    "    s2 = s2wlc(pset, N, FA, K)\n",
    "    s2inv = np.zeros((2,2),dtype=type(1+1j))\n",
    "    \n",
    "    [s2aa, s2ab], [s2ba, s2bb] = s2\n",
    "    det = s2aa*s2bb - s2ab*s2ba\n",
    "    \n",
    "    s2inv[0,0] = s2bb/det\n",
    "    s2inv[0,1] = -s2ab/det\n",
    "    s2inv[1,0] = -s2ba/det\n",
    "    s2inv[1,1] = s2aa/det\n",
    "    \n",
    "    return s2inv"
   ]
  },
  {
   "cell_type": "code",
   "execution_count": 13,
   "metadata": {
    "collapsed": false,
    "deletable": true,
    "editable": true,
    "hidden": true
   },
   "outputs": [
    {
     "data": {
      "text/plain": [
       "(1+0j)"
      ]
     },
     "execution_count": 13,
     "metadata": {},
     "output_type": "execute_result"
    }
   ],
   "source": [
    "N = 100\n",
    "K = 0.0\n",
    "FA = 1.0\n",
    "\n",
    "nlam=1\n",
    "pset=propagator.prop_set(nlam=nlam)\n",
    "\n",
    "s2wlc(pset, N, FA, K, sequence=[0, 0])"
   ]
  },
  {
   "cell_type": "code",
   "execution_count": 14,
   "metadata": {
    "collapsed": false,
    "deletable": true,
    "editable": true,
    "hidden": true
   },
   "outputs": [
    {
     "data": {
      "text/plain": [
       "array([[ 0.0001+0.j,  0.0001+0.j],\n",
       "       [ 0.0001+0.j,  0.0001+0.j]])"
      ]
     },
     "execution_count": 14,
     "metadata": {},
     "output_type": "execute_result"
    }
   ],
   "source": [
    "N = 100\n",
    "K = 0.0\n",
    "FA = 0.1\n",
    "\n",
    "nlam=1\n",
    "pset=propagator.prop_set(nlam=nlam)\n",
    "\n",
    "s2inverse(pset, N, FA, K)"
   ]
  },
  {
   "cell_type": "code",
   "execution_count": 15,
   "metadata": {
    "collapsed": false,
    "deletable": true,
    "editable": true,
    "hidden": true
   },
   "outputs": [],
   "source": [
    "N=1.0\n",
    "FA=0.5\n",
    "\n",
    "nlam=4\n",
    "pset=propagator.prop_set(nlam=nlam)\n",
    "\n",
    "\n",
    "sequence = [0,0]\n",
    "KV = np.logspace(-4,7,100)\n",
    "s2 = np.zeros((len(KV)),dtype=type(1+1j))\n",
    "for ind, K in enumerate(KV):\n",
    "    s2[ind] = s2wlc(pset, N, FA, K, sequence=sequence)/(N**2)"
   ]
  },
  {
   "cell_type": "code",
   "execution_count": 16,
   "metadata": {
    "collapsed": false,
    "deletable": true,
    "editable": true,
    "hidden": true
   },
   "outputs": [
    {
     "data": {
      "image/png": "[encoded data removed]",
      "text/html": [
       "\n",
       "\n",
       "<style>\n",
       "\n",
       "</style>\n",
       "\n",
       "<div id=\"fig_el643691398551449014883427265179\"></div>\n",
       "<script>\n",
       "function mpld3_load_lib(url, callback){\n",
       "  var s = document.createElement('script');\n",
       "  s.src = url;\n",
       "  s.async = true;\n",
       "  s.onreadystatechange = s.onload = callback;\n",
       "  s.onerror = function(){console.warn(\"failed to load library \" + url);};\n",
       "  document.getElementsByTagName(\"head\")[0].appendChild(s);\n",
       "}\n",
       "\n",
       "if(typeof(mpld3) !== \"undefined\" && mpld3._mpld3IsLoaded){\n",
       "   // already loaded: just create the figure\n",
       "   !function(mpld3){\n",
       "       \n",
       "       mpld3.draw_figure(\"fig_el643691398551449014883427265179\", {\"width\": 432.0, \"height\": 288.0, \"axes\": [{\"xscale\": \"log\", \"zoomable\": true, \"axesbgalpha\": null, \"id\": \"el64369139854790504520\", \"ydomain\": [1e-07, 1000.0], \"yscale\": \"log\", \"collections\": [], \"texts\": [], \"axes\": [{\"nticks\": 14, \"tickvalues\": null, \"position\": \"bottom\", \"grid\": {\"gridOn\": false}, \"scale\": \"log\", \"tickformat\": null, \"fontsize\": 10.0, \"visible\": true}, {\"nticks\": 13, \"tickvalues\": null, \"position\": \"left\", \"grid\": {\"gridOn\": false}, \"scale\": \"log\", \"tickformat\": null, \"fontsize\": 10.0, \"visible\": true}], \"ylim\": [1e-07, 1000.0], \"sharex\": [], \"xdomain\": [0.0001, 10000000.0], \"sharey\": [], \"markers\": [], \"lines\": [{\"zorder\": 2, \"dasharray\": \"none\", \"drawstyle\": \"default\", \"yindex\": 1, \"data\": \"data01\", \"coordinates\": \"data\", \"id\": \"el64369139855074522952\", \"color\": \"#0000FF\", \"linewidth\": 1.0, \"xindex\": 0, \"alpha\": 1}, {\"zorder\": 2, \"dasharray\": \"none\", \"drawstyle\": \"default\", \"yindex\": 1, \"data\": \"data02\", \"coordinates\": \"data\", \"id\": \"el64369139855077039744\", \"color\": \"#007F00\", \"linewidth\": 1.0, \"xindex\": 0, \"alpha\": 1}], \"paths\": [], \"bbox\": [0.125, 0.125, 0.775, 0.775], \"xlim\": [0.0001, 10000000.0], \"axesbg\": \"#FFFFFF\", \"images\": []}], \"data\": {\"data01\": [[0.0001, -512.0], [0.0001291549665014884, 224.0], [0.0001668100537200059, -304.0], [0.00021544346900318845, -24.0], [0.0002782559402207126, 20.0], [0.00035938136638046257, -17.0], [0.00046415888336127773, 0.5], [0.0005994842503189409, -1.875], [0.000774263682681127, 0.09375], [0.001, 0.234375], [0.001291549665014884, 0.23828125], [0.0016681005372000592, 0.265625], [0.002154434690031882, 0.2548828125], [0.0027825594022071257, 0.250244140625], [0.003593813663804626, 0.25152587890625], [0.004641588833612777, 0.249755859375], [0.005994842503189409, 0.25003814697265625], [0.007742636826811269, 0.24993896484375], [0.01, 0.2500143051147461], [0.01291549665014884, 0.2499995231628418], [0.016681005372000592, 0.24999761581420898], [0.021544346900318822, 0.24999946355819702], [0.02782559402207123, 0.24999867379665375], [0.03593813663804626, 0.24999823421239853], [0.046415888336127774, 0.24999691732227802], [0.05994842503189409, 0.24999483488500118], [0.0774263682681127, 0.24999137315899134], [0.1, 0.24998560640960932], [0.12915496650148828, 0.24997598945628852], [0.16681005372000574, 0.24995995154313277], [0.21544346900318823, 0.2499332001316361], [0.2782559402207123, 0.24988858485266974], [0.3593813663804626, 0.24981418622064666], [0.46415888336127775, 0.24969014935663836], [0.5994842503189409, 0.24948343106780158], [0.774263682681127, 0.24913912587982168], [1.0, 0.24856623898378416], [1.2915496650148828, 0.24761462411798618], [1.6681005372000592, 0.2460383542435025], [2.154434690031882, 0.24343963620010545], [2.782559402207126, 0.23918872963969784], [3.593813663804626, 0.23232568439649998], [4.641588833612772, 0.22148510965926613], [5.994842503189409, 0.20497648513693226], [7.742636826811262, 0.18132624044721266], [10.0, 0.15072419770523465], [12.915496650148826, 0.1172116466555635], [16.68100537200059, 0.08869779634684692], [21.54434690031882, 0.06964801526869369], [27.8255940220712, 0.054879885815240434], [35.93813663804626, 0.04266419202981096], [46.41588833612773, 0.03320226247211944], [59.94842503189409, 0.025824590807077916], [77.42636826811261, 0.020065929899737503], [100.0, 0.015574068333549556], [129.15496650148827, 0.012082155894997516], [166.81005372000558, 0.009368732606804119], [215.44346900318823, 0.00726226237452929], [278.25594022071203, 0.005627929810256615], [359.38136638046257, 0.004360510500472765], [464.1588833612773, 0.00337798934085702], [599.4842503189409, 0.002616536141932006], [774.2636826811262, 0.002026537343367702], [1000.0, 0.0015694629962001029], [1291.5496650148827, 0.0012154112373868558], [1668.1005372000557, 0.0009411884835748019], [2154.4346900318824, 0.0007288118112029387], [2782.55940220712, 0.0005643427236531383], [3593.813663804626, 0.0004369801736664604], [4641.588833612773, 0.00033835592189700853], [5994.8425031894085, 0.00026198751886595886], [7742.636826811262, 0.00020285390562813066], [10000.0, 0.00015706629934643336], [12915.496650148827, 0.00012161306174938252], [16681.005372000556, 9.416197408572284e-05], [21544.34690031878, 7.290703432373808e-05], [27825.59402207126, 5.6449770956680814e-05], [35938.13663804626, 4.3707308529180394e-05], [46415.888336127726, 3.3841162095705406e-05], [59948.42503189397, 2.6202090957664477e-05], [77426.36826811278, 2.0287392283380734e-05], [100000.0, 1.570782993461569e-05], [129154.96650148826, 1.2162025556028712e-05], [166810.05372000558, 9.416628666208376e-06], [215443.46900318778, 7.29096196453533e-06], [278255.94022071257, 5.645132081627423e-06], [359381.36638046254, 4.370823764559795e-06], [464158.8833612772, 3.3841719086364816e-06], [599484.2503189397, 2.6202424864792547e-06], [774263.6826811245, 2.028759245544518e-06], [1000000.0, 1.5707949934615637e-06], [1291549.6650148828, 1.216209749413873e-06], [1668100.5372000558, 9.41667179197232e-07], [2154434.6900318777, 7.290987817751605e-07], [2782559.402207126, 5.645147580224259e-07], [3593813.6638046256, 4.3708330563316514e-07], [4641588.833612773, 3.3841775706868664e-07], [5994842.503189396, 2.620250076540902e-07], [7742636.826811246, 2.028839245195226e-07], [10000000.0, 1.5714969462402646e-07]], \"data02\": [[10.0, 0.1], [100.0, 0.01]]}, \"id\": \"el64369139855144901488\", \"plugins\": [{\"type\": \"reset\"}, {\"button\": true, \"type\": \"zoom\", \"enabled\": false}, {\"button\": true, \"type\": \"boxzoom\", \"enabled\": false}]});\n",
       "   }(mpld3);\n",
       "}else if(typeof define === \"function\" && define.amd){\n",
       "   // require.js is available: use it to load d3/mpld3\n",
       "   require.config({paths: {d3: \"https://mpld3.github.io/js/d3.v3.min\"}});\n",
       "   require([\"d3\"], function(d3){\n",
       "      window.d3 = d3;\n",
       "      mpld3_load_lib(\"https://mpld3.github.io/js/mpld3.v0.3.js\", function(){\n",
       "         \n",
       "         mpld3.draw_figure(\"fig_el643691398551449014883427265179\", {\"width\": 432.0, \"height\": 288.0, \"axes\": [{\"xscale\": \"log\", \"zoomable\": true, \"axesbgalpha\": null, \"id\": \"el64369139854790504520\", \"ydomain\": [1e-07, 1000.0], \"yscale\": \"log\", \"collections\": [], \"texts\": [], \"axes\": [{\"nticks\": 14, \"tickvalues\": null, \"position\": \"bottom\", \"grid\": {\"gridOn\": false}, \"scale\": \"log\", \"tickformat\": null, \"fontsize\": 10.0, \"visible\": true}, {\"nticks\": 13, \"tickvalues\": null, \"position\": \"left\", \"grid\": {\"gridOn\": false}, \"scale\": \"log\", \"tickformat\": null, \"fontsize\": 10.0, \"visible\": true}], \"ylim\": [1e-07, 1000.0], \"sharex\": [], \"xdomain\": [0.0001, 10000000.0], \"sharey\": [], \"markers\": [], \"lines\": [{\"zorder\": 2, \"dasharray\": \"none\", \"drawstyle\": \"default\", \"yindex\": 1, \"data\": \"data01\", \"coordinates\": \"data\", \"id\": \"el64369139855074522952\", \"color\": \"#0000FF\", \"linewidth\": 1.0, \"xindex\": 0, \"alpha\": 1}, {\"zorder\": 2, \"dasharray\": \"none\", \"drawstyle\": \"default\", \"yindex\": 1, \"data\": \"data02\", \"coordinates\": \"data\", \"id\": \"el64369139855077039744\", \"color\": \"#007F00\", \"linewidth\": 1.0, \"xindex\": 0, \"alpha\": 1}], \"paths\": [], \"bbox\": [0.125, 0.125, 0.775, 0.775], \"xlim\": [0.0001, 10000000.0], \"axesbg\": \"#FFFFFF\", \"images\": []}], \"data\": {\"data01\": [[0.0001, -512.0], [0.0001291549665014884, 224.0], [0.0001668100537200059, -304.0], [0.00021544346900318845, -24.0], [0.0002782559402207126, 20.0], [0.00035938136638046257, -17.0], [0.00046415888336127773, 0.5], [0.0005994842503189409, -1.875], [0.000774263682681127, 0.09375], [0.001, 0.234375], [0.001291549665014884, 0.23828125], [0.0016681005372000592, 0.265625], [0.002154434690031882, 0.2548828125], [0.0027825594022071257, 0.250244140625], [0.003593813663804626, 0.25152587890625], [0.004641588833612777, 0.249755859375], [0.005994842503189409, 0.25003814697265625], [0.007742636826811269, 0.24993896484375], [0.01, 0.2500143051147461], [0.01291549665014884, 0.2499995231628418], [0.016681005372000592, 0.24999761581420898], [0.021544346900318822, 0.24999946355819702], [0.02782559402207123, 0.24999867379665375], [0.03593813663804626, 0.24999823421239853], [0.046415888336127774, 0.24999691732227802], [0.05994842503189409, 0.24999483488500118], [0.0774263682681127, 0.24999137315899134], [0.1, 0.24998560640960932], [0.12915496650148828, 0.24997598945628852], [0.16681005372000574, 0.24995995154313277], [0.21544346900318823, 0.2499332001316361], [0.2782559402207123, 0.24988858485266974], [0.3593813663804626, 0.24981418622064666], [0.46415888336127775, 0.24969014935663836], [0.5994842503189409, 0.24948343106780158], [0.774263682681127, 0.24913912587982168], [1.0, 0.24856623898378416], [1.2915496650148828, 0.24761462411798618], [1.6681005372000592, 0.2460383542435025], [2.154434690031882, 0.24343963620010545], [2.782559402207126, 0.23918872963969784], [3.593813663804626, 0.23232568439649998], [4.641588833612772, 0.22148510965926613], [5.994842503189409, 0.20497648513693226], [7.742636826811262, 0.18132624044721266], [10.0, 0.15072419770523465], [12.915496650148826, 0.1172116466555635], [16.68100537200059, 0.08869779634684692], [21.54434690031882, 0.06964801526869369], [27.8255940220712, 0.054879885815240434], [35.93813663804626, 0.04266419202981096], [46.41588833612773, 0.03320226247211944], [59.94842503189409, 0.025824590807077916], [77.42636826811261, 0.020065929899737503], [100.0, 0.015574068333549556], [129.15496650148827, 0.012082155894997516], [166.81005372000558, 0.009368732606804119], [215.44346900318823, 0.00726226237452929], [278.25594022071203, 0.005627929810256615], [359.38136638046257, 0.004360510500472765], [464.1588833612773, 0.00337798934085702], [599.4842503189409, 0.002616536141932006], [774.2636826811262, 0.002026537343367702], [1000.0, 0.0015694629962001029], [1291.5496650148827, 0.0012154112373868558], [1668.1005372000557, 0.0009411884835748019], [2154.4346900318824, 0.0007288118112029387], [2782.55940220712, 0.0005643427236531383], [3593.813663804626, 0.0004369801736664604], [4641.588833612773, 0.00033835592189700853], [5994.8425031894085, 0.00026198751886595886], [7742.636826811262, 0.00020285390562813066], [10000.0, 0.00015706629934643336], [12915.496650148827, 0.00012161306174938252], [16681.005372000556, 9.416197408572284e-05], [21544.34690031878, 7.290703432373808e-05], [27825.59402207126, 5.6449770956680814e-05], [35938.13663804626, 4.3707308529180394e-05], [46415.888336127726, 3.3841162095705406e-05], [59948.42503189397, 2.6202090957664477e-05], [77426.36826811278, 2.0287392283380734e-05], [100000.0, 1.570782993461569e-05], [129154.96650148826, 1.2162025556028712e-05], [166810.05372000558, 9.416628666208376e-06], [215443.46900318778, 7.29096196453533e-06], [278255.94022071257, 5.645132081627423e-06], [359381.36638046254, 4.370823764559795e-06], [464158.8833612772, 3.3841719086364816e-06], [599484.2503189397, 2.6202424864792547e-06], [774263.6826811245, 2.028759245544518e-06], [1000000.0, 1.5707949934615637e-06], [1291549.6650148828, 1.216209749413873e-06], [1668100.5372000558, 9.41667179197232e-07], [2154434.6900318777, 7.290987817751605e-07], [2782559.402207126, 5.645147580224259e-07], [3593813.6638046256, 4.3708330563316514e-07], [4641588.833612773, 3.3841775706868664e-07], [5994842.503189396, 2.620250076540902e-07], [7742636.826811246, 2.028839245195226e-07], [10000000.0, 1.5714969462402646e-07]], \"data02\": [[10.0, 0.1], [100.0, 0.01]]}, \"id\": \"el64369139855144901488\", \"plugins\": [{\"type\": \"reset\"}, {\"button\": true, \"type\": \"zoom\", \"enabled\": false}, {\"button\": true, \"type\": \"boxzoom\", \"enabled\": false}]});\n",
       "      });\n",
       "    });\n",
       "}else{\n",
       "    // require.js not available: dynamically load d3 & mpld3\n",
       "    mpld3_load_lib(\"https://mpld3.github.io/js/d3.v3.min.js\", function(){\n",
       "         mpld3_load_lib(\"https://mpld3.github.io/js/mpld3.v0.3.js\", function(){\n",
       "                 \n",
       "                 mpld3.draw_figure(\"fig_el643691398551449014883427265179\", {\"width\": 432.0, \"height\": 288.0, \"axes\": [{\"xscale\": \"log\", \"zoomable\": true, \"axesbgalpha\": null, \"id\": \"el64369139854790504520\", \"ydomain\": [1e-07, 1000.0], \"yscale\": \"log\", \"collections\": [], \"texts\": [], \"axes\": [{\"nticks\": 14, \"tickvalues\": null, \"position\": \"bottom\", \"grid\": {\"gridOn\": false}, \"scale\": \"log\", \"tickformat\": null, \"fontsize\": 10.0, \"visible\": true}, {\"nticks\": 13, \"tickvalues\": null, \"position\": \"left\", \"grid\": {\"gridOn\": false}, \"scale\": \"log\", \"tickformat\": null, \"fontsize\": 10.0, \"visible\": true}], \"ylim\": [1e-07, 1000.0], \"sharex\": [], \"xdomain\": [0.0001, 10000000.0], \"sharey\": [], \"markers\": [], \"lines\": [{\"zorder\": 2, \"dasharray\": \"none\", \"drawstyle\": \"default\", \"yindex\": 1, \"data\": \"data01\", \"coordinates\": \"data\", \"id\": \"el64369139855074522952\", \"color\": \"#0000FF\", \"linewidth\": 1.0, \"xindex\": 0, \"alpha\": 1}, {\"zorder\": 2, \"dasharray\": \"none\", \"drawstyle\": \"default\", \"yindex\": 1, \"data\": \"data02\", \"coordinates\": \"data\", \"id\": \"el64369139855077039744\", \"color\": \"#007F00\", \"linewidth\": 1.0, \"xindex\": 0, \"alpha\": 1}], \"paths\": [], \"bbox\": [0.125, 0.125, 0.775, 0.775], \"xlim\": [0.0001, 10000000.0], \"axesbg\": \"#FFFFFF\", \"images\": []}], \"data\": {\"data01\": [[0.0001, -512.0], [0.0001291549665014884, 224.0], [0.0001668100537200059, -304.0], [0.00021544346900318845, -24.0], [0.0002782559402207126, 20.0], [0.00035938136638046257, -17.0], [0.00046415888336127773, 0.5], [0.0005994842503189409, -1.875], [0.000774263682681127, 0.09375], [0.001, 0.234375], [0.001291549665014884, 0.23828125], [0.0016681005372000592, 0.265625], [0.002154434690031882, 0.2548828125], [0.0027825594022071257, 0.250244140625], [0.003593813663804626, 0.25152587890625], [0.004641588833612777, 0.249755859375], [0.005994842503189409, 0.25003814697265625], [0.007742636826811269, 0.24993896484375], [0.01, 0.2500143051147461], [0.01291549665014884, 0.2499995231628418], [0.016681005372000592, 0.24999761581420898], [0.021544346900318822, 0.24999946355819702], [0.02782559402207123, 0.24999867379665375], [0.03593813663804626, 0.24999823421239853], [0.046415888336127774, 0.24999691732227802], [0.05994842503189409, 0.24999483488500118], [0.0774263682681127, 0.24999137315899134], [0.1, 0.24998560640960932], [0.12915496650148828, 0.24997598945628852], [0.16681005372000574, 0.24995995154313277], [0.21544346900318823, 0.2499332001316361], [0.2782559402207123, 0.24988858485266974], [0.3593813663804626, 0.24981418622064666], [0.46415888336127775, 0.24969014935663836], [0.5994842503189409, 0.24948343106780158], [0.774263682681127, 0.24913912587982168], [1.0, 0.24856623898378416], [1.2915496650148828, 0.24761462411798618], [1.6681005372000592, 0.2460383542435025], [2.154434690031882, 0.24343963620010545], [2.782559402207126, 0.23918872963969784], [3.593813663804626, 0.23232568439649998], [4.641588833612772, 0.22148510965926613], [5.994842503189409, 0.20497648513693226], [7.742636826811262, 0.18132624044721266], [10.0, 0.15072419770523465], [12.915496650148826, 0.1172116466555635], [16.68100537200059, 0.08869779634684692], [21.54434690031882, 0.06964801526869369], [27.8255940220712, 0.054879885815240434], [35.93813663804626, 0.04266419202981096], [46.41588833612773, 0.03320226247211944], [59.94842503189409, 0.025824590807077916], [77.42636826811261, 0.020065929899737503], [100.0, 0.015574068333549556], [129.15496650148827, 0.012082155894997516], [166.81005372000558, 0.009368732606804119], [215.44346900318823, 0.00726226237452929], [278.25594022071203, 0.005627929810256615], [359.38136638046257, 0.004360510500472765], [464.1588833612773, 0.00337798934085702], [599.4842503189409, 0.002616536141932006], [774.2636826811262, 0.002026537343367702], [1000.0, 0.0015694629962001029], [1291.5496650148827, 0.0012154112373868558], [1668.1005372000557, 0.0009411884835748019], [2154.4346900318824, 0.0007288118112029387], [2782.55940220712, 0.0005643427236531383], [3593.813663804626, 0.0004369801736664604], [4641.588833612773, 0.00033835592189700853], [5994.8425031894085, 0.00026198751886595886], [7742.636826811262, 0.00020285390562813066], [10000.0, 0.00015706629934643336], [12915.496650148827, 0.00012161306174938252], [16681.005372000556, 9.416197408572284e-05], [21544.34690031878, 7.290703432373808e-05], [27825.59402207126, 5.6449770956680814e-05], [35938.13663804626, 4.3707308529180394e-05], [46415.888336127726, 3.3841162095705406e-05], [59948.42503189397, 2.6202090957664477e-05], [77426.36826811278, 2.0287392283380734e-05], [100000.0, 1.570782993461569e-05], [129154.96650148826, 1.2162025556028712e-05], [166810.05372000558, 9.416628666208376e-06], [215443.46900318778, 7.29096196453533e-06], [278255.94022071257, 5.645132081627423e-06], [359381.36638046254, 4.370823764559795e-06], [464158.8833612772, 3.3841719086364816e-06], [599484.2503189397, 2.6202424864792547e-06], [774263.6826811245, 2.028759245544518e-06], [1000000.0, 1.5707949934615637e-06], [1291549.6650148828, 1.216209749413873e-06], [1668100.5372000558, 9.41667179197232e-07], [2154434.6900318777, 7.290987817751605e-07], [2782559.402207126, 5.645147580224259e-07], [3593813.6638046256, 4.3708330563316514e-07], [4641588.833612773, 3.3841775706868664e-07], [5994842.503189396, 2.620250076540902e-07], [7742636.826811246, 2.028839245195226e-07], [10000000.0, 1.5714969462402646e-07]], \"data02\": [[10.0, 0.1], [100.0, 0.01]]}, \"id\": \"el64369139855144901488\", \"plugins\": [{\"type\": \"reset\"}, {\"button\": true, \"type\": \"zoom\", \"enabled\": false}, {\"button\": true, \"type\": \"boxzoom\", \"enabled\": false}]});\n",
       "            })\n",
       "         });\n",
       "}\n",
       "</script>"
      ],
      "text/plain": [
       "<matplotlib.figure.Figure at 0x7f32903b5b70>"
      ]
     },
     "metadata": {},
     "output_type": "display_data"
    }
   ],
   "source": [
    "# plt.loglog(KV, np.real(np.sum(np.vstack([s2[0,0,:], s2[0,1,:], \\\n",
    "#                                          s2[1,0,:], s2[1,1,:]]), axis=0)))\n",
    "plt.loglog(KV, np.real(s2))\n",
    "plotlog(1e1,1e-1,-1)\n",
    "plt.show()"
   ]
  },
  {
   "cell_type": "markdown",
   "metadata": {
    "deletable": true,
    "editable": true,
    "heading_collapsed": true
   },
   "source": [
    "## Three point correlations"
   ]
  },
  {
   "cell_type": "code",
   "execution_count": 7,
   "metadata": {
    "collapsed": false,
    "deletable": true,
    "editable": true,
    "hidden": true
   },
   "outputs": [],
   "source": [
    "def I3N(N,FA,lam0_1,lam_1,mu1,\\\n",
    "            lam0_2,lam_2,mu2,\\\n",
    "            p1,p2,\\\n",
    "            sequence):\n",
    "    \n",
    "    value = 0\n",
    "    if sequence == (0,0,0): # AAA\n",
    "        value = mp.IAAAresum(N,FA,lam0_1,lam_1,\\\n",
    "                                  lam0_2,lam_2,\\\n",
    "                                  p1.prop(mu1),\\\n",
    "                                  p2.prop(mu2))\n",
    "    elif sequence == (0,0,1): # AAB\n",
    "        value = mp.IABBresum(N,1-FA,lam0_1,lam_1,\\\n",
    "                                  lam0_2,lam_2,\\\n",
    "                                  p1.prop(mu1),\\\n",
    "                                  p2.prop(mu2))\n",
    "    elif sequence == (0,1,1): # ABB\n",
    "        value = mp.IABBresum(N,FA,lam0_1,lam_1,\\\n",
    "                                  lam0_2,lam_2,\\\n",
    "                                  p1.prop(mu1),\\\n",
    "                                  p2.prop(mu2))\n",
    "    elif sequence == (1,1,1): # BBB\n",
    "        fb=1.0-FA\n",
    "        # Same as AAAA except fb instead of FA\n",
    "        value = mp.IAAAresum(N,fb,lam0_1,lam_1,\\\n",
    "                                  lam0_2,lam_2,\\\n",
    "                                  p1.prop(mu1),\\\n",
    "                                  p2.prop(mu2))\n",
    "    else:\n",
    "        pass\n",
    "    \n",
    "    return value"
   ]
  },
  {
   "cell_type": "markdown",
   "metadata": {
    "deletable": true,
    "editable": true,
    "hidden": true
   },
   "source": [
    "### Space ordering of wavevectors"
   ]
  },
  {
   "cell_type": "code",
   "execution_count": 8,
   "metadata": {
    "collapsed": false,
    "deletable": true,
    "editable": true,
    "hidden": true
   },
   "outputs": [],
   "source": [
    "# Inputs\n",
    "#     pset (propagator.prop_set), the set of propagators used so FAr\n",
    "#     N (float), number of Khun lengths\n",
    "#     FA (float), fraction of type A\n",
    "#     prop1 (phi_tilde), contains k and alpha\n",
    "def threePointCorr(pset,N,FA,phi1,phi2,phi3):\n",
    "#     print('Warning: Winger D hasnt been implemented!')\n",
    "    nlam=pset.nlam\n",
    "    # The first and last lam must be zero \n",
    "    mu1=0\n",
    "    mu2=0\n",
    "    lam0_1=0\n",
    "    lam_2=0\n",
    "    \n",
    "    total = 0.0+0.0j\n",
    "    # The Points can be visited in any order\n",
    "    for ordered in perms([phi1,phi2,phi3]):\n",
    "        # while phi1.k is the absolute Fourier position\n",
    "        # q1 is the relitive Fourier position of 1 and 2\n",
    "        q1=-ordered[0].k\n",
    "        q2=-ordered[0].k-ordered[1].k\n",
    "        \n",
    "        # chemical sequence, A is 1\n",
    "        sequence = (ordered[0].alpha,ordered[1].alpha,ordered[2].alpha)\n",
    "        \n",
    "        # Calculate or look up eigenstuff\n",
    "        p1 = pset.get_vec_prop(q1)\n",
    "        p2 = pset.get_vec_prop(q2)\n",
    "\n",
    "        # Calculate Legendre polynomial\n",
    "        PL = legendrep(q1, q2, nlam)\n",
    "        \n",
    "        # Angular sum\n",
    "        for lam in range(0,nlam):\n",
    "            lam_1, lam0_2 = lam, lam\n",
    "            value = I3N(N,FA,lam0_1,lam_1,mu1,\\\n",
    "                        lam0_2,lam_2,mu2,\\\n",
    "                        p1,p2,\\\n",
    "                        sequence)\n",
    "\n",
    "            # Wigner D goes here!\n",
    "            value *= PL[lam]\n",
    "\n",
    "            total = total + value\n",
    "    return total"
   ]
  },
  {
   "cell_type": "code",
   "execution_count": 9,
   "metadata": {
    "collapsed": true,
    "deletable": true,
    "editable": true,
    "hidden": true
   },
   "outputs": [],
   "source": [
    "def s3wlc_zeroq3(pset, N, FA, Ks):\n",
    "    k1, k2, k3 = Ks\n",
    "    s3 = np.zeros((2,2,2),dtype=type(1+1j))\n",
    "\n",
    "    FB = 1.0-FA\n",
    "    s2 = s2wlc(pset, N, FA, norm(k1))\n",
    "    s3[0][0][0] = s2[0][0]*FA*N\n",
    "    s3[0][0][1] = s2[0][0]*FB*N\n",
    "    s3[0][1][0] = s2[0][1]*FA*N\n",
    "    s3[0][1][1] = s2[0][1]*FB*N\n",
    "    s3[1][0][0] = s2[1][0]*FA*N\n",
    "    s3[1][0][1] = s2[1][0]*FB*N\n",
    "    s3[1][1][0] = s2[1][1]*FA*N\n",
    "    s3[1][1][1] = s2[1][1]*FB*N\n",
    "    \n",
    "    return s3"
   ]
  },
  {
   "cell_type": "code",
   "execution_count": 10,
   "metadata": {
    "collapsed": true,
    "deletable": true,
    "editable": true,
    "hidden": true
   },
   "outputs": [],
   "source": [
    "def s3wlc(pset, N, FA, Ks, sequence='all'):\n",
    "    k1, k2, k3 = Ks\n",
    "    if norm(k1+k2+k3) >= 1e-10:\n",
    "        raise ValueError('Qs must add up to zero')\n",
    "\n",
    "    if sequence=='all':\n",
    "        s3 = np.zeros((2,2,2),dtype=type(1+1j))\n",
    "        if norm(k3) < 1e-5:\n",
    "            return s3wlc_zeroq3(pset, N, FA, Ks)\n",
    "        \n",
    "        for a1, a2, a3 in product([0,1], repeat=3):\n",
    "            phi1 = phi_tilde(k1,alpha=a1)\n",
    "            phi2 = phi_tilde(k2,alpha=a2)\n",
    "            phi3 = phi_tilde(k3,alpha=a3)\n",
    "\n",
    "            s3[a1][a2][a3] = threePointCorr(pset, N, FA, \\\n",
    "                                            phi1, phi2, phi3)\n",
    "    else:\n",
    "        a1, a2, a3 = sequence\n",
    "        if norm(k3) < 1e-5:\n",
    "            s3 = s3wlc_zeroq3(pset, N, FA, Ks)\n",
    "            return s3[a1][a2][a3]\n",
    "\n",
    "        phi1 = phi_tilde(k1,alpha=a1)\n",
    "        phi2 = phi_tilde(k2,alpha=a2)\n",
    "        phi3 = phi_tilde(k3,alpha=a3)\n",
    "        s3 = threePointCorr(pset, N, FA, phi1, phi2, phi3)\n",
    "        \n",
    "    return s3"
   ]
  },
  {
   "cell_type": "code",
   "execution_count": 11,
   "metadata": {
    "collapsed": false,
    "deletable": true,
    "editable": true,
    "hidden": true
   },
   "outputs": [
    {
     "name": "stdout",
     "output_type": "stream",
     "text": [
      "[array([ 1.,  0.,  0.]), array([-0.5      ,  0.8660254,  0.       ]), array([-0.5      , -0.8660254, -0.       ])]\n",
      "(231996.08399+8.86187477102e-89j)\n"
     ]
    }
   ],
   "source": [
    "N = 1000\n",
    "FA = 1.0\n",
    "K = 1e0\n",
    "\n",
    "def set3Ks(K):\n",
    "#     k1=np.array([0,0,1])*K\n",
    "#     k2=np.array([0,0,-1])*K\n",
    "#     k3=-k1-k2\n",
    "    \n",
    "    k1 = np.array([1,0,0])*K\n",
    "    k2 = np.array([-0.5,0.5*np.sqrt(3),0])*K\n",
    "    k3 = -k1-k2\n",
    "\n",
    "    Ks = [k1, k2, k3]\n",
    "    return Ks\n",
    "\n",
    "nlam = 6\n",
    "pset=propagator.prop_set(nlam=nlam)\n",
    "\n",
    "Ks = set3Ks(K)\n",
    "s3 = s3wlc(pset, N, FA, Ks, sequence=[0, 0, 0])\n",
    "\n",
    "print(Ks)\n",
    "print(s3)"
   ]
  },
  {
   "cell_type": "code",
   "execution_count": 12,
   "metadata": {
    "collapsed": false,
    "deletable": true,
    "editable": true,
    "hidden": true
   },
   "outputs": [
    {
     "data": {
      "image/png": "[encoded data removed]",
      "text/html": [
       "\n",
       "\n",
       "<style>\n",
       "\n",
       "</style>\n",
       "\n",
       "<div id=\"fig_el646211398141454726084590858057\"></div>\n",
       "<script>\n",
       "function mpld3_load_lib(url, callback){\n",
       "  var s = document.createElement('script');\n",
       "  s.src = url;\n",
       "  s.async = true;\n",
       "  s.onreadystatechange = s.onload = callback;\n",
       "  s.onerror = function(){console.warn(\"failed to load library \" + url);};\n",
       "  document.getElementsByTagName(\"head\")[0].appendChild(s);\n",
       "}\n",
       "\n",
       "if(typeof(mpld3) !== \"undefined\" && mpld3._mpld3IsLoaded){\n",
       "   // already loaded: just create the figure\n",
       "   !function(mpld3){\n",
       "       \n",
       "       mpld3.draw_figure(\"fig_el646211398141454726084590858057\", {\"data\": {\"data01\": [[0.01, 1168728569918346.8], [0.013894954943731374, 162394316244691.44], [0.019306977288832496, 22564619250053.9], [0.02682695795279726, 3135344272171.836], [0.0372759372031494, 435654838631.75085], [0.0517947467923121, 60534090455.90523], [0.07196856730011521, 8411198598.473894], [0.1, 1168736745.4421272], [0.13894954943731375, 162397027.37656137], [0.19306977288832497, 22565613.596480954], [0.2682695795279725, 3135748.129804038], [0.372759372031494, 435832.99472208176], [0.517947467923121, 60616.85245377819], [0.7196856730011517, 8450.336893069227], [1.0, 1186.8620610733656], [1.3894954943731375, 170.11896392156802], [1.9306977288832496, 25.13027495684639], [2.6826957952797246, 3.269129613020843], [3.727593720314938, 0.34647024466990006], [5.179474679231207, 0.7511031711506804], [7.196856730011514, 0.43808973940975926], [10.0, 0.18231251540858756], [13.894954943731374, 0.10629237142496047], [19.306977288832496, 0.052188061359119756], [26.826957952797247, 0.02578726448924909], [37.27593720314938, 0.012320244101303869], [51.794746792312075, 0.005888332648283997], [71.96856730011514, 0.002850684822000735], [100.0, 0.0014211404903519149], [138.9495494373136, 0.0007313137587454811], [193.06977288832496, 0.00038317595107322037], [268.26957952797216, 0.0002008542457367619], [372.7593720314938, 0.00010450349942148778], [517.9474679231213, 5.411382596626902e-05], [719.6856730011514, 2.8013714133458055e-05], [1000.0, 1.4517305357942538e-05], [1389.4954943731361, 7.539846960630044e-06], [1930.6977288832495, 3.937257414332804e-06], [2682.695795279722, 2.072294872451044e-06], [3727.593720314938, 1.0984136591204966e-06], [5179.474679231202, 5.843371969181848e-07], [7196.856730011514, 3.1084357659145886e-07], [10000.0, 1.649261257223288e-07], [13894.95494373136, 8.717421342124819e-08], [19306.977288832495, 4.589391500783243e-08], [26826.95795279722, 2.4074004943236927e-08], [37275.93720314938, 1.2589876876015871e-08], [51794.74679231202, 6.568114968679913e-09], [71968.56730011514, 3.420150752908602e-09], [100000.0, 1.7784156633533747e-09]], \"data02\": [[3.727593720314938, 0.34647024466990006], [5.179474679231207, 0.7511031711506804], [7.196856730011514, 0.43808973940975926], [10.0, 0.18231251540858756], [13.894954943731374, 0.10629237142496047], [19.306977288832496, 0.052188061359119756], [26.826957952797247, 0.02578726448924909], [37.27593720314938, 0.012320244101303869], [51.794746792312075, 0.005888332648283997], [71.96856730011514, 0.002850684822000735], [100.0, 0.0014211404903519149], [138.9495494373136, 0.0007313137587454811], [193.06977288832496, 0.00038317595107322037], [268.26957952797216, 0.0002008542457367619], [372.7593720314938, 0.00010450349942148778], [517.9474679231213, 5.411382596626902e-05], [719.6856730011514, 2.8013714133458055e-05], [1000.0, 1.4517305357942538e-05], [1389.4954943731361, 7.539846960630044e-06], [1930.6977288832495, 3.937257414332804e-06], [2682.695795279722, 2.072294872451044e-06], [3727.593720314938, 1.0984136591204966e-06], [5179.474679231202, 5.843371969181848e-07], [7196.856730011514, 3.1084357659145886e-07], [10000.0, 1.649261257223288e-07], [13894.95494373136, 8.717421342124819e-08], [19306.977288832495, 4.589391500783243e-08], [26826.95795279722, 2.4074004943236927e-08], [37275.93720314938, 1.2589876876015871e-08], [51794.74679231202, 6.568114968679913e-09], [71968.56730011514, 3.420150752908602e-09], [100000.0, 1.7784156633533747e-09]], \"data03\": [[10.0, 0.005], [1000.0, 5e-07]]}, \"width\": 432.0, \"height\": 288.0, \"plugins\": [{\"type\": \"reset\"}, {\"enabled\": false, \"type\": \"zoom\", \"button\": true}, {\"enabled\": false, \"type\": \"boxzoom\", \"button\": true}], \"axes\": [{\"images\": [], \"zoomable\": true, \"collections\": [], \"sharey\": [], \"ydomain\": [1e-09, 1e+16], \"paths\": [], \"xlim\": [0.01, 100000.0], \"yscale\": \"log\", \"lines\": [{\"data\": \"data01\", \"coordinates\": \"data\", \"xindex\": 0, \"color\": \"#FF0000\", \"drawstyle\": \"default\", \"linewidth\": 1.0, \"yindex\": 1, \"zorder\": 2, \"alpha\": 1, \"id\": \"el64621139814028045112\", \"dasharray\": \"6,6\"}, {\"data\": \"data02\", \"coordinates\": \"data\", \"xindex\": 0, \"color\": \"#FF0000\", \"drawstyle\": \"default\", \"linewidth\": 1.0, \"yindex\": 1, \"zorder\": 2, \"alpha\": 1, \"id\": \"el64621139814034836616\", \"dasharray\": \"none\"}, {\"data\": \"data03\", \"coordinates\": \"data\", \"xindex\": 0, \"color\": \"#0000FF\", \"drawstyle\": \"default\", \"linewidth\": 1.0, \"yindex\": 1, \"zorder\": 2, \"alpha\": 1, \"id\": \"el64621139814028029344\", \"dasharray\": \"none\"}], \"axes\": [{\"nticks\": 10, \"fontsize\": 10.0, \"tickformat\": null, \"tickvalues\": null, \"visible\": true, \"grid\": {\"gridOn\": false}, \"position\": \"bottom\", \"scale\": \"log\"}, {\"nticks\": 16, \"fontsize\": 10.0, \"tickformat\": null, \"tickvalues\": null, \"visible\": true, \"grid\": {\"gridOn\": false}, \"position\": \"left\", \"scale\": \"log\"}], \"ylim\": [1e-09, 1e+16], \"id\": \"el64621139814028338288\", \"markers\": [], \"texts\": [{\"h_anchor\": \"middle\", \"coordinates\": \"axes\", \"color\": \"#000000\", \"rotation\": -0.0, \"id\": \"el64621139814028045336\", \"fontsize\": 12.0, \"v_baseline\": \"auto\", \"zorder\": 3, \"text\": \"lam = 20\", \"position\": [0.49999999999999994, 1.0224014336917564], \"alpha\": 1}], \"axesbgalpha\": null, \"sharex\": [], \"xscale\": \"log\", \"xdomain\": [0.01, 100000.0], \"axesbg\": \"#FFFFFF\", \"bbox\": [0.125, 0.125, 0.775, 0.775]}], \"id\": \"el64621139814145472608\"});\n",
       "   }(mpld3);\n",
       "}else if(typeof define === \"function\" && define.amd){\n",
       "   // require.js is available: use it to load d3/mpld3\n",
       "   require.config({paths: {d3: \"https://mpld3.github.io/js/d3.v3.min\"}});\n",
       "   require([\"d3\"], function(d3){\n",
       "      window.d3 = d3;\n",
       "      mpld3_load_lib(\"https://mpld3.github.io/js/mpld3.v0.3.js\", function(){\n",
       "         \n",
       "         mpld3.draw_figure(\"fig_el646211398141454726084590858057\", {\"data\": {\"data01\": [[0.01, 1168728569918346.8], [0.013894954943731374, 162394316244691.44], [0.019306977288832496, 22564619250053.9], [0.02682695795279726, 3135344272171.836], [0.0372759372031494, 435654838631.75085], [0.0517947467923121, 60534090455.90523], [0.07196856730011521, 8411198598.473894], [0.1, 1168736745.4421272], [0.13894954943731375, 162397027.37656137], [0.19306977288832497, 22565613.596480954], [0.2682695795279725, 3135748.129804038], [0.372759372031494, 435832.99472208176], [0.517947467923121, 60616.85245377819], [0.7196856730011517, 8450.336893069227], [1.0, 1186.8620610733656], [1.3894954943731375, 170.11896392156802], [1.9306977288832496, 25.13027495684639], [2.6826957952797246, 3.269129613020843], [3.727593720314938, 0.34647024466990006], [5.179474679231207, 0.7511031711506804], [7.196856730011514, 0.43808973940975926], [10.0, 0.18231251540858756], [13.894954943731374, 0.10629237142496047], [19.306977288832496, 0.052188061359119756], [26.826957952797247, 0.02578726448924909], [37.27593720314938, 0.012320244101303869], [51.794746792312075, 0.005888332648283997], [71.96856730011514, 0.002850684822000735], [100.0, 0.0014211404903519149], [138.9495494373136, 0.0007313137587454811], [193.06977288832496, 0.00038317595107322037], [268.26957952797216, 0.0002008542457367619], [372.7593720314938, 0.00010450349942148778], [517.9474679231213, 5.411382596626902e-05], [719.6856730011514, 2.8013714133458055e-05], [1000.0, 1.4517305357942538e-05], [1389.4954943731361, 7.539846960630044e-06], [1930.6977288832495, 3.937257414332804e-06], [2682.695795279722, 2.072294872451044e-06], [3727.593720314938, 1.0984136591204966e-06], [5179.474679231202, 5.843371969181848e-07], [7196.856730011514, 3.1084357659145886e-07], [10000.0, 1.649261257223288e-07], [13894.95494373136, 8.717421342124819e-08], [19306.977288832495, 4.589391500783243e-08], [26826.95795279722, 2.4074004943236927e-08], [37275.93720314938, 1.2589876876015871e-08], [51794.74679231202, 6.568114968679913e-09], [71968.56730011514, 3.420150752908602e-09], [100000.0, 1.7784156633533747e-09]], \"data02\": [[3.727593720314938, 0.34647024466990006], [5.179474679231207, 0.7511031711506804], [7.196856730011514, 0.43808973940975926], [10.0, 0.18231251540858756], [13.894954943731374, 0.10629237142496047], [19.306977288832496, 0.052188061359119756], [26.826957952797247, 0.02578726448924909], [37.27593720314938, 0.012320244101303869], [51.794746792312075, 0.005888332648283997], [71.96856730011514, 0.002850684822000735], [100.0, 0.0014211404903519149], [138.9495494373136, 0.0007313137587454811], [193.06977288832496, 0.00038317595107322037], [268.26957952797216, 0.0002008542457367619], [372.7593720314938, 0.00010450349942148778], [517.9474679231213, 5.411382596626902e-05], [719.6856730011514, 2.8013714133458055e-05], [1000.0, 1.4517305357942538e-05], [1389.4954943731361, 7.539846960630044e-06], [1930.6977288832495, 3.937257414332804e-06], [2682.695795279722, 2.072294872451044e-06], [3727.593720314938, 1.0984136591204966e-06], [5179.474679231202, 5.843371969181848e-07], [7196.856730011514, 3.1084357659145886e-07], [10000.0, 1.649261257223288e-07], [13894.95494373136, 8.717421342124819e-08], [19306.977288832495, 4.589391500783243e-08], [26826.95795279722, 2.4074004943236927e-08], [37275.93720314938, 1.2589876876015871e-08], [51794.74679231202, 6.568114968679913e-09], [71968.56730011514, 3.420150752908602e-09], [100000.0, 1.7784156633533747e-09]], \"data03\": [[10.0, 0.005], [1000.0, 5e-07]]}, \"width\": 432.0, \"height\": 288.0, \"plugins\": [{\"type\": \"reset\"}, {\"enabled\": false, \"type\": \"zoom\", \"button\": true}, {\"enabled\": false, \"type\": \"boxzoom\", \"button\": true}], \"axes\": [{\"images\": [], \"zoomable\": true, \"collections\": [], \"sharey\": [], \"ydomain\": [1e-09, 1e+16], \"paths\": [], \"xlim\": [0.01, 100000.0], \"yscale\": \"log\", \"lines\": [{\"data\": \"data01\", \"coordinates\": \"data\", \"xindex\": 0, \"color\": \"#FF0000\", \"drawstyle\": \"default\", \"linewidth\": 1.0, \"yindex\": 1, \"zorder\": 2, \"alpha\": 1, \"id\": \"el64621139814028045112\", \"dasharray\": \"6,6\"}, {\"data\": \"data02\", \"coordinates\": \"data\", \"xindex\": 0, \"color\": \"#FF0000\", \"drawstyle\": \"default\", \"linewidth\": 1.0, \"yindex\": 1, \"zorder\": 2, \"alpha\": 1, \"id\": \"el64621139814034836616\", \"dasharray\": \"none\"}, {\"data\": \"data03\", \"coordinates\": \"data\", \"xindex\": 0, \"color\": \"#0000FF\", \"drawstyle\": \"default\", \"linewidth\": 1.0, \"yindex\": 1, \"zorder\": 2, \"alpha\": 1, \"id\": \"el64621139814028029344\", \"dasharray\": \"none\"}], \"axes\": [{\"nticks\": 10, \"fontsize\": 10.0, \"tickformat\": null, \"tickvalues\": null, \"visible\": true, \"grid\": {\"gridOn\": false}, \"position\": \"bottom\", \"scale\": \"log\"}, {\"nticks\": 16, \"fontsize\": 10.0, \"tickformat\": null, \"tickvalues\": null, \"visible\": true, \"grid\": {\"gridOn\": false}, \"position\": \"left\", \"scale\": \"log\"}], \"ylim\": [1e-09, 1e+16], \"id\": \"el64621139814028338288\", \"markers\": [], \"texts\": [{\"h_anchor\": \"middle\", \"coordinates\": \"axes\", \"color\": \"#000000\", \"rotation\": -0.0, \"id\": \"el64621139814028045336\", \"fontsize\": 12.0, \"v_baseline\": \"auto\", \"zorder\": 3, \"text\": \"lam = 20\", \"position\": [0.49999999999999994, 1.0224014336917564], \"alpha\": 1}], \"axesbgalpha\": null, \"sharex\": [], \"xscale\": \"log\", \"xdomain\": [0.01, 100000.0], \"axesbg\": \"#FFFFFF\", \"bbox\": [0.125, 0.125, 0.775, 0.775]}], \"id\": \"el64621139814145472608\"});\n",
       "      });\n",
       "    });\n",
       "}else{\n",
       "    // require.js not available: dynamically load d3 & mpld3\n",
       "    mpld3_load_lib(\"https://mpld3.github.io/js/d3.v3.min.js\", function(){\n",
       "         mpld3_load_lib(\"https://mpld3.github.io/js/mpld3.v0.3.js\", function(){\n",
       "                 \n",
       "                 mpld3.draw_figure(\"fig_el646211398141454726084590858057\", {\"data\": {\"data01\": [[0.01, 1168728569918346.8], [0.013894954943731374, 162394316244691.44], [0.019306977288832496, 22564619250053.9], [0.02682695795279726, 3135344272171.836], [0.0372759372031494, 435654838631.75085], [0.0517947467923121, 60534090455.90523], [0.07196856730011521, 8411198598.473894], [0.1, 1168736745.4421272], [0.13894954943731375, 162397027.37656137], [0.19306977288832497, 22565613.596480954], [0.2682695795279725, 3135748.129804038], [0.372759372031494, 435832.99472208176], [0.517947467923121, 60616.85245377819], [0.7196856730011517, 8450.336893069227], [1.0, 1186.8620610733656], [1.3894954943731375, 170.11896392156802], [1.9306977288832496, 25.13027495684639], [2.6826957952797246, 3.269129613020843], [3.727593720314938, 0.34647024466990006], [5.179474679231207, 0.7511031711506804], [7.196856730011514, 0.43808973940975926], [10.0, 0.18231251540858756], [13.894954943731374, 0.10629237142496047], [19.306977288832496, 0.052188061359119756], [26.826957952797247, 0.02578726448924909], [37.27593720314938, 0.012320244101303869], [51.794746792312075, 0.005888332648283997], [71.96856730011514, 0.002850684822000735], [100.0, 0.0014211404903519149], [138.9495494373136, 0.0007313137587454811], [193.06977288832496, 0.00038317595107322037], [268.26957952797216, 0.0002008542457367619], [372.7593720314938, 0.00010450349942148778], [517.9474679231213, 5.411382596626902e-05], [719.6856730011514, 2.8013714133458055e-05], [1000.0, 1.4517305357942538e-05], [1389.4954943731361, 7.539846960630044e-06], [1930.6977288832495, 3.937257414332804e-06], [2682.695795279722, 2.072294872451044e-06], [3727.593720314938, 1.0984136591204966e-06], [5179.474679231202, 5.843371969181848e-07], [7196.856730011514, 3.1084357659145886e-07], [10000.0, 1.649261257223288e-07], [13894.95494373136, 8.717421342124819e-08], [19306.977288832495, 4.589391500783243e-08], [26826.95795279722, 2.4074004943236927e-08], [37275.93720314938, 1.2589876876015871e-08], [51794.74679231202, 6.568114968679913e-09], [71968.56730011514, 3.420150752908602e-09], [100000.0, 1.7784156633533747e-09]], \"data02\": [[3.727593720314938, 0.34647024466990006], [5.179474679231207, 0.7511031711506804], [7.196856730011514, 0.43808973940975926], [10.0, 0.18231251540858756], [13.894954943731374, 0.10629237142496047], [19.306977288832496, 0.052188061359119756], [26.826957952797247, 0.02578726448924909], [37.27593720314938, 0.012320244101303869], [51.794746792312075, 0.005888332648283997], [71.96856730011514, 0.002850684822000735], [100.0, 0.0014211404903519149], [138.9495494373136, 0.0007313137587454811], [193.06977288832496, 0.00038317595107322037], [268.26957952797216, 0.0002008542457367619], [372.7593720314938, 0.00010450349942148778], [517.9474679231213, 5.411382596626902e-05], [719.6856730011514, 2.8013714133458055e-05], [1000.0, 1.4517305357942538e-05], [1389.4954943731361, 7.539846960630044e-06], [1930.6977288832495, 3.937257414332804e-06], [2682.695795279722, 2.072294872451044e-06], [3727.593720314938, 1.0984136591204966e-06], [5179.474679231202, 5.843371969181848e-07], [7196.856730011514, 3.1084357659145886e-07], [10000.0, 1.649261257223288e-07], [13894.95494373136, 8.717421342124819e-08], [19306.977288832495, 4.589391500783243e-08], [26826.95795279722, 2.4074004943236927e-08], [37275.93720314938, 1.2589876876015871e-08], [51794.74679231202, 6.568114968679913e-09], [71968.56730011514, 3.420150752908602e-09], [100000.0, 1.7784156633533747e-09]], \"data03\": [[10.0, 0.005], [1000.0, 5e-07]]}, \"width\": 432.0, \"height\": 288.0, \"plugins\": [{\"type\": \"reset\"}, {\"enabled\": false, \"type\": \"zoom\", \"button\": true}, {\"enabled\": false, \"type\": \"boxzoom\", \"button\": true}], \"axes\": [{\"images\": [], \"zoomable\": true, \"collections\": [], \"sharey\": [], \"ydomain\": [1e-09, 1e+16], \"paths\": [], \"xlim\": [0.01, 100000.0], \"yscale\": \"log\", \"lines\": [{\"data\": \"data01\", \"coordinates\": \"data\", \"xindex\": 0, \"color\": \"#FF0000\", \"drawstyle\": \"default\", \"linewidth\": 1.0, \"yindex\": 1, \"zorder\": 2, \"alpha\": 1, \"id\": \"el64621139814028045112\", \"dasharray\": \"6,6\"}, {\"data\": \"data02\", \"coordinates\": \"data\", \"xindex\": 0, \"color\": \"#FF0000\", \"drawstyle\": \"default\", \"linewidth\": 1.0, \"yindex\": 1, \"zorder\": 2, \"alpha\": 1, \"id\": \"el64621139814034836616\", \"dasharray\": \"none\"}, {\"data\": \"data03\", \"coordinates\": \"data\", \"xindex\": 0, \"color\": \"#0000FF\", \"drawstyle\": \"default\", \"linewidth\": 1.0, \"yindex\": 1, \"zorder\": 2, \"alpha\": 1, \"id\": \"el64621139814028029344\", \"dasharray\": \"none\"}], \"axes\": [{\"nticks\": 10, \"fontsize\": 10.0, \"tickformat\": null, \"tickvalues\": null, \"visible\": true, \"grid\": {\"gridOn\": false}, \"position\": \"bottom\", \"scale\": \"log\"}, {\"nticks\": 16, \"fontsize\": 10.0, \"tickformat\": null, \"tickvalues\": null, \"visible\": true, \"grid\": {\"gridOn\": false}, \"position\": \"left\", \"scale\": \"log\"}], \"ylim\": [1e-09, 1e+16], \"id\": \"el64621139814028338288\", \"markers\": [], \"texts\": [{\"h_anchor\": \"middle\", \"coordinates\": \"axes\", \"color\": \"#000000\", \"rotation\": -0.0, \"id\": \"el64621139814028045336\", \"fontsize\": 12.0, \"v_baseline\": \"auto\", \"zorder\": 3, \"text\": \"lam = 20\", \"position\": [0.49999999999999994, 1.0224014336917564], \"alpha\": 1}], \"axesbgalpha\": null, \"sharex\": [], \"xscale\": \"log\", \"xdomain\": [0.01, 100000.0], \"axesbg\": \"#FFFFFF\", \"bbox\": [0.125, 0.125, 0.775, 0.775]}], \"id\": \"el64621139814145472608\"});\n",
       "            })\n",
       "         });\n",
       "}\n",
       "</script>"
      ],
      "text/plain": [
       "<matplotlib.figure.Figure at 0x7f290479b860>"
      ]
     },
     "metadata": {},
     "output_type": "display_data"
    }
   ],
   "source": [
    "N=1\n",
    "FA=1.0\n",
    "\n",
    "nlam = 20\n",
    "pset=propagator.prop_set(nlam=nlam)\n",
    "\n",
    "sequence = [0,0,0]\n",
    "KV = np.logspace(-2,5,50)\n",
    "s3 = np.zeros((len(KV)),dtype=type(1+1j))\n",
    "for ind, K in enumerate(KV):\n",
    "    k = set3Ks(K)\n",
    "    s3[ind] = s3wlc(pset, N, FA, k, sequence=sequence)/(N**3)\n",
    "\n",
    "col = 1\n",
    "plt.loglog(KV, abs(s3), '--', color=[col, 0.0, 1-col])\n",
    "plt.loglog(KV[s3>0], abs(s3[s3>0]), '-', color=[col, 0.0, 1-col])\n",
    "plotlog(1e1, 5e-3, -2, xrange=2)\n",
    "plt.title('lam = ' + str(nlam))\n",
    "    \n",
    "plt.show()"
   ]
  },
  {
   "cell_type": "code",
   "execution_count": null,
   "metadata": {
    "collapsed": false,
    "deletable": true,
    "editable": true,
    "hidden": true
   },
   "outputs": [],
   "source": [
    "# KV = np.logspace(-2,5,50)\n",
    "# s3 = np.zeros((2,2,2,len(KV)),dtype=type(1+1j))\n",
    "# for ind, K in enumerate(KV):\n",
    "#     k = setKs(K)\n",
    "#     s3[:,:,:,ind] = s3wlc(pset, N, FA, k)/(N**3)"
   ]
  },
  {
   "cell_type": "markdown",
   "metadata": {
    "deletable": true,
    "editable": true
   },
   "source": [
    "## Four point correlations"
   ]
  },
  {
   "cell_type": "markdown",
   "metadata": {
    "deletable": true,
    "editable": true
   },
   "source": [
    "\\begin{align*}\n",
    "\\underset{\\alpha_{1}\\alpha_{2}\\alpha_{3}\\alpha_{4}}{I_{1,2,3}^{\\left(4\\right)}\\left(N\\right)}= & \\int_{0}^{N}ds_{3}\\int_{0}^{s_{4}}ds_{2}\\int_{0}^{s_{3}}ds_{1}\\int_{0}^{s_{1}}ds_{0}\\delta_{\\alpha\\left(s_{1}\\right),\\alpha_{1}}\\delta_{\\alpha\\left(s_{2}\\right),\\alpha_{2}}\\delta_{\\alpha\\left(s_{3}\\right),\\alpha_{3}}\\delta_{\\alpha\\left(s_{4}\\right),\\alpha_{4}}\\\\\n",
    " & \\cdot\\mathcal{G}_{\\lambda0_{1}\\lambda_{1}}^{\\mu_{1}}\\left(s_{4}-s_{3},K_{1}\\right)\\mathcal{G}_{\\lambda0_{2}\\lambda_{2}}^{\\mu_{2}}\\left(s_{3}-s_{2},K_{2}\\right)\\mathcal{G}_{\\lambda0_{3}\\lambda_{3}}^{\\mu_{3}}\\left(s_{2}-s_{1},K_{2}\\right)\n",
    "\\end{align*}"
   ]
  },
  {
   "cell_type": "code",
   "execution_count": 9,
   "metadata": {
    "collapsed": false,
    "deletable": true,
    "editable": true
   },
   "outputs": [],
   "source": [
    "def I4N(N,FA,lam0_1,lam_1,mu1,\\\n",
    "           lam0_2,lam_2,mu2,\\\n",
    "           lam0_3,lam_3,mu3,\\\n",
    "           p1,p2,p3,\\\n",
    "           sequence):\n",
    "    \n",
    "    value = 0\n",
    "    if sequence == (0,0,0,0): # AAAA\n",
    "        value = mp.IAAAAresum(N,FA,lam0_1,lam_1,\\\n",
    "                                   lam0_2,lam_2,\\\n",
    "                                   lam0_3,lam_3,\\\n",
    "                                   p1.prop(mu1),\\\n",
    "                                   p2.prop(mu2),\\\n",
    "                                   p3.prop(mu3))\n",
    "    elif sequence == (0,0,0,1): # AAAB\n",
    "        value = mp.IAAABresum(N,FA,lam0_1,lam_1,\\\n",
    "                                   lam0_2,lam_2,\\\n",
    "                                   lam0_3,lam_3,\\\n",
    "                                   p1.prop(mu1),\\\n",
    "                                   p2.prop(mu2),\\\n",
    "                                   p3.prop(mu3))   \n",
    "    elif sequence == (0,0,1,1): # AABB\n",
    "        value = mp.IAABBresum(N,FA,lam0_1,lam_1,\\\n",
    "                                   lam0_2,lam_2,\\\n",
    "                                   lam0_3,lam_3,\\\n",
    "                                   p1.prop(mu1),\\\n",
    "                                   p2.prop(mu2),\\\n",
    "                                   p3.prop(mu3))\n",
    "    elif sequence == (0,1,1,1): # ABBB\n",
    "        fb=1.0-FA\n",
    "        # Same as AAAB except fb instead of FA\n",
    "        value = mp.IAAABresum(N,fb,lam0_1,lam_1,\\\n",
    "                                   lam0_2,lam_2,\\\n",
    "                                   lam0_3,lam_3,\\\n",
    "                                   p1.prop(mu1),\\\n",
    "                                   p2.prop(mu2),\\\n",
    "                                   p3.prop(mu3))\n",
    "    elif sequence == (1,1,1,1): # BBBB\n",
    "        fb=1.0-FA\n",
    "        # Same as AAAA except fb instead of FA\n",
    "        value = mp.IAAAAresum(N,fb,lam0_1,lam_1,\\\n",
    "                                   lam0_2,lam_2,\\\n",
    "                                   lam0_3,lam_3,\\\n",
    "                                   p1.prop(mu1),\\\n",
    "                                   p2.prop(mu2),\\\n",
    "                                   p3.prop(mu3))\n",
    "    else:\n",
    "        pass\n",
    "    \n",
    "    return value"
   ]
  },
  {
   "cell_type": "markdown",
   "metadata": {
    "deletable": true,
    "editable": true
   },
   "source": [
    "### Space ordering of wavevectors"
   ]
  },
  {
   "cell_type": "markdown",
   "metadata": {},
   "source": [
    "fourPointCorr\n",
    "calculates\n",
    "$\\int_0^N d^4 s\\left\\langle \\tilde{\\psi}_{1}\\tilde{\\psi}_{2}\\tilde{\\psi}_{3}\\tilde{\\psi}_{3}\\right\\rangle $\n",
    ".\n",
    "The $\\psi$s are not orientation dependent. This will change when\n",
    "I introduce Maier-Saupe interaction.\n",
    "The average is over the unperturbed distribution of a single WLC that\n",
    "is N segments long with $f_{A}$ being of A type.\n",
    "Each $\\tilde{\\psi}$ has an associated chemical identity, $\\alpha$, and Fourier location, $\\vec{k}$."
   ]
  },
  {
   "cell_type": "code",
   "execution_count": 10,
   "metadata": {
    "collapsed": true,
    "deletable": true,
    "editable": true
   },
   "outputs": [],
   "source": [
    "# Inputs\n",
    "#     pset (propagator.prop_set), the set of propagators used so FAr\n",
    "#     N (float), number of Khun lengths\n",
    "#     FA (float), fraction of type A\n",
    "#     prop1 (phi_tilde), contains k and alpha\n",
    "def fourPointCorr(pset,wigset,N,FA,phi1,phi2,phi3,phi4):\n",
    "    nlam=pset.nlam\n",
    "    # The first and last lam must be zero \n",
    "    mu1=0 \n",
    "    mu3=0\n",
    "    lam0_1=0\n",
    "    lam_3=0\n",
    "    \n",
    "    total = 0.0+0.0j\n",
    "    # The Points can be visited in any order\n",
    "    for ordered in perms([phi1,phi2,phi3,phi4]):\n",
    "        # while phi1.k is the absolute Fourier position\n",
    "        # q1 is the relitive Fourier position of 1 and 2\n",
    "        q1=-ordered[0].k\n",
    "        q2=-ordered[0].k-ordered[1].k\n",
    "        q3=-ordered[0].k-ordered[1].k-ordered[2].k\n",
    "\n",
    "        # chemical sequence, A is 0\n",
    "        sequence = (ordered[0].alpha,ordered[1].alpha,\\\n",
    "                    ordered[2].alpha,ordered[3].alpha)\n",
    "        \n",
    "        # Calculate or look up eigenstuff\n",
    "        p1 = pset.get_vec_prop(q1)\n",
    "        p2 = pset.get_vec_prop(q2)\n",
    "        p3 = pset.get_vec_prop(q3)       \n",
    "\n",
    "        alpha1, beta1, beta2 = get_angles(q1,q2,q3)\n",
    "        # Angular sum\n",
    "        for lam_1 in range(0,nlam):\n",
    "            for lam_2 in range(0,nlam):\n",
    "                for mu2 in range(-min(lam_2,lam_3),\\\n",
    "                                 min(lam_2,lam_3)+1): \n",
    "                    lam0_2=lam_1\n",
    "                    lam0_3=lam_2\n",
    "                    \n",
    "                    value=I4N(N,FA,lam0_1,lam_1,mu1,\\\n",
    "                               lam0_2,lam_2,mu2,\\\n",
    "                               lam0_3,lam_3,mu3,\\\n",
    "                               p1,p2,p3,\\\n",
    "                               sequence) \n",
    "                    \n",
    "                    # Wigner D to rotate first and third frames into second\n",
    "                    D1 = wigset.axial(lam_1,mu2,0,alpha1,beta1)    \n",
    "                    D2 = wigset.axial(lam_2,mu2,0,0,beta2) \n",
    "                    \n",
    "                    total = total + value*D1*D2\n",
    "    return total"
   ]
  },
  {
   "cell_type": "code",
   "execution_count": 11,
   "metadata": {
    "collapsed": false
   },
   "outputs": [],
   "source": [
    "# Returns Euler angles needed to rotate q1 and q3 away from q2\n",
    "# Returns alpha1, beta1, beta2\n",
    "def get_angles(q1,q2,q3):\n",
    "        # Find unit vectors\n",
    "        aligned=10**-13; # angle in radians betwene to vectors before I assume they are the same\n",
    "        if norm(q1)< aligned or norm(q3)<aligned:\n",
    "            raise Exception('I assume q1 1= 0 and q3 != 0')\n",
    "        Q1_n=q1/norm(q1) # I assume q1 != 0\n",
    "        Q3_n=q3/norm(q3) # I assume q3 != 0\n",
    "\n",
    "        #Find Euler angles\n",
    "        if norm(q2) < aligned:\n",
    "            # if q2=0 we need to rotate q3 away from q2 \n",
    "            beta1=0.0\n",
    "            beta2=np.arccos(np.dot(Q1_n,Q3_n))\n",
    "            alpha1=0.0\n",
    "            return alpha1, beta1, beta2\n",
    "        \n",
    "        Q2_n=q2/norm(q2);\n",
    "        if norm(Q2_n-Q1_n) < aligned:\n",
    "            # if  Q2_n = Q1_n  simply rotate q3 away\n",
    "            beta1=0.0\n",
    "            alpha1=0.0\n",
    "            beta2=np.arccos(np.dot(Q2_n,Q3_n))\n",
    "        elif norm(Q2_n-Q3_n) < aligned:\n",
    "            # if  Q2_n = Q3_n  simply rotate q1 away\n",
    "            beta1=np.arccos(np.dot(Q2_n,Q1_n))\n",
    "            alpha1=0.0\n",
    "            beta2=0.0\n",
    "        else:\n",
    "            beta1=np.arccos(np.dot(Q2_n,Q1_n))\n",
    "            beta2=np.arccos(np.dot(Q2_n,Q3_n))\n",
    "            v1=np.cross(Q2_n,Q1_n)/norm(np.cross(Q2_n,Q1_n))\n",
    "            v2=np.cross(Q2_n,Q3_n)/norm(np.cross(Q2_n,Q3_n))\n",
    "            alpha1=np.arccos(np.dot(v1,v2))\n",
    "        return alpha1, beta1, beta2"
   ]
  },
  {
   "cell_type": "code",
   "execution_count": 12,
   "metadata": {
    "collapsed": true,
    "deletable": true,
    "editable": true
   },
   "outputs": [],
   "source": [
    "def s4wlc(pset,wigset, N, FA, Ks, sequence='all'):\n",
    "    s4 = np.zeros((2,2,2,2),dtype=type(1+1j))\n",
    "    k1, k2, k3, k4 = Ks\n",
    "    if norm(k1+k2+k3+k4) >= 1e-10:\n",
    "        print(k1, k2, k3, k4)\n",
    "        print(k1+k2+k3+k4)\n",
    "        raise ValueError('Qs must add up to zero')\n",
    "    \n",
    "    if sequence == 'all':\n",
    "        for a1, a2, a3, a4 in product([0,1], repeat=4):\n",
    "            phi1 = phi_tilde(k1,alpha=a1)\n",
    "            phi2 = phi_tilde(k2,alpha=a2)\n",
    "            phi3 = phi_tilde(k3,alpha=a3)\n",
    "            phi4 = phi_tilde(k4,alpha=a4)\n",
    "            s4[a1][a2][a3][a4] = fourPointCorr(pset,wigset, N, FA, \\\n",
    "                                               phi1, phi2, phi3, phi4)\n",
    "    else:\n",
    "        a1, a2, a3, a4 = sequence\n",
    "        phi1 = phi_tilde(k1,alpha=a1)\n",
    "        phi2 = phi_tilde(k2,alpha=a2)\n",
    "        phi3 = phi_tilde(k3,alpha=a3)\n",
    "        phi4 = phi_tilde(k4,alpha=a4)\n",
    "        s4 = fourPointCorr(pset,wigset, N, FA, \\\n",
    "                           phi1, phi2, phi3, phi4)\n",
    "            \n",
    "    return s4"
   ]
  },
  {
   "cell_type": "code",
   "execution_count": 13,
   "metadata": {
    "collapsed": false,
    "deletable": true,
    "editable": true
   },
   "outputs": [],
   "source": [
    "N=1.0\n",
    "FA=1.0\n",
    "\n",
    "def setKs(K):\n",
    "    k1=np.array([0,0,1])*K\n",
    "    k2=np.array([0,0,1])*K\n",
    "    k3=-k1\n",
    "    k4=-k2\n",
    "\n",
    "    k = [k1, k2, k3, k4]\n",
    "    return k\n",
    "\n",
    "nlam=10\n",
    "pset=propagator.prop_set(nlam=nlam)\n",
    "wigset = wd.wigner_d_vals()"
   ]
  },
  {
   "cell_type": "code",
   "execution_count": 14,
   "metadata": {
    "collapsed": false
   },
   "outputs": [],
   "source": [
    "sequence = [0, 0, 0, 0]\n",
    "KV = np.logspace(-2,3,20)\n",
    "s4 = np.zeros((len(KV)),dtype=type(1+1j))\n",
    "for ind, K in enumerate(KV):\n",
    "    Ks = setKs(K)\n",
    "    s4[ind] = s4wlc(pset,wigset, N, FA, Ks, sequence=sequence)/(N**4)"
   ]
  },
  {
   "cell_type": "code",
   "execution_count": 15,
   "metadata": {
    "collapsed": false,
    "deletable": true,
    "editable": true
   },
   "outputs": [
    {
     "data": {
      "image/png": "[encoded data removed]",
      "text/html": [
       "\n",
       "\n",
       "<style>\n",
       "\n",
       "</style>\n",
       "\n",
       "<div id=\"fig_el43941403658332090568930169107\"></div>\n",
       "<script>\n",
       "function mpld3_load_lib(url, callback){\n",
       "  var s = document.createElement('script');\n",
       "  s.src = url;\n",
       "  s.async = true;\n",
       "  s.onreadystatechange = s.onload = callback;\n",
       "  s.onerror = function(){console.warn(\"failed to load library \" + url);};\n",
       "  document.getElementsByTagName(\"head\")[0].appendChild(s);\n",
       "}\n",
       "\n",
       "if(typeof(mpld3) !== \"undefined\" && mpld3._mpld3IsLoaded){\n",
       "   // already loaded: just create the figure\n",
       "   !function(mpld3){\n",
       "       \n",
       "       mpld3.draw_figure(\"fig_el43941403658332090568930169107\", {\"width\": 432.0, \"axes\": [{\"axesbgalpha\": null, \"ydomain\": [1e-07, 1e+21], \"texts\": [], \"sharey\": [], \"collections\": [], \"zoomable\": true, \"bbox\": [0.125, 0.125, 0.775, 0.775], \"id\": \"el4394140365833291760\", \"sharex\": [], \"ylim\": [1e-07, 1e+21], \"xscale\": \"log\", \"xlim\": [0.01, 1000.0], \"paths\": [], \"yscale\": \"log\", \"xdomain\": [0.01, 1000.0], \"axes\": [{\"visible\": true, \"grid\": {\"gridOn\": false}, \"nticks\": 8, \"scale\": \"log\", \"fontsize\": 10.0, \"position\": \"bottom\", \"tickvalues\": null, \"tickformat\": null}, {\"visible\": true, \"grid\": {\"gridOn\": false}, \"nticks\": 17, \"scale\": \"log\", \"fontsize\": 10.0, \"position\": \"left\", \"tickvalues\": null, \"tickformat\": null}], \"images\": [], \"lines\": [{\"zorder\": 2, \"alpha\": 1, \"yindex\": 1, \"linewidth\": 1.0, \"id\": \"el4394140365741811136\", \"coordinates\": \"data\", \"dasharray\": \"none\", \"xindex\": 0, \"data\": \"data01\", \"color\": \"#0000FF\", \"drawstyle\": \"default\"}, {\"zorder\": 2, \"alpha\": 1, \"yindex\": 1, \"linewidth\": 1.0, \"id\": \"el4394140365741576376\", \"coordinates\": \"data\", \"dasharray\": \"none\", \"xindex\": 0, \"data\": \"data02\", \"color\": \"#007F00\", \"drawstyle\": \"default\"}], \"markers\": [], \"axesbg\": \"#FFFFFF\"}], \"id\": \"el4394140365833209056\", \"data\": {\"data01\": [[0.01, 2.5271792665512713e+20], [0.018329807108324356, 1.9831907460892298e+18], [0.03359818286283781, 1.5562276442406486e+16], [0.06158482110660264, 122099982335682.83], [0.11288378916846889, 957502419137.146], [0.20691380811147891, 0.9982613196997115], [0.37926901907322497, 0.9944057366784362], [0.6951927961775606, 0.9813913678656196], [1.2742749857031335, 0.9395195820932675], [2.3357214690901213, 0.8175142766145587], [4.281332398719392, 0.5539843681985869], [7.847599703514606, 0.2600151240217004], [14.38449888287663, 0.09432570088259688], [26.366508987303583, 0.032473932275255475], [48.32930238571752, 0.010617188412793143], [88.58667904100822, 0.0033781914690800717], [162.3776739188721, 0.0010553792053796852], [297.63514416313194, 0.00032529187600464264], [545.5594781168514, 9.925903583605987e-05], [1000.0, 3.004461967794676e-05]], \"data02\": [[10.0, 0.005], [1000.0, 5e-07]]}, \"plugins\": [{\"type\": \"reset\"}, {\"button\": true, \"type\": \"zoom\", \"enabled\": false}, {\"button\": true, \"type\": \"boxzoom\", \"enabled\": false}], \"height\": 288.0});\n",
       "   }(mpld3);\n",
       "}else if(typeof define === \"function\" && define.amd){\n",
       "   // require.js is available: use it to load d3/mpld3\n",
       "   require.config({paths: {d3: \"https://mpld3.github.io/js/d3.v3.min\"}});\n",
       "   require([\"d3\"], function(d3){\n",
       "      window.d3 = d3;\n",
       "      mpld3_load_lib(\"https://mpld3.github.io/js/mpld3.v0.3.js\", function(){\n",
       "         \n",
       "         mpld3.draw_figure(\"fig_el43941403658332090568930169107\", {\"width\": 432.0, \"axes\": [{\"axesbgalpha\": null, \"ydomain\": [1e-07, 1e+21], \"texts\": [], \"sharey\": [], \"collections\": [], \"zoomable\": true, \"bbox\": [0.125, 0.125, 0.775, 0.775], \"id\": \"el4394140365833291760\", \"sharex\": [], \"ylim\": [1e-07, 1e+21], \"xscale\": \"log\", \"xlim\": [0.01, 1000.0], \"paths\": [], \"yscale\": \"log\", \"xdomain\": [0.01, 1000.0], \"axes\": [{\"visible\": true, \"grid\": {\"gridOn\": false}, \"nticks\": 8, \"scale\": \"log\", \"fontsize\": 10.0, \"position\": \"bottom\", \"tickvalues\": null, \"tickformat\": null}, {\"visible\": true, \"grid\": {\"gridOn\": false}, \"nticks\": 17, \"scale\": \"log\", \"fontsize\": 10.0, \"position\": \"left\", \"tickvalues\": null, \"tickformat\": null}], \"images\": [], \"lines\": [{\"zorder\": 2, \"alpha\": 1, \"yindex\": 1, \"linewidth\": 1.0, \"id\": \"el4394140365741811136\", \"coordinates\": \"data\", \"dasharray\": \"none\", \"xindex\": 0, \"data\": \"data01\", \"color\": \"#0000FF\", \"drawstyle\": \"default\"}, {\"zorder\": 2, \"alpha\": 1, \"yindex\": 1, \"linewidth\": 1.0, \"id\": \"el4394140365741576376\", \"coordinates\": \"data\", \"dasharray\": \"none\", \"xindex\": 0, \"data\": \"data02\", \"color\": \"#007F00\", \"drawstyle\": \"default\"}], \"markers\": [], \"axesbg\": \"#FFFFFF\"}], \"id\": \"el4394140365833209056\", \"data\": {\"data01\": [[0.01, 2.5271792665512713e+20], [0.018329807108324356, 1.9831907460892298e+18], [0.03359818286283781, 1.5562276442406486e+16], [0.06158482110660264, 122099982335682.83], [0.11288378916846889, 957502419137.146], [0.20691380811147891, 0.9982613196997115], [0.37926901907322497, 0.9944057366784362], [0.6951927961775606, 0.9813913678656196], [1.2742749857031335, 0.9395195820932675], [2.3357214690901213, 0.8175142766145587], [4.281332398719392, 0.5539843681985869], [7.847599703514606, 0.2600151240217004], [14.38449888287663, 0.09432570088259688], [26.366508987303583, 0.032473932275255475], [48.32930238571752, 0.010617188412793143], [88.58667904100822, 0.0033781914690800717], [162.3776739188721, 0.0010553792053796852], [297.63514416313194, 0.00032529187600464264], [545.5594781168514, 9.925903583605987e-05], [1000.0, 3.004461967794676e-05]], \"data02\": [[10.0, 0.005], [1000.0, 5e-07]]}, \"plugins\": [{\"type\": \"reset\"}, {\"button\": true, \"type\": \"zoom\", \"enabled\": false}, {\"button\": true, \"type\": \"boxzoom\", \"enabled\": false}], \"height\": 288.0});\n",
       "      });\n",
       "    });\n",
       "}else{\n",
       "    // require.js not available: dynamically load d3 & mpld3\n",
       "    mpld3_load_lib(\"https://mpld3.github.io/js/d3.v3.min.js\", function(){\n",
       "         mpld3_load_lib(\"https://mpld3.github.io/js/mpld3.v0.3.js\", function(){\n",
       "                 \n",
       "                 mpld3.draw_figure(\"fig_el43941403658332090568930169107\", {\"width\": 432.0, \"axes\": [{\"axesbgalpha\": null, \"ydomain\": [1e-07, 1e+21], \"texts\": [], \"sharey\": [], \"collections\": [], \"zoomable\": true, \"bbox\": [0.125, 0.125, 0.775, 0.775], \"id\": \"el4394140365833291760\", \"sharex\": [], \"ylim\": [1e-07, 1e+21], \"xscale\": \"log\", \"xlim\": [0.01, 1000.0], \"paths\": [], \"yscale\": \"log\", \"xdomain\": [0.01, 1000.0], \"axes\": [{\"visible\": true, \"grid\": {\"gridOn\": false}, \"nticks\": 8, \"scale\": \"log\", \"fontsize\": 10.0, \"position\": \"bottom\", \"tickvalues\": null, \"tickformat\": null}, {\"visible\": true, \"grid\": {\"gridOn\": false}, \"nticks\": 17, \"scale\": \"log\", \"fontsize\": 10.0, \"position\": \"left\", \"tickvalues\": null, \"tickformat\": null}], \"images\": [], \"lines\": [{\"zorder\": 2, \"alpha\": 1, \"yindex\": 1, \"linewidth\": 1.0, \"id\": \"el4394140365741811136\", \"coordinates\": \"data\", \"dasharray\": \"none\", \"xindex\": 0, \"data\": \"data01\", \"color\": \"#0000FF\", \"drawstyle\": \"default\"}, {\"zorder\": 2, \"alpha\": 1, \"yindex\": 1, \"linewidth\": 1.0, \"id\": \"el4394140365741576376\", \"coordinates\": \"data\", \"dasharray\": \"none\", \"xindex\": 0, \"data\": \"data02\", \"color\": \"#007F00\", \"drawstyle\": \"default\"}], \"markers\": [], \"axesbg\": \"#FFFFFF\"}], \"id\": \"el4394140365833209056\", \"data\": {\"data01\": [[0.01, 2.5271792665512713e+20], [0.018329807108324356, 1.9831907460892298e+18], [0.03359818286283781, 1.5562276442406486e+16], [0.06158482110660264, 122099982335682.83], [0.11288378916846889, 957502419137.146], [0.20691380811147891, 0.9982613196997115], [0.37926901907322497, 0.9944057366784362], [0.6951927961775606, 0.9813913678656196], [1.2742749857031335, 0.9395195820932675], [2.3357214690901213, 0.8175142766145587], [4.281332398719392, 0.5539843681985869], [7.847599703514606, 0.2600151240217004], [14.38449888287663, 0.09432570088259688], [26.366508987303583, 0.032473932275255475], [48.32930238571752, 0.010617188412793143], [88.58667904100822, 0.0033781914690800717], [162.3776739188721, 0.0010553792053796852], [297.63514416313194, 0.00032529187600464264], [545.5594781168514, 9.925903583605987e-05], [1000.0, 3.004461967794676e-05]], \"data02\": [[10.0, 0.005], [1000.0, 5e-07]]}, \"plugins\": [{\"type\": \"reset\"}, {\"button\": true, \"type\": \"zoom\", \"enabled\": false}, {\"button\": true, \"type\": \"boxzoom\", \"enabled\": false}], \"height\": 288.0});\n",
       "            })\n",
       "         });\n",
       "}\n",
       "</script>"
      ],
      "text/plain": [
       "<matplotlib.figure.Figure at 0x7fa977a084e0>"
      ]
     },
     "metadata": {},
     "output_type": "display_data"
    }
   ],
   "source": [
    "plt.loglog(KV, abs(s4.real))\n",
    "plotlog(1e1, 5e-3, -2, xrange=2)\n",
    "plt.show()"
   ]
  },
  {
   "cell_type": "code",
   "execution_count": 12,
   "metadata": {
    "collapsed": false
   },
   "outputs": [
    {
     "name": "stdout",
     "output_type": "stream",
     "text": [
      "Warning: Winger D hasnt been implemented!\n",
      "         4384789 function calls (4383989 primitive calls) in 63.239 seconds\n",
      "\n",
      "   Ordered by: standard name\n",
      "\n",
      "   ncalls  tottime  percall  cumtime  percall filename:lineno(function)\n",
      "    19200    0.028    0.000    0.038    0.000 <frozen importlib._bootstrap>:996(_handle_fromlist)\n",
      "        4    0.000    0.000    0.000    0.000 <ipython-input-3-f4b7cbf9e8bd>:2(__init__)\n",
      "        1    0.000    0.000    0.000    0.000 <ipython-input-5-4c9741b7fa37>:1(norm)\n",
      "     2400    0.085    0.000   63.215    0.026 <ipython-input-7-82487a00d993>:1(I4N)\n",
      "        1    0.019    0.019   63.239   63.239 <ipython-input-8-a06ba42c7f13>:6(fourPointCorr)\n",
      "        1    0.000    0.000   63.239   63.239 <ipython-input-9-3088a0d0d0b8>:1(s4wlc)\n",
      "        1    0.000    0.000   63.239   63.239 <string>:1(<module>)\n",
      "     9600    0.008    0.000    0.017    0.000 <string>:12(__new__)\n",
      "3200/2400   46.762    0.015   62.802    0.026 MultiPoint.py:290(IAAAAresum)\n",
      "     1600    0.876    0.001    1.251    0.001 MultiPoint.py:331(IAAAAresumK2is0)\n",
      "     9600    0.028    0.000    0.037    0.000 api.py:176(typeof)\n",
      "     9600    0.010    0.000    0.013    0.000 cffi_utils.py:27(is_ffi_instance)\n",
      "     9600    0.021    0.000    0.057    0.000 cffi_utils.py:37(is_cffi_func)\n",
      "     9600    0.035    0.000    0.419    0.000 dispatcher.py:376(typeof_pyval)\n",
      "       72    0.000    0.000    0.001    0.000 fromnumeric.py:2778(round_)\n",
      "     9600    0.016    0.000    0.028    0.000 functools.py:704(dispatch)\n",
      "     9600    0.023    0.000    0.296    0.000 functools.py:742(wrapper)\n",
      "        1    0.000    0.000    0.000    0.000 ioloop.py:932(add_callback)\n",
      "        2    0.000    0.000    0.000    0.000 iostream.py:228(_is_master_process)\n",
      "        2    0.000    0.000    0.000    0.000 iostream.py:241(_schedule_flush)\n",
      "        2    0.000    0.000    0.000    0.000 iostream.py:309(write)\n",
      "        1    0.000    0.000    0.000    0.000 linalg.py:111(isComplexType)\n",
      "        1    0.000    0.000    0.000    0.000 linalg.py:1976(norm)\n",
      "        1    0.000    0.000    0.000    0.000 numeric.py:414(asarray)\n",
      "     7200    0.008    0.000    0.010    0.000 propagator.py:283(prop)\n",
      "       72    0.000    0.000    0.001    0.000 propagator.py:318(get_vec_prop)\n",
      "  4106272   15.030    0.000   15.030    0.000 special.py:122(f3)\n",
      "    10000    0.032    0.000    0.032    0.000 special.py:67(f2)\n",
      "        1    0.000    0.000    0.000    0.000 stack_context.py:253(wrap)\n",
      "     9600    0.071    0.000    0.383    0.000 typeof.py:22(typeof)\n",
      "     9600    0.052    0.000    0.245    0.000 typeof.py:35(typeof_impl)\n",
      "     9600    0.071    0.000    0.092    0.000 typeof.py:56(_typeof_buffer)\n",
      "     9600    0.012    0.000    0.012    0.000 weakref.py:364(__getitem__)\n",
      "     9600    0.009    0.000    0.009    0.000 {built-in method __new__ of type object at 0x7ff32faea360}\n",
      "        1    0.000    0.000    0.000    0.000 {built-in method _thread.get_ident}\n",
      "    18592    0.003    0.000    0.003    0.000 {built-in method builtins.abs}\n",
      "        1    0.000    0.000   63.239   63.239 {built-in method builtins.exec}\n",
      "     9600    0.015    0.000    0.015    0.000 {built-in method builtins.getattr}\n",
      "    38401    0.009    0.000    0.009    0.000 {built-in method builtins.hasattr}\n",
      "    48002    0.012    0.000    0.012    0.000 {built-in method builtins.isinstance}\n",
      "        2    0.000    0.000    0.000    0.000 {built-in method builtins.issubclass}\n",
      "     4800    0.004    0.000    0.004    0.000 {built-in method builtins.min}\n",
      "        1    0.000    0.000    0.000    0.000 {built-in method builtins.print}\n",
      "       73    0.000    0.000    0.000    0.000 {built-in method numpy.core.multiarray.array}\n",
      "        1    0.000    0.000    0.000    0.000 {built-in method numpy.core.multiarray.dot}\n",
      "        1    0.000    0.000    0.000    0.000 {built-in method numpy.core.multiarray.zeros}\n",
      "        2    0.000    0.000    0.000    0.000 {built-in method posix.getpid}\n",
      "        1    0.000    0.000    0.000    0.000 {method 'append' of 'list' objects}\n",
      "        1    0.000    0.000    0.000    0.000 {method 'disable' of '_lsprof.Profiler' objects}\n",
      "        1    0.000    0.000    0.000    0.000 {method 'ravel' of 'numpy.ndarray' objects}\n",
      "       72    0.001    0.000    0.001    0.000 {method 'round' of 'numpy.ndarray' objects}\n",
      "        2    0.000    0.000    0.000    0.000 {method 'write' of '_io.StringIO' objects}\n",
      "\n",
      "\n"
     ]
    }
   ],
   "source": [
    "import cProfile\n",
    "cProfile.run('s4wlc(pset, N, FA, Ks, sequence=sequence)')"
   ]
  },
  {
   "cell_type": "code",
   "execution_count": 13,
   "metadata": {
    "collapsed": false,
    "deletable": true,
    "editable": true
   },
   "outputs": [
    {
     "name": "stdout",
     "output_type": "stream",
     "text": [
      "Warning: Winger D hasnt been implemented!\n"
     ]
    },
    {
     "name": "stderr",
     "output_type": "stream",
     "text": [
      "/home/users/qmac/MultiPointCalculation/WLCgreen.py:1311: RuntimeWarning: invalid value encountered in multiply\n",
      "  dinvG=np.ones((nlam,nlam),dtype='complex')*np.inf\n"
     ]
    },
    {
     "name": "stdout",
     "output_type": "stream",
     "text": [
      "(0.00128181639932-7.8435146457e-17j)\n",
      "Warning: Winger D hasnt been implemented!\n",
      "(0.000317731103746+1.40920003367e-17j)\n",
      "Warning: Winger D hasnt been implemented!\n",
      "(0.000317731103746+1.40920003367e-17j)\n",
      "Warning: Winger D hasnt been implemented!\n",
      "(0.000317731103746+1.40920003367e-17j)\n",
      "Warning: Winger D hasnt been implemented!\n",
      "(0.000317731103746+1.40920003367e-17j)\n",
      "Warning: Winger D hasnt been implemented!\n",
      "(-9.2626826525e-05+2.52344698539e-19j)\n",
      "Warning: Winger D hasnt been implemented!\n",
      "(-9.2626826525e-05+2.52344698539e-19j)\n",
      "Warning: Winger D hasnt been implemented!\n",
      "(0.00749545407137+1.89914544414e-18j)\n",
      "Warning: Winger D hasnt been implemented!\n",
      "(0.00749545407137+1.89914544414e-18j)\n",
      "Warning: Winger D hasnt been implemented!\n",
      "(0.00749545407137+1.89914544414e-18j)\n",
      "Warning: Winger D hasnt been implemented!\n",
      "(0.00749545407137+1.89914544414e-18j)\n"
     ]
    }
   ],
   "source": [
    "N=1.0\n",
    "FA=0.2\n",
    "\n",
    "nlam=10\n",
    "pset=propagator.prop_set(nlam=nlam)\n",
    "\n",
    "def set4Ks(K):\n",
    "    k1=np.array([0,0,1])*K\n",
    "    k2=np.array([0,0,1])*K\n",
    "    k3=-k1\n",
    "    k4=-k2\n",
    "\n",
    "    k = [k1, k2, k3, k4]\n",
    "    return k\n",
    "\n",
    "K = 10.0\n",
    "k = set4Ks(K)\n",
    "\n",
    "print(s4wlc(pset, N, FA, k, sequence=[0, 0, 0, 0]))\n",
    "print(s4wlc(pset, N, FA, k, sequence=[0, 0, 0, 1]))\n",
    "print(s4wlc(pset, N, FA, k, sequence=[0, 0, 1, 0]))\n",
    "print(s4wlc(pset, N, FA, k, sequence=[0, 1, 0, 0]))\n",
    "print(s4wlc(pset, N, FA, k, sequence=[1, 0, 0, 0]))\n",
    "\n",
    "print(s4wlc(pset, N, FA, k, sequence=[1, 1, 0, 0]))\n",
    "print(s4wlc(pset, N, FA, k, sequence=[0, 0, 1, 1]))\n",
    "\n",
    "print(s4wlc(pset, N, FA, k, sequence=[1, 0, 0, 1]))\n",
    "print(s4wlc(pset, N, FA, k, sequence=[0, 1, 1, 0]))\n",
    "\n",
    "print(s4wlc(pset, N, FA, k, sequence=[1, 0, 1, 0]))\n",
    "print(s4wlc(pset, N, FA, k, sequence=[0, 1, 0, 1]))"
   ]
  },
  {
   "cell_type": "code",
   "execution_count": null,
   "metadata": {
    "collapsed": true,
    "deletable": true,
    "editable": true
   },
   "outputs": [],
   "source": [
    "# KV = np.logspace(-1,3,10)\n",
    "# s4 = np.zeros((2,2,2,2,len(KV)),dtype=type(1+1j))\n",
    "# for ind, K in enumerate(KV):\n",
    "#     Ks = setKs(K)\n",
    "#     s4[:,:,:,:,ind] = s4wlc(pset, N, FA, Ks)/(N**4)"
   ]
  },
  {
   "cell_type": "code",
   "execution_count": null,
   "metadata": {
    "collapsed": false,
    "deletable": true,
    "editable": true
   },
   "outputs": [],
   "source": [
    "# plt.loglog(KV, s4[0,0,0,0,:])\n",
    "# plotlog(1e1, 5e-3, -2, xrange=2)\n",
    "# plt.show()"
   ]
  },
  {
   "cell_type": "markdown",
   "metadata": {
    "deletable": true,
    "editable": true
   },
   "source": [
    "## Rigid rod limit structure FActor\n",
    "\n",
    "Consider the special case that the four wavevectors form a straight line.\n",
    "\n",
    "The structure FActor of a rigid rod after rotation average is\n",
    "\\begin{eqnarray}\n",
    "I_4 = \n",
    "\\int_{0}^{L} ds_1\n",
    "\\int_{0}^{L} ds_2\n",
    "\\int_{0}^{L} ds_3\n",
    "\\int_{0}^{L} ds_4\n",
    "\\frac{\\sin{kL(s_1 + s_2 - s_3 - s_4)}}\n",
    "{kL(s_1 + s_2 - s_3 - s_4)}\n",
    "\\end{eqnarray}"
   ]
  },
  {
   "cell_type": "code",
   "execution_count": null,
   "metadata": {
    "collapsed": true,
    "deletable": true,
    "editable": true
   },
   "outputs": [],
   "source": []
  }
 ],
 "metadata": {
  "anaconda-cloud": {},
  "kernelspec": {
   "display_name": "Python [conda root]",
   "language": "python",
   "name": "conda-root-py"
  },
  "language_info": {
   "codemirror_mode": {
    "name": "ipython",
    "version": 3
   },
   "file_extension": ".py",
   "mimetype": "text/x-python",
   "name": "python",
   "nbconvert_exporter": "python",
   "pygments_lexer": "ipython3",
   "version": "3.5.2"
  },
  "latex_envs": {
   "LaTeX_envs_menu_present": true,
   "autocomplete": true,
   "bibliofile": "biblio.bib",
   "cite_by": "apalike",
   "current_citInitial": 1,
   "eqLabelWithNumbers": true,
   "eqNumInitial": 1,
   "hotkeys": {
    "equation": "Ctrl-E",
    "itemize": "Ctrl-I"
   },
   "labels_anchors": false,
   "latex_user_defs": false,
   "report_style_numbering": false,
   "user_envs_cfg": false
  },
  "toc": {
   "colors": {
    "hover_highlight": "#DAA520",
    "running_highlight": "#FF0000",
    "selected_highlight": "#FFD700"
   },
   "moveMenuLeft": true,
   "nav_menu": {
    "height": "12px",
    "width": "252px"
   },
   "navigate_menu": true,
   "number_sections": true,
   "sideBar": true,
   "threshold": 4,
   "toc_cell": false,
   "toc_section_display": "block",
   "toc_window_display": false,
   "widenNotebook": false
  }
 },
 "nbformat": 4,
 "nbformat_minor": 1
}
