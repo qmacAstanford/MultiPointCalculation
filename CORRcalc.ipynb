{
 "cells": [
  {
   "cell_type": "code",
   "execution_count": 25,
   "metadata": {
    "collapsed": false,
    "deletable": true,
    "editable": true
   },
   "outputs": [],
   "source": [
    "from itertools import permutations as perms\n",
    "from itertools import product\n",
    "import numpy as np\n",
    "import MultiPoint as mp\n",
    "import propagator "
   ]
  },
  {
   "cell_type": "code",
   "execution_count": 2,
   "metadata": {
    "collapsed": true,
    "deletable": true,
    "editable": true
   },
   "outputs": [],
   "source": [
    "%matplotlib inline\n",
    "import mpld3\n",
    "import matplotlib.pyplot as plt\n",
    "mpld3.enable_notebook()\n",
    "import numpy as np"
   ]
  },
  {
   "cell_type": "code",
   "execution_count": 3,
   "metadata": {
    "collapsed": false,
    "deletable": true,
    "editable": true
   },
   "outputs": [],
   "source": [
    "class phi_tilde:    \n",
    "    def __init__(self,k,alpha=0,l=0,m=0):\n",
    "        self.k=k\n",
    "        self.alpha=alpha\n",
    "        self.l=l\n",
    "        self.m=m"
   ]
  },
  {
   "cell_type": "code",
   "execution_count": 4,
   "metadata": {
    "collapsed": false,
    "deletable": true,
    "editable": true
   },
   "outputs": [],
   "source": [
    "def plotlog(x, y, alpha, xrange=1, numx=2):\n",
    "    xv = np.logspace(np.log10(x), np.log10(x) + xrange, numx)\n",
    "    C = y / (x**alpha)\n",
    "    yv = C * xv**(alpha)\n",
    "    plt.loglog(xv, yv)"
   ]
  },
  {
   "cell_type": "code",
   "execution_count": 5,
   "metadata": {
    "collapsed": true
   },
   "outputs": [],
   "source": [
    "def norm(K):\n",
    "    return np.linalg.norm(K)"
   ]
  },
  {
   "cell_type": "markdown",
   "metadata": {
    "deletable": true,
    "editable": true
   },
   "source": [
    "## Two point correlations"
   ]
  },
  {
   "cell_type": "code",
   "execution_count": 6,
   "metadata": {
    "collapsed": false,
    "deletable": true,
    "editable": true
   },
   "outputs": [],
   "source": [
    "def I2N(N, fa, p1, sequence):\n",
    "    lam0=0\n",
    "    lam=0\n",
    "    \n",
    "    if sequence == (0,0): # AA\n",
    "        value = mp.IAAresum(N,fa,lam0,lam,p1)\n",
    "    elif sequence ==(0,1): # AB\n",
    "        value = mp.IABresum(N,fa,lam0,lam,p1)\n",
    "    elif sequence == (1,1): # BB\n",
    "        value = mp.IAAresum(N,1-fa,lam0,lam,p1)\n",
    "    else:\n",
    "        value=0.0\n",
    "    return value"
   ]
  },
  {
   "cell_type": "code",
   "execution_count": 7,
   "metadata": {
    "collapsed": true,
    "deletable": true,
    "editable": true
   },
   "outputs": [],
   "source": [
    "def twoPointCorr(pset,N,fa,phi1,phi2):\n",
    "    val = 0.0+0.0j\n",
    "    for ordered in perms([phi1,phi2]):\n",
    "        q1=-ordered[0].k\n",
    "\n",
    "        # chemical sequence, A is 1\n",
    "        sequence = (ordered[0].alpha,ordered[1].alpha)\n",
    "\n",
    "        # Calculate or look up eigenstuff\n",
    "        p = pset.get_vec_prop(q1)\n",
    "        val += I2N(N, fa, p.prop(0), sequence)\n",
    "    return val"
   ]
  },
  {
   "cell_type": "code",
   "execution_count": 8,
   "metadata": {
    "collapsed": true,
    "deletable": true,
    "editable": true
   },
   "outputs": [],
   "source": [
    "def s2wlc(pset, N, fa, K):\n",
    "    s2 = np.zeros((2,2),dtype=type(1+1j))\n",
    "    k1=np.array([0,0,1])*K\n",
    "    k2=-k1\n",
    "\n",
    "    for a1 in [0,1]:\n",
    "        for a2 in [0,1]:\n",
    "            phi1 = phi_tilde(k1,alpha=a1)\n",
    "            phi2 = phi_tilde(k2,alpha=a2)\n",
    "            s2[a1][a2] = twoPointCorr(pset, N, fa, phi1, phi2)\n",
    "    return s2"
   ]
  },
  {
   "cell_type": "code",
   "execution_count": 9,
   "metadata": {
    "collapsed": true,
    "deletable": true,
    "editable": true
   },
   "outputs": [],
   "source": [
    "def s2inverse(pset, N, fa, K):\n",
    "    s2 = s2wlc(pset, N, fa, K)\n",
    "    s2inv = np.zeros((2,2),dtype=type(1+1j))\n",
    "    \n",
    "    [s2aa, s2ab], [s2ba, s2bb] = s2\n",
    "    det = s2aa*s2bb - s2ab*s2ba\n",
    "    \n",
    "    s2inv[0,0] = s2bb/det\n",
    "    s2inv[0,1] = -s2ab/det\n",
    "    s2inv[1,0] = -s2ba/det\n",
    "    s2inv[1,1] = s2bb/det\n",
    "    \n",
    "    return s2inv"
   ]
  },
  {
   "cell_type": "code",
   "execution_count": 10,
   "metadata": {
    "collapsed": false,
    "deletable": true,
    "editable": true
   },
   "outputs": [],
   "source": [
    "N=10\n",
    "fa=0.5\n",
    "\n",
    "nlam=4\n",
    "pset=propagator.prop_set(nlam=nlam)\n",
    "\n",
    "# K = 10\n",
    "# s2wlc(pset, N, fa, K)\n",
    "\n",
    "KV = np.logspace(-1,3,10)\n",
    "s2 = np.zeros((2,2,len(KV)),dtype=type(1+1j))\n",
    "for ind, K in enumerate(KV):\n",
    "    s2[:,:,ind] = s2wlc(pset, N, fa, K)/(N**2)"
   ]
  },
  {
   "cell_type": "code",
   "execution_count": 15,
   "metadata": {
    "collapsed": false,
    "deletable": true,
    "editable": true
   },
   "outputs": [
    {
     "data": {
      "image/png": "[encoded data removed]",
      "text/html": [
       "\n",
       "\n",
       "<style>\n",
       "\n",
       "</style>\n",
       "\n",
       "<div id=\"fig_el1266345128694565757064897\"></div>\n",
       "<script>\n",
       "function mpld3_load_lib(url, callback){\n",
       "  var s = document.createElement('script');\n",
       "  s.src = url;\n",
       "  s.async = true;\n",
       "  s.onreadystatechange = s.onload = callback;\n",
       "  s.onerror = function(){console.warn(\"failed to load library \" + url);};\n",
       "  document.getElementsByTagName(\"head\")[0].appendChild(s);\n",
       "}\n",
       "\n",
       "if(typeof(mpld3) !== \"undefined\" && mpld3._mpld3IsLoaded){\n",
       "   // already loaded: just create the figure\n",
       "   !function(mpld3){\n",
       "       \n",
       "       mpld3.draw_figure(\"fig_el1266345128694565757064897\", {\"axes\": [{\"xlim\": [0.1, 1000.0], \"yscale\": \"log\", \"axesbg\": \"#FFFFFF\", \"texts\": [], \"zoomable\": true, \"images\": [], \"xdomain\": [0.1, 1000.0], \"ylim\": [0.0001, 10.0], \"paths\": [], \"sharey\": [], \"sharex\": [], \"axesbgalpha\": null, \"axes\": [{\"scale\": \"log\", \"tickformat\": null, \"grid\": {\"gridOn\": false}, \"visible\": true, \"fontsize\": 10.0, \"position\": \"bottom\", \"nticks\": 7, \"tickvalues\": null}, {\"scale\": \"log\", \"tickformat\": null, \"grid\": {\"gridOn\": false}, \"visible\": true, \"fontsize\": 10.0, \"position\": \"left\", \"nticks\": 8, \"tickvalues\": null}], \"lines\": [{\"drawstyle\": \"default\", \"color\": \"#0000FF\", \"yindex\": 1, \"coordinates\": \"data\", \"dasharray\": \"none\", \"zorder\": 2, \"alpha\": 1, \"xindex\": 0, \"linewidth\": 1.0, \"data\": \"data01\", \"id\": \"el126634537100944\"}, {\"drawstyle\": \"default\", \"color\": \"#007F00\", \"yindex\": 1, \"coordinates\": \"data\", \"dasharray\": \"none\", \"zorder\": 2, \"alpha\": 1, \"xindex\": 0, \"linewidth\": 1.0, \"data\": \"data02\", \"id\": \"el126634536347472\"}], \"markers\": [], \"id\": \"el126634522948688\", \"ydomain\": [0.0001, 10.0], \"collections\": [], \"xscale\": \"log\", \"bbox\": [0.125, 0.125, 0.775, 0.775]}], \"height\": 288.0, \"width\": 432.0, \"plugins\": [{\"type\": \"reset\"}, {\"enabled\": false, \"button\": true, \"type\": \"zoom\"}, {\"enabled\": false, \"button\": true, \"type\": \"boxzoom\"}], \"data\": {\"data02\": [[10.0, 0.1], [100.0, 0.01]], \"data01\": [[0.1, 1.9904302953090518], [0.2782559402207124, 1.927597772436493], [0.774263682681127, 1.5270465645718732], [2.1544346900318834, 0.5134406982133619], [5.994842503189409, 0.11365635047727711], [16.68100537200059, 0.03835099751069827], [46.41588833612777, 0.013641433449721534], [129.15496650148827, 0.004878427861319618], [359.38136638046257, 0.001750088589972635], [1000.0, 0.000628545196667985]]}, \"id\": \"el126634512869456\"});\n",
       "   }(mpld3);\n",
       "}else if(typeof define === \"function\" && define.amd){\n",
       "   // require.js is available: use it to load d3/mpld3\n",
       "   require.config({paths: {d3: \"https://mpld3.github.io/js/d3.v3.min\"}});\n",
       "   require([\"d3\"], function(d3){\n",
       "      window.d3 = d3;\n",
       "      mpld3_load_lib(\"https://mpld3.github.io/js/mpld3.v0.3.js\", function(){\n",
       "         \n",
       "         mpld3.draw_figure(\"fig_el1266345128694565757064897\", {\"axes\": [{\"xlim\": [0.1, 1000.0], \"yscale\": \"log\", \"axesbg\": \"#FFFFFF\", \"texts\": [], \"zoomable\": true, \"images\": [], \"xdomain\": [0.1, 1000.0], \"ylim\": [0.0001, 10.0], \"paths\": [], \"sharey\": [], \"sharex\": [], \"axesbgalpha\": null, \"axes\": [{\"scale\": \"log\", \"tickformat\": null, \"grid\": {\"gridOn\": false}, \"visible\": true, \"fontsize\": 10.0, \"position\": \"bottom\", \"nticks\": 7, \"tickvalues\": null}, {\"scale\": \"log\", \"tickformat\": null, \"grid\": {\"gridOn\": false}, \"visible\": true, \"fontsize\": 10.0, \"position\": \"left\", \"nticks\": 8, \"tickvalues\": null}], \"lines\": [{\"drawstyle\": \"default\", \"color\": \"#0000FF\", \"yindex\": 1, \"coordinates\": \"data\", \"dasharray\": \"none\", \"zorder\": 2, \"alpha\": 1, \"xindex\": 0, \"linewidth\": 1.0, \"data\": \"data01\", \"id\": \"el126634537100944\"}, {\"drawstyle\": \"default\", \"color\": \"#007F00\", \"yindex\": 1, \"coordinates\": \"data\", \"dasharray\": \"none\", \"zorder\": 2, \"alpha\": 1, \"xindex\": 0, \"linewidth\": 1.0, \"data\": \"data02\", \"id\": \"el126634536347472\"}], \"markers\": [], \"id\": \"el126634522948688\", \"ydomain\": [0.0001, 10.0], \"collections\": [], \"xscale\": \"log\", \"bbox\": [0.125, 0.125, 0.775, 0.775]}], \"height\": 288.0, \"width\": 432.0, \"plugins\": [{\"type\": \"reset\"}, {\"enabled\": false, \"button\": true, \"type\": \"zoom\"}, {\"enabled\": false, \"button\": true, \"type\": \"boxzoom\"}], \"data\": {\"data02\": [[10.0, 0.1], [100.0, 0.01]], \"data01\": [[0.1, 1.9904302953090518], [0.2782559402207124, 1.927597772436493], [0.774263682681127, 1.5270465645718732], [2.1544346900318834, 0.5134406982133619], [5.994842503189409, 0.11365635047727711], [16.68100537200059, 0.03835099751069827], [46.41588833612777, 0.013641433449721534], [129.15496650148827, 0.004878427861319618], [359.38136638046257, 0.001750088589972635], [1000.0, 0.000628545196667985]]}, \"id\": \"el126634512869456\"});\n",
       "      });\n",
       "    });\n",
       "}else{\n",
       "    // require.js not available: dynamically load d3 & mpld3\n",
       "    mpld3_load_lib(\"https://mpld3.github.io/js/d3.v3.min.js\", function(){\n",
       "         mpld3_load_lib(\"https://mpld3.github.io/js/mpld3.v0.3.js\", function(){\n",
       "                 \n",
       "                 mpld3.draw_figure(\"fig_el1266345128694565757064897\", {\"axes\": [{\"xlim\": [0.1, 1000.0], \"yscale\": \"log\", \"axesbg\": \"#FFFFFF\", \"texts\": [], \"zoomable\": true, \"images\": [], \"xdomain\": [0.1, 1000.0], \"ylim\": [0.0001, 10.0], \"paths\": [], \"sharey\": [], \"sharex\": [], \"axesbgalpha\": null, \"axes\": [{\"scale\": \"log\", \"tickformat\": null, \"grid\": {\"gridOn\": false}, \"visible\": true, \"fontsize\": 10.0, \"position\": \"bottom\", \"nticks\": 7, \"tickvalues\": null}, {\"scale\": \"log\", \"tickformat\": null, \"grid\": {\"gridOn\": false}, \"visible\": true, \"fontsize\": 10.0, \"position\": \"left\", \"nticks\": 8, \"tickvalues\": null}], \"lines\": [{\"drawstyle\": \"default\", \"color\": \"#0000FF\", \"yindex\": 1, \"coordinates\": \"data\", \"dasharray\": \"none\", \"zorder\": 2, \"alpha\": 1, \"xindex\": 0, \"linewidth\": 1.0, \"data\": \"data01\", \"id\": \"el126634537100944\"}, {\"drawstyle\": \"default\", \"color\": \"#007F00\", \"yindex\": 1, \"coordinates\": \"data\", \"dasharray\": \"none\", \"zorder\": 2, \"alpha\": 1, \"xindex\": 0, \"linewidth\": 1.0, \"data\": \"data02\", \"id\": \"el126634536347472\"}], \"markers\": [], \"id\": \"el126634522948688\", \"ydomain\": [0.0001, 10.0], \"collections\": [], \"xscale\": \"log\", \"bbox\": [0.125, 0.125, 0.775, 0.775]}], \"height\": 288.0, \"width\": 432.0, \"plugins\": [{\"type\": \"reset\"}, {\"enabled\": false, \"button\": true, \"type\": \"zoom\"}, {\"enabled\": false, \"button\": true, \"type\": \"boxzoom\"}], \"data\": {\"data02\": [[10.0, 0.1], [100.0, 0.01]], \"data01\": [[0.1, 1.9904302953090518], [0.2782559402207124, 1.927597772436493], [0.774263682681127, 1.5270465645718732], [2.1544346900318834, 0.5134406982133619], [5.994842503189409, 0.11365635047727711], [16.68100537200059, 0.03835099751069827], [46.41588833612777, 0.013641433449721534], [129.15496650148827, 0.004878427861319618], [359.38136638046257, 0.001750088589972635], [1000.0, 0.000628545196667985]]}, \"id\": \"el126634512869456\"});\n",
       "            })\n",
       "         });\n",
       "}\n",
       "</script>"
      ],
      "text/plain": [
       "<matplotlib.figure.Figure at 0x10cfcec50>"
      ]
     },
     "metadata": {},
     "output_type": "display_data"
    }
   ],
   "source": [
    "plt.loglog(KV, np.real(np.sum(np.vstack([s2[0,0,:], s2[0,1,:], \\\n",
    "                                         s2[1,0,:], s2[1,1,:]]), axis=0)))\n",
    "plotlog(1e1,1e-1,-1)\n",
    "plt.show()"
   ]
  },
  {
   "cell_type": "markdown",
   "metadata": {
    "deletable": true,
    "editable": true
   },
   "source": [
    "## Three point correlations"
   ]
  },
  {
   "cell_type": "code",
   "execution_count": 37,
   "metadata": {
    "collapsed": false,
    "deletable": true,
    "editable": true
   },
   "outputs": [],
   "source": [
    "def I3N(N,fa,lam0_1,lam_1,mu1,\\\n",
    "            lam0_2,lam_2,mu2,\\\n",
    "            p1,p2,\\\n",
    "            sequence):\n",
    "    \n",
    "    value = 0\n",
    "    if sequence == (0,0,0): # AAAA\n",
    "        value = mp.IAAAresum(N,fa,lam0_1,lam_1,\\\n",
    "                                  lam0_2,lam_2,\\\n",
    "                                  p1.prop(mu1),\\\n",
    "                                  p2.prop(mu2))\n",
    "    elif sequence == (0,0,1): # AAB\n",
    "        value = mp.IABBresum(N,1-fa,lam0_1,lam_1,\\\n",
    "                                  lam0_2,lam_2,\\\n",
    "                                  p1.prop(mu1),\\\n",
    "                                  p2.prop(mu2))\n",
    "    elif sequence == (0,1,1): # ABB\n",
    "        value = mp.IABBresum(N,fa,lam0_1,lam_1,\\\n",
    "                                  lam0_2,lam_2,\\\n",
    "                                  p1.prop(mu1),\\\n",
    "                                  p2.prop(mu2))\n",
    "    elif sequence == (1,1,1): # BBB\n",
    "        fb=1.0-fa\n",
    "        # Same as AAAA except fb instead of fa\n",
    "        value = mp.IAAAresum(N,fb,lam0_1,lam_1,\\\n",
    "                                  lam0_2,lam_2,\\\n",
    "                                  p1.prop(mu1),\\\n",
    "                                  p2.prop(mu2))\n",
    "    else:\n",
    "        pass\n",
    "    \n",
    "    return value"
   ]
  },
  {
   "cell_type": "markdown",
   "metadata": {
    "deletable": true,
    "editable": true
   },
   "source": [
    "### Space ordering of wavevectors"
   ]
  },
  {
   "cell_type": "code",
   "execution_count": 44,
   "metadata": {
    "collapsed": false,
    "deletable": true,
    "editable": true
   },
   "outputs": [],
   "source": [
    "# Inputs\n",
    "#     pset (propagator.prop_set), the set of propagators used so far\n",
    "#     N (float), number of Khun lengths\n",
    "#     fa (float), fraction of type A\n",
    "#     prop1 (phi_tilde), contains k and alpha\n",
    "def threePointCorr(pset,N,fa,phi1,phi2,phi3):\n",
    "#     print('Warning: Winger D hasnt been implemented!')\n",
    "    nlam=pset.nlam\n",
    "    # The first and last lam must be zero \n",
    "    mu1=0\n",
    "    mu2=0\n",
    "    lam0_1=0\n",
    "    lam_2=0\n",
    "    \n",
    "    total = 0.0+0.0j\n",
    "    # The Points can be visited in any order\n",
    "    for ordered in perms([phi1,phi2,phi3]):\n",
    "        # while phi1.k is the absolute Fourier position\n",
    "        # q1 is the relitive Fourier position of 1 and 2\n",
    "        q1=-ordered[0].k\n",
    "        q2=-ordered[0].k-ordered[1].k\n",
    "\n",
    "        # chemical sequence, A is 1\n",
    "        sequence = (ordered[0].alpha,ordered[1].alpha,ordered[2].alpha)\n",
    "        \n",
    "        # Calculate or look up eigenstuff\n",
    "        p1 = pset.get_vec_prop(q1)\n",
    "        p2 = pset.get_vec_prop(q2)\n",
    "\n",
    "        # Angular sum\n",
    "        for lam in range(0,nlam):\n",
    "            lam_1, lam0_2 = lam, lam\n",
    "            value = I3N(N,fa,lam0_1,lam_1,mu1,\\\n",
    "                        lam0_2,lam_2,mu2,\\\n",
    "                        p1,p2,\\\n",
    "                        sequence)\n",
    "\n",
    "            # Wigner D goes here!\n",
    "\n",
    "            total = total + value\n",
    "    return total"
   ]
  },
  {
   "cell_type": "code",
   "execution_count": 45,
   "metadata": {
    "collapsed": true
   },
   "outputs": [],
   "source": [
    "def s3wlc(pset, N, fa, Ks):\n",
    "    s3 = np.zeros((2,2,2),dtype=type(1+1j))\n",
    "    k1, k2, k3 = Ks\n",
    "    if norm(k1+k2+k3) >= 1e-10:\n",
    "        raise('Qs must add up to zero')\n",
    "\n",
    "    for a1, a2, a3 in product([0,1], repeat=3):\n",
    "        phi1 = phi_tilde(k1,alpha=a1)\n",
    "        phi2 = phi_tilde(k2,alpha=a2)\n",
    "        phi3 = phi_tilde(k3,alpha=a3)\n",
    "\n",
    "        s3[a1][a2][a3] = threePointCorr(pset, N, fa, \\\n",
    "                                       phi1, phi2, phi3)\n",
    "    return s3"
   ]
  },
  {
   "cell_type": "code",
   "execution_count": 62,
   "metadata": {
    "collapsed": false
   },
   "outputs": [],
   "source": [
    "N=0.1\n",
    "fa=1.0\n",
    "\n",
    "def setKs(K):\n",
    "    k1=np.array([0,0,1])*K\n",
    "    k2=np.array([0,0,1])*K\n",
    "    k3=-k1-k2\n",
    "\n",
    "    Ks = [k1, k2, k3]\n",
    "    return Ks\n",
    "\n",
    "nlam=6\n",
    "pset=propagator.prop_set(nlam=nlam)\n",
    "\n",
    "# K = 10.0\n",
    "# Ks = setKs(K)\n",
    "# s3wlc(pset, N, fa, Ks)\n",
    "\n",
    "KV = np.logspace(0,5,10)\n",
    "s3 = np.zeros((2,2,2,len(KV)),dtype=type(1+1j))\n",
    "for ind, K in enumerate(KV):\n",
    "    k = setKs(K)\n",
    "    s3[:,:,:,ind] = s3wlc(pset, N, fa, k)/(N**3)"
   ]
  },
  {
   "cell_type": "code",
   "execution_count": 64,
   "metadata": {
    "collapsed": false
   },
   "outputs": [
    {
     "ename": "ValueError",
     "evalue": "Data has no positive values, and therefore can not be log-scaled.",
     "output_type": "error",
     "traceback": [
      "\u001b[0;31m---------------------------------------------------------------------------\u001b[0m",
      "\u001b[0;31mValueError\u001b[0m                                Traceback (most recent call last)",
      "\u001b[0;32m<ipython-input-64-d6dfc65b0705>\u001b[0m in \u001b[0;36m<module>\u001b[0;34m()\u001b[0m\n\u001b[0;32m----> 1\u001b[0;31m \u001b[0mplt\u001b[0m\u001b[0;34m.\u001b[0m\u001b[0mloglog\u001b[0m\u001b[0;34m(\u001b[0m\u001b[0mKV\u001b[0m\u001b[0;34m,\u001b[0m \u001b[0ms3\u001b[0m\u001b[0;34m[\u001b[0m\u001b[0;36m0\u001b[0m\u001b[0;34m,\u001b[0m\u001b[0;36m0\u001b[0m\u001b[0;34m,\u001b[0m\u001b[0;36m0\u001b[0m\u001b[0;34m,\u001b[0m\u001b[0;34m:\u001b[0m\u001b[0;34m]\u001b[0m\u001b[0;34m)\u001b[0m\u001b[0;34m\u001b[0m\u001b[0m\n\u001b[0m\u001b[1;32m      2\u001b[0m \u001b[0mplotlog\u001b[0m\u001b[0;34m(\u001b[0m\u001b[0;36m1e1\u001b[0m\u001b[0;34m,\u001b[0m \u001b[0;36m5e-3\u001b[0m\u001b[0;34m,\u001b[0m \u001b[0;34m-\u001b[0m\u001b[0;36m2\u001b[0m\u001b[0;34m,\u001b[0m \u001b[0mxrange\u001b[0m\u001b[0;34m=\u001b[0m\u001b[0;36m2\u001b[0m\u001b[0;34m)\u001b[0m\u001b[0;34m\u001b[0m\u001b[0m\n\u001b[1;32m      3\u001b[0m \u001b[0mplt\u001b[0m\u001b[0;34m.\u001b[0m\u001b[0mshow\u001b[0m\u001b[0;34m(\u001b[0m\u001b[0;34m)\u001b[0m\u001b[0;34m\u001b[0m\u001b[0m\n",
      "\u001b[0;32m/Users/shifan/Library/Python/2.7/lib/python/site-packages/matplotlib/pyplot.pyc\u001b[0m in \u001b[0;36mloglog\u001b[0;34m(*args, **kwargs)\u001b[0m\n\u001b[1;32m   3044\u001b[0m         \u001b[0max\u001b[0m\u001b[0;34m.\u001b[0m\u001b[0mhold\u001b[0m\u001b[0;34m(\u001b[0m\u001b[0mhold\u001b[0m\u001b[0;34m)\u001b[0m\u001b[0;34m\u001b[0m\u001b[0m\n\u001b[1;32m   3045\u001b[0m     \u001b[0;32mtry\u001b[0m\u001b[0;34m:\u001b[0m\u001b[0;34m\u001b[0m\u001b[0m\n\u001b[0;32m-> 3046\u001b[0;31m         \u001b[0mret\u001b[0m \u001b[0;34m=\u001b[0m \u001b[0max\u001b[0m\u001b[0;34m.\u001b[0m\u001b[0mloglog\u001b[0m\u001b[0;34m(\u001b[0m\u001b[0;34m*\u001b[0m\u001b[0margs\u001b[0m\u001b[0;34m,\u001b[0m \u001b[0;34m**\u001b[0m\u001b[0mkwargs\u001b[0m\u001b[0;34m)\u001b[0m\u001b[0;34m\u001b[0m\u001b[0m\n\u001b[0m\u001b[1;32m   3047\u001b[0m     \u001b[0;32mfinally\u001b[0m\u001b[0;34m:\u001b[0m\u001b[0;34m\u001b[0m\u001b[0m\n\u001b[1;32m   3048\u001b[0m         \u001b[0max\u001b[0m\u001b[0;34m.\u001b[0m\u001b[0mhold\u001b[0m\u001b[0;34m(\u001b[0m\u001b[0mwashold\u001b[0m\u001b[0;34m)\u001b[0m\u001b[0;34m\u001b[0m\u001b[0m\n",
      "\u001b[0;32m/Users/shifan/Library/Python/2.7/lib/python/site-packages/matplotlib/axes/_axes.pyc\u001b[0m in \u001b[0;36mloglog\u001b[0;34m(self, *args, **kwargs)\u001b[0m\n\u001b[1;32m   1518\u001b[0m         \u001b[0mb\u001b[0m \u001b[0;34m=\u001b[0m \u001b[0mself\u001b[0m\u001b[0;34m.\u001b[0m\u001b[0m_hold\u001b[0m\u001b[0;34m\u001b[0m\u001b[0m\n\u001b[1;32m   1519\u001b[0m         \u001b[0mself\u001b[0m\u001b[0;34m.\u001b[0m\u001b[0m_hold\u001b[0m \u001b[0;34m=\u001b[0m \u001b[0mTrue\u001b[0m  \u001b[0;31m# we've already processed the hold\u001b[0m\u001b[0;34m\u001b[0m\u001b[0m\n\u001b[0;32m-> 1520\u001b[0;31m         \u001b[0ml\u001b[0m \u001b[0;34m=\u001b[0m \u001b[0mself\u001b[0m\u001b[0;34m.\u001b[0m\u001b[0mplot\u001b[0m\u001b[0;34m(\u001b[0m\u001b[0;34m*\u001b[0m\u001b[0margs\u001b[0m\u001b[0;34m,\u001b[0m \u001b[0;34m**\u001b[0m\u001b[0mkwargs\u001b[0m\u001b[0;34m)\u001b[0m\u001b[0;34m\u001b[0m\u001b[0m\n\u001b[0m\u001b[1;32m   1521\u001b[0m         \u001b[0mself\u001b[0m\u001b[0;34m.\u001b[0m\u001b[0m_hold\u001b[0m \u001b[0;34m=\u001b[0m \u001b[0mb\u001b[0m  \u001b[0;31m# restore the hold\u001b[0m\u001b[0;34m\u001b[0m\u001b[0m\n\u001b[1;32m   1522\u001b[0m \u001b[0;34m\u001b[0m\u001b[0m\n",
      "\u001b[0;32m/Users/shifan/Library/Python/2.7/lib/python/site-packages/matplotlib/__init__.pyc\u001b[0m in \u001b[0;36minner\u001b[0;34m(ax, *args, **kwargs)\u001b[0m\n\u001b[1;32m   1817\u001b[0m                     warnings.warn(msg % (label_namer, func.__name__),\n\u001b[1;32m   1818\u001b[0m                                   RuntimeWarning, stacklevel=2)\n\u001b[0;32m-> 1819\u001b[0;31m             \u001b[0;32mreturn\u001b[0m \u001b[0mfunc\u001b[0m\u001b[0;34m(\u001b[0m\u001b[0max\u001b[0m\u001b[0;34m,\u001b[0m \u001b[0;34m*\u001b[0m\u001b[0margs\u001b[0m\u001b[0;34m,\u001b[0m \u001b[0;34m**\u001b[0m\u001b[0mkwargs\u001b[0m\u001b[0;34m)\u001b[0m\u001b[0;34m\u001b[0m\u001b[0m\n\u001b[0m\u001b[1;32m   1820\u001b[0m         \u001b[0mpre_doc\u001b[0m \u001b[0;34m=\u001b[0m \u001b[0minner\u001b[0m\u001b[0;34m.\u001b[0m\u001b[0m__doc__\u001b[0m\u001b[0;34m\u001b[0m\u001b[0m\n\u001b[1;32m   1821\u001b[0m         \u001b[0;32mif\u001b[0m \u001b[0mpre_doc\u001b[0m \u001b[0;32mis\u001b[0m \u001b[0mNone\u001b[0m\u001b[0;34m:\u001b[0m\u001b[0;34m\u001b[0m\u001b[0m\n",
      "\u001b[0;32m/Users/shifan/Library/Python/2.7/lib/python/site-packages/matplotlib/axes/_axes.pyc\u001b[0m in \u001b[0;36mplot\u001b[0;34m(self, *args, **kwargs)\u001b[0m\n\u001b[1;32m   1384\u001b[0m             \u001b[0mlines\u001b[0m\u001b[0;34m.\u001b[0m\u001b[0mappend\u001b[0m\u001b[0;34m(\u001b[0m\u001b[0mline\u001b[0m\u001b[0;34m)\u001b[0m\u001b[0;34m\u001b[0m\u001b[0m\n\u001b[1;32m   1385\u001b[0m \u001b[0;34m\u001b[0m\u001b[0m\n\u001b[0;32m-> 1386\u001b[0;31m         \u001b[0mself\u001b[0m\u001b[0;34m.\u001b[0m\u001b[0mautoscale_view\u001b[0m\u001b[0;34m(\u001b[0m\u001b[0mscalex\u001b[0m\u001b[0;34m=\u001b[0m\u001b[0mscalex\u001b[0m\u001b[0;34m,\u001b[0m \u001b[0mscaley\u001b[0m\u001b[0;34m=\u001b[0m\u001b[0mscaley\u001b[0m\u001b[0;34m)\u001b[0m\u001b[0;34m\u001b[0m\u001b[0m\n\u001b[0m\u001b[1;32m   1387\u001b[0m         \u001b[0;32mreturn\u001b[0m \u001b[0mlines\u001b[0m\u001b[0;34m\u001b[0m\u001b[0m\n\u001b[1;32m   1388\u001b[0m \u001b[0;34m\u001b[0m\u001b[0m\n",
      "\u001b[0;32m/Users/shifan/Library/Python/2.7/lib/python/site-packages/matplotlib/axes/_base.pyc\u001b[0m in \u001b[0;36mautoscale_view\u001b[0;34m(self, tight, scalex, scaley)\u001b[0m\n\u001b[1;32m   2190\u001b[0m                 \u001b[0my1\u001b[0m \u001b[0;34m+=\u001b[0m \u001b[0mdelta\u001b[0m\u001b[0;34m\u001b[0m\u001b[0m\n\u001b[1;32m   2191\u001b[0m             \u001b[0;32mif\u001b[0m \u001b[0;32mnot\u001b[0m \u001b[0m_tight\u001b[0m\u001b[0;34m:\u001b[0m\u001b[0;34m\u001b[0m\u001b[0m\n\u001b[0;32m-> 2192\u001b[0;31m                 \u001b[0my0\u001b[0m\u001b[0;34m,\u001b[0m \u001b[0my1\u001b[0m \u001b[0;34m=\u001b[0m \u001b[0mylocator\u001b[0m\u001b[0;34m.\u001b[0m\u001b[0mview_limits\u001b[0m\u001b[0;34m(\u001b[0m\u001b[0my0\u001b[0m\u001b[0;34m,\u001b[0m \u001b[0my1\u001b[0m\u001b[0;34m)\u001b[0m\u001b[0;34m\u001b[0m\u001b[0m\n\u001b[0m\u001b[1;32m   2193\u001b[0m             \u001b[0mself\u001b[0m\u001b[0;34m.\u001b[0m\u001b[0mset_ybound\u001b[0m\u001b[0;34m(\u001b[0m\u001b[0my0\u001b[0m\u001b[0;34m,\u001b[0m \u001b[0my1\u001b[0m\u001b[0;34m)\u001b[0m\u001b[0;34m\u001b[0m\u001b[0m\n\u001b[1;32m   2194\u001b[0m \u001b[0;34m\u001b[0m\u001b[0m\n",
      "\u001b[0;32m/Users/shifan/Library/Python/2.7/lib/python/site-packages/matplotlib/ticker.pyc\u001b[0m in \u001b[0;36mview_limits\u001b[0;34m(self, vmin, vmax)\u001b[0m\n\u001b[1;32m   1615\u001b[0m         \u001b[0;32mif\u001b[0m \u001b[0mminpos\u001b[0m \u001b[0;34m<=\u001b[0m \u001b[0;36m0\u001b[0m \u001b[0;32mor\u001b[0m \u001b[0;32mnot\u001b[0m \u001b[0mnp\u001b[0m\u001b[0;34m.\u001b[0m\u001b[0misfinite\u001b[0m\u001b[0;34m(\u001b[0m\u001b[0mminpos\u001b[0m\u001b[0;34m)\u001b[0m\u001b[0;34m:\u001b[0m\u001b[0;34m\u001b[0m\u001b[0m\n\u001b[1;32m   1616\u001b[0m             raise ValueError(\n\u001b[0;32m-> 1617\u001b[0;31m                 \u001b[0;34m\"Data has no positive values, and therefore can not be \"\u001b[0m\u001b[0;34m\u001b[0m\u001b[0m\n\u001b[0m\u001b[1;32m   1618\u001b[0m                 \"log-scaled.\")\n\u001b[1;32m   1619\u001b[0m \u001b[0;34m\u001b[0m\u001b[0m\n",
      "\u001b[0;31mValueError\u001b[0m: Data has no positive values, and therefore can not be log-scaled."
     ]
    },
    {
     "data": {
      "image/png": "[encoded data removed]",
      "text/html": [
       "\n",
       "\n",
       "<style>\n",
       "\n",
       "</style>\n",
       "\n",
       "<div id=\"fig_el1266345592051361331452540\"></div>\n",
       "<script>\n",
       "function mpld3_load_lib(url, callback){\n",
       "  var s = document.createElement('script');\n",
       "  s.src = url;\n",
       "  s.async = true;\n",
       "  s.onreadystatechange = s.onload = callback;\n",
       "  s.onerror = function(){console.warn(\"failed to load library \" + url);};\n",
       "  document.getElementsByTagName(\"head\")[0].appendChild(s);\n",
       "}\n",
       "\n",
       "if(typeof(mpld3) !== \"undefined\" && mpld3._mpld3IsLoaded){\n",
       "   // already loaded: just create the figure\n",
       "   !function(mpld3){\n",
       "       \n",
       "       mpld3.draw_figure(\"fig_el1266345592051361331452540\", {\"axes\": [{\"xlim\": [1.0, 100000.0], \"yscale\": \"log\", \"axesbg\": \"#FFFFFF\", \"texts\": [], \"zoomable\": true, \"images\": [], \"xdomain\": [1.0, 100000.0], \"ylim\": [1e-07, 0.1], \"paths\": [], \"sharey\": [], \"sharex\": [], \"axesbgalpha\": null, \"axes\": [{\"scale\": \"log\", \"tickformat\": null, \"grid\": {\"gridOn\": false}, \"visible\": true, \"fontsize\": 10.0, \"position\": \"bottom\", \"nticks\": 8, \"tickvalues\": null}, {\"scale\": \"log\", \"tickformat\": null, \"grid\": {\"gridOn\": false}, \"visible\": true, \"fontsize\": 10.0, \"position\": \"left\", \"nticks\": 10, \"tickvalues\": null}], \"lines\": [{\"drawstyle\": \"default\", \"color\": \"#0000FF\", \"yindex\": 1, \"coordinates\": \"data\", \"dasharray\": \"none\", \"zorder\": 2, \"alpha\": 1, \"xindex\": 0, \"linewidth\": 1.0, \"data\": \"data01\", \"id\": \"el126634522081360\"}], \"markers\": [], \"id\": \"el126634558115600\", \"ydomain\": [1e-07, 0.1], \"collections\": [], \"xscale\": \"log\", \"bbox\": [0.125, 0.125, 0.775, 0.775]}], \"height\": 288.0, \"width\": 432.0, \"plugins\": [{\"type\": \"reset\"}, {\"enabled\": false, \"button\": true, \"type\": \"zoom\"}, {\"enabled\": false, \"button\": true, \"type\": \"boxzoom\"}], \"data\": {\"data01\": [[1.0, -2.7733473086610156], [3.5938136638046276, -4.720520074812148], [12.91549665014884, -4.208184501459919], [46.4158883361278, -0.11310925590954683], [166.81005372000593, -0.0037700423023646653], [599.4842503189409, -0.0005014297498181338], [2154.4346900318847, -4.5485804551785405e-05], [7742.636826811277, -3.7016466676363346e-06], [27825.59402207126, -2.906094490375984e-07], [100000.0, -2.2588006187133244e-08]]}, \"id\": \"el126634559205136\"});\n",
       "   }(mpld3);\n",
       "}else if(typeof define === \"function\" && define.amd){\n",
       "   // require.js is available: use it to load d3/mpld3\n",
       "   require.config({paths: {d3: \"https://mpld3.github.io/js/d3.v3.min\"}});\n",
       "   require([\"d3\"], function(d3){\n",
       "      window.d3 = d3;\n",
       "      mpld3_load_lib(\"https://mpld3.github.io/js/mpld3.v0.3.js\", function(){\n",
       "         \n",
       "         mpld3.draw_figure(\"fig_el1266345592051361331452540\", {\"axes\": [{\"xlim\": [1.0, 100000.0], \"yscale\": \"log\", \"axesbg\": \"#FFFFFF\", \"texts\": [], \"zoomable\": true, \"images\": [], \"xdomain\": [1.0, 100000.0], \"ylim\": [1e-07, 0.1], \"paths\": [], \"sharey\": [], \"sharex\": [], \"axesbgalpha\": null, \"axes\": [{\"scale\": \"log\", \"tickformat\": null, \"grid\": {\"gridOn\": false}, \"visible\": true, \"fontsize\": 10.0, \"position\": \"bottom\", \"nticks\": 8, \"tickvalues\": null}, {\"scale\": \"log\", \"tickformat\": null, \"grid\": {\"gridOn\": false}, \"visible\": true, \"fontsize\": 10.0, \"position\": \"left\", \"nticks\": 10, \"tickvalues\": null}], \"lines\": [{\"drawstyle\": \"default\", \"color\": \"#0000FF\", \"yindex\": 1, \"coordinates\": \"data\", \"dasharray\": \"none\", \"zorder\": 2, \"alpha\": 1, \"xindex\": 0, \"linewidth\": 1.0, \"data\": \"data01\", \"id\": \"el126634522081360\"}], \"markers\": [], \"id\": \"el126634558115600\", \"ydomain\": [1e-07, 0.1], \"collections\": [], \"xscale\": \"log\", \"bbox\": [0.125, 0.125, 0.775, 0.775]}], \"height\": 288.0, \"width\": 432.0, \"plugins\": [{\"type\": \"reset\"}, {\"enabled\": false, \"button\": true, \"type\": \"zoom\"}, {\"enabled\": false, \"button\": true, \"type\": \"boxzoom\"}], \"data\": {\"data01\": [[1.0, -2.7733473086610156], [3.5938136638046276, -4.720520074812148], [12.91549665014884, -4.208184501459919], [46.4158883361278, -0.11310925590954683], [166.81005372000593, -0.0037700423023646653], [599.4842503189409, -0.0005014297498181338], [2154.4346900318847, -4.5485804551785405e-05], [7742.636826811277, -3.7016466676363346e-06], [27825.59402207126, -2.906094490375984e-07], [100000.0, -2.2588006187133244e-08]]}, \"id\": \"el126634559205136\"});\n",
       "      });\n",
       "    });\n",
       "}else{\n",
       "    // require.js not available: dynamically load d3 & mpld3\n",
       "    mpld3_load_lib(\"https://mpld3.github.io/js/d3.v3.min.js\", function(){\n",
       "         mpld3_load_lib(\"https://mpld3.github.io/js/mpld3.v0.3.js\", function(){\n",
       "                 \n",
       "                 mpld3.draw_figure(\"fig_el1266345592051361331452540\", {\"axes\": [{\"xlim\": [1.0, 100000.0], \"yscale\": \"log\", \"axesbg\": \"#FFFFFF\", \"texts\": [], \"zoomable\": true, \"images\": [], \"xdomain\": [1.0, 100000.0], \"ylim\": [1e-07, 0.1], \"paths\": [], \"sharey\": [], \"sharex\": [], \"axesbgalpha\": null, \"axes\": [{\"scale\": \"log\", \"tickformat\": null, \"grid\": {\"gridOn\": false}, \"visible\": true, \"fontsize\": 10.0, \"position\": \"bottom\", \"nticks\": 8, \"tickvalues\": null}, {\"scale\": \"log\", \"tickformat\": null, \"grid\": {\"gridOn\": false}, \"visible\": true, \"fontsize\": 10.0, \"position\": \"left\", \"nticks\": 10, \"tickvalues\": null}], \"lines\": [{\"drawstyle\": \"default\", \"color\": \"#0000FF\", \"yindex\": 1, \"coordinates\": \"data\", \"dasharray\": \"none\", \"zorder\": 2, \"alpha\": 1, \"xindex\": 0, \"linewidth\": 1.0, \"data\": \"data01\", \"id\": \"el126634522081360\"}], \"markers\": [], \"id\": \"el126634558115600\", \"ydomain\": [1e-07, 0.1], \"collections\": [], \"xscale\": \"log\", \"bbox\": [0.125, 0.125, 0.775, 0.775]}], \"height\": 288.0, \"width\": 432.0, \"plugins\": [{\"type\": \"reset\"}, {\"enabled\": false, \"button\": true, \"type\": \"zoom\"}, {\"enabled\": false, \"button\": true, \"type\": \"boxzoom\"}], \"data\": {\"data01\": [[1.0, -2.7733473086610156], [3.5938136638046276, -4.720520074812148], [12.91549665014884, -4.208184501459919], [46.4158883361278, -0.11310925590954683], [166.81005372000593, -0.0037700423023646653], [599.4842503189409, -0.0005014297498181338], [2154.4346900318847, -4.5485804551785405e-05], [7742.636826811277, -3.7016466676363346e-06], [27825.59402207126, -2.906094490375984e-07], [100000.0, -2.2588006187133244e-08]]}, \"id\": \"el126634559205136\"});\n",
       "            })\n",
       "         });\n",
       "}\n",
       "</script>"
      ],
      "text/plain": [
       "<matplotlib.figure.Figure at 0x10fbff310>"
      ]
     },
     "metadata": {},
     "output_type": "display_data"
    }
   ],
   "source": [
    "plt.loglog(KV, s3[0,0,0,:])\n",
    "plotlog(1e1, 5e-3, -2, xrange=2)\n",
    "plt.show()"
   ]
  },
  {
   "cell_type": "markdown",
   "metadata": {
    "deletable": true,
    "editable": true
   },
   "source": [
    "## Four point correlations"
   ]
  },
  {
   "cell_type": "markdown",
   "metadata": {
    "deletable": true,
    "editable": true
   },
   "source": [
    "\\begin{align*}\n",
    "\\underset{\\alpha_{1}\\alpha_{2}\\alpha_{3}\\alpha_{4}}{I_{1,2,3}^{\\left(4\\right)}\\left(N\\right)}= & \\int_{0}^{N}ds_{3}\\int_{0}^{s_{4}}ds_{2}\\int_{0}^{s_{3}}ds_{1}\\int_{0}^{s_{1}}ds_{0}\\delta_{\\alpha\\left(s_{1}\\right),\\alpha_{1}}\\delta_{\\alpha\\left(s_{2}\\right),\\alpha_{2}}\\delta_{\\alpha\\left(s_{3}\\right),\\alpha_{3}}\\delta_{\\alpha\\left(s_{4}\\right),\\alpha_{4}}\\\\\n",
    " & \\cdot\\mathcal{G}_{\\lambda0_{1}\\lambda_{1}}^{\\mu_{1}}\\left(s_{4}-s_{3},K_{1}\\right)\\mathcal{G}_{\\lambda0_{2}\\lambda_{2}}^{\\mu_{2}}\\left(s_{3}-s_{2},K_{2}\\right)\\mathcal{G}_{\\lambda0_{3}\\lambda_{3}}^{\\mu_{3}}\\left(s_{2}-s_{1},K_{2}\\right)\n",
    "\\end{align*}"
   ]
  },
  {
   "cell_type": "code",
   "execution_count": 185,
   "metadata": {
    "collapsed": false,
    "deletable": true,
    "editable": true
   },
   "outputs": [],
   "source": [
    "def I4N(N,fa,lam0_1,lam_1,mu1,\\\n",
    "           lam0_2,lam_2,mu2,\\\n",
    "           lam0_3,lam_3,mu3,\\\n",
    "           p1,p2,p3,\\\n",
    "           sequence):\n",
    "    \n",
    "    value = 0\n",
    "    if sequence == (0,0,0,0): # AAAA\n",
    "        value = mp.IAAAAresum(N,fa,lam0_1,lam_1,\\\n",
    "                                   lam0_2,lam_2,\\\n",
    "                                   lam0_3,lam_3,\\\n",
    "                                   p1.prop(mu1),\\\n",
    "                                   p2.prop(mu2),\\\n",
    "                                   p3.prop(mu3))\n",
    "    elif sequence == (0,0,0,1): # AAAB\n",
    "        value = mp.IAAABresum(N,fa,lam0_1,lam_1,\\\n",
    "                                   lam0_2,lam_2,\\\n",
    "                                   lam0_3,lam_3,\\\n",
    "                                   p1.prop(mu1),\\\n",
    "                                   p2.prop(mu2),\\\n",
    "                                   p3.prop(mu3))   \n",
    "    elif sequence == (0,0,1,1): # AABB\n",
    "        value = mp.IAABBresum(N,fa,lam0_1,lam_1,\\\n",
    "                                   lam0_2,lam_2,\\\n",
    "                                   lam0_3,lam_3,\\\n",
    "                                   p1.prop(mu1),\\\n",
    "                                   p2.prop(mu2),\\\n",
    "                                   p3.prop(mu3))\n",
    "    elif sequence == (0,1,1,1): # ABBB\n",
    "        fb=1.0-fa\n",
    "        # Same as AAAB except fb instead of fa\n",
    "        value = mp.IAAABresum(N,fb,lam0_1,lam_1,\\\n",
    "                                   lam0_2,lam_2,\\\n",
    "                                   lam0_3,lam_3,\\\n",
    "                                   p1.prop(mu1),\\\n",
    "                                   p2.prop(mu2),\\\n",
    "                                   p3.prop(mu3))\n",
    "    elif sequence == (1,1,1,1): # BBBB\n",
    "        fb=1.0-fa\n",
    "        # Same as AAAA except fb instead of fa\n",
    "        value = mp.IAAAAresum(N,fb,lam0_1,lam_1,\\\n",
    "                                   lam0_2,lam_2,\\\n",
    "                                   lam0_3,lam_3,\\\n",
    "                                   p1.prop(mu1),\\\n",
    "                                   p2.prop(mu2),\\\n",
    "                                   p3.prop(mu3))\n",
    "    else:\n",
    "        pass\n",
    "    \n",
    "    return value"
   ]
  },
  {
   "cell_type": "markdown",
   "metadata": {
    "deletable": true,
    "editable": true
   },
   "source": [
    "### Space ordering of wavevectors\n",
    "\n",
    "$\\textbf{fourPointCorr}$ calculates $\\int_0^N d^4s\\left\\langle \\tilde{\\psi}_{1}\\tilde{\\psi}_{2}\\tilde{\\psi}_{3}\\tilde{\\psi}_{3}\\right\\rangle $.\n",
    "The $\\psi$s are not orientation dependent. This will change when\n",
    "I introduce Maier-Saupe interaction.\n",
    "The average is over the unperturbed distribution of a single WLC that\n",
    "is N segments long with $f_{A}$ being of A type.\n",
    "Each $\\tilde{\\psi}$ has an associated chemical identity, $\\alpha$, and Fourier location, $\\vec{k}$."
   ]
  },
  {
   "cell_type": "code",
   "execution_count": 207,
   "metadata": {
    "collapsed": true,
    "deletable": true,
    "editable": true
   },
   "outputs": [],
   "source": [
    "# Inputs\n",
    "#     pset (propagator.prop_set), the set of propagators used so far\n",
    "#     N (float), number of Khun lengths\n",
    "#     fa (float), fraction of type A\n",
    "#     prop1 (phi_tilde), contains k and alpha\n",
    "def fourPointCorr(pset,N,fa,phi1,phi2,phi3,phi4):\n",
    "    print('Warning: Winger D hasnt been implemented!')\n",
    "    nlam=pset.nlam\n",
    "    # The first and last lam must be zero \n",
    "    mu1=0 \n",
    "    mu3=0\n",
    "    lam0_1=0\n",
    "    lam_3=0\n",
    "    \n",
    "    total = 0.0+0.0j\n",
    "    # The Points can be visited in any order\n",
    "    for ordered in perms([phi1,phi2,phi3,phi4]):\n",
    "        # while phi1.k is the absolute Fourier position\n",
    "        # q1 is the relitive Fourier position of 1 and 2\n",
    "        q1=-ordered[0].k\n",
    "        q2=-ordered[0].k-ordered[1].k\n",
    "        q3=-ordered[0].k-ordered[1].k-ordered[2].k\n",
    "\n",
    "        # chemical sequence, A is 1\n",
    "        sequence = (ordered[0].alpha,ordered[1].alpha,\\\n",
    "                    ordered[2].alpha,ordered[3].alpha)\n",
    "        \n",
    "        # Calculate or look up eigenstuff\n",
    "        p1 = pset.get_vec_prop(q1)\n",
    "        p2 = pset.get_vec_prop(q2)\n",
    "        p3 = pset.get_vec_prop(q3)\n",
    "\n",
    "        # Angular sum\n",
    "        for lam_1 in range(0,nlam):\n",
    "            for lam_2 in range(0,nlam):\n",
    "                for mu2 in range(-min(lam_2,lam_3),\\\n",
    "                                 min(lam_2,lam_3)+1): \n",
    "                    lam0_2=lam_1\n",
    "                    lam0_3=lam_2\n",
    "                    \n",
    "                    value=I4N(N,fa,lam0_1,lam_1,mu1,\\\n",
    "                               lam0_2,lam_2,mu2,\\\n",
    "                               lam0_3,lam_3,mu3,\\\n",
    "                               p1,p2,p3,\\\n",
    "                               sequence) \n",
    "                        \n",
    "                    # Wigner D goes here!\n",
    "                    \n",
    "                    total = total + value\n",
    "    return total"
   ]
  },
  {
   "cell_type": "code",
   "execution_count": 213,
   "metadata": {
    "collapsed": true,
    "deletable": true,
    "editable": true
   },
   "outputs": [],
   "source": [
    "def s4wlc(pset, N, fa, Ks):\n",
    "    s4 = np.zeros((2,2,2,2),dtype=type(1+1j))\n",
    "    k1, k2, k3, k4 = Ks\n",
    "    if norm(K1+K2+K3+K4) >= 1e-10:\n",
    "        raise('Qs must add up to zero')\n",
    "\n",
    "    for a1, a2, a3, a4 in product([0,1], repeat=4):\n",
    "        phi1 = phi_tilde(k1,alpha=a1)\n",
    "        phi2 = phi_tilde(k2,alpha=a2)\n",
    "        phi3 = phi_tilde(k3,alpha=a3)\n",
    "        phi4 = phi_tilde(k4,alpha=a4)\n",
    "\n",
    "        s4[a1][a2][a3][a4] = fourPointCorr(pset, N, fa, \\\n",
    "                                           phi1, phi2, phi3, phi4)\n",
    "    return s4"
   ]
  },
  {
   "cell_type": "code",
   "execution_count": 219,
   "metadata": {
    "collapsed": false,
    "deletable": true,
    "editable": true
   },
   "outputs": [],
   "source": [
    "# N=0.1\n",
    "# fa=0.345890\n",
    "\n",
    "# def setKs(K):\n",
    "#     k1=np.array([0,0,1])*K\n",
    "#     k2=np.array([0,0,1])*K\n",
    "#     k3=-k2\n",
    "#     k4=-k3\n",
    "\n",
    "#     k = [k1, k2, k3, k4]\n",
    "#     return k\n",
    "\n",
    "# nlam=4\n",
    "# pset=propagator.prop_set(nlam=nlam)\n",
    "\n",
    "# # K = 10.0\n",
    "# # k = setKs(K)\n",
    "# # s4wlc(pset, N, fa, k)\n",
    "\n",
    "# KV = np.logspace(-1,3,10)\n",
    "# s4 = np.zeros((2,2,2,2,len(KV)),dtype=type(1+1j))\n",
    "# for ind, K in enumerate(KV):\n",
    "#     k = setKs(K)\n",
    "#     s4[:,:,:,:,ind] = s4wlc(pset, N, fa, k)/(N**4)"
   ]
  },
  {
   "cell_type": "code",
   "execution_count": 209,
   "metadata": {
    "collapsed": false,
    "deletable": true,
    "editable": true
   },
   "outputs": [
    {
     "data": {
      "image/png": "[encoded data removed]",
      "text/html": [
       "\n",
       "\n",
       "<style>\n",
       "\n",
       "</style>\n",
       "\n",
       "<div id=\"fig_el9000845824654245017806280\"></div>\n",
       "<script>\n",
       "function mpld3_load_lib(url, callback){\n",
       "  var s = document.createElement('script');\n",
       "  s.src = url;\n",
       "  s.async = true;\n",
       "  s.onreadystatechange = s.onload = callback;\n",
       "  s.onerror = function(){console.warn(\"failed to load library \" + url);};\n",
       "  document.getElementsByTagName(\"head\")[0].appendChild(s);\n",
       "}\n",
       "\n",
       "if(typeof(mpld3) !== \"undefined\" && mpld3._mpld3IsLoaded){\n",
       "   // already loaded: just create the figure\n",
       "   !function(mpld3){\n",
       "       \n",
       "       mpld3.draw_figure(\"fig_el9000845824654245017806280\", {\"axes\": [{\"xlim\": [0.1, 1000.0], \"yscale\": \"log\", \"axesbg\": \"#FFFFFF\", \"texts\": [], \"zoomable\": true, \"images\": [], \"xdomain\": [0.1, 1000.0], \"ylim\": [1e-07, 1e+17], \"paths\": [], \"sharey\": [], \"sharex\": [], \"axesbgalpha\": null, \"axes\": [{\"scale\": \"log\", \"tickformat\": null, \"grid\": {\"gridOn\": false}, \"visible\": true, \"fontsize\": 10.0, \"position\": \"bottom\", \"nticks\": 7, \"tickvalues\": null}, {\"scale\": \"log\", \"tickformat\": null, \"grid\": {\"gridOn\": false}, \"visible\": true, \"fontsize\": 10.0, \"position\": \"left\", \"nticks\": 15, \"tickvalues\": null}], \"lines\": [{\"drawstyle\": \"default\", \"color\": \"#0000FF\", \"yindex\": 1, \"coordinates\": \"data\", \"dasharray\": \"none\", \"zorder\": 2, \"alpha\": 1, \"xindex\": 0, \"linewidth\": 1.0, \"data\": \"data01\", \"id\": \"el900084571589328\"}, {\"drawstyle\": \"default\", \"color\": \"#007F00\", \"yindex\": 1, \"coordinates\": \"data\", \"dasharray\": \"none\", \"zorder\": 2, \"alpha\": 1, \"xindex\": 0, \"linewidth\": 1.0, \"data\": \"data02\", \"id\": \"el900084582462352\"}], \"markers\": [], \"id\": \"el900084575680848\", \"ydomain\": [1e-07, 1e+17], \"collections\": [], \"xscale\": \"log\", \"bbox\": [0.125, 0.125, 0.775, 0.775]}], \"height\": 288.0, \"width\": 432.0, \"plugins\": [{\"type\": \"reset\"}, {\"enabled\": false, \"button\": true, \"type\": \"zoom\"}, {\"enabled\": false, \"button\": true, \"type\": \"boxzoom\"}], \"data\": {\"data02\": [[10.0, 0.005], [1000.0, 5e-07]], \"data01\": [[0.1, 1.8948029317299548e+16], [0.2782559402207124, -7693.07027095225], [0.774263682681127, -1111.6105946034243], [2.1544346900318834, -253.10559030937637], [5.994842503189409, -102.21980758676834], [16.68100537200059, -24.907251311941696], [46.41588833612777, -1.9289412874057517], [129.15496650148827, -0.09802206489507835], [359.38136638046257, -0.004602256100052867], [1000.0, 0.026582446132777257]]}, \"id\": \"el900084582465424\"});\n",
       "   }(mpld3);\n",
       "}else if(typeof define === \"function\" && define.amd){\n",
       "   // require.js is available: use it to load d3/mpld3\n",
       "   require.config({paths: {d3: \"https://mpld3.github.io/js/d3.v3.min\"}});\n",
       "   require([\"d3\"], function(d3){\n",
       "      window.d3 = d3;\n",
       "      mpld3_load_lib(\"https://mpld3.github.io/js/mpld3.v0.3.js\", function(){\n",
       "         \n",
       "         mpld3.draw_figure(\"fig_el9000845824654245017806280\", {\"axes\": [{\"xlim\": [0.1, 1000.0], \"yscale\": \"log\", \"axesbg\": \"#FFFFFF\", \"texts\": [], \"zoomable\": true, \"images\": [], \"xdomain\": [0.1, 1000.0], \"ylim\": [1e-07, 1e+17], \"paths\": [], \"sharey\": [], \"sharex\": [], \"axesbgalpha\": null, \"axes\": [{\"scale\": \"log\", \"tickformat\": null, \"grid\": {\"gridOn\": false}, \"visible\": true, \"fontsize\": 10.0, \"position\": \"bottom\", \"nticks\": 7, \"tickvalues\": null}, {\"scale\": \"log\", \"tickformat\": null, \"grid\": {\"gridOn\": false}, \"visible\": true, \"fontsize\": 10.0, \"position\": \"left\", \"nticks\": 15, \"tickvalues\": null}], \"lines\": [{\"drawstyle\": \"default\", \"color\": \"#0000FF\", \"yindex\": 1, \"coordinates\": \"data\", \"dasharray\": \"none\", \"zorder\": 2, \"alpha\": 1, \"xindex\": 0, \"linewidth\": 1.0, \"data\": \"data01\", \"id\": \"el900084571589328\"}, {\"drawstyle\": \"default\", \"color\": \"#007F00\", \"yindex\": 1, \"coordinates\": \"data\", \"dasharray\": \"none\", \"zorder\": 2, \"alpha\": 1, \"xindex\": 0, \"linewidth\": 1.0, \"data\": \"data02\", \"id\": \"el900084582462352\"}], \"markers\": [], \"id\": \"el900084575680848\", \"ydomain\": [1e-07, 1e+17], \"collections\": [], \"xscale\": \"log\", \"bbox\": [0.125, 0.125, 0.775, 0.775]}], \"height\": 288.0, \"width\": 432.0, \"plugins\": [{\"type\": \"reset\"}, {\"enabled\": false, \"button\": true, \"type\": \"zoom\"}, {\"enabled\": false, \"button\": true, \"type\": \"boxzoom\"}], \"data\": {\"data02\": [[10.0, 0.005], [1000.0, 5e-07]], \"data01\": [[0.1, 1.8948029317299548e+16], [0.2782559402207124, -7693.07027095225], [0.774263682681127, -1111.6105946034243], [2.1544346900318834, -253.10559030937637], [5.994842503189409, -102.21980758676834], [16.68100537200059, -24.907251311941696], [46.41588833612777, -1.9289412874057517], [129.15496650148827, -0.09802206489507835], [359.38136638046257, -0.004602256100052867], [1000.0, 0.026582446132777257]]}, \"id\": \"el900084582465424\"});\n",
       "      });\n",
       "    });\n",
       "}else{\n",
       "    // require.js not available: dynamically load d3 & mpld3\n",
       "    mpld3_load_lib(\"https://mpld3.github.io/js/d3.v3.min.js\", function(){\n",
       "         mpld3_load_lib(\"https://mpld3.github.io/js/mpld3.v0.3.js\", function(){\n",
       "                 \n",
       "                 mpld3.draw_figure(\"fig_el9000845824654245017806280\", {\"axes\": [{\"xlim\": [0.1, 1000.0], \"yscale\": \"log\", \"axesbg\": \"#FFFFFF\", \"texts\": [], \"zoomable\": true, \"images\": [], \"xdomain\": [0.1, 1000.0], \"ylim\": [1e-07, 1e+17], \"paths\": [], \"sharey\": [], \"sharex\": [], \"axesbgalpha\": null, \"axes\": [{\"scale\": \"log\", \"tickformat\": null, \"grid\": {\"gridOn\": false}, \"visible\": true, \"fontsize\": 10.0, \"position\": \"bottom\", \"nticks\": 7, \"tickvalues\": null}, {\"scale\": \"log\", \"tickformat\": null, \"grid\": {\"gridOn\": false}, \"visible\": true, \"fontsize\": 10.0, \"position\": \"left\", \"nticks\": 15, \"tickvalues\": null}], \"lines\": [{\"drawstyle\": \"default\", \"color\": \"#0000FF\", \"yindex\": 1, \"coordinates\": \"data\", \"dasharray\": \"none\", \"zorder\": 2, \"alpha\": 1, \"xindex\": 0, \"linewidth\": 1.0, \"data\": \"data01\", \"id\": \"el900084571589328\"}, {\"drawstyle\": \"default\", \"color\": \"#007F00\", \"yindex\": 1, \"coordinates\": \"data\", \"dasharray\": \"none\", \"zorder\": 2, \"alpha\": 1, \"xindex\": 0, \"linewidth\": 1.0, \"data\": \"data02\", \"id\": \"el900084582462352\"}], \"markers\": [], \"id\": \"el900084575680848\", \"ydomain\": [1e-07, 1e+17], \"collections\": [], \"xscale\": \"log\", \"bbox\": [0.125, 0.125, 0.775, 0.775]}], \"height\": 288.0, \"width\": 432.0, \"plugins\": [{\"type\": \"reset\"}, {\"enabled\": false, \"button\": true, \"type\": \"zoom\"}, {\"enabled\": false, \"button\": true, \"type\": \"boxzoom\"}], \"data\": {\"data02\": [[10.0, 0.005], [1000.0, 5e-07]], \"data01\": [[0.1, 1.8948029317299548e+16], [0.2782559402207124, -7693.07027095225], [0.774263682681127, -1111.6105946034243], [2.1544346900318834, -253.10559030937637], [5.994842503189409, -102.21980758676834], [16.68100537200059, -24.907251311941696], [46.41588833612777, -1.9289412874057517], [129.15496650148827, -0.09802206489507835], [359.38136638046257, -0.004602256100052867], [1000.0, 0.026582446132777257]]}, \"id\": \"el900084582465424\"});\n",
       "            })\n",
       "         });\n",
       "}\n",
       "</script>"
      ],
      "text/plain": [
       "<matplotlib.figure.Figure at 0x11122df90>"
      ]
     },
     "metadata": {},
     "output_type": "display_data"
    }
   ],
   "source": [
    "# plt.loglog(KV, s4[0,0,0,0,:])\n",
    "# plotlog(1e1, 5e-3, -2, xrange=2)\n",
    "# plt.show()"
   ]
  },
  {
   "cell_type": "markdown",
   "metadata": {
    "deletable": true,
    "editable": true
   },
   "source": [
    "## Rigid rod limit structure factor\n",
    "\n",
    "Consider the special case that the four wavevectors form a straight line.\n",
    "\n",
    "The structure factor of a rigid rod after rotation average is\n",
    "\\begin{eqnarray}\n",
    "I_4 = \n",
    "\\int_{0}^{L} ds_1\n",
    "\\int_{0}^{L} ds_2\n",
    "\\int_{0}^{L} ds_3\n",
    "\\int_{0}^{L} ds_4\n",
    "\\frac{\\sin{kL(s_1 + s_2 - s_3 - s_4)}}\n",
    "{kL(s_1 + s_2 - s_3 - s_4)}\n",
    "\\end{eqnarray}"
   ]
  },
  {
   "cell_type": "code",
   "execution_count": null,
   "metadata": {
    "collapsed": true,
    "deletable": true,
    "editable": true
   },
   "outputs": [],
   "source": []
  }
 ],
 "metadata": {
  "anaconda-cloud": {},
  "kernelspec": {
   "display_name": "Python 2",
   "language": "python",
   "name": "python2"
  },
  "language_info": {
   "codemirror_mode": {
    "name": "ipython",
    "version": 2
   },
   "file_extension": ".py",
   "mimetype": "text/x-python",
   "name": "python",
   "nbconvert_exporter": "python",
   "pygments_lexer": "ipython2",
   "version": "2.7.13"
  },
  "latex_envs": {
   "LaTeX_envs_menu_present": true,
   "autocomplete": true,
   "bibliofile": "biblio.bib",
   "cite_by": "apalike",
   "current_citInitial": 1,
   "eqLabelWithNumbers": true,
   "eqNumInitial": 1,
   "hotkeys": {
    "equation": "Ctrl-E",
    "itemize": "Ctrl-I"
   },
   "labels_anchors": false,
   "latex_user_defs": false,
   "report_style_numbering": false,
   "user_envs_cfg": false
  },
  "toc": {
   "colors": {
    "hover_highlight": "#DAA520",
    "running_highlight": "#FF0000",
    "selected_highlight": "#FFD700"
   },
   "moveMenuLeft": true,
   "nav_menu": {
    "height": "12px",
    "width": "252px"
   },
   "navigate_menu": true,
   "number_sections": true,
   "sideBar": true,
   "threshold": 4,
   "toc_cell": false,
   "toc_section_display": "block",
   "toc_window_display": false,
   "widenNotebook": false
  }
 },
 "nbformat": 4,
 "nbformat_minor": 1
}
