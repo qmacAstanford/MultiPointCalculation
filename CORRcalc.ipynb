{
 "cells": [
  {
   "cell_type": "code",
   "execution_count": 1,
   "metadata": {
    "collapsed": false,
    "deletable": true,
    "editable": true
   },
   "outputs": [],
   "source": [
    "from itertools import permutations as perms\n",
    "from itertools import product\n",
    "import numpy as np\n",
    "import MultiPoint as mp\n",
    "import propagator "
   ]
  },
  {
   "cell_type": "code",
   "execution_count": 2,
   "metadata": {
    "collapsed": true,
    "deletable": true,
    "editable": true
   },
   "outputs": [],
   "source": [
    "%matplotlib inline\n",
    "import mpld3\n",
    "import matplotlib.pyplot as plt\n",
    "mpld3.enable_notebook()\n",
    "import numpy as np"
   ]
  },
  {
   "cell_type": "code",
   "execution_count": 3,
   "metadata": {
    "collapsed": false,
    "deletable": true,
    "editable": true
   },
   "outputs": [],
   "source": [
    "class phi_tilde:    \n",
    "    def __init__(self,k,alpha=0,l=0,m=0):\n",
    "        self.k=k\n",
    "        self.alpha=alpha\n",
    "        self.l=l\n",
    "        self.m=m"
   ]
  },
  {
   "cell_type": "code",
   "execution_count": 4,
   "metadata": {
    "collapsed": false,
    "deletable": true,
    "editable": true
   },
   "outputs": [],
   "source": [
    "def plotlog(x, y, alpha, xrange=1, numx=2):\n",
    "    xv = np.logspace(np.log10(x), np.log10(x) + xrange, numx)\n",
    "    C = y / (x**alpha)\n",
    "    yv = C * xv**(alpha)\n",
    "    plt.loglog(xv, yv)"
   ]
  },
  {
   "cell_type": "code",
   "execution_count": 5,
   "metadata": {
    "collapsed": true,
    "deletable": true,
    "editable": true
   },
   "outputs": [],
   "source": [
    "def norm(K):\n",
    "    return np.linalg.norm(K)"
   ]
  },
  {
   "cell_type": "markdown",
   "metadata": {
    "deletable": true,
    "editable": true
   },
   "source": [
    "## Two point correlations"
   ]
  },
  {
   "cell_type": "code",
   "execution_count": 6,
   "metadata": {
    "collapsed": false,
    "deletable": true,
    "editable": true
   },
   "outputs": [],
   "source": [
    "def I2N(N, fa, p1, sequence):\n",
    "    lam0=0\n",
    "    lam=0\n",
    "    \n",
    "    if sequence == (0,0): # AA\n",
    "        value = mp.IAAresum(N,fa,lam0,lam,p1)\n",
    "    elif sequence ==(0,1): # AB\n",
    "        value = mp.IABresum(N,fa,lam0,lam,p1)\n",
    "    elif sequence == (1,1): # BB\n",
    "        value = mp.IAAresum(N,1-fa,lam0,lam,p1)\n",
    "    else:\n",
    "        value=0.0\n",
    "    return value"
   ]
  },
  {
   "cell_type": "code",
   "execution_count": 7,
   "metadata": {
    "collapsed": true,
    "deletable": true,
    "editable": true
   },
   "outputs": [],
   "source": [
    "def twoPointCorr(pset,N,fa,phi1,phi2):\n",
    "    val = 0.0+0.0j\n",
    "    for ordered in perms([phi1,phi2]):\n",
    "        q1=-ordered[0].k\n",
    "\n",
    "        # chemical sequence, A is 1\n",
    "        sequence = (ordered[0].alpha,ordered[1].alpha)\n",
    "\n",
    "        # Calculate or look up eigenstuff\n",
    "        p = pset.get_vec_prop(q1)\n",
    "        val += I2N(N, fa, p.prop(0), sequence)\n",
    "    return val"
   ]
  },
  {
   "cell_type": "code",
   "execution_count": 8,
   "metadata": {
    "collapsed": true,
    "deletable": true,
    "editable": true
   },
   "outputs": [],
   "source": [
    "def s2wlc(pset, N, fa, K):\n",
    "    s2 = np.zeros((2,2),dtype=type(1+1j))\n",
    "    k1=np.array([0,0,1])*K\n",
    "    k2=-k1\n",
    "\n",
    "    for a1 in [0,1]:\n",
    "        for a2 in [0,1]:\n",
    "            phi1 = phi_tilde(k1,alpha=a1)\n",
    "            phi2 = phi_tilde(k2,alpha=a2)\n",
    "            s2[a1][a2] = twoPointCorr(pset, N, fa, phi1, phi2)\n",
    "    return s2"
   ]
  },
  {
   "cell_type": "code",
   "execution_count": 9,
   "metadata": {
    "collapsed": true,
    "deletable": true,
    "editable": true
   },
   "outputs": [],
   "source": [
    "def s2inverse(pset, N, fa, K):\n",
    "    s2 = s2wlc(pset, N, fa, K)\n",
    "    s2inv = np.zeros((2,2),dtype=type(1+1j))\n",
    "    \n",
    "    [s2aa, s2ab], [s2ba, s2bb] = s2\n",
    "    det = s2aa*s2bb - s2ab*s2ba\n",
    "    \n",
    "    s2inv[0,0] = s2bb/det\n",
    "    s2inv[0,1] = -s2ab/det\n",
    "    s2inv[1,0] = -s2ba/det\n",
    "    s2inv[1,1] = s2bb/det\n",
    "    \n",
    "    return s2inv"
   ]
  },
  {
   "cell_type": "code",
   "execution_count": 10,
   "metadata": {
    "collapsed": false,
    "deletable": true,
    "editable": true
   },
   "outputs": [],
   "source": [
    "N=10\n",
    "fa=0.5\n",
    "\n",
    "nlam=4\n",
    "pset=propagator.prop_set(nlam=nlam)\n",
    "\n",
    "# K = 10\n",
    "# s2wlc(pset, N, fa, K)\n",
    "\n",
    "KV = np.logspace(-1,3,10)\n",
    "s2 = np.zeros((2,2,len(KV)),dtype=type(1+1j))\n",
    "for ind, K in enumerate(KV):\n",
    "    s2[:,:,ind] = s2wlc(pset, N, fa, K)/(N**2)"
   ]
  },
  {
   "cell_type": "code",
   "execution_count": 11,
   "metadata": {
    "collapsed": false,
    "deletable": true,
    "editable": true
   },
   "outputs": [
    {
     "data": {
      "image/png": "[encoded data removed]",
      "text/html": [
       "\n",
       "\n",
       "<style>\n",
       "\n",
       "</style>\n",
       "\n",
       "<div id=\"fig_el1741345740300325226194580\"></div>\n",
       "<script>\n",
       "function mpld3_load_lib(url, callback){\n",
       "  var s = document.createElement('script');\n",
       "  s.src = url;\n",
       "  s.async = true;\n",
       "  s.onreadystatechange = s.onload = callback;\n",
       "  s.onerror = function(){console.warn(\"failed to load library \" + url);};\n",
       "  document.getElementsByTagName(\"head\")[0].appendChild(s);\n",
       "}\n",
       "\n",
       "if(typeof(mpld3) !== \"undefined\" && mpld3._mpld3IsLoaded){\n",
       "   // already loaded: just create the figure\n",
       "   !function(mpld3){\n",
       "       \n",
       "       mpld3.draw_figure(\"fig_el1741345740300325226194580\", {\"axes\": [{\"xlim\": [0.1, 1000.0], \"yscale\": \"log\", \"axesbg\": \"#FFFFFF\", \"texts\": [], \"zoomable\": true, \"images\": [], \"xdomain\": [0.1, 1000.0], \"ylim\": [0.0001, 1.0], \"paths\": [], \"sharey\": [], \"sharex\": [], \"axesbgalpha\": null, \"axes\": [{\"scale\": \"log\", \"tickformat\": null, \"grid\": {\"gridOn\": false}, \"visible\": true, \"fontsize\": 10.0, \"position\": \"bottom\", \"nticks\": 7, \"tickvalues\": null}, {\"scale\": \"log\", \"tickformat\": null, \"grid\": {\"gridOn\": false}, \"visible\": true, \"fontsize\": 10.0, \"position\": \"left\", \"nticks\": 7, \"tickvalues\": null}], \"lines\": [{\"drawstyle\": \"default\", \"color\": \"#0000FF\", \"yindex\": 1, \"coordinates\": \"data\", \"dasharray\": \"none\", \"zorder\": 2, \"alpha\": 1, \"xindex\": 0, \"linewidth\": 1.0, \"data\": \"data01\", \"id\": \"el174134588283344\"}, {\"drawstyle\": \"default\", \"color\": \"#007F00\", \"yindex\": 1, \"coordinates\": \"data\", \"dasharray\": \"none\", \"zorder\": 2, \"alpha\": 1, \"xindex\": 0, \"linewidth\": 1.0, \"data\": \"data02\", \"id\": \"el174134574787856\"}], \"markers\": [], \"id\": \"el174134578360400\", \"ydomain\": [0.0001, 1.0], \"collections\": [], \"xscale\": \"log\", \"bbox\": [0.125, 0.125, 0.775, 0.775]}], \"height\": 288.0, \"width\": 432.0, \"plugins\": [{\"type\": \"reset\"}, {\"enabled\": false, \"button\": true, \"type\": \"zoom\"}, {\"enabled\": false, \"button\": true, \"type\": \"boxzoom\"}], \"data\": {\"data02\": [[10.0, 0.1], [100.0, 0.01]], \"data01\": [[0.1, 0.9952151476545259], [0.2782559402207124, 0.9637988862182465], [0.774263682681127, 0.7635232822859366], [2.1544346900318834, 0.25672034910668096], [5.994842503189409, 0.056828175238638555], [16.68100537200059, 0.019175498755349137], [46.41588833612777, 0.006820716724860767], [129.15496650148827, 0.002439213930659809], [359.38136638046257, 0.0008750442949863176], [1000.0, 0.0003142725983339925]]}, \"id\": \"el174134574030032\"});\n",
       "   }(mpld3);\n",
       "}else if(typeof define === \"function\" && define.amd){\n",
       "   // require.js is available: use it to load d3/mpld3\n",
       "   require.config({paths: {d3: \"https://mpld3.github.io/js/d3.v3.min\"}});\n",
       "   require([\"d3\"], function(d3){\n",
       "      window.d3 = d3;\n",
       "      mpld3_load_lib(\"https://mpld3.github.io/js/mpld3.v0.3.js\", function(){\n",
       "         \n",
       "         mpld3.draw_figure(\"fig_el1741345740300325226194580\", {\"axes\": [{\"xlim\": [0.1, 1000.0], \"yscale\": \"log\", \"axesbg\": \"#FFFFFF\", \"texts\": [], \"zoomable\": true, \"images\": [], \"xdomain\": [0.1, 1000.0], \"ylim\": [0.0001, 1.0], \"paths\": [], \"sharey\": [], \"sharex\": [], \"axesbgalpha\": null, \"axes\": [{\"scale\": \"log\", \"tickformat\": null, \"grid\": {\"gridOn\": false}, \"visible\": true, \"fontsize\": 10.0, \"position\": \"bottom\", \"nticks\": 7, \"tickvalues\": null}, {\"scale\": \"log\", \"tickformat\": null, \"grid\": {\"gridOn\": false}, \"visible\": true, \"fontsize\": 10.0, \"position\": \"left\", \"nticks\": 7, \"tickvalues\": null}], \"lines\": [{\"drawstyle\": \"default\", \"color\": \"#0000FF\", \"yindex\": 1, \"coordinates\": \"data\", \"dasharray\": \"none\", \"zorder\": 2, \"alpha\": 1, \"xindex\": 0, \"linewidth\": 1.0, \"data\": \"data01\", \"id\": \"el174134588283344\"}, {\"drawstyle\": \"default\", \"color\": \"#007F00\", \"yindex\": 1, \"coordinates\": \"data\", \"dasharray\": \"none\", \"zorder\": 2, \"alpha\": 1, \"xindex\": 0, \"linewidth\": 1.0, \"data\": \"data02\", \"id\": \"el174134574787856\"}], \"markers\": [], \"id\": \"el174134578360400\", \"ydomain\": [0.0001, 1.0], \"collections\": [], \"xscale\": \"log\", \"bbox\": [0.125, 0.125, 0.775, 0.775]}], \"height\": 288.0, \"width\": 432.0, \"plugins\": [{\"type\": \"reset\"}, {\"enabled\": false, \"button\": true, \"type\": \"zoom\"}, {\"enabled\": false, \"button\": true, \"type\": \"boxzoom\"}], \"data\": {\"data02\": [[10.0, 0.1], [100.0, 0.01]], \"data01\": [[0.1, 0.9952151476545259], [0.2782559402207124, 0.9637988862182465], [0.774263682681127, 0.7635232822859366], [2.1544346900318834, 0.25672034910668096], [5.994842503189409, 0.056828175238638555], [16.68100537200059, 0.019175498755349137], [46.41588833612777, 0.006820716724860767], [129.15496650148827, 0.002439213930659809], [359.38136638046257, 0.0008750442949863176], [1000.0, 0.0003142725983339925]]}, \"id\": \"el174134574030032\"});\n",
       "      });\n",
       "    });\n",
       "}else{\n",
       "    // require.js not available: dynamically load d3 & mpld3\n",
       "    mpld3_load_lib(\"https://mpld3.github.io/js/d3.v3.min.js\", function(){\n",
       "         mpld3_load_lib(\"https://mpld3.github.io/js/mpld3.v0.3.js\", function(){\n",
       "                 \n",
       "                 mpld3.draw_figure(\"fig_el1741345740300325226194580\", {\"axes\": [{\"xlim\": [0.1, 1000.0], \"yscale\": \"log\", \"axesbg\": \"#FFFFFF\", \"texts\": [], \"zoomable\": true, \"images\": [], \"xdomain\": [0.1, 1000.0], \"ylim\": [0.0001, 1.0], \"paths\": [], \"sharey\": [], \"sharex\": [], \"axesbgalpha\": null, \"axes\": [{\"scale\": \"log\", \"tickformat\": null, \"grid\": {\"gridOn\": false}, \"visible\": true, \"fontsize\": 10.0, \"position\": \"bottom\", \"nticks\": 7, \"tickvalues\": null}, {\"scale\": \"log\", \"tickformat\": null, \"grid\": {\"gridOn\": false}, \"visible\": true, \"fontsize\": 10.0, \"position\": \"left\", \"nticks\": 7, \"tickvalues\": null}], \"lines\": [{\"drawstyle\": \"default\", \"color\": \"#0000FF\", \"yindex\": 1, \"coordinates\": \"data\", \"dasharray\": \"none\", \"zorder\": 2, \"alpha\": 1, \"xindex\": 0, \"linewidth\": 1.0, \"data\": \"data01\", \"id\": \"el174134588283344\"}, {\"drawstyle\": \"default\", \"color\": \"#007F00\", \"yindex\": 1, \"coordinates\": \"data\", \"dasharray\": \"none\", \"zorder\": 2, \"alpha\": 1, \"xindex\": 0, \"linewidth\": 1.0, \"data\": \"data02\", \"id\": \"el174134574787856\"}], \"markers\": [], \"id\": \"el174134578360400\", \"ydomain\": [0.0001, 1.0], \"collections\": [], \"xscale\": \"log\", \"bbox\": [0.125, 0.125, 0.775, 0.775]}], \"height\": 288.0, \"width\": 432.0, \"plugins\": [{\"type\": \"reset\"}, {\"enabled\": false, \"button\": true, \"type\": \"zoom\"}, {\"enabled\": false, \"button\": true, \"type\": \"boxzoom\"}], \"data\": {\"data02\": [[10.0, 0.1], [100.0, 0.01]], \"data01\": [[0.1, 0.9952151476545259], [0.2782559402207124, 0.9637988862182465], [0.774263682681127, 0.7635232822859366], [2.1544346900318834, 0.25672034910668096], [5.994842503189409, 0.056828175238638555], [16.68100537200059, 0.019175498755349137], [46.41588833612777, 0.006820716724860767], [129.15496650148827, 0.002439213930659809], [359.38136638046257, 0.0008750442949863176], [1000.0, 0.0003142725983339925]]}, \"id\": \"el174134574030032\"});\n",
       "            })\n",
       "         });\n",
       "}\n",
       "</script>"
      ],
      "text/plain": [
       "<matplotlib.figure.Figure at 0x110a228d0>"
      ]
     },
     "metadata": {},
     "output_type": "display_data"
    }
   ],
   "source": [
    "plt.loglog(KV, np.real(np.sum(np.vstack([s2[0,0,:], s2[0,1,:], \\\n",
    "                                         s2[1,0,:], s2[1,1,:]]), axis=0)))\n",
    "plotlog(1e1,1e-1,-1)\n",
    "plt.show()"
   ]
  },
  {
   "cell_type": "markdown",
   "metadata": {
    "deletable": true,
    "editable": true
   },
   "source": [
    "## Three point correlations"
   ]
  },
  {
   "cell_type": "code",
   "execution_count": 163,
   "metadata": {
    "collapsed": false,
    "deletable": true,
    "editable": true
   },
   "outputs": [],
   "source": [
    "def I3N(N,fa,lam0_1,lam_1,mu1,\\\n",
    "            lam0_2,lam_2,mu2,\\\n",
    "            p1,p2,\\\n",
    "            sequence):\n",
    "    \n",
    "    value = 0\n",
    "    if sequence == (0,0,0): # AAA\n",
    "        value = mp.IAAAresum(N,fa,lam0_1,lam_1,\\\n",
    "                                  lam0_2,lam_2,\\\n",
    "                                  p1.prop(mu1),\\\n",
    "                                  p2.prop(mu2))\n",
    "    elif sequence == (0,0,1): # AAB\n",
    "        value = mp.IABBresum(N,1-fa,lam0_1,lam_1,\\\n",
    "                                  lam0_2,lam_2,\\\n",
    "                                  p1.prop(mu1),\\\n",
    "                                  p2.prop(mu2))\n",
    "    elif sequence == (0,1,1): # ABB\n",
    "        value = mp.IABBresum(N,fa,lam0_1,lam_1,\\\n",
    "                                  lam0_2,lam_2,\\\n",
    "                                  p1.prop(mu1),\\\n",
    "                                  p2.prop(mu2))\n",
    "    elif sequence == (1,1,1): # BBB\n",
    "        fb=1.0-fa\n",
    "        # Same as AAAA except fb instead of fa\n",
    "        value = mp.IAAAresum(N,fb,lam0_1,lam_1,\\\n",
    "                                  lam0_2,lam_2,\\\n",
    "                                  p1.prop(mu1),\\\n",
    "                                  p2.prop(mu2))\n",
    "    else:\n",
    "        pass\n",
    "    \n",
    "    return value"
   ]
  },
  {
   "cell_type": "markdown",
   "metadata": {
    "deletable": true,
    "editable": true
   },
   "source": [
    "### Space ordering of wavevectors"
   ]
  },
  {
   "cell_type": "code",
   "execution_count": 159,
   "metadata": {
    "collapsed": false,
    "deletable": true,
    "editable": true
   },
   "outputs": [],
   "source": [
    "# Inputs\n",
    "#     pset (propagator.prop_set), the set of propagators used so far\n",
    "#     N (float), number of Khun lengths\n",
    "#     fa (float), fraction of type A\n",
    "#     prop1 (phi_tilde), contains k and alpha\n",
    "def threePointCorr(pset,N,fa,phi1,phi2,phi3):\n",
    "#     print('Warning: Winger D hasnt been implemented!')\n",
    "    nlam=pset.nlam\n",
    "    # The first and last lam must be zero \n",
    "    mu1=0\n",
    "    mu2=0\n",
    "    lam0_1=0\n",
    "    lam_2=0\n",
    "    \n",
    "    total = 0.0+0.0j\n",
    "    # The Points can be visited in any order\n",
    "    for ordered in perms([phi1,phi2,phi3]):\n",
    "        # while phi1.k is the absolute Fourier position\n",
    "        # q1 is the relitive Fourier position of 1 and 2\n",
    "        q1=-ordered[0].k\n",
    "        q2=-ordered[0].k-ordered[1].k\n",
    "\n",
    "        # chemical sequence, A is 1\n",
    "        sequence = (ordered[0].alpha,ordered[1].alpha,ordered[2].alpha)\n",
    "        \n",
    "        # Calculate or look up eigenstuff\n",
    "        p1 = pset.get_vec_prop(q1)\n",
    "        p2 = pset.get_vec_prop(q2)\n",
    "\n",
    "        # Angular sum\n",
    "        for lam in range(0,nlam):\n",
    "#         for lam in [nlam-1]:\n",
    "            lam_1, lam0_2 = lam, lam\n",
    "            value = I3N(N,fa,lam0_1,lam_1,mu1,\\\n",
    "                        lam0_2,lam_2,mu2,\\\n",
    "                        p1,p2,\\\n",
    "                        sequence)\n",
    "\n",
    "            # Wigner D goes here!\n",
    "\n",
    "            total = total + value\n",
    "    return total"
   ]
  },
  {
   "cell_type": "code",
   "execution_count": 160,
   "metadata": {
    "collapsed": true,
    "deletable": true,
    "editable": true
   },
   "outputs": [],
   "source": [
    "def s3wlc(pset, N, fa, Ks, sequence='all'):\n",
    "    k1, k2, k3 = Ks\n",
    "    if norm(k1+k2+k3) >= 1e-10:\n",
    "        raise ValueError('Qs must add up to zero')\n",
    "\n",
    "    if sequence=='all':\n",
    "        s3 = np.zeros((2,2,2),dtype=type(1+1j))\n",
    "        for a1, a2, a3 in product([0,1], repeat=3):\n",
    "            phi1 = phi_tilde(k1,alpha=a1)\n",
    "            phi2 = phi_tilde(k2,alpha=a2)\n",
    "            phi3 = phi_tilde(k3,alpha=a3)\n",
    "\n",
    "            s3[a1][a2][a3] = threePointCorr(pset, N, fa, \\\n",
    "                                           phi1, phi2, phi3)\n",
    "    else:\n",
    "        a1, a2, a3 = sequence\n",
    "        phi1 = phi_tilde(k1,alpha=a1)\n",
    "        phi2 = phi_tilde(k2,alpha=a2)\n",
    "        phi3 = phi_tilde(k3,alpha=a3)\n",
    "        s3 = threePointCorr(pset, N, fa, phi1, phi2, phi3)\n",
    "        \n",
    "    return s3"
   ]
  },
  {
   "cell_type": "code",
   "execution_count": 162,
   "metadata": {
    "collapsed": false
   },
   "outputs": [
    {
     "ename": "TypeError",
     "evalue": "IAAAresumOld() takes exactly 5 arguments (8 given)",
     "output_type": "error",
     "traceback": [
      "\u001b[0;31m---------------------------------------------------------------------------\u001b[0m",
      "\u001b[0;31mTypeError\u001b[0m                                 Traceback (most recent call last)",
      "\u001b[0;32m<ipython-input-162-1f2cb8228044>\u001b[0m in \u001b[0;36m<module>\u001b[0;34m()\u001b[0m\n\u001b[1;32m     22\u001b[0m \u001b[0;32mfor\u001b[0m \u001b[0mind\u001b[0m\u001b[0;34m,\u001b[0m \u001b[0mK\u001b[0m \u001b[0;32min\u001b[0m \u001b[0menumerate\u001b[0m\u001b[0;34m(\u001b[0m\u001b[0mKV\u001b[0m\u001b[0;34m)\u001b[0m\u001b[0;34m:\u001b[0m\u001b[0;34m\u001b[0m\u001b[0m\n\u001b[1;32m     23\u001b[0m     \u001b[0mk\u001b[0m \u001b[0;34m=\u001b[0m \u001b[0msetKs\u001b[0m\u001b[0;34m(\u001b[0m\u001b[0mK\u001b[0m\u001b[0;34m)\u001b[0m\u001b[0;34m\u001b[0m\u001b[0m\n\u001b[0;32m---> 24\u001b[0;31m     \u001b[0ms3\u001b[0m\u001b[0;34m[\u001b[0m\u001b[0mind\u001b[0m\u001b[0;34m]\u001b[0m \u001b[0;34m=\u001b[0m \u001b[0ms3wlc\u001b[0m\u001b[0;34m(\u001b[0m\u001b[0mpset\u001b[0m\u001b[0;34m,\u001b[0m \u001b[0mN\u001b[0m\u001b[0;34m,\u001b[0m \u001b[0mfa\u001b[0m\u001b[0;34m,\u001b[0m \u001b[0mk\u001b[0m\u001b[0;34m,\u001b[0m \u001b[0msequence\u001b[0m\u001b[0;34m=\u001b[0m\u001b[0msequence\u001b[0m\u001b[0;34m)\u001b[0m\u001b[0;34m/\u001b[0m\u001b[0;34m(\u001b[0m\u001b[0mN\u001b[0m\u001b[0;34m**\u001b[0m\u001b[0;36m3\u001b[0m\u001b[0;34m)\u001b[0m\u001b[0;34m\u001b[0m\u001b[0m\n\u001b[0m\u001b[1;32m     25\u001b[0m \u001b[0;34m\u001b[0m\u001b[0m\n\u001b[1;32m     26\u001b[0m \u001b[0;31m# KV = np.logspace(-2,5,50)\u001b[0m\u001b[0;34m\u001b[0m\u001b[0;34m\u001b[0m\u001b[0m\n",
      "\u001b[0;32m<ipython-input-160-6b9c09f5328e>\u001b[0m in \u001b[0;36ms3wlc\u001b[0;34m(pset, N, fa, Ks, sequence)\u001b[0m\n\u001b[1;32m     17\u001b[0m         \u001b[0mphi2\u001b[0m \u001b[0;34m=\u001b[0m \u001b[0mphi_tilde\u001b[0m\u001b[0;34m(\u001b[0m\u001b[0mk2\u001b[0m\u001b[0;34m,\u001b[0m\u001b[0malpha\u001b[0m\u001b[0;34m=\u001b[0m\u001b[0ma2\u001b[0m\u001b[0;34m)\u001b[0m\u001b[0;34m\u001b[0m\u001b[0m\n\u001b[1;32m     18\u001b[0m         \u001b[0mphi3\u001b[0m \u001b[0;34m=\u001b[0m \u001b[0mphi_tilde\u001b[0m\u001b[0;34m(\u001b[0m\u001b[0mk3\u001b[0m\u001b[0;34m,\u001b[0m\u001b[0malpha\u001b[0m\u001b[0;34m=\u001b[0m\u001b[0ma3\u001b[0m\u001b[0;34m)\u001b[0m\u001b[0;34m\u001b[0m\u001b[0m\n\u001b[0;32m---> 19\u001b[0;31m         \u001b[0ms3\u001b[0m \u001b[0;34m=\u001b[0m \u001b[0mthreePointCorr\u001b[0m\u001b[0;34m(\u001b[0m\u001b[0mpset\u001b[0m\u001b[0;34m,\u001b[0m \u001b[0mN\u001b[0m\u001b[0;34m,\u001b[0m \u001b[0mfa\u001b[0m\u001b[0;34m,\u001b[0m \u001b[0mphi1\u001b[0m\u001b[0;34m,\u001b[0m \u001b[0mphi2\u001b[0m\u001b[0;34m,\u001b[0m \u001b[0mphi3\u001b[0m\u001b[0;34m)\u001b[0m\u001b[0;34m\u001b[0m\u001b[0m\n\u001b[0m\u001b[1;32m     20\u001b[0m \u001b[0;34m\u001b[0m\u001b[0m\n\u001b[1;32m     21\u001b[0m     \u001b[0;32mreturn\u001b[0m \u001b[0ms3\u001b[0m\u001b[0;34m\u001b[0m\u001b[0m\n",
      "\u001b[0;32m<ipython-input-159-dd8460a1a44a>\u001b[0m in \u001b[0;36mthreePointCorr\u001b[0;34m(pset, N, fa, phi1, phi2, phi3)\u001b[0m\n\u001b[1;32m     32\u001b[0m \u001b[0;31m#         for lam in [nlam-1]:\u001b[0m\u001b[0;34m\u001b[0m\u001b[0;34m\u001b[0m\u001b[0m\n\u001b[1;32m     33\u001b[0m             \u001b[0mlam_1\u001b[0m\u001b[0;34m,\u001b[0m \u001b[0mlam0_2\u001b[0m \u001b[0;34m=\u001b[0m \u001b[0mlam\u001b[0m\u001b[0;34m,\u001b[0m \u001b[0mlam\u001b[0m\u001b[0;34m\u001b[0m\u001b[0m\n\u001b[0;32m---> 34\u001b[0;31m             \u001b[0mvalue\u001b[0m \u001b[0;34m=\u001b[0m \u001b[0mI3N\u001b[0m\u001b[0;34m(\u001b[0m\u001b[0mN\u001b[0m\u001b[0;34m,\u001b[0m\u001b[0mfa\u001b[0m\u001b[0;34m,\u001b[0m\u001b[0mlam0_1\u001b[0m\u001b[0;34m,\u001b[0m\u001b[0mlam_1\u001b[0m\u001b[0;34m,\u001b[0m\u001b[0mmu1\u001b[0m\u001b[0;34m,\u001b[0m                        \u001b[0mlam0_2\u001b[0m\u001b[0;34m,\u001b[0m\u001b[0mlam_2\u001b[0m\u001b[0;34m,\u001b[0m\u001b[0mmu2\u001b[0m\u001b[0;34m,\u001b[0m                        \u001b[0mp1\u001b[0m\u001b[0;34m,\u001b[0m\u001b[0mp2\u001b[0m\u001b[0;34m,\u001b[0m                        \u001b[0msequence\u001b[0m\u001b[0;34m)\u001b[0m\u001b[0;34m\u001b[0m\u001b[0m\n\u001b[0m\u001b[1;32m     35\u001b[0m \u001b[0;34m\u001b[0m\u001b[0m\n\u001b[1;32m     36\u001b[0m             \u001b[0;31m# Wigner D goes here!\u001b[0m\u001b[0;34m\u001b[0m\u001b[0;34m\u001b[0m\u001b[0m\n",
      "\u001b[0;32m<ipython-input-158-e94661ef7359>\u001b[0m in \u001b[0;36mI3N\u001b[0;34m(N, fa, lam0_1, lam_1, mu1, lam0_2, lam_2, mu2, p1, p2, sequence)\u001b[0m\n\u001b[1;32m      3\u001b[0m     \u001b[0mvalue\u001b[0m \u001b[0;34m=\u001b[0m \u001b[0;36m0\u001b[0m\u001b[0;34m\u001b[0m\u001b[0m\n\u001b[1;32m      4\u001b[0m     \u001b[0;32mif\u001b[0m \u001b[0msequence\u001b[0m \u001b[0;34m==\u001b[0m \u001b[0;34m(\u001b[0m\u001b[0;36m0\u001b[0m\u001b[0;34m,\u001b[0m\u001b[0;36m0\u001b[0m\u001b[0;34m,\u001b[0m\u001b[0;36m0\u001b[0m\u001b[0;34m)\u001b[0m\u001b[0;34m:\u001b[0m \u001b[0;31m# AAA\u001b[0m\u001b[0;34m\u001b[0m\u001b[0m\n\u001b[0;32m----> 5\u001b[0;31m         \u001b[0mvalue\u001b[0m \u001b[0;34m=\u001b[0m \u001b[0mmp\u001b[0m\u001b[0;34m.\u001b[0m\u001b[0mIAAAresumOld\u001b[0m\u001b[0;34m(\u001b[0m\u001b[0mN\u001b[0m\u001b[0;34m,\u001b[0m\u001b[0mfa\u001b[0m\u001b[0;34m,\u001b[0m\u001b[0mlam0_1\u001b[0m\u001b[0;34m,\u001b[0m\u001b[0mlam_1\u001b[0m\u001b[0;34m,\u001b[0m                                  \u001b[0mlam0_2\u001b[0m\u001b[0;34m,\u001b[0m\u001b[0mlam_2\u001b[0m\u001b[0;34m,\u001b[0m                                  \u001b[0mp1\u001b[0m\u001b[0;34m.\u001b[0m\u001b[0mprop\u001b[0m\u001b[0;34m(\u001b[0m\u001b[0mmu1\u001b[0m\u001b[0;34m)\u001b[0m\u001b[0;34m,\u001b[0m                                  \u001b[0mp2\u001b[0m\u001b[0;34m.\u001b[0m\u001b[0mprop\u001b[0m\u001b[0;34m(\u001b[0m\u001b[0mmu2\u001b[0m\u001b[0;34m)\u001b[0m\u001b[0;34m)\u001b[0m\u001b[0;34m\u001b[0m\u001b[0m\n\u001b[0m\u001b[1;32m      6\u001b[0m     \u001b[0;32melif\u001b[0m \u001b[0msequence\u001b[0m \u001b[0;34m==\u001b[0m \u001b[0;34m(\u001b[0m\u001b[0;36m0\u001b[0m\u001b[0;34m,\u001b[0m\u001b[0;36m0\u001b[0m\u001b[0;34m,\u001b[0m\u001b[0;36m1\u001b[0m\u001b[0;34m)\u001b[0m\u001b[0;34m:\u001b[0m \u001b[0;31m# AAB\u001b[0m\u001b[0;34m\u001b[0m\u001b[0m\n\u001b[1;32m      7\u001b[0m         \u001b[0mvalue\u001b[0m \u001b[0;34m=\u001b[0m \u001b[0mmp\u001b[0m\u001b[0;34m.\u001b[0m\u001b[0mIABBresum\u001b[0m\u001b[0;34m(\u001b[0m\u001b[0mN\u001b[0m\u001b[0;34m,\u001b[0m\u001b[0;36m1\u001b[0m\u001b[0;34m-\u001b[0m\u001b[0mfa\u001b[0m\u001b[0;34m,\u001b[0m\u001b[0mlam0_1\u001b[0m\u001b[0;34m,\u001b[0m\u001b[0mlam_1\u001b[0m\u001b[0;34m,\u001b[0m                                  \u001b[0mlam0_2\u001b[0m\u001b[0;34m,\u001b[0m\u001b[0mlam_2\u001b[0m\u001b[0;34m,\u001b[0m                                  \u001b[0mp1\u001b[0m\u001b[0;34m.\u001b[0m\u001b[0mprop\u001b[0m\u001b[0;34m(\u001b[0m\u001b[0mmu1\u001b[0m\u001b[0;34m)\u001b[0m\u001b[0;34m,\u001b[0m                                  \u001b[0mp2\u001b[0m\u001b[0;34m.\u001b[0m\u001b[0mprop\u001b[0m\u001b[0;34m(\u001b[0m\u001b[0mmu2\u001b[0m\u001b[0;34m)\u001b[0m\u001b[0;34m)\u001b[0m\u001b[0;34m\u001b[0m\u001b[0m\n",
      "\u001b[0;31mTypeError\u001b[0m: IAAAresumOld() takes exactly 5 arguments (8 given)"
     ]
    }
   ],
   "source": [
    "N=0.1\n",
    "fa=0.5\n",
    "\n",
    "def setKs(K):\n",
    "    k1=np.array([0,0,1])*K\n",
    "    k2=np.array([0,0,1.5])*K\n",
    "    k3=-k1-k2\n",
    "\n",
    "    Ks = [k1, k2, k3]\n",
    "    return Ks\n",
    "\n",
    "# K = 10.0\n",
    "# Ks = setKs(K)\n",
    "# s3wlc(pset, N, fa, Ks)\n",
    "\n",
    "nlam = 4\n",
    "pset=propagator.prop_set(nlam=nlam)\n",
    "\n",
    "sequence = [0,0,0]\n",
    "KV = np.logspace(-2,5,50)\n",
    "s3 = np.zeros((len(KV)),dtype=type(1+1j))\n",
    "for ind, K in enumerate(KV):\n",
    "    k = setKs(K)\n",
    "    s3[ind] = s3wlc(pset, N, fa, k, sequence=sequence)/(N**3)\n",
    "\n",
    "# KV = np.logspace(-2,5,50)\n",
    "# s3 = np.zeros((2,2,2,len(KV)),dtype=type(1+1j))\n",
    "# for ind, K in enumerate(KV):\n",
    "#     k = setKs(K)\n",
    "#     s3[:,:,:,ind] = s3wlc(pset, N, fa, k)/(N**3)\n",
    "\n",
    "plt.loglog(KV, abs(s3), '--', color=[col, 0.0, 1-col])\n",
    "plt.loglog(KV[s3>0], abs(s3[s3>0]), '-', color=[col, 0.0, 1-col])\n",
    "plotlog(1e1, 5e-3, -2, xrange=2)\n",
    "plt.title('lam = ' + str(nlam))\n",
    "    \n",
    "plt.show()"
   ]
  },
  {
   "cell_type": "code",
   "execution_count": null,
   "metadata": {
    "collapsed": true
   },
   "outputs": [],
   "source": [
    "N=0.1\n",
    "fa=0.5\n",
    "\n",
    "def setKs(K):\n",
    "    k1=np.array([0,0,1])*K\n",
    "    k2=np.array([0,0,1.5])*K\n",
    "    k3=-k1-k2\n",
    "\n",
    "    Ks = [k1, k2, k3]\n",
    "    return Ks\n",
    "\n",
    "# K = 10.0\n",
    "# Ks = setKs(K)\n",
    "# s3wlc(pset, N, fa, Ks)\n",
    "\n",
    "nlam = 4\n",
    "pset=propagator.prop_set(nlam=nlam)\n",
    "\n",
    "sequence = [0,0,1]\n",
    "KV = np.logspace(-2,5,50)\n",
    "s3 = np.zeros((len(KV)),dtype=type(1+1j))\n",
    "for ind, K in enumerate(KV):\n",
    "    k = setKs(K)\n",
    "    s3[ind] = s3wlc(pset, N, fa, k, sequence=sequence)/(N**3)\n",
    "\n",
    "# KV = np.logspace(-2,5,50)\n",
    "# s3 = np.zeros((2,2,2,len(KV)),dtype=type(1+1j))\n",
    "# for ind, K in enumerate(KV):\n",
    "#     k = setKs(K)\n",
    "#     s3[:,:,:,ind] = s3wlc(pset, N, fa, k)/(N**3)\n",
    "\n",
    "plt.loglog(KV, abs(s3), '--', color=[col, 0.0, 1-col])\n",
    "plt.loglog(KV[s3>0], abs(s3[s3>0]), '-', color=[col, 0.0, 1-col])\n",
    "plotlog(1e1, 5e-3, -2, xrange=2)\n",
    "plt.title('lam = ' + str(nlam))\n",
    "    \n",
    "plt.show()"
   ]
  },
  {
   "cell_type": "markdown",
   "metadata": {
    "deletable": true,
    "editable": true
   },
   "source": [
    "## Four point correlations"
   ]
  },
  {
   "cell_type": "markdown",
   "metadata": {
    "deletable": true,
    "editable": true
   },
   "source": [
    "\\begin{align*}\n",
    "\\underset{\\alpha_{1}\\alpha_{2}\\alpha_{3}\\alpha_{4}}{I_{1,2,3}^{\\left(4\\right)}\\left(N\\right)}= & \\int_{0}^{N}ds_{3}\\int_{0}^{s_{4}}ds_{2}\\int_{0}^{s_{3}}ds_{1}\\int_{0}^{s_{1}}ds_{0}\\delta_{\\alpha\\left(s_{1}\\right),\\alpha_{1}}\\delta_{\\alpha\\left(s_{2}\\right),\\alpha_{2}}\\delta_{\\alpha\\left(s_{3}\\right),\\alpha_{3}}\\delta_{\\alpha\\left(s_{4}\\right),\\alpha_{4}}\\\\\n",
    " & \\cdot\\mathcal{G}_{\\lambda0_{1}\\lambda_{1}}^{\\mu_{1}}\\left(s_{4}-s_{3},K_{1}\\right)\\mathcal{G}_{\\lambda0_{2}\\lambda_{2}}^{\\mu_{2}}\\left(s_{3}-s_{2},K_{2}\\right)\\mathcal{G}_{\\lambda0_{3}\\lambda_{3}}^{\\mu_{3}}\\left(s_{2}-s_{1},K_{2}\\right)\n",
    "\\end{align*}"
   ]
  },
  {
   "cell_type": "code",
   "execution_count": 44,
   "metadata": {
    "collapsed": false,
    "deletable": true,
    "editable": true
   },
   "outputs": [],
   "source": [
    "def I4N(N,fa,lam0_1,lam_1,mu1,\\\n",
    "           lam0_2,lam_2,mu2,\\\n",
    "           lam0_3,lam_3,mu3,\\\n",
    "           p1,p2,p3,\\\n",
    "           sequence):\n",
    "    \n",
    "    value = 0\n",
    "    if sequence == (0,0,0,0): # AAAA\n",
    "        value = mp.IAAAAresum(N,fa,lam0_1,lam_1,\\\n",
    "                                   lam0_2,lam_2,\\\n",
    "                                   lam0_3,lam_3,\\\n",
    "                                   p1.prop(mu1),\\\n",
    "                                   p2.prop(mu2),\\\n",
    "                                   p3.prop(mu3))\n",
    "    elif sequence == (0,0,0,1): # AAAB\n",
    "        value = mp.IAAABresum(N,fa,lam0_1,lam_1,\\\n",
    "                                   lam0_2,lam_2,\\\n",
    "                                   lam0_3,lam_3,\\\n",
    "                                   p1.prop(mu1),\\\n",
    "                                   p2.prop(mu2),\\\n",
    "                                   p3.prop(mu3))   \n",
    "    elif sequence == (0,0,1,1): # AABB\n",
    "        value = mp.IAABBresum(N,fa,lam0_1,lam_1,\\\n",
    "                                   lam0_2,lam_2,\\\n",
    "                                   lam0_3,lam_3,\\\n",
    "                                   p1.prop(mu1),\\\n",
    "                                   p2.prop(mu2),\\\n",
    "                                   p3.prop(mu3))\n",
    "    elif sequence == (0,1,1,1): # ABBB\n",
    "        fb=1.0-fa\n",
    "        # Same as AAAB except fb instead of fa\n",
    "        value = mp.IAAABresum(N,fb,lam0_1,lam_1,\\\n",
    "                                   lam0_2,lam_2,\\\n",
    "                                   lam0_3,lam_3,\\\n",
    "                                   p1.prop(mu1),\\\n",
    "                                   p2.prop(mu2),\\\n",
    "                                   p3.prop(mu3))\n",
    "    elif sequence == (1,1,1,1): # BBBB\n",
    "        fb=1.0-fa\n",
    "        # Same as AAAA except fb instead of fa\n",
    "        value = mp.IAAAAresum(N,fb,lam0_1,lam_1,\\\n",
    "                                   lam0_2,lam_2,\\\n",
    "                                   lam0_3,lam_3,\\\n",
    "                                   p1.prop(mu1),\\\n",
    "                                   p2.prop(mu2),\\\n",
    "                                   p3.prop(mu3))\n",
    "    else:\n",
    "        pass\n",
    "    \n",
    "    return value"
   ]
  },
  {
   "cell_type": "markdown",
   "metadata": {
    "deletable": true,
    "editable": true
   },
   "source": [
    "### Space ordering of wavevectors\n",
    "\n",
    "$\\textbf{fourPointCorr}$ calculates $\\int_0^N d^4s\\left\\langle \\tilde{\\psi}_{1}\\tilde{\\psi}_{2}\\tilde{\\psi}_{3}\\tilde{\\psi}_{3}\\right\\rangle $.\n",
    "The $\\psi$s are not orientation dependent. This will change when\n",
    "I introduce Maier-Saupe interaction.\n",
    "The average is over the unperturbed distribution of a single WLC that\n",
    "is N segments long with $f_{A}$ being of A type.\n",
    "Each $\\tilde{\\psi}$ has an associated chemical identity, $\\alpha$, and Fourier location, $\\vec{k}$."
   ]
  },
  {
   "cell_type": "code",
   "execution_count": 49,
   "metadata": {
    "collapsed": true,
    "deletable": true,
    "editable": true
   },
   "outputs": [],
   "source": [
    "# Inputs\n",
    "#     pset (propagator.prop_set), the set of propagators used so far\n",
    "#     N (float), number of Khun lengths\n",
    "#     fa (float), fraction of type A\n",
    "#     prop1 (phi_tilde), contains k and alpha\n",
    "def fourPointCorr(pset,N,fa,phi1,phi2,phi3,phi4):\n",
    "    print('Warning: Winger D hasnt been implemented!')\n",
    "    nlam=pset.nlam\n",
    "    # The first and last lam must be zero \n",
    "    mu1=0 \n",
    "    mu3=0\n",
    "    lam0_1=0\n",
    "    lam_3=0\n",
    "    \n",
    "    total = 0.0+0.0j\n",
    "    # The Points can be visited in any order\n",
    "    for ordered in perms([phi1,phi2,phi3,phi4]):\n",
    "        # while phi1.k is the absolute Fourier position\n",
    "        # q1 is the relitive Fourier position of 1 and 2\n",
    "        q1=-ordered[0].k\n",
    "        q2=-ordered[0].k-ordered[1].k\n",
    "        q3=-ordered[0].k-ordered[1].k-ordered[2].k\n",
    "\n",
    "        # chemical sequence, A is 1\n",
    "        sequence = (ordered[0].alpha,ordered[1].alpha,\\\n",
    "                    ordered[2].alpha,ordered[3].alpha)\n",
    "        \n",
    "        # Calculate or look up eigenstuff\n",
    "        p1 = pset.get_vec_prop(q1)\n",
    "        p2 = pset.get_vec_prop(q2)\n",
    "        p3 = pset.get_vec_prop(q3)\n",
    "\n",
    "        # Angular sum\n",
    "        for lam_1 in range(0,nlam):\n",
    "            for lam_2 in range(0,nlam):\n",
    "                for mu2 in range(-min(lam_2,lam_3),\\\n",
    "                                 min(lam_2,lam_3)+1): \n",
    "                    lam0_2=lam_1\n",
    "                    lam0_3=lam_2\n",
    "                    \n",
    "                    value=I4N(N,fa,lam0_1,lam_1,mu1,\\\n",
    "                               lam0_2,lam_2,mu2,\\\n",
    "                               lam0_3,lam_3,mu3,\\\n",
    "                               p1,p2,p3,\\\n",
    "                               sequence) \n",
    "                        \n",
    "                    # Wigner D goes here!\n",
    "                    \n",
    "                    total = total + value\n",
    "    return total"
   ]
  },
  {
   "cell_type": "code",
   "execution_count": 60,
   "metadata": {
    "collapsed": true,
    "deletable": true,
    "editable": true
   },
   "outputs": [],
   "source": [
    "def s4wlc(pset, N, fa, Ks):\n",
    "    s4 = np.zeros((2,2,2,2),dtype=type(1+1j))\n",
    "    k1, k2, k3, k4 = Ks\n",
    "    if norm(k1+k2+k3+k4) >= 1e-10:\n",
    "        print(k1, k2, k3, k4)\n",
    "        print(k1+k2+k3+k4)\n",
    "        raise ValueError('Qs must add up to zero')\n",
    "\n",
    "    for a1, a2, a3, a4 in product([0,1], repeat=4):\n",
    "        phi1 = phi_tilde(k1,alpha=a1)\n",
    "        phi2 = phi_tilde(k2,alpha=a2)\n",
    "        phi3 = phi_tilde(k3,alpha=a3)\n",
    "        phi4 = phi_tilde(k4,alpha=a4)\n",
    "\n",
    "        s4[a1][a2][a3][a4] = fourPointCorr(pset, N, fa, \\\n",
    "                                           phi1, phi2, phi3, phi4)\n",
    "    return s4"
   ]
  },
  {
   "cell_type": "code",
   "execution_count": 61,
   "metadata": {
    "collapsed": false,
    "deletable": true,
    "editable": true
   },
   "outputs": [
    {
     "name": "stdout",
     "output_type": "stream",
     "text": [
      "(array([ 0. ,  0. ,  0.1]), array([ 0. ,  0. ,  0.1]), array([-0. , -0. , -0.1]), array([ 0. ,  0. ,  0.1]))\n",
      "[ 0.   0.   0.2]\n"
     ]
    },
    {
     "ename": "ValueError",
     "evalue": "Qs must add up to zero",
     "output_type": "error",
     "traceback": [
      "\u001b[0;31m---------------------------------------------------------------------------\u001b[0m",
      "\u001b[0;31mValueError\u001b[0m                                Traceback (most recent call last)",
      "\u001b[0;32m<ipython-input-61-a77c768a73cc>\u001b[0m in \u001b[0;36m<module>\u001b[0;34m()\u001b[0m\n\u001b[1;32m     22\u001b[0m \u001b[0;32mfor\u001b[0m \u001b[0mind\u001b[0m\u001b[0;34m,\u001b[0m \u001b[0mK\u001b[0m \u001b[0;32min\u001b[0m \u001b[0menumerate\u001b[0m\u001b[0;34m(\u001b[0m\u001b[0mKV\u001b[0m\u001b[0;34m)\u001b[0m\u001b[0;34m:\u001b[0m\u001b[0;34m\u001b[0m\u001b[0m\n\u001b[1;32m     23\u001b[0m     \u001b[0mKs\u001b[0m \u001b[0;34m=\u001b[0m \u001b[0msetKs\u001b[0m\u001b[0;34m(\u001b[0m\u001b[0mK\u001b[0m\u001b[0;34m)\u001b[0m\u001b[0;34m\u001b[0m\u001b[0m\n\u001b[0;32m---> 24\u001b[0;31m     \u001b[0ms4\u001b[0m\u001b[0;34m[\u001b[0m\u001b[0;34m:\u001b[0m\u001b[0;34m,\u001b[0m\u001b[0;34m:\u001b[0m\u001b[0;34m,\u001b[0m\u001b[0;34m:\u001b[0m\u001b[0;34m,\u001b[0m\u001b[0;34m:\u001b[0m\u001b[0;34m,\u001b[0m\u001b[0mind\u001b[0m\u001b[0;34m]\u001b[0m \u001b[0;34m=\u001b[0m \u001b[0ms4wlc\u001b[0m\u001b[0;34m(\u001b[0m\u001b[0mpset\u001b[0m\u001b[0;34m,\u001b[0m \u001b[0mN\u001b[0m\u001b[0;34m,\u001b[0m \u001b[0mfa\u001b[0m\u001b[0;34m,\u001b[0m \u001b[0mKs\u001b[0m\u001b[0;34m)\u001b[0m\u001b[0;34m/\u001b[0m\u001b[0;34m(\u001b[0m\u001b[0mN\u001b[0m\u001b[0;34m**\u001b[0m\u001b[0;36m4\u001b[0m\u001b[0;34m)\u001b[0m\u001b[0;34m\u001b[0m\u001b[0m\n\u001b[0m",
      "\u001b[0;32m<ipython-input-60-7ed320e1f7fb>\u001b[0m in \u001b[0;36ms4wlc\u001b[0;34m(pset, N, fa, Ks)\u001b[0m\n\u001b[1;32m      5\u001b[0m         \u001b[0;32mprint\u001b[0m\u001b[0;34m(\u001b[0m\u001b[0mk1\u001b[0m\u001b[0;34m,\u001b[0m \u001b[0mk2\u001b[0m\u001b[0;34m,\u001b[0m \u001b[0mk3\u001b[0m\u001b[0;34m,\u001b[0m \u001b[0mk4\u001b[0m\u001b[0;34m)\u001b[0m\u001b[0;34m\u001b[0m\u001b[0m\n\u001b[1;32m      6\u001b[0m         \u001b[0;32mprint\u001b[0m\u001b[0;34m(\u001b[0m\u001b[0mk1\u001b[0m\u001b[0;34m+\u001b[0m\u001b[0mk2\u001b[0m\u001b[0;34m+\u001b[0m\u001b[0mk3\u001b[0m\u001b[0;34m+\u001b[0m\u001b[0mk4\u001b[0m\u001b[0;34m)\u001b[0m\u001b[0;34m\u001b[0m\u001b[0m\n\u001b[0;32m----> 7\u001b[0;31m         \u001b[0;32mraise\u001b[0m \u001b[0mValueError\u001b[0m\u001b[0;34m(\u001b[0m\u001b[0;34m'Qs must add up to zero'\u001b[0m\u001b[0;34m)\u001b[0m\u001b[0;34m\u001b[0m\u001b[0m\n\u001b[0m\u001b[1;32m      8\u001b[0m \u001b[0;34m\u001b[0m\u001b[0m\n\u001b[1;32m      9\u001b[0m     \u001b[0;32mfor\u001b[0m \u001b[0ma1\u001b[0m\u001b[0;34m,\u001b[0m \u001b[0ma2\u001b[0m\u001b[0;34m,\u001b[0m \u001b[0ma3\u001b[0m\u001b[0;34m,\u001b[0m \u001b[0ma4\u001b[0m \u001b[0;32min\u001b[0m \u001b[0mproduct\u001b[0m\u001b[0;34m(\u001b[0m\u001b[0;34m[\u001b[0m\u001b[0;36m0\u001b[0m\u001b[0;34m,\u001b[0m\u001b[0;36m1\u001b[0m\u001b[0;34m]\u001b[0m\u001b[0;34m,\u001b[0m \u001b[0mrepeat\u001b[0m\u001b[0;34m=\u001b[0m\u001b[0;36m4\u001b[0m\u001b[0;34m)\u001b[0m\u001b[0;34m:\u001b[0m\u001b[0;34m\u001b[0m\u001b[0m\n",
      "\u001b[0;31mValueError\u001b[0m: Qs must add up to zero"
     ]
    }
   ],
   "source": [
    "N=0.1\n",
    "fa=0.345890\n",
    "\n",
    "def setKs(K):\n",
    "    k1=np.array([0,0,1])*K\n",
    "    k2=np.array([0,0,1])*K\n",
    "    k3=-k2\n",
    "    k4=-k3\n",
    "\n",
    "    k = [k1, k2, k3, k4]\n",
    "    return k\n",
    "\n",
    "nlam=4\n",
    "pset=propagator.prop_set(nlam=nlam)\n",
    "\n",
    "# K = 10.0\n",
    "# k = setKs(K)\n",
    "# s4wlc(pset, N, fa, k)\n",
    "\n",
    "KV = np.logspace(-1,3,10)\n",
    "s4 = np.zeros((2,2,2,2,len(KV)),dtype=type(1+1j))\n",
    "for ind, K in enumerate(KV):\n",
    "    Ks = setKs(K)\n",
    "    s4[:,:,:,:,ind] = s4wlc(pset, N, fa, Ks)/(N**4)"
   ]
  },
  {
   "cell_type": "code",
   "execution_count": 48,
   "metadata": {
    "collapsed": false,
    "deletable": true,
    "editable": true
   },
   "outputs": [],
   "source": [
    "# plt.loglog(KV, s4[0,0,0,0,:])\n",
    "# plotlog(1e1, 5e-3, -2, xrange=2)\n",
    "# plt.show()"
   ]
  },
  {
   "cell_type": "markdown",
   "metadata": {
    "deletable": true,
    "editable": true
   },
   "source": [
    "## Rigid rod limit structure factor\n",
    "\n",
    "Consider the special case that the four wavevectors form a straight line.\n",
    "\n",
    "The structure factor of a rigid rod after rotation average is\n",
    "\\begin{eqnarray}\n",
    "I_4 = \n",
    "\\int_{0}^{L} ds_1\n",
    "\\int_{0}^{L} ds_2\n",
    "\\int_{0}^{L} ds_3\n",
    "\\int_{0}^{L} ds_4\n",
    "\\frac{\\sin{kL(s_1 + s_2 - s_3 - s_4)}}\n",
    "{kL(s_1 + s_2 - s_3 - s_4)}\n",
    "\\end{eqnarray}"
   ]
  },
  {
   "cell_type": "code",
   "execution_count": null,
   "metadata": {
    "collapsed": true,
    "deletable": true,
    "editable": true
   },
   "outputs": [],
   "source": []
  }
 ],
 "metadata": {
  "anaconda-cloud": {},
  "kernelspec": {
   "display_name": "Python 2",
   "language": "python",
   "name": "python2"
  },
  "language_info": {
   "codemirror_mode": {
    "name": "ipython",
    "version": 2
   },
   "file_extension": ".py",
   "mimetype": "text/x-python",
   "name": "python",
   "nbconvert_exporter": "python",
   "pygments_lexer": "ipython2",
   "version": "2.7.13"
  },
  "latex_envs": {
   "LaTeX_envs_menu_present": true,
   "autocomplete": true,
   "bibliofile": "biblio.bib",
   "cite_by": "apalike",
   "current_citInitial": 1,
   "eqLabelWithNumbers": true,
   "eqNumInitial": 1,
   "hotkeys": {
    "equation": "Ctrl-E",
    "itemize": "Ctrl-I"
   },
   "labels_anchors": false,
   "latex_user_defs": false,
   "report_style_numbering": false,
   "user_envs_cfg": false
  },
  "toc": {
   "colors": {
    "hover_highlight": "#DAA520",
    "running_highlight": "#FF0000",
    "selected_highlight": "#FFD700"
   },
   "moveMenuLeft": true,
   "nav_menu": {
    "height": "12px",
    "width": "252px"
   },
   "navigate_menu": true,
   "number_sections": true,
   "sideBar": true,
   "threshold": 4,
   "toc_cell": false,
   "toc_section_display": "block",
   "toc_window_display": false,
   "widenNotebook": false
  }
 },
 "nbformat": 4,
 "nbformat_minor": 1
}
