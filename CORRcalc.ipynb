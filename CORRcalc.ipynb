{
 "cells": [
  {
   "cell_type": "code",
   "execution_count": 1,
   "metadata": {
    "collapsed": false,
    "deletable": true,
    "editable": true
   },
   "outputs": [],
   "source": [
    "from itertools import permutations as perms\n",
    "from itertools import product\n",
    "import numpy as np\n",
    "import MultiPoint as mp\n",
    "import propagator \n",
    "import wignerD as wd"
   ]
  },
  {
   "cell_type": "code",
   "execution_count": 2,
   "metadata": {
    "collapsed": false,
    "deletable": true,
    "editable": true
   },
   "outputs": [],
   "source": [
    "import imp  # imp.reload(module)\n",
    "import matplotlib.pyplot as plt\n",
    "%matplotlib inline\n",
    "# import mpld3\n",
    "# mpld3.enable_notebook()"
   ]
  },
  {
   "cell_type": "code",
   "execution_count": 3,
   "metadata": {
    "collapsed": false,
    "deletable": true,
    "editable": true
   },
   "outputs": [],
   "source": [
    "class phi_tilde:    \n",
    "    def __init__(self,k,alpha=0,l=0,m=0):\n",
    "        self.k=k\n",
    "        self.alpha=alpha\n",
    "        self.l=l\n",
    "        self.m=m"
   ]
  },
  {
   "cell_type": "code",
   "execution_count": 4,
   "metadata": {
    "collapsed": false,
    "deletable": true,
    "editable": true
   },
   "outputs": [],
   "source": [
    "def plotlog(x, y, alpha, xrange=1, numx=2):\n",
    "    xv = np.logspace(np.log10(x), np.log10(x) + xrange, numx)\n",
    "    C = y / (x**alpha)\n",
    "    yv = C * xv**(alpha)\n",
    "    plt.loglog(xv, yv)"
   ]
  },
  {
   "cell_type": "markdown",
   "metadata": {
    "deletable": true,
    "editable": true
   },
   "source": [
    "### Some simple functions"
   ]
  },
  {
   "cell_type": "code",
   "execution_count": 5,
   "metadata": {
    "collapsed": true,
    "deletable": true,
    "editable": true
   },
   "outputs": [],
   "source": [
    "def norm(K):\n",
    "    return np.linalg.norm(K)"
   ]
  },
  {
   "cell_type": "code",
   "execution_count": 6,
   "metadata": {
    "collapsed": false,
    "deletable": true,
    "editable": true
   },
   "outputs": [],
   "source": [
    "def legendrep(Q1, Q2, nlam):\n",
    "    EQ1 = Q1/norm(Q1)\n",
    "    EQ2 = Q2/norm(Q2)\n",
    "    RHO = -sum(EQ1*EQ2)\n",
    "    \n",
    "    val = [1, RHO]\n",
    "    for L  in range(1, nlam-1):\n",
    "        newval = ( (2*L+1)*RHO*val[L]-L*val[L-1] ) / (L+1)\n",
    "        val.append(newval)\n",
    "        \n",
    "    return val"
   ]
  },
  {
   "cell_type": "markdown",
   "metadata": {
    "deletable": true,
    "editable": true,
    "heading_collapsed": true
   },
   "source": [
    "## 1. Two point correlations"
   ]
  },
  {
   "cell_type": "markdown",
   "metadata": {},
   "source": [
    "Integration of propagators\n",
    "\\begin{eqnarray}\n",
    "I_{12}^{(2)}(N) =\n",
    "\\int_{0}^{N}\n",
    "\\int_{0}^{N}\n",
    "ds_{1}\n",
    "ds_{2}\n",
    "\\left<\n",
    "\\exp(\n",
    "i\\vec{k}_{1} \\cdot \\vec{r} (s_{1})\n",
    "+ i\\vec{k}_{2} \\cdot \\vec{r} (s_{2})\n",
    ")\n",
    "\\right>\n",
    "\\delta\n",
    "(\\vec{k}_{1} + \\vec{k}_{2})\n",
    "\\delta(\\alpha_{1}, \\sigma(s_{1}))\n",
    "\\delta(\\alpha_{2}, \\sigma(s_{2}))\n",
    "\\end{eqnarray}"
   ]
  },
  {
   "cell_type": "code",
   "execution_count": 76,
   "metadata": {
    "collapsed": true,
    "deletable": true,
    "editable": true,
    "hidden": true
   },
   "outputs": [],
   "source": [
    "def s2wlc(pset, N, FA, K, sequence='all'):\n",
    "    s2 = np.zeros((2,2),dtype=type(1+1j))\n",
    "    k1=np.array([0,0,1])*K\n",
    "    k2=-k1\n",
    "\n",
    "    if sequence == 'all':\n",
    "        if norm(k1) < 1e-5:\n",
    "            s2 = s2wlc_zeroq(N, FA)\n",
    "            return s2\n",
    "            \n",
    "        for a1 in [0,1]:\n",
    "            for a2 in [0,1]:\n",
    "                phi1 = phi_tilde(k1,alpha=a1)\n",
    "                phi2 = phi_tilde(k2,alpha=a2)\n",
    "                s2[a1][a2] = twoPointCorr(pset, N, FA, phi1, phi2)\n",
    "    else:\n",
    "        a1, a2 = sequence\n",
    "        if norm(k1) < 1e-5:\n",
    "            s2 = s2wlc_zeroq(N, FA)\n",
    "            return s2[a1][a2]\n",
    "        \n",
    "        phi1 = phi_tilde(k1,alpha=a1)\n",
    "        phi2 = phi_tilde(k2,alpha=a2)\n",
    "        s2 = twoPointCorr(pset, N, FA, phi1, phi2)\n",
    "        \n",
    "    return s2"
   ]
  },
  {
   "cell_type": "code",
   "execution_count": 49,
   "metadata": {
    "collapsed": true,
    "deletable": true,
    "editable": true,
    "hidden": true
   },
   "outputs": [],
   "source": [
    "def s2wlc_zeroq(N, FA):\n",
    "    s2 = np.zeros((2,2),dtype='complex')\n",
    "\n",
    "    FB = 1.0-FA\n",
    "    s2[0][0] = FA*FA\n",
    "    s2[1][1] = FB*FB\n",
    "    s2[0][1] = FA*FB\n",
    "    s2[1][0] = FB*FA\n",
    "    \n",
    "    return s2*N**2"
   ]
  },
  {
   "cell_type": "code",
   "execution_count": null,
   "metadata": {
    "collapsed": true,
    "deletable": true,
    "editable": true,
    "hidden": true
   },
   "outputs": [],
   "source": [
    "def s2inverse(pset, N, FA, K):\n",
    "    if norm(K) < 1e-5:\n",
    "        s2inv = s2inverse_zeroq(pset, N, FA)\n",
    "        return s2inv\n",
    "\n",
    "    s2 = s2wlc(pset, N, FA, K)\n",
    "    s2inv = np.zeros((2,2),dtype=type(1+1j))\n",
    "    \n",
    "    [s2aa, s2ab], [s2ba, s2bb] = s2\n",
    "    det = s2aa*s2bb - s2ab*s2ba\n",
    "    \n",
    "    s2inv[0,0] = s2bb/det\n",
    "    s2inv[0,1] = -s2ab/det\n",
    "    s2inv[1,0] = -s2ba/det\n",
    "    s2inv[1,1] = s2aa/det\n",
    "    \n",
    "    return s2inv"
   ]
  },
  {
   "cell_type": "code",
   "execution_count": null,
   "metadata": {
    "collapsed": true,
    "deletable": true,
    "editable": true,
    "hidden": true
   },
   "outputs": [],
   "source": [
    "def s2inverse_zeroq(pset, N, FA):\n",
    "    s2 = np.ones((2,2),dtype='complex')\n",
    "    \n",
    "    return s2/(N**2)"
   ]
  },
  {
   "cell_type": "markdown",
   "metadata": {},
   "source": [
    "Helper functions that carry out integrals (I2N), and space ordering of contour indices (twoPointCorr)."
   ]
  },
  {
   "cell_type": "code",
   "execution_count": 80,
   "metadata": {
    "collapsed": false,
    "deletable": true,
    "editable": true,
    "hidden": true
   },
   "outputs": [],
   "source": [
    "def I2N(N, FA, p1, sequence):\n",
    "    lam0=0\n",
    "    lam=0\n",
    "    \n",
    "    if sequence == (0,0): # AA\n",
    "        value = mp.IAAresum(N,FA,lam0,lam,p1)\n",
    "    elif sequence ==(0,1): # AB\n",
    "        value = mp.IABresum(N,FA,lam0,lam,p1)\n",
    "    elif sequence == (1,1): # BB\n",
    "        value = mp.IAAresum(N,1-FA,lam0,lam,p1)\n",
    "    else:\n",
    "        value=0.0\n",
    "    return value"
   ]
  },
  {
   "cell_type": "code",
   "execution_count": 81,
   "metadata": {
    "collapsed": true,
    "deletable": true,
    "editable": true,
    "hidden": true
   },
   "outputs": [],
   "source": [
    "def twoPointCorr(pset,N,FA,phi1,phi2):\n",
    "    val = 0.0+0.0j\n",
    "    for ordered in perms([phi1,phi2]):\n",
    "        q1=-ordered[0].k\n",
    "\n",
    "        # chemical sequence, A is 1\n",
    "        sequence = (ordered[0].alpha,ordered[1].alpha)\n",
    "\n",
    "        # Calculate or look up eigenstuff\n",
    "        p = pset.get_vec_prop(q1)\n",
    "        val += I2N(N, FA, p.prop(0), sequence)\n",
    "    return val"
   ]
  },
  {
   "cell_type": "markdown",
   "metadata": {
    "deletable": true,
    "editable": true,
    "heading_collapsed": true
   },
   "source": [
    "## 2. Three point correlations"
   ]
  },
  {
   "cell_type": "markdown",
   "metadata": {},
   "source": [
    "Integration of propagators\n",
    "\\begin{eqnarray}\n",
    "I_{123}^{(3)}(N) =\n",
    "\\int_{0}^{N}\n",
    "\\int_{0}^{N}\n",
    "\\int_{0}^{N}\n",
    "ds_{1}\n",
    "ds_{2}\n",
    "ds_{3}\n",
    "\\left<\n",
    "\\exp(\n",
    "i\\vec{k}_{1} \\cdot \\vec{r} (s_{1})\n",
    "+ i\\vec{k}_{2} \\cdot \\vec{r} (s_{2})\n",
    "+ i\\vec{k}_{2} \\cdot \\vec{r} (s_{3})\n",
    ")\n",
    "\\right> \\\\\n",
    "\\delta\n",
    "(\\vec{k}_{1} + \\vec{k}_{2} + \\vec{k}_{3})\n",
    "\\delta(\\alpha_{1}, \\sigma(s_{1}))\n",
    "\\delta(\\alpha_{2}, \\sigma(s_{2}))\n",
    "\\delta(\\alpha_{3}, \\sigma(s_{3}))\n",
    "\\end{eqnarray}"
   ]
  },
  {
   "cell_type": "code",
   "execution_count": null,
   "metadata": {
    "collapsed": true,
    "deletable": true,
    "editable": true,
    "hidden": true
   },
   "outputs": [],
   "source": [
    "def s3wlc(pset, N, FA, Ks, sequence='all'):\n",
    "    k1, k2, k3 = Ks\n",
    "    if norm(k1+k2+k3) >= 1e-10:\n",
    "        raise ValueError('Qs must add up to zero')\n",
    "\n",
    "    if sequence=='all':\n",
    "        s3 = np.zeros((2,2,2),dtype=type(1+1j))\n",
    "        if norm(k3) < 1e-5:\n",
    "            return s3wlc_zeroq3(pset, N, FA, Ks)\n",
    "        \n",
    "        for a1, a2, a3 in product([0,1], repeat=3):\n",
    "            phi1 = phi_tilde(k1,alpha=a1)\n",
    "            phi2 = phi_tilde(k2,alpha=a2)\n",
    "            phi3 = phi_tilde(k3,alpha=a3)\n",
    "\n",
    "            s3[a1][a2][a3] = threePointCorr(pset, N, FA, \\\n",
    "                                            phi1, phi2, phi3)\n",
    "    else:\n",
    "        a1, a2, a3 = sequence\n",
    "        if norm(k3) < 1e-5:\n",
    "            s3 = s3wlc_zeroq3(pset, N, FA, Ks)\n",
    "            return s3[a1][a2][a3]\n",
    "\n",
    "        phi1 = phi_tilde(k1,alpha=a1)\n",
    "        phi2 = phi_tilde(k2,alpha=a2)\n",
    "        phi3 = phi_tilde(k3,alpha=a3)\n",
    "        s3 = threePointCorr(pset, N, FA, phi1, phi2, phi3)\n",
    "        \n",
    "    return s3"
   ]
  },
  {
   "cell_type": "markdown",
   "metadata": {},
   "source": [
    "Special case when $\\vec{k}_{3} = \\vec{0}$ in $I_{123}^{(3)}$."
   ]
  },
  {
   "cell_type": "code",
   "execution_count": null,
   "metadata": {
    "collapsed": true
   },
   "outputs": [],
   "source": [
    "def s3wlc_zeroq3(pset, N, FA, Ks):\n",
    "    k1, k2, k3 = Ks\n",
    "    s3 = np.zeros((2,2,2),dtype=type(1+1j))\n",
    "\n",
    "    FB = 1.0-FA\n",
    "    s2 = s2wlc(pset, N, FA, norm(k1))\n",
    "    s3[0][0][0] = s2[0][0]*FA*N\n",
    "    s3[0][0][1] = s2[0][0]*FB*N\n",
    "    s3[0][1][0] = s2[0][1]*FA*N\n",
    "    s3[0][1][1] = s2[0][1]*FB*N\n",
    "    s3[1][0][0] = s2[1][0]*FA*N\n",
    "    s3[1][0][1] = s2[1][0]*FB*N\n",
    "    s3[1][1][0] = s2[1][1]*FA*N\n",
    "    s3[1][1][1] = s2[1][1]*FB*N\n",
    "    \n",
    "    return s3"
   ]
  },
  {
   "cell_type": "markdown",
   "metadata": {},
   "source": [
    "Helper functions that carry out integrals (I3N), and space ordering of contour indices (threePointCorr)."
   ]
  },
  {
   "cell_type": "code",
   "execution_count": null,
   "metadata": {
    "collapsed": false,
    "deletable": true,
    "editable": true,
    "hidden": true
   },
   "outputs": [],
   "source": [
    "def I3N(N,FA,lam0_1,lam_1,mu1,\\\n",
    "            lam0_2,lam_2,mu2,\\\n",
    "            p1,p2,\\\n",
    "            sequence):\n",
    "    \n",
    "    value = 0\n",
    "    if sequence == (0,0,0): # AAA\n",
    "        value = mp.IAAA(N,FA,lam0_1,lam_1,\\\n",
    "                             lam0_2,lam_2,\\\n",
    "                             p1.prop(mu1),\\\n",
    "                             p2.prop(mu2))\n",
    "        value = mp.IAAA(N,FA,lam0_1,lam_1,\\\n",
    "                             lam0_2,lam_2,\\\n",
    "                             p1.prop(mu1),\\\n",
    "                             p2.prop(mu2))\n",
    "    elif sequence == (0,0,1): # AAB\n",
    "        value = mp.IABBresum(N,1-FA,lam0_1,lam_1,\\\n",
    "                                  lam0_2,lam_2,\\\n",
    "                                  p1.prop(mu1),\\\n",
    "                                  p2.prop(mu2))\n",
    "    elif sequence == (0,1,1): # ABB\n",
    "        value = mp.IABBresum(N,FA,lam0_1,lam_1,\\\n",
    "                                  lam0_2,lam_2,\\\n",
    "                                  p1.prop(mu1),\\\n",
    "                                  p2.prop(mu2))\n",
    "    elif sequence == (1,1,1): # BBB\n",
    "        fb=1.0-FA\n",
    "        # Same as AAAA except fb instead of FA\n",
    "        value = mp.IAAA(N,fb,lam0_1,lam_1,\\\n",
    "                             lam0_2,lam_2,\\\n",
    "                             p1.prop(mu1),\\\n",
    "                             p2.prop(mu2))\n",
    "    else:\n",
    "        pass\n",
    "    \n",
    "    return value"
   ]
  },
  {
   "cell_type": "markdown",
   "metadata": {
    "deletable": true,
    "editable": true,
    "hidden": true
   },
   "source": [
    "### Space ordering of wavevectors"
   ]
  },
  {
   "cell_type": "code",
   "execution_count": null,
   "metadata": {
    "collapsed": false,
    "deletable": true,
    "editable": true,
    "hidden": true
   },
   "outputs": [],
   "source": [
    "# Inputs\n",
    "#     pset (propagator.prop_set), the set of propagators used so FAr\n",
    "#     N (float), number of Khun lengths\n",
    "#     FA (float), fraction of type A\n",
    "#     prop1 (phi_tilde), contains k and alpha\n",
    "def threePointCorr(pset,N,FA,phi1,phi2,phi3):\n",
    "#     print('Warning: Winger D hasnt been implemented!')\n",
    "    nlam=pset.nlam\n",
    "    # The first and last lam must be zero \n",
    "    mu1=0\n",
    "    mu2=0\n",
    "    lam0_1=0\n",
    "    lam_2=0\n",
    "    \n",
    "    total = 0.0+0.0j\n",
    "    # The Points can be visited in any order\n",
    "    for ordered in perms([phi1,phi2,phi3]):\n",
    "        # while phi1.k is the absolute Fourier position\n",
    "        # q1 is the relitive Fourier position of 1 and 2\n",
    "        q1=-ordered[0].k\n",
    "        q2=-ordered[0].k-ordered[1].k\n",
    "        \n",
    "        # chemical sequence, A is 1\n",
    "        sequence = (ordered[0].alpha,ordered[1].alpha,ordered[2].alpha)\n",
    "        \n",
    "        # Calculate or look up eigenstuff\n",
    "        p1 = pset.get_vec_prop(q1)\n",
    "        p2 = pset.get_vec_prop(q2)\n",
    "\n",
    "        # Calculate Legendre polynomial\n",
    "        PL = legendrep(q1, q2, nlam)\n",
    "        \n",
    "        # Angular sum\n",
    "        for lam in range(0,nlam):\n",
    "            lam_1, lam0_2 = lam, lam\n",
    "            value = I3N(N,FA,lam0_1,lam_1,mu1,\\\n",
    "                        lam0_2,lam_2,mu2,\\\n",
    "                        p1,p2,\\\n",
    "                        sequence)\n",
    "\n",
    "            # Wigner D goes here!\n",
    "            value *= PL[lam]\n",
    "\n",
    "            total = total + value\n",
    "    return total"
   ]
  },
  {
   "cell_type": "markdown",
   "metadata": {
    "deletable": true,
    "editable": true
   },
   "source": [
    "## 3.  Four point correlations"
   ]
  },
  {
   "cell_type": "markdown",
   "metadata": {
    "deletable": true,
    "editable": true
   },
   "source": [
    "\\begin{align*}\n",
    "\\underset{\\alpha_{1}\\alpha_{2}\\alpha_{3}\\alpha_{4}}{I_{1,2,3}^{\\left(4\\right)}\\left(N\\right)}= & \\int_{0}^{N}ds_{3}\\int_{0}^{s_{4}}ds_{2}\\int_{0}^{s_{3}}ds_{1}\\int_{0}^{s_{1}}ds_{0}\\delta_{\\alpha\\left(s_{1}\\right),\\alpha_{1}}\\delta_{\\alpha\\left(s_{2}\\right),\\alpha_{2}}\\delta_{\\alpha\\left(s_{3}\\right),\\alpha_{3}}\\delta_{\\alpha\\left(s_{4}\\right),\\alpha_{4}}\\\\\n",
    " & \\cdot\\mathcal{G}_{\\lambda0_{1}\\lambda_{1}}^{\\mu_{1}}\\left(s_{4}-s_{3},K_{1}\\right)\\mathcal{G}_{\\lambda0_{2}\\lambda_{2}}^{\\mu_{2}}\\left(s_{3}-s_{2},K_{2}\\right)\\mathcal{G}_{\\lambda0_{3}\\lambda_{3}}^{\\mu_{3}}\\left(s_{2}-s_{1},K_{2}\\right)\n",
    "\\end{align*}"
   ]
  },
  {
   "cell_type": "code",
   "execution_count": 124,
   "metadata": {
    "collapsed": true,
    "deletable": true,
    "editable": true
   },
   "outputs": [],
   "source": [
    "def s4wlc(pset,wigset, N, FA, Ks, sequence='all'):\n",
    "    s4 = np.zeros((2,2,2,2),dtype=type(1+1j))\n",
    "    k1, k2, k3, k4 = Ks\n",
    "    if norm(k1+k2+k3+k4) >= 1e-10:\n",
    "        print(k1, k2, k3, k4)\n",
    "        print(k1+k2+k3+k4)\n",
    "        raise ValueError('Qs must add up to zero')\n",
    "    \n",
    "    if sequence == 'all':\n",
    "        for a1, a2, a3, a4 in product([0,1], repeat=4):\n",
    "            phi1 = phi_tilde(k1,alpha=a1)\n",
    "            phi2 = phi_tilde(k2,alpha=a2)\n",
    "            phi3 = phi_tilde(k3,alpha=a3)\n",
    "            phi4 = phi_tilde(k4,alpha=a4)\n",
    "            s4[a1][a2][a3][a4] = fourPointCorr(pset,wigset, N, FA, \\\n",
    "                                               phi1, phi2, phi3, phi4)\n",
    "    else:\n",
    "        a1, a2, a3, a4 = sequence\n",
    "        phi1 = phi_tilde(k1,alpha=a1)\n",
    "        phi2 = phi_tilde(k2,alpha=a2)\n",
    "        phi3 = phi_tilde(k3,alpha=a3)\n",
    "        phi4 = phi_tilde(k4,alpha=a4)\n",
    "        s4 = fourPointCorr(pset,wigset, N, FA, \\\n",
    "                           phi1, phi2, phi3, phi4)\n",
    "            \n",
    "    return s4"
   ]
  },
  {
   "cell_type": "code",
   "execution_count": 125,
   "metadata": {
    "collapsed": false,
    "deletable": true,
    "editable": true
   },
   "outputs": [],
   "source": [
    "def I4N(N,FA,lam0_1,lam_1,mu1,\\\n",
    "           lam0_2,lam_2,mu2,\\\n",
    "           lam0_3,lam_3,mu3,\\\n",
    "           p1,p2,p3,\\\n",
    "           sequence):\n",
    "    \n",
    "    value = 0\n",
    "    if sequence == (0,0,0,0): # AAAA\n",
    "        value = mp.IAAAA(N,FA,lam0_1,lam_1,\\\n",
    "                                   lam0_2,lam_2,\\\n",
    "                                   lam0_3,lam_3,\\\n",
    "                                   p1.prop(mu1),\\\n",
    "                                   p2.prop(mu2),\\\n",
    "                                   p3.prop(mu3))\n",
    "    elif sequence == (0,0,0,1): # AAAB\n",
    "        value = mp.IAAABresum(N,FA,lam0_1,lam_1,\\\n",
    "                                   lam0_2,lam_2,\\\n",
    "                                   lam0_3,lam_3,\\\n",
    "                                   p1.prop(mu1),\\\n",
    "                                   p2.prop(mu2),\\\n",
    "                                   p3.prop(mu3))   \n",
    "    elif sequence == (0,0,1,1): # AABB\n",
    "        value = mp.IAABBresum(N,FA,lam0_1,lam_1,\\\n",
    "                                   lam0_2,lam_2,\\\n",
    "                                   lam0_3,lam_3,\\\n",
    "                                   p1.prop(mu1),\\\n",
    "                                   p2.prop(mu2),\\\n",
    "                                   p3.prop(mu3))\n",
    "    elif sequence == (0,1,1,1): # ABBB\n",
    "        fb=1.0-FA\n",
    "        # Same as AAAB except fb instead of FA\n",
    "        value = mp.IAAABresum(N,fb,lam0_1,lam_1,\\\n",
    "                                   lam0_2,lam_2,\\\n",
    "                                   lam0_3,lam_3,\\\n",
    "                                   p1.prop(mu1),\\\n",
    "                                   p2.prop(mu2),\\\n",
    "                                   p3.prop(mu3))\n",
    "    elif sequence == (1,1,1,1): # BBBB\n",
    "        fb=1.0-FA\n",
    "        # Same as AAAA except fb instead of FA\n",
    "        value = mp.IAAAA(N,fb,lam0_1,lam_1,\\\n",
    "                              lam0_2,lam_2,\\\n",
    "                              lam0_3,lam_3,\\\n",
    "                              p1.prop(mu1),\\\n",
    "                              p2.prop(mu2),\\\n",
    "                              p3.prop(mu3))\n",
    "    else:\n",
    "        pass\n",
    "    \n",
    "    return value"
   ]
  },
  {
   "cell_type": "markdown",
   "metadata": {
    "deletable": true,
    "editable": true
   },
   "source": [
    "### Space ordering of wavevectors"
   ]
  },
  {
   "cell_type": "markdown",
   "metadata": {},
   "source": [
    "fourPointCorr\n",
    "calculates\n",
    "$\\int_0^N d^4 s\\left\\langle \\tilde{\\psi}_{1}\\tilde{\\psi}_{2}\\tilde{\\psi}_{3}\\tilde{\\psi}_{3}\\right\\rangle $\n",
    ".\n",
    "The $\\psi$s are not orientation dependent. This will change when\n",
    "I introduce Maier-Saupe interaction.\n",
    "The average is over the unperturbed distribution of a single WLC that\n",
    "is N segments long with $f_{A}$ being of A type.\n",
    "Each $\\tilde{\\psi}$ has an associated chemical identity, $\\alpha$, and Fourier location, $\\vec{k}$."
   ]
  },
  {
   "cell_type": "code",
   "execution_count": 126,
   "metadata": {
    "collapsed": true,
    "deletable": true,
    "editable": true
   },
   "outputs": [],
   "source": [
    "# Inputs\n",
    "#     pset (propagator.prop_set), the set of propagators used so FAr\n",
    "#     N (float), number of Khun lengths\n",
    "#     FA (float), fraction of type A\n",
    "#     prop1 (phi_tilde), contains k and alpha\n",
    "def fourPointCorr(pset,wigset,N,FA,phi1,phi2,phi3,phi4):\n",
    "    nlam=pset.nlam\n",
    "    # The first and last lam must be zero \n",
    "    mu1=0 \n",
    "    mu3=0\n",
    "    lam0_1=0\n",
    "    lam_3=0\n",
    "    \n",
    "    total = 0.0+0.0j\n",
    "    # The Points can be visited in any order\n",
    "    for ordered in perms([phi1,phi2,phi3,phi4]):\n",
    "        # while phi1.k is the absolute Fourier position\n",
    "        # q1 is the relitive Fourier position of 1 and 2\n",
    "        q1=-ordered[0].k\n",
    "        q2=-ordered[0].k-ordered[1].k\n",
    "        q3=-ordered[0].k-ordered[1].k-ordered[2].k\n",
    "\n",
    "        # chemical sequence, A is 0\n",
    "        sequence = (ordered[0].alpha,ordered[1].alpha,\\\n",
    "                    ordered[2].alpha,ordered[3].alpha)\n",
    "        \n",
    "        # Calculate or look up eigenstuff\n",
    "        p1 = pset.get_vec_prop(q1)\n",
    "        p2 = pset.get_vec_prop(q2)\n",
    "        p3 = pset.get_vec_prop(q3)       \n",
    "\n",
    "        alpha1, beta1, beta2 = get_angles(q1,q2,q3)\n",
    "        # Angular sum\n",
    "        for lam_1 in range(0,nlam):\n",
    "            for lam_2 in range(0,nlam):\n",
    "                for mu2 in range(-min(lam_2,lam_3),\\\n",
    "                                 min(lam_2,lam_3)+1): \n",
    "                    lam0_2=lam_1\n",
    "                    lam0_3=lam_2\n",
    "                    \n",
    "                    value=I4N(N,FA,lam0_1,lam_1,mu1,\\\n",
    "                               lam0_2,lam_2,mu2,\\\n",
    "                               lam0_3,lam_3,mu3,\\\n",
    "                               p1,p2,p3,\\\n",
    "                               sequence) \n",
    "                    \n",
    "                    # Wigner D to rotate first and third frames into second\n",
    "                    D1 = wigset.axial(lam_1,mu2,0,alpha1,beta1)    \n",
    "                    D2 = wigset.axial(lam_2,mu2,0,0,beta2) \n",
    "                    \n",
    "                    total = total + value*D1*D2\n",
    "    return total"
   ]
  },
  {
   "cell_type": "code",
   "execution_count": 127,
   "metadata": {
    "collapsed": false
   },
   "outputs": [],
   "source": [
    "# Returns Euler angles needed to rotate q1 and q3 away from q2\n",
    "# Returns alpha1, beta1, beta2\n",
    "def get_angles(q1,q2,q3):\n",
    "        # Find unit vectors\n",
    "        aligned=10**-13; # angle in radians betwene to vectors before I assume they are the same\n",
    "        if norm(q1)< aligned or norm(q3)<aligned:\n",
    "            raise Exception('I assume q1 1= 0 and q3 != 0')\n",
    "        Q1_n=q1/norm(q1) # I assume q1 != 0\n",
    "        Q3_n=q3/norm(q3) # I assume q3 != 0\n",
    "\n",
    "        #Find Euler angles\n",
    "        if norm(q2) < aligned:\n",
    "            # if q2=0 we need to rotate q3 away from q2 \n",
    "            beta1=0.0\n",
    "            beta2=np.arccos(np.dot(Q1_n,Q3_n))\n",
    "            alpha1=0.0\n",
    "            return alpha1, beta1, beta2\n",
    "        \n",
    "        Q2_n=q2/norm(q2);\n",
    "        if norm(Q2_n-Q1_n) < aligned:\n",
    "            # if  Q2_n = Q1_n  simply rotate q3 away\n",
    "            beta1=0.0\n",
    "            alpha1=0.0\n",
    "            beta2=np.arccos(np.dot(Q2_n,Q3_n))\n",
    "        elif norm(Q2_n-Q3_n) < aligned:\n",
    "            # if  Q2_n = Q3_n  simply rotate q1 away\n",
    "            beta1=np.arccos(np.dot(Q2_n,Q1_n))\n",
    "            alpha1=0.0\n",
    "            beta2=0.0\n",
    "        else:\n",
    "            beta1=np.arccos(np.dot(Q2_n,Q1_n))\n",
    "            beta2=np.arccos(np.dot(Q2_n,Q3_n))\n",
    "            v1=np.cross(Q2_n,Q1_n)/norm(np.cross(Q2_n,Q1_n))\n",
    "            v2=np.cross(Q2_n,Q3_n)/norm(np.cross(Q2_n,Q3_n))\n",
    "            alpha1=np.arccos(np.dot(v1,v2))\n",
    "        return alpha1, beta1, beta2"
   ]
  },
  {
   "cell_type": "markdown",
   "metadata": {
    "deletable": true,
    "editable": true
   },
   "source": [
    "## 4. Rigid rod limit structure Factor\n",
    "\n",
    "Consider the special case that the four wavevectors form a straight line.\n",
    "\n",
    "The structure Factor of a rigid rod after rotation average is\n",
    "\\begin{eqnarray}\n",
    "I_4 = \n",
    "\\int_{0}^{L} ds_1\n",
    "\\int_{0}^{L} ds_2\n",
    "\\int_{0}^{L} ds_3\n",
    "\\int_{0}^{L} ds_4\n",
    "\\frac{\\sin{kL|s_1 + s_2 - s_3 - s_4|}}\n",
    "{kL|s_1 + s_2 - s_3 - s_4|}\n",
    "\\end{eqnarray}"
   ]
  },
  {
   "cell_type": "markdown",
   "metadata": {},
   "source": [
    "### 4.1 Two-point rigid rod"
   ]
  },
  {
   "cell_type": "code",
   "execution_count": 94,
   "metadata": {
    "collapsed": false
   },
   "outputs": [],
   "source": [
    "def r2wlc(N, FA, K, sequence='all'):\n",
    "    if sequence == 'all':\n",
    "        if norm(K) < 1e-5:\n",
    "            s2 = s2wlc_zeroq(N, FA)\n",
    "            return s2\n",
    "\n",
    "        s2 = np.zeros((2,2))        \n",
    "        for I1 in range(N):\n",
    "            for I2 in range(N):\n",
    "                sep = abs(I1-I2)\n",
    "                if sep == 0:\n",
    "                    s2[0, 0] += pa1a2(0, 0, FA, N, I1, I2)\n",
    "                    s2[0, 1] += pa1a2(0, 1, FA, N, I1, I2)\n",
    "                    s2[1, 0] += pa1a2(1, 0, FA, N, I1, I2)\n",
    "                    s2[1, 1] += pa1a2(1, 1, FA, N, I1, I2)\n",
    "                else:\n",
    "                    intg = np.sin(K*sep) / float(K*sep)\n",
    "                    s2[0, 0] += pa1a2(0, 0, FA, N, I1, I2)*intg\n",
    "                    s2[0, 1] += pa1a2(0, 1, FA, N, I1, I2)*intg\n",
    "                    s2[1, 0] += pa1a2(1, 0, FA, N, I1, I2)*intg\n",
    "                    s2[1, 1] += pa1a2(1, 1, FA, N, I1, I2)*intg\n",
    "        return s2\n",
    "    else:\n",
    "        a1, a2 = sequence\n",
    "        if norm(K) < 1e-5:\n",
    "            s2 = s2wlc_zeroq(N, FA)\n",
    "            return s2[a1][a2]\n",
    "        \n",
    "        s2a1a2 = 0\n",
    "        for I1 in range(N):\n",
    "            for I2 in range(N):\n",
    "                sep = abs(I1-I2)\n",
    "                if sep == 0:\n",
    "                    s2a1a2 += pa1a2(a1, a2, FA, N, I1, I2)\n",
    "                else:\n",
    "                    intg = np.sin(K*sep) / float(K*sep)\n",
    "                    s2a1a2 += pa1a2(0, 0, FA, N, I1, I2)*intg\n",
    "        return s2a1a2"
   ]
  },
  {
   "cell_type": "code",
   "execution_count": 95,
   "metadata": {
    "collapsed": true
   },
   "outputs": [],
   "source": [
    "def pa1a2(A1, A2, FA, N, I1, I2):\n",
    "    IND1 = float(I1/N)\n",
    "    IND2 = float(I2/N)\n",
    "    pa1a2 = 0\n",
    "    \n",
    "    if ( (IND1<FA) and (A1==0) or (IND1>= FA and (A1==1)) and\n",
    "         (IND2<FA) and (A2==0) or (IND2>= FA and (A2==1)) ):\n",
    "        pa1a2 = 1\n",
    "    \n",
    "    return pa1a2"
   ]
  },
  {
   "cell_type": "markdown",
   "metadata": {},
   "source": [
    "### 4.3 Four-point rigid rod"
   ]
  },
  {
   "cell_type": "code",
   "execution_count": 219,
   "metadata": {
    "collapsed": false
   },
   "outputs": [],
   "source": [
    "def r4wlc(N, FA, Ks, sequence='all'):\n",
    "    k1, k2, k3, k4 = Ks\n",
    "    if sequence == 'all':\n",
    "        s4 = np.zeros((2,2,2,2))\n",
    "        for I1, I2, I3, I4 in product(range(N), repeat=4):\n",
    "            Qtot = norm(I1*k1+I2*k2+I3*k3+I4*k4)\n",
    "\n",
    "            if Qtot < 1e-5:\n",
    "                for a1, a2, a3, a4 in product([0,1], repeat=4):\n",
    "                    s4[a1, a2, a3, a4] += pa1a2a3a4(a1, a2, a3, a4, FA, N, I1, I2, I3, I4)\n",
    "            else:\n",
    "                for a1, a2, a3, a4 in product([0,1], repeat=4):\n",
    "                    intg = np.sin(Qtot) / float(Qtot)\n",
    "                    s4[a1, a2, a3, a4] += pa1a2a3a4(a1, a2, a3, a4, FA, N, I1, I2, I3, I4)*intg\n",
    "        return s4\n",
    "    else:\n",
    "        a1, a2, a3, a4 = sequence\n",
    "        s4a1a2a3a4 = 0\n",
    "        for I1, I2, I3, I4 in product(range(N), repeat=4):\n",
    "            Qtot = norm(I1*k1+I2*k2+I3*k3+I4*k4)\n",
    "            \n",
    "            if Qtot < 1e-5:\n",
    "                s4a1a2a3a4 += pa1a2a3a4(a1, a2, a3, a4, FA, N, I1, I2, I3, I4)\n",
    "            else:\n",
    "                intg = np.sin(Qtot) / float(Qtot)\n",
    "                s4a1a2a3a4 += pa1a2a3a4(a1, a2, a3, a4, FA, N, I1, I2, I3, I4)*intg\n",
    "\n",
    "        return s4a1a2a3a4"
   ]
  },
  {
   "cell_type": "code",
   "execution_count": 220,
   "metadata": {
    "collapsed": true
   },
   "outputs": [],
   "source": [
    "def pa1a2a3a4(A1, A2, A3, A4, FA, N, I1, I2, I3, I4):\n",
    "    IND1 = float(I1/N)\n",
    "    IND2 = float(I2/N)\n",
    "    IND3 = float(I3/N)\n",
    "    IND4 = float(I4/N)\n",
    "    pa1a2a3a4 = 0\n",
    "    \n",
    "    if ( (IND1<FA) and (A1==0) or (IND1>= FA and (A1==1)) and\n",
    "         (IND2<FA) and (A2==0) or (IND2>= FA and (A2==1)) and \n",
    "         (IND3<FA) and (A3==0) or (IND3>= FA and (A3==1)) and\n",
    "         (IND4<FA) and (A4==0) or (IND4>= FA and (A4==1))):\n",
    "        pa1a2a3a4 = 1\n",
    "    \n",
    "    return pa1a2a3a4"
   ]
  },
  {
   "cell_type": "markdown",
   "metadata": {},
   "source": [
    "## Some tests"
   ]
  },
  {
   "cell_type": "code",
   "execution_count": 242,
   "metadata": {
    "collapsed": false
   },
   "outputs": [],
   "source": [
    "def set4Ks(K):\n",
    "    k1=np.array([0,0,1])*K\n",
    "    k2=np.array([0,0,1])*K\n",
    "#     k2=np.array([0,1,0])*K\n",
    "    k3=-k1\n",
    "    k4=-k2\n",
    "\n",
    "    k = [k1, k2, k3, k4]\n",
    "    return k\n",
    "\n",
    "FA=1.0\n",
    "sequence = [0,0,0,0]\n",
    "\n",
    "# NRR = 10\n",
    "# KVRR = np.linspace(.5,100,100)/NRR\n",
    "# r4 = np.zeros((len(KVRR)),dtype=type(1+1j))\n",
    "# for ind, K in enumerate(KVRR):\n",
    "#     Ks = set4Ks(K)\n",
    "#     r4[ind] = r4wlc(NRR, FA, Ks, sequence=sequence)/(NRR**4)\n",
    "    \n",
    "N = 0.1\n",
    "KV = np.linspace(.5,100,100)/N\n",
    "s4 = np.zeros((len(KV)),dtype=type(1+1j))\n",
    "\n",
    "nlam=5\n",
    "pset=propagator.prop_set(nlam=nlam)\n",
    "wigset = wd.wigner_d_vals()\n",
    "\n",
    "for ind, K in enumerate(KV):\n",
    "    Ks = set4Ks(K)\n",
    "    s4[ind] = s4wlc(pset, wigset, N, FA, Ks, sequence=sequence)/(N**4)"
   ]
  },
  {
   "cell_type": "code",
   "execution_count": 243,
   "metadata": {
    "collapsed": false
   },
   "outputs": [
    {
     "data": {
      "image/png": "[encoded data removed]",
      "text/plain": [
       "<matplotlib.figure.Figure at 0x11ec43e10>"
      ]
     },
     "metadata": {},
     "output_type": "display_data"
    }
   ],
   "source": [
    "plt.plot(KVRR*NRR, r4.real)\n",
    "plt.plot(KV*N, s4.real)\n",
    "plt.show()"
   ]
  },
  {
   "cell_type": "code",
   "execution_count": 251,
   "metadata": {
    "collapsed": false
   },
   "outputs": [
    {
     "data": {
      "image/png": "[encoded data removed]",
      "text/plain": [
       "<matplotlib.figure.Figure at 0x11ee1c5c0>"
      ]
     },
     "metadata": {},
     "output_type": "display_data"
    }
   ],
   "source": [
    "plt.loglog(KVRR*NRR, r4.real)\n",
    "plt.loglog(KV*N, s4.real)\n",
    "plotlog(1e1,5e-1,-1,xrange=.5)\n",
    "# plotlog(1e1,4e-2,-2,xrange=.5)\n",
    "# plt.xlim([5,20])\n",
    "plt.ylim([1e-2,1])\n",
    "plt.show()"
   ]
  },
  {
   "cell_type": "code",
   "execution_count": 241,
   "metadata": {
    "collapsed": false
   },
   "outputs": [
    {
     "data": {
      "image/png": "[encoded data removed]",
      "text/plain": [
       "<matplotlib.figure.Figure at 0x11a432780>"
      ]
     },
     "metadata": {},
     "output_type": "display_data"
    }
   ],
   "source": [
    "plt.loglog(KV, s4.real)\n",
    "plotlog(1e1,1e-2,-2,xrange=.5)"
   ]
  },
  {
   "cell_type": "code",
   "execution_count": null,
   "metadata": {
    "collapsed": true
   },
   "outputs": [],
   "source": []
  }
 ],
 "metadata": {
  "anaconda-cloud": {},
  "kernelspec": {
   "display_name": "Python [conda root]",
   "language": "python",
   "name": "conda-root-py"
  },
  "language_info": {
   "codemirror_mode": {
    "name": "ipython",
    "version": 3
   },
   "file_extension": ".py",
   "mimetype": "text/x-python",
   "name": "python",
   "nbconvert_exporter": "python",
   "pygments_lexer": "ipython3",
   "version": "3.5.2"
  },
  "latex_envs": {
   "LaTeX_envs_menu_present": true,
   "autocomplete": true,
   "bibliofile": "biblio.bib",
   "cite_by": "apalike",
   "current_citInitial": 1,
   "eqLabelWithNumbers": true,
   "eqNumInitial": 1,
   "hotkeys": {
    "equation": "Ctrl-E",
    "itemize": "Ctrl-I"
   },
   "labels_anchors": false,
   "latex_user_defs": false,
   "report_style_numbering": false,
   "user_envs_cfg": false
  },
  "toc": {
   "colors": {
    "hover_highlight": "#DAA520",
    "running_highlight": "#FF0000",
    "selected_highlight": "#FFD700"
   },
   "moveMenuLeft": true,
   "nav_menu": {
    "height": "12px",
    "width": "252px"
   },
   "navigate_menu": true,
   "number_sections": true,
   "sideBar": true,
   "threshold": 4,
   "toc_cell": false,
   "toc_section_display": "block",
   "toc_window_display": false,
   "widenNotebook": false
  }
 },
 "nbformat": 4,
 "nbformat_minor": 1
}
