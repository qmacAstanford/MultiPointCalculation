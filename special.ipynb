{
 "cells": [
  {
   "cell_type": "markdown",
   "metadata": {},
   "source": [
    "Here are some functions that are useful and have some numerical limits that have been fixed."
   ]
  },
  {
   "cell_type": "code",
   "execution_count": null,
   "metadata": {
    "collapsed": true
   },
   "outputs": [],
   "source": [
    "import numpy as np\n",
    "from numba import jit"
   ]
  },
  {
   "cell_type": "markdown",
   "metadata": {},
   "source": [
    "\\[\n",
    "\\mathrm{expl\\left(x,n\\right)=e^{x}-\\sum_{j=0}^{n-1}\\frac{x^{j}}{j!}}\n",
    "\\]\n",
    "\n",
    "\n",
    "\\[\n",
    "\\mathrm{expl\\left(x,n\\right)=\\sum_{j=n}^{\\infty}\\frac{x^{j}}{j!}}\n",
    "\\]"
   ]
  },
  {
   "cell_type": "code",
   "execution_count": null,
   "metadata": {
    "collapsed": false
   },
   "outputs": [],
   "source": [
    "#@jit(nopython=True)\n",
    "def factorial():\n",
    "    out=int(1)\n",
    "    fact = np.ones(100)\n",
    "    for ii in range(1,100):\n",
    "        out=out*ii\n",
    "        fact[ii] = out\n",
    "    return fact\n",
    "fact=factorial()"
   ]
  },
  {
   "cell_type": "code",
   "execution_count": null,
   "metadata": {
    "collapsed": true
   },
   "outputs": [],
   "source": [
    "@jit(nopython=True)\n",
    "def expl(x,n,maxn=15):\n",
    "    if abs(x)<0.001:\n",
    "        out=0\n",
    "        for ii in range(n,maxn):\n",
    "            out=out+x**ii/float(fact[ii])#float(np.math.factorial(ii))\n",
    "    else:\n",
    "        out=np.exp(x)\n",
    "        for ii in range(0,n):\n",
    "            out=out-x**ii/float(fact[ii])#float(np.math.factorial(ii))\n",
    "    return out"
   ]
  },
  {
   "cell_type": "code",
   "execution_count": null,
   "metadata": {
    "collapsed": false
   },
   "outputs": [],
   "source": [
    "# sequence of integers from first to last\n",
    "# for example seq(2,5)=2,3,4,5\n",
    "@jit(nopython=True)\n",
    "def seq(first,last):\n",
    "    if first<=last:\n",
    "        return np.arange(first,last+1)\n",
    "    else:\n",
    "        return np.arange(first,last-1,-1)"
   ]
  },
  {
   "cell_type": "markdown",
   "metadata": {},
   "source": [
    "\\[\n",
    "f2\\left(j,\\epsilon_{1},\\epsilon_{2},N\\right)\\equiv\\frac{1}{\\left(\\epsilon_{1}-\\epsilon_{2}\\right)}\\left(\\frac{e^{N\\epsilon_{1}}}{\\epsilon_{1}^{j}}-\\frac{e^{N\\epsilon_{2}}}{\\epsilon_{2}^{j}}\\right)\n",
    "\\]\n",
    "\n",
    "\n",
    "This is not numerically well behaved if $\\epsilon_{1}\\approx\\epsilon_{2}$\n",
    "in which case we use:\n",
    "\n",
    "\\[\n",
    "x\\equiv\\frac{\\epsilon_{2}-\\epsilon_{1}}{2},\\ \\ y\\equiv\\frac{\\epsilon_{2}+\\epsilon_{1}}{2}\n",
    "\\]\n",
    "\n",
    "\n",
    "\\[\n",
    "f2=\\begin{cases}\n",
    "\\sum_{n=\\mathrm{even}}^{\\infty}x^{n}\\frac{e^{Ny}}{y^{n+2}}\\sum_{m=0}^{n+1}-\\frac{\\left(-Ny\\right)^{m}}{m!} & \\mathrm{if}\\ j=1\\\\\n",
    "\\sum_{n=\\mathrm{even}}^{\\infty}x^{n}\\frac{e^{Ny}}{y^{n+3}}\\sum_{m=0}^{n+1}-\\frac{\\left(-Ny\\right)^{m}\\left(n+2-m\\right)}{m!} & \\mathrm{if}\\ j=2\\\\\n",
    "\\sum_{n=\\mathrm{even}}^{\\infty}x^{n}\\frac{e^{Ny}}{y^{n+4}}\\sum_{m=0}^{n+1}-\\frac{\\left(-Ny\\right)^{m}\\left(n+3-m\\right)\\left(n+2-m\\right)}{m!} & \\mathrm{if}\\ j=3\n",
    "\\end{cases}\n",
    "\\]\n",
    "\n",
    "\n",
    "if we perform the sum to $\\infty$ this is in principle exact for\n",
    "all imput.\n",
    "\n",
    "In order to determine whether $\\epsilon_{1}\\approx\\epsilon_{2}$ a\n",
    "good method cutoff to use is\n",
    "\n",
    "\\[\n",
    "\\frac{\\left|\\epsilon_{1}-\\epsilon_{2}\\right|}{\\mathrm{min}\\left(\\left|\\epsilon_{1}\\right|,\\left|\\epsilon_{2}\\right|\\right)}=0.001\n",
    "\\]\n"
   ]
  },
  {
   "cell_type": "code",
   "execution_count": null,
   "metadata": {
    "collapsed": true
   },
   "outputs": [],
   "source": [
    "@jit(nopython=True)\n",
    "def f2(j,e1,e2,N):\n",
    "    tol=0.001\n",
    "    nmax=15\n",
    "    tol=10**-15 # How may digits of accuracy \n",
    "    if relDif(e1,e2)<tol:\n",
    "        x=(e2-e1)/2.0\n",
    "        y=(e2+e1)/2.0\n",
    "        if j == 1:\n",
    "            out=0.0\n",
    "            for n in range(0,nmax+1,2):\n",
    "                temp=0.0\n",
    "                for m in seq(0,n+1):\n",
    "                    temp=temp-(-N*y)**m / float(fact[m])\n",
    "                out=out+temp*(x**n)*np.exp(N*y)*(y**(-n-2))\n",
    "                if n>4 and abs(temp) < abs(out)*tol:\n",
    "                    return out\n",
    "        elif j == 2:\n",
    "            out=0.0\n",
    "            for n in range(0,nmax+1,2):\n",
    "                temp=0.0\n",
    "                for m in seq(0,n+1):\n",
    "                    temp=temp-(n+2-m)*(-N*y)**m / float(fact[m])\n",
    "                out=out+temp*(x**n)*np.exp(N*y)*(y**(-n-3))\n",
    "                if n>4 and abs(temp) < abs(out)*tol:\n",
    "                    return out\n",
    "        elif j== 3:\n",
    "            out=0.0\n",
    "            for n in range(0,nmax+1,2):\n",
    "                temp=0.0\n",
    "                for m in seq(0,n+1):\n",
    "                    temp=temp-0.5*(n+3-m)*(n+2-m)*(-N*y)**m / float(fact[m])\n",
    "                out=out+temp*(x**n)*np.exp(N*y)*(y**(-n-4))\n",
    "                if n>4 and abs(temp) < abs(out)*tol:\n",
    "                    return out\n",
    "    else:\n",
    "        out=(np.exp(N*e1)/(e1**j) - np.exp(N*e2)/(e2**j))/(e1-e2)\n",
    "    return out"
   ]
  },
  {
   "cell_type": "code",
   "execution_count": null,
   "metadata": {
    "collapsed": true
   },
   "outputs": [],
   "source": [
    "# Orders a, b, and c such that a is furtest from the other two\n",
    "@jit(nopython=True)\n",
    "def arrange(a,b,c):\n",
    "    ab = abs(a-b)/min(abs(a),abs(b))\n",
    "    bc = abs(b-c)/min(abs(b),abs(c))\n",
    "    ac = abs(a-c)/min(abs(a),abs(c))\n",
    "    if ab <= min(bc,ac):\n",
    "        return (a,b,c)\n",
    "    elif ac <= min(ab,bc):\n",
    "        return (a,c,b)\n",
    "    else:\n",
    "        return (b,c,a)"
   ]
  },
  {
   "cell_type": "code",
   "execution_count": null,
   "metadata": {
    "collapsed": true
   },
   "outputs": [],
   "source": [
    "@jit(nopython=True)\n",
    "def relDif(a,b):\n",
    "    return abs(a-b)/min(abs(a),abs(b))"
   ]
  },
  {
   "cell_type": "markdown",
   "metadata": {},
   "source": [
    "\\[\n",
    "f3\\left(j,\\epsilon_{1},\\epsilon_{2},\\epsilon_{3}\\right)\\equiv\\frac{\\left(\\frac{e^{N\\epsilon_{3}}}{\\epsilon_{3}^{j}}-\\frac{e^{N\\epsilon_{2}}}{\\epsilon_{2}^{j}}\\right)\\epsilon_{1}+\\left(\\frac{e^{N\\epsilon_{1}}}{\\epsilon_{1}^{j}}-\\frac{e^{N\\epsilon_{3}}}{\\epsilon_{3}^{j}}\\right)\\epsilon_{2}+\\left(\\frac{e^{N\\epsilon_{2}}}{\\epsilon_{2}^{j}}-\\frac{e^{N\\epsilon_{1}}}{\\epsilon_{1}^{j}}\\right)\\epsilon_{3}}{\\left(\\epsilon_{1}-\\epsilon_{2}\\right)\\left(\\epsilon_{2}-\\epsilon_{3}\\right)\\left(\\epsilon_{3}-\\epsilon_{1}\\right)}\n",
    "\\]\n",
    "\n",
    "\n",
    "in the even that $\\epsilon_{1}\\approx\\epsilon_{2}\\neq\\epsilon_{3}$\n",
    "we use the alternative calculation method:\n",
    "\n",
    "\\[\n",
    "f3=\\frac{\\epsilon_{3}^{-j}e^{N\\epsilon_{3}}+\\epsilon_{2}\\epsilon_{1}f2\\left(j+1,\\epsilon_{1},\\epsilon_{2},N\\right)-\\epsilon_{3}f2\\left(j,\\epsilon_{1},\\epsilon_{2},N\\right)}{\\left(\\epsilon_{2}-\\epsilon_{3}\\right)\\left(\\epsilon_{3}-\\epsilon_{1}\\right)}\n",
    "\\]\n",
    "\n",
    "\n",
    "and when $\\epsilon_{1}\\approx\\epsilon_{2}\\approx\\epsilon_{3}$ we\n",
    "use the following calculation method:\n",
    "\n",
    "\\[\n",
    "f3=\\begin{cases}\n",
    "\\sum_{k=0}^{\\infty}\\frac{e^{N\\epsilon_{1}}}{\\left(-\\epsilon_{1}\\right)^{k+3}}\\left(\\sum_{m=0}^{k+2}\\frac{\\left(-N\\epsilon_{1}\\right)^{m}}{m!}\\right)\\left(\\sum_{m=0}^{k}\\left(\\epsilon_{2}-\\epsilon_{1}\\right)^{k-m}\\left(\\epsilon_{3}-\\epsilon_{1}\\right)^{m}\\right) & \\mathrm{if\\ }j=1\\\\\n",
    "\\sum_{k=0}^{\\infty}\\frac{\\left(-1\\right)^{k+1}e^{N\\epsilon_{1}}}{\\epsilon_{1}^{k+4}}\\left(\\sum_{m=0}^{k+2}\\left(-N\\epsilon_{1}\\right)^{m}\\frac{\\left(k-m+3\\right)}{m!}\\right)\\left(\\sum_{m=0}^{k}\\left(\\epsilon_{2}-\\epsilon_{1}\\right)^{k-m}\\left(\\epsilon_{3}-\\epsilon_{1}\\right)^{m}\\right) & \\mathrm{if\\ }j=2\n",
    "\\end{cases}\n",
    "\\]\n",
    "\n",
    "\n",
    "This expression works best when $\\epsilon_{1}$ is chosen to be the\n",
    "$\\epsilon$ value furthest from zero. If the sum fails to converge\n",
    "revert to the previous method of calculation.\n",
    "\\end{document}"
   ]
  },
  {
   "cell_type": "code",
   "execution_count": null,
   "metadata": {
    "collapsed": false
   },
   "outputs": [],
   "source": [
    "@jit(nopython=True)\n",
    "def f3(j,eps1,eps2,eps3,N):\n",
    "    tol=0.0001\n",
    "    e1,e2,e3 = arrange(eps1,eps2,eps3)\n",
    "    if relDif(e1,e2) >= tol: # none close to eachother\n",
    "        return ((np.exp(N*e3)/(e3**j) - np.exp(N*e2)/(e2**j))*e1+\\\n",
    "                 (np.exp(N*e1)/(e1**j) - np.exp(N*e3)/(e3**j))*e2+\\\n",
    "                 (np.exp(N*e2)/(e2**j) - np.exp(N*e1)/(e1**j))*e3)/\\\n",
    "                 ((e1-e2)*(e2-e3)*(e3-e1))\n",
    "    elif( max(relDif(e1,e2),relDif(e2,e3),relDif(e3,e1))  <= tol):\n",
    "        # all close to eachother\n",
    "        \n",
    "        # order so that e1 is furthest from zero  \n",
    "        # and e3 is closest to zero\n",
    "        if abs(e1)<1.0:\n",
    "            if abs(e2) >= abs(e1) and abs(e2)>= abs(e3):\n",
    "                e1, e2, e3 = e2, e1, e3\n",
    "            elif abs(e3) >= abs(e1) and abs(e3) >= abs(e2):\n",
    "                e1, e2, e3 = e3, e2, e1\n",
    "            if abs(e2)<abs(e3):\n",
    "                e1, e2, e3 = e1, e3, e2\n",
    "        kmax=20 # How many terms to try for convergence\n",
    "        tol=10**-12 # How may digits of accuracy \n",
    "        if j==1:\n",
    "            out=0.0\n",
    "            for k in range(0,kmax):\n",
    "                prod=np.exp(N*e1)*(-e1)**(-k-3)\n",
    "                summ=0.0\n",
    "                for m in range(0,k+2+1):\n",
    "                    summ=summ+(-N*e1)**m/fact[m]\n",
    "                prod=prod*summ\n",
    "                summ=0.0\n",
    "                for m in range(0,k+1):\n",
    "                    summ=summ+(e2-e1)**(k-m) * (e3-e1)**m\n",
    "                temp=prod*summ\n",
    "                out=out + temp\n",
    "                if k>4 and abs(temp) < abs(out)*tol:\n",
    "                    return out\n",
    "        elif j==2:\n",
    "            out=0.0\n",
    "            for k in range(0,kmax):\n",
    "                prod=-np.exp(N*e1)*(-e1)**(-k-4)\n",
    "                summ=0.0\n",
    "                for m in range(0,k+2+1):\n",
    "                    summ=summ+(-N*e1)**m *(k-m+3)/fact[m]\n",
    "                prod=prod*summ\n",
    "                summ=0.0\n",
    "                for m in range(0,k+1):\n",
    "                    summ=summ+(e2-e1)**(k-m) * (e3-e1)**m\n",
    "                temp=prod*summ\n",
    "                out=out + temp\n",
    "                if k>4 and abs(temp) < abs(out)*tol:\n",
    "                    return out\n",
    "        \n",
    "        # appairantly the series didn't converge\n",
    "        e1,e2,e3 = arrange(e1,e2,e3)\n",
    "        return ((np.exp(N*e3)/(e3**j)) + \\\n",
    "                 e2*e1*f2(j+1,e1,e2,N)-e3*f2(j,e1,e2,N))/\\\n",
    "                 ((e2-e3)*(e3-e1)) \n",
    "                \n",
    "    else: # 1 close to 2 but not to e3          \n",
    "        return ((np.exp(N*e3)/(e3**j)) +\\\n",
    "                 e2*e1*f2(j+1,e1,e2,N)-e3*f2(j,e1,e2,N))/\\\n",
    "                 ((e2-e3)*(e3-e1))"
   ]
  }
 ],
 "metadata": {
  "anaconda-cloud": {},
  "kernelspec": {
   "display_name": "Python [conda root]",
   "language": "python",
   "name": "conda-root-py"
  },
  "language_info": {
   "codemirror_mode": {
    "name": "ipython",
    "version": 3
   },
   "file_extension": ".py",
   "mimetype": "text/x-python",
   "name": "python",
   "nbconvert_exporter": "python",
   "pygments_lexer": "ipython3",
   "version": "3.5.2"
  },
  "latex_envs": {
   "LaTeX_envs_menu_present": true,
   "autocomplete": true,
   "bibliofile": "biblio.bib",
   "cite_by": "apalike",
   "current_citInitial": 1,
   "eqLabelWithNumbers": true,
   "eqNumInitial": 1,
   "hotkeys": {
    "equation": "Ctrl-E",
    "itemize": "Ctrl-I"
   },
   "labels_anchors": false,
   "latex_user_defs": false,
   "report_style_numbering": false,
   "user_envs_cfg": false
  },
  "toc": {
   "colors": {
    "hover_highlight": "#DAA520",
    "running_highlight": "#FF0000",
    "selected_highlight": "#FFD700"
   },
   "moveMenuLeft": true,
   "nav_menu": {
    "height": "12px",
    "width": "252px"
   },
   "navigate_menu": true,
   "number_sections": true,
   "sideBar": true,
   "threshold": 4,
   "toc_cell": false,
   "toc_section_display": "block",
   "toc_window_display": false,
   "widenNotebook": false
  }
 },
 "nbformat": 4,
 "nbformat_minor": 1
}
