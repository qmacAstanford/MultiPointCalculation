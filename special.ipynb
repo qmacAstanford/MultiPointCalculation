{
 "cells": [
  {
   "cell_type": "markdown",
   "metadata": {},
   "source": [
    "Here are some functions that are useful and have some numerical limits that have been fixed."
   ]
  },
  {
   "cell_type": "code",
   "execution_count": 1,
   "metadata": {
    "collapsed": true
   },
   "outputs": [],
   "source": [
    "import numpy as np\n",
    "from numba import jit"
   ]
  },
  {
   "cell_type": "markdown",
   "metadata": {},
   "source": [
    "\\[\n",
    "\\mathrm{expl\\left(x,n\\right)=e^{x}-\\sum_{j=0}^{n-1}\\frac{x^{j}}{j!}}\n",
    "\\]\n",
    "\n",
    "\n",
    "\\[\n",
    "\\mathrm{expl\\left(x,n\\right)=\\sum_{j=n}^{\\infty}\\frac{x^{j}}{j!}}\n",
    "\\]"
   ]
  },
  {
   "cell_type": "code",
   "execution_count": 2,
   "metadata": {
    "collapsed": true
   },
   "outputs": [],
   "source": [
    "def expl(x,n,maxn=15):\n",
    "    if abs(x)<0.001:\n",
    "        out=0\n",
    "        for ii in range(n,maxn):\n",
    "            out=out+x**ii/np.math.factorial(ii)\n",
    "    else:\n",
    "        out=np.exp(x)\n",
    "        for ii in range(0,n):\n",
    "            out=out-x**ii/np.math.factorial(ii) \n",
    "    return out"
   ]
  },
  {
   "cell_type": "code",
   "execution_count": 3,
   "metadata": {
    "collapsed": false
   },
   "outputs": [],
   "source": [
    "# sequence of integers from first to last\n",
    "# for example seq(2,5)=2,3,4,5\n",
    "@jit(nopython=True)\n",
    "def seq(first,last):\n",
    "    if first<=last:\n",
    "        return np.arange(first,last+1)\n",
    "    else:\n",
    "        return np.arange(first,last-1,-1)"
   ]
  },
  {
   "cell_type": "code",
   "execution_count": 4,
   "metadata": {
    "collapsed": true
   },
   "outputs": [],
   "source": [
    "#@jit(nopython=True)\n",
    "def factorial():\n",
    "    out=int(1)\n",
    "    fact = np.ones(26)\n",
    "    for ii in range(1,25+1):\n",
    "        out=out*ii\n",
    "        fact[ii] = out\n",
    "    return fact\n",
    "fact=factorial()"
   ]
  },
  {
   "cell_type": "markdown",
   "metadata": {},
   "source": [
    "\n",
    "\\[\n",
    "\\frac{\\left(\\frac{e^{N\\epsilon_{1}}}{\\epsilon_{1}^{j}}-\\frac{e^{N\\epsilon_{2}}}{\\epsilon_{2}^{j}}\\right)}{\\left(\\epsilon_{1}-\\epsilon_{2}\\right)}\n",
    "\\]"
   ]
  },
  {
   "cell_type": "code",
   "execution_count": 5,
   "metadata": {
    "collapsed": true
   },
   "outputs": [],
   "source": [
    "@jit(nopython=True)\n",
    "def f2(j,e1,e2,N):\n",
    "    tol=0.001\n",
    "    nmax=10\n",
    "    if abs(e2-e1)<tol:\n",
    "        x=(e2-e1)/2\n",
    "        y=(e2+e1)/2\n",
    "        if j == 1:\n",
    "            out=0.0\n",
    "            for n in range(0,nmax+1,2):\n",
    "                temp=0.0\n",
    "                for m in seq(0,n+1):\n",
    "                    temp=temp-(-N*y)**m / fact[m]\n",
    "                out=out+temp*(x**n)*np.exp(N*y)*(y**(-n-2))\n",
    "        elif j == 2:\n",
    "            out=0.0\n",
    "            for n in range(0,nmax+1,2):\n",
    "                temp=0.0\n",
    "                for m in seq(0,n+1):\n",
    "                    temp=temp-(n+2-m)*(-N*y)**m / fact[m]\n",
    "                out=out+temp*(x**n)*np.exp(N*y)*(y**(-n-3))\n",
    "        elif j== 3:\n",
    "            out=0.0\n",
    "            for n in range(0,nmax+1,2):\n",
    "                temp=0.0\n",
    "                for m in seq(0,n+1):\n",
    "                    temp=temp-0.5*(n+3-m)*(n+2-m)*(-N*y)**m / fact[m]\n",
    "                out=out+temp*(x**n)*np.exp(N*y)*(y**(-n-4))\n",
    "    else:\n",
    "        out=(np.exp(N*e1)/(e1**j) - np.exp(N*e2)/(e2**j))/(e1-e2)\n",
    "    return out"
   ]
  },
  {
   "cell_type": "code",
   "execution_count": 6,
   "metadata": {
    "collapsed": true
   },
   "outputs": [],
   "source": [
    "@jit(nopython=True)\n",
    "def arrange(a,b,c):\n",
    "    ab = abs(a-b)\n",
    "    bc = abs(b-c)\n",
    "    ac = abs(a-c)\n",
    "    if ab <= min(bc,ac):\n",
    "        return (a,b,c)\n",
    "    elif ac <= min(ab,bc):\n",
    "        return (a,c,b)\n",
    "    else:\n",
    "        return (b,c,a)\n",
    "        "
   ]
  },
  {
   "cell_type": "markdown",
   "metadata": {},
   "source": [
    "\\[\n",
    "\\frac{\\left(\\frac{e^{N\\epsilon_{3}}}{\\epsilon_{3}^{j}}-\\frac{e^{N\\epsilon_{2}}}{\\epsilon_{2}^{j}}\\right)\\epsilon_{1}+\\left(\\frac{e^{N\\epsilon_{1}}}{\\epsilon_{1}^{j}}-\\frac{e^{N\\epsilon_{3}}}{\\epsilon_{3}^{j}}\\right)\\epsilon_{2}+\\left(\\frac{e^{N\\epsilon_{2}}}{\\epsilon_{2}^{j}}-\\frac{e^{N\\epsilon_{1}}}{\\epsilon_{1}^{j}}\\right)\\epsilon_{3}}{\\left(\\epsilon_{1}-\\epsilon_{2}\\right)\\left(\\epsilon_{2}-\\epsilon_{3}\\right)\\left(\\epsilon_{3}-\\epsilon_{1}\\right)}\n",
    "\\]"
   ]
  },
  {
   "cell_type": "code",
   "execution_count": 13,
   "metadata": {
    "collapsed": false
   },
   "outputs": [],
   "source": [
    "@jit(nopython=True)\n",
    "def f3(j,e1,e2,e3,N):\n",
    "    e1,e2,e3 = arrange(e1,e2,e3)\n",
    "    tol=0.01\n",
    "    if abs(e1-e2) >= tol: # none close to eachother\n",
    "        out=((np.exp(N*e3)/(e3**j) - np.exp(N*e2)/(e2**j))*e1+\\\n",
    "             (np.exp(N*e1)/(e1**j) - np.exp(N*e3)/(e3**j))*e2+\\\n",
    "             (np.exp(N*e2)/(e2**j) - np.exp(N*e1)/(e1**j))*e3)/\\\n",
    "            ((e1-e2)*(e2-e3)*(e3-e1))\n",
    "    elif( max(abs(e1-e2),abs(e2-e3),abs(e3-e1)) <= tol):\n",
    "        # all close to eachother\n",
    "        if j==1:\n",
    "            out=-np.exp(N*e1)*((N*e1)**2 -2*N*e1 +2)/(2*e1**3)\n",
    "        elif j==2:\n",
    "            out=-np.exp(N*e1)*((N*e1)**2 -4*N*e1 +6)/(2*e1**4)\n",
    "    else:\n",
    "        # 1 close to 2 but not to e3\n",
    "        out=((np.exp(N*e3)/(e3**j)) + e2*e1*f2(j+1,e1,e2,N)-e3*f2(j,e1,e2,N))/\\\n",
    "            ((e2-e3)*(e3-e1))\n",
    "    return out"
   ]
  }
 ],
 "metadata": {
  "anaconda-cloud": {},
  "kernelspec": {
   "display_name": "Python [conda root]",
   "language": "python",
   "name": "conda-root-py"
  },
  "language_info": {
   "codemirror_mode": {
    "name": "ipython",
    "version": 3
   },
   "file_extension": ".py",
   "mimetype": "text/x-python",
   "name": "python",
   "nbconvert_exporter": "python",
   "pygments_lexer": "ipython3",
   "version": "3.5.2"
  },
  "latex_envs": {
   "LaTeX_envs_menu_present": true,
   "autocomplete": true,
   "bibliofile": "biblio.bib",
   "cite_by": "apalike",
   "current_citInitial": 1,
   "eqLabelWithNumbers": true,
   "eqNumInitial": 1,
   "hotkeys": {
    "equation": "Ctrl-E",
    "itemize": "Ctrl-I"
   },
   "labels_anchors": false,
   "latex_user_defs": false,
   "report_style_numbering": false,
   "user_envs_cfg": false
  },
  "toc": {
   "colors": {
    "hover_highlight": "#DAA520",
    "running_highlight": "#FF0000",
    "selected_highlight": "#FFD700"
   },
   "moveMenuLeft": true,
   "nav_menu": {
    "height": "12px",
    "width": "252px"
   },
   "navigate_menu": true,
   "number_sections": true,
   "sideBar": true,
   "threshold": 4,
   "toc_cell": false,
   "toc_section_display": "block",
   "toc_window_display": false,
   "widenNotebook": false
  }
 },
 "nbformat": 4,
 "nbformat_minor": 1
}
