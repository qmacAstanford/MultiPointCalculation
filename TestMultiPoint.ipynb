{
 "cells": [
  {
   "cell_type": "code",
   "execution_count": null,
   "metadata": {
    "collapsed": false
   },
   "outputs": [],
   "source": [
    "import numpy as np\n",
    "import WLCgreen as wlc\n",
    "import propagator \n",
    "import special as sp\n",
    "from numba import jit\n",
    "import MultiPoint as mp\n",
    "import imp  # imp.reload(module)\n",
    "\n",
    "import matplotlib.pyplot as plt\n",
    "%matplotlib\n",
    "#%matplotlib inline\n",
    "#import mpld3\n",
    "#mpld3.enable_notebook()"
   ]
  },
  {
   "cell_type": "code",
   "execution_count": 2,
   "metadata": {
    "collapsed": true
   },
   "outputs": [],
   "source": [
    "def plotlog(x, y, alpha, xrange=1, numx=2):\n",
    "    xv = np.logspace(np.log10(x), np.log10(x) + xrange, numx)\n",
    "    C = y / (x**alpha)\n",
    "    yv = C * xv**(alpha)\n",
    "    plt.loglog(xv, yv,'k--')"
   ]
  },
  {
   "cell_type": "markdown",
   "metadata": {},
   "source": [
    "## 2 point"
   ]
  },
  {
   "cell_type": "code",
   "execution_count": 3,
   "metadata": {
    "collapsed": false
   },
   "outputs": [],
   "source": [
    "nlam=3\n",
    "ORDEig=25\n",
    "d=3\n",
    "mu=0\n",
    "\n",
    "nkpts=500\n",
    "K=np.logspace(-5,7,nkpts)\n",
    "props=[] # list of propagators at each K\n",
    "for ii in range(0,nkpts):\n",
    "    name = ii\n",
    "    props.append(propagator.propagator(name,K[ii],mu,nlam=nlam))"
   ]
  },
  {
   "cell_type": "markdown",
   "metadata": {
    "heading_collapsed": true
   },
   "source": [
    "### AA"
   ]
  },
  {
   "cell_type": "code",
   "execution_count": 4,
   "metadata": {
    "collapsed": false,
    "hidden": true
   },
   "outputs": [],
   "source": [
    "fa=0.5\n",
    "N=[0.1,1.0,10,100,1000,10000,100000]\n",
    "ana=np.zeros((nkpts,len(N)),dtype=type(1+1j))\n",
    "dub=np.zeros((nkpts,len(N)),dtype=type(1+1j))\n",
    "for ii in range(0,nkpts):\n",
    "    lam=0\n",
    "    lam0=0\n",
    "    for nn in range(0,len(N)):\n",
    "        ana[ii,nn]=mp.IAAresum(N[nn],fa,lam0,lam,props[ii])\n",
    "        dub[ii,nn]=mp.IAAexplicit(N[nn],fa,lam0,lam,props[ii])"
   ]
  },
  {
   "cell_type": "code",
   "execution_count": 6,
   "metadata": {
    "collapsed": false,
    "hidden": true
   },
   "outputs": [],
   "source": [
    "fig, ax = plt.subplots()\n",
    "for ii in range(0,len(N)):\n",
    "    col=float(ii)/len(N)\n",
    "    ax.loglog(K.real*np.sqrt(N[ii]),abs(ana[:,ii])/(N[ii]**2),\\\n",
    "                color=[col, 0.0, 1-col],label='resum '+str(N[ii]))\n",
    "    #ax.loglog(K.real,abs(ana[:,ii]),\\\n",
    "    #            color=[col, 0.0, 1-col],label='resum '+str(N[ii]))\n",
    "    ax.loglog(K.real*np.sqrt(N[ii]),abs(dub[:,ii])/(N[ii]**2),'--',\\\n",
    "                color=[col, 0.0, 1-col],label='expl '+str(N[ii]))\n",
    "    #ax.loglog(K.real,abs(dub[:,ii]),'--',\\\n",
    "    #            color=[col, 0.0, 1-col],label='expl '+str(N[ii]))\n",
    "ax.legend(bbox_to_anchor=(1.05,1),loc=2)\n",
    "plotlog(2e4,1e-3,-1) \n",
    "ax.set_xlabel('K')\n",
    "ax.set_title('AA')\n",
    "ax.set_ylim([10**-8,10**10])\n",
    "plt.show()"
   ]
  },
  {
   "cell_type": "code",
   "execution_count": null,
   "metadata": {
    "collapsed": false,
    "hidden": true
   },
   "outputs": [],
   "source": [
    "N=[0.01,0.1,1.0,10,100]\n",
    "ana=np.zeros((nkpts,len(N)),dtype=type(1+1j))\n",
    "dub=np.zeros((nkpts,len(N)),dtype=type(1+1j))\n",
    "fa=0.5\n",
    "for ii in range(0,nkpts):\n",
    "    lam=0\n",
    "    lam0=0\n",
    "    for nn in range(0,len(N)):\n",
    "        ana[ii,nn]=mp.IABresum(N[nn],fa,lam0,lam,props[ii])\n",
    "        dub[ii,nn]=mp.IABexplicit(N[nn],fa,lam0,lam,props[ii])"
   ]
  },
  {
   "cell_type": "code",
   "execution_count": null,
   "metadata": {
    "collapsed": false,
    "hidden": true
   },
   "outputs": [],
   "source": [
    "fig, ax = plt.subplots()\n",
    "for ii in range(0,len(N)):\n",
    "    col=float(ii)/len(N)\n",
    "    ax.loglog(K.real,abs(ana[:,ii]),\\\n",
    "                color=[col, 0.0, 1-col],label='resum '+str(N[ii]))\n",
    "    ax.loglog(K.real,abs(dub[:,ii]),'--',\\\n",
    "                color=[col, 0.0, 1-col],label='expl '+str(N[ii]))\n",
    "ax.legend(bbox_to_anchor=(1.05,1),loc=2)\n",
    "plotlog(2e4,1e-7,-2)\n",
    "ax.set_xlabel('K')\n",
    "ax.set_title('AB')\n",
    "ax.set_ylim([10**-15,100000])\n",
    "plt.show()"
   ]
  },
  {
   "cell_type": "markdown",
   "metadata": {},
   "source": [
    "## 3 Point"
   ]
  },
  {
   "cell_type": "code",
   "execution_count": 48,
   "metadata": {
    "collapsed": false
   },
   "outputs": [],
   "source": [
    "nlam=5\n",
    "ORDEig=3\n",
    "d=3\n",
    "mu=0\n",
    "\n",
    "nkpts=200\n",
    "K=np.logspace(-4,7,nkpts)\n",
    "props1=[] # list of propagators at each K\n",
    "props2=[] # list of propagators at each K\n",
    "for ii in range(0,nkpts):\n",
    "\n",
    "    name=ii\n",
    "    props1.append( propagator.propagator(name,K[ii],mu,nlam=nlam) )\n",
    "\n",
    "    name=ii+0.5\n",
    "    props2.append( propagator.propagator(name,K[ii],mu,nlam=nlam) )"
   ]
  },
  {
   "cell_type": "markdown",
   "metadata": {},
   "source": [
    "#### AAA"
   ]
  },
  {
   "cell_type": "code",
   "execution_count": 49,
   "metadata": {
    "collapsed": true
   },
   "outputs": [],
   "source": [
    "def IAAA(N,fa,lam0_1,lam_1,lam0_2,lam_2,p1,p2):\n",
    "    out=0.0+0.0j\n",
    "        \n",
    "    G2, overlapping_other_l2=p2.G_others(lam0_2,lam_2,p1)\n",
    "    for l1 in range(abs(p1.mu),p1.ORDEig):\n",
    "        eps1=p1.eig[l1]\n",
    "        R1=p1.res[l1][lam0_1,lam_1]\n",
    "        if overlapping_other_l2[l1]==-1: # not overlapping\n",
    "            out=out+(eps1**-2)*np.exp(eps1*N*fa)*R1*G2[l1]\n",
    "        else: # overlapping\n",
    "            l2=overlapping_other_l2[l1]\n",
    "            eps2=p2.eig[l2]\n",
    "            R2=p2.res[l2][lam0_2,lam_2]\n",
    "            \n",
    "            temp=0.0\n",
    "            temp=temp + R1*R2*sp.f2(2,eps1,eps2,N*fa)\n",
    "            temp=temp + (eps1**-2)*np.exp(eps1*N*fa)*R1*p2.a[l2][lam0_2,lam_2]\n",
    "            temp=temp + (eps2**-2)*np.exp(eps2*N*fa)*R2*p1.a[l1][lam0_1,lam_1]\n",
    "            out=out+temp\n",
    "            print('alligned l1,',l1,'l2',l2,'t1',\\\n",
    "                  R1*R2*sp.f2(2,eps1,eps2,N*fa))\n",
    "            print('alligned l1,',l1,'l2',l2,'t2',\\\n",
    "                  (eps1**-2)*np.exp(eps1*N*fa)*R1*p2.a[l2][lam0_2,lam_2])\n",
    "            print('alligned l1,',l1,'l2',l2,'t3',\\\n",
    "                  (eps2**-2)*np.exp(eps2*N*fa)*R2*p1.a[l1][lam0_1,lam_1])\n",
    "        \n",
    "    G1, overlapping_other_l1=p1.G_others(lam0_1,lam_1,p2)\n",
    "    for l2 in range(abs(p2.mu),p2.ORDEig):\n",
    "        if overlapping_other_l1[l2]!=-1:\n",
    "            continue\n",
    "        eps2=p2.eig[l2]\n",
    "        R2=p2.res[l2][lam0_1,lam_1]\n",
    "        out=out+(eps2**-2)*np.exp(eps2*N*fa)*R2*G1[l2]\n",
    "       \n",
    "    print(overlapping_other_l2)\n",
    "    n_overlap1=sum(-overlapping_other_l1[overlapping_other_l1==-1])\n",
    "    n_overlap2=sum(-overlapping_other_l2[overlapping_other_l2==-1])\n",
    "    if (n_overlap1!=n_overlap2):\n",
    "        print('n_overlap1',n_overlap1)\n",
    "        print('n_overlap2',n_overlap2)\n",
    "        print(np.array([overlapping_other_l1,overlapping_other_l2]))\n",
    "        raise Exception('Non-equal number of overlaps')\n",
    "        \n",
    "    print('partial sum',out)\n",
    "    out=out+N*fa*p2.G0[lam0_2,lam_2]*p1.G0[lam0_1,lam_1]\n",
    "    out=out+p2.dG0[lam0_2,lam_2]*p1.G0[lam0_1,lam_1]\n",
    "    out=out+p1.dG0[lam0_1,lam_1]*p2.G0[lam0_2,lam_2]\n",
    "    print('p1.G0',p1.G0[lam0_1,lam_1])\n",
    "    print('N term',N*fa*p2.G0[lam0_2,lam_2]*p1.G0[lam0_1,lam_1])\n",
    "    print('21 term',p2.dG0[lam0_2,lam_2]*p1.G0[lam0_1,lam_1])\n",
    "    print('12 term',p1.dG0[lam0_1,lam_1]*p2.G0[lam0_2,lam_2])\n",
    "    print('final sum',out)\n",
    "    return out"
   ]
  },
  {
   "cell_type": "code",
   "execution_count": 55,
   "metadata": {
    "collapsed": false,
    "hide_input": false
   },
   "outputs": [],
   "source": [
    "fa=0.5\n",
    "N=[0.01,0.1,1.0,10,100]\n",
    "ana=np.zeros((nkpts,len(N)),dtype=type(1+1j))\n",
    "dub=np.zeros((nkpts,len(N)),dtype=type(1+1j))\n",
    "for ii in range(0,nkpts):\n",
    "    lam_1=0\n",
    "    lam0_1=1\n",
    "    lam_2=1\n",
    "    lam0_2=0\n",
    "    for nn in range(0,len(N)):\n",
    "        #IAAAexplicit(N,fa,lam0_1,lam_1,lam0_2,lam_2,p1,p2)\n",
    "        ana[ii,nn]=mp.IAAA(N[nn],fa,\\\n",
    "                                lam0_1,lam_1,\\\n",
    "                                lam0_2,lam_2,\\\n",
    "                                props1[ii],props2[ii])\n",
    "        dub[ii,nn]=mp.IAAAexplicit(N[nn],fa,\\\n",
    "                                    lam0_1,lam_1,\\\n",
    "                                    lam0_2,lam_2,\\\n",
    "                                    props1[ii],props2[ii])"
   ]
  },
  {
   "cell_type": "code",
   "execution_count": 56,
   "metadata": {
    "collapsed": false
   },
   "outputs": [
    {
     "name": "stdout",
     "output_type": "stream",
     "text": [
      "N 1.0\n",
      "K 63.6824994472\n",
      "alligned l1, 0 l2 0 t1 (-8.58452055182e-08-2.5720729407e-07j)\n",
      "alligned l1, 0 l2 0 t2 (1.26177201337e-09-2.07191250201e-08j)\n",
      "alligned l1, 0 l2 0 t3 (1.26177201337e-09-2.07191250201e-08j)\n",
      "alligned l1, 1 l2 1 t1 (-8.58452055182e-08+2.5720729407e-07j)\n",
      "alligned l1, 1 l2 1 t2 (1.26177201337e-09+2.07191250201e-08j)\n",
      "alligned l1, 1 l2 1 t3 (1.26177201337e-09+2.07191250201e-08j)\n",
      "alligned l1, 2 l2 2 t1 (-1.39680421503e-10+5.74080866088e-11j)\n",
      "alligned l1, 2 l2 2 t2 (-2.0340306843e-11-2.11779872277e-11j)\n",
      "alligned l1, 2 l2 2 t3 (-2.0340306843e-11-2.11779872277e-11j)\n",
      "alligned l1, 3 l2 3 t1 (-1.39680421503e-10-5.74080866088e-11j)\n",
      "alligned l1, 3 l2 3 t2 (-2.0340306843e-11+2.11779872277e-11j)\n",
      "alligned l1, 3 l2 3 t3 (-2.0340306843e-11+2.11779872277e-11j)\n",
      "alligned l1, 4 l2 4 t1 (7.158080134e-14+1.24436802917e-13j)\n",
      "alligned l1, 4 l2 4 t2 (-1.85549621063e-14+3.74629844115e-14j)\n",
      "alligned l1, 4 l2 4 t3 (-1.85549621063e-14+3.74629844115e-14j)\n",
      "alligned l1, 5 l2 5 t1 (7.158080134e-14-1.24436802917e-13j)\n",
      "alligned l1, 5 l2 5 t2 (-1.85549621063e-14-3.74629844115e-14j)\n",
      "alligned l1, 5 l2 5 t3 (-1.85549621063e-14-3.74629844115e-14j)\n",
      "alligned l1, 6 l2 6 t1 (1.49905686941e-16-1.23215546324e-16j)\n",
      "alligned l1, 6 l2 6 t2 (6.4489521697e-17+9.62057596842e-19j)\n",
      "alligned l1, 6 l2 6 t3 (6.4489521697e-17+9.62057596842e-19j)\n",
      "alligned l1, 7 l2 7 t1 (1.49905686941e-16+1.23215546324e-16j)\n",
      "alligned l1, 7 l2 7 t2 (6.4489521697e-17-9.62057596841e-19j)\n",
      "alligned l1, 7 l2 7 t3 (6.4489521697e-17-9.62057596841e-19j)\n",
      "alligned l1, 8 l2 8 t1 (-1.69015554461e-22-2.5599674959e-35j)\n",
      "alligned l1, 8 l2 8 t2 (-1.93551159819e-22-2.51721191256e-35j)\n",
      "alligned l1, 8 l2 8 t3 (-1.93551159819e-22-2.51721274312e-35j)\n",
      "alligned l1, 9 l2 9 t1 (-1.06693843387e-30-1.90738037996e-41j)\n",
      "alligned l1, 9 l2 9 t2 (4.36663095012e-29+5.83813802726e-40j)\n",
      "alligned l1, 9 l2 9 t3 (4.36663095012e-29+5.83813802726e-40j)\n",
      "alligned l1, 10 l2 10 t1 (-1.07677928099e-39-1.83803800891e-48j)\n",
      "alligned l1, 10 l2 10 t2 (-4.21145412611e-36-5.39180059908e-45j)\n",
      "alligned l1, 10 l2 10 t3 (-4.21145412611e-36-5.39180059908e-45j)\n",
      "alligned l1, 11 l2 11 t1 (-2.25468600279e-49-7.23657180475e-58j)\n",
      "alligned l1, 11 l2 11 t2 (1.22623571658e-43+2.95176640129e-52j)\n",
      "alligned l1, 11 l2 11 t3 (1.22623571658e-43+2.95176640129e-52j)\n",
      "alligned l1, 12 l2 12 t1 (-9.8452181623e-60-1.58123934863e-65j)\n",
      "alligned l1, 12 l2 12 t2 (-1.07033543028e-51-1.28929837215e-57j)\n",
      "alligned l1, 12 l2 12 t3 (-1.07033543028e-51-1.28929837215e-57j)\n",
      "alligned l1, 13 l2 13 t1 (-6.03668924267e-71+1.80930301864e-85j)\n",
      "alligned l1, 13 l2 13 t2 (1.26304944404e-60-2.41397893247e-64j)\n",
      "alligned l1, 13 l2 13 t3 (1.26304944404e-60-2.41397893344e-64j)\n",
      "alligned l1, 14 l2 14 t1 (-1.30561790022e-82-1.00049414611e-95j)\n",
      "alligned l1, 14 l2 14 t2 (-1.55282251528e-72+4.68008930779e-73j)\n",
      "alligned l1, 14 l2 14 t3 (-1.55282251528e-72+4.68008930779e-73j)\n",
      "alligned l1, 15 l2 15 t1 (-6.13975842898e-95+5.74292962177e-108j)\n",
      "alligned l1, 15 l2 15 t2 (-1.93012165467e-89-2.03321347084e-89j)\n",
      "alligned l1, 15 l2 15 t3 (-1.93012165467e-89-2.03321347084e-89j)\n",
      "alligned l1, 16 l2 16 t1 (-6.4590698809e-108-1.17119963451e-121j)\n",
      "alligned l1, 16 l2 16 t2 (-2.25275921265e-108+1.37076637712e-109j)\n",
      "alligned l1, 16 l2 16 t3 (-2.25275921265e-108+1.37076637712e-109j)\n",
      "alligned l1, 17 l2 17 t1 (-1.56049390826e-121+9.65993569596e-135j)\n",
      "alligned l1, 17 l2 17 t2 (1.29337829787e-129-1.205196467e-130j)\n",
      "alligned l1, 17 l2 17 t3 (1.29337829787e-129-1.205196467e-130j)\n",
      "alligned l1, 18 l2 18 t1 (-8.86908844667e-136-1.49916914745e-148j)\n",
      "alligned l1, 18 l2 18 t2 (3.76762966011e-147+2.14405449361e-147j)\n",
      "alligned l1, 18 l2 18 t3 (3.76762966011e-147+2.14405449361e-147j)\n",
      "alligned l1, 19 l2 19 t1 (-1.2122673661e-150+1.62095525115e-163j)\n",
      "alligned l1, 19 l2 19 t2 (-6.62584818854e-168-2.82704386296e-169j)\n",
      "alligned l1, 19 l2 19 t3 (-6.62584818854e-168-2.82704386296e-169j)\n",
      "alligned l1, 20 l2 20 t1 (-4.06629730428e-166-2.42550789835e-179j)\n",
      "alligned l1, 20 l2 20 t2 (5.09323913012e-192+9.45123031748e-193j)\n",
      "alligned l1, 20 l2 20 t3 (5.09323913012e-192+9.45123031748e-193j)\n",
      "alligned l1, 21 l2 21 t1 (-3.40986029897e-182-3.7540657756e-197j)\n",
      "alligned l1, 21 l2 21 t2 (-6.98533566714e-216-3.27063497693e-230j)\n",
      "alligned l1, 21 l2 21 t3 (-6.98533566714e-216-3.26900314875e-230j)\n",
      "alligned l1, 22 l2 22 t1 (-7.27134705472e-199-6.67952408665e-213j)\n",
      "alligned l1, 22 l2 22 t2 (3.98014810938e-239+6.55029432498e-253j)\n",
      "alligned l1, 22 l2 22 t3 (3.98014810938e-239+6.55106611903e-253j)\n",
      "alligned l1, 23 l2 23 t1 (-4.00546476244e-216-6.32929826761e-230j)\n",
      "alligned l1, 23 l2 23 t2 (-2.47589804533e-262-5.97139428268e-276j)\n",
      "alligned l1, 23 l2 23 t3 (-2.47589804533e-262-5.97135955581e-276j)\n",
      "alligned l1, 24 l2 24 t1 (-5.78288147387e-234-5.59548585492e-248j)\n",
      "alligned l1, 24 l2 24 t2 (7.16990138791e-284+1.00159426776e-297j)\n",
      "alligned l1, 24 l2 24 t3 (7.16990138791e-284+1.00159524936e-297j)\n",
      "[ 0  1  2  3  4  5  6  7  8  9 10 11 12 13 14 15 16 17 18 19 20 21 22 23 24]\n",
      "partial sum (-1.67003975554e-07-1.10048628318e-20j)\n",
      "p1.G0 0.0271982227865j\n",
      "N term (-0.000369871661373+0j)\n",
      "21 term (1.8368014045e-05-0j)\n",
      "12 term (1.8368014045e-05+0j)\n",
      "final sum (-0.000333302637259-1.10048628318e-20j)\n"
     ]
    }
   ],
   "source": [
    "nn=2\n",
    "ii=105\n",
    "print('N',N[nn])\n",
    "print('K',K[ii])\n",
    "ana[ii,nn]=IAAA(N[nn],fa,\\\n",
    "                        lam0_1,lam_1,\\\n",
    "                        lam0_2,lam_2,\\\n",
    "                        props1[ii],props2[ii])"
   ]
  },
  {
   "cell_type": "code",
   "execution_count": 57,
   "metadata": {
    "collapsed": false,
    "scrolled": true
   },
   "outputs": [
    {
     "name": "stdout",
     "output_type": "stream",
     "text": [
      "0 , 1 , 0\n"
     ]
    }
   ],
   "source": [
    "fig, ax = plt.subplots()\n",
    "for ii in range(0,len(N)):\n",
    "    col=float(ii)/len(N)\n",
    "    ax.loglog(K.real,abs(ana[:,ii].real),\\\n",
    "                color=[col, 0.0, 1-col],label='resum '+str(N[ii]))\n",
    "    ax.loglog(K.real,abs(dub[:,ii]),':',\\\n",
    "                color=[col, 0.0, 1-col],label='expl '+str(N[ii]))\n",
    "ax.legend()#bbox_to_anchor=(1.05,1),loc=2)\n",
    "plotlog(2e4,1e-5,-2)\n",
    "ax.set_xlabel('K')\n",
    "ax.set_title('A'+str(lam_1)+',A'+str(lam_2)+',A'+str(lam0_2))\n",
    "ax.set_ylim([10**-18,10**15])\n",
    "print(lam_1,',',lam_2,',',lam0_2)\n",
    "plt.show()"
   ]
  },
  {
   "cell_type": "code",
   "execution_count": null,
   "metadata": {
    "collapsed": true
   },
   "outputs": [],
   "source": []
  },
  {
   "cell_type": "code",
   "execution_count": null,
   "metadata": {
    "collapsed": true
   },
   "outputs": [],
   "source": [
    "nl=5\n",
    "out=np.zeros((nkpts,len(N)),dtype=type(1+1j))\n",
    "for ii in range(0,nkpts):\n",
    "    for l in range(0,(nl)):\n",
    "        out[ii,l]=props1[ii].res[l][lam0_1,lam_1]"
   ]
  },
  {
   "cell_type": "code",
   "execution_count": null,
   "metadata": {
    "collapsed": false
   },
   "outputs": [],
   "source": [
    "fig, ax = plt.subplots()\n",
    "for ii in range(0,nl):\n",
    "    col=float(ii)/nl\n",
    "    ax.loglog(K.real,abs(out[:,ii].real),\\\n",
    "                color=[col, 0.0, 1-col],label='resum '+str(N[ii]))\n",
    "ax.legend(bbox_to_anchor=(1.05,1),loc=2)\n",
    "ax.set_xlabel('K')\n",
    "ax.set_title('res')\n",
    "print('lam',lam_1,'lam0',lam_0)\n",
    "ax.set_ylim([10**-25,10])\n",
    "plt.show()"
   ]
  },
  {
   "cell_type": "code",
   "execution_count": null,
   "metadata": {
    "collapsed": false
   },
   "outputs": [],
   "source": [
    "nl=5\n",
    "out=np.zeros((nkpts,len(N),nl),dtype=type(1+1j))\n",
    "for ii in range(0,nkpts):\n",
    "    for nn in range(0,len(N)):\n",
    "        for l in range(0,(nl)):\n",
    "            out[ii,nn,l]=props1[ii].eig[l]"
   ]
  },
  {
   "cell_type": "code",
   "execution_count": null,
   "metadata": {
    "collapsed": false
   },
   "outputs": [],
   "source": [
    "fig, ax = plt.subplots()\n",
    "for ii in range(0,nl):\n",
    "    col=float(ii)/nl\n",
    "    ax.loglog(K.real,abs(out[:,0,ii].real),\\\n",
    "                color=[col, 0.0, 1-col],label='resum '+str(N[ii]))\n",
    "ax.legend(bbox_to_anchor=(1.05,1),loc=2)\n",
    "ax.set_xlabel('K')\n",
    "ax.set_title('eig')\n",
    "\n",
    "plt.show()"
   ]
  },
  {
   "cell_type": "markdown",
   "metadata": {
    "heading_collapsed": true
   },
   "source": [
    "#### ABB"
   ]
  },
  {
   "cell_type": "code",
   "execution_count": null,
   "metadata": {
    "collapsed": false,
    "hidden": true
   },
   "outputs": [],
   "source": [
    "N=[0.01,0.1,1.0,10,100]\n",
    "ana=np.zeros((nkpts,len(N)),dtype=type(1+1j))\n",
    "dub=np.zeros((nkpts,len(N)),dtype=type(1+1j))\n",
    "fa=0.4466\n",
    "for ii in range(0,nkpts):\n",
    "    lam_1=0\n",
    "    lam0_1=0\n",
    "    lam_2=0\n",
    "    lam0_2=0\n",
    "    for nn in range(0,len(N)):\n",
    "        ana[ii,nn]=mp.IABBresum(N[nn],fa,\\\n",
    "                                lam0_1,lam_1,\\\n",
    "                                lam0_2,lam_2,\\\n",
    "                                props1[ii],props2[ii])\n",
    "        #dub[ii,nn]=IAAAexplicit(N[nn],lam0,lam,props1[ii],props2[ii])"
   ]
  },
  {
   "cell_type": "code",
   "execution_count": null,
   "metadata": {
    "collapsed": false,
    "hidden": true
   },
   "outputs": [],
   "source": [
    "fig, ax = plt.subplots()\n",
    "for ii in range(0,len(N)):\n",
    "    col=float(ii)/len(N)\n",
    "    ax.loglog(K.real,abs(ana[:,ii]),\\\n",
    "                color=[col, 0.0, 1-col],label='resum '+str(N[ii]))\n",
    "    #ax.loglog(K.real,abs(dub[:,ii]),'--',\\\n",
    "    #            color=[col, 0.0, 1-col],label='expl '+str(N[ii]))\n",
    "ax.legend(bbox_to_anchor=(1.05,1),loc=2)\n",
    "plotlog(2e4,1e-9,-3)\n",
    "ax.set_xlabel('K')\n",
    "ax.set_title('ABB')\n",
    "ax.set_ylim([10**-18,10**15])\n",
    "plt.show()"
   ]
  },
  {
   "cell_type": "markdown",
   "metadata": {},
   "source": [
    "## 4 point"
   ]
  },
  {
   "cell_type": "code",
   "execution_count": null,
   "metadata": {
    "collapsed": false,
    "scrolled": true
   },
   "outputs": [],
   "source": [
    "nlam=5\n",
    "ORDEig=25\n",
    "d=3\n",
    "mu1=0\n",
    "mu2=1\n",
    "mu3=0\n",
    "\n",
    "nkpts=100\n",
    "K=np.logspace(-2,5,nkpts)\n",
    "props1=[] # list of propagators at each K\n",
    "props2=[] # list of propagators at each K\n",
    "props3=[] # list of propagators at each K\n",
    "for ii in range(0,nkpts):\n",
    "\n",
    "    name=ii\n",
    "    props1.append( propagator.propagator(name,1.0*K[ii],mu1,nlam=nlam) )\n",
    "\n",
    "    name=ii+0.5\n",
    "    props2.append( propagator.propagator(name,2.0*K[ii],mu2,nlam=nlam) )\n",
    "    \n",
    "    name=ii+0.25\n",
    "    props3.append( propagator.propagator(name,1.0*K[ii],mu3,nlam=nlam) )"
   ]
  },
  {
   "cell_type": "code",
   "execution_count": null,
   "metadata": {
    "collapsed": false
   },
   "outputs": [],
   "source": [
    "N=[0.001,0.01,0.1,1.0,10,100,1000]\n",
    "ana=np.zeros((nkpts,len(N)),dtype=type(1+1j))\n",
    "dub=np.zeros((nkpts,len(N)),dtype=type(1+1j))\n",
    "fa=0.4466\n",
    "for ii in range(0,nkpts):\n",
    "    lam_1=0\n",
    "    lam0_1=2\n",
    "    lam_2=2\n",
    "    lam0_2=1    \n",
    "    lam_3=1\n",
    "    lam0_3=0\n",
    "    \n",
    "    for nn in range(0,len(N)):\n",
    "        ana[ii,nn]=mp.IAAAAresum(N[nn],fa,\\\n",
    "                                 lam0_1,lam_1,\\\n",
    "                                 lam0_2,lam_2,\\\n",
    "                                 lam0_3,lam_3,\\\n",
    "                                 props1[ii],props2[ii],props3[ii])\n",
    "        if np.isnan(ana[ii,nn]):\n",
    "            print('Nan Found')\n",
    "        #dub[ii,nn]=mp.IAAAAexplicit(N[nn],fa,\\\n",
    "        #                         lam0_1,lam_1,\\\n",
    "        #                         lam0_2,lam_2,\\\n",
    "        #                         lam0_3,lam_3,\\\n",
    "        #                         props1[ii],props2[ii],props3[ii])"
   ]
  },
  {
   "cell_type": "code",
   "execution_count": null,
   "metadata": {
    "collapsed": false
   },
   "outputs": [],
   "source": [
    "fig, ax = plt.subplots()\n",
    "for ii in range(0,len(N)):\n",
    "    col=float(ii)/len(N)\n",
    "    ax.loglog(K.real,ana[:,ii].real,'-',\\\n",
    "                color=[col, 0.0, 1-col],label='resum '+str(N[ii]))\n",
    "    ax.loglog(K.real,-ana[:,ii].real,'--',\\\n",
    "                color=[col, 0.0, 1-col],label='resum '+str(N[ii]))\n",
    "    #ax.loglog(K.real,-dub[:,ii].real,':',\\\n",
    "    #            color=[col, 0.0, 1-col],label='expl '+str(N[ii]))\n",
    "#ax.legend(bbox_to_anchor=(1.05,1),loc=2)\n",
    "#ax.legend(bbox_to_anchor=(1.05,1))\n",
    "plotlog(2e3,1e-4,-1)\n",
    "plotlog(2e3,1e-5,-2)\n",
    "plotlog(2e3,1e-6,-3)\n",
    "plotlog(2e3,1e-7,-4)\n",
    "ax.set_xlabel('K')\n",
    "ax.set_title('AAAA')\n",
    "ax.set_ylim([10**-18,10**15])\n",
    "plt.show()"
   ]
  },
  {
   "cell_type": "code",
   "execution_count": null,
   "metadata": {
    "collapsed": true
   },
   "outputs": [],
   "source": []
  }
 ],
 "metadata": {
  "anaconda-cloud": {},
  "kernelspec": {
   "display_name": "Python [conda root]",
   "language": "python",
   "name": "conda-root-py"
  },
  "language_info": {
   "codemirror_mode": {
    "name": "ipython",
    "version": 3
   },
   "file_extension": ".py",
   "mimetype": "text/x-python",
   "name": "python",
   "nbconvert_exporter": "python",
   "pygments_lexer": "ipython3",
   "version": "3.5.2"
  },
  "latex_envs": {
   "LaTeX_envs_menu_present": true,
   "autocomplete": true,
   "bibliofile": "biblio.bib",
   "cite_by": "apalike",
   "current_citInitial": 1,
   "eqLabelWithNumbers": true,
   "eqNumInitial": 1,
   "hotkeys": {
    "equation": "Ctrl-E",
    "itemize": "Ctrl-I"
   },
   "labels_anchors": false,
   "latex_user_defs": false,
   "report_style_numbering": false,
   "user_envs_cfg": false
  },
  "toc": {
   "colors": {
    "hover_highlight": "#DAA520",
    "running_highlight": "#FF0000",
    "selected_highlight": "#FFD700"
   },
   "moveMenuLeft": true,
   "nav_menu": {
    "height": "86px",
    "width": "252px"
   },
   "navigate_menu": true,
   "number_sections": true,
   "sideBar": true,
   "threshold": 4,
   "toc_cell": false,
   "toc_section_display": "block",
   "toc_window_display": false,
   "widenNotebook": false
  }
 },
 "nbformat": 4,
 "nbformat_minor": 1
}
