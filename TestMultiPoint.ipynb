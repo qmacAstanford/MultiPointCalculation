{
 "cells": [
  {
   "cell_type": "code",
<<<<<<< HEAD
   "execution_count": null,
=======
   "execution_count": 9,
>>>>>>> f1b823ad0db0bee9a2141285418f55782e58ac84
   "metadata": {
    "collapsed": true
   },
   "outputs": [],
   "source": [
    "import numpy as np\n",
    "import WLCgreen as wlc\n",
    "import propagator \n",
    "import special as sp\n",
    "from numba import jit\n",
    "import MultiPoint as mp\n",
    "import imp  # imp.reload(module)\n",
    "\n",
    "import matplotlib.pyplot as plt\n",
    "%matplotlib inline\n",
    "# import mpld3\n",
    "# mpld3.enable_notebook()"
   ]
  },
  {
   "cell_type": "code",
<<<<<<< HEAD
   "execution_count": null,
=======
   "execution_count": 10,
>>>>>>> f1b823ad0db0bee9a2141285418f55782e58ac84
   "metadata": {
    "collapsed": true
   },
   "outputs": [],
   "source": [
    "def plotlog(x, y, alpha, xrange=1, numx=2):\n",
    "    xv = np.logspace(np.log10(x), np.log10(x) + xrange, numx)\n",
    "    C = y / (x**alpha)\n",
    "    yv = C * xv**(alpha)\n",
    "    plt.loglog(xv, yv,'k--')"
   ]
  },
  {
   "cell_type": "markdown",
   "metadata": {
    "heading_collapsed": true
   },
   "source": [
    "## 2 point"
   ]
  },
  {
   "cell_type": "code",
   "execution_count": null,
   "metadata": {
    "collapsed": true,
    "hidden": true
   },
   "outputs": [],
   "source": [
    "nlam=1\n",
    "ORDEig=25\n",
    "d=3\n",
    "mu=0\n",
    "\n",
    "nkpts=100\n",
    "K=np.logspace(-5,7,nkpts)\n",
    "props=[] # list of propagators at each K\n",
    "for ii in range(0,nkpts):\n",
    "    name = ii\n",
    "    props.append(propagator.propagator(name,K[ii],mu,nlam=nlam))"
   ]
  },
  {
   "cell_type": "markdown",
   "metadata": {
    "hidden": true
   },
   "source": [
    "### AA"
   ]
  },
  {
   "cell_type": "code",
   "execution_count": null,
   "metadata": {
    "collapsed": true,
    "hidden": true
   },
   "outputs": [],
   "source": [
    "fa=0.5\n",
    "N=[0.1,1.0,10,100,1000,10000,100000]\n",
    "ana=np.zeros((nkpts,len(N)),dtype=type(1+1j))\n",
    "dub=np.zeros((nkpts,len(N)),dtype=type(1+1j))\n",
    "for ii in range(0,nkpts):\n",
    "    lam=0\n",
    "    lam0=0\n",
    "    for nn in range(0,len(N)):\n",
    "        ana[ii,nn]=mp.IAAswitch(N[nn],fa,lam0,lam,props[ii])\n",
    "        dub[ii,nn]=mp.IAAexplicit(N[nn],fa,lam0,lam,props[ii])"
   ]
  },
  {
   "cell_type": "code",
   "execution_count": null,
   "metadata": {
    "collapsed": true,
    "hidden": true
   },
   "outputs": [],
   "source": [
    "fig, ax = plt.subplots()\n",
    "for ii in range(0,len(N)):\n",
    "    col=float(ii)/len(N)\n",
    "    ax.loglog(K.real*np.sqrt(N[ii]),abs(ana[:,ii])/(N[ii]**2),\\\n",
    "                color=[col, 0.0, 1-col],label='resum '+str(N[ii]))\n",
    "    ax.loglog(K.real*np.sqrt(N[ii]),abs(dub[:,ii])/(N[ii]**2),'--',\\\n",
    "                color=[col, 0.0, 1-col],label='expl '+str(N[ii]))\n",
    "ax.legend(bbox_to_anchor=(1.05,1),loc=2)\n",
    "plotlog(2e4,1e-3,-1) \n",
    "ax.set_xlabel('K*N')\n",
    "ax.set_title('AA')\n",
    "ax.set_ylim([10**-8,10**2])\n",
    "plt.show()"
   ]
  },
  {
   "cell_type": "code",
   "execution_count": null,
   "metadata": {
    "collapsed": true,
    "hidden": true
   },
   "outputs": [],
   "source": [
    "fig, ax = plt.subplots()\n",
    "for ii in range(0,len(N)):\n",
    "    col=float(ii)/len(N)\n",
    "    ax.loglog(K.real,abs(ana[:,ii]-dub[:,ii])/(N[ii]**2),\\\n",
    "                color=[col, 0.0, 1-col],label='difference '+str(N[ii]))\n",
    "\n",
    "ax.legend(bbox_to_anchor=(1.05,1),loc=2)\n",
    "plotlog(2e4,1e-3,-1) \n",
    "ax.set_xlabel('K')\n",
    "ax.set_title('AA')\n",
<<<<<<< HEAD
=======
    "ax.set_ylim([1e-15,1])\n",
>>>>>>> f1b823ad0db0bee9a2141285418f55782e58ac84
    "plt.show()"
   ]
  },
  {
   "cell_type": "markdown",
<<<<<<< HEAD
   "metadata": {
    "hidden": true
   },
=======
   "metadata": {},
>>>>>>> f1b823ad0db0bee9a2141285418f55782e58ac84
   "source": [
    "### AB"
   ]
  },
  {
   "cell_type": "code",
   "execution_count": null,
   "metadata": {
    "collapsed": true,
    "hidden": true
   },
   "outputs": [],
   "source": [
    "N=[0.01,0.1,1.0,10,100]\n",
    "ana=np.zeros((nkpts,len(N)),dtype=type(1+1j))\n",
    "dub=np.zeros((nkpts,len(N)),dtype=type(1+1j))\n",
    "fa=0.5\n",
    "for ii in range(0,nkpts):\n",
    "    lam=0\n",
    "    lam0=0\n",
    "    for nn in range(0,len(N)):\n",
    "        ana[ii,nn]=mp.IABresum(N[nn],fa,lam0,lam,props[ii])\n",
    "        dub[ii,nn]=mp.IABexplicit(N[nn],fa,lam0,lam,props[ii])"
   ]
  },
  {
   "cell_type": "code",
   "execution_count": null,
   "metadata": {
    "collapsed": true,
    "hidden": true
   },
   "outputs": [],
   "source": [
    "fig, ax = plt.subplots()\n",
    "for ii in range(0,len(N)):\n",
    "    col=float(ii)/len(N)\n",
    "    ax.loglog(K.real,ana[:,ii].real/N[ii]**2,\\\n",
    "                color=[col, 0.0, 1-col],label='resum '+str(N[ii]))\n",
    "    ax.loglog(K.real,dub[:,ii].real/N[ii]**2,'--',\\\n",
    "                color=[col, 0.0, 1-col],label='expl '+str(N[ii]))\n",
    "ax.legend(bbox_to_anchor=(1.05,1),loc=2)\n",
    "plotlog(2e4,1e-7,-2)\n",
    "ax.set_xlabel('K')\n",
    "ax.set_title('AB')\n",
    "ax.set_ylim([10**-15,1])\n",
    "plt.show()"
   ]
  },
  {
   "cell_type": "code",
   "execution_count": null,
   "metadata": {
    "collapsed": true,
    "hidden": true
   },
   "outputs": [],
   "source": [
    "fig, ax = plt.subplots()\n",
    "for ii in range(0,len(N)):\n",
    "    col=float(ii)/len(N)\n",
    "    ax.loglog(K.real,abs(ana[:,ii]-dub[:,ii])/(N[ii]**2),\\\n",
    "                color=[col, 0.0, 1-col],label='difference '+str(N[ii]))\n",
    "\n",
    "ax.legend(bbox_to_anchor=(1.05,1),loc=2)\n",
    "plotlog(2e4,1e-3,-1) \n",
    "ax.set_xlabel('K')\n",
    "ax.set_title('AA')\n",
    "plt.show()"
   ]
  },
  {
   "cell_type": "markdown",
   "metadata": {
    "heading_collapsed": true
   },
   "source": [
    "## 3 Point"
   ]
  },
  {
   "cell_type": "code",
<<<<<<< HEAD
   "execution_count": null,
=======
   "execution_count": 11,
>>>>>>> f1b823ad0db0bee9a2141285418f55782e58ac84
   "metadata": {
    "collapsed": true,
    "hidden": true
   },
   "outputs": [],
   "source": [
    "nlam=5\n",
    "ORDEig=3\n",
    "d=3\n",
    "mu=0\n",
    "\n",
<<<<<<< HEAD
    "nkpts=150\n",
=======
    "nkpts=100\n",
>>>>>>> f1b823ad0db0bee9a2141285418f55782e58ac84
    "K=np.logspace(-4,7,nkpts)\n",
    "props1=[] # list of propagators at each K\n",
    "props2=[] # list of propagators at each K\n",
    "for ii in range(0,nkpts):\n",
    "    props1.append( propagator.propagator(ii,K[ii],mu,nlam=nlam) )\n",
    "    props2.append( propagator.propagator(ii+0.5,K[ii],mu,nlam=nlam) )"
   ]
  },
  {
   "cell_type": "markdown",
   "metadata": {
    "hidden": true
   },
   "source": [
    "#### AAA"
   ]
  },
  {
   "cell_type": "code",
<<<<<<< HEAD
   "execution_count": null,
=======
   "execution_count": 12,
>>>>>>> f1b823ad0db0bee9a2141285418f55782e58ac84
   "metadata": {
    "collapsed": true,
    "hidden": true,
    "hide_input": false
   },
   "outputs": [],
   "source": [
    "fa=0.5\n",
    "N=[0.01,0.1,1.0,10,100]\n",
    "frs=np.zeros((nkpts,len(N)),dtype=type(1+1j))\n",
    "rsum=np.zeros((nkpts,len(N)),dtype=type(1+1j))\n",
    "exl=np.zeros((nkpts,len(N)),dtype=type(1+1j))\n",
    "lam_1=0\n",
    "lam0_1=0\n",
    "lam_2=0\n",
    "lam0_2=0"
   ]
  },
  {
   "cell_type": "code",
<<<<<<< HEAD
   "execution_count": null,
   "metadata": {
    "collapsed": false,
    "hidden": true
   },
   "outputs": [],
   "source": [
    "for ii in range(0,nkpts):\n",
    "    for nn in range(0,len(N)):\n",
    "        frs[ii,nn]=mp.IAAAswitch(N[nn],fa,\\\n",
    "                                lam0_1,lam_1,\\\n",
    "                                lam0_2,lam_2,\\\n",
    "                                props1[ii],props2[ii])"
   ]
  },
  {
   "cell_type": "code",
   "execution_count": null,
   "metadata": {
    "collapsed": false,
    "hidden": true
   },
   "outputs": [],
   "source": [
    "t1=np.zeros((nkpts,len(N)),dtype=type(1+1j))\n",
    "t2=np.zeros((nkpts,len(N)),dtype=type(1+1j))\n",
    "t3=np.zeros((nkpts,len(N)),dtype=type(1+1j))\n",
    "summ=np.zeros((nkpts,len(N)),dtype=type(1+1j))\n",
    "for ii in range(0,nkpts):\n",
    "    for nn in range(0,len(N)):\n",
    "        rsum[ii,nn], t1[ii,nn], t2[ii,nn], t3[ii,nn], summ[ii,nn]\\\n",
    "        =mp.IAAAresum(N[nn],fa,\\\n",
    "                                lam0_1,lam_1,\\\n",
    "                                lam0_2,lam_2,\\\n",
    "                                props1[ii],props2[ii],debug=True)"
   ]
  },
  {
   "cell_type": "code",
   "execution_count": null,
   "metadata": {
    "collapsed": true,
    "hidden": true
   },
   "outputs": [],
   "source": [
    "for ii in range(0,nkpts):\n",
    "    for nn in range(0,len(N)):\n",
    "        exl[ii,nn]=mp.IAAAexplicit(N[nn],fa,\\\n",
    "                                    lam0_1,lam_1,\\\n",
    "                                    lam0_2,lam_2,\\\n",
    "                                    props1[ii],props2[ii])"
   ]
  },
  {
   "cell_type": "code",
   "execution_count": null,
   "metadata": {
    "collapsed": false,
    "hidden": true
   },
   "outputs": [],
   "source": [
    "fig, ax = plt.subplots()\n",
    "for ii in range(1,2):# range(0,len(N)):\n",
    "    col=float(ii)/len(N)\n",
    "    ax.loglog(K.real,abs(rsum[:,ii].real),'-',\\\n",
    "                color=[col, 0.0, 1-col],label='resum='+str(N[ii]))\n",
    "    ax.loglog(K.real,abs(summ[:,ii].real),'+',\\\n",
    "                color=[col, 0.0, 1-col],label='summ='+str(N[ii]))\n",
    "    ax.loglog(K.real,abs(t1[:,ii].real),'o',\\\n",
    "                color=[col, 0.0, 1-col],label='t1='+str(N[ii]))\n",
    "    ax.loglog(K.real,abs(t2[:,ii].real),'x',\\\n",
    "                color=[col, 0.0, 1-col],label='t2='+str(N[ii]))\n",
    "    ax.loglog(K.real,abs(t3[:,ii].real),'--',\\\n",
    "                color=[col, 0.0, 1-col],label='t3='+str(N[ii]))\n",
    "    ax.loglog(K.real,abs(exl[:,ii]),':',\\\n",
    "                color=[col, 0.0, 1-col],label='expl '+str(N[ii]))\n",
    "ax.legend()#bbox_to_anchor=(1.05,1),loc=2)\n",
    "ax.set_xlabel('K')\n",
    "plt.show()"
   ]
  },
  {
   "cell_type": "code",
   "execution_count": null,
   "metadata": {
    "collapsed": false,
    "hidden": true,
    "scrolled": true
   },
   "outputs": [],
   "source": [
    "fig, ax = plt.subplots()\n",
    "for ii in range(0,len(N)):\n",
    "    col=float(ii)/len(N)\n",
    "    ax.loglog(K.real,abs(frs[:,ii].real),\\\n",
    "                color=[col, 0.0, 1-col],label='frs='+str(N[ii]))\n",
    "    ax.loglog(K.real,abs(rsum[:,ii].real),'+',\\\n",
    "                color=[col, 0.0, 1-col],label='resum='+str(N[ii]))\n",
    "    ax.loglog(K.real,abs(exl[:,ii]),':',\\\n",
    "                color=[col, 0.0, 1-col],label='expl '+str(N[ii]))\n",
    "ax.legend()#bbox_to_anchor=(1.05,1),loc=2)\n",
    "plotlog(2e4,1e-13,-3)\n",
    "ax.set_xlabel('K')\n",
    "#ax.set_title('A'+str(lam_1)+',A'+str(lam_2)+',A'+str(lam0_2))\n",
    "ax.set_title('\\int d^2s G_11(K) G_11(K)')\n",
    "#ax.set_ylim([10**-18,10**2])\n",
    "print(lam_1,',',lam_2,',',lam0_2)\n",
    "plt.show()"
   ]
  },
  {
   "cell_type": "code",
   "execution_count": null,
   "metadata": {
    "collapsed": false,
    "hidden": true
   },
   "outputs": [],
   "source": [
    "fig, ax = plt.subplots()\n",
    "for ii in range(0,len(N)):\n",
    "    col=float(ii)/len(N)\n",
    "    ax.loglog(K.real,abs(frs[:,ii]-exl[:,ii])/(N[ii]**2),\\\n",
    "                color=[col, 0.0, 1-col],label='difference '+str(N[ii]))\n",
    "\n",
    "ax.legend(bbox_to_anchor=(1.05,1),loc=2)\n",
    "plotlog(2e4,1e-3,-1) \n",
    "ax.set_xlabel('K')\n",
=======
   "execution_count": 13,
   "metadata": {
    "hidden": true,
    "scrolled": true
   },
   "outputs": [
    {
     "data": {
      "image/png": "iVBORw0KGgoAAAANSUhEUgAAAekAAAEaCAYAAAA1yK8gAAAABHNCSVQICAgIfAhkiAAAAAlwSFlz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\noigVlArSiqIoilJB/T/RznbcOQxB6wAAAABJRU5ErkJggg==\n",
      "text/plain": [
       "<matplotlib.figure.Figure at 0x112036518>"
      ]
     },
     "metadata": {},
     "output_type": "display_data"
    }
   ],
   "source": [
    "fig, ax = plt.subplots()\n",
    "for ii in range(0,len(N)):\n",
    "    col=float(ii)/len(N)\n",
    "    ax.loglog(K.real,frs[:,ii].real/N[ii]**3,\\\n",
    "                color=[col, 0.0, 1-col],label='N='+str(N[ii]))\n",
    "    ax.loglog(K.real,rsum[:,ii].real/N[ii]**3,'x',\\\n",
    "                color=[col, 0.0, 1-col],label='N='+str(N[ii]))\n",
    "    ax.loglog(K.real,exl[:,ii].real/N[ii]**3,':',\\\n",
    "                color=[col, 0.0, 1-col],label='expl '+str(N[ii]))\n",
    "ax.legend(bbox_to_anchor=(1.05,1),loc=2)\n",
    "plotlog(2e4,1e-13,-3)\n",
    "ax.set_xlabel('K')\n",
    "ax.set_title('\\int d^2s G_11(K) G_11(K)')\n",
    "ax.set_ylim([10**-18,1])\n",
>>>>>>> f1b823ad0db0bee9a2141285418f55782e58ac84
    "plt.show()"
   ]
  },
  {
   "cell_type": "markdown",
   "metadata": {
    "hidden": true
   },
   "source": [
    "#### ABB"
   ]
  },
  {
   "cell_type": "code",
   "execution_count": null,
   "metadata": {
    "collapsed": true,
    "hidden": true
   },
   "outputs": [],
   "source": [
    "N=[0.01,0.1,1.0,10,100]\n",
    "ana=np.zeros((nkpts,len(N)),dtype=type(1+1j))\n",
<<<<<<< HEAD
    "dub=np.zeros((nkpts,len(N)),dtype=type(1+1j))\n",
    "swt=np.zeros((nkpts,len(N)),dtype=type(1+1j))\n",
    "fa=0.5\n",
=======
    "exl=np.zeros((nkpts,len(N)),dtype=type(1+1j))\n",
    "fa=0.4466\n",
>>>>>>> f1b823ad0db0bee9a2141285418f55782e58ac84
    "for ii in range(0,nkpts):\n",
    "    lam_1=0\n",
    "    lam0_1=0\n",
    "    lam_2=0\n",
    "    lam0_2=0\n",
    "    for nn in range(0,len(N)):\n",
    "        ana[ii,nn]=mp.IABBresum(N[nn],fa,\\\n",
    "                                lam0_1,lam_1,\\\n",
    "                                lam0_2,lam_2,\\\n",
    "                                props1[ii],props2[ii])\n",
<<<<<<< HEAD
    "        dub[ii,nn]=mp.IABBexplicit(N[nn],fa,\\\n",
    "                                   lam0_1,lam_1,lam0_2,lam_2\\\n",
    "                                   ,props1[ii],props2[ii])\n",
    "        swt[ii,nn]=mp.IABBswitch(N[nn],fa,\\\n",
    "                                   lam0_1,lam_1,lam0_2,lam_2\\\n",
    "                                   ,props1[ii],props2[ii])\n"
=======
    "        exl[ii,nn]=mp.IABBexplicit(N[nn],fa,\\\n",
    "                                    lam0_1,lam_1,\\\n",
    "                                    lam0_2,lam_2,\\\n",
    "                                    props1[ii],props2[ii])"
>>>>>>> f1b823ad0db0bee9a2141285418f55782e58ac84
   ]
  },
  {
   "cell_type": "code",
   "execution_count": null,
   "metadata": {
    "collapsed": true,
    "hidden": true
   },
   "outputs": [],
   "source": [
    "fig, ax = plt.subplots()\n",
    "for ii in range(0,len(N)):\n",
    "    col=float(ii)/len(N)\n",
<<<<<<< HEAD
    "    ax.loglog(K.real,abs(ana[:,ii]),'--',\\\n",
    "                color=[col, 0.0, 1-col],label='resum '+str(N[ii]))\n",
    "    ax.loglog(K.real,abs(swt[:,ii]),'-',\\\n",
    "                color=[col, 0.0, 1-col],label='switch '+str(N[ii]))\n",
    "    ax.loglog(K.real,abs(dub[:,ii]),':',\\\n",
    "                color=[col, 0.0, 1-col],label='expl '+str(N[ii]))\n",
=======
    "    ax.loglog(K.real,ana[:,ii].real/N[ii]**3,\\\n",
    "                color=[col, 0.0, 1-col],label='resum '+str(N[ii]))\n",
    "    ax.loglog(K.real,exl[:,ii].real/N[ii]**3,'--',\\\n",
    "               color=[col, 0.0, 1-col],label='expl '+str(N[ii]))\n",
>>>>>>> f1b823ad0db0bee9a2141285418f55782e58ac84
    "ax.legend(bbox_to_anchor=(1.05,1),loc=2)\n",
    "plotlog(2e4,1e-9,-3)\n",
    "ax.set_xlabel('K')\n",
    "ax.set_title('ABB')\n",
    "ax.set_ylim([10**-18,1])\n",
    "plt.show()"
   ]
  },
  {
   "cell_type": "code",
   "execution_count": null,
   "metadata": {
    "collapsed": true,
    "hidden": true
   },
   "outputs": [],
   "source": [
    "fig, ax = plt.subplots()\n",
    "for ii in range(0,len(N)):\n",
    "    col=float(ii)/len(N)\n",
    "    ax.loglog(K.real,abs(ana[:,ii]-dub[:,ii])/(N[ii]**2),\\\n",
    "                color=[col, 0.0, 1-col],label='difference '+str(N[ii]))\n",
    "\n",
    "ax.legend(bbox_to_anchor=(1.05,1),loc=2)\n",
    "plotlog(2e4,1e-3,-1) \n",
    "ax.set_xlabel('K')\n",
    "plt.show()"
   ]
  },
  {
   "cell_type": "markdown",
   "metadata": {
    "heading_collapsed": true
   },
   "source": [
    "## 4 point"
   ]
  },
  {
   "cell_type": "markdown",
   "metadata": {},
   "source": [
    "### AAAA"
   ]
  },
  {
   "cell_type": "code",
<<<<<<< HEAD
   "execution_count": null,
   "metadata": {
    "collapsed": false,
    "hidden": true,
=======
   "execution_count": 3,
   "metadata": {
    "collapsed": true,
>>>>>>> f1b823ad0db0bee9a2141285418f55782e58ac84
    "scrolled": true
   },
   "outputs": [],
   "source": [
    "nlam=5\n",
    "ORDEig=10\n",
    "d=3\n",
    "mu1=0\n",
    "mu2=0\n",
    "mu3=0\n",
    "\n",
    "\n",
    "settings={'nlam':5,'lamMax':500,\\\n",
    "          'ORDEig':25,'resCutoff':10**-11,\\\n",
    "          'lowKcut':10**-7}\n",
    "\n",
    "nkpts=100\n",
    "K=np.logspace(-3,5,nkpts)\n",
    "#K=np.linspace(0.02,0.05,nkpts)\n",
    "props1=[] # list of propagators at each K\n",
    "props2=[] # list of propagators at each K\n",
    "props3=[] # list of propagators at each K\n",
    "for ii in range(0,nkpts):\n",
    "    name=ii\n",
    "    props1.append( propagator.propagator(name,1.0*K[ii],mu1,**settings) )\n",
    "\n",
    "    name=ii+0.5\n",
    "    props2.append( propagator.propagator(name,2.0*K[ii],mu2,**settings) )\n",
    "    \n",
    "    name=ii+0.25\n",
    "    props3.append( propagator.propagator(name,1.0*K[ii],mu3,**settings) )"
   ]
  },
  {
   "cell_type": "code",
<<<<<<< HEAD
   "execution_count": null,
   "metadata": {
    "collapsed": false,
    "hidden": true
=======
   "execution_count": 4,
   "metadata": {
    "collapsed": true
>>>>>>> f1b823ad0db0bee9a2141285418f55782e58ac84
   },
   "outputs": [],
   "source": [
    "N=[0.001,0.01,0.1,1.0,10,100,1000, 10000]\n",
    "fa=0.5\n",
<<<<<<< HEAD
    "lam_1=0\n",
=======
>>>>>>> f1b823ad0db0bee9a2141285418f55782e58ac84
    "lam0_1=0\n",
    "lam_1=0\n",
    "lam0_2=0\n",
    "lam_2=0\n",
<<<<<<< HEAD
    "lam0_2=0\n",
    "lam_3=0\n",
    "lam0_3=0"
=======
    "lam0_3=0\n",
    "lam_3=0"
>>>>>>> f1b823ad0db0bee9a2141285418f55782e58ac84
   ]
  },
  {
   "cell_type": "code",
   "execution_count": null,
   "metadata": {
<<<<<<< HEAD
    "collapsed": false,
    "hidden": true
=======
    "collapsed": true
>>>>>>> f1b823ad0db0bee9a2141285418f55782e58ac84
   },
   "outputs": [],
   "source": [
    "frs=np.zeros((nkpts,len(N)),dtype=type(1+1j))\n",
    "for ii in range(0,nkpts):   \n",
    "    for nn in range(0,len(N)):\n",
    "        frs[ii,nn]=mp.IAAABswitch(N[nn],fa,\\\n",
    "                                 lam0_1,lam_1,\\\n",
    "                                 lam0_2,lam_2,\\\n",
    "                                 lam0_3,lam_3,\\\n",
    "                                 props1[ii],props2[ii],props3[ii])"
   ]
  },
  {
   "cell_type": "code",
   "execution_count": null,
   "metadata": {
    "collapsed": false,
    "hidden": true
   },
   "outputs": [],
   "source": [
    "rsum=np.zeros((nkpts,len(N)),dtype=type(1+1j))\n",
    "for ii in range(0,nkpts):   \n",
    "    for nn in range(0,len(N)):\n",
    "        rsum[ii,nn]=mp.IAAABresum(N[nn],fa,\\\n",
    "                                 lam0_1,lam_1,\\\n",
    "                                 lam0_2,lam_2,\\\n",
    "                                 lam0_3,lam_3,\\\n",
    "                                 props1[ii],props2[ii],props3[ii])"
   ]
  },
  {
   "cell_type": "code",
   "execution_count": null,
   "metadata": {
    "collapsed": false,
    "hidden": true
   },
   "outputs": [],
   "source": [
    "exl=np.zeros((nkpts,len(N)),dtype=type(1+1j))\n",
    "for ii in range(0,nkpts):   \n",
    "    for nn in range(0,len(N)):\n",
    "        exl[ii,nn]=mp.IAAABexplicit(N[nn],fa,\\\n",
    "                                 lam0_1,lam_1,\\\n",
    "                                 lam0_2,lam_2,\\\n",
    "                                 lam0_3,lam_3,\\\n",
    "                                 props1[ii],props2[ii],props3[ii])"
   ]
  },
  {
   "cell_type": "code",
   "execution_count": null,
   "metadata": {
<<<<<<< HEAD
    "collapsed": false,
    "hidden": true
=======
    "collapsed": true
>>>>>>> f1b823ad0db0bee9a2141285418f55782e58ac84
   },
   "outputs": [],
   "source": [
    "fig, ax = plt.subplots()\n",
    "for ii in range(0,len(N)):\n",
    "    col=float(ii)/len(N)\n",
<<<<<<< HEAD
    "    ax.loglog(K.real,abs(frs[:,ii].real)*N[ii]**-4,'-',\\\n",
    "               color=[col, 0.0, 1-col],label='IAAAA '+str(N[ii]))\n",
    "    ax.loglog(K.real,abs(rsum[:,ii].real)*N[ii]**-4,'+',\\\n",
    "                color=[col, 0.0, 1-col],label='resum N='+str(N[ii]))\n",
    "    ax.loglog(K.real,abs(exl[:,ii].real)*N[ii]**-4,':',\\\n",
    "                color=[col, 0.0, 1-col],label='expl '+str(N[ii]))\n",
=======
    "    ax.loglog(K.real*N[ii],frs[:,ii].real*N[ii]**-4,'-',\\\n",
    "                color=[col, 0.0, 1-col],label='IAAAA '+str(N[ii]))\n",
    "    ax.plot(K.real*N[ii],rsum[:,ii].real*N[ii]**-4,'+',\\\n",
    "                color=[col, 0.0, 1-col],label='resum '+str(N[ii]))\n",
    "    ax.loglog(K.real*N[ii],exl[:,ii].real*N[ii]**-4,':',\\\n",
    "               color=[col, 0.0, 1-col],label='expl '+str(N[ii]))\n",
>>>>>>> f1b823ad0db0bee9a2141285418f55782e58ac84
    "ax.legend(bbox_to_anchor=(1.05,1),loc=2)\n",
    "plotlog(2e3,1e-7,-4)\n",
    "ax.set_xlabel('K*N')\n",
    "ax.set_ylabel('I/(N^4)')\n",
    "ax.set_title('Methode Compairison')\n",
    "ax.set_ylim([0,1])\n",
    "plt.show()"
   ]
  },
  {
<<<<<<< HEAD
   "cell_type": "code",
   "execution_count": null,
   "metadata": {
    "collapsed": false,
    "hidden": true
   },
   "outputs": [],
   "source": [
    "fig, ax = plt.subplots()\n",
    "for ii in range(0,len(N)):\n",
    "    col=float(ii)/len(N)\n",
    "    #ax.loglog(K.real*np.sqrt(N[ii]),abs(frs[:,ii]-exl[:,ii])/(N[ii]**2),\\\n",
    "    #            color=[col, 0.0, 1-col],label='difference '+str(N[ii]))\n",
    "    ax.loglog(K.real,abs(rsum[:,ii].real-exl[:,ii].real)*N[ii]**-4,'-',\\\n",
    "                color=[col, 0.0, 1-col],label='diff '+str(N[ii]))\n",
    "ax.legend(bbox_to_anchor=(1.05,1),loc=2)\n",
    "plt.show()"
=======
   "cell_type": "markdown",
   "metadata": {},
   "source": [
    "### AAAB"
>>>>>>> f1b823ad0db0bee9a2141285418f55782e58ac84
   ]
  },
  {
   "cell_type": "code",
   "execution_count": null,
   "metadata": {
<<<<<<< HEAD
    "collapsed": false,
    "hidden": true
   },
   "outputs": [],
   "source": [
    "fig, ax = plt.subplots()\n",
    "for ii in range(0,len(N)):\n",
    "    col=float(ii)/len(N)\n",
    "    #ax.loglog(K.real*np.sqrt(N[ii]),abs(frs[:,ii]-exl[:,ii])/(N[ii]**2),\\\n",
    "    #            color=[col, 0.0, 1-col],label='difference '+str(N[ii]))\n",
    "    norm=np.minimum(abs(rsum[:,ii].real),abs(exl[:,ii].real))\n",
    "    ax.loglog(K.real,abs(rsum[:,ii].real-exl[:,ii].real)/norm,'-',\\\n",
    "                color=[col, 0.0, 1-col],label='diff '+str(N[ii]))\n",
    "ax.legend(bbox_to_anchor=(1.05,1),loc=2)\n",
    "plt.show()"
=======
    "collapsed": true
   },
   "outputs": [],
   "source": [
    "rsum=np.zeros((nkpts,len(N)),dtype=type(1+1j))\n",
    "for ii in range(0,nkpts):   \n",
    "    for nn in range(0,len(N)):\n",
    "        rsum[ii,nn]=mp.IAAABresum(N[nn],fa,\\\n",
    "                                 lam0_1,lam_1,\\\n",
    "                                 lam0_2,lam_2,\\\n",
    "                                 lam0_3,lam_3,\\\n",
    "                                 props1[ii],props2[ii],props3[ii])"
>>>>>>> f1b823ad0db0bee9a2141285418f55782e58ac84
   ]
  },
  {
   "cell_type": "code",
<<<<<<< HEAD
   "execution_count": null,
   "metadata": {
    "collapsed": false,
    "hidden": true
   },
   "outputs": [],
   "source": [
    "np.minimum(np.array([1,2,3]),np.array([3,2,1]))"
=======
   "execution_count": 6,
   "metadata": {},
   "outputs": [
    {
     "name": "stdout",
     "output_type": "stream",
     "text": [
      "0\n"
     ]
    },
    {
     "name": "stderr",
     "output_type": "stream",
     "text": [
      "/Users/shifan/Dropbox/Codes/wlc/MultiPointCalculation/MultiPoint.py:1084: RuntimeWarning: invalid value encountered in cdouble_scalars\n",
      "  valeq=exp(1)**((-1)*FA*R3)*            (exp(1)**R3+(-1)*exp(1)**(FA*R3))*R1**            (-1)*(R1+(-1)*R12)**(-1)*R12**(-1)*            (R1+(-1)*R3)**(-1)*(R12+(-1)*R3)**            (-1)*R3**(-2)*            (((-1)+exp(1)**(FA*R1))*R12*             (R12+(-1)*R3)*R3+R1**2*             (((-1)+exp(1)**(FA*R3))*              R12+R3+(-1)*exp(1)**              (FA*R12)*R3)+R1*((1+(-1)*exp(1)**                                (FA*R3))*R12**2+((-1)+exp(1)**(FA*R12))*R3**2))\n",
      "/Users/shifan/Dropbox/Codes/wlc/MultiPointCalculation/MultiPoint.py:1084: RuntimeWarning: overflow encountered in power\n",
      "  valeq=exp(1)**((-1)*FA*R3)*            (exp(1)**R3+(-1)*exp(1)**(FA*R3))*R1**            (-1)*(R1+(-1)*R12)**(-1)*R12**(-1)*            (R1+(-1)*R3)**(-1)*(R12+(-1)*R3)**            (-1)*R3**(-2)*            (((-1)+exp(1)**(FA*R1))*R12*             (R12+(-1)*R3)*R3+R1**2*             (((-1)+exp(1)**(FA*R3))*              R12+R3+(-1)*exp(1)**              (FA*R12)*R3)+R1*((1+(-1)*exp(1)**                                (FA*R3))*R12**2+((-1)+exp(1)**(FA*R12))*R3**2))\n"
     ]
    },
    {
     "name": "stdout",
     "output_type": "stream",
     "text": [
      "1\n",
      "2\n",
      "3\n",
      "4\n",
      "5\n",
      "6\n",
      "7\n",
      "8\n",
      "9\n"
     ]
    }
   ],
   "source": [
    "nkpts = 10\n",
    "exl=np.zeros((nkpts,len(N)),dtype=type(1+1j))\n",
    "for ii in range(0,nkpts):\n",
    "    print(ii)\n",
    "    for nn in range(0,len(N)):\n",
    "        exl[ii,nn]=mp.IAAABexplicit(N[nn],fa,\\\n",
    "                                 lam0_1,lam_1,\\\n",
    "                                 lam0_2,lam_2,\\\n",
    "                                 lam0_3,lam_3,\\\n",
    "                                 props1[ii],props2[ii],props3[ii])"
>>>>>>> f1b823ad0db0bee9a2141285418f55782e58ac84
   ]
  },
  {
   "cell_type": "code",
   "execution_count": null,
   "metadata": {
    "collapsed": true,
    "hidden": true
   },
   "outputs": [],
   "source": [
    "plt.plot(ex)"
   ]
  },
  {
   "cell_type": "code",
   "execution_count": 7,
   "metadata": {},
   "outputs": [
    {
     "ename": "ValueError",
     "evalue": "x and y must have same first dimension, but have shapes (100,) and (10,)",
     "output_type": "error",
     "traceback": [
      "\u001b[0;31m---------------------------------------------------------------------------\u001b[0m",
      "\u001b[0;31mValueError\u001b[0m                                Traceback (most recent call last)",
      "\u001b[0;32m<ipython-input-7-0c64261a14e9>\u001b[0m in \u001b[0;36m<module>\u001b[0;34m()\u001b[0m\n\u001b[1;32m      4\u001b[0m \u001b[0;31m#     ax.plot(K.real*N[ii],(rsum[:,ii].real)*N[ii]**-4,'+',\\\u001b[0m\u001b[0;34m\u001b[0m\u001b[0;34m\u001b[0m\u001b[0m\n\u001b[1;32m      5\u001b[0m \u001b[0;31m#                 color=[col, 0.0, 1-col],label='resum '+str(N[ii]))\u001b[0m\u001b[0;34m\u001b[0m\u001b[0;34m\u001b[0m\u001b[0m\n\u001b[0;32m----> 6\u001b[0;31m     \u001b[0max\u001b[0m\u001b[0;34m.\u001b[0m\u001b[0mplot\u001b[0m\u001b[0;34m(\u001b[0m\u001b[0mK\u001b[0m\u001b[0;34m.\u001b[0m\u001b[0mreal\u001b[0m\u001b[0;34m*\u001b[0m\u001b[0mN\u001b[0m\u001b[0;34m[\u001b[0m\u001b[0mii\u001b[0m\u001b[0;34m]\u001b[0m\u001b[0;34m,\u001b[0m\u001b[0;34m(\u001b[0m\u001b[0mexl\u001b[0m\u001b[0;34m[\u001b[0m\u001b[0;34m:\u001b[0m\u001b[0;34m,\u001b[0m\u001b[0mii\u001b[0m\u001b[0;34m]\u001b[0m\u001b[0;34m.\u001b[0m\u001b[0mreal\u001b[0m\u001b[0;34m)\u001b[0m\u001b[0;34m*\u001b[0m\u001b[0mN\u001b[0m\u001b[0;34m[\u001b[0m\u001b[0mii\u001b[0m\u001b[0;34m]\u001b[0m\u001b[0;34m**\u001b[0m\u001b[0;34m-\u001b[0m\u001b[0;36m4\u001b[0m\u001b[0;34m,\u001b[0m\u001b[0;34m'+'\u001b[0m\u001b[0;34m,\u001b[0m                \u001b[0mcolor\u001b[0m\u001b[0;34m=\u001b[0m\u001b[0;34m[\u001b[0m\u001b[0mcol\u001b[0m\u001b[0;34m,\u001b[0m \u001b[0;36m0.0\u001b[0m\u001b[0;34m,\u001b[0m \u001b[0;36m1\u001b[0m\u001b[0;34m-\u001b[0m\u001b[0mcol\u001b[0m\u001b[0;34m]\u001b[0m\u001b[0;34m,\u001b[0m\u001b[0mlabel\u001b[0m\u001b[0;34m=\u001b[0m\u001b[0;34m'resum '\u001b[0m\u001b[0;34m+\u001b[0m\u001b[0mstr\u001b[0m\u001b[0;34m(\u001b[0m\u001b[0mN\u001b[0m\u001b[0;34m[\u001b[0m\u001b[0mii\u001b[0m\u001b[0;34m]\u001b[0m\u001b[0;34m)\u001b[0m\u001b[0;34m)\u001b[0m\u001b[0;34m\u001b[0m\u001b[0m\n\u001b[0m\u001b[1;32m      7\u001b[0m \u001b[0max\u001b[0m\u001b[0;34m.\u001b[0m\u001b[0mlegend\u001b[0m\u001b[0;34m(\u001b[0m\u001b[0mbbox_to_anchor\u001b[0m\u001b[0;34m=\u001b[0m\u001b[0;34m(\u001b[0m\u001b[0;36m1.05\u001b[0m\u001b[0;34m,\u001b[0m\u001b[0;36m1\u001b[0m\u001b[0;34m)\u001b[0m\u001b[0;34m,\u001b[0m\u001b[0mloc\u001b[0m\u001b[0;34m=\u001b[0m\u001b[0;36m2\u001b[0m\u001b[0;34m)\u001b[0m\u001b[0;34m\u001b[0m\u001b[0m\n\u001b[1;32m      8\u001b[0m \u001b[0mplotlog\u001b[0m\u001b[0;34m(\u001b[0m\u001b[0;36m2e3\u001b[0m\u001b[0;34m,\u001b[0m\u001b[0;36m1e-7\u001b[0m\u001b[0;34m,\u001b[0m\u001b[0;34m-\u001b[0m\u001b[0;36m4\u001b[0m\u001b[0;34m)\u001b[0m\u001b[0;34m\u001b[0m\u001b[0m\n",
      "\u001b[0;32m/usr/local/lib/python3.6/site-packages/matplotlib/__init__.py\u001b[0m in \u001b[0;36minner\u001b[0;34m(ax, *args, **kwargs)\u001b[0m\n\u001b[1;32m   1896\u001b[0m                     warnings.warn(msg % (label_namer, func.__name__),\n\u001b[1;32m   1897\u001b[0m                                   RuntimeWarning, stacklevel=2)\n\u001b[0;32m-> 1898\u001b[0;31m             \u001b[0;32mreturn\u001b[0m \u001b[0mfunc\u001b[0m\u001b[0;34m(\u001b[0m\u001b[0max\u001b[0m\u001b[0;34m,\u001b[0m \u001b[0;34m*\u001b[0m\u001b[0margs\u001b[0m\u001b[0;34m,\u001b[0m \u001b[0;34m**\u001b[0m\u001b[0mkwargs\u001b[0m\u001b[0;34m)\u001b[0m\u001b[0;34m\u001b[0m\u001b[0m\n\u001b[0m\u001b[1;32m   1899\u001b[0m         \u001b[0mpre_doc\u001b[0m \u001b[0;34m=\u001b[0m \u001b[0minner\u001b[0m\u001b[0;34m.\u001b[0m\u001b[0m__doc__\u001b[0m\u001b[0;34m\u001b[0m\u001b[0m\n\u001b[1;32m   1900\u001b[0m         \u001b[0;32mif\u001b[0m \u001b[0mpre_doc\u001b[0m \u001b[0;32mis\u001b[0m \u001b[0;32mNone\u001b[0m\u001b[0;34m:\u001b[0m\u001b[0;34m\u001b[0m\u001b[0m\n",
      "\u001b[0;32m/usr/local/lib/python3.6/site-packages/matplotlib/axes/_axes.py\u001b[0m in \u001b[0;36mplot\u001b[0;34m(self, *args, **kwargs)\u001b[0m\n\u001b[1;32m   1404\u001b[0m         \u001b[0mkwargs\u001b[0m \u001b[0;34m=\u001b[0m \u001b[0mcbook\u001b[0m\u001b[0;34m.\u001b[0m\u001b[0mnormalize_kwargs\u001b[0m\u001b[0;34m(\u001b[0m\u001b[0mkwargs\u001b[0m\u001b[0;34m,\u001b[0m \u001b[0m_alias_map\u001b[0m\u001b[0;34m)\u001b[0m\u001b[0;34m\u001b[0m\u001b[0m\n\u001b[1;32m   1405\u001b[0m \u001b[0;34m\u001b[0m\u001b[0m\n\u001b[0;32m-> 1406\u001b[0;31m         \u001b[0;32mfor\u001b[0m \u001b[0mline\u001b[0m \u001b[0;32min\u001b[0m \u001b[0mself\u001b[0m\u001b[0;34m.\u001b[0m\u001b[0m_get_lines\u001b[0m\u001b[0;34m(\u001b[0m\u001b[0;34m*\u001b[0m\u001b[0margs\u001b[0m\u001b[0;34m,\u001b[0m \u001b[0;34m**\u001b[0m\u001b[0mkwargs\u001b[0m\u001b[0;34m)\u001b[0m\u001b[0;34m:\u001b[0m\u001b[0;34m\u001b[0m\u001b[0m\n\u001b[0m\u001b[1;32m   1407\u001b[0m             \u001b[0mself\u001b[0m\u001b[0;34m.\u001b[0m\u001b[0madd_line\u001b[0m\u001b[0;34m(\u001b[0m\u001b[0mline\u001b[0m\u001b[0;34m)\u001b[0m\u001b[0;34m\u001b[0m\u001b[0m\n\u001b[1;32m   1408\u001b[0m             \u001b[0mlines\u001b[0m\u001b[0;34m.\u001b[0m\u001b[0mappend\u001b[0m\u001b[0;34m(\u001b[0m\u001b[0mline\u001b[0m\u001b[0;34m)\u001b[0m\u001b[0;34m\u001b[0m\u001b[0m\n",
      "\u001b[0;32m/usr/local/lib/python3.6/site-packages/matplotlib/axes/_base.py\u001b[0m in \u001b[0;36m_grab_next_args\u001b[0;34m(self, *args, **kwargs)\u001b[0m\n\u001b[1;32m    405\u001b[0m                 \u001b[0;32mreturn\u001b[0m\u001b[0;34m\u001b[0m\u001b[0m\n\u001b[1;32m    406\u001b[0m             \u001b[0;32mif\u001b[0m \u001b[0mlen\u001b[0m\u001b[0;34m(\u001b[0m\u001b[0mremaining\u001b[0m\u001b[0;34m)\u001b[0m \u001b[0;34m<=\u001b[0m \u001b[0;36m3\u001b[0m\u001b[0;34m:\u001b[0m\u001b[0;34m\u001b[0m\u001b[0m\n\u001b[0;32m--> 407\u001b[0;31m                 \u001b[0;32mfor\u001b[0m \u001b[0mseg\u001b[0m \u001b[0;32min\u001b[0m \u001b[0mself\u001b[0m\u001b[0;34m.\u001b[0m\u001b[0m_plot_args\u001b[0m\u001b[0;34m(\u001b[0m\u001b[0mremaining\u001b[0m\u001b[0;34m,\u001b[0m \u001b[0mkwargs\u001b[0m\u001b[0;34m)\u001b[0m\u001b[0;34m:\u001b[0m\u001b[0;34m\u001b[0m\u001b[0m\n\u001b[0m\u001b[1;32m    408\u001b[0m                     \u001b[0;32myield\u001b[0m \u001b[0mseg\u001b[0m\u001b[0;34m\u001b[0m\u001b[0m\n\u001b[1;32m    409\u001b[0m                 \u001b[0;32mreturn\u001b[0m\u001b[0;34m\u001b[0m\u001b[0m\n",
      "\u001b[0;32m/usr/local/lib/python3.6/site-packages/matplotlib/axes/_base.py\u001b[0m in \u001b[0;36m_plot_args\u001b[0;34m(self, tup, kwargs)\u001b[0m\n\u001b[1;32m    383\u001b[0m             \u001b[0mx\u001b[0m\u001b[0;34m,\u001b[0m \u001b[0my\u001b[0m \u001b[0;34m=\u001b[0m \u001b[0mindex_of\u001b[0m\u001b[0;34m(\u001b[0m\u001b[0mtup\u001b[0m\u001b[0;34m[\u001b[0m\u001b[0;34m-\u001b[0m\u001b[0;36m1\u001b[0m\u001b[0;34m]\u001b[0m\u001b[0;34m)\u001b[0m\u001b[0;34m\u001b[0m\u001b[0m\n\u001b[1;32m    384\u001b[0m \u001b[0;34m\u001b[0m\u001b[0m\n\u001b[0;32m--> 385\u001b[0;31m         \u001b[0mx\u001b[0m\u001b[0;34m,\u001b[0m \u001b[0my\u001b[0m \u001b[0;34m=\u001b[0m \u001b[0mself\u001b[0m\u001b[0;34m.\u001b[0m\u001b[0m_xy_from_xy\u001b[0m\u001b[0;34m(\u001b[0m\u001b[0mx\u001b[0m\u001b[0;34m,\u001b[0m \u001b[0my\u001b[0m\u001b[0;34m)\u001b[0m\u001b[0;34m\u001b[0m\u001b[0m\n\u001b[0m\u001b[1;32m    386\u001b[0m \u001b[0;34m\u001b[0m\u001b[0m\n\u001b[1;32m    387\u001b[0m         \u001b[0;32mif\u001b[0m \u001b[0mself\u001b[0m\u001b[0;34m.\u001b[0m\u001b[0mcommand\u001b[0m \u001b[0;34m==\u001b[0m \u001b[0;34m'plot'\u001b[0m\u001b[0;34m:\u001b[0m\u001b[0;34m\u001b[0m\u001b[0m\n",
      "\u001b[0;32m/usr/local/lib/python3.6/site-packages/matplotlib/axes/_base.py\u001b[0m in \u001b[0;36m_xy_from_xy\u001b[0;34m(self, x, y)\u001b[0m\n\u001b[1;32m    242\u001b[0m         \u001b[0;32mif\u001b[0m \u001b[0mx\u001b[0m\u001b[0;34m.\u001b[0m\u001b[0mshape\u001b[0m\u001b[0;34m[\u001b[0m\u001b[0;36m0\u001b[0m\u001b[0;34m]\u001b[0m \u001b[0;34m!=\u001b[0m \u001b[0my\u001b[0m\u001b[0;34m.\u001b[0m\u001b[0mshape\u001b[0m\u001b[0;34m[\u001b[0m\u001b[0;36m0\u001b[0m\u001b[0;34m]\u001b[0m\u001b[0;34m:\u001b[0m\u001b[0;34m\u001b[0m\u001b[0m\n\u001b[1;32m    243\u001b[0m             raise ValueError(\"x and y must have same first dimension, but \"\n\u001b[0;32m--> 244\u001b[0;31m                              \"have shapes {} and {}\".format(x.shape, y.shape))\n\u001b[0m\u001b[1;32m    245\u001b[0m         \u001b[0;32mif\u001b[0m \u001b[0mx\u001b[0m\u001b[0;34m.\u001b[0m\u001b[0mndim\u001b[0m \u001b[0;34m>\u001b[0m \u001b[0;36m2\u001b[0m \u001b[0;32mor\u001b[0m \u001b[0my\u001b[0m\u001b[0;34m.\u001b[0m\u001b[0mndim\u001b[0m \u001b[0;34m>\u001b[0m \u001b[0;36m2\u001b[0m\u001b[0;34m:\u001b[0m\u001b[0;34m\u001b[0m\u001b[0m\n\u001b[1;32m    246\u001b[0m             raise ValueError(\"x and y can be no greater than 2-D, but have \"\n",
      "\u001b[0;31mValueError\u001b[0m: x and y must have same first dimension, but have shapes (100,) and (10,)"
     ]
    },
    {
     "data": {
      "image/png": "iVBORw0KGgoAAAANSUhEUgAAAXwAAAD8CAYAAAB0IB+mAAAABHNCSVQICAgIfAhkiAAAAAlwSFlz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\nauJ/Acz2XLpusNoKAAAAAElFTkSuQmCC\n",
      "text/plain": [
       "<matplotlib.figure.Figure at 0x110f1ac50>"
      ]
     },
     "metadata": {},
     "output_type": "display_data"
    }
   ],
   "source": [
    "fig, ax = plt.subplots()\n",
    "for ii in range(0,len(N)):\n",
    "    col=float(ii)/len(N)\n",
    "#     ax.plot(K.real*N[ii],(rsum[:,ii].real)*N[ii]**-4,'+',\\\n",
    "#                 color=[col, 0.0, 1-col],label='resum '+str(N[ii]))\n",
    "    ax.plot(K.real*N[ii],(exl[:,ii].real)*N[ii]**-4,'+',\\\n",
    "                color=[col, 0.0, 1-col],label='resum '+str(N[ii]))\n",
    "ax.legend(bbox_to_anchor=(1.05,1),loc=2)\n",
    "plotlog(2e3,1e-7,-4)\n",
    "ax.set_xlabel('K*N')\n",
    "ax.set_ylabel('I/(N^4)')\n",
    "ax.set_title('Methode Compairison')\n",
    "ax.set_ylim([0,1])\n",
    "plt.show()"
   ]
  },
  {
   "cell_type": "code",
   "execution_count": null,
   "metadata": {
    "collapsed": true
   },
   "outputs": [],
   "source": []
  }
 ],
 "metadata": {
  "anaconda-cloud": {},
  "kernelspec": {
   "display_name": "Python 3",
   "language": "python",
   "name": "python3"
  },
  "language_info": {
   "codemirror_mode": {
    "name": "ipython",
    "version": 3
   },
   "file_extension": ".py",
   "mimetype": "text/x-python",
   "name": "python",
   "nbconvert_exporter": "python",
   "pygments_lexer": "ipython3",
   "version": "3.6.0"
  },
  "latex_envs": {
   "LaTeX_envs_menu_present": true,
   "autocomplete": true,
   "bibliofile": "biblio.bib",
   "cite_by": "apalike",
   "current_citInitial": 1,
   "eqLabelWithNumbers": true,
   "eqNumInitial": 1,
   "hotkeys": {
    "equation": "Ctrl-E",
    "itemize": "Ctrl-I"
   },
   "labels_anchors": false,
   "latex_user_defs": false,
   "report_style_numbering": false,
   "user_envs_cfg": false
  },
  "toc": {
   "colors": {
    "hover_highlight": "#DAA520",
    "running_highlight": "#FF0000",
    "selected_highlight": "#FFD700"
   },
   "moveMenuLeft": true,
   "nav_menu": {
    "height": "86px",
    "width": "252px"
   },
   "navigate_menu": true,
   "number_sections": true,
   "sideBar": true,
   "threshold": 4,
   "toc_cell": false,
   "toc_section_display": "block",
   "toc_window_display": false,
   "widenNotebook": false
  }
 },
 "nbformat": 4,
 "nbformat_minor": 1
}
