{
 "cells": [
  {
   "cell_type": "code",
   "execution_count": 1,
   "metadata": {
    "collapsed": false
   },
   "outputs": [
    {
     "name": "stdout",
     "output_type": "stream",
     "text": [
      "Using matplotlib backend: Qt5Agg\n"
     ]
    }
   ],
   "source": [
    "import numpy as np\n",
    "import WLCgreen as wlc\n",
    "import propagator \n",
    "import special as sp\n",
    "from numba import jit\n",
    "import MultiPoint as mp\n",
    "import imp  # imp.reload(module)\n",
    "\n",
    "import matplotlib.pyplot as plt\n",
    "%matplotlib\n",
    "#%matplotlib inline\n",
    "#import mpld3\n",
    "#mpld3.enable_notebook()"
   ]
  },
  {
   "cell_type": "code",
   "execution_count": 2,
   "metadata": {
    "collapsed": true
   },
   "outputs": [],
   "source": [
    "def plotlog(x, y, alpha, xrange=1, numx=2):\n",
    "    xv = np.logspace(np.log10(x), np.log10(x) + xrange, numx)\n",
    "    C = y / (x**alpha)\n",
    "    yv = C * xv**(alpha)\n",
    "    plt.loglog(xv, yv,'k--')"
   ]
  },
  {
   "cell_type": "markdown",
   "metadata": {
    "heading_collapsed": true
   },
   "source": [
    "## 2 point"
   ]
  },
  {
   "cell_type": "code",
   "execution_count": 3,
   "metadata": {
    "collapsed": false,
    "hidden": true
   },
   "outputs": [],
   "source": [
    "nlam=3\n",
    "ORDEig=25\n",
    "d=3\n",
    "mu=0\n",
    "\n",
    "nkpts=500\n",
    "K=np.logspace(-5,7,nkpts)\n",
    "props=[] # list of propagators at each K\n",
    "for ii in range(0,nkpts):\n",
    "    name = ii\n",
    "    props.append(propagator.propagator(name,K[ii],mu,nlam=nlam))"
   ]
  },
  {
   "cell_type": "markdown",
   "metadata": {
    "heading_collapsed": true,
    "hidden": true
   },
   "source": [
    "### AA"
   ]
  },
  {
   "cell_type": "code",
   "execution_count": 4,
   "metadata": {
    "collapsed": false,
    "hidden": true
   },
   "outputs": [],
   "source": [
    "fa=0.5\n",
    "N=[0.1,1.0,10,100,1000,10000,100000]\n",
    "ana=np.zeros((nkpts,len(N)),dtype=type(1+1j))\n",
    "dub=np.zeros((nkpts,len(N)),dtype=type(1+1j))\n",
    "for ii in range(0,nkpts):\n",
    "    lam=0\n",
    "    lam0=0\n",
    "    for nn in range(0,len(N)):\n",
    "        ana[ii,nn]=mp.IAAresum(N[nn],fa,lam0,lam,props[ii])\n",
    "        dub[ii,nn]=mp.IAAexplicit(N[nn],fa,lam0,lam,props[ii])"
   ]
  },
  {
   "cell_type": "code",
   "execution_count": 6,
   "metadata": {
    "collapsed": false,
    "hidden": true
   },
   "outputs": [],
   "source": [
    "fig, ax = plt.subplots()\n",
    "for ii in range(0,len(N)):\n",
    "    col=float(ii)/len(N)\n",
    "    ax.loglog(K.real*np.sqrt(N[ii]),abs(ana[:,ii])/(N[ii]**2),\\\n",
    "                color=[col, 0.0, 1-col],label='resum '+str(N[ii]))\n",
    "    #ax.loglog(K.real,abs(ana[:,ii]),\\\n",
    "    #            color=[col, 0.0, 1-col],label='resum '+str(N[ii]))\n",
    "    ax.loglog(K.real*np.sqrt(N[ii]),abs(dub[:,ii])/(N[ii]**2),'--',\\\n",
    "                color=[col, 0.0, 1-col],label='expl '+str(N[ii]))\n",
    "    #ax.loglog(K.real,abs(dub[:,ii]),'--',\\\n",
    "    #            color=[col, 0.0, 1-col],label='expl '+str(N[ii]))\n",
    "ax.legend(bbox_to_anchor=(1.05,1),loc=2)\n",
    "plotlog(2e4,1e-3,-1) \n",
    "ax.set_xlabel('K')\n",
    "ax.set_title('AA')\n",
    "ax.set_ylim([10**-8,10**10])\n",
    "plt.show()"
   ]
  },
  {
   "cell_type": "code",
   "execution_count": null,
   "metadata": {
    "collapsed": false,
    "hidden": true
   },
   "outputs": [],
   "source": [
    "N=[0.01,0.1,1.0,10,100]\n",
    "ana=np.zeros((nkpts,len(N)),dtype=type(1+1j))\n",
    "dub=np.zeros((nkpts,len(N)),dtype=type(1+1j))\n",
    "fa=0.5\n",
    "for ii in range(0,nkpts):\n",
    "    lam=0\n",
    "    lam0=0\n",
    "    for nn in range(0,len(N)):\n",
    "        ana[ii,nn]=mp.IABresum(N[nn],fa,lam0,lam,props[ii])\n",
    "        dub[ii,nn]=mp.IABexplicit(N[nn],fa,lam0,lam,props[ii])"
   ]
  },
  {
   "cell_type": "code",
   "execution_count": null,
   "metadata": {
    "collapsed": false,
    "hidden": true
   },
   "outputs": [],
   "source": [
    "fig, ax = plt.subplots()\n",
    "for ii in range(0,len(N)):\n",
    "    col=float(ii)/len(N)\n",
    "    ax.loglog(K.real,abs(ana[:,ii]),\\\n",
    "                color=[col, 0.0, 1-col],label='resum '+str(N[ii]))\n",
    "    ax.loglog(K.real,abs(dub[:,ii]),'--',\\\n",
    "                color=[col, 0.0, 1-col],label='expl '+str(N[ii]))\n",
    "ax.legend(bbox_to_anchor=(1.05,1),loc=2)\n",
    "plotlog(2e4,1e-7,-2)\n",
    "ax.set_xlabel('K')\n",
    "ax.set_title('AB')\n",
    "ax.set_ylim([10**-15,100000])\n",
    "plt.show()"
   ]
  },
  {
   "cell_type": "markdown",
   "metadata": {
    "heading_collapsed": true
   },
   "source": [
    "## 3 Point"
   ]
  },
  {
   "cell_type": "code",
   "execution_count": 3,
   "metadata": {
    "collapsed": false,
    "hidden": true
   },
   "outputs": [
    {
     "ename": "KeyboardInterrupt",
     "evalue": "",
     "output_type": "error",
     "traceback": [
      "\u001b[0;31m---------------------------------------------------------------------------\u001b[0m",
      "\u001b[0;31mKeyboardInterrupt\u001b[0m                         Traceback (most recent call last)",
      "\u001b[0;32m_ctypes/callbacks.c\u001b[0m in \u001b[0;36m'calling callback function'\u001b[0;34m()\u001b[0m\n",
      "\u001b[0;32m/home/users/qmac/anaconda3/lib/python3.5/site-packages/llvmlite/binding/executionengine.py\u001b[0m in \u001b[0;36m_raw_object_cache_getbuffer\u001b[0;34m(self, data)\u001b[0m\n\u001b[1;32m    185\u001b[0m             \u001b[0;32mreturn\u001b[0m\u001b[0;34m\u001b[0m\u001b[0m\n\u001b[1;32m    186\u001b[0m         \u001b[0mmodule_ptr\u001b[0m \u001b[0;34m=\u001b[0m \u001b[0mdata\u001b[0m\u001b[0;34m.\u001b[0m\u001b[0mcontents\u001b[0m\u001b[0;34m.\u001b[0m\u001b[0mmodule_ptr\u001b[0m\u001b[0;34m\u001b[0m\u001b[0m\n\u001b[0;32m--> 187\u001b[0;31m         \u001b[0mmodule\u001b[0m \u001b[0;34m=\u001b[0m \u001b[0mself\u001b[0m\u001b[0;34m.\u001b[0m\u001b[0m_find_module_ptr\u001b[0m\u001b[0;34m(\u001b[0m\u001b[0mmodule_ptr\u001b[0m\u001b[0;34m)\u001b[0m\u001b[0;34m\u001b[0m\u001b[0m\n\u001b[0m\u001b[1;32m    188\u001b[0m         \u001b[0;32mif\u001b[0m \u001b[0mmodule\u001b[0m \u001b[0;32mis\u001b[0m \u001b[0;32mNone\u001b[0m\u001b[0;34m:\u001b[0m\u001b[0;34m\u001b[0m\u001b[0m\n\u001b[1;32m    189\u001b[0m             \u001b[0;31m# The LLVM EE should only give notifications for modules\u001b[0m\u001b[0;34m\u001b[0m\u001b[0;34m\u001b[0m\u001b[0m\n",
      "\u001b[0;32m/home/users/qmac/anaconda3/lib/python3.5/site-packages/llvmlite/binding/executionengine.py\u001b[0m in \u001b[0;36m_find_module_ptr\u001b[0;34m(self, module_ptr)\u001b[0m\n\u001b[1;32m    143\u001b[0m         \u001b[0mptr\u001b[0m \u001b[0;34m=\u001b[0m \u001b[0mcast\u001b[0m\u001b[0;34m(\u001b[0m\u001b[0mmodule_ptr\u001b[0m\u001b[0;34m,\u001b[0m \u001b[0mc_void_p\u001b[0m\u001b[0;34m)\u001b[0m\u001b[0;34m.\u001b[0m\u001b[0mvalue\u001b[0m\u001b[0;34m\u001b[0m\u001b[0m\n\u001b[1;32m    144\u001b[0m         \u001b[0;32mfor\u001b[0m \u001b[0mmodule\u001b[0m \u001b[0;32min\u001b[0m \u001b[0mself\u001b[0m\u001b[0;34m.\u001b[0m\u001b[0m_modules\u001b[0m\u001b[0;34m:\u001b[0m\u001b[0;34m\u001b[0m\u001b[0m\n\u001b[0;32m--> 145\u001b[0;31m             \u001b[0;32mif\u001b[0m \u001b[0mcast\u001b[0m\u001b[0;34m(\u001b[0m\u001b[0mmodule\u001b[0m\u001b[0;34m.\u001b[0m\u001b[0m_ptr\u001b[0m\u001b[0;34m,\u001b[0m \u001b[0mc_void_p\u001b[0m\u001b[0;34m)\u001b[0m\u001b[0;34m.\u001b[0m\u001b[0mvalue\u001b[0m \u001b[0;34m==\u001b[0m \u001b[0mptr\u001b[0m\u001b[0;34m:\u001b[0m\u001b[0;34m\u001b[0m\u001b[0m\n\u001b[0m\u001b[1;32m    146\u001b[0m                 \u001b[0;32mreturn\u001b[0m \u001b[0mmodule\u001b[0m\u001b[0;34m\u001b[0m\u001b[0m\n\u001b[1;32m    147\u001b[0m         \u001b[0;32mreturn\u001b[0m \u001b[0;32mNone\u001b[0m\u001b[0;34m\u001b[0m\u001b[0m\n",
      "\u001b[0;31mKeyboardInterrupt\u001b[0m: "
     ]
    },
    {
     "ename": "KeyboardInterrupt",
     "evalue": "",
     "output_type": "error",
     "traceback": [
      "\u001b[0;31m---------------------------------------------------------------------------\u001b[0m",
      "\u001b[0;31mKeyboardInterrupt\u001b[0m                         Traceback (most recent call last)",
      "\u001b[0;32m<ipython-input-3-772d15cd58bc>\u001b[0m in \u001b[0;36m<module>\u001b[0;34m()\u001b[0m\n\u001b[1;32m     14\u001b[0m \u001b[0;34m\u001b[0m\u001b[0m\n\u001b[1;32m     15\u001b[0m     \u001b[0mname\u001b[0m\u001b[0;34m=\u001b[0m\u001b[0mii\u001b[0m\u001b[0;34m+\u001b[0m\u001b[0;36m0.5\u001b[0m\u001b[0;34m\u001b[0m\u001b[0m\n\u001b[0;32m---> 16\u001b[0;31m     \u001b[0mprops2\u001b[0m\u001b[0;34m.\u001b[0m\u001b[0mappend\u001b[0m\u001b[0;34m(\u001b[0m \u001b[0mpropagator\u001b[0m\u001b[0;34m.\u001b[0m\u001b[0mpropagator\u001b[0m\u001b[0;34m(\u001b[0m\u001b[0mname\u001b[0m\u001b[0;34m,\u001b[0m\u001b[0mK\u001b[0m\u001b[0;34m[\u001b[0m\u001b[0mii\u001b[0m\u001b[0;34m]\u001b[0m\u001b[0;34m,\u001b[0m\u001b[0mmu\u001b[0m\u001b[0;34m,\u001b[0m\u001b[0mnlam\u001b[0m\u001b[0;34m=\u001b[0m\u001b[0mnlam\u001b[0m\u001b[0;34m)\u001b[0m \u001b[0;34m)\u001b[0m\u001b[0;34m\u001b[0m\u001b[0m\n\u001b[0m",
      "\u001b[0;32m/home/users/qmac/MultiPointCalculation/propagator.py\u001b[0m in \u001b[0;36m__init__\u001b[0;34m(self, name, K, mu, nlam, lamMax, ORDEig, d)\u001b[0m\n\u001b[1;32m     57\u001b[0m         \u001b[0mself\u001b[0m\u001b[0;34m.\u001b[0m\u001b[0mORDEig\u001b[0m \u001b[0;34m=\u001b[0m \u001b[0mORDEig\u001b[0m\u001b[0;34m\u001b[0m\u001b[0m\n\u001b[1;32m     58\u001b[0m         \u001b[0mself\u001b[0m\u001b[0;34m.\u001b[0m\u001b[0md\u001b[0m \u001b[0;34m=\u001b[0m\u001b[0md\u001b[0m\u001b[0;34m\u001b[0m\u001b[0m\n\u001b[0;32m---> 59\u001b[0;31m         \u001b[0mself\u001b[0m\u001b[0;34m.\u001b[0m\u001b[0meig\u001b[0m\u001b[0;34m,\u001b[0m \u001b[0mself\u001b[0m\u001b[0;34m.\u001b[0m\u001b[0mres\u001b[0m\u001b[0;34m,\u001b[0m \u001b[0mself\u001b[0m\u001b[0;34m.\u001b[0m\u001b[0ma\u001b[0m\u001b[0;34m,\u001b[0m \u001b[0mself\u001b[0m\u001b[0;34m.\u001b[0m\u001b[0mb\u001b[0m \u001b[0;34m=\u001b[0m \u001b[0mself\u001b[0m\u001b[0;34m.\u001b[0m\u001b[0mcalc_resData_G\u001b[0m\u001b[0;34m(\u001b[0m\u001b[0;34m)\u001b[0m\u001b[0;34m\u001b[0m\u001b[0m\n\u001b[0m\u001b[1;32m     60\u001b[0m         \u001b[0mself\u001b[0m\u001b[0;34m.\u001b[0m\u001b[0mG0\u001b[0m\u001b[0;34m,\u001b[0m \u001b[0mself\u001b[0m\u001b[0;34m.\u001b[0m\u001b[0mdG0\u001b[0m \u001b[0;34m=\u001b[0m \u001b[0mself\u001b[0m\u001b[0;34m.\u001b[0m\u001b[0mcalcZeroPterms\u001b[0m\u001b[0;34m(\u001b[0m\u001b[0;34m)\u001b[0m\u001b[0;34m\u001b[0m\u001b[0m\n\u001b[1;32m     61\u001b[0m         \u001b[0mself\u001b[0m\u001b[0;34m.\u001b[0m\u001b[0motherG\u001b[0m \u001b[0;34m=\u001b[0m \u001b[0;34m{\u001b[0m\u001b[0;34m}\u001b[0m\u001b[0;34m\u001b[0m\u001b[0m\n",
      "\u001b[0;32m/home/users/qmac/MultiPointCalculation/propagator.py\u001b[0m in \u001b[0;36mcalc_resData_G\u001b[0;34m(self)\u001b[0m\n\u001b[1;32m    125\u001b[0m                         wlc.LurentifyG(K,eigvals[l],l,mu,nlam=10,d=3,\\\n\u001b[1;32m    126\u001b[0m                                        \u001b[0mlamMax\u001b[0m\u001b[0;34m=\u001b[0m\u001b[0;36m500\u001b[0m\u001b[0;34m,\u001b[0m\u001b[0;31m\\\u001b[0m\u001b[0;34m\u001b[0m\u001b[0m\n\u001b[0;32m--> 127\u001b[0;31m                                        cutoff=10**-11,lowKcut=10**-7)\n\u001b[0m\u001b[1;32m    128\u001b[0m                 \u001b[0;31m#res.append(wlc.residues(K,eigvals[l],l,mu,nlam=nlam,d=d))\u001b[0m\u001b[0;34m\u001b[0m\u001b[0;34m\u001b[0m\u001b[0m\n\u001b[1;32m    129\u001b[0m                 \u001b[0meig\u001b[0m\u001b[0;34m.\u001b[0m\u001b[0mappend\u001b[0m\u001b[0;34m(\u001b[0m\u001b[0meigvals\u001b[0m\u001b[0;34m[\u001b[0m\u001b[0ml\u001b[0m\u001b[0;34m]\u001b[0m\u001b[0;34m)\u001b[0m\u001b[0;34m\u001b[0m\u001b[0m\n",
      "\u001b[0;32m/home/users/qmac/MultiPointCalculation/WLCgreen.py\u001b[0m in \u001b[0;36mLurentifyG\u001b[0;34m(K, eig, l, mu, nlam, d, lamMax, cutoff, lowKcut, zeroKcut)\u001b[0m\n\u001b[1;32m   1281\u001b[0m     \u001b[0;32mfor\u001b[0m \u001b[0mlam\u001b[0m \u001b[0;32min\u001b[0m \u001b[0mrange\u001b[0m\u001b[0;34m(\u001b[0m\u001b[0mabs\u001b[0m\u001b[0;34m(\u001b[0m\u001b[0mmu\u001b[0m\u001b[0;34m)\u001b[0m\u001b[0;34m,\u001b[0m\u001b[0mnlam\u001b[0m\u001b[0;34m)\u001b[0m\u001b[0;34m:\u001b[0m\u001b[0;34m\u001b[0m\u001b[0m\n\u001b[1;32m   1282\u001b[0m         \u001b[0;32mfor\u001b[0m \u001b[0mlam0\u001b[0m \u001b[0;32min\u001b[0m \u001b[0mrange\u001b[0m\u001b[0;34m(\u001b[0m\u001b[0mabs\u001b[0m\u001b[0;34m(\u001b[0m\u001b[0mmu\u001b[0m\u001b[0;34m)\u001b[0m\u001b[0;34m,\u001b[0m\u001b[0mnlam\u001b[0m\u001b[0;34m)\u001b[0m\u001b[0;34m:\u001b[0m\u001b[0;34m\u001b[0m\u001b[0m\n\u001b[0;32m-> 1283\u001b[0;31m             \u001b[0msmallK\u001b[0m\u001b[0;34m=\u001b[0m\u001b[0mSmallAysmpRes\u001b[0m\u001b[0;34m(\u001b[0m\u001b[0mK\u001b[0m\u001b[0;34m,\u001b[0m\u001b[0ml\u001b[0m\u001b[0;34m,\u001b[0m\u001b[0mlam\u001b[0m\u001b[0;34m,\u001b[0m\u001b[0mlam0\u001b[0m\u001b[0;34m,\u001b[0m\u001b[0mmu\u001b[0m\u001b[0;34m,\u001b[0m\u001b[0md\u001b[0m\u001b[0;34m=\u001b[0m\u001b[0md\u001b[0m\u001b[0;34m)\u001b[0m\u001b[0;34m\u001b[0m\u001b[0m\n\u001b[0m\u001b[1;32m   1284\u001b[0m             \u001b[0;32mif\u001b[0m \u001b[0mabs\u001b[0m\u001b[0;34m(\u001b[0m\u001b[0msmallK\u001b[0m\u001b[0;34m)\u001b[0m\u001b[0;34m<\u001b[0m\u001b[0mcutoff\u001b[0m \u001b[0;32mor\u001b[0m \u001b[0mK\u001b[0m\u001b[0;34m<\u001b[0m\u001b[0mlowKcut\u001b[0m\u001b[0;34m:\u001b[0m\u001b[0;34m\u001b[0m\u001b[0m\n\u001b[1;32m   1285\u001b[0m                 \u001b[0mres\u001b[0m\u001b[0;34m[\u001b[0m\u001b[0mlam0\u001b[0m\u001b[0;34m,\u001b[0m\u001b[0mlam\u001b[0m\u001b[0;34m]\u001b[0m\u001b[0;34m=\u001b[0m\u001b[0msmallK\u001b[0m\u001b[0;34m\u001b[0m\u001b[0m\n",
      "\u001b[0;31mKeyboardInterrupt\u001b[0m: "
     ]
    }
   ],
   "source": [
    "nlam=5\n",
    "ORDEig=3\n",
    "d=3\n",
    "mu=0\n",
    "\n",
    "nkpts=2000\n",
    "K=np.logspace(-4,7,nkpts)\n",
    "props1=[] # list of propagators at each K\n",
    "props2=[] # list of propagators at each K\n",
    "for ii in range(0,nkpts):\n",
    "\n",
    "    name=ii\n",
    "    props1.append( propagator.propagator(name,K[ii],mu,nlam=nlam) )\n",
    "\n",
    "    name=ii+0.5\n",
    "    props2.append( propagator.propagator(name,K[ii],mu,nlam=nlam) )"
   ]
  },
  {
   "cell_type": "markdown",
   "metadata": {
    "hidden": true
   },
   "source": [
    "#### AAA"
   ]
  },
  {
   "cell_type": "code",
   "execution_count": 17,
   "metadata": {
    "collapsed": false,
    "hidden": true,
    "hide_input": false
   },
   "outputs": [],
   "source": [
    "fa=0.5\n",
    "N=[0.01,0.1,1.0,10,100]\n",
    "ana=np.zeros((nkpts,len(N)),dtype=type(1+1j))\n",
    "dub=np.zeros((nkpts,len(N)),dtype=type(1+1j))\n",
    "for ii in range(0,nkpts):\n",
    "    lam_1=1\n",
    "    lam0_1=1\n",
    "    lam_2=1\n",
    "    lam0_2=1\n",
    "    for nn in range(0,len(N)):\n",
    "        #IAAAexplicit(N,fa,lam0_1,lam_1,lam0_2,lam_2,p1,p2)\n",
    "        ana[ii,nn]=mp.IAAA(N[nn],fa,\\\n",
    "                                lam0_1,lam_1,\\\n",
    "                                lam0_2,lam_2,\\\n",
    "                                props1[ii],props2[ii])\n",
    "        dub[ii,nn]=mp.IAAAexplicit(N[nn],fa,\\\n",
    "                                    lam0_1,lam_1,\\\n",
    "                                    lam0_2,lam_2,\\\n",
    "                                    props1[ii],props2[ii])"
   ]
  },
  {
   "cell_type": "code",
   "execution_count": 26,
   "metadata": {
    "collapsed": false,
    "hidden": true,
    "scrolled": true
   },
   "outputs": [
    {
     "name": "stdout",
     "output_type": "stream",
     "text": [
      "1 , 1 , 1\n"
     ]
    }
   ],
   "source": [
    "fig, ax = plt.subplots()\n",
    "for ii in range(0,len(N)):\n",
    "    col=float(ii)/len(N)\n",
    "    ax.loglog(K.real,abs(ana[:,ii].real),\\\n",
    "                color=[col, 0.0, 1-col],label='N='+str(N[ii]))\n",
    "    #ax.loglog(K.real,abs(dub[:,ii]),':',\\\n",
    "    #            color=[col, 0.0, 1-col],label='expl '+str(N[ii]))\n",
    "ax.legend()#bbox_to_anchor=(1.05,1),loc=2)\n",
    "plotlog(2e4,1e-13,-3)\n",
    "ax.set_xlabel('K')\n",
    "#ax.set_title('A'+str(lam_1)+',A'+str(lam_2)+',A'+str(lam0_2))\n",
    "ax.set_title('\\int d^2s G_11(K) G_11(K)')\n",
    "ax.set_ylim([10**-18,10**2])\n",
    "print(lam_1,',',lam_2,',',lam0_2)\n",
    "plt.show()"
   ]
  },
  {
   "cell_type": "code",
   "execution_count": null,
   "metadata": {
    "collapsed": true,
    "hidden": true
   },
   "outputs": [],
   "source": []
  },
  {
   "cell_type": "code",
   "execution_count": null,
   "metadata": {
    "collapsed": true,
    "hidden": true
   },
   "outputs": [],
   "source": [
    "nl=5\n",
    "out=np.zeros((nkpts,len(N)),dtype=type(1+1j))\n",
    "for ii in range(0,nkpts):\n",
    "    for l in range(0,(nl)):\n",
    "        out[ii,l]=props1[ii].res[l][lam0_1,lam_1]"
   ]
  },
  {
   "cell_type": "code",
   "execution_count": null,
   "metadata": {
    "collapsed": false,
    "hidden": true
   },
   "outputs": [],
   "source": [
    "fig, ax = plt.subplots()\n",
    "for ii in range(0,nl):\n",
    "    col=float(ii)/nl\n",
    "    ax.loglog(K.real,abs(out[:,ii].real),\\\n",
    "                color=[col, 0.0, 1-col],label='resum '+str(N[ii]))\n",
    "ax.legend(bbox_to_anchor=(1.05,1),loc=2)\n",
    "ax.set_xlabel('K')\n",
    "ax.set_title('res')\n",
    "print('lam',lam_1,'lam0',lam_0)\n",
    "ax.set_ylim([10**-25,10])\n",
    "plt.show()"
   ]
  },
  {
   "cell_type": "code",
   "execution_count": null,
   "metadata": {
    "collapsed": false,
    "hidden": true
   },
   "outputs": [],
   "source": [
    "nl=5\n",
    "out=np.zeros((nkpts,len(N),nl),dtype=type(1+1j))\n",
    "for ii in range(0,nkpts):\n",
    "    for nn in range(0,len(N)):\n",
    "        for l in range(0,(nl)):\n",
    "            out[ii,nn,l]=props1[ii].eig[l]"
   ]
  },
  {
   "cell_type": "code",
   "execution_count": null,
   "metadata": {
    "collapsed": false,
    "hidden": true
   },
   "outputs": [],
   "source": [
    "fig, ax = plt.subplots()\n",
    "for ii in range(0,nl):\n",
    "    col=float(ii)/nl\n",
    "    ax.loglog(K.real,abs(out[:,0,ii].real),\\\n",
    "                color=[col, 0.0, 1-col],label='resum '+str(N[ii]))\n",
    "ax.legend(bbox_to_anchor=(1.05,1),loc=2)\n",
    "ax.set_xlabel('K')\n",
    "ax.set_title('eig')\n",
    "\n",
    "plt.show()"
   ]
  },
  {
   "cell_type": "markdown",
   "metadata": {
    "heading_collapsed": true,
    "hidden": true
   },
   "source": [
    "#### ABB"
   ]
  },
  {
   "cell_type": "code",
   "execution_count": null,
   "metadata": {
    "collapsed": false,
    "hidden": true
   },
   "outputs": [],
   "source": [
    "N=[0.01,0.1,1.0,10,100]\n",
    "ana=np.zeros((nkpts,len(N)),dtype=type(1+1j))\n",
    "dub=np.zeros((nkpts,len(N)),dtype=type(1+1j))\n",
    "fa=0.4466\n",
    "for ii in range(0,nkpts):\n",
    "    lam_1=0\n",
    "    lam0_1=0\n",
    "    lam_2=0\n",
    "    lam0_2=0\n",
    "    for nn in range(0,len(N)):\n",
    "        ana[ii,nn]=mp.IABBresum(N[nn],fa,\\\n",
    "                                lam0_1,lam_1,\\\n",
    "                                lam0_2,lam_2,\\\n",
    "                                props1[ii],props2[ii])\n",
    "        #dub[ii,nn]=IAAAexplicit(N[nn],lam0,lam,props1[ii],props2[ii])"
   ]
  },
  {
   "cell_type": "code",
   "execution_count": null,
   "metadata": {
    "collapsed": false,
    "hidden": true
   },
   "outputs": [],
   "source": [
    "fig, ax = plt.subplots()\n",
    "for ii in range(0,len(N)):\n",
    "    col=float(ii)/len(N)\n",
    "    ax.loglog(K.real,abs(ana[:,ii]),\\\n",
    "                color=[col, 0.0, 1-col],label='resum '+str(N[ii]))\n",
    "    #ax.loglog(K.real,abs(dub[:,ii]),'--',\\\n",
    "    #            color=[col, 0.0, 1-col],label='expl '+str(N[ii]))\n",
    "ax.legend(bbox_to_anchor=(1.05,1),loc=2)\n",
    "plotlog(2e4,1e-9,-3)\n",
    "ax.set_xlabel('K')\n",
    "ax.set_title('ABB')\n",
    "ax.set_ylim([10**-18,10**15])\n",
    "plt.show()"
   ]
  },
  {
   "cell_type": "markdown",
   "metadata": {},
   "source": [
    "## 4 point"
   ]
  },
  {
   "cell_type": "code",
   "execution_count": 4,
   "metadata": {
    "collapsed": false,
    "scrolled": true
   },
   "outputs": [
    {
     "ename": "KeyboardInterrupt",
     "evalue": "",
     "output_type": "error",
     "traceback": [
      "\u001b[0;31m---------------------------------------------------------------------------\u001b[0m",
      "\u001b[0;31mKeyboardInterrupt\u001b[0m                         Traceback (most recent call last)",
      "\u001b[0;32m<ipython-input-4-337e181d8d0d>\u001b[0m in \u001b[0;36m<module>\u001b[0;34m()\u001b[0m\n\u001b[1;32m     20\u001b[0m \u001b[0;34m\u001b[0m\u001b[0m\n\u001b[1;32m     21\u001b[0m     \u001b[0mname\u001b[0m\u001b[0;34m=\u001b[0m\u001b[0mii\u001b[0m\u001b[0;34m+\u001b[0m\u001b[0;36m0.25\u001b[0m\u001b[0;34m\u001b[0m\u001b[0m\n\u001b[0;32m---> 22\u001b[0;31m     \u001b[0mprops3\u001b[0m\u001b[0;34m.\u001b[0m\u001b[0mappend\u001b[0m\u001b[0;34m(\u001b[0m \u001b[0mpropagator\u001b[0m\u001b[0;34m.\u001b[0m\u001b[0mpropagator\u001b[0m\u001b[0;34m(\u001b[0m\u001b[0mname\u001b[0m\u001b[0;34m,\u001b[0m\u001b[0;36m1.0\u001b[0m\u001b[0;34m*\u001b[0m\u001b[0mK\u001b[0m\u001b[0;34m[\u001b[0m\u001b[0mii\u001b[0m\u001b[0;34m]\u001b[0m\u001b[0;34m,\u001b[0m\u001b[0mmu3\u001b[0m\u001b[0;34m,\u001b[0m\u001b[0mnlam\u001b[0m\u001b[0;34m=\u001b[0m\u001b[0mnlam\u001b[0m\u001b[0;34m)\u001b[0m \u001b[0;34m)\u001b[0m\u001b[0;34m\u001b[0m\u001b[0m\n\u001b[0m",
      "\u001b[0;32m/home/users/qmac/MultiPointCalculation/propagator.py\u001b[0m in \u001b[0;36m__init__\u001b[0;34m(self, name, K, mu, nlam, lamMax, ORDEig, d)\u001b[0m\n\u001b[1;32m     57\u001b[0m         \u001b[0mself\u001b[0m\u001b[0;34m.\u001b[0m\u001b[0mORDEig\u001b[0m \u001b[0;34m=\u001b[0m \u001b[0mORDEig\u001b[0m\u001b[0;34m\u001b[0m\u001b[0m\n\u001b[1;32m     58\u001b[0m         \u001b[0mself\u001b[0m\u001b[0;34m.\u001b[0m\u001b[0md\u001b[0m \u001b[0;34m=\u001b[0m\u001b[0md\u001b[0m\u001b[0;34m\u001b[0m\u001b[0m\n\u001b[0;32m---> 59\u001b[0;31m         \u001b[0mself\u001b[0m\u001b[0;34m.\u001b[0m\u001b[0meig\u001b[0m\u001b[0;34m,\u001b[0m \u001b[0mself\u001b[0m\u001b[0;34m.\u001b[0m\u001b[0mres\u001b[0m\u001b[0;34m,\u001b[0m \u001b[0mself\u001b[0m\u001b[0;34m.\u001b[0m\u001b[0ma\u001b[0m\u001b[0;34m,\u001b[0m \u001b[0mself\u001b[0m\u001b[0;34m.\u001b[0m\u001b[0mb\u001b[0m \u001b[0;34m=\u001b[0m \u001b[0mself\u001b[0m\u001b[0;34m.\u001b[0m\u001b[0mcalc_resData_G\u001b[0m\u001b[0;34m(\u001b[0m\u001b[0;34m)\u001b[0m\u001b[0;34m\u001b[0m\u001b[0m\n\u001b[0m\u001b[1;32m     60\u001b[0m         \u001b[0mself\u001b[0m\u001b[0;34m.\u001b[0m\u001b[0mG0\u001b[0m\u001b[0;34m,\u001b[0m \u001b[0mself\u001b[0m\u001b[0;34m.\u001b[0m\u001b[0mdG0\u001b[0m \u001b[0;34m=\u001b[0m \u001b[0mself\u001b[0m\u001b[0;34m.\u001b[0m\u001b[0mcalcZeroPterms\u001b[0m\u001b[0;34m(\u001b[0m\u001b[0;34m)\u001b[0m\u001b[0;34m\u001b[0m\u001b[0m\n\u001b[1;32m     61\u001b[0m         \u001b[0mself\u001b[0m\u001b[0;34m.\u001b[0m\u001b[0motherG\u001b[0m \u001b[0;34m=\u001b[0m \u001b[0;34m{\u001b[0m\u001b[0;34m}\u001b[0m\u001b[0;34m\u001b[0m\u001b[0m\n",
      "\u001b[0;32m/home/users/qmac/MultiPointCalculation/propagator.py\u001b[0m in \u001b[0;36mcalc_resData_G\u001b[0;34m(self)\u001b[0m\n\u001b[1;32m    125\u001b[0m                         wlc.LurentifyG(K,eigvals[l],l,mu,nlam=10,d=3,\\\n\u001b[1;32m    126\u001b[0m                                        \u001b[0mlamMax\u001b[0m\u001b[0;34m=\u001b[0m\u001b[0;36m500\u001b[0m\u001b[0;34m,\u001b[0m\u001b[0;31m\\\u001b[0m\u001b[0;34m\u001b[0m\u001b[0m\n\u001b[0;32m--> 127\u001b[0;31m                                        cutoff=10**-11,lowKcut=10**-7)\n\u001b[0m\u001b[1;32m    128\u001b[0m                 \u001b[0;31m#res.append(wlc.residues(K,eigvals[l],l,mu,nlam=nlam,d=d))\u001b[0m\u001b[0;34m\u001b[0m\u001b[0;34m\u001b[0m\u001b[0m\n\u001b[1;32m    129\u001b[0m                 \u001b[0meig\u001b[0m\u001b[0;34m.\u001b[0m\u001b[0mappend\u001b[0m\u001b[0;34m(\u001b[0m\u001b[0meigvals\u001b[0m\u001b[0;34m[\u001b[0m\u001b[0ml\u001b[0m\u001b[0;34m]\u001b[0m\u001b[0;34m)\u001b[0m\u001b[0;34m\u001b[0m\u001b[0m\n",
      "\u001b[0;32m/home/users/qmac/MultiPointCalculation/WLCgreen.py\u001b[0m in \u001b[0;36mLurentifyG\u001b[0;34m(K, eig, l, mu, nlam, d, lamMax, cutoff, lowKcut, zeroKcut)\u001b[0m\n\u001b[1;32m   1265\u001b[0m \u001b[0;34m\u001b[0m\u001b[0m\n\u001b[1;32m   1266\u001b[0m     \u001b[0;32mtry\u001b[0m\u001b[0;34m:\u001b[0m\u001b[0;34m\u001b[0m\u001b[0m\n\u001b[0;32m-> 1267\u001b[0;31m         \u001b[0minvG\u001b[0m\u001b[0;34m,\u001b[0m \u001b[0mdinvG\u001b[0m\u001b[0;34m,\u001b[0m \u001b[0mddinvG\u001b[0m\u001b[0;34m,\u001b[0m \u001b[0mdddinvG\u001b[0m \u001b[0;34m=\u001b[0m           \u001b[0mCalcInvG\u001b[0m\u001b[0;34m(\u001b[0m\u001b[0mK\u001b[0m\u001b[0;34m,\u001b[0m\u001b[0meig\u001b[0m\u001b[0;34m,\u001b[0m\u001b[0mmu\u001b[0m\u001b[0;34m,\u001b[0m\u001b[0mnlam\u001b[0m\u001b[0;34m=\u001b[0m\u001b[0;36m10\u001b[0m\u001b[0;34m,\u001b[0m\u001b[0md\u001b[0m\u001b[0;34m=\u001b[0m\u001b[0;36m3\u001b[0m\u001b[0;34m,\u001b[0m\u001b[0mlamMax\u001b[0m\u001b[0;34m=\u001b[0m\u001b[0;36m500\u001b[0m\u001b[0;34m)\u001b[0m\u001b[0;34m\u001b[0m\u001b[0m\n\u001b[0m\u001b[1;32m   1268\u001b[0m     \u001b[0;32mexcept\u001b[0m \u001b[0mZeroDivisionError\u001b[0m\u001b[0;34m:\u001b[0m\u001b[0;34m\u001b[0m\u001b[0m\n\u001b[1;32m   1269\u001b[0m         \u001b[0mprint\u001b[0m\u001b[0;34m(\u001b[0m\u001b[0;34m'Encountered division by zero on CalInvG'\u001b[0m\u001b[0;34m)\u001b[0m\u001b[0;34m\u001b[0m\u001b[0m\n",
      "\u001b[0;31mKeyboardInterrupt\u001b[0m: "
     ]
    }
   ],
   "source": [
    "nlam=5\n",
    "ORDEig=25\n",
    "d=3\n",
    "mu1=0\n",
    "mu2=1\n",
    "mu3=0\n",
    "\n",
    "nkpts=100\n",
    "K=np.logspace(-2,5,nkpts)\n",
    "props1=[] # list of propagators at each K\n",
    "props2=[] # list of propagators at each K\n",
    "props3=[] # list of propagators at each K\n",
    "for ii in range(0,nkpts):\n",
    "\n",
    "    name=ii\n",
    "    props1.append( propagator.propagator(name,1.0*K[ii],mu1,nlam=nlam) )\n",
    "\n",
    "    name=ii+0.5\n",
    "    props2.append( propagator.propagator(name,2.0*K[ii],mu2,nlam=nlam) )\n",
    "    \n",
    "    name=ii+0.25\n",
    "    props3.append( propagator.propagator(name,1.0*K[ii],mu3,nlam=nlam) )"
   ]
  },
  {
   "cell_type": "code",
   "execution_count": null,
   "metadata": {
    "collapsed": false
   },
   "outputs": [],
   "source": [
    "N=[0.001,0.01,0.1,1.0,10,100,1000]\n",
    "ana=np.zeros((nkpts,len(N)),dtype=type(1+1j))\n",
    "dub=np.zeros((nkpts,len(N)),dtype=type(1+1j))\n",
    "fa=0.4466\n",
    "for ii in range(0,nkpts):\n",
    "    lam_1=0\n",
    "    lam0_1=2\n",
    "    lam_2=2\n",
    "    lam0_2=1    \n",
    "    lam_3=1\n",
    "    lam0_3=0\n",
    "    \n",
    "    for nn in range(0,len(N)):\n",
    "        ana[ii,nn]=mp.IAAAAresum(N[nn],fa,\\\n",
    "                                 lam0_1,lam_1,\\\n",
    "                                 lam0_2,lam_2,\\\n",
    "                                 lam0_3,lam_3,\\\n",
    "                                 props1[ii],props2[ii],props3[ii])\n",
    "        if np.isnan(ana[ii,nn]):\n",
    "            print('Nan Found')\n",
    "        #dub[ii,nn]=mp.IAAAAexplicit(N[nn],fa,\\\n",
    "        #                         lam0_1,lam_1,\\\n",
    "        #                         lam0_2,lam_2,\\\n",
    "        #                         lam0_3,lam_3,\\\n",
    "        #                         props1[ii],props2[ii],props3[ii])"
   ]
  },
  {
   "cell_type": "code",
   "execution_count": null,
   "metadata": {
    "collapsed": false
   },
   "outputs": [],
   "source": [
    "fig, ax = plt.subplots()\n",
    "for ii in range(0,len(N)):\n",
    "    col=float(ii)/len(N)\n",
    "    ax.loglog(K.real,ana[:,ii].real,'-',\\\n",
    "                color=[col, 0.0, 1-col],label='resum '+str(N[ii]))\n",
    "    ax.loglog(K.real,-ana[:,ii].real,'--',\\\n",
    "                color=[col, 0.0, 1-col],label='resum '+str(N[ii]))\n",
    "    #ax.loglog(K.real,-dub[:,ii].real,':',\\\n",
    "    #            color=[col, 0.0, 1-col],label='expl '+str(N[ii]))\n",
    "#ax.legend(bbox_to_anchor=(1.05,1),loc=2)\n",
    "#ax.legend(bbox_to_anchor=(1.05,1))\n",
    "plotlog(2e3,1e-4,-1)\n",
    "plotlog(2e3,1e-5,-2)\n",
    "plotlog(2e3,1e-6,-3)\n",
    "plotlog(2e3,1e-7,-4)\n",
    "ax.set_xlabel('K')\n",
    "ax.set_title('AAAA')\n",
    "ax.set_ylim([10**-18,10**15])\n",
    "plt.show()"
   ]
  },
  {
   "cell_type": "code",
   "execution_count": null,
   "metadata": {
    "collapsed": true
   },
   "outputs": [],
   "source": []
  }
 ],
 "metadata": {
  "anaconda-cloud": {},
  "kernelspec": {
   "display_name": "Python [conda root]",
   "language": "python",
   "name": "conda-root-py"
  },
  "language_info": {
   "codemirror_mode": {
    "name": "ipython",
    "version": 3
   },
   "file_extension": ".py",
   "mimetype": "text/x-python",
   "name": "python",
   "nbconvert_exporter": "python",
   "pygments_lexer": "ipython3",
   "version": "3.5.2"
  },
  "latex_envs": {
   "LaTeX_envs_menu_present": true,
   "autocomplete": true,
   "bibliofile": "biblio.bib",
   "cite_by": "apalike",
   "current_citInitial": 1,
   "eqLabelWithNumbers": true,
   "eqNumInitial": 1,
   "hotkeys": {
    "equation": "Ctrl-E",
    "itemize": "Ctrl-I"
   },
   "labels_anchors": false,
   "latex_user_defs": false,
   "report_style_numbering": false,
   "user_envs_cfg": false
  },
  "toc": {
   "colors": {
    "hover_highlight": "#DAA520",
    "running_highlight": "#FF0000",
    "selected_highlight": "#FFD700"
   },
   "moveMenuLeft": true,
   "nav_menu": {
    "height": "86px",
    "width": "252px"
   },
   "navigate_menu": true,
   "number_sections": true,
   "sideBar": true,
   "threshold": 4,
   "toc_cell": false,
   "toc_section_display": "block",
   "toc_window_display": false,
   "widenNotebook": false
  }
 },
 "nbformat": 4,
 "nbformat_minor": 1
}
