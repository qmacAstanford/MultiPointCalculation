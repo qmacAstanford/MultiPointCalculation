{
 "cells": [
  {
   "cell_type": "code",
   "execution_count": 1,
   "metadata": {
    "collapsed": true
   },
   "outputs": [],
   "source": [
    "import numpy as np\n",
    "from scipy import optimize\n",
    "from GAMcalc import *\n",
    "\n",
    "import propagator\n",
    "import wignerD as wd\n",
    "from numpy.linalg import eig"
   ]
  },
  {
   "cell_type": "code",
   "execution_count": 2,
   "metadata": {
    "collapsed": true
   },
   "outputs": [],
   "source": [
    "def set3Ks(K):\n",
    "    k1 = np.array([1,0,0])*K\n",
    "    k2 = np.array([-0.5,0.5*np.sqrt(3),0])*K\n",
    "    k3 = -k1-k2\n",
    "    return [k1, k2, k3]\n",
    "\n",
    "def set4Ks1(K):\n",
    "    k1=np.array([1,0,0])*K\n",
    "    k2=np.array([1,0,0])*K\n",
    "    k3, k4 = -k1, -k2\n",
    "    return [k1, k2, k3, k4]\n",
    "\n",
    "def set4Ks2(K):\n",
    "    k1=np.array([1,0,0])*K\n",
    "    k2=np.array([0.5,0.5*np.sqrt(3),0])*K\n",
    "    k3, k4 = -k1, -k2\n",
    "    return [k1, k2, k3, k4]\n",
    "\n",
    "def set4Ks3(K):\n",
    "    k1=np.array([1,0,0])*K\n",
    "    k2=np.array([0,1,0])*K\n",
    "    k3, k4 = -k1, -k2\n",
    "    return [k1, k2, k3, k4]\n",
    "\n",
    "def set4Ks4(K):\n",
    "    k1=np.array([-1,0,1])/np.sqrt(2)*K\n",
    "    k2=np.array([-1,0,-1])/np.sqrt(2)*K\n",
    "    k3=np.array([1,1,0])/np.sqrt(2)*K\n",
    "    k4=np.array([1,-1,0])/np.sqrt(2)*K\n",
    "    return [k1, k2, k3, k4]"
   ]
  },
  {
   "cell_type": "markdown",
   "metadata": {},
   "source": [
    "### 0.4 Minimizing functions"
   ]
  },
  {
   "cell_type": "code",
   "execution_count": 3,
   "metadata": {
    "collapsed": true
   },
   "outputs": [],
   "source": [
    "def chis(pset, N, FA):\n",
    "    Ks = spinodal(pset, N, FA)\n",
    "    chis = gamma2(pset, N, FA, Ks, 0).real/2\n",
    "    \n",
    "    return chis"
   ]
  },
  {
   "cell_type": "code",
   "execution_count": 4,
   "metadata": {
    "collapsed": true
   },
   "outputs": [],
   "source": [
    "def gamma2sol_biggereig(pset, N, FA, PHIP, K, CHIAB, CHIAS, CHIBS):\n",
    "    gam2sol = gamma2sol(pset, N, FA, PHIP, K, CHIAB, CHIAS, CHIBS)\n",
    "    eigv, eigvec = eig(gam2sol)\n",
    "    return eigv.max().real, eigvec[:,eigv.argmax()].real"
   ]
  },
  {
   "cell_type": "code",
   "execution_count": 5,
   "metadata": {
    "collapsed": true
   },
   "outputs": [],
   "source": [
    "def gamma2sol_smallereig(pset, N, FA, PHIP, K, CHIAB, CHIAS, CHIBS):\n",
    "    gam2sol = gamma2sol(pset, N, FA, PHIP, K, CHIAB, CHIAS, CHIBS)\n",
    "    eigv, eigvec = eig(gam2sol)\n",
    "    return eigv.min().real, eigvec[:,eigv.argmin()].real"
   ]
  },
  {
   "cell_type": "code",
   "execution_count": 6,
   "metadata": {
    "collapsed": true
   },
   "outputs": [],
   "source": [
    "def gamma2sol_mineig(pset, N, FA, PHIP, CHIAB, CHIAS, CHIBS):\n",
    "    f = lambda K: gamma2sol_smallereig(pset, N, FA, PHIP, K, CHIAB, CHIAS, CHIBS)[0]\n",
    "    \n",
    "    # solve for critical wavemode\n",
    "    Ks = optimize.fminbound(f, 1e-3/np.sqrt(N), 1e2/np.sqrt(r2(N)), disp=False)\n",
    "    _, eigvmin = gamma2sol_smallereig(pset, N, FA, PHIP, Ks, CHIAB, CHIAS, CHIBS)\n",
    "    \n",
    "    return f(Ks), Ks, eigvmin"
   ]
  },
  {
   "cell_type": "code",
   "execution_count": 7,
   "metadata": {
    "collapsed": true
   },
   "outputs": [],
   "source": [
    "def gamma2sol_spinodal(pset, N, FA, PHIP):\n",
    "    # check this, this seems to effect the initialization of the below solving for eqn.\n",
    "    CHIAS, CHIBS = 0, 0\n",
    "    \n",
    "    mineig = lambda CHIAB: gamma2sol_mineig(pset, N, FA, PHIP, CHIAB, CHIAS, CHIBS)[0]\n",
    "    CHIABs = optimize.brentq(mineig, 1e-2/N/PHIP, 500/N/PHIP, xtol=1e-2/N/PHIP)\n",
    "    \n",
    "    # find Ks at spinodal\n",
    "    _, Kss, eigvmin = gamma2sol_mineig(pset, N, FA, PHIP, CHIABs, CHIAS, CHIBS)\n",
    "    return CHIABs, Kss, eigvmin"
   ]
  },
  {
   "cell_type": "markdown",
   "metadata": {},
   "source": [
    "### Calculate free energies"
   ]
  },
  {
   "cell_type": "code",
   "execution_count": 8,
   "metadata": {
    "collapsed": true
   },
   "outputs": [],
   "source": [
    "def FE1(A, CHI, gam41):\n",
    "    pi = 3.14159\n",
    "    a = -(2*pi)**(-3)*2*CHI\n",
    "    b = 0\n",
    "    c = (2*pi)**(-9)*(1/4)*gam41.real\n",
    "\n",
    "    return a*A**2 + b*A**3 + c*A**4\n",
    "\n",
    "def FE3(A, CHI, gam3, gam41, gam42):\n",
    "    pi = 3.14159\n",
    "    a = -(2*pi)**(-3)*2*CHI\n",
    "    b = (2*pi)**(-6)*(2/3/np.sqrt(3))*gam3.real\n",
    "    c = (2*pi)**(-9)*(1/12)*(gam41+4*gam42).real\n",
    "    \n",
    "    return a*A**2 + b*A**3 + c*A**4\n",
    "\n",
    "def FE6(A, CHI, gam3, gam41, gam42, gam43, gam44):\n",
    "    pi = 3.14159\n",
    "    a = -(2*pi)**(-3)*2*CHI\n",
    "    b = (2*pi)**(-6)*(4/3/np.sqrt(6))*gam3.real\n",
    "    c = (2*pi)**(-9)*(1/24)*(gam41+8*gam42+2*gam43+4*gam44).real\n",
    "    \n",
    "    return a*A**2 + b*A**3 + c*A**4"
   ]
  },
  {
   "cell_type": "code",
   "execution_count": 9,
   "metadata": {
    "collapsed": true
   },
   "outputs": [],
   "source": [
    "def chioot(N, FA):\n",
    "    pset=propagator.prop_set(nlam=5)\n",
    "    wigset = wd.wigner_d_vals()\n",
    "    Ks = spinodal(pset, N, FA)\n",
    "    \n",
    "    # calculate vertices\n",
    "    gam3 = gamma3(pset, N, FA, set3Ks(Ks)).real\n",
    "    gam41 = gamma4(pset, wigset, N, FA, set4Ks1(Ks)).real\n",
    "    gam42 = gamma4(pset, wigset, N, FA, set4Ks2(Ks)).real\n",
    "    gam43 = gamma4(pset, wigset, N, FA, set4Ks3(Ks)).real\n",
    "    gam44 = gamma4(pset, wigset, N, FA, set4Ks4(Ks)).real\n",
    "    \n",
    "    # calculate oot temperatures\n",
    "    A0 = 1e-1\n",
    "    FE13sq = lambda CHI: \\\n",
    "    (optimize.fmin(lambda A: FE1(A, CHI, gam41),\n",
    "                  A0, disp=False, full_output=1)[1] - \\\n",
    "    optimize.fmin(lambda A: FE3(A, CHI, gam3, gam41, gam42),\n",
    "                  A0, disp=False, full_output=1)[1])**2\n",
    "    \n",
    "    FE36sq = lambda CHI: \\\n",
    "    (optimize.fmin(lambda A: FE3(A, CHI, gam3, gam41, gam42),\n",
    "                  A0, disp=False, full_output=1)[1] -\\\n",
    "    optimize.fmin(lambda A: FE6(A, CHI, gam3, gam41, gam42, gam43, gam44),\n",
    "                  A0, disp=False, full_output=1)[1])**2\n",
    "\n",
    "    chi13 = optimize.fminbound(FE13sq, 0/N, 100/N)\n",
    "    chi36 = optimize.fminbound(FE36sq, 0/N, 100/N)\n",
    "    \n",
    "    return chi13, chi36"
   ]
  },
  {
   "cell_type": "markdown",
   "metadata": {},
   "source": [
    "### Free energy functions for solutions"
   ]
  },
  {
   "cell_type": "code",
   "execution_count": 10,
   "metadata": {
    "collapsed": true
   },
   "outputs": [],
   "source": [
    "def FE1sol(A1, A2, gam2sol, gam41sol):\n",
    "    # note here the amplitudes are in directions [1, 0] and [0, 1]\n",
    "    # i.e. psi = [A1, A2]*sin(q*x)\n",
    "    pi = 3.14159\n",
    "    FE = 0\n",
    "    A = [A1, A2]\n",
    "    for I1, I2 in product([0], repeat=2):\n",
    "        FE += (2*pi)**(-3)*gam2sol[I1][I2]*A[I1]*A[I2]\n",
    "\n",
    "    for I1, I2, I3, I4 in product([0,1], repeat=4):\n",
    "        FE += (2*pi)**(-9)*(1/4)*\\\n",
    "        gam41sol[I1][I2][I3][I4]*A[I1]*A[I2]*A[I3]*A[I4].real\n",
    "        \n",
    "    return FE\n",
    "\n",
    "def FE3sol(A1, A2, gam2sol, gam3sol, gam41sol, gam42sol):\n",
    "    pi = 3.14159\n",
    "    FE = 0\n",
    "    A = [A1, A2]\n",
    "    for I1, I2 in product([0,1], repeat=2):\n",
    "        FE += (2*pi)**(-3)*gam2sol[I1][I2]*A[I1]*A[I2]\n",
    "\n",
    "    for I1, I2, I3 in product([0,1], repeat=3):\n",
    "        FE += (2*pi)**(-6)*(2/3/np.sqrt(3))*gam3sol.real[I1][I2][I3]*\\\n",
    "        A[I1]*A[I2]*A[I3]\n",
    "        \n",
    "    for I1, I2, I3, I4 in product([0,1], repeat=4):\n",
    "        FE += (2*pi)**(-9)*(1/12)*\\\n",
    "        (gam41sol[I1][I2][I3][I4]+4*gam42sol[I1][I2][I3][I4]).real*\\\n",
    "        A[I1]*A[I2]*A[I3]*A[I4]\n",
    "        \n",
    "    return FE\n",
    "\n",
    "def FE6sol(A1, A2, gam2sol, gam3sol, gam41sol,\n",
    "           gam42sol, gam43sol, gam44sol):\n",
    "    pi = 3.14159\n",
    "    FE = 0\n",
    "    A = [A1, A2]\n",
    "    for I1, I2 in product([0,1], repeat=2):\n",
    "        FE += (2*pi)**(-3)*gam2sol[I1][I2]*A[I1]*A[I2]\n",
    "\n",
    "    for I1, I2, I3 in product([0,1], repeat=3):\n",
    "        FE += (2*pi)**(-6)*(4/3/np.sqrt(6))*gam3sol.real[I1][I2][I3]*\\\n",
    "        A[I1]*A[I2]*A[I3]\n",
    "\n",
    "    for I1, I2, I3, I4 in product([0,1], repeat=4):\n",
    "        FE += (2*pi)**(-9)*(1/24)*\\\n",
    "        (gam41sol[I1][I2][I3][I4]+8*gam42sol[I1][I2][I3][I4]\\\n",
    "         +2*gam43sol[I1][I2][I3][I4]+4*gam44sol[I1][I2][I3][I4]).real*\\\n",
    "        A[I1]*A[I2]*A[I3]*A[I4]\n",
    "\n",
    "    return FE"
   ]
  },
  {
   "cell_type": "code",
   "execution_count": 19,
   "metadata": {
    "collapsed": true
   },
   "outputs": [],
   "source": [
    "def FE1solmin(N, FA, PHIP, Ks, CHIAB, gam41sol):\n",
    "    pset=propagator.prop_set(nlam=1)\n",
    "    CHIAS, CHIBS = 0, 0\n",
    "    Avec0 = [10,10]\n",
    "    \n",
    "    gam2sol = gamma2sol(pset, N, FA, PHIP, Ks, CHIAB, CHIAS, CHIBS).real\n",
    "    \n",
    "    return optimize.fmin(lambda Avec: FE1sol(Avec[0], Avec[1], gam2sol, gam41sol),\n",
    "                         Avec0, disp=False, full_output=1)[1]\n",
    "\n",
    "def FE3solmin(N, FA, PHIP, Ks, CHIAB, gam3sol, gam41sol, gam42sol):\n",
    "    pset=propagator.prop_set(nlam=1)\n",
    "    CHIAS, CHIBS = 0, 0\n",
    "    Avec0 = [10,10]\n",
    "    \n",
    "    gam2sol = gamma2sol(pset, N, FA, PHIP, Ks, CHIAB, CHIAS, CHIBS).real\n",
    "    \n",
    "    return optimize.fmin(lambda Avec: FE3sol(Avec[0], Avec[1], gam2sol,\n",
    "                                      gam3sol, gam41sol, gam42sol),\n",
    "                         Avec0, disp=False, full_output=1)[1]\n",
    "\n",
    "def FE6solmin(N, FA, PHIP, Ks, CHIAB, gam3sol, gam41sol, gam42sol, gam43sol, gam44sol):\n",
    "    pset=propagator.prop_set(nlam=1)\n",
    "    CHIAS, CHIBS = 0, 0\n",
    "    Avec0 = [10,10]\n",
    "    \n",
    "    gam2sol = gamma2sol(pset, N, FA, PHIP, Ks, CHIAB, CHIAS, CHIBS).real\n",
    "    \n",
    "    return optimize.fmin(lambda Avec: FE6sol(Avec[0], Avec[1], gam2sol,\n",
    "                                      gam3sol, gam41sol, gam42sol, gam43sol, gam44sol),\n",
    "                         Avec0, disp=False, full_output=1)[1]"
   ]
  },
  {
   "cell_type": "code",
   "execution_count": 20,
   "metadata": {
    "collapsed": true
   },
   "outputs": [],
   "source": [
    "def chiootsol(N, FA, PHIP):\n",
    "    pset=propagator.prop_set(nlam=5)\n",
    "    wigset = wd.wigner_d_vals()\n",
    "\n",
    "    # find critical wavemode\n",
    "    CHIABs, Ks, eigvmin = gamma2sol_spinodal(pset, N, FA, PHIP)\n",
    "    print('      Ks = ' + str(Ks) + ' // eigvmin = '+str(eigvmin))\n",
    "\n",
    "    gam3sol = gamma3sol(pset, N, FA, PHIP, set3Ks(Ks)).real\n",
    "    gam41sol = gamma4sol(pset, wigset, N, FA, PHIP, set4Ks1(Ks)).real\n",
    "    gam42sol = gamma4sol(pset, wigset, N, FA, PHIP, set4Ks2(Ks)).real\n",
    "    gam43sol = gamma4sol(pset, wigset, N, FA, PHIP, set4Ks3(Ks)).real\n",
    "    gam44sol = gamma4sol(pset, wigset, N, FA, PHIP, set4Ks4(Ks)).real\n",
    "        \n",
    "    # calculate oot temperatures\n",
    "    Avec0 = [10,10]\n",
    "    FE13solsq = lambda CHIAB: (FE1solmin(N, FA, PHIP, Ks, CHIABs+CHIAB, gam41sol) -\\\n",
    "                               FE3solmin(N, FA, PHIP, Ks, CHIABs+CHIAB, gam3sol,\n",
    "                                         gam41sol, gam42sol))**2\n",
    "    FE36solsq = lambda CHIAB: (FE3solmin(N, FA, PHIP, Ks, CHIABs+CHIAB, gam3sol,\n",
    "                                         gam41sol, gam42sol) -\\\n",
    "                               FE6solmin(N, FA, PHIP, Ks, CHIABs+CHIAB, gam3sol,\n",
    "                                         gam41sol, gam42sol, gam43sol, gam44sol))**2\n",
    "\n",
    "    CHI13sol = optimize.fminbound(FE13solsq, 0/N/PHIP, 100/N/PHIP)\n",
    "    CHI36sol = optimize.fminbound(FE36solsq, 0/N/PHIP, 100/N/PHIP)\n",
    "    \n",
    "    return CHIABs, CHI13sol, CHI36sol"
   ]
  }
 ],
 "metadata": {
  "kernelspec": {
   "display_name": "Python 3",
   "language": "python",
   "name": "python3"
  },
  "language_info": {
   "codemirror_mode": {
    "name": "ipython",
    "version": 3
   },
   "file_extension": ".py",
   "mimetype": "text/x-python",
   "name": "python",
   "nbconvert_exporter": "python",
   "pygments_lexer": "ipython3",
   "version": "3.6.0"
  }
 },
 "nbformat": 4,
 "nbformat_minor": 2
}
