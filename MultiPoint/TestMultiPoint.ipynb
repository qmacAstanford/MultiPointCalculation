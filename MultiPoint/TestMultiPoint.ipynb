{
 "cells": [
  {
   "cell_type": "code",
   "execution_count": 1,
   "metadata": {
    "collapsed": false
   },
   "outputs": [
    {
     "name": "stdout",
     "output_type": "stream",
     "text": [
      "Using matplotlib backend: Qt5Agg\n"
     ]
    }
   ],
   "source": [
    "import numpy as np\n",
    "import WLCgreen as wlc\n",
    "import propagator \n",
    "import special as sp\n",
    "from numba import jit\n",
    "import MultiPoint as mp\n",
    "import imp  # imp.reload(module)\n",
    "\n",
    "import matplotlib.pyplot as plt\n",
    "%matplotlib\n",
    "#%matplotlib inline\n",
    "#import mpld3\n",
    "#mpld3.enable_notebook()"
   ]
  },
  {
   "cell_type": "code",
   "execution_count": 2,
   "metadata": {
    "collapsed": true
   },
   "outputs": [],
   "source": [
    "def plotlog(x, y, alpha, xrange=1, numx=2):\n",
    "    xv = np.logspace(np.log10(x), np.log10(x) + xrange, numx)\n",
    "    C = y / (x**alpha)\n",
    "    yv = C * xv**(alpha)\n",
    "    plt.loglog(xv, yv,'k--')"
   ]
  },
  {
   "cell_type": "markdown",
   "metadata": {
    "heading_collapsed": true
   },
   "source": [
    "## 2 point"
   ]
  },
  {
   "cell_type": "code",
   "execution_count": null,
   "metadata": {
    "collapsed": false,
    "hidden": true
   },
   "outputs": [],
   "source": [
    "nlam=3\n",
    "ORDEig=25\n",
    "d=3\n",
    "mu=0\n",
    "\n",
    "nkpts=500\n",
    "K=np.logspace(-5,7,nkpts)\n",
    "props=[] # list of propagators at each K\n",
    "for ii in range(0,nkpts):\n",
    "    name = ii\n",
    "    props.append(propagator.propagator(name,K[ii],mu,nlam=nlam))"
   ]
  },
  {
   "cell_type": "markdown",
   "metadata": {
    "heading_collapsed": true,
    "hidden": true
   },
   "source": [
    "### AA"
   ]
  },
  {
   "cell_type": "code",
   "execution_count": 12,
   "metadata": {
    "collapsed": false,
    "hidden": true
   },
   "outputs": [],
   "source": [
    "fa=0.5\n",
    "N=[0.1,1.0,10,100,1000,10000,100000]\n",
    "ana=np.zeros((nkpts,len(N)),dtype=type(1+1j))\n",
    "dub=np.zeros((nkpts,len(N)),dtype=type(1+1j))\n",
    "for ii in range(0,nkpts):\n",
    "    lam=0\n",
    "    lam0=0\n",
    "    for nn in range(0,len(N)):\n",
    "        ana[ii,nn]=mp.IAAswitch(N[nn],fa,lam0,lam,props[ii])\n",
    "        dub[ii,nn]=mp.IAAexplicit(N[nn],fa,lam0,lam,props[ii])"
   ]
  },
  {
   "cell_type": "code",
   "execution_count": 13,
   "metadata": {
    "collapsed": false,
    "hidden": true
   },
   "outputs": [],
   "source": [
    "fig, ax = plt.subplots()\n",
    "for ii in range(0,len(N)):\n",
    "    col=float(ii)/len(N)\n",
    "    ax.loglog(K.real*np.sqrt(N[ii]),abs(ana[:,ii])/(N[ii]**2),\\\n",
    "                color=[col, 0.0, 1-col],label='resum '+str(N[ii]))\n",
    "    #ax.loglog(K.real,abs(ana[:,ii]),\\\n",
    "    #            color=[col, 0.0, 1-col],label='resum '+str(N[ii]))\n",
    "    ax.loglog(K.real*np.sqrt(N[ii]),abs(dub[:,ii])/(N[ii]**2),'--',\\\n",
    "                color=[col, 0.0, 1-col],label='expl '+str(N[ii]))\n",
    "    #ax.loglog(K.real,abs(dub[:,ii]),'--',\\\n",
    "    #            color=[col, 0.0, 1-col],label='expl '+str(N[ii]))\n",
    "ax.legend(bbox_to_anchor=(1.05,1),loc=2)\n",
    "plotlog(2e4,1e-3,-1) \n",
    "ax.set_xlabel('K*N')\n",
    "ax.set_title('AA')\n",
    "ax.set_ylim([10**-8,10**2])\n",
    "plt.show()"
   ]
  },
  {
   "cell_type": "code",
   "execution_count": 14,
   "metadata": {
    "collapsed": true,
    "hidden": true
   },
   "outputs": [],
   "source": [
    "fig, ax = plt.subplots()\n",
    "for ii in range(0,len(N)):\n",
    "    col=float(ii)/len(N)\n",
    "    ax.loglog(K.real,abs(ana[:,ii]-dub[:,ii])/(N[ii]**2),\\\n",
    "                color=[col, 0.0, 1-col],label='difference '+str(N[ii]))\n",
    "\n",
    "ax.legend(bbox_to_anchor=(1.05,1),loc=2)\n",
    "plotlog(2e4,1e-3,-1) \n",
    "ax.set_xlabel('K')\n",
    "ax.set_title('AA')\n",
    "plt.show()"
   ]
  },
  {
   "cell_type": "markdown",
   "metadata": {
    "heading_collapsed": true,
    "hidden": true
   },
   "source": [
    "### AB"
   ]
  },
  {
   "cell_type": "code",
   "execution_count": 17,
   "metadata": {
    "collapsed": false,
    "hidden": true
   },
   "outputs": [],
   "source": [
    "N=[0.01,0.1,1.0,10,100]\n",
    "ana=np.zeros((nkpts,len(N)),dtype=type(1+1j))\n",
    "dub=np.zeros((nkpts,len(N)),dtype=type(1+1j))\n",
    "fa=0.5\n",
    "for ii in range(0,nkpts):\n",
    "    lam=0\n",
    "    lam0=0\n",
    "    for nn in range(0,len(N)):\n",
    "        ana[ii,nn]=mp.IABswitch(N[nn],fa,lam0,lam,props[ii])\n",
    "        dub[ii,nn]=mp.IABexplicit(N[nn],fa,lam0,lam,props[ii])"
   ]
  },
  {
   "cell_type": "code",
   "execution_count": 18,
   "metadata": {
    "collapsed": false,
    "hidden": true
   },
   "outputs": [],
   "source": [
    "fig, ax = plt.subplots()\n",
    "for ii in range(0,len(N)):\n",
    "    col=float(ii)/len(N)\n",
    "    ax.loglog(K.real,abs(ana[:,ii]),\\\n",
    "                color=[col, 0.0, 1-col],label='resum '+str(N[ii]))\n",
    "    ax.loglog(K.real,abs(dub[:,ii]),'--',\\\n",
    "                color=[col, 0.0, 1-col],label='expl '+str(N[ii]))\n",
    "ax.legend(bbox_to_anchor=(1.05,1),loc=2)\n",
    "plotlog(2e4,1e-7,-2)\n",
    "ax.set_xlabel('K')\n",
    "ax.set_title('AB')\n",
    "ax.set_ylim([10**-15,100000])\n",
    "plt.show()"
   ]
  },
  {
   "cell_type": "code",
   "execution_count": null,
   "metadata": {
    "collapsed": true,
    "hidden": true
   },
   "outputs": [],
   "source": [
    "fig, ax = plt.subplots()\n",
    "for ii in range(0,len(N)):\n",
    "    col=float(ii)/len(N)\n",
    "    ax.loglog(K.real,abs(ana[:,ii]-dub[:,ii])/(N[ii]**2),\\\n",
    "                color=[col, 0.0, 1-col],label='difference '+str(N[ii]))\n",
    "\n",
    "ax.legend(bbox_to_anchor=(1.05,1),loc=2)\n",
    "plotlog(2e4,1e-3,-1) \n",
    "ax.set_xlabel('K')\n",
    "ax.set_title('AA')\n",
    "plt.show()"
   ]
  },
  {
   "cell_type": "markdown",
   "metadata": {},
   "source": [
    "## 3 Point"
   ]
  },
  {
   "cell_type": "code",
   "execution_count": 123,
   "metadata": {
    "collapsed": false
   },
   "outputs": [],
   "source": [
    "nlam=10\n",
    "ORDEig=25\n",
    "d=3\n",
    "mu=0\n",
    "\n",
    "nkpts=150\n",
    "K=np.logspace(-4,7,nkpts)\n",
    "props1=[] # list of propagators at each K\n",
    "props2=[] # list of propagators at each K\n",
    "for ii in range(0,nkpts):\n",
    "\n",
    "    name=ii\n",
    "    props1.append( propagator.propagator(name,K[ii],mu,nlam=nlam) )\n",
    "\n",
    "    name=ii+0.5\n",
    "    props2.append( propagator.propagator(name,K[ii],mu,nlam=nlam) )"
   ]
  },
  {
   "cell_type": "markdown",
   "metadata": {},
   "source": [
    "#### AAA"
   ]
  },
  {
   "cell_type": "code",
   "execution_count": 146,
   "metadata": {
    "collapsed": false,
    "hide_input": false
   },
   "outputs": [],
   "source": [
    "fa=0.5\n",
    "N=[0.01,0.1,1.0,10,100]\n",
    "frs=np.zeros((nkpts,len(N)),dtype=type(1+1j))\n",
    "rsum=np.zeros((nkpts,len(N)),dtype=type(1+1j))\n",
    "exl=np.zeros((nkpts,len(N)),dtype=type(1+1j))\n",
    "lam_1=5\n",
    "lam0_1=0\n",
    "lam_2=0\n",
    "lam0_2=5"
   ]
  },
  {
   "cell_type": "code",
   "execution_count": 147,
   "metadata": {
    "collapsed": false
   },
   "outputs": [],
   "source": [
    "for ii in range(0,nkpts):\n",
    "    for nn in range(0,len(N)):\n",
    "        frs[ii,nn]=mp.IAAAswitch(N[nn],fa,\\\n",
    "                                lam0_1,lam_1,\\\n",
    "                                lam0_2,lam_2,\\\n",
    "                                props1[ii],props2[ii])"
   ]
  },
  {
   "cell_type": "code",
   "execution_count": 148,
   "metadata": {
    "collapsed": false
   },
   "outputs": [],
   "source": [
    "for ii in range(0,nkpts):\n",
    "    for nn in range(0,len(N)):\n",
    "        exl[ii,nn]=mp.IAAAexplicit(N[nn],fa,\\\n",
    "                                    lam0_1,lam_1,\\\n",
    "                                    lam0_2,lam_2,\\\n",
    "                                    props1[ii],props2[ii])"
   ]
  },
  {
   "cell_type": "code",
   "execution_count": 149,
   "metadata": {
    "collapsed": false,
    "scrolled": true
   },
   "outputs": [
    {
     "name": "stdout",
     "output_type": "stream",
     "text": [
      "5 , 0 , 5\n"
     ]
    }
   ],
   "source": [
    "fig, ax = plt.subplots()\n",
    "for ii in range(0,len(N)):\n",
    "    col=float(ii)/len(N)\n",
    "    ax.loglog(K.real,abs(frs[:,ii].real),\\\n",
    "                color=[col, 0.0, 1-col],label='frs='+str(N[ii]))\n",
    "    #ax.loglog(K.real,abs(rsum[:,ii].real),'+',\\\n",
    "    #            color=[col, 0.0, 1-col],label='resum='+str(N[ii]))\n",
    "    ax.loglog(K.real,abs(exl[:,ii]),':',\\\n",
    "                color=[col, 0.0, 1-col],label='expl '+str(N[ii]))\n",
    "ax.legend()#bbox_to_anchor=(1.05,1),loc=2)\n",
    "plotlog(2e4,1e-13,-3)\n",
    "ax.set_xlabel('K')\n",
    "#ax.set_title('A'+str(lam_1)+',A'+str(lam_2)+',A'+str(lam0_2))\n",
    "ax.set_title('\\int d^2s G_11(K) G_11(K)')\n",
    "#ax.set_ylim([10**-18,10**2])\n",
    "print(lam_1,',',lam_2,',',lam0_2)\n",
    "plt.show()"
   ]
  },
  {
   "cell_type": "code",
   "execution_count": 139,
   "metadata": {
    "collapsed": false
   },
   "outputs": [
    {
     "name": "stdout",
     "output_type": "stream",
     "text": [
      "5 , 0 , 5\n"
     ]
    }
   ],
   "source": [
    "fig, ax = plt.subplots()\n",
    "for ii in range(0,len(N)):\n",
    "    col=float(ii)/len(N)\n",
    "    ax.loglog(K.real,abs(frs[:,ii]-exl[0,ii]),\\\n",
    "                color=[col, 0.0, 1-col],label='frs='+str(N[ii]))\n",
    "    #ax.loglog(K.real,abs(rsum[:,ii]-exl[0,ii]),'+',\\\n",
    "    #            color=[col, 0.0, 1-col],label='resum='+str(N[ii]))\n",
    "    ax.loglog(K.real,abs(exl[:,ii]-exl[0,ii]),':',\\\n",
    "                color=[col, 0.0, 1-col],label='expl '+str(N[ii]))\n",
    "ax.legend()#bbox_to_anchor=(1.05,1),loc=2)\n",
    "plotlog(2e4,1e-13,-3)\n",
    "ax.set_xlabel('K')\n",
    "print(lam_1,',',lam_2,',',lam0_2)\n",
    "plt.show()"
   ]
  },
  {
   "cell_type": "code",
   "execution_count": 135,
   "metadata": {
    "collapsed": false
   },
   "outputs": [],
   "source": [
    "fig, ax = plt.subplots()\n",
    "for ii in range(0,len(N)):\n",
    "    col=float(ii)/len(N)\n",
    "    norm=np.minimum(abs(frs[:,ii].real),abs(exl[:,ii].real))\n",
    "    ax.loglog(K.real,abs(frs[:,ii]-exl[:,ii])/norm,\\\n",
    "                color=[col, 0.0, 1-col],label='difference '+str(N[ii]))\n",
    "\n",
    "ax.legend(bbox_to_anchor=(1.05,1),loc=2)\n",
    "plotlog(2e4,1e-3,-1) \n",
    "ax.set_xlabel('K')\n",
    "plt.show()"
   ]
  },
  {
   "cell_type": "markdown",
   "metadata": {
    "heading_collapsed": true
   },
   "source": [
    "#### ABB"
   ]
  },
  {
   "cell_type": "code",
   "execution_count": 79,
   "metadata": {
    "collapsed": false,
    "hidden": true
   },
   "outputs": [],
   "source": [
    "N=[0.01,0.1,1.0,10,100]\n",
    "ana=np.zeros((nkpts,len(N)),dtype=type(1+1j))\n",
    "dub=np.zeros((nkpts,len(N)),dtype=type(1+1j))\n",
    "swt=np.zeros((nkpts,len(N)),dtype=type(1+1j))\n",
    "fa=0.5\n",
    "for ii in range(0,nkpts):\n",
    "    lam_1=5\n",
    "    lam0_1=0\n",
    "    lam_2=0\n",
    "    lam0_2=5\n",
    "    for nn in range(0,len(N)):\n",
    "        ana[ii,nn]=mp.IABBresum(N[nn],fa,\\\n",
    "                                lam0_1,lam_1,\\\n",
    "                                lam0_2,lam_2,\\\n",
    "                                props1[ii],props2[ii])\n",
    "        dub[ii,nn]=mp.IABBexplicit(N[nn],fa,\\\n",
    "                                   lam0_1,lam_1,lam0_2,lam_2\\\n",
    "                                   ,props1[ii],props2[ii])\n",
    "        swt[ii,nn]=mp.IABBswitch(N[nn],fa,\\\n",
    "                                   lam0_1,lam_1,lam0_2,lam_2\\\n",
    "                                   ,props1[ii],props2[ii])\n"
   ]
  },
  {
   "cell_type": "code",
   "execution_count": 80,
   "metadata": {
    "collapsed": false,
    "hidden": true
   },
   "outputs": [],
   "source": [
    "fig, ax = plt.subplots()\n",
    "for ii in range(0,len(N)):\n",
    "    col=float(ii)/len(N)\n",
    "    ax.loglog(K.real,abs(ana[:,ii]),'--',\\\n",
    "                color=[col, 0.0, 1-col],label='resum '+str(N[ii]))\n",
    "    ax.loglog(K.real,abs(swt[:,ii]),'-',\\\n",
    "                color=[col, 0.0, 1-col],label='switch '+str(N[ii]))\n",
    "    ax.loglog(K.real,abs(dub[:,ii]),':',\\\n",
    "                color=[col, 0.0, 1-col],label='expl '+str(N[ii]))\n",
    "ax.legend(bbox_to_anchor=(1.05,1),loc=2)\n",
    "plotlog(2e4,1e-9,-3)\n",
    "ax.set_xlabel('K')\n",
    "ax.set_title('ABB')\n",
    "ax.set_ylim([10**-18,10**15])\n",
    "plt.show()"
   ]
  },
  {
   "cell_type": "code",
   "execution_count": 189,
   "metadata": {
    "collapsed": true,
    "hidden": true
   },
   "outputs": [],
   "source": [
    "fig, ax = plt.subplots()\n",
    "for ii in range(0,len(N)):\n",
    "    col=float(ii)/len(N)\n",
    "    ax.loglog(K.real,abs(ana[:,ii]-dub[0,ii]),'--',\\\n",
    "                color=[col, 0.0, 1-col],label='resum '+str(N[ii]))\n",
    "    ax.loglog(K.real,abs(swt[:,ii]-dub[0,ii]),'-',\\\n",
    "                color=[col, 0.0, 1-col],label='switch '+str(N[ii]))\n",
    "    ax.loglog(K.real,abs(dub[:,ii]-dub[0,ii]),':',\\\n",
    "                color=[col, 0.0, 1-col],label='expl '+str(N[ii]))\n",
    "ax.legend(bbox_to_anchor=(1.05,1),loc=2)\n",
    "plotlog(2e4,1e-9,-3)\n",
    "ax.set_xlabel('K')\n",
    "ax.set_title('ABB')\n",
    "ax.set_ylim([10**-18,10**15])\n",
    "plt.show()"
   ]
  },
  {
   "cell_type": "code",
   "execution_count": 190,
   "metadata": {
    "collapsed": true,
    "hidden": true
   },
   "outputs": [],
   "source": [
    "fig, ax = plt.subplots()\n",
    "for ii in range(0,len(N)):\n",
    "    col=float(ii)/len(N)\n",
    "    ax.loglog(K.real,abs(ana[:,ii]-dub[:,ii])/(N[ii]**2),\\\n",
    "                color=[col, 0.0, 1-col],label='difference '+str(N[ii]))\n",
    "\n",
    "ax.legend(bbox_to_anchor=(1.05,1),loc=2)\n",
    "plotlog(2e4,1e-3,-1) \n",
    "ax.set_xlabel('K')\n",
    "plt.show()"
   ]
  },
  {
   "cell_type": "markdown",
   "metadata": {
    "heading_collapsed": true
   },
   "source": [
    "## 4 point"
   ]
  },
  {
   "cell_type": "code",
   "execution_count": 32,
   "metadata": {
    "collapsed": false,
    "hidden": true,
    "scrolled": true
   },
   "outputs": [],
   "source": [
    "nlam=5\n",
    "ORDEig=10\n",
    "d=3\n",
    "mu1=0\n",
    "mu2=0\n",
    "mu3=0\n",
    "\n",
    "\n",
    "settings={'nlam':5,'lamMax':500,\\\n",
    "          'ORDEig':25,'resCutoff':10**-11,\\\n",
    "          'lowKcut':10**-7,'eigCutoff':800}\n",
    "\n",
    "nkpts=100\n",
    "K=np.logspace(-3,5,nkpts)\n",
    "#K=np.linspace(0.02,0.05,nkpts)\n",
    "props1=[] # list of propagators at each K\n",
    "props2=[] # list of propagators at each K\n",
    "props3=[] # list of propagators at each K\n",
    "for ii in range(0,nkpts):\n",
    "    name=ii\n",
    "    props1.append( propagator.propagator(name,1.0*K[ii],mu1,**settings) )\n",
    "\n",
    "    name=ii+0.5\n",
    "    props2.append( propagator.propagator(name,1.0*K[ii],mu2,**settings) )\n",
    "    \n",
    "    name=ii+0.25\n",
    "    props3.append( propagator.propagator(name,1.0*K[ii],mu3,**settings) )"
   ]
  },
  {
   "cell_type": "code",
   "execution_count": 33,
   "metadata": {
    "collapsed": false,
    "hidden": true
   },
   "outputs": [],
   "source": [
    "N=[0.001,0.01,0.1,1.0,10,100,1000, 10000]\n",
    "fa=0.5\n",
    "lam_1=0\n",
    "lam0_1=0\n",
    "lam_2=0\n",
    "lam0_2=0\n",
    "lam_3=0\n",
    "lam0_3=0"
   ]
  },
  {
   "cell_type": "code",
   "execution_count": 34,
   "metadata": {
    "collapsed": false,
    "hidden": true
   },
   "outputs": [],
   "source": [
    "frs=np.zeros((nkpts,len(N)),dtype=type(1+1j))\n",
    "for ii in range(0,nkpts):   \n",
    "    for nn in range(0,len(N)):\n",
    "        frs[ii,nn]=mp.IAAAA(N[nn],fa,\\\n",
    "                                 lam0_1,lam_1,\\\n",
    "                                 lam0_2,lam_2,\\\n",
    "                                 lam0_3,lam_3,\\\n",
    "                                 props1[ii],props2[ii],props3[ii])"
   ]
  },
  {
   "cell_type": "code",
   "execution_count": 35,
   "metadata": {
    "collapsed": false,
    "hidden": true
   },
   "outputs": [],
   "source": [
    "rsum=np.zeros((nkpts,len(N)),dtype=type(1+1j))\n",
    "for ii in range(0,nkpts):   \n",
    "    for nn in range(0,len(N)):\n",
    "        rsum[ii,nn]=mp.IAAABresum(N[nn],fa,\\\n",
    "                                 lam0_1,lam_1,\\\n",
    "                                 lam0_2,lam_2,\\\n",
    "                                 lam0_3,lam_3,\\\n",
    "                                 props1[ii],props2[ii],props3[ii])"
   ]
  },
  {
   "cell_type": "code",
   "execution_count": 36,
   "metadata": {
    "collapsed": false,
    "hidden": true
   },
   "outputs": [],
   "source": [
    "exl=np.zeros((nkpts,len(N)),dtype=type(1+1j))\n",
    "for ii in range(0,nkpts):   \n",
    "    for nn in range(0,len(N)):\n",
    "        exl[ii,nn]=mp.IAAABexplicit(N[nn],fa,\\\n",
    "                                 lam0_1,lam_1,\\\n",
    "                                 lam0_2,lam_2,\\\n",
    "                                 lam0_3,lam_3,\\\n",
    "                                 props1[ii],props2[ii],props3[ii])"
   ]
  },
  {
   "cell_type": "code",
   "execution_count": 37,
   "metadata": {
    "collapsed": false,
    "hidden": true
   },
   "outputs": [],
   "source": [
    "swt=np.zeros((nkpts,len(N)),dtype=type(1+1j))\n",
    "for ii in range(0,nkpts):   \n",
    "    for nn in range(0,len(N)):\n",
    "        swt[ii,nn]=mp.IAAABswitch(N[nn],fa,\\\n",
    "                                 lam0_1,lam_1,\\\n",
    "                                 lam0_2,lam_2,\\\n",
    "                                 lam0_3,lam_3,\\\n",
    "                                 props1[ii],props2[ii],props3[ii])"
   ]
  },
  {
   "cell_type": "code",
   "execution_count": 38,
   "metadata": {
    "collapsed": false,
    "hidden": true
   },
   "outputs": [],
   "source": [
    "fig, ax = plt.subplots()\n",
    "for ii in range(0,len(N)):\n",
    "    col=float(ii)/len(N)\n",
    "    #ax.loglog(K.real,abs(frs[:,ii].real)*N[ii]**-4,'--',\\\n",
    "    #           color=[col, 0.0, 1-col],label='IAAAA '+str(N[ii]))\n",
    "    ax.loglog(K.real,abs(rsum[:,ii].real)*N[ii]**-4,'+',\\\n",
    "                color=[col, 0.0, 1-col],label='resum N='+str(N[ii]))\n",
    "    ax.loglog(K.real,abs(exl[:,ii].real)*N[ii]**-4,':',\\\n",
    "                color=[col, 0.0, 1-col],label='expl '+str(N[ii]))\n",
    "    ax.loglog(K.real,abs(swt[:,ii].real)*N[ii]**-4,'-',\\\n",
    "                color=[col, 0.0, 1-col],label='swt '+str(N[ii]))\n",
    "ax.legend(bbox_to_anchor=(1.05,1),loc=2)\n",
    "#ax.legend(bbox_to_anchor=(1.05,1))\n",
    "plotlog(2e3,1e-4,-1)\n",
    "plotlog(2e3,1e-5,-2)\n",
    "plotlog(2e3,1e-6,-3)\n",
    "plotlog(2e3,1e-7,-4)\n",
    "ax.set_xlabel('K*N')\n",
    "ax.set_ylabel('I/(N^4)')\n",
    "ax.set_title('Methode Compairison')\n",
    "#ax.set_ylim([10**-18,10**15])\n",
    "plt.show()"
   ]
  },
  {
   "cell_type": "code",
   "execution_count": 39,
   "metadata": {
    "collapsed": false,
    "hidden": true
   },
   "outputs": [],
   "source": [
    "fig, ax = plt.subplots()\n",
    "for ii in range(0,len(N)):\n",
    "    col=float(ii)/len(N)\n",
    "    #ax.loglog(K.real,abs(frs[:,ii].real-exl[0,ii])*N[ii]**-4,'--',\\\n",
    "    #           color=[col, 0.0, 1-col],label='IAAAA '+str(N[ii]))\n",
    "    \n",
    "    ax.loglog(K.real,abs(rsum[:,ii].real-exl[0,ii])*N[ii]**-4,'+',\\\n",
    "                color=[col, 0.0, 1-col],label='resum N='+str(N[ii]))\n",
    "    \n",
    "    ax.loglog(K.real,abs(exl[:,ii].real-exl[0,ii])*N[ii]**-4,':',\\\n",
    "                color=[col, 0.0, 1-col],label='expl '+str(N[ii]))\n",
    "    \n",
    "    ax.loglog(K.real,abs(swt[:,ii].real-exl[0,ii])*N[ii]**-4,'-',\\\n",
    "                color=[col, 0.0, 1-col],label='swt '+str(N[ii]))\n",
    "ax.legend(bbox_to_anchor=(1.05,1),loc=2)\n",
    "#ax.legend(bbox_to_anchor=(1.05,1))\n",
    "plotlog(2e3,1e-4,-1)\n",
    "plotlog(2e3,1e-5,-2)\n",
    "plotlog(2e3,1e-6,-3)\n",
    "plotlog(2e3,1e-7,-4)\n",
    "ax.set_xlabel('K*N')\n",
    "ax.set_ylabel('I/(N^4)')\n",
    "ax.set_title('Methode Compairison')\n",
    "#ax.set_ylim([10**-18,10**15])\n",
    "plt.show()"
   ]
  },
  {
   "cell_type": "code",
   "execution_count": 17,
   "metadata": {
    "collapsed": false,
    "hidden": true
   },
   "outputs": [],
   "source": [
    "fig, ax = plt.subplots()\n",
    "for ii in range(0,len(N)):\n",
    "    col=float(ii)/len(N)\n",
    "    #ax.loglog(K.real*np.sqrt(N[ii]),abs(frs[:,ii]-exl[:,ii])/(N[ii]**2),\\\n",
    "    #            color=[col, 0.0, 1-col],label='difference '+str(N[ii]))\n",
    "    ax.loglog(K.real,abs(rsum[:,ii].real-exl[:,ii].real)*N[ii]**-4,'-',\\\n",
    "                color=[col, 0.0, 1-col],label='diff '+str(N[ii]))\n",
    "ax.legend(bbox_to_anchor=(1.05,1),loc=2)\n",
    "plt.show()"
   ]
  },
  {
   "cell_type": "code",
   "execution_count": 18,
   "metadata": {
    "collapsed": false,
    "hidden": true
   },
   "outputs": [],
   "source": [
    "fig, ax = plt.subplots()\n",
    "for ii in range(0,len(N)):\n",
    "    col=float(ii)/len(N)\n",
    "    #ax.loglog(K.real*np.sqrt(N[ii]),abs(frs[:,ii]-exl[:,ii])/(N[ii]**2),\\\n",
    "    #            color=[col, 0.0, 1-col],label='difference '+str(N[ii]))\n",
    "    norm=np.minimum(abs(rsum[:,ii].real),abs(exl[:,ii].real))\n",
    "    ax.loglog(K.real,abs(rsum[:,ii].real-exl[:,ii].real)/norm,'-',\\\n",
    "                color=[col, 0.0, 1-col],label='diff '+str(N[ii]))\n",
    "ax.legend(bbox_to_anchor=(1.05,1),loc=2)\n",
    "plt.show()"
   ]
  },
  {
   "cell_type": "code",
   "execution_count": null,
   "metadata": {
    "collapsed": false,
    "hidden": true
   },
   "outputs": [],
   "source": [
    "np.minimum(np.array([1,2,3]),np.array([3,2,1]))"
   ]
  }
 ],
 "metadata": {
  "anaconda-cloud": {},
  "kernelspec": {
   "display_name": "Python [conda root]",
   "language": "python",
   "name": "conda-root-py"
  },
  "language_info": {
   "codemirror_mode": {
    "name": "ipython",
    "version": 3
   },
   "file_extension": ".py",
   "mimetype": "text/x-python",
   "name": "python",
   "nbconvert_exporter": "python",
   "pygments_lexer": "ipython3",
   "version": "3.5.2"
  },
  "latex_envs": {
   "LaTeX_envs_menu_present": true,
   "autocomplete": true,
   "bibliofile": "biblio.bib",
   "cite_by": "apalike",
   "current_citInitial": 1,
   "eqLabelWithNumbers": true,
   "eqNumInitial": 1,
   "hotkeys": {
    "equation": "Ctrl-E",
    "itemize": "Ctrl-I"
   },
   "labels_anchors": false,
   "latex_user_defs": false,
   "report_style_numbering": false,
   "user_envs_cfg": false
  },
  "toc": {
   "colors": {
    "hover_highlight": "#DAA520",
    "running_highlight": "#FF0000",
    "selected_highlight": "#FFD700"
   },
   "moveMenuLeft": true,
   "nav_menu": {
    "height": "86px",
    "width": "252px"
   },
   "navigate_menu": true,
   "number_sections": true,
   "sideBar": true,
   "threshold": 4,
   "toc_cell": false,
   "toc_section_display": "block",
   "toc_window_display": false,
   "widenNotebook": false
  }
 },
 "nbformat": 4,
 "nbformat_minor": 1
}
