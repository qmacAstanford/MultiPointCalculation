{
 "cells": [
  {
   "cell_type": "code",
   "execution_count": null,
   "metadata": {
    "collapsed": false
   },
   "outputs": [],
   "source": [
    "import numpy as np\n",
    "from numba import jit\n",
    "from special import *"
   ]
  },
  {
   "cell_type": "code",
   "execution_count": null,
   "metadata": {
    "collapsed": false
   },
   "outputs": [],
   "source": [
    "import matplotlib.pyplot as plt\n",
    "%matplotlib"
   ]
  },
  {
   "cell_type": "code",
   "execution_count": null,
   "metadata": {
    "collapsed": false
   },
   "outputs": [],
   "source": [
    "def f3ver1(j,e1,e2,e3,N):\n",
    "    return ((np.exp(N*e3)/(e3**j) - np.exp(N*e2)/(e2**j))*e1+\\\n",
    "         (np.exp(N*e1)/(e1**j) - np.exp(N*e3)/(e3**j))*e2+\\\n",
    "         (np.exp(N*e2)/(e2**j) - np.exp(N*e1)/(e1**j))*e3)/\\\n",
    "        ((e1-e2)*(e2-e3)*(e3-e1))    "
   ]
  },
  {
   "cell_type": "code",
   "execution_count": null,
   "metadata": {
    "collapsed": true
   },
   "outputs": [],
   "source": [
    "def f3ver2(j,eps1,eps2,eps3,N):\n",
    "    e1=eps1\n",
    "    e2=eps2\n",
    "    e3=eps3\n",
    "    #if abs(e1)<1.0:\n",
    "    if abs(e2) >= abs(e1) and abs(e2)>= abs(e3):\n",
    "        e1, e2, e3 = e2, e1, e3\n",
    "    if abs(e3) >= abs(e1) and abs(e3) >= abs(e2):\n",
    "        e1, e2, e3 = e3, e2, e1\n",
    "    print('e1',e1,'e2',e2,'e3',e3)\n",
    "    kmax=61\n",
    "    tol=10**-12\n",
    "    if j==1:\n",
    "        out=0.0\n",
    "        for k in range(0,kmax):\n",
    "            prod=np.exp(N*e1)*(-e1)**(-k-3)\n",
    "            summ=0.0\n",
    "            for m in range(0,k+2+1):\n",
    "                summ=summ+(-N*e1)**m/fact[m]\n",
    "            prod=prod*summ\n",
    "            summ=0.0\n",
    "            for m in range(0,k+1):\n",
    "                summ=summ+(e2-e1)**(k-m) * (e3-e1)**m\n",
    "            temp=prod*summ\n",
    "            out=out + temp\n",
    "            #print('k',k,'val',temp)\n",
    "            if k>5 and abs(temp) < abs(out)*tol:\n",
    "                break\n",
    "    elif j==2:\n",
    "        out=0.0\n",
    "        for k in range(0,kmax):\n",
    "            prod=-np.exp(N*e1)*(-e1)**(-k-4)\n",
    "            summ=0.0\n",
    "            for m in range(0,k+2+1):\n",
    "                summ=summ+(-N*e1)**m *(k-m+3)/fact[m]\n",
    "            prod=prod*summ\n",
    "            summ=0.0\n",
    "            for m in range(0,k+1):\n",
    "                summ=summ+(e2-e1)**(k-m) * (e3-e1)**m\n",
    "            temp=prod*summ\n",
    "            out=out + temp\n",
    "            if k>5 and abs(temp) < abs(out)*tol:\n",
    "                break\n",
    "    print('k',k)\n",
    "    return out"
   ]
  },
  {
   "cell_type": "code",
   "execution_count": null,
   "metadata": {
    "collapsed": true
   },
   "outputs": [],
   "source": [
    "def f3ver3(j,eps1,eps2,eps3,N):\n",
    "    e1,e2,e3 = arrange(eps1,eps2,eps3)\n",
    "    return ((np.exp(N*e3)/(e3**j)) + e2*e1*f2(j+1,e1,e2,N)-e3*f2(j,e1,e2,N))/\\\n",
    "            ((e2-e3)*(e3-e1))"
   ]
  },
  {
   "cell_type": "code",
   "execution_count": null,
   "metadata": {
    "collapsed": true
   },
   "outputs": [],
   "source": [
    "def f3ver4(j,eps1,eps2,eps3,N):\n",
    "    e1=eps1\n",
    "    e2=eps2\n",
    "    e3=eps3\n",
    "    if abs(e2) <= abs(e1) and abs(e2) <= abs(e3):\n",
    "        e1, e2, e3 = e2, e1, e3\n",
    "    if abs(e3) <= abs(e1) and abs(e3) <= abs(e2):\n",
    "        e1, e2, e3 = e3, e2, e1    \n",
    "    return -1.0/(e2*e3*(e1**j))"
   ]
  },
  {
   "cell_type": "code",
   "execution_count": null,
   "metadata": {
    "collapsed": false
   },
   "outputs": [],
   "source": [
    "npts=100\n",
    "out1=[]\n",
    "out2=[]\n",
    "out3=[]\n",
    "out4=[]\n",
    "N=10.32\n",
    "j=2\n",
    "delta=np.logspace(-8,0,npts)\n",
    "for ii in range(0,npts):\n",
    "    e1=-2*delta[ii]\n",
    "    e2=e1-delta[ii]\n",
    "    e3=e2-4*delta[ii]\n",
    "    out1.append(f3ver1(j,e1,e2,e3,N))\n",
    "    out2.append(f3ver2(j,e1,e2,e3,N))\n",
    "    out3.append(f3ver3(j,e1,e2,e3,N))\n",
    "    out4.append(f3ver4(j,e1,e2,e3,N))"
   ]
  },
  {
   "cell_type": "code",
   "execution_count": null,
   "metadata": {
    "collapsed": false
   },
   "outputs": [],
   "source": [
    "y=abs(np.array(out1)-np.array(out2))\n",
    "plt.loglog(delta,y)\n",
    "plt.show()"
   ]
  },
  {
   "cell_type": "code",
   "execution_count": null,
   "metadata": {
    "collapsed": false
   },
   "outputs": [],
   "source": [
    "y=abs(np.array(out1))\n",
    "\n",
    "plt.loglog(delta,y)\n",
    "plt.show()"
   ]
  },
  {
   "cell_type": "markdown",
   "metadata": {
    "heading_collapsed": true
   },
   "source": [
    "# Series Convergance"
   ]
  },
  {
   "cell_type": "code",
   "execution_count": null,
   "metadata": {
    "collapsed": false,
    "hidden": true
   },
   "outputs": [],
   "source": [
    "e1=-0.0003\n",
    "delta=0.0003\n",
    "e2=e1-delta\n",
    "e3=e2-20*delta\n",
    "terms=[]\n",
    "ks=[]\n",
    "\n",
    "if abs(e1)<1.0:\n",
    "    if abs(e2) >= abs(e1) and abs(e2)>= abs(e3):\n",
    "        e1, e2, e3 = e2, e1, e3\n",
    "    elif abs(e3) >= abs(e1) and abs(e3) >= abs(e2):\n",
    "        e1, e2, e3 = e3, e2, e1\n",
    "    else:\n",
    "        print('same')\n",
    "        \n",
    "for k in range(0,80):\n",
    "    ks.append(k)\n",
    "    prod=-np.exp(N*e1)*(-e1)**(-k-4)\n",
    "    summ=0.0\n",
    "    for m in range(0,k+2+1):\n",
    "        summ=summ+(-N*e1)**m *(k-m+3)/fact[m]\n",
    "    prod=prod*summ\n",
    "    summ=0.0\n",
    "    for m in range(0,k+1):\n",
    "        summ=summ+(e2-e1)**(k-m) * (e3-e1)**m\n",
    "    terms.append(abs(prod*summ))"
   ]
  },
  {
   "cell_type": "code",
   "execution_count": null,
   "metadata": {
    "collapsed": false,
    "hidden": true
   },
   "outputs": [],
   "source": [
    "plt.semilogy(ks,terms,'.')\n",
    "plt.show()"
   ]
  },
  {
   "cell_type": "markdown",
   "metadata": {
    "collapsed": true,
    "heading_collapsed": true
   },
   "source": [
    "# Test f2"
   ]
  },
  {
   "cell_type": "code",
   "execution_count": null,
   "metadata": {
    "collapsed": false,
    "hidden": true
   },
   "outputs": [],
   "source": [
    "npts=1000\n",
    "N=10\n",
    "e2=0.001\n",
    "j=2\n",
    "e1s=np.logspace(-7,1,npts)\n",
    "out=[]\n",
    "for ii in range(0,npts):\n",
    "    out.append(abs(f2(j,e1s[ii],2*e1s[ii],N)))\n",
    "    "
   ]
  },
  {
   "cell_type": "code",
   "execution_count": null,
   "metadata": {
    "collapsed": false,
    "hidden": true
   },
   "outputs": [],
   "source": [
    "plt.loglog(e1s,out)\n",
    "plt.show()"
   ]
  },
  {
   "cell_type": "markdown",
   "metadata": {
    "collapsed": true
   },
   "source": [
    "# Between rock and hard place"
   ]
  },
  {
   "cell_type": "code",
   "execution_count": null,
   "metadata": {
    "collapsed": true
   },
   "outputs": [],
   "source": [
    "def f3nearZero(j,e1,e2,e3,N):\n",
    "    return ((np.exp(N*e3)/(e3**j)) + e2*e1*f2(j+1,e1,e2,N) - e3*f2(j,e1,e2,N))/\\\n",
    "            ((e2-e3)*(e3-e1))"
   ]
  },
  {
   "cell_type": "code",
   "execution_count": null,
   "metadata": {
    "collapsed": false
   },
   "outputs": [],
   "source": [
    "e1=-0.23\n",
    "e2=-0.10\n",
    "npts=200\n",
    "N=10\n",
    "j=2\n",
    "delta=np.logspace(-10,-3,npts)\n",
    "f2based=[]\n",
    "series=[]\n",
    "origional=[]\n",
    "for ii in range(0,npts):\n",
    "    e1=-0.1\n",
    "    e2=-0.001\n",
    "    e3=e2-delta[ii]\n",
    "    f2based.append(abs(f3nearZero(j,e1,e2,e3,N)))\n",
    "    series.append(abs(f3ver2(j,e1,e2,e3,N)))\n",
    "    origional.append(abs(f3ver1(j,e1,e2,e3,N)))\n",
    "    \n",
    "f2based=np.array(f2based)\n",
    "series=np.array(series)\n",
    "origional=np.array(origional)"
   ]
  },
  {
   "cell_type": "code",
   "execution_count": null,
   "metadata": {
    "collapsed": false
   },
   "outputs": [],
   "source": [
    "plt.semilogy(abs(delta),f2based,label='f2based')\n",
    "plt.semilogy(abs(delta),series,label='series')\n",
    "plt.semilogy(abs(delta),origional,'--',label='origional')\n",
    "plt.legend()\n",
    "plt.show()"
   ]
  },
  {
   "cell_type": "code",
   "execution_count": null,
   "metadata": {
    "collapsed": false
   },
   "outputs": [],
   "source": [
    "plt.semilogy(abs(delta),abs(f2based-series),label='f2based')\n",
    "plt.show()"
   ]
  },
  {
   "cell_type": "code",
   "execution_count": null,
   "metadata": {
    "collapsed": false
   },
   "outputs": [],
   "source": [
    "e1=-0.10001\n",
    "e2=-0.010002\n",
    "e3=-0.02\n",
    "N=0.0001\n",
    "j=1\n",
    "print('f2based  ',f3nearZero(j,e1,e3,e2,N))\n",
    "print('series   ',f3ver2(j,e1,e2,e3,N))\n",
    "print('origional',f3ver1(j,e1,e2,e3,N))\n",
    "print('f3',f3(j,e1,e2,e3,N))"
   ]
  },
  {
   "cell_type": "code",
   "execution_count": null,
   "metadata": {
    "collapsed": false
   },
   "outputs": [],
   "source": [
    "e1=-0.01\n",
    "e2=-10.1\n",
    "e3=-10.2\n",
    "N=10\n",
    "j=1\n",
    "print('f2based  ',f3nearZero(j,e1,e2,e3,N))\n",
    "print('series   ',f3ver2(j,e1,e2,e3,N))\n",
    "print('origional',f3ver1(j,e1,e2,e3,N))\n",
    "print('f3',f3(j,e1,e2,e3,N))"
   ]
  },
  {
   "cell_type": "code",
   "execution_count": null,
   "metadata": {
    "collapsed": true
   },
   "outputs": [],
   "source": []
  }
 ],
 "metadata": {
  "anaconda-cloud": {},
  "kernelspec": {
   "display_name": "Python [conda root]",
   "language": "python",
   "name": "conda-root-py"
  },
  "language_info": {
   "codemirror_mode": {
    "name": "ipython",
    "version": 3
   },
   "file_extension": ".py",
   "mimetype": "text/x-python",
   "name": "python",
   "nbconvert_exporter": "python",
   "pygments_lexer": "ipython3",
   "version": "3.5.2"
  },
  "latex_envs": {
   "LaTeX_envs_menu_present": true,
   "autocomplete": true,
   "bibliofile": "biblio.bib",
   "cite_by": "apalike",
   "current_citInitial": 1,
   "eqLabelWithNumbers": true,
   "eqNumInitial": 1,
   "hotkeys": {
    "equation": "Ctrl-E",
    "itemize": "Ctrl-I"
   },
   "labels_anchors": false,
   "latex_user_defs": false,
   "report_style_numbering": false,
   "user_envs_cfg": false
  },
  "toc": {
   "colors": {
    "hover_highlight": "#DAA520",
    "running_highlight": "#FF0000",
    "selected_highlight": "#FFD700"
   },
   "moveMenuLeft": true,
   "nav_menu": {
    "height": "12px",
    "width": "252px"
   },
   "navigate_menu": true,
   "number_sections": true,
   "sideBar": true,
   "threshold": 4,
   "toc_cell": false,
   "toc_section_display": "block",
   "toc_window_display": false,
   "widenNotebook": false
  }
 },
 "nbformat": 4,
 "nbformat_minor": 1
}
