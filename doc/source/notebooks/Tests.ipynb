{
 "cells": [
  {
   "cell_type": "code",
   "execution_count": 12,
   "metadata": {},
   "outputs": [],
   "source": [
    "import MultiPoint as mp\n",
    "import propagator "
   ]
  },
  {
   "cell_type": "markdown",
   "metadata": {},
   "source": [
    "## Example 1: Two point"
   ]
  },
  {
   "cell_type": "markdown",
   "metadata": {},
   "source": [
    "This example shows how to use propagators.  First create a propagator object and then pass it to the integral you would like calculate.  When you create a propagator it will calculate the eigenvalues and residues and stuff like that so you don't need to do it over and over again when you are doing integrals."
   ]
  },
  {
   "cell_type": "code",
   "execution_count": 13,
   "metadata": {},
   "outputs": [
    {
     "name": "stdout",
     "output_type": "stream",
     "text": [
      "(0.661702570081-3.29243781832e-49j)\n"
     ]
    }
   ],
   "source": [
    "nlam=3  # how many lam values you want\n",
    "d=3\n",
    "mu=0\n",
    "K=1.2345\n",
    "\n",
    "name = 'the k=1.2345, mu=0 propagator'\n",
    "myprop = propagator.propagator(name,K,mu,nlam=nlam)\n",
    "# myprop is an object that includes things like eigenvalues and residues\n",
    "\n",
    "N=2.3456\n",
    "lam0=0\n",
    "lam=0\n",
    "fa=0.5\n",
    "\n",
    "# calculate the two point intigral (without the factor of 2)\n",
    "# this is a single perumation\n",
    "intigral = mp.IAAresum(N,fa,lam0,lam,myprop)\n",
    "print(intigral)"
   ]
  },
  {
   "cell_type": "markdown",
   "metadata": {},
   "source": [
    "We have just calculated the following integral\n",
    "$$\n",
    "Integral=\\int_{0}^{Nf_A}\\int_{0}^{s_{2}}\\mathcal{G}_{\\lambda_{0}\\lambda}^{\\mu}\\left(N,K\\right)\n",
    "$$"
   ]
  },
  {
   "cell_type": "code",
   "execution_count": 14,
   "metadata": {},
   "outputs": [
    {
     "name": "stdout",
     "output_type": "stream",
     "text": [
      "(7.30991097832e-55+0.289676469245j)\n"
     ]
    }
   ],
   "source": [
    "# now we can get another N, lam0, lam values\n",
    "N=3.456\n",
    "lam0=0\n",
    "lam=1\n",
    "intigral = mp.IAAresum(N,fa,lam0,lam,myprop)\n",
    "print(intigral)"
   ]
  },
  {
   "cell_type": "markdown",
   "metadata": {},
   "source": [
    "## Example 2: Four point"
   ]
  },
  {
   "cell_type": "markdown",
   "metadata": {},
   "source": [
    "\\[\n",
    "\\underset{AABB}{I_{1,2,3}^{\\left(4\\right)}\\left(N\\right)}=\\int_{Nf_{A}}^{N}ds_{3}\\int_{Nf_{A}}^{s_{4}}ds_{2}\\int_{0}^{Nf_{A}}ds_{1}\\int_{0}^{s_{1}}ds_{0}\\mathcal{G}_{\\lambda0_{1}\\lambda_{1}}^{\\mu_{1}}\\left(s_{4}-s_{3},K_{1}\\right)\\mathcal{G}_{\\lambda0_{2}\\lambda_{2}}^{\\mu_{2}}\\left(s_{3}-s_{2},K_{2}\\right)\\mathcal{G}_{\\lambda0_{3}\\lambda_{3}}^{\\mu_{3}}\\left(s_{2}-s_{1},K_{2}\\right)\n",
    "\\]"
   ]
  },
  {
   "cell_type": "code",
   "execution_count": 15,
   "metadata": {},
   "outputs": [
    {
     "name": "stdout",
     "output_type": "stream",
     "text": [
      "(1.93279760579-5.36539840666e-56j)\n"
     ]
    }
   ],
   "source": [
    "# Let's do the same thing for 4 point AABB for example\n",
    "mu=0\n",
    "K=0.0\n",
    "name = 'the k=0, mu=0 propagator'\n",
    "prop2 = propagator.propagator(name,K,mu,nlam=nlam)\n",
    "\n",
    "mu=0\n",
    "K=1.2345\n",
    "name = 'prop3'\n",
    "prop3 = propagator.propagator(name,K,mu,nlam=nlam)\n",
    "\n",
    "lam0_1=0; lam_1=0;\n",
    "lam0_2=0; lam_2=0;\n",
    "lam0_3=0; lam_3=0;\n",
    "\n",
    "I3=mp.IAABBresum(N,fa,lam0_1,lam_1,lam0_2,lam_2,lam0_3,lam_3,\\\n",
    "           myprop,prop2,prop3)\n",
    "print(I3)"
   ]
  },
  {
   "cell_type": "markdown",
   "metadata": {},
   "source": [
    "## Example 3: 4 point Many K values"
   ]
  },
  {
   "cell_type": "markdown",
   "metadata": {},
   "source": [
    "The point of this example is to show how to create many propagators.\n",
    "In general you will want a different propagator for each set of K and mu values.  You can use the same propagator do calculate integrals for different values of lam0,lam,N, and fa."
   ]
  },
  {
   "cell_type": "code",
   "execution_count": 16,
   "metadata": {
    "collapsed": true
   },
   "outputs": [],
   "source": [
    "import matplotlib.pyplot as plt\n",
    "import numpy as np"
   ]
  },
  {
   "cell_type": "code",
   "execution_count": 17,
   "metadata": {},
   "outputs": [],
   "source": [
    "nlam=5\n",
    "ORDEig=25\n",
    "d=3\n",
    "mu=0\n",
    "\n",
    "nkpts=100\n",
    "K=np.logspace(-2,5,nkpts)\n",
    "props1=[] # list of propagators at each K\n",
    "props2=[] # list of propagators at each K\n",
    "props3=[] # list of propagators at each K\n",
    "for ii in range(0,nkpts):\n",
    "\n",
    "    name=ii\n",
    "    props1.append( propagator.propagator(name,1.0*K[ii],mu,nlam=nlam) )\n",
    "\n",
    "    name=ii+0.5\n",
    "    props2.append( propagator.propagator(name,K[ii],mu,nlam=nlam) )\n",
    "    \n",
    "    name=ii+0.25\n",
    "    props3.append( propagator.propagator(name,1.0*K[ii],mu,nlam=nlam) )"
   ]
  },
  {
   "cell_type": "code",
   "execution_count": 18,
   "metadata": {},
   "outputs": [],
   "source": [
    "N=[0.001,0.01,0.1,1.0,10,100,1000]\n",
    "ana=np.zeros((nkpts,len(N)),dtype=type(1+1j))\n",
    "dub=np.zeros((nkpts,len(N)),dtype=type(1+1j))\n",
    "#fa=0.4466\n",
    "fa=1.0\n",
    "\n",
    "lam0_1=0; lam_1=0;\n",
    "lam0_2=0; lam_2=0;\n",
    "lam0_3=0; lam_3=0;\n",
    "\n",
    "for ii in range(0,nkpts):    \n",
    "    for nn in range(0,len(N)):\n",
    "#         ana[ii,nn]=mp.IAAAAresum(N[nn],fa,\\\n",
    "#                                  lam0_1,lam_1,\\\n",
    "#                                  lam0_2,lam_2,\\\n",
    "#                                  lam0_3,lam_3,\\\n",
    "#                                  props1[ii],props2[ii],props3[ii])\n",
    "        ana[ii,nn]=mp.IAAAA(N[nn],fa,\\\n",
    "                                 lam0_1,lam_1,\\\n",
    "                                 lam0_2,lam_2,\\\n",
    "                                 lam0_3,lam_3,\\\n",
    "                                 props1[ii],props2[ii],props3[ii])\n",
    "        #dub[ii,nn]=IAAAAexplicit(N[nn],lam0,lam,\\\n",
    "        #           props1[ii],props2[ii],props3[ii])"
   ]
  },
  {
   "cell_type": "code",
   "execution_count": 19,
   "metadata": {},
   "outputs": [
    {
     "ename": "ValueError",
     "evalue": "Data has no positive values, and therefore can not be log-scaled.",
     "output_type": "error",
     "traceback": [
      "\u001b[0;31m---------------------------------------------------------------------------\u001b[0m",
      "\u001b[0;31mValueError\u001b[0m                                Traceback (most recent call last)",
      "\u001b[0;32m<ipython-input-19-f07d8bd7e5b8>\u001b[0m in \u001b[0;36m<module>\u001b[0;34m()\u001b[0m\n\u001b[1;32m      2\u001b[0m \u001b[0;32mfor\u001b[0m \u001b[0mii\u001b[0m \u001b[0;32min\u001b[0m \u001b[0mrange\u001b[0m\u001b[0;34m(\u001b[0m\u001b[0;36m0\u001b[0m\u001b[0;34m,\u001b[0m\u001b[0mlen\u001b[0m\u001b[0;34m(\u001b[0m\u001b[0mN\u001b[0m\u001b[0;34m)\u001b[0m\u001b[0;34m)\u001b[0m\u001b[0;34m:\u001b[0m\u001b[0;34m\u001b[0m\u001b[0m\n\u001b[1;32m      3\u001b[0m     \u001b[0mcol\u001b[0m\u001b[0;34m=\u001b[0m\u001b[0mfloat\u001b[0m\u001b[0;34m(\u001b[0m\u001b[0mii\u001b[0m\u001b[0;34m)\u001b[0m\u001b[0;34m/\u001b[0m\u001b[0mlen\u001b[0m\u001b[0;34m(\u001b[0m\u001b[0mN\u001b[0m\u001b[0;34m)\u001b[0m\u001b[0;34m\u001b[0m\u001b[0m\n\u001b[0;32m----> 4\u001b[0;31m     \u001b[0max\u001b[0m\u001b[0;34m.\u001b[0m\u001b[0mloglog\u001b[0m\u001b[0;34m(\u001b[0m\u001b[0mK\u001b[0m\u001b[0;34m.\u001b[0m\u001b[0mreal\u001b[0m\u001b[0;34m,\u001b[0m\u001b[0mabs\u001b[0m\u001b[0;34m(\u001b[0m\u001b[0mana\u001b[0m\u001b[0;34m[\u001b[0m\u001b[0;34m:\u001b[0m\u001b[0;34m,\u001b[0m\u001b[0mii\u001b[0m\u001b[0;34m]\u001b[0m\u001b[0;34m)\u001b[0m\u001b[0;34m.\u001b[0m\u001b[0mreal\u001b[0m\u001b[0;34m,\u001b[0m                \u001b[0mcolor\u001b[0m\u001b[0;34m=\u001b[0m\u001b[0;34m[\u001b[0m\u001b[0mcol\u001b[0m\u001b[0;34m,\u001b[0m \u001b[0;36m0.0\u001b[0m\u001b[0;34m,\u001b[0m \u001b[0;36m1\u001b[0m\u001b[0;34m-\u001b[0m\u001b[0mcol\u001b[0m\u001b[0;34m]\u001b[0m\u001b[0;34m,\u001b[0m\u001b[0mlabel\u001b[0m\u001b[0;34m=\u001b[0m\u001b[0;34m'resum '\u001b[0m\u001b[0;34m+\u001b[0m\u001b[0mstr\u001b[0m\u001b[0;34m(\u001b[0m\u001b[0mN\u001b[0m\u001b[0;34m[\u001b[0m\u001b[0mii\u001b[0m\u001b[0;34m]\u001b[0m\u001b[0;34m)\u001b[0m\u001b[0;34m)\u001b[0m\u001b[0;34m\u001b[0m\u001b[0m\n\u001b[0m\u001b[1;32m      5\u001b[0m     \u001b[0;31m#ax.loglog(K.real,abs(dub[:,ii]),'--',\\\u001b[0m\u001b[0;34m\u001b[0m\u001b[0;34m\u001b[0m\u001b[0m\n\u001b[1;32m      6\u001b[0m     \u001b[0;31m#            color=[col, 0.0, 1-col],label='expl '+str(N[ii]))\u001b[0m\u001b[0;34m\u001b[0m\u001b[0;34m\u001b[0m\u001b[0m\n",
      "\u001b[0;32m/Users/shifan/anaconda/lib/python3.5/site-packages/matplotlib/axes/_axes.py\u001b[0m in \u001b[0;36mloglog\u001b[0;34m(self, *args, **kwargs)\u001b[0m\n\u001b[1;32m   1518\u001b[0m         \u001b[0mb\u001b[0m \u001b[0;34m=\u001b[0m \u001b[0mself\u001b[0m\u001b[0;34m.\u001b[0m\u001b[0m_hold\u001b[0m\u001b[0;34m\u001b[0m\u001b[0m\n\u001b[1;32m   1519\u001b[0m         \u001b[0mself\u001b[0m\u001b[0;34m.\u001b[0m\u001b[0m_hold\u001b[0m \u001b[0;34m=\u001b[0m \u001b[0;32mTrue\u001b[0m  \u001b[0;31m# we've already processed the hold\u001b[0m\u001b[0;34m\u001b[0m\u001b[0m\n\u001b[0;32m-> 1520\u001b[0;31m         \u001b[0ml\u001b[0m \u001b[0;34m=\u001b[0m \u001b[0mself\u001b[0m\u001b[0;34m.\u001b[0m\u001b[0mplot\u001b[0m\u001b[0;34m(\u001b[0m\u001b[0;34m*\u001b[0m\u001b[0margs\u001b[0m\u001b[0;34m,\u001b[0m \u001b[0;34m**\u001b[0m\u001b[0mkwargs\u001b[0m\u001b[0;34m)\u001b[0m\u001b[0;34m\u001b[0m\u001b[0m\n\u001b[0m\u001b[1;32m   1521\u001b[0m         \u001b[0mself\u001b[0m\u001b[0;34m.\u001b[0m\u001b[0m_hold\u001b[0m \u001b[0;34m=\u001b[0m \u001b[0mb\u001b[0m  \u001b[0;31m# restore the hold\u001b[0m\u001b[0;34m\u001b[0m\u001b[0m\n\u001b[1;32m   1522\u001b[0m \u001b[0;34m\u001b[0m\u001b[0m\n",
      "\u001b[0;32m/Users/shifan/anaconda/lib/python3.5/site-packages/matplotlib/__init__.py\u001b[0m in \u001b[0;36minner\u001b[0;34m(ax, *args, **kwargs)\u001b[0m\n\u001b[1;32m   1817\u001b[0m                     warnings.warn(msg % (label_namer, func.__name__),\n\u001b[1;32m   1818\u001b[0m                                   RuntimeWarning, stacklevel=2)\n\u001b[0;32m-> 1819\u001b[0;31m             \u001b[0;32mreturn\u001b[0m \u001b[0mfunc\u001b[0m\u001b[0;34m(\u001b[0m\u001b[0max\u001b[0m\u001b[0;34m,\u001b[0m \u001b[0;34m*\u001b[0m\u001b[0margs\u001b[0m\u001b[0;34m,\u001b[0m \u001b[0;34m**\u001b[0m\u001b[0mkwargs\u001b[0m\u001b[0;34m)\u001b[0m\u001b[0;34m\u001b[0m\u001b[0m\n\u001b[0m\u001b[1;32m   1820\u001b[0m         \u001b[0mpre_doc\u001b[0m \u001b[0;34m=\u001b[0m \u001b[0minner\u001b[0m\u001b[0;34m.\u001b[0m\u001b[0m__doc__\u001b[0m\u001b[0;34m\u001b[0m\u001b[0m\n\u001b[1;32m   1821\u001b[0m         \u001b[0;32mif\u001b[0m \u001b[0mpre_doc\u001b[0m \u001b[0;32mis\u001b[0m \u001b[0;32mNone\u001b[0m\u001b[0;34m:\u001b[0m\u001b[0;34m\u001b[0m\u001b[0m\n",
      "\u001b[0;32m/Users/shifan/anaconda/lib/python3.5/site-packages/matplotlib/axes/_axes.py\u001b[0m in \u001b[0;36mplot\u001b[0;34m(self, *args, **kwargs)\u001b[0m\n\u001b[1;32m   1384\u001b[0m             \u001b[0mlines\u001b[0m\u001b[0;34m.\u001b[0m\u001b[0mappend\u001b[0m\u001b[0;34m(\u001b[0m\u001b[0mline\u001b[0m\u001b[0;34m)\u001b[0m\u001b[0;34m\u001b[0m\u001b[0m\n\u001b[1;32m   1385\u001b[0m \u001b[0;34m\u001b[0m\u001b[0m\n\u001b[0;32m-> 1386\u001b[0;31m         \u001b[0mself\u001b[0m\u001b[0;34m.\u001b[0m\u001b[0mautoscale_view\u001b[0m\u001b[0;34m(\u001b[0m\u001b[0mscalex\u001b[0m\u001b[0;34m=\u001b[0m\u001b[0mscalex\u001b[0m\u001b[0;34m,\u001b[0m \u001b[0mscaley\u001b[0m\u001b[0;34m=\u001b[0m\u001b[0mscaley\u001b[0m\u001b[0;34m)\u001b[0m\u001b[0;34m\u001b[0m\u001b[0m\n\u001b[0m\u001b[1;32m   1387\u001b[0m         \u001b[0;32mreturn\u001b[0m \u001b[0mlines\u001b[0m\u001b[0;34m\u001b[0m\u001b[0m\n\u001b[1;32m   1388\u001b[0m \u001b[0;34m\u001b[0m\u001b[0m\n",
      "\u001b[0;32m/Users/shifan/anaconda/lib/python3.5/site-packages/matplotlib/axes/_base.py\u001b[0m in \u001b[0;36mautoscale_view\u001b[0;34m(self, tight, scalex, scaley)\u001b[0m\n\u001b[1;32m   2166\u001b[0m                 \u001b[0mx1\u001b[0m \u001b[0;34m+=\u001b[0m \u001b[0mdelta\u001b[0m\u001b[0;34m\u001b[0m\u001b[0m\n\u001b[1;32m   2167\u001b[0m             \u001b[0;32mif\u001b[0m \u001b[0;32mnot\u001b[0m \u001b[0m_tight\u001b[0m\u001b[0;34m:\u001b[0m\u001b[0;34m\u001b[0m\u001b[0m\n\u001b[0;32m-> 2168\u001b[0;31m                 \u001b[0mx0\u001b[0m\u001b[0;34m,\u001b[0m \u001b[0mx1\u001b[0m \u001b[0;34m=\u001b[0m \u001b[0mxlocator\u001b[0m\u001b[0;34m.\u001b[0m\u001b[0mview_limits\u001b[0m\u001b[0;34m(\u001b[0m\u001b[0mx0\u001b[0m\u001b[0;34m,\u001b[0m \u001b[0mx1\u001b[0m\u001b[0;34m)\u001b[0m\u001b[0;34m\u001b[0m\u001b[0m\n\u001b[0m\u001b[1;32m   2169\u001b[0m             \u001b[0mself\u001b[0m\u001b[0;34m.\u001b[0m\u001b[0mset_xbound\u001b[0m\u001b[0;34m(\u001b[0m\u001b[0mx0\u001b[0m\u001b[0;34m,\u001b[0m \u001b[0mx1\u001b[0m\u001b[0;34m)\u001b[0m\u001b[0;34m\u001b[0m\u001b[0m\n\u001b[1;32m   2170\u001b[0m \u001b[0;34m\u001b[0m\u001b[0m\n",
      "\u001b[0;32m/Users/shifan/anaconda/lib/python3.5/site-packages/matplotlib/ticker.py\u001b[0m in \u001b[0;36mview_limits\u001b[0;34m(self, vmin, vmax)\u001b[0m\n\u001b[1;32m   1615\u001b[0m         \u001b[0;32mif\u001b[0m \u001b[0mminpos\u001b[0m \u001b[0;34m<=\u001b[0m \u001b[0;36m0\u001b[0m \u001b[0;32mor\u001b[0m \u001b[0;32mnot\u001b[0m \u001b[0mnp\u001b[0m\u001b[0;34m.\u001b[0m\u001b[0misfinite\u001b[0m\u001b[0;34m(\u001b[0m\u001b[0mminpos\u001b[0m\u001b[0;34m)\u001b[0m\u001b[0;34m:\u001b[0m\u001b[0;34m\u001b[0m\u001b[0m\n\u001b[1;32m   1616\u001b[0m             raise ValueError(\n\u001b[0;32m-> 1617\u001b[0;31m                 \u001b[0;34m\"Data has no positive values, and therefore can not be \"\u001b[0m\u001b[0;34m\u001b[0m\u001b[0m\n\u001b[0m\u001b[1;32m   1618\u001b[0m                 \"log-scaled.\")\n\u001b[1;32m   1619\u001b[0m \u001b[0;34m\u001b[0m\u001b[0m\n",
      "\u001b[0;31mValueError\u001b[0m: Data has no positive values, and therefore can not be log-scaled."
     ]
    }
   ],
   "source": [
    "fig, ax = plt.subplots()\n",
    "for ii in range(0,len(N)):\n",
    "    col=float(ii)/len(N)\n",
    "    ax.loglog(K.real,abs(ana[:,ii]).real,\\\n",
    "                color=[col, 0.0, 1-col],label='resum '+str(N[ii]))\n",
    "    #ax.loglog(K.real,abs(dub[:,ii]),'--',\\\n",
    "    #            color=[col, 0.0, 1-col],label='expl '+str(N[ii]))\n",
    "ax.legend(bbox_to_anchor=(1.05,1),loc=2)\n",
    "ax.set_xlabel('K')\n",
    "ax.set_title('AAAA')\n",
    "#ax.set_ylim([10**-18,10**15])\n",
    "plt.show()"
   ]
  },
  {
   "cell_type": "code",
   "execution_count": 11,
   "metadata": {},
   "outputs": [
    {
     "data": {
      "text/plain": [
       "array([[ nan+nanj,  nan+nanj,  nan+nanj,  nan+nanj,  nan+nanj,  nan+nanj,\n",
       "         nan+nanj],\n",
       "       [ nan+nanj,  nan+nanj,  nan+nanj,  nan+nanj,  nan+nanj,  nan+nanj,\n",
       "         nan+nanj],\n",
       "       [ nan+nanj,  nan+nanj,  nan+nanj,  nan+nanj,  nan+nanj,  nan+nanj,\n",
       "         nan+nanj],\n",
       "       [ nan+nanj,  nan+nanj,  nan+nanj,  nan+nanj,  nan+nanj,  nan+nanj,\n",
       "         nan+nanj],\n",
       "       [ nan+nanj,  nan+nanj,  nan+nanj,  nan+nanj,  nan+nanj,  nan+nanj,\n",
       "         nan+nanj],\n",
       "       [ nan+nanj,  nan+nanj,  nan+nanj,  nan+nanj,  nan+nanj,  nan+nanj,\n",
       "         nan+nanj],\n",
       "       [ nan+nanj,  nan+nanj,  nan+nanj,  nan+nanj,  nan+nanj,  nan+nanj,\n",
       "         nan+nanj],\n",
       "       [ nan+nanj,  nan+nanj,  nan+nanj,  nan+nanj,  nan+nanj,  nan+nanj,\n",
       "         nan+nanj],\n",
       "       [ nan+nanj,  nan+nanj,  nan+nanj,  nan+nanj,  nan+nanj,  nan+nanj,\n",
       "         nan+nanj],\n",
       "       [ nan+nanj,  nan+nanj,  nan+nanj,  nan+nanj,  nan+nanj,  nan+nanj,\n",
       "         nan+nanj],\n",
       "       [ nan+nanj,  nan+nanj,  nan+nanj,  nan+nanj,  nan+nanj,  nan+nanj,\n",
       "         nan+nanj],\n",
       "       [ nan+nanj,  nan+nanj,  nan+nanj,  nan+nanj,  nan+nanj,  nan+nanj,\n",
       "         nan+nanj],\n",
       "       [ nan+nanj,  nan+nanj,  nan+nanj,  nan+nanj,  nan+nanj,  nan+nanj,\n",
       "         nan+nanj],\n",
       "       [ nan+nanj,  nan+nanj,  nan+nanj,  nan+nanj,  nan+nanj,  nan+nanj,\n",
       "         nan+nanj],\n",
       "       [ nan+nanj,  nan+nanj,  nan+nanj,  nan+nanj,  nan+nanj,  nan+nanj,\n",
       "         nan+nanj],\n",
       "       [ nan+nanj,  nan+nanj,  nan+nanj,  nan+nanj,  nan+nanj,  nan+nanj,\n",
       "         nan+nanj],\n",
       "       [ nan+nanj,  nan+nanj,  nan+nanj,  nan+nanj,  nan+nanj,  nan+nanj,\n",
       "         nan+nanj],\n",
       "       [ nan+nanj,  nan+nanj,  nan+nanj,  nan+nanj,  nan+nanj,  nan+nanj,\n",
       "         nan+nanj],\n",
       "       [ nan+nanj,  nan+nanj,  nan+nanj,  nan+nanj,  nan+nanj,  nan+nanj,\n",
       "         nan+nanj],\n",
       "       [ nan+nanj,  nan+nanj,  nan+nanj,  nan+nanj,  nan+nanj,  nan+nanj,\n",
       "         nan+nanj],\n",
       "       [ nan+nanj,  nan+nanj,  nan+nanj,  nan+nanj,  nan+nanj,  nan+nanj,\n",
       "         nan+nanj],\n",
       "       [ nan+nanj,  nan+nanj,  nan+nanj,  nan+nanj,  nan+nanj,  nan+nanj,\n",
       "         nan+nanj],\n",
       "       [ nan+nanj,  nan+nanj,  nan+nanj,  nan+nanj,  nan+nanj,  nan+nanj,\n",
       "         nan+nanj],\n",
       "       [ nan+nanj,  nan+nanj,  nan+nanj,  nan+nanj,  nan+nanj,  nan+nanj,\n",
       "         nan+nanj],\n",
       "       [ nan+nanj,  nan+nanj,  nan+nanj,  nan+nanj,  nan+nanj,  nan+nanj,\n",
       "         nan+nanj],\n",
       "       [ nan+nanj,  nan+nanj,  nan+nanj,  nan+nanj,  nan+nanj,  nan+nanj,\n",
       "         nan+nanj],\n",
       "       [ nan+nanj,  nan+nanj,  nan+nanj,  nan+nanj,  nan+nanj,  nan+nanj,\n",
       "         nan+nanj],\n",
       "       [ nan+nanj,  nan+nanj,  nan+nanj,  nan+nanj,  nan+nanj,  nan+nanj,\n",
       "         nan+nanj],\n",
       "       [ nan+nanj,  nan+nanj,  nan+nanj,  nan+nanj,  nan+nanj,  nan+nanj,\n",
       "         nan+nanj],\n",
       "       [ nan+nanj,  nan+nanj,  nan+nanj,  nan+nanj,  nan+nanj,  nan+nanj,\n",
       "         nan+nanj],\n",
       "       [ nan+nanj,  nan+nanj,  nan+nanj,  nan+nanj,  nan+nanj,  nan+nanj,\n",
       "         nan+nanj],\n",
       "       [ nan+nanj,  nan+nanj,  nan+nanj,  nan+nanj,  nan+nanj,  nan+nanj,\n",
       "         nan+nanj],\n",
       "       [ nan+nanj,  nan+nanj,  nan+nanj,  nan+nanj,  nan+nanj,  nan+nanj,\n",
       "         nan+nanj],\n",
       "       [ nan+nanj,  nan+nanj,  nan+nanj,  nan+nanj,  nan+nanj,  nan+nanj,\n",
       "         nan+nanj],\n",
       "       [ nan+nanj,  nan+nanj,  nan+nanj,  nan+nanj,  nan+nanj,  nan+nanj,\n",
       "         nan+nanj],\n",
       "       [ nan+nanj,  nan+nanj,  nan+nanj,  nan+nanj,  nan+nanj,  nan+nanj,\n",
       "         nan+nanj],\n",
       "       [ nan+nanj,  nan+nanj,  nan+nanj,  nan+nanj,  nan+nanj,  nan+nanj,\n",
       "         nan+nanj],\n",
       "       [ nan+nanj,  nan+nanj,  nan+nanj,  nan+nanj,  nan+nanj,  nan+nanj,\n",
       "         nan+nanj],\n",
       "       [ nan+nanj,  nan+nanj,  nan+nanj,  nan+nanj,  nan+nanj,  nan+nanj,\n",
       "         nan+nanj],\n",
       "       [ nan+nanj,  nan+nanj,  nan+nanj,  nan+nanj,  nan+nanj,  nan+nanj,\n",
       "         nan+nanj],\n",
       "       [ nan+nanj,  nan+nanj,  nan+nanj,  nan+nanj,  nan+nanj,  nan+nanj,\n",
       "         nan+nanj],\n",
       "       [ nan+nanj,  nan+nanj,  nan+nanj,  nan+nanj,  nan+nanj,  nan+nanj,\n",
       "         nan+nanj],\n",
       "       [ nan+nanj,  nan+nanj,  nan+nanj,  nan+nanj,  nan+nanj,  nan+nanj,\n",
       "         nan+nanj],\n",
       "       [ nan+nanj,  nan+nanj,  nan+nanj,  nan+nanj,  nan+nanj,  nan+nanj,\n",
       "         nan+nanj],\n",
       "       [ nan+nanj,  nan+nanj,  nan+nanj,  nan+nanj,  nan+nanj,  nan+nanj,\n",
       "         nan+nanj],\n",
       "       [ nan+nanj,  nan+nanj,  nan+nanj,  nan+nanj,  nan+nanj,  nan+nanj,\n",
       "         nan+nanj],\n",
       "       [ nan+nanj,  nan+nanj,  nan+nanj,  nan+nanj,  nan+nanj,  nan+nanj,\n",
       "         nan+nanj],\n",
       "       [ nan+nanj,  nan+nanj,  nan+nanj,  nan+nanj,  nan+nanj,  nan+nanj,\n",
       "         nan+nanj],\n",
       "       [ nan+nanj,  nan+nanj,  nan+nanj,  nan+nanj,  nan+nanj,  nan+nanj,\n",
       "         nan+nanj],\n",
       "       [ nan+nanj,  nan+nanj,  nan+nanj,  nan+nanj,  nan+nanj,  nan+nanj,\n",
       "         nan+nanj],\n",
       "       [ nan+nanj,  nan+nanj,  nan+nanj,  nan+nanj,  nan+nanj,  nan+nanj,\n",
       "         nan+nanj],\n",
       "       [ nan+nanj,  nan+nanj,  nan+nanj,  nan+nanj,  nan+nanj,  nan+nanj,\n",
       "         nan+nanj],\n",
       "       [ nan+nanj,  nan+nanj,  nan+nanj,  nan+nanj,  nan+nanj,  nan+nanj,\n",
       "         nan+nanj],\n",
       "       [ nan+nanj,  nan+nanj,  nan+nanj,  nan+nanj,  nan+nanj,  nan+nanj,\n",
       "         nan+nanj],\n",
       "       [ nan+nanj,  nan+nanj,  nan+nanj,  nan+nanj,  nan+nanj,  nan+nanj,\n",
       "         nan+nanj],\n",
       "       [ nan+nanj,  nan+nanj,  nan+nanj,  nan+nanj,  nan+nanj,  nan+nanj,\n",
       "         nan+nanj],\n",
       "       [ nan+nanj,  nan+nanj,  nan+nanj,  nan+nanj,  nan+nanj,  nan+nanj,\n",
       "         nan+nanj],\n",
       "       [ nan+nanj,  nan+nanj,  nan+nanj,  nan+nanj,  nan+nanj,  nan+nanj,\n",
       "         nan+nanj],\n",
       "       [ nan+nanj,  nan+nanj,  nan+nanj,  nan+nanj,  nan+nanj,  nan+nanj,\n",
       "         nan+nanj],\n",
       "       [ nan+nanj,  nan+nanj,  nan+nanj,  nan+nanj,  nan+nanj,  nan+nanj,\n",
       "         nan+nanj],\n",
       "       [ nan+nanj,  nan+nanj,  nan+nanj,  nan+nanj,  nan+nanj,  nan+nanj,\n",
       "         nan+nanj],\n",
       "       [ nan+nanj,  nan+nanj,  nan+nanj,  nan+nanj,  nan+nanj,  nan+nanj,\n",
       "         nan+nanj],\n",
       "       [ nan+nanj,  nan+nanj,  nan+nanj,  nan+nanj,  nan+nanj,  nan+nanj,\n",
       "         nan+nanj],\n",
       "       [ nan+nanj,  nan+nanj,  nan+nanj,  nan+nanj,  nan+nanj,  nan+nanj,\n",
       "         nan+nanj],\n",
       "       [ nan+nanj,  nan+nanj,  nan+nanj,  nan+nanj,  nan+nanj,  nan+nanj,\n",
       "         nan+nanj],\n",
       "       [ nan+nanj,  nan+nanj,  nan+nanj,  nan+nanj,  nan+nanj,  nan+nanj,\n",
       "         nan+nanj],\n",
       "       [ nan+nanj,  nan+nanj,  nan+nanj,  nan+nanj,  nan+nanj,  nan+nanj,\n",
       "         nan+nanj],\n",
       "       [ nan+nanj,  nan+nanj,  nan+nanj,  nan+nanj,  nan+nanj,  nan+nanj,\n",
       "         nan+nanj],\n",
       "       [ nan+nanj,  nan+nanj,  nan+nanj,  nan+nanj,  nan+nanj,  nan+nanj,\n",
       "         nan+nanj],\n",
       "       [ nan+nanj,  nan+nanj,  nan+nanj,  nan+nanj,  nan+nanj,  nan+nanj,\n",
       "         nan+nanj],\n",
       "       [ nan+nanj,  nan+nanj,  nan+nanj,  nan+nanj,  nan+nanj,  nan+nanj,\n",
       "         nan+nanj],\n",
       "       [ nan+nanj,  nan+nanj,  nan+nanj,  nan+nanj,  nan+nanj,  nan+nanj,\n",
       "         nan+nanj],\n",
       "       [ nan+nanj,  nan+nanj,  nan+nanj,  nan+nanj,  nan+nanj,  nan+nanj,\n",
       "         nan+nanj],\n",
       "       [ nan+nanj,  nan+nanj,  nan+nanj,  nan+nanj,  nan+nanj,  nan+nanj,\n",
       "         nan+nanj],\n",
       "       [ nan+nanj,  nan+nanj,  nan+nanj,  nan+nanj,  nan+nanj,  nan+nanj,\n",
       "         nan+nanj],\n",
       "       [ nan+nanj,  nan+nanj,  nan+nanj,  nan+nanj,  nan+nanj,  nan+nanj,\n",
       "         nan+nanj],\n",
       "       [ nan+nanj,  nan+nanj,  nan+nanj,  nan+nanj,  nan+nanj,  nan+nanj,\n",
       "         nan+nanj],\n",
       "       [ nan+nanj,  nan+nanj,  nan+nanj,  nan+nanj,  nan+nanj,  nan+nanj,\n",
       "         nan+nanj],\n",
       "       [ nan+nanj,  nan+nanj,  nan+nanj,  nan+nanj,  nan+nanj,  nan+nanj,\n",
       "         nan+nanj],\n",
       "       [ nan+nanj,  nan+nanj,  nan+nanj,  nan+nanj,  nan+nanj,  nan+nanj,\n",
       "         nan+nanj],\n",
       "       [ nan+nanj,  nan+nanj,  nan+nanj,  nan+nanj,  nan+nanj,  nan+nanj,\n",
       "         nan+nanj],\n",
       "       [ nan+nanj,  nan+nanj,  nan+nanj,  nan+nanj,  nan+nanj,  nan+nanj,\n",
       "         nan+nanj],\n",
       "       [ nan+nanj,  nan+nanj,  nan+nanj,  nan+nanj,  nan+nanj,  nan+nanj,\n",
       "         nan+nanj],\n",
       "       [ nan+nanj,  nan+nanj,  nan+nanj,  nan+nanj,  nan+nanj,  nan+nanj,\n",
       "         nan+nanj],\n",
       "       [ nan+nanj,  nan+nanj,  nan+nanj,  nan+nanj,  nan+nanj,  nan+nanj,\n",
       "         nan+nanj],\n",
       "       [ nan+nanj,  nan+nanj,  nan+nanj,  nan+nanj,  nan+nanj,  nan+nanj,\n",
       "         nan+nanj],\n",
       "       [ nan+nanj,  nan+nanj,  nan+nanj,  nan+nanj,  nan+nanj,  nan+nanj,\n",
       "         nan+nanj],\n",
       "       [ nan+nanj,  nan+nanj,  nan+nanj,  nan+nanj,  nan+nanj,  nan+nanj,\n",
       "         nan+nanj],\n",
       "       [ nan+nanj,  nan+nanj,  nan+nanj,  nan+nanj,  nan+nanj,  nan+nanj,\n",
       "         nan+nanj],\n",
       "       [ nan+nanj,  nan+nanj,  nan+nanj,  nan+nanj,  nan+nanj,  nan+nanj,\n",
       "         nan+nanj],\n",
       "       [ nan+nanj,  nan+nanj,  nan+nanj,  nan+nanj,  nan+nanj,  nan+nanj,\n",
       "         nan+nanj],\n",
       "       [ nan+nanj,  nan+nanj,  nan+nanj,  nan+nanj,  nan+nanj,  nan+nanj,\n",
       "         nan+nanj],\n",
       "       [ nan+nanj,  nan+nanj,  nan+nanj,  nan+nanj,  nan+nanj,  nan+nanj,\n",
       "         nan+nanj],\n",
       "       [ nan+nanj,  nan+nanj,  nan+nanj,  nan+nanj,  nan+nanj,  nan+nanj,\n",
       "         nan+nanj],\n",
       "       [ nan+nanj,  nan+nanj,  nan+nanj,  nan+nanj,  nan+nanj,  nan+nanj,\n",
       "         nan+nanj],\n",
       "       [ nan+nanj,  nan+nanj,  nan+nanj,  nan+nanj,  nan+nanj,  nan+nanj,\n",
       "         nan+nanj],\n",
       "       [ nan+nanj,  nan+nanj,  nan+nanj,  nan+nanj,  nan+nanj,  nan+nanj,\n",
       "         nan+nanj],\n",
       "       [ nan+nanj,  nan+nanj,  nan+nanj,  nan+nanj,  nan+nanj,  nan+nanj,\n",
       "         nan+nanj],\n",
       "       [ nan+nanj,  nan+nanj,  nan+nanj,  nan+nanj,  nan+nanj,  nan+nanj,\n",
       "         nan+nanj],\n",
       "       [ nan+nanj,  nan+nanj,  nan+nanj,  nan+nanj,  nan+nanj,  nan+nanj,\n",
       "         nan+nanj]])"
      ]
     },
     "execution_count": 11,
     "metadata": {},
     "output_type": "execute_result"
    }
   ],
   "source": [
    "ana"
   ]
  },
  {
   "cell_type": "code",
   "execution_count": null,
   "metadata": {
    "collapsed": true
   },
   "outputs": [],
   "source": []
  }
 ],
 "metadata": {
  "anaconda-cloud": {},
  "kernelspec": {
   "display_name": "Python 3",
   "language": "python",
   "name": "python3"
  },
  "language_info": {
   "codemirror_mode": {
    "name": "ipython",
    "version": 3
   },
   "file_extension": ".py",
   "mimetype": "text/x-python",
   "name": "python",
   "nbconvert_exporter": "python",
   "pygments_lexer": "ipython3",
   "version": "3.6.0"
  },
  "latex_envs": {
   "LaTeX_envs_menu_present": true,
   "autocomplete": true,
   "bibliofile": "biblio.bib",
   "cite_by": "apalike",
   "current_citInitial": 1,
   "eqLabelWithNumbers": true,
   "eqNumInitial": 1,
   "hotkeys": {
    "equation": "Ctrl-E",
    "itemize": "Ctrl-I"
   },
   "labels_anchors": false,
   "latex_user_defs": false,
   "report_style_numbering": false,
   "user_envs_cfg": false
  },
  "toc": {
   "colors": {
    "hover_highlight": "#DAA520",
    "running_highlight": "#FF0000",
    "selected_highlight": "#FFD700"
   },
   "moveMenuLeft": true,
   "nav_menu": {
    "height": "12px",
    "width": "252px"
   },
   "navigate_menu": true,
   "number_sections": true,
   "sideBar": true,
   "threshold": 4,
   "toc_cell": false,
   "toc_section_display": "block",
   "toc_window_display": false,
   "widenNotebook": false
  }
 },
 "nbformat": 4,
 "nbformat_minor": 1
}
