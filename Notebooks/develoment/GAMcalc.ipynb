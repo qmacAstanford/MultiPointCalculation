{
 "cells": [
  {
   "cell_type": "markdown",
   "metadata": {},
   "source": [
    "## Vertex functions\n",
    "This code calculates the vertex functions from random-phase-approximation of copolymer melts."
   ]
  },
  {
   "cell_type": "code",
   "execution_count": null,
   "metadata": {
    "collapsed": true
   },
   "outputs": [],
   "source": [
    "from CORRcalc import s2wlc, s2inverse, s3wlc, s4wlc, norm\n",
    "from itertools import product\n",
    "#import propagator \n",
    "import numpy as np\n",
    "from scipy import optimize\n",
    "#import wignerD as wd"
   ]
  },
  {
   "cell_type": "code",
   "execution_count": null,
   "metadata": {
    "collapsed": true
   },
   "outputs": [],
   "source": [
    "#%matplotlib inline\n",
    "#import matplotlib.pyplot as plt\n",
    "# import mpld3\n",
    "# mpld3.enable_notebook()"
   ]
  },
  {
   "cell_type": "markdown",
   "metadata": {},
   "source": [
    "## Finding spinodal (minimum of $\\Gamma_{2}$)"
   ]
  },
  {
   "cell_type": "code",
   "execution_count": null,
   "metadata": {
    "collapsed": true
   },
   "outputs": [],
   "source": [
    "def r2(N):\n",
    "    return N - 0.5*(1-np.exp(-2*N))"
   ]
  },
  {
   "cell_type": "code",
   "execution_count": null,
   "metadata": {
    "collapsed": true
   },
   "outputs": [],
   "source": [
    "def spinodal(pset, N, FA):\n",
    "    CHI = 0\n",
    "    K0 = 1/np.sqrt(r2(N))\n",
    "    \n",
    "    KS = optimize.fmin(lambda K: np.real(gamma2(pset, N, FA, K, CHI)), K0,\\\n",
    "                      disp=False)\n",
    "    \n",
    "    return KS"
   ]
  },
  {
   "cell_type": "markdown",
   "metadata": {},
   "source": [
    "## Quadratic vertex\n",
    "\\begin{eqnarray}\n",
    "\\Gamma_{2}(\\vec{q}) \\! &=& \\! \n",
    "\\frac{1}{2} \\left[\n",
    "-2 \\chi + \n",
    "S_{AA}^{(2)^{-1}}(\\vec{q})-\n",
    "2S_{AB}^{(2)^{-1}}(\\vec{q})+\n",
    "S_{BB}^{(2)^{-1}}(\\vec{q})\n",
    "\\right]\n",
    "\\end{eqnarray}"
   ]
  },
  {
   "cell_type": "code",
   "execution_count": null,
   "metadata": {
    "collapsed": true
   },
   "outputs": [],
   "source": [
    "def gamma2(pset, N, FA, K, CHI):\n",
    "    s2inv = s2inverse(pset, N, FA, K)\n",
    "\n",
    "    D = [1,-1]    # sign indicator\n",
    "    G = 0\n",
    "    for I0, I1 in product([0,1], repeat=2):\n",
    "        G += s2inv[I0, I1]*D[I0]*D[I1]\n",
    "        \n",
    "    return -2*CHI + N*G"
   ]
  },
  {
   "cell_type": "markdown",
   "metadata": {},
   "source": [
    "## Cubic Vertex"
   ]
  },
  {
   "cell_type": "markdown",
   "metadata": {},
   "source": [
    "$$\n",
    "\\Gamma_{3}(\\vec{q}_1,\\vec{q}_2,\\vec{q}_3)  =\n",
    "-\\frac{1}{3!}\n",
    "\\sum_{\\alpha_{1} \\alpha_{2} \\alpha_{3}}\n",
    "S_{\\alpha_1 \\alpha_2 \\alpha_3}^{(3)}(\\vec{q}_1,\\vec{q}_2,\\vec{q}_3) \\times\n",
    "\\left[ S_{\\alpha_1 A}^{(2)^{-1}}(\\vec{q}_1)-S_{\\alpha_1 B}^{(2)^{-1}}(\\vec{q}_1)  \\right] \\times \\nonumber \n",
    "$$\n",
    "\n",
    "$$\n",
    "\\left[ S_{\\alpha_2 A}^{(2)^{-1}}(\\vec{q}_2)-S_{\\alpha_2 B}^{(2)^{-1}}(\\vec{q}_2)  \\right]\n",
    "\\left[ S_{\\alpha_2 A}^{(2)^{-1}}(\\vec{q}_3)-S_{\\alpha_2 B}^{(2)^{-1}}(\\vec{q}_3)  \\right]\n",
    "$$"
   ]
  },
  {
   "cell_type": "code",
   "execution_count": null,
   "metadata": {
    "collapsed": true
   },
   "outputs": [],
   "source": [
    "def gamma3(pset, N, FA, Ks):\n",
    "    K1, K2, K3 = Ks\n",
    "    if norm(K1+K2+K3) >= 1e-10:\n",
    "        raise('Qs must add up to zero')\n",
    "        \n",
    "    if not (abs(norm(K1)-norm(K2)) < 1e-5 \\\n",
    "        and abs(norm(K2)-norm(K3)) < 1e-5):\n",
    "        raise('Qs must have same length')\n",
    "    \n",
    "    s3 = s3wlc(pset, N, FA, Ks)\n",
    "    s2inv = s2inverse(pset, N, FA, norm(K1))\n",
    "    \n",
    "    val = 0\n",
    "    for I0, I1, I2 in product([0,1], repeat=3):\n",
    "        val -= s3[I0][I1][I2]* (s2inv[I0][0] - s2inv[I0][1])*\\\n",
    "                               (s2inv[I1][0] - s2inv[I1][1])*\\\n",
    "                               (s2inv[I2][0] - s2inv[I2][1])\n",
    "\n",
    "    return val*(N**2)"
   ]
  },
  {
   "cell_type": "markdown",
   "metadata": {},
   "source": [
    "## Quartic Vertex\n",
    "\n",
    "$$\n",
    "\\Gamma_{4}(\\vec{q}_1,\\vec{q}_2,\\vec{q}_3,\\vec{q}_4) =\n",
    "\\frac{1}{4!}\n",
    "\\sum_{\\alpha_{1} \\alpha_{2} \\alpha_{3} \\alpha_{3}} \n",
    "\\gamma_{\\alpha_{1} \\alpha_{2} \\alpha_{3} \\alpha_{3}}(\\vec{q}_1,\\vec{q}_2,\\vec{q}_3,\\vec{q}_4)\n",
    "\\left[ S_{\\alpha_1 A}^{(2)^{-1}}(\\vec{q}_1)-S_{\\alpha_1 B}^{(2)^{-1}}(\\vec{q}_1)  \\right] \\times \\nonumber \n",
    "$$\n",
    "$$\n",
    "\\left[ S_{\\alpha_2 A}^{(2)^{-1}}(\\vec{q}_2)-S_{\\alpha_2 B}^{(2)^{-1}}(\\vec{q}_2)  \\right]\n",
    "\\left[ S_{\\alpha_3 A}^{(2)^{-1}}(\\vec{q}_3)-S_{\\alpha_3 B}^{(2)^{-1}}(\\vec{q}_3)  \\right]\n",
    "\\left[ S_{\\alpha_4 A}^{(2)^{-1}}(\\vec{q}_4)-S_{\\alpha_4 B}^{(2)^{-1}}(\\vec{q}_4)  \\right],\n",
    "$$\n",
    "\n",
    "where\n",
    "$$\n",
    "\\gamma_{\\alpha_{1} \\alpha_{2} \\alpha_{3} \\alpha_{3}}(\\vec{q}_1,\\vec{q}_2,\\vec{q}_3,\\vec{q}_4)\n",
    "=\n",
    "\\sum_{\\beta \\gamma} \\left[\n",
    "S^{(3)}_{\\alpha_{1} \\alpha_{2} \\alpha} (\\vec{q}_1, \\vec{q}_2, \\vec{q}_3)\n",
    "S_{\\beta \\gamma}^{(2)^{-1}}(\\vec{q}_1+\\vec{q}_2)\n",
    "S^{(3)}_{\\alpha_{3} \\alpha_{4} \\gamma}(\\vec{q}_2, \n",
    "\\vec{q}_3, \\vec{q}_4) \\right. \\nonumber \n",
    "$$\n",
    "\n",
    "$$\n",
    "+ S^{(3)}_{\\alpha_{1} \\alpha_{2} \\alpha} (\\vec{q}_1, \\vec{q}_3, \\vec{q}_4)\n",
    "S_{\\beta \\gamma}^{(2)^{-1}}(\\vec{q}_1+\\vec{q}_3)\n",
    "S^{(3)}_{\\alpha_{3} \\alpha_{4} \\gamma}(\\vec{q}_3, \n",
    "\\vec{q}_4, \\vec{q}_2) \\nonumber \n",
    "$$\n",
    "\n",
    "$$\n",
    "+ S^{(3)}_{\\alpha_{1} \\alpha_{2} \\alpha} (\\vec{q}_2, \\vec{q}_3, \\vec{q}_4)\n",
    "S_{\\beta \\gamma}^{(2)^{-1}}(\\vec{q}_2+\\vec{q}_3)\n",
    "S^{(3)}_{\\alpha_{3} \\alpha_{4} \\gamma}(\\vec{q}_3, \n",
    "\\left. \\vec{q}_4, \\vec{q}_1) \\right]\n",
    "- S^{(4)}_{\\alpha_{1} \\alpha_{2} \\alpha_{3} \\alpha_{3}}(\\vec{q}_1,\\vec{q}_2,\\vec{q}_3,\\vec{q}_4)\n",
    "$$"
   ]
  },
  {
   "cell_type": "code",
   "execution_count": null,
   "metadata": {
    "collapsed": true
   },
   "outputs": [],
   "source": [
    "def gamma4(pset, wigset, N, FA, Ks):\n",
    "    K1, K2, K3, K4 = Ks\n",
    "    if not (abs(norm(K1)-norm(K2)) < 1e-5\n",
    "            and abs(norm(K2)-norm(K3)) < 1e-5\n",
    "            and abs(norm(K3)-norm(K4)) < 1e-5):\n",
    "        print(K1, K2, K3, K4)\n",
    "        raise('Qs must have same length')\n",
    "    \n",
    "    K = norm(K1)\n",
    "    K12 = norm(K1+K2)\n",
    "    K13 = norm(K1+K3)\n",
    "    K14 = norm(K1+K4)\n",
    "    \n",
    "    s4 = s4wlc(pset, wigset, N, FA, Ks)\n",
    "    s31 = s3wlc(pset, N, FA, [K1, K2, -K1-K2])\n",
    "    s32 = s3wlc(pset, N, FA, [K1, K3, -K1-K3])\n",
    "    s33 = s3wlc(pset, N, FA, [K1, K4, -K1-K4])\n",
    "\n",
    "    s2inv = s2inverse(pset, N, FA, K)\n",
    "    s21inv = s2inverse(pset, N, FA, K12)\n",
    "    s22inv = s2inverse(pset, N, FA, K13)\n",
    "    s23inv = s2inverse(pset, N, FA, K14)\n",
    "\n",
    "    G4 = np.zeros((2,2,2,2),dtype=type(1+1j))\n",
    "    for a1, a2, a3, a4 in product([0,1], repeat=4):\n",
    "        for I0, I1 in product([0,1], repeat=2):\n",
    "            G4[a1][a2][a3][a4] += \\\n",
    "                s31[a1][a2][I0]*s31[a3][a4][I1]*s21inv[I0][I1] + \\\n",
    "                s32[a1][a4][I0]*s32[a2][a3][I1]*s22inv[I0][I1] + \\\n",
    "                s33[a1][a3][I0]*s33[a2][a4][I1]*s23inv[I0][I1]\n",
    "    G4 -= s4\n",
    "    \n",
    "    val = 0\n",
    "    for I0, I1, I2, I3 in product([0,1], repeat=4):\n",
    "        val += G4[I0][I1][I2][I3] *\\\n",
    "                (s2inv[I0][0] - s2inv[I0][1])*\\\n",
    "                (s2inv[I1][0] - s2inv[I1][1])*\\\n",
    "                (s2inv[I2][0] - s2inv[I2][1])*\\\n",
    "                (s2inv[I3][0] - s2inv[I3][1])\n",
    "                \n",
    "    return val*(N**3)"
   ]
  },
  {
   "cell_type": "markdown",
   "metadata": {},
   "source": [
    "## Quadratic vertex for copolymer solutions"
   ]
  },
  {
   "cell_type": "code",
   "execution_count": null,
   "metadata": {
    "collapsed": true
   },
   "outputs": [],
   "source": [
    "def gamma2sol(pset, N, FA, PHIP, K, CHIAB, CHIAS, CHIBS):    \n",
    "    CHIMAT = np.zeros((2, 2))\n",
    "    CHIMAT[0][0] = CHIAS\n",
    "    CHIMAT[0][1] = 0.5*(-CHIAB+CHIAS+CHIBS)\n",
    "    CHIMAT[1][0] = CHIMAT[0][1]\n",
    "    CHIMAT[1][1] = CHIBS\n",
    "    s2inv = s2inverse(pset, N, FA, K)\n",
    "    \n",
    "    G = np.zeros((2, 2), dtype=type(1+1j))\n",
    "    for I0, I1 in product([0,1], repeat=2):\n",
    "        G[I0][I1] = -2*CHIMAT[I0][I1] + N*s2inv[I0][I1]/PHIP + 1/(1-PHIP)\n",
    "\n",
    "    # where A is the inverse matrix of Fredrickson-Leibler's 1989 solution paper\n",
    "    A = np.array([[PHIP, FA], [-PHIP, 1-FA]], dtype=type(1+1j))\n",
    "    return np.matmul(np.matmul(A.T, G), A)"
   ]
  },
  {
   "cell_type": "markdown",
   "metadata": {},
   "source": [
    "## Cubic vertex for copolymer solutions"
   ]
  },
  {
   "cell_type": "code",
   "execution_count": null,
   "metadata": {
    "collapsed": true
   },
   "outputs": [],
   "source": [
    "def Qsol(pset, N, FA, PHIP, K):\n",
    "    s2inv = s2inverse(pset, N, FA, norm(K))\n",
    "    \n",
    "    Q = np.zeros((2, 2), dtype = type(1+1j))\n",
    "    Q[0][0] = s2inv[0][0] - s2inv[0][1]\n",
    "    Q[0][1] = s2inv[1][0] - s2inv[1][1]\n",
    "    Q[1][0] = (1/PHIP)*(FA*s2inv[0][0] + (1-FA)*s2inv[0][1])\n",
    "    Q[1][1] = (1/PHIP)*(FA*s2inv[0][1] + (1-FA)*s2inv[1][1])\n",
    "\n",
    "    return Q"
   ]
  },
  {
   "cell_type": "code",
   "execution_count": null,
   "metadata": {
    "collapsed": true
   },
   "outputs": [],
   "source": [
    "def gamma3sol(pset, N, FA, PHIP, Ks):\n",
    "    K1, K2, K3 = Ks\n",
    "    if norm(K1+K2+K3) >= 1e-10:\n",
    "        raise('Qs must add up to zero')\n",
    "\n",
    "    s3 = s3wlc(pset, N, FA, Ks)\n",
    "    Q1 = Qsol(pset, N, FA, PHIP, K1)\n",
    "    Q2 = Qsol(pset, N, FA, PHIP, K2)\n",
    "    Q3 = Qsol(pset, N, FA, PHIP, K3)\n",
    "    \n",
    "    G3 = np.zeros((2, 2, 2), dtype=type(1+1j))\n",
    "    for I0, I1, I2 in product([0,1], repeat=3):\n",
    "        for J0, J1, J2 in product([0,1], repeat=3):\n",
    "            G3[I0][I1][I2] -= PHIP* s3[J0][J1][J2]*\\\n",
    "                                    Q1[I0][J0]* Q2[I1][J1]* Q3[I2][J2]\n",
    "\n",
    "    return G3*(N**2)"
   ]
  },
  {
   "cell_type": "markdown",
   "metadata": {},
   "source": [
    "## Quartic vertex for copolymer solutions"
   ]
  },
  {
   "cell_type": "code",
   "execution_count": null,
   "metadata": {
    "collapsed": true
   },
   "outputs": [],
   "source": [
    "def gamma4sol(pset, wigset, N, FA, PHIP, Ks):\n",
    "    K1, K2, K3, K4 = Ks\n",
    "\n",
    "    K = norm(K1)\n",
    "    K12 = norm(K1+K2)\n",
    "    K13 = norm(K1+K3)\n",
    "    K14 = norm(K1+K4)\n",
    "    \n",
    "    s4 = s4wlc(pset, wigset, N, FA, Ks)\n",
    "    s31 = s3wlc(pset, N, FA, [K1, K2, -K1-K2])\n",
    "    s32 = s3wlc(pset, N, FA, [K1, K3, -K1-K3])\n",
    "    s33 = s3wlc(pset, N, FA, [K1, K4, -K1-K4])\n",
    "\n",
    "    s21inv = s2inverse(pset, N, FA, K12)\n",
    "    s22inv = s2inverse(pset, N, FA, K13)\n",
    "    s23inv = s2inverse(pset, N, FA, K14)\n",
    "    \n",
    "    Q1 = Qsol(pset, N, FA, PHIP, K1)\n",
    "    Q2 = Qsol(pset, N, FA, PHIP, K2)\n",
    "    Q3 = Qsol(pset, N, FA, PHIP, K3)\n",
    "    Q4 = Qsol(pset, N, FA, PHIP, K4)\n",
    "\n",
    "    G = np.zeros((2,2,2,2),dtype=type(1+1j))\n",
    "    for a1, a2, a3, a4 in product([0,1], repeat=4):\n",
    "        for I0, I1 in product([0,1], repeat=2):\n",
    "            G[a1][a2][a3][a4] += \\\n",
    "            s31[a1][a2][I0]*s31[a3][a4][I1]*s21inv[I0][I1] + \\\n",
    "            s32[a1][a4][I0]*s32[a2][a3][I1]*s22inv[I0][I1] + \\\n",
    "            s33[a1][a3][I0]*s33[a2][a4][I1]*s23inv[I0][I1]\n",
    "    G -= s4\n",
    "    \n",
    "    G4 = np.zeros((2, 2, 2, 2), dtype=type(1+1j))\n",
    "    for I0, I1, I2, I3 in product([0,1], repeat=4):\n",
    "        for J0, J1, J2, J3 in product([0,1], repeat=4):\n",
    "            G4[I0][I1][I2][I3] = PHIP* G[J0][J1][J2][J3]*\\\n",
    "                            Q1[I0][J0]*Q2[I1][J1]*Q3[I2][J2]*Q4[I3][J3]\n",
    "\n",
    "    return G4*(N**3)"
   ]
  }
 ],
 "metadata": {
  "anaconda-cloud": {},
  "kernelspec": {
   "display_name": "Python 3",
   "language": "python",
   "name": "python3"
  },
  "language_info": {
   "codemirror_mode": {
    "name": "ipython",
    "version": 3
   },
   "file_extension": ".py",
   "mimetype": "text/x-python",
   "name": "python",
   "nbconvert_exporter": "python",
   "pygments_lexer": "ipython3",
   "version": "3.6.5"
  },
  "latex_envs": {
   "LaTeX_envs_menu_present": true,
   "autocomplete": true,
   "bibliofile": "biblio.bib",
   "cite_by": "apalike",
   "current_citInitial": 1,
   "eqLabelWithNumbers": true,
   "eqNumInitial": 1,
   "hotkeys": {
    "equation": "Ctrl-E",
    "itemize": "Ctrl-I"
   },
   "labels_anchors": false,
   "latex_user_defs": false,
   "report_style_numbering": false,
   "user_envs_cfg": false
  },
  "toc": {
   "colors": {
    "hover_highlight": "#DAA520",
    "running_highlight": "#FF0000",
    "selected_highlight": "#FFD700"
   },
   "moveMenuLeft": true,
   "nav_menu": {
    "height": "173px",
    "width": "252px"
   },
   "navigate_menu": true,
   "number_sections": true,
   "sideBar": true,
   "threshold": 4,
   "toc_cell": false,
   "toc_section_display": "block",
   "toc_window_display": false,
   "widenNotebook": false
  }
 },
 "nbformat": 4,
 "nbformat_minor": 2
}
