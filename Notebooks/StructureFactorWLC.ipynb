{
 "cells": [
  {
   "cell_type": "code",
   "execution_count": 10,
   "metadata": {},
   "outputs": [],
   "source": [
    "import numpy as np\n",
    "import MultiPoint.MultiPoint as mp\n",
    "import MultiPoint.propagator as propagator\n",
    "import matplotlib.pyplot as plt\n",
    "%matplotlib inline"
   ]
  },
  {
   "cell_type": "code",
   "execution_count": 11,
   "metadata": {},
   "outputs": [],
   "source": [
    "pset=propagator.prop_set(nlam=5)  # set up precalc"
   ]
  },
  {
   "cell_type": "code",
   "execution_count": 16,
   "metadata": {},
   "outputs": [
    {
     "data": {
      "text/plain": [
       "(1.2941765668760161+6.409494854920721e-31j)"
      ]
     },
     "execution_count": 16,
     "metadata": {},
     "output_type": "execute_result"
    }
   ],
   "source": [
    "N = 10 # Number of kuhn lengths\n",
    "lam0 = 0\n",
    "lam = 0\n",
    "FA = 1.0\n",
    "\n",
    "k_vec = np.array([12.34, 0.0, 0.0])  # Choose k vector\n",
    "vec_prop = pset.get_vec_prop(k_vec)  # get propagoator for that vector\n",
    "mu = 0 # m eigenvalue\n",
    "scaler_prop = p.prop(mu)\n",
    "mp.IAAswitch(N,FA,lam0,lam,scaler_prop)  # calculate structure factor ?"
   ]
  },
  {
   "cell_type": "code",
   "execution_count": 17,
   "metadata": {},
   "outputs": [],
   "source": [
    "ks = np.logspace(-2,2,100)"
   ]
  },
  {
   "cell_type": "code",
   "execution_count": 38,
   "metadata": {},
   "outputs": [
    {
     "name": "stdout",
     "output_type": "stream",
     "text": [
      "0.01\n",
      "0.010974987654930561\n",
      "0.012045035402587823\n",
      "0.013219411484660288\n",
      "0.014508287784959394\n",
      "0.015922827933410922\n",
      "0.01747528400007684\n",
      "0.019179102616724886\n",
      "0.02104904144512021\n",
      "0.023101297000831605\n",
      "0.025353644939701114\n",
      "0.027825594022071243\n",
      "0.030538555088334154\n",
      "0.033516026509388425\n",
      "0.03678379771828634\n",
      "0.040370172585965536\n",
      "0.044306214575838825\n",
      "0.04862601580065353\n",
      "0.0533669923120631\n",
      "0.05857020818056667\n",
      "0.06428073117284322\n",
      "0.07054802310718646\n",
      "0.0774263682681127\n",
      "0.08497534359086446\n",
      "0.093260334688322\n",
      "0.10235310218990264\n",
      "0.11233240329780277\n",
      "0.12328467394420665\n",
      "0.13530477745798075\n",
      "0.1484968262254465\n",
      "0.16297508346206444\n",
      "0.1788649529057435\n",
      "0.19630406500402714\n",
      "0.21544346900318845\n",
      "0.23644894126454083\n",
      "0.25950242113997374\n",
      "0.2848035868435802\n",
      "0.3125715849688237\n",
      "0.34304692863149194\n",
      "0.37649358067924693\n",
      "0.41320124001153385\n",
      "0.4534878508128584\n",
      "0.49770235643321115\n",
      "0.5462277217684343\n",
      "0.5994842503189411\n",
      "0.6579332246575682\n",
      "0.7220809018385468\n",
      "0.7924828983539177\n",
      "0.8697490026177834\n",
      "0.9545484566618342\n",
      "1.0476157527896652\n",
      "1.149756995397737\n",
      "1.261856883066021\n",
      "1.384886371393873\n",
      "1.5199110829529348\n",
      "1.6681005372000592\n",
      "1.8307382802953698\n",
      "2.0092330025650478\n",
      "2.2051307399030455\n",
      "2.4201282647943834\n",
      "2.656087782946687\n",
      "2.9150530628251787\n",
      "3.1992671377973845\n",
      "3.5111917342151346\n",
      "3.8535285937105312\n",
      "4.229242874389499\n",
      "4.641588833612782\n",
      "5.09413801481638\n",
      "5.590810182512229\n",
      "6.135907273413176\n",
      "6.7341506577508286\n",
      "7.390722033525782\n",
      "8.111308307896872\n",
      "8.902150854450392\n",
      "9.770099572992256\n",
      "10.722672220103243\n",
      "11.768119524349991\n",
      "12.91549665014884\n",
      "14.174741629268063\n",
      "15.556761439304722\n",
      "17.07352647470692\n",
      "18.73817422860385\n",
      "20.565123083486537\n",
      "22.570197196339215\n",
      "24.770763559917114\n",
      "27.185882427329428\n",
      "29.836472402833405\n",
      "32.745491628777316\n",
      "35.938136638046295\n",
      "39.4420605943766\n",
      "43.287612810830616\n",
      "47.50810162102798\n",
      "52.140082879996896\n",
      "57.223676593502205\n",
      "62.802914418342596\n",
      "68.92612104349702\n",
      "75.64633275546291\n",
      "83.02175681319753\n",
      "91.11627561154896\n",
      "100.0\n"
     ]
    }
   ],
   "source": [
    "out = []\n",
    "for k in ks:\n",
    "    print(k)\n",
    "    k_vec = np.array([k, 0.0, 0.0])  # Choose k vector\n",
    "    vec_prop = pset.get_vec_prop(k_vec)  # get propagoator for that vector\n",
    "    mu = 0 # m eigenvalue\n",
    "    scaler_prop = vec_prop.prop(mu)\n",
    "    value = mp.IAAswitch(N,FA,lam0,lam,scaler_prop)  # calculate structure factor ?\n",
    "    out.append(value)\n",
    "    \n",
    "out=np.real(np.array(out))\n",
    "out=out*2/(N**2)"
   ]
  },
  {
   "cell_type": "code",
   "execution_count": 47,
   "metadata": {},
   "outputs": [
    {
     "data": {
      "text/plain": [
       "Text(0.5,1,'WLC')"
      ]
     },
     "execution_count": 47,
     "metadata": {},
     "output_type": "execute_result"
    },
    {
     "data": {
      "image/png": "[encoded data removed]",
      "text/plain": [
       "<Figure size 432x288 with 1 Axes>"
      ]
     },
     "metadata": {},
     "output_type": "display_data"
    }
   ],
   "source": [
    "plt.loglog(ks,np.array(out))\n",
    "plt.xlabel('K in 1/l_k')\n",
    "plt.ylabel('Structure Factor')\n",
    "plt.title(\"WLC\")"
   ]
  },
  {
   "cell_type": "code",
   "execution_count": null,
   "metadata": {},
   "outputs": [],
   "source": []
  }
 ],
 "metadata": {
  "kernelspec": {
   "display_name": "Python 3",
   "language": "python",
   "name": "python3"
  },
  "language_info": {
   "codemirror_mode": {
    "name": "ipython",
    "version": 3
   },
   "file_extension": ".py",
   "mimetype": "text/x-python",
   "name": "python",
   "nbconvert_exporter": "python",
   "pygments_lexer": "ipython3",
   "version": "3.6.5"
  },
  "toc": {
   "colors": {
    "hover_highlight": "#DAA520",
    "running_highlight": "#FF0000",
    "selected_highlight": "#FFD700"
   },
   "moveMenuLeft": true,
   "nav_menu": {
    "height": "12px",
    "width": "252px"
   },
   "navigate_menu": true,
   "number_sections": true,
   "sideBar": true,
   "threshold": 4,
   "toc_cell": false,
   "toc_section_display": "block",
   "toc_window_display": false,
   "widenNotebook": false
  }
 },
 "nbformat": 4,
 "nbformat_minor": 2
}
