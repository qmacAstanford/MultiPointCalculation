{
 "cells": [
  {
   "cell_type": "code",
   "execution_count": 1,
   "metadata": {},
   "outputs": [],
   "source": [
    "import sys\n",
    "sys.path.append(\"./subroutines\")\n",
    "from MultiPoint.GAMcalc import *  # Code for calculating vertex functions\n",
    "import MultiPoint.propagator  # propagator object used to store pre-calculated values\n",
    "import MultiPoint.wignerD as wd # wigner D object used to store pre-calculated values"
   ]
  },
  {
   "cell_type": "markdown",
   "metadata": {},
   "source": [
    "## Sets of Ks"
   ]
  },
  {
   "cell_type": "markdown",
   "metadata": {},
   "source": [
    "The vertex functions have have $\\vec{q}$ vectors as inputs.  Here are some some example sets of input vectors.  Each has a magnitude $K$ but there are different ways of arranging them."
   ]
  },
  {
   "cell_type": "code",
   "execution_count": 2,
   "metadata": {},
   "outputs": [],
   "source": [
    "def set3Ks(K):\n",
    "    k1 = np.array([1,0,0])*K\n",
    "    k2 = np.array([-0.5,0.5*np.sqrt(3),0])*K\n",
    "    k3 = -k1-k2\n",
    "    return [k1, k2, k3]\n",
    "\n",
    "def set4Ks(K):\n",
    "    k1=np.array([1,0,0])*K\n",
    "    k2=np.array([-1,0,0])*K\n",
    "    k3, k4 = -k1, -k2\n",
    "    return [k1, k2, k3, k4]"
   ]
  },
  {
   "cell_type": "code",
   "execution_count": 3,
   "metadata": {},
   "outputs": [],
   "source": [
    "def set4Ks1(K):\n",
    "    k1=np.array([1,0,0])*K\n",
    "    k2=np.array([1,0,0])*K\n",
    "    k3, k4 = -k1, -k2\n",
    "    return [k1, k2, k3, k4]\n",
    "\n",
    "def set4Ks2(K):\n",
    "    k1=np.array([1,0,0])*K\n",
    "    k2=np.array([0.5,0.5*np.sqrt(3),0])*K\n",
    "    k3, k4 = -k1, -k2\n",
    "    return [k1, k2, k3, k4]\n",
    "\n",
    "def set4Ks3(K):\n",
    "    k1=np.array([1,0,0])*K\n",
    "    k2=np.array([0,1,0])*K\n",
    "    k3, k4 = -k1, -k2\n",
    "    return [k1, k2, k3, k4]\n",
    "\n",
    "def set4Ks4(K):\n",
    "    k1=np.array([-1,0,1])/np.sqrt(2)*K\n",
    "    k2=np.array([-1,0,-1])/np.sqrt(2)*K\n",
    "    k3=np.array([1,1,0])/np.sqrt(2)*K\n",
    "    k4=np.array([1,-1,0])/np.sqrt(2)*K\n",
    "    return [k1, k2, k3, k4]"
   ]
  },
  {
   "cell_type": "markdown",
   "metadata": {},
   "source": [
    "## Simple examples"
   ]
  },
  {
   "cell_type": "markdown",
   "metadata": {},
   "source": [
    "First, lets define the arguments of $\\Gamma$."
   ]
  },
  {
   "cell_type": "code",
   "execution_count": 4,
   "metadata": {},
   "outputs": [],
   "source": [
    "N = 10 # Number of Khun lengths\n",
    "FA = 0.5 # Fraction A type\n",
    "K = 10 # Magnitude of K vector\n",
    "CHI = 0 # Flory huggnes chi parameter\n",
    "\n",
    "pset=propagator.prop_set(nlam=10) # nlam sepcifies number of angular eigenvalues\n",
    "wigset = wd.wigner_d_vals()\n",
    "\n",
    "KS = spinodal(pset, N, FA)\n",
    "Ks3 = set3Ks(KS)\n",
    "Ks4 = set4Ks(KS)"
   ]
  },
  {
   "cell_type": "markdown",
   "metadata": {},
   "source": [
    "$$\\Gamma_2(\\vec{q})$$"
   ]
  },
  {
   "cell_type": "code",
   "execution_count": 5,
   "metadata": {},
   "outputs": [
    {
     "name": "stdout",
     "output_type": "stream",
     "text": [
      "(12.60483726867446+7.885442756885517e-22j)\n"
     ]
    }
   ],
   "source": [
    "print(gamma2(pset, N, FA, K, CHI))"
   ]
  },
  {
   "cell_type": "markdown",
   "metadata": {},
   "source": [
    "$$\\Gamma_3(\\vec{q}_1,\\vec{q}_2,\\vec{q}_3)$$"
   ]
  },
  {
   "cell_type": "code",
   "execution_count": 6,
   "metadata": {},
   "outputs": [
    {
     "name": "stdout",
     "output_type": "stream",
     "text": [
      "7.703719777548943e-32j\n"
     ]
    }
   ],
   "source": [
    "print(gamma3(pset, N, FA, Ks3))"
   ]
  },
  {
   "cell_type": "markdown",
   "metadata": {},
   "source": [
    "$$\\Gamma_3(\\vec{q}_1,\\vec{q}_2,\\vec{q}_3,\\vec{q}_4)$$"
   ]
  },
  {
   "cell_type": "code",
   "execution_count": 7,
   "metadata": {},
   "outputs": [
    {
     "name": "stdout",
     "output_type": "stream",
     "text": [
      "(14.896108188954166-1.1072126226662434e-13j)\n"
     ]
    }
   ],
   "source": [
    "print(gamma4(pset, wigset, N, FA, Ks4))\n",
    "# This may take a bit.  Presaved values will make it faster next time."
   ]
  },
  {
   "cell_type": "markdown",
   "metadata": {},
   "source": [
    "## Gamma2"
   ]
  },
  {
   "cell_type": "markdown",
   "metadata": {},
   "source": [
    "Now lets plot $\\Gamma_2$ over a range of $K$ magnitudes."
   ]
  },
  {
   "cell_type": "code",
   "execution_count": 8,
   "metadata": {},
   "outputs": [],
   "source": [
    "N=10\n",
    "FA=0.5\n",
    "CHI = 0\n",
    "\n",
    "pset=propagator.prop_set(nlam=1)\n",
    "KV = np.logspace(-1,3,100)\n",
    "gam2 = np.zeros((len(KV), 1),dtype=type(1+1j))\n",
    "for i, K in enumerate(KV):\n",
    "    gam2[i] = gamma2(pset, N, FA, K, CHI)"
   ]
  },
  {
   "cell_type": "code",
   "execution_count": 9,
   "metadata": {},
   "outputs": [
    {
     "data": {
      "image/png": "[encoded data removed]",
      "text/plain": [
       "<Figure size 432x288 with 1 Axes>"
      ]
     },
     "metadata": {},
     "output_type": "display_data"
    }
   ],
   "source": [
    "plt.loglog(KV, 1/gam2.real)\n",
    "plt.xlabel('K')\n",
    "plt.ylabel('1/\\Gamma')\n",
    "plt.show()"
   ]
  },
  {
   "cell_type": "code",
   "execution_count": 10,
   "metadata": {},
   "outputs": [],
   "source": [
    "# Now find spinodal"
   ]
  },
  {
   "cell_type": "code",
   "execution_count": 11,
   "metadata": {},
   "outputs": [],
   "source": [
    "FA = 0.5\n",
    "NV = np.logspace(-1, 4, 10)\n",
    "KSV = np.zeros((len(NV)))\n",
    "\n",
    "for ind, N in enumerate(NV):\n",
    "    KSV[ind] = spinodal(pset, N, FA)"
   ]
  },
  {
   "cell_type": "code",
   "execution_count": 12,
   "metadata": {},
   "outputs": [
    {
     "data": {
      "image/png": "[encoded data removed]",
      "text/plain": [
       "<Figure size 432x288 with 1 Axes>"
      ]
     },
     "metadata": {},
     "output_type": "display_data"
    }
   ],
   "source": [
    "plt.loglog(NV, 1/KSV)\n",
    "plt.xlabel('N')\n",
    "plt.ylabel('spinodal')\n",
    "plt.show()"
   ]
  },
  {
   "cell_type": "markdown",
   "metadata": {},
   "source": [
    "## Gamma3"
   ]
  },
  {
   "cell_type": "code",
   "execution_count": 13,
   "metadata": {
    "scrolled": true
   },
   "outputs": [],
   "source": [
    "FAV = np.linspace(.2, .5, 21)\n",
    "pset=propagator.prop_set(nlam=10)\n",
    "\n",
    "N = 1000\n",
    "GAM3N_N1000 = np.zeros((len(FAV)), dtype='complex')\n",
    "for ind, FA in enumerate(FAV):\n",
    "    Ks = set3Ks(spinodal(pset, N, FA))\n",
    "    GAM3N_N1000[ind] = gamma3(pset, N, FA, Ks)*N\n",
    "\n",
    "N = 100\n",
    "GAM3N_N100 = np.zeros((len(FAV)), dtype='complex')\n",
    "for ind, FA in enumerate(FAV):\n",
    "    Ks = set3Ks(spinodal(pset, N, FA))\n",
    "    GAM3N_N100[ind] = gamma3(pset, N, FA, Ks)*N\n",
    "    \n",
    "N = 1\n",
    "GAM3N_N1 = np.zeros((len(FAV)), dtype='complex')\n",
    "for ind, FA in enumerate(FAV):\n",
    "    Ks = set3Ks(spinodal(pset, N, FA))\n",
    "    GAM3N_N1[ind] = gamma3(pset, N, FA, Ks)*N"
   ]
  },
  {
   "cell_type": "code",
   "execution_count": 14,
   "metadata": {},
   "outputs": [
    {
     "data": {
      "image/png": "[encoded data removed]",
      "text/plain": [
       "<Figure size 432x288 with 1 Axes>"
      ]
     },
     "metadata": {},
     "output_type": "display_data"
    }
   ],
   "source": [
    "plt.plot(FAV, -GAM3N_N1000.real, label='N=1000')\n",
    "plt.plot(FAV, -GAM3N_N100.real, label='N=100')\n",
    "plt.plot(FAV, -GAM3N_N1.real, label='N=1')\n",
    "plt.xlabel('$f_A$')\n",
    "plt.ylabel('$-N\\Gamma_{3}(q^*)$')\n",
    "plt.legend(loc=1)\n",
    "plt.axis([.2,.5,0,200])\n",
    "plt.show()"
   ]
  },
  {
   "cell_type": "markdown",
   "metadata": {},
   "source": [
    "## Gamma4"
   ]
  },
  {
   "cell_type": "code",
   "execution_count": null,
   "metadata": {},
   "outputs": [],
   "source": [
    "FAV = np.linspace(.3, .5, 21)\n",
    "pset=propagator.prop_set(nlam=5)\n",
    "wigset = wd.wigner_d_vals()\n",
    "\n",
    "N = 1000\n",
    "GAM4N_N1000 = np.zeros((len(FAV)), dtype='complex')\n",
    "for ind, FA in enumerate(FAV):\n",
    "    Ks = set4Ks1(spinodal(pset, N, FA))\n",
    "    GAM4N_N1000[ind] = gamma4(pset, wigset, N, FA, Ks)*N\n",
    "\n",
    "N = 100\n",
    "GAM4N_N100 = np.zeros((len(FAV)), dtype='complex')\n",
    "for ind, FA in enumerate(FAV):\n",
    "    Ks = set4Ks1(spinodal(pset, N, FA))\n",
    "    GAM4N_N100[ind] = gamma4(pset, wigset, N, FA, Ks)*N\n",
    "\n",
    "    \n",
    "N = 10\n",
    "GAM4N_N10 = np.zeros((len(FAV)), dtype='complex')\n",
    "for ind, FA in enumerate(FAV):\n",
    "    Ks = set4Ks1(spinodal(pset, N, FA))\n",
    "    GAM4N_N10[ind] = gamma4(pset, wigset, N, FA, Ks)*N\n",
    "    \n",
    "N = 1\n",
    "GAM4N_N1 = np.zeros((len(FAV)), dtype='complex')\n",
    "for ind, FA in enumerate(FAV):\n",
    "    Ks = set4Ks1(spinodal(pset, N, FA))\n",
    "    GAM4N_N1[ind] = gamma4(pset, wigset, N, FA, Ks)*N"
   ]
  },
  {
   "cell_type": "code",
   "execution_count": null,
   "metadata": {},
   "outputs": [],
   "source": [
    "plt.plot(FAV, GAM4N_N1000.real, label='N=1000')\n",
    "plt.plot(FAV, GAM4N_N100.real, label='N=100')\n",
    "plt.plot(FAV, GAM4N_N10.real, label='N=10')\n",
    "plt.plot(FAV, GAM4N_N1.real, label='N=1')\n",
    "plt.axis([.3,.5,100,500])\n",
    "plt.box\n",
    "plt.legend(loc=1)\n",
    "plt.show()"
   ]
  },
  {
   "cell_type": "code",
   "execution_count": null,
   "metadata": {},
   "outputs": [],
   "source": []
  }
 ],
 "metadata": {
  "anaconda-cloud": {},
  "kernelspec": {
   "display_name": "Python 3",
   "language": "python",
   "name": "python3"
  },
  "language_info": {
   "codemirror_mode": {
    "name": "ipython",
    "version": 3
   },
   "file_extension": ".py",
   "mimetype": "text/x-python",
   "name": "python",
   "nbconvert_exporter": "python",
   "pygments_lexer": "ipython3",
   "version": "3.6.5"
  },
  "latex_envs": {
   "LaTeX_envs_menu_present": true,
   "autocomplete": true,
   "bibliofile": "biblio.bib",
   "cite_by": "apalike",
   "current_citInitial": 1,
   "eqLabelWithNumbers": true,
   "eqNumInitial": 1,
   "hotkeys": {
    "equation": "Ctrl-E",
    "itemize": "Ctrl-I"
   },
   "labels_anchors": false,
   "latex_user_defs": false,
   "report_style_numbering": false,
   "user_envs_cfg": false
  },
  "toc": {
   "colors": {
    "hover_highlight": "#DAA520",
    "running_highlight": "#FF0000",
    "selected_highlight": "#FFD700"
   },
   "moveMenuLeft": true,
   "nav_menu": {
    "height": "142px",
    "width": "252px"
   },
   "navigate_menu": true,
   "number_sections": true,
   "sideBar": true,
   "threshold": 4,
   "toc_cell": false,
   "toc_section_display": "block",
   "toc_window_display": false,
   "widenNotebook": false
  }
 },
 "nbformat": 4,
 "nbformat_minor": 1
}
