{
 "cells": [
  {
   "cell_type": "code",
   "execution_count": null,
   "metadata": {},
   "outputs": [],
   "source": [
    "from itertools import permutations as perms\n",
    "import numpy as np\n",
    "import MultiPoint as mp\n",
    "import MultiPoint.propagator "
   ]
  },
  {
   "cell_type": "code",
   "execution_count": null,
   "metadata": {},
   "outputs": [],
   "source": [
    "%matplotlib inline\n",
    "import mpld3\n",
    "import matplotlib.pyplot as plt\n",
    "mpld3.enable_notebook()"
   ]
  },
  {
   "cell_type": "code",
   "execution_count": null,
   "metadata": {},
   "outputs": [],
   "source": [
    "# for plotting scaling law\n",
    "def plotlog(x, y, alpha, xrange=1, numx=2):\n",
    "    xv = np.logspace(np.log10(x), np.log10(x) + xrange, numx)\n",
    "    C = y / (x**alpha)\n",
    "    yv = C * xv**(alpha)\n",
    "    plt.loglog(xv, yv,'k--')"
   ]
  },
  {
   "cell_type": "code",
   "execution_count": null,
   "metadata": {},
   "outputs": [],
   "source": [
    "class phi_tilde:    \n",
    "    def __init__(self,k,alpha=0,l=0,m=0):\n",
    "        self.k=k\n",
    "        self.alpha=alpha\n",
    "        self.l=l\n",
    "        self.m=m"
   ]
  },
  {
   "cell_type": "code",
   "execution_count": null,
   "metadata": {},
   "outputs": [],
   "source": [
    "def I2N(N, fa, p1, sequence):\n",
    "    lam0=0\n",
    "    lam=0\n",
    "    \n",
    "    if sequence == (0,0): # AA\n",
    "        value = mp.IAAresum(N,fa,lam0,lam,p1)\n",
    "    elif sequence ==(0,1): # AB\n",
    "        value = mp.IABresum(N,fa,lam0,lam,p1)\n",
    "    elif sequence == (1,1): # BB\n",
    "        value = mp.IAAresum(N,1-fa,lam0,lam,p1)\n",
    "    else:\n",
    "        value=0.0\n",
    "    return value\n",
    "\n",
    "def twoPointCorr(pset,N,fa,phi1,phi2):\n",
    "    val = 0.0+0.0j\n",
    "    for ordered in perms([phi1,phi2]):\n",
    "        q1=-ordered[0].k\n",
    "\n",
    "        # chemical sequence, A is 1\n",
    "        sequence = (ordered[0].alpha,ordered[1].alpha)\n",
    "\n",
    "        # Calculate or look up eigenstuff\n",
    "        p = pset.get_vec_prop(q1)\n",
    "        val += I2N(N, fa, p.prop(0), sequence)\n",
    "    return val\n",
    "                \n",
    "def s2wlc(pset, N, fa, K):\n",
    "    s2 = np.zeros((2,2),dtype=type(1+1j))\n",
    "    k1=np.array([0,0,1])*K\n",
    "    k2=-k1\n",
    "\n",
    "    for a1 in [0,1]:\n",
    "        for a2 in [0,1]:\n",
    "            phi1 = phi_tilde(k1,alpha=a1)\n",
    "            phi2 = phi_tilde(k2,alpha=a2)\n",
    "            s2[a1][a2] = twoPointCorr(pset, N, fa, phi1, phi2)\n",
    "    return s2"
   ]
  },
  {
   "cell_type": "code",
   "execution_count": null,
   "metadata": {},
   "outputs": [],
   "source": [
    "N=10\n",
    "fa=0.5\n",
    "\n",
    "nlam=4\n",
    "pset=propagator.prop_set(nlam=nlam)\n",
    "\n",
    "# K = 10\n",
    "# s2wlc(pset, N, fa, K)\n",
    "\n",
    "KV = np.logspace(-1,3,10)\n",
    "s2 = np.zeros((2,2,len(KV)),dtype=type(1+1j))\n",
    "for ind, K in enumerate(KV):\n",
    "    s2[:,:,ind] = s2wlc(pset, N, fa, K)/(N**2)"
   ]
  },
  {
   "cell_type": "code",
   "execution_count": null,
   "metadata": {},
   "outputs": [],
   "source": [
    "plt.loglog(KV, np.sum(np.vstack([s2[0,0,:], s2[0,1,:], \\\n",
    "                                 s2[1,0,:], s2[1,1,:]]).real, axis=0))\n",
    "plotlog(1e1,1e-1,-1)\n",
    "plt.show()"
   ]
  },
  {
   "cell_type": "markdown",
   "metadata": {},
   "source": [
    "## Four point correlations"
   ]
  },
  {
   "cell_type": "markdown",
   "metadata": {},
   "source": [
    "\\begin{align*}\n",
    "\\underset{\\alpha_{1}\\alpha_{2}\\alpha_{3}\\alpha_{4}}{I_{1,2,3}^{\\left(4\\right)}\\left(N\\right)}= & \\int_{0}^{N}ds_{3}\\int_{0}^{s_{4}}ds_{2}\\int_{0}^{s_{3}}ds_{1}\\int_{0}^{s_{1}}ds_{0}\\delta_{\\alpha\\left(s_{1}\\right),\\alpha_{1}}\\delta_{\\alpha\\left(s_{2}\\right),\\alpha_{2}}\\delta_{\\alpha\\left(s_{3}\\right),\\alpha_{3}}\\delta_{\\alpha\\left(s_{4}\\right),\\alpha_{4}}\\\\\n",
    " & \\cdot\\mathcal{G}_{\\lambda0_{1}\\lambda_{1}}^{\\mu_{1}}\\left(s_{4}-s_{3},K_{1}\\right)\\mathcal{G}_{\\lambda0_{2}\\lambda_{2}}^{\\mu_{2}}\\left(s_{3}-s_{2},K_{2}\\right)\\mathcal{G}_{\\lambda0_{3}\\lambda_{3}}^{\\mu_{3}}\\left(s_{2}-s_{1},K_{2}\\right)\n",
    "\\end{align*}"
   ]
  },
  {
   "cell_type": "code",
   "execution_count": null,
   "metadata": {},
   "outputs": [],
   "source": [
    "def I4N(N,fa,lam0_1,lam_1,mu1,\\\n",
    "           lam0_2,lam_2,mu2,\\\n",
    "           lam0_3,lam_3,mu3,\\\n",
    "           p1,p2,p3,\\\n",
    "           sequence):\n",
    "    if sequence == (0,0,0,0): # AAAA\n",
    "        value = mp.IAAAAresum(N,fa,lam0_1,lam_1,\\\n",
    "                                   lam0_2,lam_2,\\\n",
    "                                   lam0_3,lam_3,\\\n",
    "                                   p1.prop(mu1),\\\n",
    "                                   p2.prop(mu2),\\\n",
    "                                   p3.prop(mu3))\n",
    "    elif sequence == (0,0,0,1): # AAAB\n",
    "        value = mp.IAAABresum(N,fa,lam0_1,lam_1,\\\n",
    "                                   lam0_2,lam_2,\\\n",
    "                                   lam0_3,lam_3,\\\n",
    "                                   p1.prop(mu1),\\\n",
    "                                   p2.prop(mu2),\\\n",
    "                                   p3.prop(mu3))   \n",
    "    elif sequence == (0,0,1,1): # AABB\n",
    "        value = mp.IAABBresum(N,fa,lam0_1,lam_1,\\\n",
    "                                   lam0_2,lam_2,\\\n",
    "                                   lam0_3,lam_3,\\\n",
    "                                   p1.prop(mu1),\\\n",
    "                                   p2.prop(mu2),\\\n",
    "                                   p3.prop(mu3))\n",
    "    elif sequence == (0,1,1,1): # ABBB\n",
    "        fb=1.0-fa\n",
    "        # Same as AAAB except fb instead of fa\n",
    "        value = mp.IAAABresum(N,fb,lam0_1,lam_1,\\\n",
    "                                   lam0_2,lam_2,\\\n",
    "                                   lam0_3,lam_3,\\\n",
    "                                   p1.prop(mu1),\\\n",
    "                                   p2.prop(mu2),\\\n",
    "                                   p3.prop(mu3))\n",
    "    elif sequence == (1,1,1,1): # BBBB\n",
    "        fb=1.0-fa\n",
    "        # Same as AAAA except fb instead of fa\n",
    "        value = mp.IAAAAresum(N,fb,lam0_1,lam_1,\\\n",
    "                                   lam0_2,lam_2,\\\n",
    "                                   lam0_3,lam_3,\\\n",
    "                                   p1.prop(mu1),\\\n",
    "                                   p2.prop(mu2),\\\n",
    "                                   p3.prop(mu3))\n",
    "    else:\n",
    "        value=0.0\n",
    "    return value\n"
   ]
  },
  {
   "cell_type": "markdown",
   "metadata": {},
   "source": [
    "\n",
    "\\textbf{fourPointCorr} calculates $\\int_0^N d^4s\\left\\langle \\tilde{\\psi}_{1}\\tilde{\\psi}_{2}\\tilde{\\psi}_{3}\\tilde{\\psi}_{3}\\right\\rangle $.\n",
    "The $\\psi$s are not orientation dependent. This will change when\n",
    "I introduce Maier-Saupe interaction.\n",
    "The average is over the unperturbed distribution of a single WLC that\n",
    "is N segments long with $f_{A}$ being of A type.\n",
    "Each $\\tilde{\\psi}$ has an associated chemical identity, $\\alpha$, and Fourier location, $\\vec{k}$.\n"
   ]
  },
  {
   "cell_type": "code",
   "execution_count": null,
   "metadata": {},
   "outputs": [],
   "source": [
    "# Inputs\n",
    "#     pset (propagator.prop_set), the set of propagators used so far\n",
    "#     N (float), number of Khun lengths\n",
    "#     fa (float), fraction of type A\n",
    "#     prop1 (phi_tilde), contains k and alpha\n",
    "def fourPointCorr(pset,N,fa,phi1,phi2,phi3,phi4):\n",
    "    print('Warning: Winger D hasnt been implemented!')\n",
    "    nlam=pset.nlam\n",
    "    # The first and last lam must be zero \n",
    "    mu1=0 \n",
    "    mu3=0\n",
    "    lam0_1=0\n",
    "    lam_3=0\n",
    "    \n",
    "    total = 0.0+0.0j\n",
    "    # The Points can be visited in any order\n",
    "    for ordered in perms([phi1,phi2,phi3,phi4]):\n",
    "        # while phi1.k is the absolute Fourier position\n",
    "        # q1 is the relitive Fourier position of 1 and 2\n",
    "        q1=-ordered[0].k\n",
    "        q2=-ordered[0].k-ordered[1].k\n",
    "        q3=-ordered[0].k-ordered[1].k-ordered[2].k\n",
    "\n",
    "        # chemical sequence, A is 1\n",
    "        sequence = (ordered[0].alpha,ordered[1].alpha,\\\n",
    "                    ordered[2].alpha,ordered[3].alpha)\n",
    "        \n",
    "        # Calculate or look up eigenstuff\n",
    "        p1 = pset.get_vec_prop(q1)\n",
    "        p2 = pset.get_vec_prop(q2)\n",
    "        p3 = pset.get_vec_prop(q3)\n",
    "\n",
    "        # Angular sum\n",
    "        for lam_1 in range(0,nlam):\n",
    "            for lam_2 in range(0,nlam):\n",
    "                for mu2 in range(-min(lam_2,lam_1),\\\n",
    "                                 min(lam_2,lam_1)+1): \n",
    "                    lam0_2=lam_1\n",
    "                    lam0_3=lam_2\n",
    "                    \n",
    "                    value=I4N(N,fa,lam0_1,lam_1,mu1,\\\n",
    "                               lam0_2,lam_2,mu2,\\\n",
    "                               lam0_3,lam_3,mu3,\\\n",
    "                               p1,p2,p3,\\\n",
    "                               sequence) \n",
    "                        \n",
    "                    # Wigner D goes here!\n",
    "                    \n",
    "                    total = total + value\n",
    "    return total"
   ]
  },
  {
   "cell_type": "code",
   "execution_count": null,
   "metadata": {},
   "outputs": [],
   "source": [
    "# Calculate a save all alpha combinations\n",
    "def s4wlc(pset, N, fa, k):\n",
    "    s4 = np.zeros((2,2,2,2),dtype=type(1+1j))\n",
    "    k1, k2, k3, k4 = k\n",
    "\n",
    "    for a1 in [0,1]:\n",
    "        for a2 in [0,1]:\n",
    "            for a3 in [0,1]:\n",
    "                for a4 in [0,1]:                    \n",
    "                    phi1 = phi_tilde(k1,alpha=a1)\n",
    "                    phi2 = phi_tilde(k2,alpha=a2)\n",
    "                    phi3 = phi_tilde(k3,alpha=a3)\n",
    "                    phi4 = phi_tilde(k4,alpha=a4)\n",
    "\n",
    "                    s4[a1][a2][a3][a4] = fourPointCorr(pset, N, fa, \\\n",
    "                                                       phi1, phi2, phi3, phi4)\n",
    "    return s4"
   ]
  },
  {
   "cell_type": "code",
   "execution_count": null,
   "metadata": {},
   "outputs": [],
   "source": [
    "# A particular geometry\n",
    "def setKs(K):\n",
    "    k1=np.array([0,0,1])*K\n",
    "    k2=np.array([0,0,1])*K\n",
    "    k3=-k2\n",
    "    k4=-k3\n",
    "\n",
    "    k = [k1, k2, k3, k4]\n",
    "    return k"
   ]
  },
  {
   "cell_type": "code",
   "execution_count": null,
   "metadata": {},
   "outputs": [],
   "source": [
    "N=1\n",
    "fa=0.345890\n",
    "\n",
    "\n",
    "nlam=3\n",
    "pset=propagator.prop_set(nlam=nlam)\n",
    "\n",
    "# K = 10.0\n",
    "# k = setKs(K)\n",
    "# s4wlc(pset, N, fa, k)\n",
    "\n",
    "KV = np.logspace(-1,3,10)\n",
    "s4 = np.zeros((2,2,2,2,len(KV)),dtype=type(1+1j))\n",
    "for ind, K in enumerate(KV):\n",
    "    k = setKs(K)\n",
    "    s4[:,:,:,:,ind] = s4wlc(pset, N, fa, k)/(N**4)"
   ]
  },
  {
   "cell_type": "code",
   "execution_count": null,
   "metadata": {},
   "outputs": [],
   "source": [
    "# Calculate just AAAA over K\n",
    "N=10\n",
    "fa=0.345890\n",
    "nlam=3\n",
    "pset=propagator.prop_set(nlam=nlam)\n",
    "npts=20\n",
    "KV = np.logspace(-2,4,npts)\n",
    "SAAAA=np.zeros(npts,dtype='complex')\n",
    "for ind, K in enumerate(KV):\n",
    "    k = setKs(K)\n",
    "    phi1 = phi_tilde(k[0],alpha=0)\n",
    "    phi2 = phi_tilde(k[1],alpha=0)\n",
    "    phi3 = phi_tilde(k[2],alpha=0)\n",
    "    phi4 = phi_tilde(k[3],alpha=0)\n",
    "\n",
    "    SAAAA[ind] = fourPointCorr(pset, N, fa, \\\n",
    "                                   phi1, phi2, phi3, phi4)\n",
    "print('Done')"
   ]
  },
  {
   "cell_type": "code",
   "execution_count": null,
   "metadata": {},
   "outputs": [],
   "source": [
    "plt.loglog(KV, SAAAA.real)\n",
    "plotlog(1e1, 5e-2, -2, xrange=2)\n",
    "plt.xlabel('K')\n",
    "plt.show()"
   ]
  },
  {
   "cell_type": "markdown",
   "metadata": {},
   "source": [
    "## Rigid rod limit structure factor\n",
    "\n",
    "Consider the special case that the four wavevectors form a straight line.\n",
    "\n",
    "The structure factor of a rigid rod after rotation average is\n",
    "\\begin{eqnarray}\n",
    "I_4 = \n",
    "\\int_{0}^{L} ds_1\n",
    "\\int_{0}^{L} ds_2\n",
    "\\int_{0}^{L} ds_3\n",
    "\\int_{0}^{L} ds_4\n",
    "\\frac{\\sin{kL(s_1 + s_2 - s_3 - s_4)}}\n",
    "{kL(s_1 + s_2 - s_3 - s_4)}\n",
    "\\end{eqnarray}"
   ]
  },
  {
   "cell_type": "code",
   "execution_count": null,
   "metadata": {},
   "outputs": [],
   "source": []
  }
 ],
 "metadata": {
  "anaconda-cloud": {},
  "kernelspec": {
   "display_name": "Python 3",
   "language": "python",
   "name": "python3"
  },
  "language_info": {
   "codemirror_mode": {
    "name": "ipython",
    "version": 3
   },
   "file_extension": ".py",
   "mimetype": "text/x-python",
   "name": "python",
   "nbconvert_exporter": "python",
   "pygments_lexer": "ipython3",
   "version": "3.6.5"
  },
  "latex_envs": {
   "LaTeX_envs_menu_present": true,
   "autocomplete": true,
   "bibliofile": "biblio.bib",
   "cite_by": "apalike",
   "current_citInitial": 1,
   "eqLabelWithNumbers": true,
   "eqNumInitial": 1,
   "hotkeys": {
    "equation": "Ctrl-E",
    "itemize": "Ctrl-I"
   },
   "labels_anchors": false,
   "latex_user_defs": false,
   "report_style_numbering": false,
   "user_envs_cfg": false
  },
  "toc": {
   "colors": {
    "hover_highlight": "#DAA520",
    "running_highlight": "#FF0000",
    "selected_highlight": "#FFD700"
   },
   "moveMenuLeft": true,
   "nav_menu": {
    "height": "12px",
    "width": "252px"
   },
   "navigate_menu": true,
   "number_sections": true,
   "sideBar": true,
   "threshold": 4,
   "toc_cell": false,
   "toc_section_display": "block",
   "toc_window_display": false,
   "widenNotebook": false
  }
 },
 "nbformat": 4,
 "nbformat_minor": 1
}
