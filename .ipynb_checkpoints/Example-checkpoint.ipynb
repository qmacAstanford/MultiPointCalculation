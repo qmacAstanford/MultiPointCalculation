{
 "cells": [
  {
   "cell_type": "code",
   "execution_count": 1,
   "metadata": {
    "collapsed": false
   },
   "outputs": [],
   "source": [
    "import MultiPoint as mp\n",
    "import propagator "
   ]
  },
  {
   "cell_type": "code",
   "execution_count": 2,
   "metadata": {
    "collapsed": false
   },
   "outputs": [
    {
     "name": "stdout",
     "output_type": "stream",
     "text": [
      "(10.8691662561-6.58487563664e-49j)\n"
     ]
    }
   ],
   "source": [
    "nlam=3  # how many lam values you want\n",
    "d=3\n",
    "mu=0\n",
    "nkpts=500\n",
    "K=1.2345\n",
    "\n",
    "name = 'the k=1.2345, mu=0 propagator'\n",
    "myprop = propagator.propagator(name,K,mu,nlam=nlam)\n",
    "# myprop is an object that includes things like eigenvalues and residues\n",
    "\n",
    "N=2.3456\n",
    "lam0=0\n",
    "lam=0\n",
    "fa=0.5\n",
    "\n",
    "# calculate the two point intigral (without the factor of 2)\n",
    "# this is a single perumation\n",
    "intigral = mp.IAAresum(N,fa,lam0,lam,myprop)\n",
    "print(intigral)"
   ]
  },
  {
   "cell_type": "markdown",
   "metadata": {},
   "source": [
    "$$\n",
    "Intigral=\\int_{0}^{Nf_A}\\int_{0}^{s_{2}}\\mathcal{G}_{\\lambda_{0}\\lambda}^{\\mu}\\left(N,K\\right)\n",
    "$$"
   ]
  },
  {
   "cell_type": "code",
   "execution_count": 3,
   "metadata": {
    "collapsed": false
   },
   "outputs": [
    {
     "name": "stdout",
     "output_type": "stream",
     "text": [
      "(1.46198219566e-54+5.42825337669j)\n"
     ]
    }
   ],
   "source": [
    "# now we can get another N, lam0, lam values\n",
    "N=3.456\n",
    "lam0=0\n",
    "lam=1\n",
    "intigral = mp.IAAresum(N,fa,lam0,lam,myprop)\n",
    "print(intigral)"
   ]
  }
 ],
 "metadata": {
  "kernelspec": {
   "display_name": "Python [conda root]",
   "language": "python",
   "name": "conda-root-py"
  },
  "language_info": {
   "codemirror_mode": {
    "name": "ipython",
    "version": 3
   },
   "file_extension": ".py",
   "mimetype": "text/x-python",
   "name": "python",
   "nbconvert_exporter": "python",
   "pygments_lexer": "ipython3",
   "version": "3.5.2"
  },
  "latex_envs": {
   "LaTeX_envs_menu_present": true,
   "autocomplete": true,
   "bibliofile": "biblio.bib",
   "cite_by": "apalike",
   "current_citInitial": 1,
   "eqLabelWithNumbers": true,
   "eqNumInitial": 1,
   "hotkeys": {
    "equation": "Ctrl-E",
    "itemize": "Ctrl-I"
   },
   "labels_anchors": false,
   "latex_user_defs": false,
   "report_style_numbering": false,
   "user_envs_cfg": false
  },
  "toc": {
   "colors": {
    "hover_highlight": "#DAA520",
    "running_highlight": "#FF0000",
    "selected_highlight": "#FFD700"
   },
   "moveMenuLeft": true,
   "nav_menu": {
    "height": "12px",
    "width": "252px"
   },
   "navigate_menu": true,
   "number_sections": true,
   "sideBar": true,
   "threshold": 4,
   "toc_cell": false,
   "toc_section_display": "block",
   "toc_window_display": false,
   "widenNotebook": false
  }
 },
 "nbformat": 4,
 "nbformat_minor": 1
}
