{
 "cells": [
  {
   "cell_type": "code",
   "execution_count": 1,
   "metadata": {
    "collapsed": false,
    "deletable": true,
    "editable": true
   },
   "outputs": [],
   "source": [
    "from itertools import permutations as perms\n",
    "import numpy as np\n",
    "import MultiPoint as mp\n",
    "import propagator "
   ]
  },
  {
   "cell_type": "code",
   "execution_count": 2,
   "metadata": {
    "collapsed": false,
    "deletable": true,
    "editable": true
   },
   "outputs": [],
   "source": [
    "%matplotlib inline\n",
    "import mpld3\n",
    "import matplotlib.pyplot as plt\n",
    "mpld3.enable_notebook()"
   ]
  },
  {
   "cell_type": "code",
   "execution_count": 3,
   "metadata": {
    "collapsed": false,
    "deletable": true,
    "editable": true
   },
   "outputs": [],
   "source": [
    "# for plotting scaling law\n",
    "def plotlog(x, y, alpha, xrange=1, numx=2):\n",
    "    xv = np.logspace(np.log10(x), np.log10(x) + xrange, numx)\n",
    "    C = y / (x**alpha)\n",
    "    yv = C * xv**(alpha)\n",
    "    plt.loglog(xv, yv,'k--')"
   ]
  },
  {
   "cell_type": "code",
   "execution_count": 4,
   "metadata": {
    "collapsed": false,
    "deletable": true,
    "editable": true
   },
   "outputs": [],
   "source": [
    "class phi_tilde:    \n",
    "    def __init__(self,k,alpha=0,l=0,m=0):\n",
    "        self.k=k\n",
    "        self.alpha=alpha\n",
    "        self.l=l\n",
    "        self.m=m"
   ]
  },
  {
   "cell_type": "code",
   "execution_count": 5,
   "metadata": {
    "collapsed": false
   },
   "outputs": [],
   "source": [
    "def I2N(N, fa, p1, sequence):\n",
    "    lam0=0\n",
    "    lam=0\n",
    "    \n",
    "    if sequence == (0,0): # AA\n",
    "        value = mp.IAAresum(N,fa,lam0,lam,p1)\n",
    "    elif sequence ==(0,1): # AB\n",
    "        value = mp.IABresum(N,fa,lam0,lam,p1)\n",
    "    elif sequence == (1,1): # BB\n",
    "        value = mp.IAAresum(N,1-fa,lam0,lam,p1)\n",
    "    else:\n",
    "        value=0.0\n",
    "    return value\n",
    "\n",
    "def twoPointCorr(pset,N,fa,phi1,phi2):\n",
    "    val = 0.0+0.0j\n",
    "    for ordered in perms([phi1,phi2]):\n",
    "        q1=-ordered[0].k\n",
    "\n",
    "        # chemical sequence, A is 1\n",
    "        sequence = (ordered[0].alpha,ordered[1].alpha)\n",
    "\n",
    "        # Calculate or look up eigenstuff\n",
    "        p = pset.get_vec_prop(q1)\n",
    "        val += I2N(N, fa, p.prop(0), sequence)\n",
    "    return val\n",
    "                \n",
    "def s2wlc(pset, N, fa, K):\n",
    "    s2 = np.zeros((2,2),dtype=type(1+1j))\n",
    "    k1=np.array([0,0,1])*K\n",
    "    k2=-k1\n",
    "\n",
    "    for a1 in [0,1]:\n",
    "        for a2 in [0,1]:\n",
    "            phi1 = phi_tilde(k1,alpha=a1)\n",
    "            phi2 = phi_tilde(k2,alpha=a2)\n",
    "            s2[a1][a2] = twoPointCorr(pset, N, fa, phi1, phi2)\n",
    "    return s2"
   ]
  },
  {
   "cell_type": "code",
   "execution_count": 6,
   "metadata": {
    "collapsed": false
   },
   "outputs": [],
   "source": [
    "N=10\n",
    "fa=0.5\n",
    "\n",
    "nlam=4\n",
    "pset=propagator.prop_set(nlam=nlam)\n",
    "\n",
    "# K = 10\n",
    "# s2wlc(pset, N, fa, K)\n",
    "\n",
    "KV = np.logspace(-1,3,10)\n",
    "s2 = np.zeros((2,2,len(KV)),dtype=type(1+1j))\n",
    "for ind, K in enumerate(KV):\n",
    "    s2[:,:,ind] = s2wlc(pset, N, fa, K)/(N**2)"
   ]
  },
  {
   "cell_type": "code",
   "execution_count": 7,
   "metadata": {
    "collapsed": false
   },
   "outputs": [
    {
     "data": {
      "image/png": "[encoded data removed]",
      "text/html": [
       "\n",
       "\n",
       "<style>\n",
       "\n",
       "</style>\n",
       "\n",
       "<div id=\"fig_el177151407008334951363679092548\"></div>\n",
       "<script>\n",
       "function mpld3_load_lib(url, callback){\n",
       "  var s = document.createElement('script');\n",
       "  s.src = url;\n",
       "  s.async = true;\n",
       "  s.onreadystatechange = s.onload = callback;\n",
       "  s.onerror = function(){console.warn(\"failed to load library \" + url);};\n",
       "  document.getElementsByTagName(\"head\")[0].appendChild(s);\n",
       "}\n",
       "\n",
       "if(typeof(mpld3) !== \"undefined\" && mpld3._mpld3IsLoaded){\n",
       "   // already loaded: just create the figure\n",
       "   !function(mpld3){\n",
       "       \n",
       "       mpld3.draw_figure(\"fig_el177151407008334951363679092548\", {\"data\": {\"data01\": [[0.1, 0.9952151476510336], [0.2782559402207124, 0.9637988862183556], [0.774263682681127, 0.7635232822859381], [2.1544346900318834, 0.25672034910668096], [5.994842503189409, 0.056828175238638555], [16.68100537200059, 0.019175498755349137], [46.41588833612777, 0.006820716724860767], [129.15496650148827, 0.002439213930659809], [359.38136638046257, 0.0008750442949863176], [1000.0, 0.0003142725983339925]], \"data02\": [[10.0, 0.1], [100.0, 0.01]]}, \"id\": \"el17715140700833495136\", \"height\": 288.0, \"axes\": [{\"axesbgalpha\": null, \"id\": \"el17715140700087897280\", \"xlim\": [0.1, 1000.0], \"xdomain\": [0.1, 1000.0], \"yscale\": \"log\", \"bbox\": [0.125, 0.125, 0.775, 0.775], \"texts\": [], \"images\": [], \"xscale\": \"log\", \"paths\": [], \"zoomable\": true, \"axes\": [{\"fontsize\": 10.0, \"nticks\": 7, \"position\": \"bottom\", \"scale\": \"log\", \"tickvalues\": null, \"grid\": {\"gridOn\": false}, \"visible\": true, \"tickformat\": null}, {\"fontsize\": 10.0, \"nticks\": 7, \"position\": \"left\", \"scale\": \"log\", \"tickvalues\": null, \"grid\": {\"gridOn\": false}, \"visible\": true, \"tickformat\": null}], \"ydomain\": [0.0001, 1.0], \"axesbg\": \"#FFFFFF\", \"ylim\": [0.0001, 1.0], \"sharey\": [], \"markers\": [], \"sharex\": [], \"collections\": [], \"lines\": [{\"data\": \"data01\", \"yindex\": 1, \"coordinates\": \"data\", \"dasharray\": \"none\", \"color\": \"#0000FF\", \"xindex\": 0, \"alpha\": 1, \"linewidth\": 1.0, \"drawstyle\": \"default\", \"id\": \"el17715140700087896048\", \"zorder\": 2}, {\"data\": \"data02\", \"yindex\": 1, \"coordinates\": \"data\", \"dasharray\": \"6,6\", \"color\": \"#000000\", \"xindex\": 0, \"alpha\": 1, \"linewidth\": 1.0, \"drawstyle\": \"default\", \"id\": \"el17715140700833496200\", \"zorder\": 2}]}], \"plugins\": [{\"type\": \"reset\"}, {\"button\": true, \"enabled\": false, \"type\": \"zoom\"}, {\"button\": true, \"enabled\": false, \"type\": \"boxzoom\"}], \"width\": 432.0});\n",
       "   }(mpld3);\n",
       "}else if(typeof define === \"function\" && define.amd){\n",
       "   // require.js is available: use it to load d3/mpld3\n",
       "   require.config({paths: {d3: \"https://mpld3.github.io/js/d3.v3.min\"}});\n",
       "   require([\"d3\"], function(d3){\n",
       "      window.d3 = d3;\n",
       "      mpld3_load_lib(\"https://mpld3.github.io/js/mpld3.v0.3.js\", function(){\n",
       "         \n",
       "         mpld3.draw_figure(\"fig_el177151407008334951363679092548\", {\"data\": {\"data01\": [[0.1, 0.9952151476510336], [0.2782559402207124, 0.9637988862183556], [0.774263682681127, 0.7635232822859381], [2.1544346900318834, 0.25672034910668096], [5.994842503189409, 0.056828175238638555], [16.68100537200059, 0.019175498755349137], [46.41588833612777, 0.006820716724860767], [129.15496650148827, 0.002439213930659809], [359.38136638046257, 0.0008750442949863176], [1000.0, 0.0003142725983339925]], \"data02\": [[10.0, 0.1], [100.0, 0.01]]}, \"id\": \"el17715140700833495136\", \"height\": 288.0, \"axes\": [{\"axesbgalpha\": null, \"id\": \"el17715140700087897280\", \"xlim\": [0.1, 1000.0], \"xdomain\": [0.1, 1000.0], \"yscale\": \"log\", \"bbox\": [0.125, 0.125, 0.775, 0.775], \"texts\": [], \"images\": [], \"xscale\": \"log\", \"paths\": [], \"zoomable\": true, \"axes\": [{\"fontsize\": 10.0, \"nticks\": 7, \"position\": \"bottom\", \"scale\": \"log\", \"tickvalues\": null, \"grid\": {\"gridOn\": false}, \"visible\": true, \"tickformat\": null}, {\"fontsize\": 10.0, \"nticks\": 7, \"position\": \"left\", \"scale\": \"log\", \"tickvalues\": null, \"grid\": {\"gridOn\": false}, \"visible\": true, \"tickformat\": null}], \"ydomain\": [0.0001, 1.0], \"axesbg\": \"#FFFFFF\", \"ylim\": [0.0001, 1.0], \"sharey\": [], \"markers\": [], \"sharex\": [], \"collections\": [], \"lines\": [{\"data\": \"data01\", \"yindex\": 1, \"coordinates\": \"data\", \"dasharray\": \"none\", \"color\": \"#0000FF\", \"xindex\": 0, \"alpha\": 1, \"linewidth\": 1.0, \"drawstyle\": \"default\", \"id\": \"el17715140700087896048\", \"zorder\": 2}, {\"data\": \"data02\", \"yindex\": 1, \"coordinates\": \"data\", \"dasharray\": \"6,6\", \"color\": \"#000000\", \"xindex\": 0, \"alpha\": 1, \"linewidth\": 1.0, \"drawstyle\": \"default\", \"id\": \"el17715140700833496200\", \"zorder\": 2}]}], \"plugins\": [{\"type\": \"reset\"}, {\"button\": true, \"enabled\": false, \"type\": \"zoom\"}, {\"button\": true, \"enabled\": false, \"type\": \"boxzoom\"}], \"width\": 432.0});\n",
       "      });\n",
       "    });\n",
       "}else{\n",
       "    // require.js not available: dynamically load d3 & mpld3\n",
       "    mpld3_load_lib(\"https://mpld3.github.io/js/d3.v3.min.js\", function(){\n",
       "         mpld3_load_lib(\"https://mpld3.github.io/js/mpld3.v0.3.js\", function(){\n",
       "                 \n",
       "                 mpld3.draw_figure(\"fig_el177151407008334951363679092548\", {\"data\": {\"data01\": [[0.1, 0.9952151476510336], [0.2782559402207124, 0.9637988862183556], [0.774263682681127, 0.7635232822859381], [2.1544346900318834, 0.25672034910668096], [5.994842503189409, 0.056828175238638555], [16.68100537200059, 0.019175498755349137], [46.41588833612777, 0.006820716724860767], [129.15496650148827, 0.002439213930659809], [359.38136638046257, 0.0008750442949863176], [1000.0, 0.0003142725983339925]], \"data02\": [[10.0, 0.1], [100.0, 0.01]]}, \"id\": \"el17715140700833495136\", \"height\": 288.0, \"axes\": [{\"axesbgalpha\": null, \"id\": \"el17715140700087897280\", \"xlim\": [0.1, 1000.0], \"xdomain\": [0.1, 1000.0], \"yscale\": \"log\", \"bbox\": [0.125, 0.125, 0.775, 0.775], \"texts\": [], \"images\": [], \"xscale\": \"log\", \"paths\": [], \"zoomable\": true, \"axes\": [{\"fontsize\": 10.0, \"nticks\": 7, \"position\": \"bottom\", \"scale\": \"log\", \"tickvalues\": null, \"grid\": {\"gridOn\": false}, \"visible\": true, \"tickformat\": null}, {\"fontsize\": 10.0, \"nticks\": 7, \"position\": \"left\", \"scale\": \"log\", \"tickvalues\": null, \"grid\": {\"gridOn\": false}, \"visible\": true, \"tickformat\": null}], \"ydomain\": [0.0001, 1.0], \"axesbg\": \"#FFFFFF\", \"ylim\": [0.0001, 1.0], \"sharey\": [], \"markers\": [], \"sharex\": [], \"collections\": [], \"lines\": [{\"data\": \"data01\", \"yindex\": 1, \"coordinates\": \"data\", \"dasharray\": \"none\", \"color\": \"#0000FF\", \"xindex\": 0, \"alpha\": 1, \"linewidth\": 1.0, \"drawstyle\": \"default\", \"id\": \"el17715140700087896048\", \"zorder\": 2}, {\"data\": \"data02\", \"yindex\": 1, \"coordinates\": \"data\", \"dasharray\": \"6,6\", \"color\": \"#000000\", \"xindex\": 0, \"alpha\": 1, \"linewidth\": 1.0, \"drawstyle\": \"default\", \"id\": \"el17715140700833496200\", \"zorder\": 2}]}], \"plugins\": [{\"type\": \"reset\"}, {\"button\": true, \"enabled\": false, \"type\": \"zoom\"}, {\"button\": true, \"enabled\": false, \"type\": \"boxzoom\"}], \"width\": 432.0});\n",
       "            })\n",
       "         });\n",
       "}\n",
       "</script>"
      ],
      "text/plain": [
       "<matplotlib.figure.Figure at 0x7ff777333860>"
      ]
     },
     "metadata": {},
     "output_type": "display_data"
    }
   ],
   "source": [
    "plt.loglog(KV, np.sum(np.vstack([s2[0,0,:], s2[0,1,:], \\\n",
    "                                 s2[1,0,:], s2[1,1,:]]).real, axis=0))\n",
    "plotlog(1e1,1e-1,-1)\n",
    "plt.show()"
   ]
  },
  {
   "cell_type": "markdown",
   "metadata": {},
   "source": [
    "## Four point correlations"
   ]
  },
  {
   "cell_type": "markdown",
   "metadata": {},
   "source": [
    "\\begin{align*}\n",
    "\\underset{\\alpha_{1}\\alpha_{2}\\alpha_{3}\\alpha_{4}}{I_{1,2,3}^{\\left(4\\right)}\\left(N\\right)}= & \\int_{0}^{N}ds_{3}\\int_{0}^{s_{4}}ds_{2}\\int_{0}^{s_{3}}ds_{1}\\int_{0}^{s_{1}}ds_{0}\\delta_{\\alpha\\left(s_{1}\\right),\\alpha_{1}}\\delta_{\\alpha\\left(s_{2}\\right),\\alpha_{2}}\\delta_{\\alpha\\left(s_{3}\\right),\\alpha_{3}}\\delta_{\\alpha\\left(s_{4}\\right),\\alpha_{4}}\\\\\n",
    " & \\cdot\\mathcal{G}_{\\lambda0_{1}\\lambda_{1}}^{\\mu_{1}}\\left(s_{4}-s_{3},K_{1}\\right)\\mathcal{G}_{\\lambda0_{2}\\lambda_{2}}^{\\mu_{2}}\\left(s_{3}-s_{2},K_{2}\\right)\\mathcal{G}_{\\lambda0_{3}\\lambda_{3}}^{\\mu_{3}}\\left(s_{2}-s_{1},K_{2}\\right)\n",
    "\\end{align*}"
   ]
  },
  {
   "cell_type": "code",
   "execution_count": 6,
   "metadata": {
    "collapsed": false,
    "deletable": true,
    "editable": true
   },
   "outputs": [],
   "source": [
    "def I4N(N,fa,lam0_1,lam_1,mu1,\\\n",
    "           lam0_2,lam_2,mu2,\\\n",
    "           lam0_3,lam_3,mu3,\\\n",
    "           p1,p2,p3,\\\n",
    "           sequence):\n",
    "    if sequence == (0,0,0,0): # AAAA\n",
    "        value = mp.IAAAAresum(N,fa,lam0_1,lam_1,\\\n",
    "                                   lam0_2,lam_2,\\\n",
    "                                   lam0_3,lam_3,\\\n",
    "                                   p1.prop(mu1),\\\n",
    "                                   p2.prop(mu2),\\\n",
    "                                   p3.prop(mu3))\n",
    "    elif sequence == (0,0,0,1): # AAAB\n",
    "        value = mp.IAAABresum(N,fa,lam0_1,lam_1,\\\n",
    "                                   lam0_2,lam_2,\\\n",
    "                                   lam0_3,lam_3,\\\n",
    "                                   p1.prop(mu1),\\\n",
    "                                   p2.prop(mu2),\\\n",
    "                                   p3.prop(mu3))   \n",
    "    elif sequence == (0,0,1,1): # AABB\n",
    "        value = mp.IAABBresum(N,fa,lam0_1,lam_1,\\\n",
    "                                   lam0_2,lam_2,\\\n",
    "                                   lam0_3,lam_3,\\\n",
    "                                   p1.prop(mu1),\\\n",
    "                                   p2.prop(mu2),\\\n",
    "                                   p3.prop(mu3))\n",
    "    elif sequence == (0,1,1,1): # ABBB\n",
    "        fb=1.0-fa\n",
    "        # Same as AAAB except fb instead of fa\n",
    "        value = mp.IAAABresum(N,fb,lam0_1,lam_1,\\\n",
    "                                   lam0_2,lam_2,\\\n",
    "                                   lam0_3,lam_3,\\\n",
    "                                   p1.prop(mu1),\\\n",
    "                                   p2.prop(mu2),\\\n",
    "                                   p3.prop(mu3))\n",
    "    elif sequence == (1,1,1,1): # BBBB\n",
    "        fb=1.0-fa\n",
    "        # Same as AAAA except fb instead of fa\n",
    "        value = mp.IAAAAresum(N,fb,lam0_1,lam_1,\\\n",
    "                                   lam0_2,lam_2,\\\n",
    "                                   lam0_3,lam_3,\\\n",
    "                                   p1.prop(mu1),\\\n",
    "                                   p2.prop(mu2),\\\n",
    "                                   p3.prop(mu3))\n",
    "    else:\n",
    "        value=0.0\n",
    "    return value\n"
   ]
  },
  {
   "cell_type": "markdown",
   "metadata": {
    "deletable": true,
    "editable": true
   },
   "source": [
    "\n",
    "\\textbf{fourPointCorr} calculates $\\int_0^N d^4s\\left\\langle \\tilde{\\psi}_{1}\\tilde{\\psi}_{2}\\tilde{\\psi}_{3}\\tilde{\\psi}_{3}\\right\\rangle $.\n",
    "The $\\psi$s are not orientation dependent. This will change when\n",
    "I introduce Maier-Saupe interaction.\n",
    "The average is over the unperturbed distribution of a single WLC that\n",
    "is N segments long with $f_{A}$ being of A type.\n",
    "Each $\\tilde{\\psi}$ has an associated chemical identity, $\\alpha$, and Fourier location, $\\vec{k}$.\n"
   ]
  },
  {
   "cell_type": "code",
   "execution_count": null,
   "metadata": {
    "collapsed": true
   },
   "outputs": [],
   "source": [
    "# Inputs\n",
    "#     pset (propagator.prop_set), the set of propagators used so far\n",
    "#     N (float), number of Khun lengths\n",
    "#     fa (float), fraction of type A\n",
    "#     prop1 (phi_tilde), contains k and alpha\n",
    "def fourPointCorr(pset,N,fa,phi1,phi2,phi3,phi4):\n",
    "    print('Warning: Winger D hasnt been implemented!')\n",
    "    nlam=pset.nlam\n",
    "    # The first and last lam must be zero \n",
    "    mu1=0 \n",
    "    mu3=0\n",
    "    lam0_1=0\n",
    "    lam_3=0\n",
    "    \n",
    "    total = 0.0+0.0j\n",
    "    # The Points can be visited in any order\n",
    "    for ordered in perms([phi1,phi2,phi3,phi4]):\n",
    "        # while phi1.k is the absolute Fourier position\n",
    "        # q1 is the relitive Fourier position of 1 and 2\n",
    "        q1=-ordered[0].k\n",
    "        q2=-ordered[0].k-ordered[1].k\n",
    "        q3=-ordered[0].k-ordered[1].k-ordered[2].k\n",
    "\n",
    "        # chemical sequence, A is 1\n",
    "        sequence = (ordered[0].alpha,ordered[1].alpha,\\\n",
    "                    ordered[2].alpha,ordered[3].alpha)\n",
    "        \n",
    "        # Calculate or look up eigenstuff\n",
    "        p1 = pset.get_vec_prop(q1)\n",
    "        p2 = pset.get_vec_prop(q2)\n",
    "        p3 = pset.get_vec_prop(q3)\n",
    "\n",
    "        # Angular sum\n",
    "        for lam_1 in range(0,nlam):\n",
    "            for lam_2 in range(0,nlam):\n",
    "                for mu2 in range(-min(lam_2,lam_1),\\\n",
    "                                 min(lam_2,lam_1)+1): \n",
    "                    lam0_2=lam_1\n",
    "                    lam0_3=lam_2\n",
    "                    \n",
    "                    value=I4N(N,fa,lam0_1,lam_1,mu1,\\\n",
    "                               lam0_2,lam_2,mu2,\\\n",
    "                               lam0_3,lam_3,mu3,\\\n",
    "                               p1,p2,p3,\\\n",
    "                               sequence) \n",
    "                        \n",
    "                    # Wigner D goes here!\n",
    "                    \n",
    "                    total = total + value\n",
    "    return total"
   ]
  },
  {
   "cell_type": "code",
   "execution_count": null,
   "metadata": {
    "collapsed": true
   },
   "outputs": [],
   "source": [
    "# Calculate a save all alpha combinations\n",
    "def s4wlc(pset, N, fa, k):\n",
    "    s4 = np.zeros((2,2,2,2),dtype=type(1+1j))\n",
    "    k1, k2, k3, k4 = k\n",
    "\n",
    "    for a1 in [0,1]:\n",
    "        for a2 in [0,1]:\n",
    "            for a3 in [0,1]:\n",
    "                for a4 in [0,1]:                    \n",
    "                    phi1 = phi_tilde(k1,alpha=a1)\n",
    "                    phi2 = phi_tilde(k2,alpha=a2)\n",
    "                    phi3 = phi_tilde(k3,alpha=a3)\n",
    "                    phi4 = phi_tilde(k4,alpha=a4)\n",
    "\n",
    "                    s4[a1][a2][a3][a4] = fourPointCorr(pset, N, fa, \\\n",
    "                                                       phi1, phi2, phi3, phi4)\n",
    "    return s4"
   ]
  },
  {
   "cell_type": "code",
   "execution_count": 7,
   "metadata": {
    "collapsed": true
   },
   "outputs": [],
   "source": [
    "# A particular geometry\n",
    "def setKs(K):\n",
    "    k1=np.array([0,0,1])*K\n",
    "    k2=np.array([0,0,1])*K\n",
    "    k3=-k2\n",
    "    k4=-k3\n",
    "\n",
    "    k = [k1, k2, k3, k4]\n",
    "    return k"
   ]
  },
  {
   "cell_type": "code",
   "execution_count": 8,
   "metadata": {
    "collapsed": false,
    "deletable": true,
    "editable": true
   },
   "outputs": [
    {
     "name": "stdout",
     "output_type": "stream",
     "text": [
      "Warning: Winger D hasnt been implemented!\n"
     ]
    },
    {
     "ename": "KeyboardInterrupt",
     "evalue": "Failed at nopython (nopython frontend)\n",
     "output_type": "error",
     "traceback": [
      "\u001b[0;31m---------------------------------------------------------------------------\u001b[0m",
      "\u001b[0;31mKeyboardInterrupt\u001b[0m                         Traceback (most recent call last)",
      "\u001b[0;32m<ipython-input-8-29e4154107cf>\u001b[0m in \u001b[0;36m<module>\u001b[0;34m()\u001b[0m\n\u001b[1;32m     22\u001b[0m \u001b[0;32mfor\u001b[0m \u001b[0mind\u001b[0m\u001b[0;34m,\u001b[0m \u001b[0mK\u001b[0m \u001b[0;32min\u001b[0m \u001b[0menumerate\u001b[0m\u001b[0;34m(\u001b[0m\u001b[0mKV\u001b[0m\u001b[0;34m)\u001b[0m\u001b[0;34m:\u001b[0m\u001b[0;34m\u001b[0m\u001b[0m\n\u001b[1;32m     23\u001b[0m     \u001b[0mk\u001b[0m \u001b[0;34m=\u001b[0m \u001b[0msetKs\u001b[0m\u001b[0;34m(\u001b[0m\u001b[0mK\u001b[0m\u001b[0;34m)\u001b[0m\u001b[0;34m\u001b[0m\u001b[0m\n\u001b[0;32m---> 24\u001b[0;31m     \u001b[0ms4\u001b[0m\u001b[0;34m[\u001b[0m\u001b[0;34m:\u001b[0m\u001b[0;34m,\u001b[0m\u001b[0;34m:\u001b[0m\u001b[0;34m,\u001b[0m\u001b[0;34m:\u001b[0m\u001b[0;34m,\u001b[0m\u001b[0;34m:\u001b[0m\u001b[0;34m,\u001b[0m\u001b[0mind\u001b[0m\u001b[0;34m]\u001b[0m \u001b[0;34m=\u001b[0m \u001b[0ms4wlc\u001b[0m\u001b[0;34m(\u001b[0m\u001b[0mpset\u001b[0m\u001b[0;34m,\u001b[0m \u001b[0mN\u001b[0m\u001b[0;34m,\u001b[0m \u001b[0mfa\u001b[0m\u001b[0;34m,\u001b[0m \u001b[0mk\u001b[0m\u001b[0;34m)\u001b[0m\u001b[0;34m/\u001b[0m\u001b[0;34m(\u001b[0m\u001b[0mN\u001b[0m\u001b[0;34m**\u001b[0m\u001b[0;36m4\u001b[0m\u001b[0;34m)\u001b[0m\u001b[0;34m\u001b[0m\u001b[0m\n\u001b[0m",
      "\u001b[0;32m<ipython-input-6-aa083d7322b3>\u001b[0m in \u001b[0;36ms4wlc\u001b[0;34m(pset, N, fa, k)\u001b[0m\n\u001b[1;32m     85\u001b[0m                     \u001b[0mphi4\u001b[0m \u001b[0;34m=\u001b[0m \u001b[0mphi_tilde\u001b[0m\u001b[0;34m(\u001b[0m\u001b[0mk4\u001b[0m\u001b[0;34m,\u001b[0m\u001b[0malpha\u001b[0m\u001b[0;34m=\u001b[0m\u001b[0ma4\u001b[0m\u001b[0;34m)\u001b[0m\u001b[0;34m\u001b[0m\u001b[0m\n\u001b[1;32m     86\u001b[0m \u001b[0;34m\u001b[0m\u001b[0m\n\u001b[0;32m---> 87\u001b[0;31m                     \u001b[0ms4\u001b[0m\u001b[0;34m[\u001b[0m\u001b[0ma1\u001b[0m\u001b[0;34m]\u001b[0m\u001b[0;34m[\u001b[0m\u001b[0ma2\u001b[0m\u001b[0;34m]\u001b[0m\u001b[0;34m[\u001b[0m\u001b[0ma3\u001b[0m\u001b[0;34m]\u001b[0m\u001b[0;34m[\u001b[0m\u001b[0ma4\u001b[0m\u001b[0;34m]\u001b[0m \u001b[0;34m=\u001b[0m \u001b[0mfourPointCorr\u001b[0m\u001b[0;34m(\u001b[0m\u001b[0mpset\u001b[0m\u001b[0;34m,\u001b[0m \u001b[0mN\u001b[0m\u001b[0;34m,\u001b[0m \u001b[0mfa\u001b[0m\u001b[0;34m,\u001b[0m                                                        \u001b[0mphi1\u001b[0m\u001b[0;34m,\u001b[0m \u001b[0mphi2\u001b[0m\u001b[0;34m,\u001b[0m \u001b[0mphi3\u001b[0m\u001b[0;34m,\u001b[0m \u001b[0mphi4\u001b[0m\u001b[0;34m)\u001b[0m\u001b[0;34m\u001b[0m\u001b[0m\n\u001b[0m\u001b[1;32m     88\u001b[0m     \u001b[0;32mreturn\u001b[0m \u001b[0ms4\u001b[0m\u001b[0;34m\u001b[0m\u001b[0m\n",
      "\u001b[0;32m<ipython-input-6-aa083d7322b3>\u001b[0m in \u001b[0;36mfourPointCorr\u001b[0;34m(pset, N, fa, phi1, phi2, phi3, phi4)\u001b[0m\n\u001b[1;32m     65\u001b[0m                     \u001b[0mlam0_3\u001b[0m\u001b[0;34m=\u001b[0m\u001b[0mlam_2\u001b[0m\u001b[0;34m\u001b[0m\u001b[0m\n\u001b[1;32m     66\u001b[0m \u001b[0;34m\u001b[0m\u001b[0m\n\u001b[0;32m---> 67\u001b[0;31m                     \u001b[0mvalue\u001b[0m\u001b[0;34m=\u001b[0m\u001b[0mI4N\u001b[0m\u001b[0;34m(\u001b[0m\u001b[0mN\u001b[0m\u001b[0;34m,\u001b[0m\u001b[0mfa\u001b[0m\u001b[0;34m,\u001b[0m\u001b[0mlam0_1\u001b[0m\u001b[0;34m,\u001b[0m\u001b[0mlam_1\u001b[0m\u001b[0;34m,\u001b[0m\u001b[0mmu1\u001b[0m\u001b[0;34m,\u001b[0m                               \u001b[0mlam0_2\u001b[0m\u001b[0;34m,\u001b[0m\u001b[0mlam_2\u001b[0m\u001b[0;34m,\u001b[0m\u001b[0mmu2\u001b[0m\u001b[0;34m,\u001b[0m                               \u001b[0mlam0_3\u001b[0m\u001b[0;34m,\u001b[0m\u001b[0mlam_3\u001b[0m\u001b[0;34m,\u001b[0m\u001b[0mmu3\u001b[0m\u001b[0;34m,\u001b[0m                               \u001b[0mp1\u001b[0m\u001b[0;34m,\u001b[0m\u001b[0mp2\u001b[0m\u001b[0;34m,\u001b[0m\u001b[0mp3\u001b[0m\u001b[0;34m,\u001b[0m                               \u001b[0msequence\u001b[0m\u001b[0;34m)\u001b[0m\u001b[0;34m\u001b[0m\u001b[0m\n\u001b[0m\u001b[1;32m     68\u001b[0m \u001b[0;34m\u001b[0m\u001b[0m\n\u001b[1;32m     69\u001b[0m                     \u001b[0;31m# Wigner D goes here!\u001b[0m\u001b[0;34m\u001b[0m\u001b[0;34m\u001b[0m\u001b[0m\n",
      "\u001b[0;32m<ipython-input-6-aa083d7322b3>\u001b[0m in \u001b[0;36mI4N\u001b[0;34m(N, fa, lam0_1, lam_1, mu1, lam0_2, lam_2, mu2, lam0_3, lam_3, mu3, p1, p2, p3, sequence)\u001b[0m\n\u001b[1;32m      1\u001b[0m \u001b[0;32mdef\u001b[0m \u001b[0mI4N\u001b[0m\u001b[0;34m(\u001b[0m\u001b[0mN\u001b[0m\u001b[0;34m,\u001b[0m\u001b[0mfa\u001b[0m\u001b[0;34m,\u001b[0m\u001b[0mlam0_1\u001b[0m\u001b[0;34m,\u001b[0m\u001b[0mlam_1\u001b[0m\u001b[0;34m,\u001b[0m\u001b[0mmu1\u001b[0m\u001b[0;34m,\u001b[0m           \u001b[0mlam0_2\u001b[0m\u001b[0;34m,\u001b[0m\u001b[0mlam_2\u001b[0m\u001b[0;34m,\u001b[0m\u001b[0mmu2\u001b[0m\u001b[0;34m,\u001b[0m           \u001b[0mlam0_3\u001b[0m\u001b[0;34m,\u001b[0m\u001b[0mlam_3\u001b[0m\u001b[0;34m,\u001b[0m\u001b[0mmu3\u001b[0m\u001b[0;34m,\u001b[0m           \u001b[0mp1\u001b[0m\u001b[0;34m,\u001b[0m\u001b[0mp2\u001b[0m\u001b[0;34m,\u001b[0m\u001b[0mp3\u001b[0m\u001b[0;34m,\u001b[0m           \u001b[0msequence\u001b[0m\u001b[0;34m)\u001b[0m\u001b[0;34m:\u001b[0m\u001b[0;34m\u001b[0m\u001b[0m\n\u001b[1;32m      2\u001b[0m     \u001b[0;32mif\u001b[0m \u001b[0msequence\u001b[0m \u001b[0;34m==\u001b[0m \u001b[0;34m(\u001b[0m\u001b[0;36m0\u001b[0m\u001b[0;34m,\u001b[0m\u001b[0;36m0\u001b[0m\u001b[0;34m,\u001b[0m\u001b[0;36m0\u001b[0m\u001b[0;34m,\u001b[0m\u001b[0;36m0\u001b[0m\u001b[0;34m)\u001b[0m\u001b[0;34m:\u001b[0m \u001b[0;31m# AAAA\u001b[0m\u001b[0;34m\u001b[0m\u001b[0m\n\u001b[0;32m----> 3\u001b[0;31m         \u001b[0mvalue\u001b[0m \u001b[0;34m=\u001b[0m \u001b[0mmp\u001b[0m\u001b[0;34m.\u001b[0m\u001b[0mIAAAAresum\u001b[0m\u001b[0;34m(\u001b[0m\u001b[0mN\u001b[0m\u001b[0;34m,\u001b[0m\u001b[0mfa\u001b[0m\u001b[0;34m,\u001b[0m\u001b[0mlam0_1\u001b[0m\u001b[0;34m,\u001b[0m\u001b[0mlam_1\u001b[0m\u001b[0;34m,\u001b[0m                                   \u001b[0mlam0_2\u001b[0m\u001b[0;34m,\u001b[0m\u001b[0mlam_2\u001b[0m\u001b[0;34m,\u001b[0m                                   \u001b[0mlam0_3\u001b[0m\u001b[0;34m,\u001b[0m\u001b[0mlam_3\u001b[0m\u001b[0;34m,\u001b[0m                                   \u001b[0mp1\u001b[0m\u001b[0;34m.\u001b[0m\u001b[0mprop\u001b[0m\u001b[0;34m(\u001b[0m\u001b[0mmu1\u001b[0m\u001b[0;34m)\u001b[0m\u001b[0;34m,\u001b[0m                                   \u001b[0mp2\u001b[0m\u001b[0;34m.\u001b[0m\u001b[0mprop\u001b[0m\u001b[0;34m(\u001b[0m\u001b[0mmu2\u001b[0m\u001b[0;34m)\u001b[0m\u001b[0;34m,\u001b[0m                                   \u001b[0mp3\u001b[0m\u001b[0;34m.\u001b[0m\u001b[0mprop\u001b[0m\u001b[0;34m(\u001b[0m\u001b[0mmu3\u001b[0m\u001b[0;34m)\u001b[0m\u001b[0;34m)\u001b[0m\u001b[0;34m\u001b[0m\u001b[0m\n\u001b[0m\u001b[1;32m      4\u001b[0m         \u001b[0;32mif\u001b[0m \u001b[0mnp\u001b[0m\u001b[0;34m.\u001b[0m\u001b[0misnan\u001b[0m\u001b[0;34m(\u001b[0m\u001b[0mvalue\u001b[0m\u001b[0;34m)\u001b[0m\u001b[0;34m:\u001b[0m\u001b[0;34m\u001b[0m\u001b[0m\n\u001b[1;32m      5\u001b[0m             \u001b[0mprint\u001b[0m\u001b[0;34m(\u001b[0m\u001b[0;34m'NaN detected from IAAAresum'\u001b[0m\u001b[0;34m)\u001b[0m\u001b[0;34m\u001b[0m\u001b[0m\n",
      "\u001b[0;32m/home/users/qmac/MultiPointCalculation/propagator.py\u001b[0m in \u001b[0;36mprop\u001b[0;34m(self, mu)\u001b[0m\n\u001b[1;32m    181\u001b[0m             \u001b[0;31m# Calculate\u001b[0m\u001b[0;34m\u001b[0m\u001b[0;34m\u001b[0m\u001b[0m\n\u001b[1;32m    182\u001b[0m             \u001b[0mname\u001b[0m\u001b[0;34m=\u001b[0m\u001b[0;34m(\u001b[0m\u001b[0mabs\u001b[0m\u001b[0;34m(\u001b[0m\u001b[0mmu\u001b[0m\u001b[0;34m)\u001b[0m\u001b[0;34m,\u001b[0m\u001b[0mself\u001b[0m\u001b[0;34m.\u001b[0m\u001b[0mkvec\u001b[0m\u001b[0;34m)\u001b[0m\u001b[0;34m\u001b[0m\u001b[0m\n\u001b[0;32m--> 183\u001b[0;31m             \u001b[0mself\u001b[0m\u001b[0;34m.\u001b[0m\u001b[0mmu_dict\u001b[0m\u001b[0;34m[\u001b[0m\u001b[0mabs\u001b[0m\u001b[0;34m(\u001b[0m\u001b[0mmu\u001b[0m\u001b[0;34m)\u001b[0m\u001b[0;34m]\u001b[0m\u001b[0;34m=\u001b[0m\u001b[0mpropagator\u001b[0m\u001b[0;34m(\u001b[0m\u001b[0mname\u001b[0m\u001b[0;34m,\u001b[0m                                        \u001b[0mnp\u001b[0m\u001b[0;34m.\u001b[0m\u001b[0mlinalg\u001b[0m\u001b[0;34m.\u001b[0m\u001b[0mnorm\u001b[0m\u001b[0;34m(\u001b[0m\u001b[0mself\u001b[0m\u001b[0;34m.\u001b[0m\u001b[0mkvec\u001b[0m\u001b[0;34m)\u001b[0m\u001b[0;34m,\u001b[0m                                        \u001b[0mabs\u001b[0m\u001b[0;34m(\u001b[0m\u001b[0mmu\u001b[0m\u001b[0;34m)\u001b[0m\u001b[0;34m,\u001b[0m                                        \u001b[0mnlam\u001b[0m\u001b[0;34m=\u001b[0m\u001b[0mself\u001b[0m\u001b[0;34m.\u001b[0m\u001b[0mnlam\u001b[0m\u001b[0;34m,\u001b[0m                                        \u001b[0mlamMax\u001b[0m\u001b[0;34m=\u001b[0m\u001b[0mself\u001b[0m\u001b[0;34m.\u001b[0m\u001b[0mlamMax\u001b[0m\u001b[0;34m,\u001b[0m                                        \u001b[0mORDEig\u001b[0m\u001b[0;34m=\u001b[0m\u001b[0mself\u001b[0m\u001b[0;34m.\u001b[0m\u001b[0mORDEig\u001b[0m\u001b[0;34m,\u001b[0m                                        \u001b[0md\u001b[0m\u001b[0;34m=\u001b[0m\u001b[0mself\u001b[0m\u001b[0;34m.\u001b[0m\u001b[0md\u001b[0m\u001b[0;34m)\u001b[0m\u001b[0;34m\u001b[0m\u001b[0m\n\u001b[0m\u001b[1;32m    184\u001b[0m             \u001b[0;32mreturn\u001b[0m \u001b[0mself\u001b[0m\u001b[0;34m.\u001b[0m\u001b[0mmu_dict\u001b[0m\u001b[0;34m[\u001b[0m\u001b[0mabs\u001b[0m\u001b[0;34m(\u001b[0m\u001b[0mmu\u001b[0m\u001b[0;34m)\u001b[0m\u001b[0;34m]\u001b[0m\u001b[0;34m\u001b[0m\u001b[0m\n\u001b[1;32m    185\u001b[0m \u001b[0;34m\u001b[0m\u001b[0m\n",
      "\u001b[0;32m/home/users/qmac/MultiPointCalculation/propagator.py\u001b[0m in \u001b[0;36m__init__\u001b[0;34m(self, name, K, mu, nlam, lamMax, ORDEig, d)\u001b[0m\n\u001b[1;32m     26\u001b[0m         \u001b[0mself\u001b[0m\u001b[0;34m.\u001b[0m\u001b[0md\u001b[0m \u001b[0;34m=\u001b[0m\u001b[0md\u001b[0m\u001b[0;34m\u001b[0m\u001b[0m\n\u001b[1;32m     27\u001b[0m         \u001b[0mself\u001b[0m\u001b[0;34m.\u001b[0m\u001b[0meig\u001b[0m\u001b[0;34m,\u001b[0m \u001b[0mself\u001b[0m\u001b[0;34m.\u001b[0m\u001b[0mres\u001b[0m \u001b[0;34m=\u001b[0m \u001b[0mself\u001b[0m\u001b[0;34m.\u001b[0m\u001b[0mcalc_resData_G\u001b[0m\u001b[0;34m(\u001b[0m\u001b[0;34m)\u001b[0m\u001b[0;34m\u001b[0m\u001b[0m\n\u001b[0;32m---> 28\u001b[0;31m         \u001b[0mself\u001b[0m\u001b[0;34m.\u001b[0m\u001b[0mG0\u001b[0m\u001b[0;34m,\u001b[0m \u001b[0mself\u001b[0m\u001b[0;34m.\u001b[0m\u001b[0mdG0\u001b[0m \u001b[0;34m=\u001b[0m \u001b[0mself\u001b[0m\u001b[0;34m.\u001b[0m\u001b[0mcalcZeroPterms\u001b[0m\u001b[0;34m(\u001b[0m\u001b[0;34m)\u001b[0m\u001b[0;34m\u001b[0m\u001b[0m\n\u001b[0m\u001b[1;32m     29\u001b[0m         \u001b[0mself\u001b[0m\u001b[0;34m.\u001b[0m\u001b[0motherG\u001b[0m \u001b[0;34m=\u001b[0m \u001b[0;34m{\u001b[0m\u001b[0;34m}\u001b[0m\u001b[0;34m\u001b[0m\u001b[0m\n\u001b[1;32m     30\u001b[0m \u001b[0;34m\u001b[0m\u001b[0m\n",
      "\u001b[0;32m/home/users/qmac/MultiPointCalculation/propagator.py\u001b[0m in \u001b[0;36mcalcZeroPterms\u001b[0;34m(self)\u001b[0m\n\u001b[1;32m     82\u001b[0m         \u001b[0mdwp\u001b[0m\u001b[0;34m=\u001b[0m\u001b[0;34m-\u001b[0m\u001b[0mdjp\u001b[0m\u001b[0;34m/\u001b[0m\u001b[0;34m(\u001b[0m\u001b[0mjp\u001b[0m\u001b[0;34m**\u001b[0m\u001b[0;36m2\u001b[0m\u001b[0;34m)\u001b[0m \u001b[0;31m# This line prevents jit ???\u001b[0m\u001b[0;34m\u001b[0m\u001b[0m\n\u001b[1;32m     83\u001b[0m \u001b[0;34m\u001b[0m\u001b[0m\n\u001b[0;32m---> 84\u001b[0;31m         \u001b[0mW\u001b[0m\u001b[0;34m=\u001b[0m\u001b[0mwlc\u001b[0m\u001b[0;34m.\u001b[0m\u001b[0mget_W_zero\u001b[0m\u001b[0;34m(\u001b[0m\u001b[0mmu\u001b[0m\u001b[0;34m,\u001b[0m\u001b[0mK\u001b[0m\u001b[0;34m,\u001b[0m\u001b[0mlamMax\u001b[0m\u001b[0;34m,\u001b[0m\u001b[0mjp\u001b[0m\u001b[0;34m,\u001b[0m\u001b[0mjm\u001b[0m\u001b[0;34m,\u001b[0m\u001b[0md\u001b[0m\u001b[0;34m)\u001b[0m\u001b[0;34m\u001b[0m\u001b[0m\n\u001b[0m\u001b[1;32m     85\u001b[0m         \u001b[0mdW\u001b[0m\u001b[0;34m=\u001b[0m\u001b[0mwlc\u001b[0m\u001b[0;34m.\u001b[0m\u001b[0mget_dW_zero\u001b[0m\u001b[0;34m(\u001b[0m\u001b[0mmu\u001b[0m\u001b[0;34m,\u001b[0m\u001b[0mK\u001b[0m\u001b[0;34m,\u001b[0m\u001b[0mlamMax\u001b[0m\u001b[0;34m,\u001b[0m\u001b[0mdwp\u001b[0m\u001b[0;34m,\u001b[0m\u001b[0mdwm\u001b[0m\u001b[0;34m,\u001b[0m\u001b[0mW\u001b[0m\u001b[0;34m,\u001b[0m\u001b[0md\u001b[0m\u001b[0;34m)\u001b[0m\u001b[0;34m\u001b[0m\u001b[0m\n\u001b[1;32m     86\u001b[0m \u001b[0;34m\u001b[0m\u001b[0m\n",
      "\u001b[0;32m/home/users/qmac/anaconda3/lib/python3.5/site-packages/numba/dispatcher.py\u001b[0m in \u001b[0;36m_compile_for_args\u001b[0;34m(self, *args, **kws)\u001b[0m\n\u001b[1;32m    283\u001b[0m                 \u001b[0margtypes\u001b[0m\u001b[0;34m.\u001b[0m\u001b[0mappend\u001b[0m\u001b[0;34m(\u001b[0m\u001b[0mself\u001b[0m\u001b[0;34m.\u001b[0m\u001b[0mtypeof_pyval\u001b[0m\u001b[0;34m(\u001b[0m\u001b[0ma\u001b[0m\u001b[0;34m)\u001b[0m\u001b[0;34m)\u001b[0m\u001b[0;34m\u001b[0m\u001b[0m\n\u001b[1;32m    284\u001b[0m         \u001b[0;32mtry\u001b[0m\u001b[0;34m:\u001b[0m\u001b[0;34m\u001b[0m\u001b[0m\n\u001b[0;32m--> 285\u001b[0;31m             \u001b[0;32mreturn\u001b[0m \u001b[0mself\u001b[0m\u001b[0;34m.\u001b[0m\u001b[0mcompile\u001b[0m\u001b[0;34m(\u001b[0m\u001b[0mtuple\u001b[0m\u001b[0;34m(\u001b[0m\u001b[0margtypes\u001b[0m\u001b[0;34m)\u001b[0m\u001b[0;34m)\u001b[0m\u001b[0;34m\u001b[0m\u001b[0m\n\u001b[0m\u001b[1;32m    286\u001b[0m         \u001b[0;32mexcept\u001b[0m \u001b[0merrors\u001b[0m\u001b[0;34m.\u001b[0m\u001b[0mTypingError\u001b[0m \u001b[0;32mas\u001b[0m \u001b[0me\u001b[0m\u001b[0;34m:\u001b[0m\u001b[0;34m\u001b[0m\u001b[0m\n\u001b[1;32m    287\u001b[0m             \u001b[0;31m# Intercept typing error that may be due to an argument\u001b[0m\u001b[0;34m\u001b[0m\u001b[0;34m\u001b[0m\u001b[0m\n",
      "\u001b[0;32m/home/users/qmac/anaconda3/lib/python3.5/site-packages/numba/dispatcher.py\u001b[0m in \u001b[0;36mcompile\u001b[0;34m(self, sig)\u001b[0m\n\u001b[1;32m    529\u001b[0m \u001b[0;34m\u001b[0m\u001b[0m\n\u001b[1;32m    530\u001b[0m             \u001b[0mself\u001b[0m\u001b[0;34m.\u001b[0m\u001b[0m_cache_misses\u001b[0m\u001b[0;34m[\u001b[0m\u001b[0msig\u001b[0m\u001b[0;34m]\u001b[0m \u001b[0;34m+=\u001b[0m \u001b[0;36m1\u001b[0m\u001b[0;34m\u001b[0m\u001b[0m\n\u001b[0;32m--> 531\u001b[0;31m             \u001b[0mcres\u001b[0m \u001b[0;34m=\u001b[0m \u001b[0mself\u001b[0m\u001b[0;34m.\u001b[0m\u001b[0m_compiler\u001b[0m\u001b[0;34m.\u001b[0m\u001b[0mcompile\u001b[0m\u001b[0;34m(\u001b[0m\u001b[0margs\u001b[0m\u001b[0;34m,\u001b[0m \u001b[0mreturn_type\u001b[0m\u001b[0;34m)\u001b[0m\u001b[0;34m\u001b[0m\u001b[0m\n\u001b[0m\u001b[1;32m    532\u001b[0m             \u001b[0mself\u001b[0m\u001b[0;34m.\u001b[0m\u001b[0madd_overload\u001b[0m\u001b[0;34m(\u001b[0m\u001b[0mcres\u001b[0m\u001b[0;34m)\u001b[0m\u001b[0;34m\u001b[0m\u001b[0m\n\u001b[1;32m    533\u001b[0m             \u001b[0mself\u001b[0m\u001b[0;34m.\u001b[0m\u001b[0m_cache\u001b[0m\u001b[0;34m.\u001b[0m\u001b[0msave_overload\u001b[0m\u001b[0;34m(\u001b[0m\u001b[0msig\u001b[0m\u001b[0;34m,\u001b[0m \u001b[0mcres\u001b[0m\u001b[0;34m)\u001b[0m\u001b[0;34m\u001b[0m\u001b[0m\n",
      "\u001b[0;32m/home/users/qmac/anaconda3/lib/python3.5/site-packages/numba/dispatcher.py\u001b[0m in \u001b[0;36mcompile\u001b[0;34m(self, args, return_type)\u001b[0m\n\u001b[1;32m     78\u001b[0m                                       \u001b[0mimpl\u001b[0m\u001b[0;34m,\u001b[0m\u001b[0;34m\u001b[0m\u001b[0m\n\u001b[1;32m     79\u001b[0m                                       \u001b[0margs\u001b[0m\u001b[0;34m=\u001b[0m\u001b[0margs\u001b[0m\u001b[0;34m,\u001b[0m \u001b[0mreturn_type\u001b[0m\u001b[0;34m=\u001b[0m\u001b[0mreturn_type\u001b[0m\u001b[0;34m,\u001b[0m\u001b[0;34m\u001b[0m\u001b[0m\n\u001b[0;32m---> 80\u001b[0;31m                                       flags=flags, locals=self.locals)\n\u001b[0m\u001b[1;32m     81\u001b[0m         \u001b[0;31m# Check typing error if object mode is used\u001b[0m\u001b[0;34m\u001b[0m\u001b[0;34m\u001b[0m\u001b[0m\n\u001b[1;32m     82\u001b[0m         \u001b[0;32mif\u001b[0m \u001b[0mcres\u001b[0m\u001b[0;34m.\u001b[0m\u001b[0mtyping_error\u001b[0m \u001b[0;32mis\u001b[0m \u001b[0;32mnot\u001b[0m \u001b[0;32mNone\u001b[0m \u001b[0;32mand\u001b[0m \u001b[0;32mnot\u001b[0m \u001b[0mflags\u001b[0m\u001b[0;34m.\u001b[0m\u001b[0menable_pyobject\u001b[0m\u001b[0;34m:\u001b[0m\u001b[0;34m\u001b[0m\u001b[0m\n",
      "\u001b[0;32m/home/users/qmac/anaconda3/lib/python3.5/site-packages/numba/compiler.py\u001b[0m in \u001b[0;36mcompile_extra\u001b[0;34m(typingctx, targetctx, func, args, return_type, flags, locals, library)\u001b[0m\n\u001b[1;32m    723\u001b[0m     pipeline = Pipeline(typingctx, targetctx, library,\n\u001b[1;32m    724\u001b[0m                         args, return_type, flags, locals)\n\u001b[0;32m--> 725\u001b[0;31m     \u001b[0;32mreturn\u001b[0m \u001b[0mpipeline\u001b[0m\u001b[0;34m.\u001b[0m\u001b[0mcompile_extra\u001b[0m\u001b[0;34m(\u001b[0m\u001b[0mfunc\u001b[0m\u001b[0;34m)\u001b[0m\u001b[0;34m\u001b[0m\u001b[0m\n\u001b[0m\u001b[1;32m    726\u001b[0m \u001b[0;34m\u001b[0m\u001b[0m\n\u001b[1;32m    727\u001b[0m \u001b[0;34m\u001b[0m\u001b[0m\n",
      "\u001b[0;32m/home/users/qmac/anaconda3/lib/python3.5/site-packages/numba/compiler.py\u001b[0m in \u001b[0;36mcompile_extra\u001b[0;34m(self, func)\u001b[0m\n\u001b[1;32m    367\u001b[0m                 \u001b[0;32mraise\u001b[0m \u001b[0me\u001b[0m\u001b[0;34m\u001b[0m\u001b[0m\n\u001b[1;32m    368\u001b[0m \u001b[0;34m\u001b[0m\u001b[0m\n\u001b[0;32m--> 369\u001b[0;31m         \u001b[0;32mreturn\u001b[0m \u001b[0mself\u001b[0m\u001b[0;34m.\u001b[0m\u001b[0mcompile_bytecode\u001b[0m\u001b[0;34m(\u001b[0m\u001b[0mbc\u001b[0m\u001b[0;34m,\u001b[0m \u001b[0mfunc_attr\u001b[0m\u001b[0;34m=\u001b[0m\u001b[0mself\u001b[0m\u001b[0;34m.\u001b[0m\u001b[0mfunc_attr\u001b[0m\u001b[0;34m)\u001b[0m\u001b[0;34m\u001b[0m\u001b[0m\n\u001b[0m\u001b[1;32m    370\u001b[0m \u001b[0;34m\u001b[0m\u001b[0m\n\u001b[1;32m    371\u001b[0m     def compile_bytecode(self, bc, lifted=(), lifted_from=None,\n",
      "\u001b[0;32m/home/users/qmac/anaconda3/lib/python3.5/site-packages/numba/compiler.py\u001b[0m in \u001b[0;36mcompile_bytecode\u001b[0;34m(self, bc, lifted, lifted_from, func_attr)\u001b[0m\n\u001b[1;32m    376\u001b[0m         \u001b[0mself\u001b[0m\u001b[0;34m.\u001b[0m\u001b[0mlifted_from\u001b[0m \u001b[0;34m=\u001b[0m \u001b[0mlifted_from\u001b[0m\u001b[0;34m\u001b[0m\u001b[0m\n\u001b[1;32m    377\u001b[0m         \u001b[0mself\u001b[0m\u001b[0;34m.\u001b[0m\u001b[0mfunc_attr\u001b[0m \u001b[0;34m=\u001b[0m \u001b[0mfunc_attr\u001b[0m\u001b[0;34m\u001b[0m\u001b[0m\n\u001b[0;32m--> 378\u001b[0;31m         \u001b[0;32mreturn\u001b[0m \u001b[0mself\u001b[0m\u001b[0;34m.\u001b[0m\u001b[0m_compile_bytecode\u001b[0m\u001b[0;34m(\u001b[0m\u001b[0;34m)\u001b[0m\u001b[0;34m\u001b[0m\u001b[0m\n\u001b[0m\u001b[1;32m    379\u001b[0m \u001b[0;34m\u001b[0m\u001b[0m\n\u001b[1;32m    380\u001b[0m     def compile_ir(self, interp, lifted=(), lifted_from=None,\n",
      "\u001b[0;32m/home/users/qmac/anaconda3/lib/python3.5/site-packages/numba/compiler.py\u001b[0m in \u001b[0;36m_compile_bytecode\u001b[0;34m(self)\u001b[0m\n\u001b[1;32m    688\u001b[0m         \"\"\"\n\u001b[1;32m    689\u001b[0m         \u001b[0;32massert\u001b[0m \u001b[0mself\u001b[0m\u001b[0;34m.\u001b[0m\u001b[0minterp\u001b[0m \u001b[0;32mis\u001b[0m \u001b[0;32mNone\u001b[0m\u001b[0;34m\u001b[0m\u001b[0m\n\u001b[0;32m--> 690\u001b[0;31m         \u001b[0;32mreturn\u001b[0m \u001b[0mself\u001b[0m\u001b[0;34m.\u001b[0m\u001b[0m_compile_core\u001b[0m\u001b[0;34m(\u001b[0m\u001b[0;34m)\u001b[0m\u001b[0;34m\u001b[0m\u001b[0m\n\u001b[0m\u001b[1;32m    691\u001b[0m \u001b[0;34m\u001b[0m\u001b[0m\n\u001b[1;32m    692\u001b[0m     \u001b[0;32mdef\u001b[0m \u001b[0m_compile_ir\u001b[0m\u001b[0;34m(\u001b[0m\u001b[0mself\u001b[0m\u001b[0;34m)\u001b[0m\u001b[0;34m:\u001b[0m\u001b[0;34m\u001b[0m\u001b[0m\n",
      "\u001b[0;32m/home/users/qmac/anaconda3/lib/python3.5/site-packages/numba/compiler.py\u001b[0m in \u001b[0;36m_compile_core\u001b[0;34m(self)\u001b[0m\n\u001b[1;32m    675\u001b[0m \u001b[0;34m\u001b[0m\u001b[0m\n\u001b[1;32m    676\u001b[0m         \u001b[0mpm\u001b[0m\u001b[0;34m.\u001b[0m\u001b[0mfinalize\u001b[0m\u001b[0;34m(\u001b[0m\u001b[0;34m)\u001b[0m\u001b[0;34m\u001b[0m\u001b[0m\n\u001b[0;32m--> 677\u001b[0;31m         \u001b[0mres\u001b[0m \u001b[0;34m=\u001b[0m \u001b[0mpm\u001b[0m\u001b[0;34m.\u001b[0m\u001b[0mrun\u001b[0m\u001b[0;34m(\u001b[0m\u001b[0mself\u001b[0m\u001b[0;34m.\u001b[0m\u001b[0mstatus\u001b[0m\u001b[0;34m)\u001b[0m\u001b[0;34m\u001b[0m\u001b[0m\n\u001b[0m\u001b[1;32m    678\u001b[0m         \u001b[0;32mif\u001b[0m \u001b[0mres\u001b[0m \u001b[0;32mis\u001b[0m \u001b[0;32mnot\u001b[0m \u001b[0;32mNone\u001b[0m\u001b[0;34m:\u001b[0m\u001b[0;34m\u001b[0m\u001b[0m\n\u001b[1;32m    679\u001b[0m             \u001b[0;31m# Early pipeline completion\u001b[0m\u001b[0;34m\u001b[0m\u001b[0;34m\u001b[0m\u001b[0m\n",
      "\u001b[0;32m/home/users/qmac/anaconda3/lib/python3.5/site-packages/numba/compiler.py\u001b[0m in \u001b[0;36mrun\u001b[0;34m(self, status)\u001b[0m\n\u001b[1;32m    255\u001b[0m                     \u001b[0;31m# No more fallback pipelines?\u001b[0m\u001b[0;34m\u001b[0m\u001b[0;34m\u001b[0m\u001b[0m\n\u001b[1;32m    256\u001b[0m                     \u001b[0;32mif\u001b[0m \u001b[0mis_final_pipeline\u001b[0m\u001b[0;34m:\u001b[0m\u001b[0;34m\u001b[0m\u001b[0m\n\u001b[0;32m--> 257\u001b[0;31m                         \u001b[0;32mraise\u001b[0m \u001b[0mpatched_exception\u001b[0m\u001b[0;34m\u001b[0m\u001b[0m\n\u001b[0m\u001b[1;32m    258\u001b[0m                     \u001b[0;31m# Go to next fallback pipeline\u001b[0m\u001b[0;34m\u001b[0m\u001b[0;34m\u001b[0m\u001b[0m\n\u001b[1;32m    259\u001b[0m                     \u001b[0;32melse\u001b[0m\u001b[0;34m:\u001b[0m\u001b[0;34m\u001b[0m\u001b[0m\n",
      "\u001b[0;32m/home/users/qmac/anaconda3/lib/python3.5/site-packages/numba/compiler.py\u001b[0m in \u001b[0;36mrun\u001b[0;34m(self, status)\u001b[0m\n\u001b[1;32m    247\u001b[0m                 \u001b[0;32mtry\u001b[0m\u001b[0;34m:\u001b[0m\u001b[0;34m\u001b[0m\u001b[0m\n\u001b[1;32m    248\u001b[0m                     \u001b[0mevent\u001b[0m\u001b[0;34m(\u001b[0m\u001b[0mstage_name\u001b[0m\u001b[0;34m)\u001b[0m\u001b[0;34m\u001b[0m\u001b[0m\n\u001b[0;32m--> 249\u001b[0;31m                     \u001b[0mstage\u001b[0m\u001b[0;34m(\u001b[0m\u001b[0;34m)\u001b[0m\u001b[0;34m\u001b[0m\u001b[0m\n\u001b[0m\u001b[1;32m    250\u001b[0m                 \u001b[0;32mexcept\u001b[0m \u001b[0m_EarlyPipelineCompletion\u001b[0m \u001b[0;32mas\u001b[0m \u001b[0me\u001b[0m\u001b[0;34m:\u001b[0m\u001b[0;34m\u001b[0m\u001b[0m\n\u001b[1;32m    251\u001b[0m                     \u001b[0;32mreturn\u001b[0m \u001b[0me\u001b[0m\u001b[0;34m.\u001b[0m\u001b[0mresult\u001b[0m\u001b[0;34m\u001b[0m\u001b[0m\n",
      "\u001b[0;32m/home/users/qmac/anaconda3/lib/python3.5/site-packages/numba/compiler.py\u001b[0m in \u001b[0;36mstage_nopython_frontend\u001b[0;34m(self)\u001b[0m\n\u001b[1;32m    474\u001b[0m                 \u001b[0mself\u001b[0m\u001b[0;34m.\u001b[0m\u001b[0margs\u001b[0m\u001b[0;34m,\u001b[0m\u001b[0;34m\u001b[0m\u001b[0m\n\u001b[1;32m    475\u001b[0m                 \u001b[0mself\u001b[0m\u001b[0;34m.\u001b[0m\u001b[0mreturn_type\u001b[0m\u001b[0;34m,\u001b[0m\u001b[0;34m\u001b[0m\u001b[0m\n\u001b[0;32m--> 476\u001b[0;31m                 self.locals)\n\u001b[0m\u001b[1;32m    477\u001b[0m \u001b[0;34m\u001b[0m\u001b[0m\n\u001b[1;32m    478\u001b[0m         with self.fallback_context('Function \"%s\" has invalid return type'\n",
      "\u001b[0;32m/home/users/qmac/anaconda3/lib/python3.5/site-packages/numba/compiler.py\u001b[0m in \u001b[0;36mtype_inference_stage\u001b[0;34m(typingctx, interp, args, return_type, locals)\u001b[0m\n\u001b[1;32m    825\u001b[0m         \u001b[0minfer\u001b[0m\u001b[0;34m.\u001b[0m\u001b[0mseed_type\u001b[0m\u001b[0;34m(\u001b[0m\u001b[0mk\u001b[0m\u001b[0;34m,\u001b[0m \u001b[0mv\u001b[0m\u001b[0;34m)\u001b[0m\u001b[0;34m\u001b[0m\u001b[0m\n\u001b[1;32m    826\u001b[0m \u001b[0;34m\u001b[0m\u001b[0m\n\u001b[0;32m--> 827\u001b[0;31m     \u001b[0minfer\u001b[0m\u001b[0;34m.\u001b[0m\u001b[0mbuild_constraint\u001b[0m\u001b[0;34m(\u001b[0m\u001b[0;34m)\u001b[0m\u001b[0;34m\u001b[0m\u001b[0m\n\u001b[0m\u001b[1;32m    828\u001b[0m     \u001b[0minfer\u001b[0m\u001b[0;34m.\u001b[0m\u001b[0mpropagate\u001b[0m\u001b[0;34m(\u001b[0m\u001b[0;34m)\u001b[0m\u001b[0;34m\u001b[0m\u001b[0m\n\u001b[1;32m    829\u001b[0m     \u001b[0mtypemap\u001b[0m\u001b[0;34m,\u001b[0m \u001b[0mrestype\u001b[0m\u001b[0;34m,\u001b[0m \u001b[0mcalltypes\u001b[0m \u001b[0;34m=\u001b[0m \u001b[0minfer\u001b[0m\u001b[0;34m.\u001b[0m\u001b[0munify\u001b[0m\u001b[0;34m(\u001b[0m\u001b[0;34m)\u001b[0m\u001b[0;34m\u001b[0m\u001b[0m\n",
      "\u001b[0;32m/home/users/qmac/anaconda3/lib/python3.5/site-packages/numba/typeinfer.py\u001b[0m in \u001b[0;36mbuild_constraint\u001b[0;34m(self)\u001b[0m\n\u001b[1;32m    699\u001b[0m         \u001b[0;32mfor\u001b[0m \u001b[0mblk\u001b[0m \u001b[0;32min\u001b[0m \u001b[0mutils\u001b[0m\u001b[0;34m.\u001b[0m\u001b[0mitervalues\u001b[0m\u001b[0;34m(\u001b[0m\u001b[0mself\u001b[0m\u001b[0;34m.\u001b[0m\u001b[0mblocks\u001b[0m\u001b[0;34m)\u001b[0m\u001b[0;34m:\u001b[0m\u001b[0;34m\u001b[0m\u001b[0m\n\u001b[1;32m    700\u001b[0m             \u001b[0;32mfor\u001b[0m \u001b[0minst\u001b[0m \u001b[0;32min\u001b[0m \u001b[0mblk\u001b[0m\u001b[0;34m.\u001b[0m\u001b[0mbody\u001b[0m\u001b[0;34m:\u001b[0m\u001b[0;34m\u001b[0m\u001b[0m\n\u001b[0;32m--> 701\u001b[0;31m                 \u001b[0mself\u001b[0m\u001b[0;34m.\u001b[0m\u001b[0mconstrain_statement\u001b[0m\u001b[0;34m(\u001b[0m\u001b[0minst\u001b[0m\u001b[0;34m)\u001b[0m\u001b[0;34m\u001b[0m\u001b[0m\n\u001b[0m\u001b[1;32m    702\u001b[0m \u001b[0;34m\u001b[0m\u001b[0m\n\u001b[1;32m    703\u001b[0m     \u001b[0;32mdef\u001b[0m \u001b[0mpropagate\u001b[0m\u001b[0;34m(\u001b[0m\u001b[0mself\u001b[0m\u001b[0;34m)\u001b[0m\u001b[0;34m:\u001b[0m\u001b[0;34m\u001b[0m\u001b[0m\n",
      "\u001b[0;32m/home/users/qmac/anaconda3/lib/python3.5/site-packages/numba/typeinfer.py\u001b[0m in \u001b[0;36mconstrain_statement\u001b[0;34m(self, inst)\u001b[0m\n\u001b[1;32m    833\u001b[0m         \u001b[0;32melif\u001b[0m \u001b[0misinstance\u001b[0m\u001b[0;34m(\u001b[0m\u001b[0minst\u001b[0m\u001b[0;34m,\u001b[0m \u001b[0mir\u001b[0m\u001b[0;34m.\u001b[0m\u001b[0mStaticSetItem\u001b[0m\u001b[0;34m)\u001b[0m\u001b[0;34m:\u001b[0m\u001b[0;34m\u001b[0m\u001b[0m\n\u001b[1;32m    834\u001b[0m             \u001b[0mself\u001b[0m\u001b[0;34m.\u001b[0m\u001b[0mtypeof_static_setitem\u001b[0m\u001b[0;34m(\u001b[0m\u001b[0minst\u001b[0m\u001b[0;34m)\u001b[0m\u001b[0;34m\u001b[0m\u001b[0m\n\u001b[0;32m--> 835\u001b[0;31m         \u001b[0;32melif\u001b[0m \u001b[0misinstance\u001b[0m\u001b[0;34m(\u001b[0m\u001b[0minst\u001b[0m\u001b[0;34m,\u001b[0m \u001b[0mir\u001b[0m\u001b[0;34m.\u001b[0m\u001b[0mDelItem\u001b[0m\u001b[0;34m)\u001b[0m\u001b[0;34m:\u001b[0m\u001b[0;34m\u001b[0m\u001b[0m\n\u001b[0m\u001b[1;32m    836\u001b[0m             \u001b[0mself\u001b[0m\u001b[0;34m.\u001b[0m\u001b[0mtypeof_delitem\u001b[0m\u001b[0;34m(\u001b[0m\u001b[0minst\u001b[0m\u001b[0;34m)\u001b[0m\u001b[0;34m\u001b[0m\u001b[0m\n\u001b[1;32m    837\u001b[0m         \u001b[0;32melif\u001b[0m \u001b[0misinstance\u001b[0m\u001b[0;34m(\u001b[0m\u001b[0minst\u001b[0m\u001b[0;34m,\u001b[0m \u001b[0mir\u001b[0m\u001b[0;34m.\u001b[0m\u001b[0mSetAttr\u001b[0m\u001b[0;34m)\u001b[0m\u001b[0;34m:\u001b[0m\u001b[0;34m\u001b[0m\u001b[0m\n",
      "\u001b[0;31mKeyboardInterrupt\u001b[0m: Failed at nopython (nopython frontend)\n"
     ]
    }
   ],
   "source": [
    "N=1\n",
    "fa=0.345890\n",
    "\n",
    "\n",
    "nlam=3\n",
    "pset=propagator.prop_set(nlam=nlam)\n",
    "\n",
    "# K = 10.0\n",
    "# k = setKs(K)\n",
    "# s4wlc(pset, N, fa, k)\n",
    "\n",
    "KV = np.logspace(-1,3,10)\n",
    "s4 = np.zeros((2,2,2,2,len(KV)),dtype=type(1+1j))\n",
    "for ind, K in enumerate(KV):\n",
    "    k = setKs(K)\n",
    "    s4[:,:,:,:,ind] = s4wlc(pset, N, fa, k)/(N**4)"
   ]
  },
  {
   "cell_type": "code",
   "execution_count": 10,
   "metadata": {
    "collapsed": false
   },
   "outputs": [
    {
     "name": "stdout",
     "output_type": "stream",
     "text": [
      "Warning: Winger D hasnt been implemented!\n",
      "Warning: Winger D hasnt been implemented!\n",
      "Warning: Winger D hasnt been implemented!\n",
      "Warning: Winger D hasnt been implemented!\n",
      "Warning: Winger D hasnt been implemented!\n",
      "Warning: Winger D hasnt been implemented!\n",
      "Warning: Winger D hasnt been implemented!\n",
      "Warning: Winger D hasnt been implemented!\n",
      "Warning: Winger D hasnt been implemented!\n",
      "Warning: Winger D hasnt been implemented!\n",
      "Warning: Winger D hasnt been implemented!\n",
      "Warning: Winger D hasnt been implemented!\n",
      "Warning: Winger D hasnt been implemented!\n",
      "Warning: Winger D hasnt been implemented!\n",
      "Warning: Winger D hasnt been implemented!\n",
      "Warning: Winger D hasnt been implemented!\n",
      "Warning: Winger D hasnt been implemented!\n",
      "Warning: Winger D hasnt been implemented!\n",
      "Warning: Winger D hasnt been implemented!\n",
      "Warning: Winger D hasnt been implemented!\n",
      "Done\n"
     ]
    }
   ],
   "source": [
    "# Calculate just AAAA over K\n",
    "N=10\n",
    "fa=0.345890\n",
    "nlam=3\n",
    "pset=propagator.prop_set(nlam=nlam)\n",
    "npts=20\n",
    "KV = np.logspace(-2,4,npts)\n",
    "SAAAA=np.zeros(npts,dtype='complex')\n",
    "for ind, K in enumerate(KV):\n",
    "    k = setKs(K)\n",
    "    phi1 = phi_tilde(k[0],alpha=0)\n",
    "    phi2 = phi_tilde(k[1],alpha=0)\n",
    "    phi3 = phi_tilde(k[2],alpha=0)\n",
    "    phi4 = phi_tilde(k[3],alpha=0)\n",
    "\n",
    "    SAAAA[ind] = fourPointCorr(pset, N, fa, \\\n",
    "                                   phi1, phi2, phi3, phi4)\n",
    "print('Done')"
   ]
  },
  {
   "cell_type": "code",
   "execution_count": 11,
   "metadata": {
    "collapsed": false
   },
   "outputs": [
    {
     "data": {
      "image/png": "[encoded data removed]",
      "text/html": [
       "\n",
       "\n",
       "<style>\n",
       "\n",
       "</style>\n",
       "\n",
       "<div id=\"fig_el18327140428030874624144304924\"></div>\n",
       "<script>\n",
       "function mpld3_load_lib(url, callback){\n",
       "  var s = document.createElement('script');\n",
       "  s.src = url;\n",
       "  s.async = true;\n",
       "  s.onreadystatechange = s.onload = callback;\n",
       "  s.onerror = function(){console.warn(\"failed to load library \" + url);};\n",
       "  document.getElementsByTagName(\"head\")[0].appendChild(s);\n",
       "}\n",
       "\n",
       "if(typeof(mpld3) !== \"undefined\" && mpld3._mpld3IsLoaded){\n",
       "   // already loaded: just create the figure\n",
       "   !function(mpld3){\n",
       "       \n",
       "       mpld3.draw_figure(\"fig_el18327140428030874624144304924\", {\"data\": {\"data02\": [[10.0, 0.05], [1000.0, 4.9999999999999996e-06]], \"data01\": [[0.01, 4.198778039851174e+20], [0.0206913808111479, 1.249682531878515e+18], [0.04281332398719394, 3719225741374555.0], [0.08858667904100823, 4989374396276.888], [0.18329807108324356, 140.60275608524617], [0.37926901907322497, 132.78633608377294], [0.7847599703514611, 106.34404245763633], [1.623776739188721, 54.12444244403588], [3.359818286283781, 11.272893775829582], [6.951927961775605, 1.4900190482600078], [14.38449888287663, 0.45945221965220956], [29.76351441631316, 0.12679618889219404], [61.584821106602604, 0.030718422109941912], [127.42749857031322, 0.007264389295506397], [263.6650898730355, 0.001704255792521469], [545.5594781168514, 0.0003987637982835345], [1128.8378916846884, 9.321972250292e-05], [2335.7214690901214, 2.1782432517100954e-05], [4832.930238571752, 5.088746693742333e-06], [10000.0, 1.1886982718940798e-06]]}, \"axes\": [{\"id\": \"el18327140428026985776\", \"xlim\": [0.01, 10000.0], \"zoomable\": true, \"sharex\": [], \"markers\": [], \"bbox\": [0.125, 0.125, 0.775, 0.775], \"images\": [], \"axesbg\": \"#FFFFFF\", \"lines\": [{\"data\": \"data01\", \"coordinates\": \"data\", \"xindex\": 0, \"linewidth\": 1.0, \"zorder\": 2, \"drawstyle\": \"default\", \"dasharray\": \"none\", \"color\": \"#0000FF\", \"id\": \"el18327140428132437128\", \"alpha\": 1, \"yindex\": 1}, {\"data\": \"data02\", \"coordinates\": \"data\", \"xindex\": 0, \"linewidth\": 1.0, \"zorder\": 2, \"drawstyle\": \"default\", \"dasharray\": \"6,6\", \"color\": \"#000000\", \"id\": \"el18327140428027613984\", \"alpha\": 1, \"yindex\": 1}], \"axes\": [{\"nticks\": 9, \"position\": \"bottom\", \"tickformat\": null, \"grid\": {\"gridOn\": false}, \"visible\": true, \"fontsize\": 10.0, \"scale\": \"log\", \"tickvalues\": null}, {\"nticks\": 17, \"position\": \"left\", \"tickformat\": null, \"grid\": {\"gridOn\": false}, \"visible\": true, \"fontsize\": 10.0, \"scale\": \"log\", \"tickvalues\": null}], \"collections\": [], \"xscale\": \"log\", \"ylim\": [1e-06, 1e+21], \"axesbgalpha\": null, \"paths\": [], \"ydomain\": [1e-06, 1e+21], \"xdomain\": [0.01, 10000.0], \"sharey\": [], \"yscale\": \"log\", \"texts\": [{\"zorder\": 3, \"rotation\": -0.0, \"fontsize\": 10.0, \"color\": \"#000000\", \"id\": \"el18327140428027818112\", \"position\": [0.49999999999999994, -0.104502688172043], \"coordinates\": \"axes\", \"text\": \"K\", \"v_baseline\": \"hanging\", \"h_anchor\": \"middle\", \"alpha\": 1}]}], \"plugins\": [{\"type\": \"reset\"}, {\"type\": \"zoom\", \"button\": true, \"enabled\": false}, {\"type\": \"boxzoom\", \"button\": true, \"enabled\": false}], \"width\": 432.0, \"id\": \"el18327140428030874624\", \"height\": 288.0});\n",
       "   }(mpld3);\n",
       "}else if(typeof define === \"function\" && define.amd){\n",
       "   // require.js is available: use it to load d3/mpld3\n",
       "   require.config({paths: {d3: \"https://mpld3.github.io/js/d3.v3.min\"}});\n",
       "   require([\"d3\"], function(d3){\n",
       "      window.d3 = d3;\n",
       "      mpld3_load_lib(\"https://mpld3.github.io/js/mpld3.v0.3.js\", function(){\n",
       "         \n",
       "         mpld3.draw_figure(\"fig_el18327140428030874624144304924\", {\"data\": {\"data02\": [[10.0, 0.05], [1000.0, 4.9999999999999996e-06]], \"data01\": [[0.01, 4.198778039851174e+20], [0.0206913808111479, 1.249682531878515e+18], [0.04281332398719394, 3719225741374555.0], [0.08858667904100823, 4989374396276.888], [0.18329807108324356, 140.60275608524617], [0.37926901907322497, 132.78633608377294], [0.7847599703514611, 106.34404245763633], [1.623776739188721, 54.12444244403588], [3.359818286283781, 11.272893775829582], [6.951927961775605, 1.4900190482600078], [14.38449888287663, 0.45945221965220956], [29.76351441631316, 0.12679618889219404], [61.584821106602604, 0.030718422109941912], [127.42749857031322, 0.007264389295506397], [263.6650898730355, 0.001704255792521469], [545.5594781168514, 0.0003987637982835345], [1128.8378916846884, 9.321972250292e-05], [2335.7214690901214, 2.1782432517100954e-05], [4832.930238571752, 5.088746693742333e-06], [10000.0, 1.1886982718940798e-06]]}, \"axes\": [{\"id\": \"el18327140428026985776\", \"xlim\": [0.01, 10000.0], \"zoomable\": true, \"sharex\": [], \"markers\": [], \"bbox\": [0.125, 0.125, 0.775, 0.775], \"images\": [], \"axesbg\": \"#FFFFFF\", \"lines\": [{\"data\": \"data01\", \"coordinates\": \"data\", \"xindex\": 0, \"linewidth\": 1.0, \"zorder\": 2, \"drawstyle\": \"default\", \"dasharray\": \"none\", \"color\": \"#0000FF\", \"id\": \"el18327140428132437128\", \"alpha\": 1, \"yindex\": 1}, {\"data\": \"data02\", \"coordinates\": \"data\", \"xindex\": 0, \"linewidth\": 1.0, \"zorder\": 2, \"drawstyle\": \"default\", \"dasharray\": \"6,6\", \"color\": \"#000000\", \"id\": \"el18327140428027613984\", \"alpha\": 1, \"yindex\": 1}], \"axes\": [{\"nticks\": 9, \"position\": \"bottom\", \"tickformat\": null, \"grid\": {\"gridOn\": false}, \"visible\": true, \"fontsize\": 10.0, \"scale\": \"log\", \"tickvalues\": null}, {\"nticks\": 17, \"position\": \"left\", \"tickformat\": null, \"grid\": {\"gridOn\": false}, \"visible\": true, \"fontsize\": 10.0, \"scale\": \"log\", \"tickvalues\": null}], \"collections\": [], \"xscale\": \"log\", \"ylim\": [1e-06, 1e+21], \"axesbgalpha\": null, \"paths\": [], \"ydomain\": [1e-06, 1e+21], \"xdomain\": [0.01, 10000.0], \"sharey\": [], \"yscale\": \"log\", \"texts\": [{\"zorder\": 3, \"rotation\": -0.0, \"fontsize\": 10.0, \"color\": \"#000000\", \"id\": \"el18327140428027818112\", \"position\": [0.49999999999999994, -0.104502688172043], \"coordinates\": \"axes\", \"text\": \"K\", \"v_baseline\": \"hanging\", \"h_anchor\": \"middle\", \"alpha\": 1}]}], \"plugins\": [{\"type\": \"reset\"}, {\"type\": \"zoom\", \"button\": true, \"enabled\": false}, {\"type\": \"boxzoom\", \"button\": true, \"enabled\": false}], \"width\": 432.0, \"id\": \"el18327140428030874624\", \"height\": 288.0});\n",
       "      });\n",
       "    });\n",
       "}else{\n",
       "    // require.js not available: dynamically load d3 & mpld3\n",
       "    mpld3_load_lib(\"https://mpld3.github.io/js/d3.v3.min.js\", function(){\n",
       "         mpld3_load_lib(\"https://mpld3.github.io/js/mpld3.v0.3.js\", function(){\n",
       "                 \n",
       "                 mpld3.draw_figure(\"fig_el18327140428030874624144304924\", {\"data\": {\"data02\": [[10.0, 0.05], [1000.0, 4.9999999999999996e-06]], \"data01\": [[0.01, 4.198778039851174e+20], [0.0206913808111479, 1.249682531878515e+18], [0.04281332398719394, 3719225741374555.0], [0.08858667904100823, 4989374396276.888], [0.18329807108324356, 140.60275608524617], [0.37926901907322497, 132.78633608377294], [0.7847599703514611, 106.34404245763633], [1.623776739188721, 54.12444244403588], [3.359818286283781, 11.272893775829582], [6.951927961775605, 1.4900190482600078], [14.38449888287663, 0.45945221965220956], [29.76351441631316, 0.12679618889219404], [61.584821106602604, 0.030718422109941912], [127.42749857031322, 0.007264389295506397], [263.6650898730355, 0.001704255792521469], [545.5594781168514, 0.0003987637982835345], [1128.8378916846884, 9.321972250292e-05], [2335.7214690901214, 2.1782432517100954e-05], [4832.930238571752, 5.088746693742333e-06], [10000.0, 1.1886982718940798e-06]]}, \"axes\": [{\"id\": \"el18327140428026985776\", \"xlim\": [0.01, 10000.0], \"zoomable\": true, \"sharex\": [], \"markers\": [], \"bbox\": [0.125, 0.125, 0.775, 0.775], \"images\": [], \"axesbg\": \"#FFFFFF\", \"lines\": [{\"data\": \"data01\", \"coordinates\": \"data\", \"xindex\": 0, \"linewidth\": 1.0, \"zorder\": 2, \"drawstyle\": \"default\", \"dasharray\": \"none\", \"color\": \"#0000FF\", \"id\": \"el18327140428132437128\", \"alpha\": 1, \"yindex\": 1}, {\"data\": \"data02\", \"coordinates\": \"data\", \"xindex\": 0, \"linewidth\": 1.0, \"zorder\": 2, \"drawstyle\": \"default\", \"dasharray\": \"6,6\", \"color\": \"#000000\", \"id\": \"el18327140428027613984\", \"alpha\": 1, \"yindex\": 1}], \"axes\": [{\"nticks\": 9, \"position\": \"bottom\", \"tickformat\": null, \"grid\": {\"gridOn\": false}, \"visible\": true, \"fontsize\": 10.0, \"scale\": \"log\", \"tickvalues\": null}, {\"nticks\": 17, \"position\": \"left\", \"tickformat\": null, \"grid\": {\"gridOn\": false}, \"visible\": true, \"fontsize\": 10.0, \"scale\": \"log\", \"tickvalues\": null}], \"collections\": [], \"xscale\": \"log\", \"ylim\": [1e-06, 1e+21], \"axesbgalpha\": null, \"paths\": [], \"ydomain\": [1e-06, 1e+21], \"xdomain\": [0.01, 10000.0], \"sharey\": [], \"yscale\": \"log\", \"texts\": [{\"zorder\": 3, \"rotation\": -0.0, \"fontsize\": 10.0, \"color\": \"#000000\", \"id\": \"el18327140428027818112\", \"position\": [0.49999999999999994, -0.104502688172043], \"coordinates\": \"axes\", \"text\": \"K\", \"v_baseline\": \"hanging\", \"h_anchor\": \"middle\", \"alpha\": 1}]}], \"plugins\": [{\"type\": \"reset\"}, {\"type\": \"zoom\", \"button\": true, \"enabled\": false}, {\"type\": \"boxzoom\", \"button\": true, \"enabled\": false}], \"width\": 432.0, \"id\": \"el18327140428030874624\", \"height\": 288.0});\n",
       "            })\n",
       "         });\n",
       "}\n",
       "</script>"
      ],
      "text/plain": [
       "<matplotlib.figure.Figure at 0x7fb7f2e59400>"
      ]
     },
     "metadata": {},
     "output_type": "display_data"
    }
   ],
   "source": [
    "plt.loglog(KV, SAAAA.real)\n",
    "plotlog(1e1, 5e-2, -2, xrange=2)\n",
    "plt.xlabel('K')\n",
    "plt.show()"
   ]
  },
  {
   "cell_type": "markdown",
   "metadata": {
    "deletable": true,
    "editable": true
   },
   "source": [
    "## Rigid rod limit structure factor\n",
    "\n",
    "Consider the special case that the four wavevectors form a straight line.\n",
    "\n",
    "The structure factor of a rigid rod after rotation average is\n",
    "\\begin{eqnarray}\n",
    "I_4 = \n",
    "\\int_{0}^{L} ds_1\n",
    "\\int_{0}^{L} ds_2\n",
    "\\int_{0}^{L} ds_3\n",
    "\\int_{0}^{L} ds_4\n",
    "\\frac{\\sin{kL(s_1 + s_2 - s_3 - s_4)}}\n",
    "{kL(s_1 + s_2 - s_3 - s_4)}\n",
    "\\end{eqnarray}"
   ]
  },
  {
   "cell_type": "code",
   "execution_count": null,
   "metadata": {
    "collapsed": true,
    "deletable": true,
    "editable": true
   },
   "outputs": [],
   "source": []
  }
 ],
 "metadata": {
  "anaconda-cloud": {},
  "kernelspec": {
   "display_name": "Python [default]",
   "language": "python",
   "name": "python3"
  },
  "language_info": {
   "codemirror_mode": {
    "name": "ipython",
    "version": 3
   },
   "file_extension": ".py",
   "mimetype": "text/x-python",
   "name": "python",
   "nbconvert_exporter": "python",
   "pygments_lexer": "ipython3",
   "version": "3.5.2"
  },
  "latex_envs": {
   "LaTeX_envs_menu_present": true,
   "autocomplete": true,
   "bibliofile": "biblio.bib",
   "cite_by": "apalike",
   "current_citInitial": 1,
   "eqLabelWithNumbers": true,
   "eqNumInitial": 1,
   "hotkeys": {
    "equation": "Ctrl-E",
    "itemize": "Ctrl-I"
   },
   "labels_anchors": false,
   "latex_user_defs": false,
   "report_style_numbering": false,
   "user_envs_cfg": false
  },
  "toc": {
   "colors": {
    "hover_highlight": "#DAA520",
    "running_highlight": "#FF0000",
    "selected_highlight": "#FFD700"
   },
   "moveMenuLeft": true,
   "nav_menu": {
    "height": "12px",
    "width": "252px"
   },
   "navigate_menu": true,
   "number_sections": true,
   "sideBar": true,
   "threshold": 4,
   "toc_cell": false,
   "toc_section_display": "block",
   "toc_window_display": false,
   "widenNotebook": false
  }
 },
 "nbformat": 4,
 "nbformat_minor": 1
}
