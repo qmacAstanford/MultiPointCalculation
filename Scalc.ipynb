{
 "cells": [
  {
   "cell_type": "code",
   "execution_count": 41,
   "metadata": {
    "collapsed": false
   },
   "outputs": [],
   "source": [
    "from itertools import permutations as perms\n",
    "import numpy as np"
   ]
  },
  {
   "cell_type": "code",
   "execution_count": 53,
   "metadata": {
    "collapsed": false
   },
   "outputs": [],
   "source": [
    "a1=1; k1=np.array([1,1,1])/np.sqrt(3)\n",
    "a2=1; k2=np.array([1,0,0])\n",
    "a3=0; k3=-k2\n",
    "a4=0; k4=-k3"
   ]
  },
  {
   "cell_type": "code",
   "execution_count": 54,
   "metadata": {
    "collapsed": false
   },
   "outputs": [],
   "source": [
    "class phi_tilde:    \n",
    "    def __init__(self,k,alpha=0,l=0,m=0):\n",
    "        self.k=k\n",
    "        self.alpha=alpha\n",
    "        self.l=l\n",
    "        self.m=m"
   ]
  },
  {
   "cell_type": "code",
   "execution_count": 55,
   "metadata": {
    "collapsed": false
   },
   "outputs": [],
   "source": [
    "phi1 = phi_tilde(k1,alpha=1)\n",
    "phi2 = phi_tilde(k2,alpha=1)\n",
    "phi3 = phi_tilde(k3,alpha=1)\n",
    "phi4 = phi_tilde(k4,alpha=0)"
   ]
  },
  {
   "cell_type": "code",
   "execution_count": 56,
   "metadata": {
    "collapsed": false
   },
   "outputs": [
    {
     "name": "stdout",
     "output_type": "stream",
     "text": [
      "ABBB\n",
      "[-1  0  0] [-1.57735027 -0.57735027 -0.57735027] [-2.57735027 -0.57735027 -0.57735027]\n",
      "ABBB\n",
      "[-1  0  0] [-1.57735027 -0.57735027 -0.57735027] [-0.57735027 -0.57735027 -0.57735027]\n",
      "ABBB\n",
      "[-1  0  0] [-2  0  0] [-2.57735027 -0.57735027 -0.57735027]\n",
      "ABBB\n",
      "[-1  0  0] [-2  0  0] [-1  0  0]\n",
      "ABBB\n",
      "[-1  0  0] [0 0 0] [-0.57735027 -0.57735027 -0.57735027]\n",
      "ABBB\n",
      "[-1  0  0] [0 0 0] [-1  0  0]\n"
     ]
    }
   ],
   "source": [
    "for ordered in perms([phi1,phi2,phi3,phi4]):\n",
    "    q1=-ordered[0].k\n",
    "    q2=-ordered[0].k-ordered[1].k\n",
    "    q3=-ordered[0].k-ordered[1].k-ordered[2].k\n",
    "    \n",
    "    sequence = (ordered[0].alpha,ordered[1].alpha,\\\n",
    "                ordered[2].alpha,ordered[3].alpha)\n",
    "    \n",
    "    if sequence == (0,0,0,0): # AAAA\n",
    "        print('AAAA')\n",
    "    \n",
    "    if sequence == (0,0,0,1): # AAAB\n",
    "        print('AAAB')   \n",
    "    \n",
    "    if sequence == (0,0,1,1): # AABB\n",
    "        print('AABB')  \n",
    "        \n",
    "    if sequence == (0,1,1,1): # ABBB\n",
    "        print('ABBB') \n",
    "        print(q1,q2,q3)\n",
    "        \n",
    "    if sequence == (1,1,1,1): # BBBB\n",
    "        print('BBBB')"
   ]
  },
  {
   "cell_type": "code",
   "execution_count": null,
   "metadata": {
    "collapsed": true
   },
   "outputs": [],
   "source": []
  }
 ],
 "metadata": {
  "anaconda-cloud": {},
  "kernelspec": {
   "display_name": "Python [conda root]",
   "language": "python",
   "name": "conda-root-py"
  },
  "language_info": {
   "codemirror_mode": {
    "name": "ipython",
    "version": 3
   },
   "file_extension": ".py",
   "mimetype": "text/x-python",
   "name": "python",
   "nbconvert_exporter": "python",
   "pygments_lexer": "ipython3",
   "version": "3.5.2"
  },
  "latex_envs": {
   "LaTeX_envs_menu_present": true,
   "autocomplete": true,
   "bibliofile": "biblio.bib",
   "cite_by": "apalike",
   "current_citInitial": 1,
   "eqLabelWithNumbers": true,
   "eqNumInitial": 1,
   "hotkeys": {
    "equation": "Ctrl-E",
    "itemize": "Ctrl-I"
   },
   "labels_anchors": false,
   "latex_user_defs": false,
   "report_style_numbering": false,
   "user_envs_cfg": false
  },
  "toc": {
   "colors": {
    "hover_highlight": "#DAA520",
    "running_highlight": "#FF0000",
    "selected_highlight": "#FFD700"
   },
   "moveMenuLeft": true,
   "nav_menu": {
    "height": "12px",
    "width": "252px"
   },
   "navigate_menu": true,
   "number_sections": true,
   "sideBar": true,
   "threshold": 4,
   "toc_cell": false,
   "toc_section_display": "block",
   "toc_window_display": false,
   "widenNotebook": false
  }
 },
 "nbformat": 4,
 "nbformat_minor": 1
}
