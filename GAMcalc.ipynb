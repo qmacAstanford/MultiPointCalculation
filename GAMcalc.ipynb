{
 "cells": [
  {
   "cell_type": "markdown",
   "metadata": {
    "deletable": true,
    "editable": true
   },
   "source": [
    "## Vertex functions\n",
    "\n",
    "This code calculates the vertex functions from random-phase-approximation\n",
    "of copolymer melts."
   ]
  },
  {
   "cell_type": "code",
   "execution_count": 1,
   "metadata": {
    "collapsed": false,
    "deletable": true,
    "editable": true
   },
   "outputs": [],
   "source": [
    "from CORRcalc import s2wlc, s2inverse, s3wlc, s4wlc, norm\n",
    "from itertools import product\n",
    "import propagator \n",
    "import numpy as np\n",
    "from scipy import optimize"
   ]
  },
  {
   "cell_type": "code",
   "execution_count": 2,
   "metadata": {
    "collapsed": false,
    "deletable": true,
    "editable": true
   },
   "outputs": [],
   "source": [
    "%matplotlib inline\n",
    "import matplotlib.pyplot as plt\n",
    "# import mpld3\n",
    "# mpld3.enable_notebook()"
   ]
  },
  {
   "cell_type": "code",
   "execution_count": 3,
   "metadata": {
    "collapsed": true
   },
   "outputs": [],
   "source": [
    "def r2(N):\n",
    "    return N - 0.5*(1-np.exp(-2*N))"
   ]
  },
  {
   "cell_type": "code",
   "execution_count": 4,
   "metadata": {
    "collapsed": false
   },
   "outputs": [],
   "source": [
    "def spinodal(pset, N, FA):\n",
    "    CHI = 0\n",
    "    K0 = 1/np.sqrt(r2(N))\n",
    "    \n",
    "    KS = optimize.fmin(lambda K: np.real(gamma2(pset, N, FA, K, CHI)), K0,\\\n",
    "                      disp=False)\n",
    "    \n",
    "    return KS"
   ]
  },
  {
   "cell_type": "markdown",
   "metadata": {
    "deletable": true,
    "editable": true
   },
   "source": [
    "## Quadratic vertex"
   ]
  },
  {
   "cell_type": "code",
   "execution_count": null,
   "metadata": {
    "collapsed": true,
    "deletable": true,
    "editable": true
   },
   "outputs": [],
   "source": [
    "def gamma2(pset, N, FA, K, CHI):\n",
    "    s2inv = s2inverse(pset, N, FA, K)\n",
    "\n",
    "    D = [1,-1]    # sign indicator\n",
    "    G = 0\n",
    "    for I0, I1 in product([0,1], repeat=2):\n",
    "        G += s2inv[I0, I1]*D[I0]*D[I1]\n",
    "        \n",
    "    return -2*CHI + N*G"
   ]
  },
  {
   "cell_type": "markdown",
   "metadata": {
    "deletable": true,
    "editable": true
   },
   "source": [
    "## Cubic Vertex"
   ]
  },
  {
   "cell_type": "code",
   "execution_count": 5,
   "metadata": {
    "collapsed": false,
    "deletable": true,
    "editable": true
   },
   "outputs": [],
   "source": [
    "def gamma3(pset, N, FA, Ks):\n",
    "    K1, K2, K3 = Ks\n",
    "    if norm(K1+K2+K3) >= 1e-10:\n",
    "        raise('Qs must add up to zero')\n",
    "        \n",
    "    if not (abs(norm(K1)-norm(K2)) < 1e-5 \\\n",
    "        and abs(norm(K2)-norm(K3)) < 1e-5):\n",
    "        raise('Qs must have same length')\n",
    "    \n",
    "    s3 = s3wlc(pset, N, FA, Ks)\n",
    "    s2inv = s2inverse(pset, N, FA, norm(K1))\n",
    "    \n",
    "    val = 0\n",
    "    for I0, I1, I2 in product([0,1], repeat=3):\n",
    "        val -= s3[I0][I1][I2]* (s2inv[I0][0] - s2inv[I0][1])*\\\n",
    "                               (s2inv[I1][0] - s2inv[I1][1])*\\\n",
    "                               (s2inv[I2][0] - s2inv[I2][1])\n",
    "\n",
    "    return val*(N**2)"
   ]
  },
  {
   "cell_type": "markdown",
   "metadata": {
    "deletable": true,
    "editable": true
   },
   "source": [
    "## Quartic Vertex"
   ]
  },
  {
   "cell_type": "code",
   "execution_count": null,
   "metadata": {
    "collapsed": true,
    "deletable": true,
    "editable": true
   },
   "outputs": [],
   "source": [
    "def gamma4(pset, wigset, N, FA, Ks):\n",
    "    K1, K2, K3, K4 = Ks\n",
    "    if not (norm(K1) == norm(K2) == norm(K3) == norm(K4)):\n",
    "        raise('Qs must have same length')\n",
    "    \n",
    "    K = norm(K1)\n",
    "    K12 = norm(K1+K2)\n",
    "    K13 = norm(K1+K3)\n",
    "    K14 = norm(K1+K4)\n",
    "    \n",
    "    s4 = s4wlc(pset, wigset, N, FA, Ks)\n",
    "    s31 = s3wlc(pset, N, FA, [K1, K2, -K1-K2])\n",
    "    s32 = s3wlc(pset, N, FA, [K1, K3, -K1-K3])\n",
    "    s33 = s3wlc(pset, N, FA, [K1, K4, -K1-K4])\n",
    "    \n",
    "    s2inv = s2inverse(pset, N, FA, K)\n",
    "    s21inv = s2inverse(pset, N, FA, K12)\n",
    "    s22inv = s2inverse(pset, N, FA, K13)\n",
    "    s23inv = s2inverse(pset, N, FA, K14)\n",
    "    \n",
    "    G4 = np.zeros((2,2,2,2),dtype=type(1+1j))\n",
    "    for a1, a2, a3, a4 in product([0,1], repeat=4):\n",
    "        for I0, I1 in product([0,1], repeat=2):\n",
    "            G4[a1][a2][a3][a4] += \\\n",
    "                s31[a1][a2][I0]*s31[a3][a4][I1]*s21inv[I0][I1] + \\\n",
    "                s32[a1][a2][I0]*s32[a3][a4][I1]*s22inv[I0][I1] + \\\n",
    "                s33[a1][a2][I0]*s33[a3][a4][I1]*s23inv[I0][I1]\n",
    "    G4 -= s4\n",
    "    \n",
    "    val = 0\n",
    "    for I0, I1, I2, I3 in product([0,1], repeat=4):\n",
    "        val += G4[I0][I1][I2][I3] *\\\n",
    "                (s2inv[I0][0] - s2inv[I0][1])*\\\n",
    "                (s2inv[I1][0] - s2inv[I1][1])*\\\n",
    "                (s2inv[I2][0] - s2inv[I2][1])*\\\n",
    "                (s2inv[I3][0] - s2inv[I3][1])\n",
    "                \n",
    "    return val*(N**3)"
   ]
  }
 ],
 "metadata": {
  "kernelspec": {
   "display_name": "Python [conda root]",
   "language": "python",
   "name": "conda-root-py"
  },
  "language_info": {
   "codemirror_mode": {
    "name": "ipython",
    "version": 3
   },
   "file_extension": ".py",
   "mimetype": "text/x-python",
   "name": "python",
   "nbconvert_exporter": "python",
   "pygments_lexer": "ipython3",
   "version": "3.5.2"
  }
 },
 "nbformat": 4,
 "nbformat_minor": 2
}
