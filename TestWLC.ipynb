{
 "cells": [
  {
   "cell_type": "code",
   "execution_count": 1,
   "metadata": {
    "collapsed": false
   },
   "outputs": [
    {
     "name": "stdout",
     "output_type": "stream",
     "text": [
      "Using matplotlib backend: Qt5Agg\n"
     ]
    }
   ],
   "source": [
    "import numpy as np\n",
    "import WLCgreen as wlc\n",
    "import propagator \n",
    "import matplotlib.pyplot as plt\n",
    "%matplotlib\n",
    "from numba import jit"
   ]
  },
  {
   "cell_type": "code",
   "execution_count": 2,
   "metadata": {
    "collapsed": true
   },
   "outputs": [],
   "source": [
    "def plotlog(x, y, alpha, xrange=1, numx=2):\n",
    "    xv = np.logspace(np.log10(x), np.log10(x) + xrange, numx)\n",
    "    C = y / (x**alpha)\n",
    "    yv = C * xv**(alpha)\n",
    "    plt.loglog(xv, yv,'k--')"
   ]
  },
  {
   "cell_type": "markdown",
   "metadata": {
    "heading_collapsed": true
   },
   "source": [
    "# Eigenvalues"
   ]
  },
  {
   "cell_type": "code",
   "execution_count": 5,
   "metadata": {
    "collapsed": false,
    "hidden": true
   },
   "outputs": [],
   "source": [
    "npts=100\n",
    "Kvals=np.logspace(-1,5,npts)\n",
    "ORDEig=30\n",
    "allEvals=np.zeros((npts,ORDEig),dtype='complex')\n",
    "mu=0\n",
    "for ii in range(0,npts):\n",
    "    allEvals[ii,:]= wlc.wlc_eigvals(Kvals[ii],ORDEig,mu)  \n",
    "plt.figure()    \n",
    "for ii in range(mu,ORDEig):\n",
    "    plt.semilogx(Kvals,np.real(allEvals[:,ii]))\n",
    "plt.ylim([-250,0])\n",
    "plt.ylabel('Re(eps_l)')\n",
    "plt.xlabel('K')\n",
    "plt.show()\n",
    "\n",
    "plt.figure() \n",
    "for ii in range(mu,ORDEig):\n",
    "    plt.semilogx(Kvals,np.imag(allEvals[:,ii]))\n",
    "plt.ylim([-250,250])\n",
    "plt.ylabel('Im(eps_l)')\n",
    "plt.xlabel('K')\n",
    "plt.show()  "
   ]
  },
  {
   "cell_type": "markdown",
   "metadata": {
    "heading_collapsed": true
   },
   "source": [
    "# Residue"
   ]
  },
  {
   "cell_type": "code",
   "execution_count": 44,
   "metadata": {
    "collapsed": false,
    "hidden": true
   },
   "outputs": [],
   "source": [
    "ORDEig=100\n",
    "\n",
    "npts=100\n",
    "npoles=5\n",
    "resPlot=np.zeros((npts,npoles),dtype='complex')\n",
    "resSmallPlot=np.zeros((npts,npoles),dtype='complex')\n",
    "resSwitch=np.zeros((npts,npoles),dtype='complex')\n",
    "Ks=np.logspace(-4,4,npts)\n",
    "for ii in range(0,npts):\n",
    "    K=Ks[ii]\n",
    "    lam0=0\n",
    "    lam=0\n",
    "    mu=0\n",
    "    eigvals = wlc.wlc_eigvals(K,ORDEig,mu,d=3)\n",
    "    for l in range(mu,npoles):\n",
    "        eig=eigvals[l]\n",
    "        res, resSmall = wlc.bothResidues(K,eig,l,mu,nlam=10,d=3)\n",
    "        resPlot[ii,l]=res[lam0,lam]\n",
    "        resSmallPlot[ii,l]=resSmall[lam0,lam]\n",
    "        resSwitch[ii,l]=wlc.residues(K,eig,l,mu,nlam=10,d=3)[lam0,lam]\n",
    "    \n"
   ]
  },
  {
   "cell_type": "code",
   "execution_count": 57,
   "metadata": {
    "collapsed": false,
    "hidden": true
   },
   "outputs": [],
   "source": [
    "fig, ax = plt.subplots()\n",
    "#ax.semilogx(Ks,resPlot.real,'r',label='res')  \n",
    "#ax.semilogx(Ks,resSmallPlot.real,'b',label='resSmallK')\n",
    "for l in range(mu,npoles):\n",
    "    #ax.loglog(Ks,abs(resPlot[:,l].real),'r',label='res '+str(l))  \n",
    "    #ax.loglog(Ks,Ks**0.0*abs(resSmallPlot[:,l].real),'c',label='resSmallK '+str(l))\n",
    "    ax.loglog(Ks,abs(resSwitch[:,l]),'-',label='resSmallK l='+str(l))\n",
    "\n",
    "#ax.legend(loc=4)\n",
    "ax.set_ylim([0.0000000000001,10])\n",
    "ax.set_title('Re(res), lam='+str(lam)+', lam0='+str(lam0)+', mu='+str(mu))\n",
    "ax.set_xlabel('K')\n",
    "ax.set_ylabel('residues')\n",
    "ax.legend(bbox_to_anchor=(1.05,1),loc=2)\n",
    "plotlog(1e2, 1e-1, -0.5, xrange=2)\n",
    "plt.show()\n",
    "\n"
   ]
  },
  {
   "cell_type": "code",
   "execution_count": 46,
   "metadata": {
    "collapsed": false,
    "hidden": true
   },
   "outputs": [],
   "source": [
    "fig, ax = plt.subplots()\n",
    "#ax.semilogx(Ks,resPlot.imag,'r',label='res')  \n",
    "#ax.semilogx(Ks,resSmallPlot.imag,'b',label='resSmallK')\n",
    "for l in range(mu,npoles):\n",
    "    ax.loglog(Ks,abs(resPlot[:,l]),'r+',label='res '+str(l))  \n",
    "    ax.loglog(Ks,abs(resSmallPlot[:,l]),'b',label='resSmallK '+str(l))\n",
    "\n",
    "ax.legend(loc=3)\n",
    "ax.set_title('Im(res), lam='+str(lam)+', lam0='+str(lam0)+', mu='+str(mu))\n",
    "ax.set_ylim([-10,10])\n",
    "plt.show()"
   ]
  },
  {
   "cell_type": "markdown",
   "metadata": {
    "collapsed": true,
    "heading_collapsed": true
   },
   "source": [
    "# G0 and dG0"
   ]
  },
  {
   "cell_type": "code",
   "execution_count": 11,
   "metadata": {
    "collapsed": false,
    "hidden": true
   },
   "outputs": [],
   "source": [
    "ORDEig=100\n",
    "lamMax=500\n",
    "npts=100\n",
    "npoles=5\n",
    "d=3\n",
    "resPlot=np.zeros((npts,npoles),dtype='complex')\n",
    "resSmallPlot=np.zeros((npts,npoles),dtype='complex')\n",
    "resSwitch=np.zeros((npts,npoles),dtype='complex')\n",
    "Ks=np.logspace(-4,4,npts)\n",
    "\n",
    "Wout=np.zeros(npts,dtype='complex')\n",
    "dWout=np.zeros(npts,dtype='complex')\n",
    "G0out=np.zeros(npts,dtype='complex')\n",
    "dG0out=np.zeros(npts,dtype='complex')\n",
    "djpout=np.zeros(npts,dtype='complex')\n",
    "djmout=np.zeros(npts,dtype='complex')\n",
    "jpout=np.zeros(npts,dtype='complex')\n",
    "jmout=np.zeros(npts,dtype='complex')\n",
    "for ii in range(0,npts):\n",
    "    K=Ks[ii]\n",
    "    lam0=2\n",
    "    lam=3\n",
    "    mu=0\n",
    "    \n",
    "    jp=wlc.get_jp(0.0,mu,K,lamMax,d)\n",
    "    jm= wlc.get_jm_zero(mu,K,lamMax,d)\n",
    "\n",
    "    djp=wlc.get_djp(0.0,mu,K,lamMax,jp,d)\n",
    "    djm=wlc.get_djm_zero(mu,K,lamMax,jm,d)\n",
    "\n",
    "\n",
    "    dwm=wlc.get_dwm_zero(jm,djm,K,lamMax,mu,d)\n",
    "    dwp=-djp/(jp**2) # This line prevents jit ???\n",
    "\n",
    "    W=wlc.get_W_zero(mu,K,lamMax,jp,jm,d)\n",
    "    dW=wlc.get_dW_zero(mu,K,lamMax,dwp,dwm,W,d)\n",
    "    \n",
    "    dWout[ii]=dW[lam0]\n",
    "    Wout[ii]=W[lam0]\n",
    "    djpout[ii]=djp[lam0]\n",
    "    djmout[ii]=djm[lam0]\n",
    "    jpout[ii]=jp[lam0]\n",
    "    jmout[ii]=jm[lam0]\n",
    "\n",
    "    G0out[ii]=wlc.get_G_zero(lam,lam0,mu,K,jm,jp,W,d)\n",
    "    dG0out[ii] =wlc.get_dG_zero(lam,lam0,mu,K,jm,jp,W,dW,dwm,dwp,d)\n",
    "           "
   ]
  },
  {
   "cell_type": "code",
   "execution_count": 12,
   "metadata": {
    "collapsed": false,
    "hidden": true
   },
   "outputs": [],
   "source": [
    "fig, ax = plt.subplots()\n",
    "#ax.semilogx(Ks,resPlot.imag,'r',label='res')  \n",
    "#ax.semilogx(Ks,resSmallPlot.imag,'b',label='resSmallK')\n",
    "for l in range(mu,npoles):\n",
    "    #ax.loglog(Ks,abs(G0out),'b')  \n",
    "    ax.loglog(Ks,abs(dG0out),'r')\n",
    "\n",
    "plt.show()"
   ]
  },
  {
   "cell_type": "markdown",
   "metadata": {
    "collapsed": true,
    "heading_collapsed": true
   },
   "source": [
    "# Laurent R, a, and b"
   ]
  },
  {
   "cell_type": "code",
   "execution_count": 2,
   "metadata": {
    "collapsed": false,
    "hidden": true
   },
   "outputs": [],
   "source": [
    "nlam=5\n",
    "ORDEig=10\n",
    "d=3\n",
    "mu=0\n",
    "\n",
    "nkpts=200\n",
    "Ks=np.logspace(-4,7,nkpts)\n",
    "props1=[] # list of propagators at each K\n",
    "props2=[] # list of propagators at each K\n",
    "for ii in range(0,nkpts):\n",
    "\n",
    "    name=ii\n",
    "    props1.append( propagator.propagator(name,Ks[ii],mu,nlam=nlam) )"
   ]
  },
  {
   "cell_type": "code",
   "execution_count": 3,
   "metadata": {
    "collapsed": true,
    "hidden": true
   },
   "outputs": [],
   "source": [
    "npoles=5\n",
    "lam=0\n",
    "lam0=0\n",
    "resPlot=np.zeros((nkpts,npoles),dtype=type(1+1j))\n",
    "aPlot=np.zeros((nkpts,npoles),dtype=type(1+1j))\n",
    "bPlot=np.zeros((nkpts,npoles),dtype=type(1+1j))\n",
    "for ii in range(0,nkpts):\n",
    "    for l in range(0,npoles):\n",
    "        resPlot[ii,l]=props1[ii].res[l][lam0,lam]\n",
    "        aPlot[ii,l]=props1[ii].a[l][lam0,lam]\n",
    "        bPlot[ii,l]=props1[ii].b[l][lam0,lam]"
   ]
  },
  {
   "cell_type": "code",
   "execution_count": 6,
   "metadata": {
    "collapsed": false,
    "hidden": true
   },
   "outputs": [],
   "source": [
    "fig, ax = plt.subplots()\n",
    "#ax.semilogx(Ks,resPlot.imag,'r',label='res')  \n",
    "#ax.semilogx(Ks,resSmallPlot.imag,'b',label='resSmallK')\n",
    "for l in range(mu,npoles):\n",
    "    col=float(l)/npoles\n",
    "    #ax.loglog(Ks,abs(resPlot[:,l]),color=[col, 0.0, 1-col],label='res '+str(l))  \n",
    "    #ax.loglog(Ks,abs(aPlot[:,l]),color=[col, 0.0, 1-col],label='a '+str(l))\n",
    "    ax.loglog(Ks,abs(bPlot[:,l]),color=[col, 0.0, 1-col],label='b '+str(l))\n",
    "ax.legend(loc=4)\n",
    "ax.set_title('Im(res), lam='+str(lam)+', lam0='+str(lam0)+', mu='+str(mu))\n",
    "#ax.set_ylim([-10,10])\n",
    "plt.show()"
   ]
  },
  {
   "cell_type": "markdown",
   "metadata": {
    "collapsed": true,
    "heading_collapsed": true
   },
   "source": [
    "# G(K,p), W and w"
   ]
  },
  {
   "cell_type": "code",
   "execution_count": 3,
   "metadata": {
    "collapsed": false,
    "hidden": true
   },
   "outputs": [],
   "source": [
    "npval=10\n",
    "p=np.logspace(-1,2,npval)\n",
    "nlam=5\n",
    "ORDEig=10\n",
    "d=3\n",
    "mu=1\n",
    "lam0=2\n",
    "lam=1\n",
    "\n",
    "nkpts=200\n",
    "Ks=np.logspace(-4,7,nkpts)\n",
    "out=np.zeros((nkpts,npval),dtype='complex')\n",
    "for ii in range(0,nkpts):\n",
    "    for jj in range(0,npval):\n",
    "        G, W, wp, wm = wlc.CalcG(Ks[ii],p[jj],mu,nlam=10,d=3,lamMax=500)\n",
    "        out[ii,jj]=G[lam0,lam]"
   ]
  },
  {
   "cell_type": "code",
   "execution_count": 4,
   "metadata": {
    "collapsed": false,
    "hidden": true
   },
   "outputs": [],
   "source": [
    "fig, ax = plt.subplots()\n",
    "#ax.semilogx(Ks,resPlot.imag,'r',label='res')  \n",
    "#ax.semilogx(Ks,resSmallPlot.imag,'b',label='resSmallK')\n",
    "for jj in range(0,npval):\n",
    "    col=float(jj)/npval\n",
    "    #ax.loglog(Ks,abs(resPlot[:,l]),color=[col, 0.0, 1-col],label='res '+str(l))  \n",
    "    #ax.loglog(Ks,abs(aPlot[:,l]),color=[col, 0.0, 1-col],label='a '+str(l))\n",
    "    ax.loglog(Ks,abs(out[:,jj]),color=[col, 0.0, 1-col],label='p='+str(p[jj]))\n",
    "ax.set_title('lam='+str(lam)+', lam0='+str(lam0)+', mu='+str(mu))\n",
    "plotlog(1e5, 5e-5, -1, xrange=2)\n",
    "#ax.set_ylim([-10,10])\n",
    "plt.show()"
   ]
  },
  {
   "cell_type": "markdown",
   "metadata": {
    "heading_collapsed": true
   },
   "source": [
    "# lim p->0 of G(K,p) and dG(k,p)"
   ]
  },
  {
   "cell_type": "markdown",
   "metadata": {
    "hidden": true
   },
   "source": [
    "Direct Calculation of G(p)"
   ]
  },
  {
   "cell_type": "code",
   "execution_count": 149,
   "metadata": {
    "collapsed": true,
    "hidden": true
   },
   "outputs": [],
   "source": [
    "npval=100\n",
    "p=-np.logspace(-7,-1,npval)\n",
    "nlam=5\n",
    "ORDEig=10\n",
    "d=3\n",
    "mu=2\n",
    "lam0=2\n",
    "lam=2\n",
    "\n",
    "nkpts=11\n",
    "Ks=np.logspace(-2,7,nkpts)\n",
    "Gofp=np.zeros((nkpts,npval),dtype='complex')\n",
    "for ii in range(0,nkpts):\n",
    "    for jj in range(0,npval):\n",
    "        G, W, wp, wm = wlc.CalcG(Ks[ii],p[jj],mu,nlam=10,d=3,lamMax=500)\n",
    "        Gofp[ii,jj]=G[lam0,lam]"
   ]
  },
  {
   "cell_type": "code",
   "execution_count": 150,
   "metadata": {
    "collapsed": false,
    "hidden": true
   },
   "outputs": [],
   "source": [
    "dGofp=np.zeros((nkpts,npval-1),dtype='complex')\n",
    "for ii in range(0,nkpts):\n",
    "    dGofp[ii,:]=(Gofp[ii,1:]-Gofp[ii,0:-1])/(p[1:]-p[0:-1])\n",
    "p2=0.5*(p[1:]+p[0:-1])"
   ]
  },
  {
   "cell_type": "markdown",
   "metadata": {
    "hidden": true
   },
   "source": [
    "G(p) in limit p->0"
   ]
  },
  {
   "cell_type": "code",
   "execution_count": 151,
   "metadata": {
    "collapsed": false,
    "hidden": true
   },
   "outputs": [],
   "source": [
    "lamMax=500\n",
    "G0=np.zeros((nkpts),dtype='complex')\n",
    "dG0=np.zeros((nkpts),dtype='complex')\n",
    "for ii in range(0,nkpts):\n",
    "    K=Ks[ii]\n",
    "    jp=wlc.get_jp(0.0,mu,K,lamMax,d)\n",
    "    jm= wlc.get_jm_zero(mu,K,lamMax,d)\n",
    "\n",
    "    djp=wlc.get_djp(0.0,mu,K,lamMax,jp,d)\n",
    "    djm=wlc.get_djm_zero(mu,K,lamMax,jm,d)\n",
    "\n",
    "\n",
    "    dwm=wlc.get_dwm_zero(jm,djm,K,lamMax,mu,d)\n",
    "    dwp=-djp/(jp**2) # This line prevents jit ???\n",
    "\n",
    "    W=wlc.get_W_zero(mu,K,lamMax,jp,jm,d)\n",
    "    dW=wlc.get_dW_zero(mu,K,lamMax,dwp,dwm,W,d)\n",
    "\n",
    "\n",
    "    G0[ii]=wlc.get_G_zero(lam,lam0,mu,K,jm,jp,W,d)\n",
    "    dG0[ii]=wlc.get_dG_zero(lam,lam0,mu,K,jm,jp,W,dW,dwm,dwp,d)\n"
   ]
  },
  {
   "cell_type": "code",
   "execution_count": 152,
   "metadata": {
    "collapsed": false,
    "hidden": true
   },
   "outputs": [
    {
     "data": {
      "text/plain": [
       "array([  1.66666634e-01+0.j,   1.66664580e-01+0.j,   1.66535163e-01+0.j,\n",
       "         1.58900676e-01+0.j,   6.21040664e-02+0.j,   9.11516471e-03+0.j,\n",
       "         1.16935559e-03+0.j,   1.47561593e-04+0.j,   1.85824315e-05+0.j,\n",
       "         2.33947714e-06+0.j,   2.94655502e-07+0.j])"
      ]
     },
     "execution_count": 152,
     "metadata": {},
     "output_type": "execute_result"
    }
   ],
   "source": [
    "G0"
   ]
  },
  {
   "cell_type": "code",
   "execution_count": 153,
   "metadata": {
    "collapsed": false,
    "hidden": true
   },
   "outputs": [],
   "source": [
    "fig, ax = plt.subplots()\n",
    "#ax.semilogx(Ks,resPlot.imag,'r',label='res')  \n",
    "#ax.semilogx(Ks,resSmallPlot.imag,'b',label='resSmallK')\n",
    "for ii in range(0,nkpts):\n",
    "    col=float(ii)/nkpts\n",
    "    #ax.loglog(Ks,abs(resPlot[:,l]),color=[col, 0.0, 1-col],label='res '+str(l))  \n",
    "    #ax.loglog(Ks,abs(aPlot[:,l]),color=[col, 0.0, 1-col],label='a '+str(l))\n",
    "    ax.semilogy(p,abs(Gofp[ii,:]),'+-',color=[col, 0.0, 1-col],label='K='+str(Ks[ii]))\n",
    "    ax.semilogy(0.0,abs(G0[ii]),'o',color=[col, 0.0, 1-col])\n",
    "ax.set_title('lam='+str(lam)+', lam0='+str(lam0)+', mu='+str(mu))\n",
    "ax.set_ylabel('G')\n",
    "ax.set_xlabel('p')\n",
    "plt.show()"
   ]
  },
  {
   "cell_type": "code",
   "execution_count": 154,
   "metadata": {
    "collapsed": false,
    "hidden": true
   },
   "outputs": [],
   "source": [
    "fig, ax = plt.subplots()\n",
    "#ax.semilogx(Ks,resPlot.imag,'r',label='res')  \n",
    "#ax.semilogx(Ks,resSmallPlot.imag,'b',label='resSmallK')\n",
    "for ii in range(0,nkpts):\n",
    "    col=float(ii)/nkpts\n",
    "    #ax.loglog(Ks,abs(resPlot[:,l]),color=[col, 0.0, 1-col],label='res '+str(l))  \n",
    "    #ax.loglog(Ks,abs(aPlot[:,l]),color=[col, 0.0, 1-col],label='a '+str(l))\n",
    "    ax.semilogy(p2,abs(dGofp[ii,:]),'+-',color=[col, 0.0, 1-col],label='K='+str(Ks[ii]))\n",
    "    ax.semilogy(0.0,abs(dG0[ii]),'o',color=[col, 0.0, 1-col])\n",
    "ax.set_title('lam='+str(lam)+', lam0='+str(lam0)+', mu='+str(mu))\n",
    "ax.set_ylabel('dG')\n",
    "ax.set_xlabel('p')\n",
    "plt.show()"
   ]
  },
  {
   "cell_type": "markdown",
   "metadata": {},
   "source": [
    "# G(K,N)"
   ]
  },
  {
   "cell_type": "code",
   "execution_count": 5,
   "metadata": {
    "collapsed": false
   },
   "outputs": [],
   "source": [
    "nlam=5\n",
    "ORDEig=25\n",
    "d=3\n",
    "mu=0\n",
    "\n",
    "nkpts=2000\n",
    "Ks=np.logspace(-3,7,nkpts)\n",
    "props1=[] # list of propagators at each K\n",
    "props2=[] # list of propagators at each K\n",
    "for ii in range(0,nkpts):\n",
    "\n",
    "    name=ii\n",
    "    props1.append( propagator.propagator(name,Ks[ii],mu,nlam=nlam) )\n",
    "\n",
    "\n"
   ]
  },
  {
   "cell_type": "code",
   "execution_count": 6,
   "metadata": {
    "collapsed": false
   },
   "outputs": [],
   "source": [
    "N=np.array([0.01,0.1,1,10,100,1000])\n",
    "lam=0\n",
    "lam0=0\n",
    "nnvals=len(N)\n",
    "G=np.zeros((nkpts,nnvals),dtype=type(1+1j))\n",
    "for ii in range(0,nkpts):\n",
    "    for nn in range(0,nnvals):\n",
    "        G[ii,nn] = props1[ii].get_G(N[nn],lam0,lam)"
   ]
  },
  {
   "cell_type": "code",
   "execution_count": 20,
   "metadata": {
    "collapsed": false
   },
   "outputs": [],
   "source": [
    "fig, ax = plt.subplots()\n",
    "#ax.semilogx(Ks,resPlot.imag,'r',label='res')  \n",
    "#ax.semilogx(Ks,resSmallPlot.imag,'b',label='resSmallK')\n",
    "for jj in range(0,nnvals):\n",
    "    col=float(jj)/nnvals\n",
    "    #ax.loglog(Ks,abs(resPlot[:,l]),color=[col, 0.0, 1-col],label='res '+str(l))  \n",
    "    #ax.loglog(Ks,abs(aPlot[:,l]),color=[col, 0.0, 1-col],label='a '+str(l))\n",
    "    ax.loglog(Ks,G[:,jj].real,color=[col, 0.0, 1-col],label='N='+str(N[jj]))\n",
    "    ax.loglog(Ks,np.sin(Ks*N[jj])/(Ks*N[jj]),':',color=[col, 0.0, 1-col],label='sin(kN)/(kN)')\n",
    "ax.set_title('lam='+str(lam)+', lam0='+str(lam0)+', mu='+str(mu))\n",
    "ax.set_xlabel('K')\n",
    "ax.set_ylabel('G(K,N)')\n",
    "ax.legend(loc=3)\n",
    "plotlog(1e3, 2e-1, -1, xrange=2)\n",
    "ax.set_ylim([10**-12,2])\n",
    "plt.show()"
   ]
  },
  {
   "cell_type": "markdown",
   "metadata": {},
   "source": [
    "# G(R,N)"
   ]
  },
  {
   "cell_type": "code",
   "execution_count": 86,
   "metadata": {
    "collapsed": false
   },
   "outputs": [],
   "source": [
    "import scipy.special as special\n",
    "from scipy.interpolate import splint\n",
    "from scipy.interpolate import splrep"
   ]
  },
  {
   "cell_type": "code",
   "execution_count": 145,
   "metadata": {
    "collapsed": false
   },
   "outputs": [],
   "source": [
    "nrvals=100\n",
    "r=np.linspace(0,1,nrvals) # R/L or R/L\n",
    "\n",
    "integral=np.zeros((nrvals,nnvals))\n",
    "for jj in range(0,nnvals):\n",
    "    for ii in range(0,nrvals):\n",
    "        y=Ks**2 * special.spherical_jn(0,Ks*r[ii]*N[jj]) * G[:,jj].real\n",
    "        tck=splrep(Ks,y,k=1)\n",
    "        integral[ii,jj] = splint(0,Ks[-1],tck)"
   ]
  },
  {
   "cell_type": "code",
   "execution_count": 146,
   "metadata": {
    "collapsed": false
   },
   "outputs": [],
   "source": [
    "fig, ax = plt.subplots()\n",
    "#ax.semilogx(Ks,resPlot.imag,'r',label='res')  \n",
    "#ax.semilogx(Ks,resSmallPlot.imag,'b',label='resSmallK')\n",
    "for jj in range(1,nnvals):\n",
    "    col=float(jj)/nnvals\n",
    "    #ax.loglog(Ks,abs(resPlot[:,l]),color=[col, 0.0, 1-col],label='res '+str(l))  \n",
    "    #ax.loglog(Ks,abs(aPlot[:,l]),color=[col, 0.0, 1-col],label='a '+str(l))\n",
    "    ax.plot(r,N[jj]**3*integral[:,jj],color=[col, 0.0, 1-col],label='N='+str(N[jj]))\n",
    "ax.set_title('lam='+str(lam)+', lam0='+str(lam0)+', mu='+str(mu))\n",
    "ax.set_xlabel('R/L')\n",
    "ax.set_ylabel('L^3 G(R,L)')\n",
    "ax.legend()\n",
    "ax.set_xlim([0,1.0])\n",
    "ax.set_ylim([0,1000])\n",
    "plt.show()"
   ]
  },
  {
   "cell_type": "code",
   "execution_count": 147,
   "metadata": {
    "collapsed": true
   },
   "outputs": [],
   "source": [
    "fig, ax = plt.subplots()\n",
    "#ax.semilogx(Ks,resPlot.imag,'r',label='res')  \n",
    "#ax.semilogx(Ks,resSmallPlot.imag,'b',label='resSmallK')\n",
    "for jj in range(1,nnvals):\n",
    "    col=float(jj)/nnvals\n",
    "    #ax.loglog(Ks,abs(resPlot[:,l]),color=[col, 0.0, 1-col],label='res '+str(l))  \n",
    "    #ax.loglog(Ks,abs(aPlot[:,l]),color=[col, 0.0, 1-col],label='a '+str(l))\n",
    "    ax.semilogy(r,N[jj]**3*integral[:,jj],color=[col, 0.0, 1-col],label='N='+str(N[jj]))\n",
    "ax.set_title('lam='+str(lam)+', lam0='+str(lam0)+', mu='+str(mu))\n",
    "ax.set_xlabel('R/L')\n",
    "ax.set_ylabel('L^3 G(R,L)')\n",
    "ax.legend()\n",
    "ax.set_xlim([0,1.0])\n",
    "plt.show()"
   ]
  },
  {
   "cell_type": "code",
   "execution_count": null,
   "metadata": {
    "collapsed": true
   },
   "outputs": [],
   "source": []
  }
 ],
 "metadata": {
  "anaconda-cloud": {},
  "kernelspec": {
   "display_name": "Python [conda root]",
   "language": "python",
   "name": "conda-root-py"
  },
  "language_info": {
   "codemirror_mode": {
    "name": "ipython",
    "version": 3
   },
   "file_extension": ".py",
   "mimetype": "text/x-python",
   "name": "python",
   "nbconvert_exporter": "python",
   "pygments_lexer": "ipython3",
   "version": "3.5.2"
  },
  "latex_envs": {
   "LaTeX_envs_menu_present": true,
   "autocomplete": true,
   "bibliofile": "biblio.bib",
   "cite_by": "apalike",
   "current_citInitial": 1,
   "eqLabelWithNumbers": true,
   "eqNumInitial": 1,
   "hotkeys": {
    "equation": "Ctrl-E",
    "itemize": "Ctrl-I"
   },
   "labels_anchors": false,
   "latex_user_defs": false,
   "report_style_numbering": false,
   "user_envs_cfg": false
  },
  "toc": {
   "colors": {
    "hover_highlight": "#DAA520",
    "running_highlight": "#FF0000",
    "selected_highlight": "#FFD700"
   },
   "moveMenuLeft": true,
   "nav_menu": {
    "height": "12px",
    "width": "252px"
   },
   "navigate_menu": true,
   "number_sections": true,
   "sideBar": true,
   "threshold": 4,
   "toc_cell": false,
   "toc_section_display": "block",
   "toc_window_display": false,
   "widenNotebook": false
  }
 },
 "nbformat": 4,
 "nbformat_minor": 1
}
