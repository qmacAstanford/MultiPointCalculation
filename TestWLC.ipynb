{
 "cells": [
  {
   "cell_type": "code",
   "execution_count": 1,
   "metadata": {
    "collapsed": false
   },
   "outputs": [
    {
     "name": "stdout",
     "output_type": "stream",
     "text": [
      "Using matplotlib backend: Qt5Agg\n"
     ]
    }
   ],
   "source": [
    "import numpy as np\n",
    "import WLCgreen as wlc\n",
    "import matplotlib.pyplot as plt\n",
    "%matplotlib\n",
    "from numba import jit"
   ]
  },
  {
   "cell_type": "markdown",
   "metadata": {},
   "source": [
    "# Eigenvalues"
   ]
  },
  {
   "cell_type": "code",
   "execution_count": 2,
   "metadata": {
    "collapsed": false
   },
   "outputs": [],
   "source": [
    "npts=100\n",
    "Kvals=np.logspace(-1,5,npts)\n",
    "ORDEig=30\n",
    "allEvals=np.zeros((npts,ORDEig),dtype='complex')\n",
    "mu=0\n",
    "for ii in range(0,npts):\n",
    "    allEvals[ii,:]= wlc.wlc_eigvals(Kvals[ii],ORDEig,mu)  \n",
    "    \n",
    "for ii in range(mu,ORDEig):\n",
    "    plt.semilogx(Kvals,np.real(allEvals[:,ii]))\n",
    "    \n",
    "plt.figure()\n",
    "plt.ylim([-250,0])\n",
    "plt.show()\n",
    "for ii in range(mu,ORDEig):\n",
    "    plt.semilogx(Kvals,np.imag(allEvals[:,ii]))\n",
    "plt.ylim([-250,250])\n",
    "plt.show()  "
   ]
  },
  {
   "cell_type": "markdown",
   "metadata": {},
   "source": [
    "# G and derivatives"
   ]
  },
  {
   "cell_type": "code",
   "execution_count": 3,
   "metadata": {
    "collapsed": false
   },
   "outputs": [],
   "source": [
    "mu=2\n",
    "K=1.0\n",
    "lamMax=500\n",
    "lamNeed=10\n",
    "lower=-25\n",
    "\n",
    "npts=5000\n",
    "pp=np.linspace(lower,0.01,npts)\n",
    "out=np.zeros([npts,5],dtype='complex')\n",
    "out2=np.zeros([npts,3],dtype='complex')\n",
    "for ii in range(0,npts):\n",
    "    p=pp[ii]\n",
    "    jp=wlc.get_jp(p,mu,K,lamMax)\n",
    "    jm= wlc.get_jm(p,mu,K,lamMax)\n",
    "    djp=wlc.get_djp(p,mu,K,lamMax,jp)\n",
    "    djm=wlc.get_djm(p,mu,K,lamMax,jm)\n",
    "    W=wlc.get_W(p,mu,K,lamMax,jp,jm)\n",
    "    dwm=wlc.get_dw(jm,djm,mu)\n",
    "    dwp=wlc.get_dw(jp,djp,mu)\n",
    "    dW=wlc.get_dW(p,mu,K,lamMax,dwp,dwm,W)\n",
    "    \n",
    "    lam=2\n",
    "    lam0=2\n",
    "    out[ii,0]=wlc.InvGprimeGeneral(p,lam,lam0,mu,K,jp,jm,djp,djm)\n",
    "    out[ii,1]=wlc.Xp(lam,lam0,jp)\n",
    "    out[ii,2]=wlc.X1(p,lam0,mu,K,jp,jm)*wlc.Xpprime(lam,lam0,jp,djp,out[ii,1])\n",
    "    out[ii,3]=wlc.get_G(p,lam,lam0,mu,K,jm,jp,W)\n",
    "    out[ii,4]=wlc.InvG(p,lam,lam0,mu,K,jp,jm)\n",
    "    \n",
    "    G=wlc.get_G_zero(lam,lam0,mu,K,jm,jp,W)\n",
    "    dG=wlc.get_dG_zero(lam,lam0,mu,K,jm,jp,W,dW,dwm,dwp)\n",
    "    dG=wlc.get_dG(p,lam,lam0,mu,K,jm,jp,W,dW,dwm,dwp)\n",
    "\n",
    "ORDEig=100\n",
    "eigvals = wlc.wlc_eigvals(K,ORDEig,mu,d=3)"
   ]
  },
  {
   "cell_type": "code",
   "execution_count": 4,
   "metadata": {
    "collapsed": false
   },
   "outputs": [],
   "source": [
    "fig, ax = plt.subplots()\n",
    "ax.plot(pp,out[:,0].real,label='d(1/G)/dp')\n",
    "#ax.plot(pp,out[:,1].real,label='Xp')\n",
    "#ax.plot(pp,out[:,2].real,label='X1*dXp')\n",
    "#ax.plot(pp,out[:,3].real,label='G')\n",
    "ax.plot(pp,out[:,4].real,label='1/G')\n",
    "ax.plot(eigvals.real,eigvals.real*0.0,'o',label='eigval')\n",
    "ax.legend()\n",
    "ax.set_xlabel('p')\n",
    "ax.set_ylim([-30,30])\n",
    "ax.set_xlim([lower,0])\n",
    "\n",
    "#plt.plot(pp,out[:,0].real,label='d(1/G)/dp')\n",
    "#plt.plot(pp,out[:,1].real,label='X1')\n",
    "#plt.legend()\n",
    "#plt.xlabel('p')\n",
    "#plt.ylabel('value')\n",
    "#plt.ylim([-100,100])\n",
    "\n",
    "# using 'spines', new in Matplotlib 1.0\n",
    "ax.spines['left'].set_position('zero')\n",
    "ax.spines['right'].set_color('none')\n",
    "ax.spines['bottom'].set_position('zero')\n",
    "ax.spines['top'].set_color('none')\n",
    "plt.show()\n",
    "\n"
   ]
  },
  {
   "cell_type": "markdown",
   "metadata": {},
   "source": [
    "# Residue"
   ]
  },
  {
   "cell_type": "code",
   "execution_count": 5,
   "metadata": {
    "collapsed": false
   },
   "outputs": [],
   "source": [
    "ORDEig=100\n",
    "\n",
    "npts=500\n",
    "npoles=40\n",
    "resPlot=np.zeros((npts,npoles),dtype='complex')\n",
    "resSmallPlot=np.zeros((npts,npoles),dtype='complex')\n",
    "resSwitch=np.zeros((npts,npoles),dtype='complex')\n",
    "Ks=np.logspace(-4,4,npts)\n",
    "for ii in range(0,npts):\n",
    "    K=Ks[ii]\n",
    "    lam0=0\n",
    "    lam=0\n",
    "    mu=0\n",
    "    eigvals = wlc.wlc_eigvals(K,ORDEig,mu,d=3)\n",
    "    for l in range(mu,npoles):\n",
    "        eig=eigvals[l]\n",
    "        res, resSmall = wlc.bothResidues(K,eig,l,mu,nlam=10,d=3)\n",
    "        resPlot[ii,l]=res[lam0,lam]\n",
    "        resSmallPlot[ii,l]=resSmall[lam0,lam]\n",
    "        resSwitch[ii,l]=wlc.residues(K,eig,l,mu,nlam=10,d=3)[lam0,lam]\n",
    "    \n"
   ]
  },
  {
   "cell_type": "code",
   "execution_count": 6,
   "metadata": {
    "collapsed": false
   },
   "outputs": [],
   "source": [
    "fig, ax = plt.subplots()\n",
    "#ax.semilogx(Ks,resPlot.real,'r',label='res')  \n",
    "#ax.semilogx(Ks,resSmallPlot.real,'b',label='resSmallK')\n",
    "for l in range(mu,npoles):\n",
    "    #ax.loglog(Ks,abs(resPlot[:,l].real),'r',label='res '+str(l))  \n",
    "    #ax.loglog(Ks,Ks**0.0*abs(resSmallPlot[:,l].real),'c',label='resSmallK '+str(l))\n",
    "    ax.loglog(Ks,Ks**0.0*abs(resSwitch[:,l].real),'k-',label='resSmallK '+str(l))\n",
    "\n",
    "#ax.legend(loc=4)\n",
    "ax.set_ylim([0.0000000000001,10])\n",
    "ax.set_title('Re(res), lam='+str(lam)+', lam0='+str(lam0)+', mu='+str(mu))\n",
    "ax.set_xlabel('K')\n",
    "ax.set_ylabel('residues * K^0')\n",
    "plt.show()\n",
    "\n"
   ]
  },
  {
   "cell_type": "code",
   "execution_count": 4,
   "metadata": {
    "collapsed": false
   },
   "outputs": [],
   "source": [
    "fig, ax = plt.subplots()\n",
    "#ax.semilogx(Ks,resPlot.imag,'r',label='res')  \n",
    "#ax.semilogx(Ks,resSmallPlot.imag,'b',label='resSmallK')\n",
    "for l in range(mu,npoles):\n",
    "    ax.loglog(Ks,abs(resPlot[:,l].imag),'r',label='res '+str(l))  \n",
    "    ax.loglog(Ks,abs(resSmallPlot[:,l].imag),'b',label='resSmallK '+str(l))\n",
    "\n",
    "ax.legend(loc=3)\n",
    "ax.set_title('Im(res), lam='+str(lam)+', lam0='+str(lam0)+', mu='+str(mu))\n",
    "ax.set_ylim([-10,10])\n",
    "plt.show()"
   ]
  },
  {
   "cell_type": "code",
   "execution_count": null,
   "metadata": {
    "collapsed": true
   },
   "outputs": [],
   "source": []
  }
 ],
 "metadata": {
  "anaconda-cloud": {},
  "kernelspec": {
   "display_name": "Python [conda root]",
   "language": "python",
   "name": "conda-root-py"
  },
  "language_info": {
   "codemirror_mode": {
    "name": "ipython",
    "version": 3
   },
   "file_extension": ".py",
   "mimetype": "text/x-python",
   "name": "python",
   "nbconvert_exporter": "python",
   "pygments_lexer": "ipython3",
   "version": "3.5.2"
  },
  "latex_envs": {
   "LaTeX_envs_menu_present": true,
   "autocomplete": true,
   "bibliofile": "biblio.bib",
   "cite_by": "apalike",
   "current_citInitial": 1,
   "eqLabelWithNumbers": true,
   "eqNumInitial": 1,
   "hotkeys": {
    "equation": "Ctrl-E",
    "itemize": "Ctrl-I"
   },
   "labels_anchors": false,
   "latex_user_defs": false,
   "report_style_numbering": false,
   "user_envs_cfg": false
  },
  "toc": {
   "colors": {
    "hover_highlight": "#DAA520",
    "running_highlight": "#FF0000",
    "selected_highlight": "#FFD700"
   },
   "moveMenuLeft": true,
   "nav_menu": {
    "height": "12px",
    "width": "252px"
   },
   "navigate_menu": true,
   "number_sections": true,
   "sideBar": true,
   "threshold": 4,
   "toc_cell": false,
   "toc_section_display": "block",
   "toc_window_display": false,
   "widenNotebook": false
  }
 },
 "nbformat": 4,
 "nbformat_minor": 1
}
