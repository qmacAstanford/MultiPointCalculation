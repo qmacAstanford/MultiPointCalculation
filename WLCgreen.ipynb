{
 "cells": [
  {
   "cell_type": "markdown",
   "metadata": {
    "collapsed": true
   },
   "source": [
    "# Eigenvalues and Summand for WLC"
   ]
  },
  {
   "cell_type": "markdown",
   "metadata": {},
   "source": [
    "This is a python implementation of eigenvalue and summand evaluation for the worm like chain propagator based on the 2007 paper \"End-to-End distribution for a wormlike chain in arbitrary dimensions\" by Shafigh Mehraeen, Bariz Sudhanshu, Elena Koslover, and Andrew Spakowitz.\n",
    "This code was translated into python from matlab by Quinn in 2017."
   ]
  },
  {
   "cell_type": "code",
   "execution_count": 1,
   "metadata": {
    "collapsed": true
   },
   "outputs": [],
   "source": [
    "import numpy as np\n",
    "from numba import jit"
   ]
  },
  {
   "cell_type": "markdown",
   "metadata": {},
   "source": [
    "$\n",
    "a_j^\\mu=\\sqrt{\\frac{(j-\\mu)(j+\\mu+D-3)}{(2j+D-2)(2j+D-4)}}\n",
    "$"
   ]
  },
  {
   "cell_type": "code",
   "execution_count": 2,
   "metadata": {
    "collapsed": true
   },
   "outputs": [],
   "source": [
    "@jit(nopython=True)\n",
    "def get_a(lam,mu,d=3):\n",
    "    return np.sqrt((lam-mu)*(lam+mu+d-3)/\\\n",
    "                   float((2*lam+d-2)*(2*lam+d-4)))"
   ]
  },
  {
   "cell_type": "markdown",
   "metadata": {},
   "source": [
    "## Eigenvalues"
   ]
  },
  {
   "cell_type": "code",
   "execution_count": 3,
   "metadata": {
    "collapsed": true
   },
   "outputs": [],
   "source": [
    "# eigvals = wlc.wlc_eigvals(k,ORDEig,mu,d=3)"
   ]
  },
  {
   "cell_type": "markdown",
   "metadata": {
    "heading_collapsed": true
   },
   "source": [
    "### Intermediate K"
   ]
  },
  {
   "cell_type": "markdown",
   "metadata": {
    "hidden": true
   },
   "source": [
    "We would like to calculate the eigenvalues denoted $\\epsilon_l$ in the paper.  These values depend on the z-component quantum number $\\mu$ and the magnitude of the Fourier frequency $K$."
   ]
  },
  {
   "cell_type": "markdown",
   "metadata": {
    "hidden": true
   },
   "source": [
    "In the intermediate K regime we use the method in appendix A.2. We find the eigenvalues of the tri-diagonal matrix $J$ where the diagonal elements are \n",
    "$$\n",
    "J_{j,j}=(\\mu+j-1)(\\mu+j+D-3)\n",
    "$$\n",
    "And off diagonal elements by\n",
    "$$\n",
    "J_{j+1,j}=J_{j,j+1}=-ia_{\\mu+j}^{\\mu}K\n",
    "$$\n",
    "only the eigenvalues ORDEig eigenvalues with the largest real part are returned."
   ]
  },
  {
   "cell_type": "code",
   "execution_count": 4,
   "metadata": {
    "collapsed": true,
    "hidden": true
   },
   "outputs": [],
   "source": [
    "@jit(nopython=True)\n",
    "def make_E(n,mu,K,d=3):\n",
    "    E=np.zeros((n,n),dtype=type(1+1j))\n",
    "    left=(0+0j)*np.NaN\n",
    "    for row in range(0,n):\n",
    "        j=row+1\n",
    "        if K<=1:\n",
    "            right=-1j*K*get_a(j+mu,mu,d) # for above diagonal\n",
    "            if row>0:\n",
    "                left=-1j*K*get_a(j+mu-1,mu,d) # for below diagonal\n",
    "            diag=(mu+j-1)*(mu+j+d-3) # diagonal element\n",
    "            if row==0:\n",
    "                E[row,0:2]=[diag,right]\n",
    "            elif row==n-1:\n",
    "                E[row,row-1:row+1]=[left,diag]\n",
    "            else:\n",
    "                E[row,row-1:row+2]=[left,diag,right]\n",
    "        else:\n",
    "            right=-1j*get_a(j+mu,mu,d) # for above diagonal\n",
    "            if row>0:\n",
    "                left=-1j*get_a(j+mu-1,mu,d) # for below diagonal\n",
    "            diag=(mu+j-1)*(mu+j+d-3.0)/K # diagonal element\n",
    "            if row==0:\n",
    "                E[row,0:2]=[diag,right]\n",
    "            elif row==n-1:\n",
    "                E[row,row-1:row+1]=[left,diag]\n",
    "            else:\n",
    "                E[row,row-1:row+2]=[left,diag,right]\n",
    "    return E"
   ]
  },
  {
   "cell_type": "code",
   "execution_count": 5,
   "metadata": {
    "collapsed": false,
    "hidden": true
   },
   "outputs": [],
   "source": [
    "# Returns top ORDEig eigenvalus using Intermediate K methode\n",
    "#@jit #(nopython=True)\n",
    "def IntermediateKEigenValues(K,ORDEig,mu,d=3):\n",
    "    N=int(2*(np.ceil(ORDEig/2.0))) # Eigenvalues come in pairs\n",
    "    \n",
    "    n=int(4*N) # Calculate extra \n",
    "    E=make_E(n,mu,K,d)\n",
    "    #import scipy.sparse as sp\n",
    "    #from scipy.sparse import linalg as sp_linalg\n",
    "    #dmtrx = sp.dia_matrix.todia(E)\n",
    "    #evals = sp_linalg.eigs(dmtrx,N,which='LR',return_eigenvectors=False)\n",
    "    evals = -1*np.linalg.eigvals(E)    \n",
    "    evals = np.sort(evals)[::-1]\n",
    "    \n",
    "    # Fix sorting\n",
    "    for ii in range(0,N,2):\n",
    "        evals[ii]=np.real(evals[ii])+1j*abs(np.imag(evals[ii]))\n",
    "        evals[ii+1]=np.real(evals[ii+1])-1j*abs(np.imag(evals[ii+1]))\n",
    "    \n",
    "    if K>1:\n",
    "        evals=evals*K\n",
    "    \n",
    "    out=np.zeros(ORDEig,'complex')*np.NaN\n",
    "    out[abs(mu):]=evals[0:ORDEig-abs(mu)]\n",
    "    return out\n",
    "    "
   ]
  },
  {
   "cell_type": "markdown",
   "metadata": {
    "heading_collapsed": true
   },
   "source": [
    "### Large K"
   ]
  },
  {
   "cell_type": "code",
   "execution_count": 6,
   "metadata": {
    "collapsed": false,
    "hidden": true
   },
   "outputs": [],
   "source": [
    "# implementation equivalent to table II fore E\n",
    "def Epsilon(l,d,alpha,mu):\n",
    "    beta=-np.sqrt(2)/4*(1+1j);\n",
    "    m=mu+(d-3)/2.0;  # Q.J.M. changes this line 8/1/15\n",
    "    n=2*l+m+1;  # also know as s\n",
    "\n",
    "    epsilon_0=(-1.0/2/beta)**(-1)*(n/2.0);\n",
    "    epsilon_1=(-1.0/2/beta)**( 0)*(-1.0/8*(n**2+3-3*m**2)-m*(m+1));\n",
    "    epsilon_2=(-1.0/2/beta)**( 1)*(-1.0/2**5*n*(n**2+3-9*m**2));\n",
    "    epsilon_3=(-1.0/2/beta)**( 2)*(-1.0/2**8*(5*n**4+34*n**2+9)-(102*n**2+42)*m**2+33*m**4);\n",
    "    epsilon_4=(-1.0/2/beta)**( 3)*(-1.0/2**11*n*(33*n**4+410*n**2+405)-(1230*n**2+1722)*m**2\\\n",
    "                                        +813*m**4);\n",
    "    epsilon_5=(-1.0/2/beta)**( 4)*(-1.0/2**12*9*(7*n**6+140*n**4+327*n**2\\\n",
    "                                        +54-(420*n**4+1350*n**2+286)*m**2\\\n",
    "                                        +(495*n**2+314)*m**4-82*m**6));\n",
    "\n",
    "    value=epsilon_0/alpha+epsilon_1+epsilon_2*alpha+epsilon_3*alpha**2+ \\\n",
    "          epsilon_4*alpha**3+epsilon_5*alpha**4;\n",
    "    return value"
   ]
  },
  {
   "cell_type": "markdown",
   "metadata": {
    "hidden": true
   },
   "source": [
    "Large K eigenvalues are implemented via\n",
    "$\n",
    "   \\epsilon_{2l}=iK-\\mu(\\mu+D-2)-\\frac{1}{\\alpha}\\sum_{n=0}^{\\infty}E_n^{(l)}\\alpha^n\n",
    "$"
   ]
  },
  {
   "cell_type": "code",
   "execution_count": 7,
   "metadata": {
    "collapsed": true,
    "hidden": true
   },
   "outputs": [],
   "source": [
    "def LargeKEigenValues(k,ORDEig,mu,d=3):\n",
    "    Eig=np.zeros(ORDEig+1,dtype='complex')*np.NaN\n",
    "    for l in range(0,ORDEig,2):\n",
    "        alpha=1.0/np.sqrt(8*k)\n",
    "        Eig[l]=1j*k-mu*(mu+d-2)-Epsilon(l/2.0,d,alpha,mu)\n",
    "        Eig[l+1]=np.conj(Eig[l])\n",
    "        \n",
    "    out=np.zeros(ORDEig,'complex')*np.NaN\n",
    "    out[mu:]=Eig[0:ORDEig-mu]\n",
    "    return out\n",
    "    "
   ]
  },
  {
   "cell_type": "code",
   "execution_count": 8,
   "metadata": {
    "collapsed": false,
    "hidden": true
   },
   "outputs": [],
   "source": [
    "# Cutoff based on graph\n",
    "def wlc_eigvals(k,ORDEig,mu,d=3):\n",
    "    cutoff=800\n",
    "    if abs(k)<cutoff:\n",
    "        Eig=IntermediateKEigenValues(k,ORDEig,mu,d)\n",
    "    else:\n",
    "        Eig=LargeKEigenValues(k,ORDEig,mu,d)\n",
    "    return Eig"
   ]
  },
  {
   "cell_type": "markdown",
   "metadata": {},
   "source": [
    "## GLM"
   ]
  },
  {
   "cell_type": "markdown",
   "metadata": {},
   "source": [
    "### G"
   ]
  },
  {
   "cell_type": "code",
   "execution_count": 3,
   "metadata": {
    "collapsed": true
   },
   "outputs": [],
   "source": [
    "# sequence of integers from first to last\n",
    "# for example seq(2,5)=2,3,4,5\n",
    "@jit(nopython=True)\n",
    "def seq(first,last):\n",
    "    if first<=last:\n",
    "        return np.arange(first,last+1)\n",
    "    else:\n",
    "        return np.arange(first,last-1,-1)"
   ]
  },
  {
   "cell_type": "markdown",
   "metadata": {},
   "source": [
    "$$\n",
    "P_{\\lambda}=p+\\lambda\\left(\\lambda+d-2\\right)\n",
    "$$"
   ]
  },
  {
   "cell_type": "code",
   "execution_count": 4,
   "metadata": {
    "collapsed": true
   },
   "outputs": [],
   "source": [
    "@jit(nopython=True)\n",
    "def get_P(lam,p,d=3):\n",
    "    return p+lam*(lam+d-2)"
   ]
  },
  {
   "cell_type": "markdown",
   "metadata": {},
   "source": [
    "$$\n",
    "j_{\\lambda}^{\\mu\\left(+\\right)}=P_{\\lambda}+\\left(a_{\\lambda+1}^{\\mu}K\\right)^{2}\\frac{1}{j_{\\lambda+1}^{\\mu\\left(+\\right)}}\n",
    "$$"
   ]
  },
  {
   "cell_type": "code",
   "execution_count": 15,
   "metadata": {
    "collapsed": false
   },
   "outputs": [],
   "source": [
    "# Calculate j(+), output indexed by lambda size: lamMax+1\n",
    "@jit(nopython=True)\n",
    "def get_jp(p,mu,K,lamMax,d=3):\n",
    "    j=np.zeros(lamMax+1,dtype=type(1+1j))*np.NaN\n",
    "    if K<=1.0:\n",
    "        j[lamMax]=get_P(lamMax,p,d=d) # Just guessing\n",
    "        for lam in seq(lamMax-1,mu):\n",
    "            j[lam] = get_P(lam,p,d=d)+(get_a(lam+1,mu,d=d)*K)**2 /j[lam+1]\n",
    "        return j\n",
    "    else:\n",
    "        j[lamMax]=get_P(lamMax,p,d=d)/K # Just guessing\n",
    "        for lam in seq(lamMax-1,mu):\n",
    "            j[lam] = get_P(lam,p,d=d)/K+(get_a(lam+1,mu,d=d))**2 /j[lam+1]\n",
    "        j=j*K\n",
    "        return j"
   ]
  },
  {
   "cell_type": "markdown",
   "metadata": {},
   "source": [
    "$$\n",
    "j_{\\lambda}^{\\mu\\left(-\\right)}=\\begin{cases}\n",
    "P_{\\lambda}+\\left(a_{\\lambda}^{\\mu}K\\right)^{2}\\frac{1}{j_{\\lambda-1}^{\\mu\\left(-\\right)}} & \\lambda\\geq\\mu+1\\\\\n",
    "P_{\\lambda} & \\lambda=\\mu\n",
    "\\end{cases}\n",
    "$$"
   ]
  },
  {
   "cell_type": "code",
   "execution_count": 6,
   "metadata": {
    "collapsed": false
   },
   "outputs": [],
   "source": [
    "@jit(nopython=True)\n",
    "def get_jm(p,mu,K,lamMax,d=3):\n",
    "    jm=np.zeros(lamMax+1,dtype=type(1+1j))*np.NaN\n",
    "    if K<=1.0:\n",
    "        jm[mu]=get_P(mu,p,d=d) \n",
    "        for lam in seq(mu+1,lamMax):\n",
    "            jm[lam]=get_P(lam,p,d=d) + (get_a(lam,mu,d=d)*K)**2 /jm[lam-1]\n",
    "        return jm\n",
    "    else:\n",
    "        jm[mu]=get_P(mu,p,d=d)/K \n",
    "        for lam in seq(mu+1,lamMax):\n",
    "            jm[lam]=get_P(lam,p,d=d)/K + (get_a(lam,mu,d=d))**2 /jm[lam-1]\n",
    "        jm=jm*K\n",
    "        return jm"
   ]
  },
  {
   "cell_type": "markdown",
   "metadata": {},
   "source": [
    "$$\n",
    "\\frac{\\partial}{\\partial p}j_{\\lambda}^{\\mu\\left(+\\right)}=1-\\left(a_{\\lambda+1}^{\\mu}K\\right)^{2}\\frac{1}{\\left(j_{\\lambda+1}^{\\mu\\left(+\\right)}\\right)^{2}}\\frac{\\partial}{\\partial p}j_{\\lambda+1}^{\\mu\\left(+\\right)}\n",
    "$$"
   ]
  },
  {
   "cell_type": "code",
   "execution_count": 7,
   "metadata": {
    "collapsed": true
   },
   "outputs": [],
   "source": [
    "@jit(nopython=True)\n",
    "def get_djp(p,mu,K,lamMax,jp,d=3):\n",
    "    djp=np.zeros(lamMax+1,dtype=type(1+1j))*np.NaN\n",
    "    if K<=1.0:\n",
    "        djp[lamMax]= 1.0 # Just guessing\n",
    "        for lam in seq(lamMax-1,mu):\n",
    "            djp[lam] = 1.0 - (get_a(lam+1,mu,d=d)*K)**2 * djp[lam+1]/(jp[lam+1]**2)\n",
    "        return djp \n",
    "    else:\n",
    "        djp[lamMax]= 1.0/K # Just guessing\n",
    "        for lam in seq(lamMax-1,mu):\n",
    "            djp[lam] = 1.0/K - (get_a(lam+1,mu,d=d)*K)**2 * djp[lam+1]/(jp[lam+1]**2)\n",
    "        djp=djp*K\n",
    "        return djp "
   ]
  },
  {
   "cell_type": "markdown",
   "metadata": {},
   "source": [
    "$$\n",
    "\\frac{\\partial}{\\partial p}j_{\\lambda}^{\\mu\\left(-\\right)}=\\begin{cases}\n",
    "1-\\left(a_{\\lambda}^{\\mu}K\\right)^{2}\\frac{1}{\\left(j_{\\lambda-1}^{\\mu\\left(-\\right)}\\right)^{2}}\\frac{\\partial}{\\partial p}j_{\\lambda-1}^{\\mu\\left(-\\right)} & \\lambda\\geq\\mu+1\\\\\n",
    "1 & \\lambda=\\mu\n",
    "\\end{cases}\n",
    "$$"
   ]
  },
  {
   "cell_type": "code",
   "execution_count": 8,
   "metadata": {
    "collapsed": false
   },
   "outputs": [],
   "source": [
    "@jit(nopython=True)\n",
    "def get_djm(p,mu,K,lamMax,jm,d=3):\n",
    "    djm=np.zeros(lamMax+1,dtype=type(1+1j))*np.NaN\n",
    "    if K<=1.0:\n",
    "        djm[mu]= 1.0\n",
    "        for lam in seq(mu+1,lamMax):\n",
    "            djm[lam] = 1.0 - (get_a(lam,mu,d=d)*K)**2 * djm[lam-1]/(jm[lam-1]**2)\n",
    "        return djm\n",
    "    else:\n",
    "        djm[mu]= 1.0/K\n",
    "        for lam in seq(mu+1,lamMax):\n",
    "            djm[lam] = 1.0/K - (get_a(lam,mu,d=d)*K)**2 * djm[lam-1]/(jm[lam-1]**2)\n",
    "        djm=djm*K\n",
    "        return djm"
   ]
  },
  {
   "cell_type": "markdown",
   "metadata": {},
   "source": [
    "$$\n",
    "\\partial_{p}w_{\\lambda}^{\\mu\\left(\\pm\\right)}=\\frac{-1}{\\left(j_{\\lambda}^{\\mu\\left(\\pm\\right)}\\right)^{2}}\\partial_{p}j_{\\lambda}^{\\mu\\left(\\pm\\right)}\n",
    "$$"
   ]
  },
  {
   "cell_type": "code",
   "execution_count": null,
   "metadata": {
    "collapsed": false
   },
   "outputs": [],
   "source": [
    "@jit(nopython=True)\n",
    "def get_dw(j,dj,mu):\n",
    "    dw=-dj/(j**2)\n",
    "    #dw=j*np.NaN\n",
    "    #dw[mu:]=-dj[mu:]/(j[mu:]**2)\n",
    "    return dw"
   ]
  },
  {
   "cell_type": "markdown",
   "metadata": {},
   "source": [
    "$$\n",
    "W_{\\lambda}^{\\mu}=\\frac{1}{\\left(a_{\\lambda}^{\\mu}K\\right)^{2}w_{\\lambda-1}^{\\mu\\left(-\\right)}+P+\\left(a_{\\lambda+1}^{\\mu}K\\right)^{2}w_{\\lambda+1}^{\\mu\\left(+\\right)}}\n",
    "$$"
   ]
  },
  {
   "cell_type": "code",
   "execution_count": 82,
   "metadata": {
    "collapsed": true
   },
   "outputs": [],
   "source": [
    "@jit(nopython=True)\n",
    "def get_W(p,mu,K,lamMax,jp,jm,d=3):\n",
    "    W=np.zeros(lamMax+1,dtype=type(1+1j))*np.NaN\n",
    "    lam=mu\n",
    "    W[lam]=get_P(lam,p,d=d)+(get_a(lam+1,mu,d=d)*K)**2 / jp[lam+1]\n",
    "    for lam in seq(mu+1,lamMax-1):\n",
    "        W[lam]=(get_a(lam,mu,d=d)*K)**2 /jm[lam-1] + \\\n",
    "             get_P(lam,p,d=d)+ \\\n",
    "             (get_a(lam+1,mu,d=d)*K)**2 / jp[lam+1]\n",
    "    return (1/W)"
   ]
  },
  {
   "cell_type": "markdown",
   "metadata": {},
   "source": [
    "$$\n",
    "\\partial_{p}W_{\\lambda}^{\\mu}=-\\left(W_{\\lambda}^{\\mu}\\right)^{2}\\left(\\left(a_{\\lambda}^{\\mu}K\\right)^{2}\\partial_{p}w_{\\lambda-1}^{\\mu\\left(-\\right)}+1+\\left(a_{\\lambda+1}^{\\mu}K\\right)^{2}\\partial_{p}w_{\\lambda+1}^{\\mu\\left(+\\right)}\\right)\n",
    "$$"
   ]
  },
  {
   "cell_type": "code",
   "execution_count": 83,
   "metadata": {
    "collapsed": true
   },
   "outputs": [],
   "source": [
    "@jit(nopython=True)\n",
    "def get_dW(p,mu,K,lamMax,dwp,dwm,W,d=3):\n",
    "    dW=np.zeros(lamMax+1,dtype=type(1+1j))*np.NaN\n",
    "    lam=mu\n",
    "    dW[lam]=1.0 + (get_a(lam+1,mu,d=d)*K)**2 * dwp[lam+1]\n",
    "    for lam in seq(mu+1,lamMax-1):\n",
    "        dW[lam]=(get_a(lam,mu,d=d)*K)**2 *dwm[lam-1] + \\\n",
    "             1.0 + \\\n",
    "             (get_a(lam+1,mu,d=d)*K)**2 * dwp[lam+1]\n",
    "    return (-dW*(W**2))"
   ]
  },
  {
   "cell_type": "markdown",
   "metadata": {},
   "source": [
    "$$\n",
    "\\mathcal{G}_{\\lambda_{0}\\lambda}^{\\mu}=\\begin{cases}\n",
    "W_{\\lambda_{0}}^{\\mu} & \\lambda_{0}=\\lambda\\\\\n",
    "W_{\\lambda_{0}}^{\\mu}\\prod_{\\tilde{\\lambda}=\\lambda_{0}+1}^{\\lambda}iKa_{\\tilde{\\lambda}}^{\\mu}w_{\\tilde{\\lambda}}^{\\mu\\left(+\\right)} & \\lambda_{0}<\\lambda\\\\\n",
    "W_{\\lambda_{0}}^{\\mu}\\prod_{\\tilde{\\lambda}=\\lambda+1}^{\\lambda_{0}}iKa_{\\tilde{\\lambda}}^{\\mu}w_{\\tilde{\\lambda}-1}^{\\mu\\left(-\\right)} & \\lambda_{0}>\\lambda\n",
    "\\end{cases}\n",
    "$$"
   ]
  },
  {
   "cell_type": "code",
   "execution_count": 84,
   "metadata": {
    "collapsed": false
   },
   "outputs": [],
   "source": [
    "@jit(nopython=True)\n",
    "def get_G(p,lam,lam0,mu,K,jm,jp,W,d=3):\n",
    "    if lam==lam0:\n",
    "        return W[lam0]\n",
    "    elif lam0<lam:\n",
    "        out=W[lam0]\n",
    "        for lamt in seq(lam0+1,lam):\n",
    "            out=out*1j*K*get_a(lamt,mu,d=d)/jp[lamt]\n",
    "        return out\n",
    "    else:\n",
    "        out=W[lam0]\n",
    "        for lamt in seq(lam+1,lam0):\n",
    "            out=out*1j*K*get_a(lamt,mu,d=d)/jm[lamt-1]\n",
    "        return out"
   ]
  },
  {
   "cell_type": "markdown",
   "metadata": {},
   "source": [
    "$$\n",
    "\\partial_{p}\\mathcal{G}_{\\lambda_{0}\\lambda}^{\\mu}=\\begin{cases}\n",
    "\\partial_{p}W_{\\lambda_{0}}^{\\mu} & \\lambda_{0}=\\lambda\\\\\n",
    "\\left(\\partial_{p}W_{\\lambda_{0}}^{\\mu}+W_{\\lambda_{0}}^{\\mu}\\sum_{\\tilde{\\lambda}=\\lambda_{0}+1}^{\\lambda}\\frac{\\partial_{p}w_{\\tilde{\\lambda}}^{\\mu\\left(+\\right)}}{w_{\\tilde{\\lambda}}^{\\mu\\left(+\\right)}}\\right)\\prod_{\\tilde{\\lambda}=\\lambda_{0}+1}^{\\lambda}iKa_{\\tilde{\\lambda}}^{\\mu}w_{\\tilde{\\lambda}}^{\\mu\\left(+\\right)} & \\lambda_{0}<\\lambda\\\\\n",
    "\\left(\\partial_{p}W_{\\lambda_{0}}^{\\mu}+W_{\\lambda_{0}}^{\\mu}\\sum_{\\tilde{\\lambda}=\\lambda+1}^{\\lambda_{0}}\\frac{\\partial_{p}w_{\\tilde{\\lambda}-1}^{\\mu\\left(-\\right)}}{w_{\\tilde{\\lambda}-1}^{\\mu\\left(-\\right)}}\\right)\\prod_{\\tilde{\\lambda}=\\lambda+1}^{\\lambda_{0}}iKa_{\\tilde{\\lambda}}^{\\mu}w_{\\tilde{\\lambda}-1}^{\\mu\\left(-\\right)} & \\lambda_{0}>\\lambda\n",
    "\\end{cases}\n",
    "$$"
   ]
  },
  {
   "cell_type": "code",
   "execution_count": 85,
   "metadata": {
    "collapsed": false
   },
   "outputs": [],
   "source": [
    "@jit(nopython=True)\n",
    "def get_dG(p,lam,lam0,mu,K,jm,jp,W,dW,dwm,dwp,d=3):\n",
    "    if lam==lam0:\n",
    "        return dW[lam0]\n",
    "    elif lam0<lam:\n",
    "        Sum=0.0\n",
    "        Prod=1.0\n",
    "        for lamt in seq(lam0+1,lam):\n",
    "            Prod=Prod*1j*K*get_a(lamt,mu,d=d)/jp[lamt]\n",
    "            Sum=Sum+dwp[lamt] * jp[lamt]\n",
    "        return ((dW[lam0] + W[lam0]*Sum)*Prod)\n",
    "    else:\n",
    "        Sum=0.0\n",
    "        Prod=1.0\n",
    "        for lamt in seq(lam+1,lam0):\n",
    "            Prod=Prod*1j*K*get_a(lamt,mu,d=d)/jm[lamt-1]\n",
    "            Sum=Sum+dwm[lamt-1] * jm[lamt-1]\n",
    "        \n",
    "        return ((dW[lam0] + W[lam0]*Sum)*Prod)     "
   ]
  },
  {
   "cell_type": "markdown",
   "metadata": {
    "heading_collapsed": true
   },
   "source": [
    "### Lim p -> pole"
   ]
  },
  {
   "cell_type": "markdown",
   "metadata": {
    "hidden": true
   },
   "source": [
    "\\[\n",
    "X_{1}=\\left(a_{\\lambda_{0}}^{\\mu}K\\right)^{2}w_{\\lambda_{0}-1}^{\\mu\\left(-\\right)}+P_{\\lambda_{0}}+\\left(a_{\\lambda_{0}+1}^{\\mu}K\\right)^{2}w_{\\lambda_{0}+1}^{\\mu\\left(+\\right)}\n",
    "\\]"
   ]
  },
  {
   "cell_type": "code",
   "execution_count": 20,
   "metadata": {
    "collapsed": false,
    "hidden": true
   },
   "outputs": [],
   "source": [
    "@jit(nopython=True)\n",
    "def X1(p,lam0,mu,K,jp,jm,d=3):\n",
    "    if lam0 == mu:\n",
    "        out=  0 \\\n",
    "            + get_P(lam0,p,d=d) \\\n",
    "            +(get_a(lam0+1,mu,d=d)*K)**2  * 1/jp[lam0+1]\n",
    "    else:\n",
    "        out=  (get_a(lam0,mu,d=d)*K)**2 * 1/jm[lam0-1]\\\n",
    "            + get_P(lam0,p,d=d) \\\n",
    "            +(get_a(lam0+1,mu,d=d)*K)**2  * 1/jp[lam0+1]\n",
    "    return out"
   ]
  },
  {
   "cell_type": "markdown",
   "metadata": {
    "hidden": true
   },
   "source": [
    "\\[\n",
    "\\frac{\\partial}{\\partial p}X_{1}=\\left(a_{\\lambda_{0}}^{\\mu}K\\right)^{2}\\frac{\\partial}{\\partial p}w_{\\lambda_{0}-1}^{\\mu\\left(-\\right)}+1+\\left(a_{\\lambda_{0}+1}^{\\mu}K\\right)^{2}\\frac{\\partial}{\\partial p}w_{\\lambda_{0}+1}^{\\mu\\left(+\\right)}\n",
    "\\]"
   ]
  },
  {
   "cell_type": "code",
   "execution_count": 21,
   "metadata": {
    "collapsed": true,
    "hidden": true
   },
   "outputs": [],
   "source": [
    "@jit(nopython=True)\n",
    "def X1prime(p,lam,lam0,mu,K,jp,jm,djp,djm,d=3):\n",
    "    if lam0 == mu:\n",
    "        X1=  0 \\\n",
    "            + 1 \\\n",
    "            +(get_a(lam0+1,mu,d=d)*K)**2  * get_dw(jp[lam0+1],djp[lam0+1],mu)           \n",
    "    else:\n",
    "        X1=  (get_a(lam0,mu,d=d)*K)**2 * get_dw(jm[lam0-1],djm[lam0-1],mu)\\\n",
    "            + 1 \\\n",
    "            +(get_a(lam0+1,mu,d=d)*K)**2  * get_dw(jp[lam0+1],djp[lam0+1],mu)    \n",
    "    return X1"
   ]
  },
  {
   "cell_type": "markdown",
   "metadata": {
    "hidden": true
   },
   "source": [
    "\\[\n",
    "X^{\\left(+\\right)}=\\prod_{n=1}^{\\lambda-\\lambda_{0}}j_{\\lambda_{0}+n}^{\\mu\\left(+\\right)}\n",
    "\\]"
   ]
  },
  {
   "cell_type": "code",
   "execution_count": 22,
   "metadata": {
    "collapsed": true,
    "hidden": true
   },
   "outputs": [],
   "source": [
    "@jit(nopython=True)\n",
    "def Xp(lam,lam0,jp):\n",
    "    prod=1\n",
    "    for n in seq(1,lam-lam0):\n",
    "        prod=prod*jp[lam0+n]\n",
    "    return prod"
   ]
  },
  {
   "cell_type": "markdown",
   "metadata": {
    "hidden": true
   },
   "source": [
    "\\[\n",
    "X^{\\left(-\\right)}=\\prod_{n=1}^{\\lambda_{0}-\\lambda}j_{\\lambda_{0}-n}^{\\mu\\left(-\\right)}\n",
    "\\]"
   ]
  },
  {
   "cell_type": "code",
   "execution_count": 23,
   "metadata": {
    "collapsed": true,
    "hidden": true
   },
   "outputs": [],
   "source": [
    "@jit(nopython=True)\n",
    "def Xm(lam,lam0,jm):\n",
    "    prod=1\n",
    "    for n in seq(1,lam0-lam):\n",
    "        prod=prod*jm[lam0-n]\n",
    "    return prod"
   ]
  },
  {
   "cell_type": "markdown",
   "metadata": {
    "hidden": true
   },
   "source": [
    "\\[\n",
    "c^{\\left(+\\right)}=\\prod_{n=1}^{\\lambda-\\lambda_{0}}iKa_{\\lambda_{0}+n}^{\\mu}\n",
    "\\]"
   ]
  },
  {
   "cell_type": "code",
   "execution_count": 24,
   "metadata": {
    "collapsed": true,
    "hidden": true
   },
   "outputs": [],
   "source": [
    "@jit(nopython=True)\n",
    "def get_cp(lam,lam0,mu,K,d=3):\n",
    "    prod=1\n",
    "    for n in seq(1,lam-lam0):\n",
    "        prod=prod*1j*K*get_a(lam0+n,mu,d)\n",
    "    return prod"
   ]
  },
  {
   "cell_type": "markdown",
   "metadata": {
    "hidden": true
   },
   "source": [
    "\\[\n",
    "c^{\\left(-\\right)}=\\prod_{n=1}^{\\lambda_{0}-\\lambda}iKa_{\\lambda_{0}+1-n}^{\\mu}\n",
    "\\]"
   ]
  },
  {
   "cell_type": "code",
   "execution_count": 25,
   "metadata": {
    "collapsed": true,
    "hidden": true
   },
   "outputs": [],
   "source": [
    "@jit(nopython=True)\n",
    "def get_cm(lam,lam0,mu,K,d=3):\n",
    "    prod=1\n",
    "    for n in seq(1,lam0-lam):\n",
    "        prod=prod*1j*K*get_a(lam0+1-n,mu,d)\n",
    "    return prod"
   ]
  },
  {
   "cell_type": "markdown",
   "metadata": {
    "hidden": true
   },
   "source": [
    "\\[\n",
    "\\frac{\\partial}{\\partial p}X^{\\left(+\\right)}=X^{\\left(+\\right)}\\left(\\sum_{n=1}^{\\lambda-\\lambda_{0}}\\frac{\\frac{\\partial}{\\partial p}j_{\\lambda_{0}+n}^{\\mu\\left(+\\right)}}{j_{\\lambda_{0}+n}^{\\mu\\left(+\\right)}}\\right)\n",
    "\\]"
   ]
  },
  {
   "cell_type": "code",
   "execution_count": 26,
   "metadata": {
    "collapsed": true,
    "hidden": true
   },
   "outputs": [],
   "source": [
    "@jit(nopython=True)\n",
    "def Xpprime(lam,lam0,jp,djp,Xp):\n",
    "    out=0.0\n",
    "    for n in seq(1,lam-lam0):\n",
    "        out=out+(djp[lam0+n]/jp[lam0+n])\n",
    "    out=out*Xp\n",
    "    return out"
   ]
  },
  {
   "cell_type": "markdown",
   "metadata": {
    "hidden": true
   },
   "source": [
    "\\[\n",
    "\\frac{\\partial}{\\partial p}X^{\\left(-\\right)}=X^{\\left(-\\right)}\\left(\\sum_{n=1}^{\\lambda_{0}-\\lambda}\\frac{\\frac{\\partial}{\\partial p}j_{\\lambda_{0}-n}^{\\mu\\left(-\\right)}}{j_{\\lambda_{0}-n}^{\\mu\\left(-\\right)}}\\right)\n",
    "\\]"
   ]
  },
  {
   "cell_type": "code",
   "execution_count": 27,
   "metadata": {
    "collapsed": true,
    "hidden": true
   },
   "outputs": [],
   "source": [
    "@jit(nopython=True)\n",
    "def Xmprime(lam,lam0,jm,djm,Xm):\n",
    "    out=0.0\n",
    "    for n in seq(1,lam0-lam):\n",
    "        out=out+(djm[lam0-n]/jm[lam0-n])\n",
    "    out=out*Xm\n",
    "    return out"
   ]
  },
  {
   "cell_type": "markdown",
   "metadata": {
    "hidden": true
   },
   "source": [
    "\\[\n",
    "\\frac{1}{\\mathcal{G}_{\\lambda_{0},\\lambda}^{\\mu}\\left(p\\right)}=\\begin{cases}\n",
    "X_{1} & \\lambda_{0}=\\lambda\\\\\n",
    "\\frac{X_{1}X^{\\left(+\\right)}}{c^{\\left(+\\right)}} & \\lambda_{0}<\\lambda\\\\\n",
    "\\frac{X_{1}X^{\\left(-\\right)}}{c^{\\left(-\\right)}} & \\lambda_{0}>\\lambda\n",
    "\\end{cases}\n",
    "\\]"
   ]
  },
  {
   "cell_type": "code",
   "execution_count": 28,
   "metadata": {
    "collapsed": true,
    "hidden": true
   },
   "outputs": [],
   "source": [
    "@jit(nopython=True)\n",
    "def InvG(p,lam,lam0,mu,K,jp,jm,d=3):\n",
    "    if min(lam,lam0)<mu:\n",
    "        return np.NaN\n",
    "    if lam0==lam:\n",
    "        return X1(p,lam0,mu,K,jp,jm)\n",
    "    if lam0<lam:\n",
    "        return (X1(p,lam0,mu,K,jp,jm)*Xp(lam,lam0,jp)/get_cp(lam,lam0,mu,K,d))\n",
    "    if lam0>lam:\n",
    "        return (X1(p,lam0,mu,K,jp,jm)*Xm(lam,lam0,jm)/get_cm(lam,lam0,mu,K,d))"
   ]
  },
  {
   "cell_type": "markdown",
   "metadata": {
    "hidden": true
   },
   "source": [
    "\\[\n",
    "\\frac{\\partial}{\\partial p}\\left(\\frac{1}{\\mathcal{G}_{\\lambda_{0},\\lambda}^{\\mu}\\left(p\\right)}\\right)=\\begin{cases}\n",
    "\\partial_{p}X_{1} & \\lambda_{0}=\\lambda\\\\\n",
    "\\frac{X_{1}\\partial_{p}X^{\\left(+\\right)}+X^{\\left(+\\right)}\\partial_{p}X_{1}}{c^{\\left(+\\right)}} & \\lambda_{0}<\\lambda\\\\\n",
    "\\frac{X_{1}\\partial_{p}X^{\\left(-\\right)}+X^{\\left(-\\right)}\\partial_{p}X_{1}}{c^{\\left(-\\right)}} & \\lambda_{0}>\\lambda\n",
    "\\end{cases}\n",
    "\\]"
   ]
  },
  {
   "cell_type": "code",
   "execution_count": 29,
   "metadata": {
    "collapsed": true,
    "hidden": true
   },
   "outputs": [],
   "source": [
    "@jit(nopython=True)\n",
    "def InvGprimeGeneral(p,lam,lam0,mu,K,jp,jm,djp,djm,d=3):\n",
    "    if min(lam,lam0)<mu:\n",
    "        return np.NaN\n",
    "    if lam0==lam:\n",
    "        return X1prime(p,lam,lam0,mu,K,jp,jm,djp,djm)\n",
    "    if lam0<lam:\n",
    "        xp=Xp(lam,lam0,jp)\n",
    "        return ((X1prime(p,lam,lam0,mu,K,jp,jm,djp,djm)*xp\\\n",
    "                 +X1(p,lam0,mu,K,jp,jm)*Xpprime(lam,lam0,jp,djp,xp))\\\n",
    "                /get_cp(lam,lam0,mu,K,d))\n",
    "    if lam0>lam:\n",
    "        xm=Xm(lam,lam0,jm)\n",
    "        return ((X1prime(p,lam,lam0,mu,K,jp,jm,djp,djm)*xm\\\n",
    "                 +X1(p,lam0,mu,K,jp,jm)*Xmprime(lam,lam0,jm,djm,xm))\\\n",
    "                /get_cm(lam,lam0,mu,K,d))"
   ]
  },
  {
   "cell_type": "markdown",
   "metadata": {
    "hidden": true
   },
   "source": [
    "\\[\n",
    "\\frac{\\partial}{\\partial p}\\left(\\frac{1}{\\mathcal{G}_{\\lambda_{0},\\lambda}^{\\mu}\\left(p\\right)}\\right)=\\begin{cases}\n",
    "\\partial_{p}X_{1} & \\lambda_{0}=\\lambda\\\\\n",
    "\\frac{X^{\\left(+\\right)}\\partial_{p}X_{1}}{c^{\\left(+\\right)}} & \\lambda_{0}<\\lambda\\\\\n",
    "\\frac{X^{\\left(-\\right)}\\partial_{p}X_{1}}{c^{\\left(-\\right)}} & \\lambda_{0}>\\lambda\n",
    "\\end{cases}\n",
    "\\]\n",
    "because $X_1=0$ at the poles, $\\partial_p X^\\left{ \\pm \\right}$ does not generally diverge at the poles."
   ]
  },
  {
   "cell_type": "code",
   "execution_count": 30,
   "metadata": {
    "collapsed": true,
    "hidden": true
   },
   "outputs": [],
   "source": [
    "@jit(nopython=True)\n",
    "def InvGprime(p,lam,lam0,mu,K,jp,jm,djp,djm,d=3):\n",
    "    if min(lam,lam0)<mu:\n",
    "        return np.NaN\n",
    "    tol=0.00001\n",
    "    if abs(X1(p,lam0,mu,K,jp,jm)) > tol:\n",
    "        print(\"Error in InvGpriem. X1 should be zero at pole\")\n",
    "        return np.NaN\n",
    "    \n",
    "    if lam0==lam:\n",
    "        return X1prime(p,lam,lam0,mu,K,jp,jm,djp,djm)\n",
    "    if lam0<lam:\n",
    "        return (X1prime(p,lam,lam0,mu,K,jp,jm,djp,djm)*Xp(lam,lam0,jp)\\\n",
    "                /get_cp(lam,lam0,mu,K,d))\n",
    "    if lam0>lam:\n",
    "        return (X1prime(p,lam,lam0,mu,K,jp,jm,djp,djm)*Xm(lam,lam0,jm)\\\n",
    "                /get_cm(lam,lam0,mu,K,d))"
   ]
  },
  {
   "cell_type": "markdown",
   "metadata": {},
   "source": [
    "### Limit p -> 0"
   ]
  },
  {
   "cell_type": "markdown",
   "metadata": {},
   "source": [
    "$$\n",
    "\\lim_{p\\to0}j_{\\lambda}^{\\mu\\left(-\\right)}=\\begin{cases}\n",
    "p & \\lambda=\\mu=0\\\\\n",
    "\\left(a_{\\lambda}^{\\mu}K\\right)^{2}/p & \\lambda=1,\\ \\mu=0\\\\\n",
    "\\lambda\\left(\\lambda+1\\right) & \\lambda=2,\\ \\mu=0\\\\\n",
    "\\lambda\\left(\\lambda+1\\right) & \\lambda=\\mu>0\\\\\n",
    "\\lambda\\left(\\lambda+1\\right)+\\left(a_{\\lambda}^{\\mu}K\\right)^{2}\\frac{1}{\\lim_{p\\to0}j_{\\lambda-1}^{\\mu\\left(-\\right)}} & \\mathrm{otherwise}\n",
    "\\end{cases}\n",
    "$$"
   ]
  },
  {
   "cell_type": "code",
   "execution_count": 86,
   "metadata": {
    "collapsed": false
   },
   "outputs": [],
   "source": [
    "@jit(nopython=True)\n",
    "def get_jm_zero(mu,K,lamMax,d=3):\n",
    "    jm=np.zeros(lamMax+1,dtype=type(1+1j))*np.NaN\n",
    "    if mu!=0:    \n",
    "        jm[mu]=get_P(mu,0,d) \n",
    "        for lam in seq(mu+1,lamMax):\n",
    "            jm[lam]=get_P(lam,0,d) + (get_a(lam,mu,d)*K)**2 /jm[lam-1]\n",
    "        return jm\n",
    "    elif mu==0:\n",
    "        jm[0]=0\n",
    "        jm[1]=np.Inf\n",
    "        jm[2]=6.0\n",
    "        for lam in seq(3,lamMax):\n",
    "            jm[lam]=get_P(lam,0,d) + (get_a(lam,mu,d)*K)**2 /jm[lam-1]\n",
    "        return jm"
   ]
  },
  {
   "cell_type": "markdown",
   "metadata": {},
   "source": [
    "$$\n",
    "\\lim_{p\\to0}w_{\\lambda}^{\\mu\\left(-\\right)}=\\begin{cases}\n",
    "1/p & \\lambda=\\mu=0\\\\\n",
    "p/\\left(a_{\\lambda}^{\\mu}K\\right)^{2} & \\lambda=1,\\ \\mu=0\\\\\n",
    "1/\\lim_{p\\to0}j_{\\lambda}^{\\mu\\left(-\\right)} & \\mathrm{\\mathrm{otherwise}}\n",
    "\\end{cases}\n",
    "$$"
   ]
  },
  {
   "cell_type": "code",
   "execution_count": 87,
   "metadata": {
    "collapsed": true
   },
   "outputs": [],
   "source": [
    "@jit(nopython=True)\n",
    "def get_wm_zero(jm,lamMax):\n",
    "    wm=np.zeros(lamMax+1,dtype=type(1+1j))\n",
    "    wm[0]=(1+0j)*np.Inf\n",
    "    wm[2:lamMax+1]=1.0/jm[2:lamMax+1]"
   ]
  },
  {
   "cell_type": "markdown",
   "metadata": {},
   "source": [
    "$$\n",
    "\\lim_{p\\to0}\\frac{\\partial}{\\partial p}j_{\\lambda}^{\\mu\\left(-\\right)}=\\begin{cases}\n",
    "1 & \\lambda=\\mu=0\\\\\n",
    "-\\left(a_{\\lambda}^{\\mu}K\\right)^{2}/p^{2} & \\lambda=1,\\ \\mu=0\\\\\n",
    "1+\\frac{\\left(a_{\\lambda}^{\\mu}\\right)^{2}}{\\left(a_{\\lambda-1}^{\\mu}\\right)^{2}} & \\lambda=2,\\ \\mu=0\\\\\n",
    "1 & \\lambda=\\mu>0\\\\\n",
    "1-\\left(a_{\\lambda}^{\\mu}K\\right)^{2}\\frac{1}{j_{\\lambda-1}^{\\mu\\left(-\\right)}{}^{2}}\\frac{\\partial}{\\partial p}j_{\\lambda-1}^{\\mu\\left(-\\right)} & \\mathrm{otherwise}\n",
    "\\end{cases}\n",
    "$$"
   ]
  },
  {
   "cell_type": "code",
   "execution_count": 88,
   "metadata": {
    "collapsed": true
   },
   "outputs": [],
   "source": [
    "@jit(nopython=True)\n",
    "def get_djm_zero(mu,K,lamMax,jm,d=3):\n",
    "    djm=np.zeros(lamMax+1,dtype=type(1+1j))*np.NaN\n",
    "    if mu!=0:\n",
    "        djm[mu]= 1.0\n",
    "        for lam in seq(mu+1,lamMax):\n",
    "            djm[lam] = 1.0 - (get_a(lam,mu,d)*K)**2 * djm[lam-1]/(jm[lam-1]**2)\n",
    "        return djm    \n",
    "    elif mu==0:\n",
    "        djm[0]=1.0\n",
    "        djm[1]=(1+0j)*np.Inf\n",
    "        djm[2]=1.0+(get_a(2,mu,d)**2)/(get_a(1,mu,d)**2)\n",
    "        for lam in seq(3,lamMax):\n",
    "            djm[lam] = 1.0 - (get_a(lam,mu,d)*K)**2 * djm[lam-1]/(jm[lam-1]**2)\n",
    "        return djm"
   ]
  },
  {
   "cell_type": "markdown",
   "metadata": {},
   "source": [
    "$$\n",
    "\\lim_{p\\to0}\\partial_{p}w_{\\lambda}^{\\mu\\left(-\\right)}=\\begin{cases}\n",
    "-\\frac{1}{p^{2}} & \\lambda=\\mu=0\\\\\n",
    "\\frac{1}{\\left(a_{\\lambda}^{\\mu}K\\right)^{2}} & \\lambda=1,\\ \\mu=0\\\\\n",
    "\\frac{-1}{\\left(j_{\\lambda}^{\\mu\\left(-\\right)}\\right)^{2}}\\partial_{p}j_{\\lambda}^{\\mu\\left(-\\right)} & \\mathrm{otherwise}\n",
    "\\end{cases}\n",
    "$$"
   ]
  },
  {
   "cell_type": "code",
   "execution_count": 90,
   "metadata": {
    "collapsed": false
   },
   "outputs": [],
   "source": [
    "@jit(nopython=True)\n",
    "def get_dwm_zero(jm,djm,K,lamMax,mu,d=3):\n",
    "    dwm=np.zeros(lamMax+1,dtype=type(1+1j))*np.NaN\n",
    "    if mu!=0:\n",
    "        dwm[mu:]=-1.0*djm[mu:]/(jm[mu:]**2)\n",
    "    elif mu==0:\n",
    "        dwm[0]=(-1.0+0j)*np.Inf\n",
    "        dwm[1]=1/((get_a(1,0,d)*K)**2)\n",
    "        dwm[2:lamMax+1]=-1.0*djm[2:lamMax+1]/(jm[2:lamMax+1]**2)\n",
    "    return dwm"
   ]
  },
  {
   "cell_type": "markdown",
   "metadata": {},
   "source": [
    "$$\n",
    "\\lim_{p\\to0}W_{\\lambda}^{\\mu}=\\begin{cases}\n",
    "\\frac{1}{\\lambda\\left(\\lambda+1\\right)+\\left(a_{\\lambda+1}^{\\mu}K\\right)^{2}w_{\\lambda+1}^{\\mu\\left(+\\right)}} & \\lambda=0,2,\\ \\mu=0\\\\\n",
    "\\frac{p}{\\left(a_{\\lambda}^{\\mu}K\\right)^{2}} & \\lambda=1,\\ \\mu=0\\\\\n",
    "\\frac{1}{\\left(a_{\\lambda}^{\\mu}K\\right)^{2}w_{\\lambda-1}^{\\mu\\left(-\\right)}+\\lambda\\left(\\lambda+1\\right)+\\left(a_{\\lambda+1}^{\\mu}K\\right)^{2}w_{\\lambda+1}^{\\mu\\left(+\\right)}} & \\mathrm{otherwise}\n",
    "\\end{cases}\n",
    "$$"
   ]
  },
  {
   "cell_type": "code",
   "execution_count": 91,
   "metadata": {
    "collapsed": true
   },
   "outputs": [],
   "source": [
    "@jit(nopython=True)\n",
    "def get_W_zero(mu,K,lamMax,jp,jm,d=3):\n",
    "    W=np.zeros(lamMax+1,dtype=type(1+1j))*np.NaN\n",
    "    if mu!=0:\n",
    "        lam=mu\n",
    "        W[lam]=get_P(lam,0,d)+(get_a(lam+1,mu,d)*K)**2 / jp[lam+1]\n",
    "        for lam in seq(mu+1,lamMax-1):\n",
    "            W[lam]=(get_a(lam,mu,d)*K)**2 /jm[lam-1] + \\\n",
    "                 get_P(lam,0,d)+ \\\n",
    "                 (get_a(lam+1,mu,d)*K)**2 / jp[lam+1]\n",
    "        return (1/W)\n",
    "    elif mu==0:\n",
    "        lam=0\n",
    "        W[0]=1.0/(get_P(lam,0,d)+(get_a(lam+1,mu,d)*K)**2 / jp[lam+1])\n",
    "        W[1]=0.0\n",
    "        lam=2\n",
    "        W[2]=1.0/(get_P(lam,0,d)+(get_a(lam+1,mu,d)*K)**2 / jp[lam+1])\n",
    "        for lam in seq(3,lamMax-1):\n",
    "            W[lam]=1.0/((get_a(lam,mu,d)*K)**2 /jm[lam-1] + \\\n",
    "                 get_P(lam,0,d)+ \\\n",
    "                 (get_a(lam+1,mu,d)*K)**2 / jp[lam+1])\n",
    "        return W "
   ]
  },
  {
   "cell_type": "markdown",
   "metadata": {},
   "source": [
    "$$\n",
    "\\lim_{p\\to0}\\partial_{p}W_{\\lambda}^{\\mu}=\\begin{cases}\n",
    "-\\left(W_{\\lambda}^{\\mu}\\right)^{2}\\left(1+\\left(a_{\\lambda+1}^{\\mu}K\\right)^{2}\\partial_{p}w_{\\lambda+1}^{\\mu\\left(+\\right)}\\right) & \\lambda=0,\\ \\mu=0\\\\\n",
    "\\frac{1}{\\left(a_{\\lambda}^{\\mu}K\\right)^{2}} & \\lambda=1,\\ \\mu=0\\\\\n",
    "-\\left(W_{\\lambda}^{\\mu}\\right)^{2}\\left(\\left(a_{\\lambda}^{\\mu}K\\right)^{2}\\partial_{p}w_{\\lambda-1}^{\\mu\\left(-\\right)}+1+\\left(a_{\\lambda+1}^{\\mu}K\\right)^{2}\\partial_{p}w_{\\lambda+1}^{\\mu\\left(+\\right)}\\right) & \\mathrm{otherwise}\n",
    "\\end{cases}\n",
    "$$"
   ]
  },
  {
   "cell_type": "code",
   "execution_count": 92,
   "metadata": {
    "collapsed": true
   },
   "outputs": [],
   "source": [
    "@jit(nopython=True)\n",
    "def get_dW_zero(mu,K,lamMax,dwp,dwm,W,d=3):\n",
    "    dW=np.zeros(lamMax+1,dtype=type(1+1j))*np.NaN\n",
    "    if mu!=0:\n",
    "        lam=mu\n",
    "        dW[lam]=1.0 + (get_a(lam+1,mu,d)*K)**2 * dwp[lam+1]\n",
    "        for lam in seq(mu+1,lamMax-1):\n",
    "            dW[lam]=(get_a(lam,mu,d)*K)**2 *dwm[lam-1] + \\\n",
    "                 1.0 + \\\n",
    "                 (get_a(lam+1,mu,d)*K)**2 * dwp[lam+1]\n",
    "        return (-dW*(W**2))\n",
    "    elif mu==0:\n",
    "        lam=0\n",
    "        dW[0]=-(W[lam]**2)*(1.0 + (get_a(lam+1,mu,d)*K)**2 * dwp[lam+1])\n",
    "        dW[1]=(get_a(1,0,d)*K)**(-2)\n",
    "        for lam in seq(2,lamMax-1):\n",
    "            dW[lam]=-(W[lam]**2)*((get_a(lam,mu,d)*K)**2 *dwm[lam-1] + \\\n",
    "                                  1.0 + \\\n",
    "                                  (get_a(lam+1,mu,d)*K)**2 * dwp[lam+1])\n",
    "        return dW"
   ]
  },
  {
   "cell_type": "markdown",
   "metadata": {},
   "source": [
    "$$\n",
    "\\lim_{p\\to0}\\mathcal{G}_{\\lambda_{0}\\lambda}^{\\mu}=\\begin{cases}\n",
    "W_{\\lambda_{0}}^{\\mu} & \\lambda_{0}=\\lambda\\\\\n",
    "W_{\\lambda_{0}}^{\\mu}\\prod_{\\tilde{\\lambda}=\\lambda_{0}+1}^{\\lambda}iKa_{\\tilde{\\lambda}}^{\\mu}w_{\\tilde{\\lambda}}^{\\mu\\left(+\\right)} & \\lambda_{0}<\\lambda\\\\\n",
    "\\frac{i}{a_{1}^{0}K} & \\lambda_{0}=1,\\ \\lambda=\\mu=0\\\\\n",
    "W_{\\lambda_{0}}^{\\mu}\\left(-\\frac{a_{2}^{\\mu}}{a_{1}^{\\mu}}\\right) & \\lambda_{0}=2,\\ \\lambda=\\mu=0\\\\\n",
    "W_{\\lambda_{0}}^{\\mu}\\left(-\\frac{a_{2}^{\\mu}}{a_{1}^{\\mu}}\\right)\\left(\\prod_{\\tilde{\\lambda}=\\lambda+3}^{\\lambda_{0}}iKa_{\\tilde{\\lambda}}^{\\mu}w_{\\tilde{\\lambda}-1}^{\\mu\\left(-\\right)}\\right) & \\lambda_{0}>2,\\ \\lambda=\\mu=0\\\\\n",
    "W_{\\lambda_{0}}^{\\mu}\\prod_{\\tilde{\\lambda}=\\lambda+1}^{\\lambda_{0}}iKa_{\\tilde{\\lambda}}^{\\mu}w_{\\tilde{\\lambda}-1}^{\\mu\\left(-\\right)} & \\lambda_{0}>\\lambda>0\n",
    "\\end{cases}\n",
    "$$"
   ]
  },
  {
   "cell_type": "code",
   "execution_count": 37,
   "metadata": {
    "collapsed": true
   },
   "outputs": [],
   "source": [
    "@jit(nopython=True)\n",
    "def get_G_zero(lam,lam0,mu,K,jm,jp,W,d=3):\n",
    "    if lam==lam0:\n",
    "        return W[lam0]\n",
    "    elif lam0<lam:\n",
    "        out=W[lam0]\n",
    "        for lamt in seq(lam0+1,lam):\n",
    "            out=out*1j*K*get_a(lamt,mu,d)/jp[lamt]\n",
    "        return out\n",
    "    elif lam0==1 and lam==0 and mu==0:\n",
    "        out=1j/(get_a(1,0,d)*K)\n",
    "        return out\n",
    "    elif lam0==2 and lam==0 and mu==0:\n",
    "        out=W[lam0]*(-get_a(2,0,d)/get_a(1,0,d))\n",
    "        return out\n",
    "    elif lam0>2 and lam==0 and mu==0:\n",
    "        out=W[lam0]*(-get_a(2,0,d)/get_a(1,0,d))\n",
    "        for lamt in seq(lam+3,lam0):\n",
    "            out=out*1j*K*get_a(lamt,mu,d)/jm[lamt-1]\n",
    "        return out       \n",
    "    elif lam0>lam and lam>0:\n",
    "        out=W[lam0]\n",
    "        for lamt in seq(lam+1,lam0):\n",
    "            out=out*1j*K*get_a(lamt,mu,d)/jm[lamt-1]\n",
    "        return out"
   ]
  },
  {
   "cell_type": "markdown",
   "metadata": {},
   "source": [
    "$$\n",
    "\\lim_{p\\to0}\\partial_{p}\\mathcal{G}_{\\lambda_{0}\\lambda}^{\\mu}=\\begin{cases}\n",
    "\\partial_{p}W_{\\lambda_{0}}^{\\mu} & \\lambda_{0}=\\lambda\\\\\n",
    "\\left(\\partial_{p}W_{\\lambda_{0}}^{\\mu}+W_{\\lambda_{0}}^{\\mu}\\sum_{\\tilde{\\lambda}=\\lambda_{0}+1}^{\\lambda}\\frac{\\partial_{p}w_{\\tilde{\\lambda}}^{\\mu\\left(+\\right)}}{w_{\\tilde{\\lambda}}^{\\mu\\left(+\\right)}}\\right)\\prod_{\\tilde{\\lambda}=\\lambda_{0}+1}^{\\lambda}iKa_{\\tilde{\\lambda}}^{\\mu}w_{\\tilde{\\lambda}}^{\\mu\\left(+\\right)} & \\lambda>\\lambda_{0}\\\\\n",
    "\\frac{-i\\left(2+\\left(a_{\\lambda_{0}+1}^{\\mu}K\\right)^{2}w_{\\lambda_{0}+1}^{\\mu\\left(+\\right)}\\right)}{\\left(a_{\\lambda_{0}}^{\\mu}K\\right)^{3}} & \\lambda_{0}=1,\\ \\lambda=\\mu=0\\\\\n",
    "\\left(\\partial_{p}W_{\\lambda_{0}}^{\\mu}-W_{\\lambda_{0}}^{\\mu}\\frac{2}{\\left(a_{1}^{0}K\\right)^{2}}\\right)\\left(-\\frac{a_{2}^{\\mu}}{a_{1}^{\\mu}}\\right) & \\lambda_{0}=2,\\ \\lambda=\\mu=0\\\\\n",
    "\\left(\\partial_{p}W_{\\lambda_{0}}^{\\mu}+W_{\\lambda_{0}}^{\\mu}\\left(\\sum_{\\tilde{\\lambda}=\\lambda+3}^{\\lambda_{0}}\\frac{\\partial_{p}w_{\\tilde{\\lambda}-1}^{\\mu\\left(-\\right)}}{w_{\\tilde{\\lambda}-1}^{\\mu\\left(-\\right)}}-\\frac{2}{\\left(a_{1}^{0}K\\right)^{2}}\\right)\\right)\\left(-\\frac{a_{2}^{\\mu}}{a_{1}^{\\mu}}\\right)\\left(\\prod_{\\tilde{\\lambda}=\\lambda+3}^{\\lambda_{0}}iKa_{\\tilde{\\lambda}}^{\\mu}w_{\\tilde{\\lambda}-1}^{\\mu\\left(-\\right)}\\right) & \\lambda_{0}>2,\\ \\lambda=\\mu=0\\\\\n",
    "\\left(W_{\\lambda_{0}}^{\\mu}\\partial_{p}w_{1}^{\\mu\\left(-\\right)}\\right)iKa_{2}^{\\mu} & \\lambda_{0}=2,\\ \\lambda=1,\\ \\mu=0\\\\\n",
    "\\left(W_{\\lambda_{0}}^{\\mu}\\partial_{p}w_{1}^{\\mu\\left(-\\right)}\\right)iKa_{2}^{\\mu}\\left(\\prod_{\\tilde{\\lambda}=\\lambda+2}^{\\lambda_{0}}iKa_{\\tilde{\\lambda}}^{\\mu}w_{\\tilde{\\lambda}-1}^{\\mu\\left(-\\right)}\\right) & \\lambda_{0}>2,\\ \\lambda=1,\\mu=0\\\\\n",
    "\\left(\\partial_{p}W_{\\lambda_{0}}^{\\mu}+W_{\\lambda_{0}}^{\\mu}\\sum_{\\tilde{\\lambda}=\\lambda+1}^{\\lambda_{0}}\\frac{\\partial_{p}w_{\\tilde{\\lambda}-1}^{\\mu\\left(-\\right)}}{w_{\\tilde{\\lambda}-1}^{\\mu\\left(-\\right)}}\\right)\\prod_{\\tilde{\\lambda}=\\lambda+1}^{\\lambda_{0}}iKa_{\\tilde{\\lambda}}^{\\mu}w_{\\tilde{\\lambda}-1}^{\\mu\\left(-\\right)} & \\lambda_{0}>\\lambda>1\\ \\mathrm{or}\\ \\left(\\lambda_{0}>\\lambda\\ \\mathrm{and}\\ \\mu\\neq0\\right)\n",
    "\\end{cases}\n",
    "$$"
   ]
  },
  {
   "cell_type": "code",
   "execution_count": 38,
   "metadata": {
    "collapsed": false
   },
   "outputs": [],
   "source": [
    "@jit(nopython=True)\n",
    "def get_dG_zero(lam,lam0,mu,K,jm,jp,W,dW,dwm,dwp,d=3):\n",
    "    if lam==lam0:\n",
    "        return dW[lam0]\n",
    "    elif lam0<lam:\n",
    "        Sum=0.0\n",
    "        Prod=1.0\n",
    "        for lamt in seq(lam0+1,lam):\n",
    "            Prod=Prod*1j*K*get_a(lamt,mu,d)/jp[lamt]\n",
    "            Sum=Sum+dwp[lamt] * jp[lamt]\n",
    "        return ((dW[lam0] + W[lam0]*Sum)*Prod)\n",
    "    elif lam0==1 and lam==0 and mu==0:\n",
    "        out=-1j*(2.0+(get_a(lam0+1,mu,d)*K)**2 *(1.0/jp[lam0+1]))/((get_a(lam0,mu,d)*K)**3)\n",
    "        return out\n",
    "    elif lam0==2 and lam==0 and mu==0:\n",
    "        out=(dW[lam0]-2.0*W[lam0]/((get_a(1,0,d)*K)**2))*(-get_a(2,0,d)/get_a(1,0,d))\n",
    "        return out\n",
    "    elif lam0>2 and lam==0 and mu==0:\n",
    "        Sum=-2.0/((get_a(1,0,d)*K)**2)\n",
    "        Prod=1.0\n",
    "        for lamt in seq(lam+3,lam0):\n",
    "            Prod=Prod*1j*K*get_a(lamt,mu,d)/jm[lamt-1]\n",
    "            Sum=Sum+dwm[lamt-1] * jm[lamt-1]\n",
    "        return ((dW[lam0] + W[lam0]*Sum)*(-get_a(2,0,d)/get_a(1,0,d))*Prod)\n",
    "    elif lam0==2 and lam==1 and mu==0:\n",
    "        return W[lam0]*dwm[1]*1j*K*get_a(2,0,d)\n",
    "    elif lam0>2 and lam==1 and mu==0:\n",
    "        Prod=W[lam0]*dwm[1]*1j*K*get_a(2,0,d)\n",
    "        for lamt in seq(lam+2,lam0):\n",
    "            Prod=Prod*1j*K*get_a(lamt,mu,d)/jm[lamt-1]   \n",
    "        return Prod\n",
    "    elif lam0>lam and (lam>1 or mu !=0):\n",
    "        Sum=0.0\n",
    "        Prod=1.0\n",
    "        for lamt in seq(lam+1,lam0):\n",
    "            Prod=Prod*1j*K*get_a(lamt,mu,d)/jm[lamt-1]\n",
    "            Sum=Sum+dwm[lamt-1] * jm[lamt-1]\n",
    "        return ((dW[lam0] + W[lam0]*Sum)*Prod)  "
   ]
  },
  {
   "cell_type": "markdown",
   "metadata": {
    "collapsed": true
   },
   "source": [
    "## Residue Evaluation"
   ]
  },
  {
   "cell_type": "markdown",
   "metadata": {},
   "source": [
    "We would like to calculate first order residues defined as\n",
    "\\[\n",
    "Res\\left(\\epsilon_{l}\\right)=\\lim_{p\\to\\epsilon_{l}}\\left[\\left(p-\\epsilon_{l}\\right)\\mathcal{G}_{l}\\right]\n",
    "\\]\n",
    "by L'Hospital's Rule\n",
    "\\[\n",
    "Res\\left(\\epsilon_{l}\\right)=\\frac{1}{\\left.\\frac{\\partial}{\\partial p}\\left(\\frac{1}{\\mathcal{G}\\left(p\\right)}\\right)\\right|_{p=\\epsilon_{l}}}\n",
    "\\]"
   ]
  },
  {
   "cell_type": "code",
   "execution_count": 134,
   "metadata": {
    "collapsed": true
   },
   "outputs": [],
   "source": [
    "# Calculate Residues using continued fraction\n",
    "# Inputs:\n",
    "#     K = wavelength (positive real number)\n",
    "#     eig = eigenvalue at which to evaluate (complex scalar)\n",
    "#     mu = z-component (intiger)\n",
    "#     nlam = number of lambda values to return\n",
    "#     lamMax = accurady, must be > nlam\n",
    "# Outputs:\n",
    "#      Res = Res_lam0,lam (nlam x nlam numpy array)\n",
    "@jit(nopython=True)\n",
    "def largeKResidues(K,eig,mu,nlam=10,lamMax=500,d=3):\n",
    "    p=eig\n",
    "    jp=get_jp(p,mu,K,lamMax)\n",
    "    jm=get_jm(p,mu,K,lamMax)\n",
    "    djp=get_djp(p,mu,K,lamMax,jp)\n",
    "    djm=get_djm(p,mu,K,lamMax,jm)\n",
    "    #W=get_W(p,mu,K,lamMax,jp,jm)\n",
    "    Res=np.zeros((nlam,nlam),dtype=type(1+1j))*np.NaN\n",
    "    for lam in range(abs(mu),nlam):\n",
    "        for lam0 in range(abs(mu),nlam):\n",
    "            Res[lam0,lam]=1.0/InvGprimeGeneral(p,lam,lam0,mu,K,jp,jm,djp,djm,d)\n",
    "            #IG=InvG(p,lam,lam0,mu,K,jp,jm,d=3)\n",
    "            #tol=0.0001\n",
    "            #if (abs(IG)>tol):\n",
    "            #    print('Error: Pole at p=',p,' 1/G=',IG,' > tol=',tol)\n",
    "            #    print('lam',lam,'lam0',lam0,'mu',mu)\n",
    "            #    return np.NaN\n",
    "            #check=InvGprime(p,lam,lam0,mu,K,jp,jm,djp,djm,d=3)\n",
    "            #if (abs(check-Res[lam0,lam])>tol):\n",
    "            #    print('Error: Pole at p=',p,' methode1',Res[lam0,lam],\\\n",
    "            #          ' methode2',check)\n",
    "            #    return np.NaN                \n",
    "    return Res"
   ]
  },
  {
   "cell_type": "markdown",
   "metadata": {},
   "source": [
    "\\[\n",
    "C_{\\lambda,l}^{\\mu}=\\begin{cases}\n",
    "1 & \\lambda=l\\\\\n",
    "\\left(-iK\\right)^{l-\\lambda}\\prod_{j=\\lambda}^{l-1}\\frac{a_{j+1}^{\\mu}}{l\\left(l+1\\right)-j\\left(j+1\\right)} & l>\\lambda\\\\\n",
    "\\left(-iK\\right)^{\\lambda-l}\\prod_{j=l+1}^{\\lambda}\\frac{a_{j}^{\\mu}}{l\\left(l+1\\right)-j\\left(j+1\\right)} & l<\\lambda\n",
    "\\end{cases}\n",
    "\\]"
   ]
  },
  {
   "cell_type": "code",
   "execution_count": 135,
   "metadata": {
    "collapsed": false
   },
   "outputs": [],
   "source": [
    "@jit(nopython=True)\n",
    "def get_C(K,l,lam,mu,d=3):\n",
    "    prod=1+0*1j\n",
    "    Wi=l*(l+d-2)\n",
    "    if l>lam:\n",
    "        for j in seq(lam,l-1):  # lam to l-1\n",
    "            Wj=j*(j+d-2)\n",
    "            prod=prod*get_a(j+1,mu,d)/(Wi-Wj)\n",
    "        prod=prod*(-1j*K)**(l-lam)\n",
    "    elif l<lam:\n",
    "        for j in seq(l+1,lam): #  l+1 to lam\n",
    "            Wj=j*(j+d-2)\n",
    "            prod=prod*get_a(j,mu,d)/(Wi-Wj)\n",
    "        prod=prod*(-1j*K)**(lam-l)\n",
    "    return prod"
   ]
  },
  {
   "cell_type": "markdown",
   "metadata": {},
   "source": [
    "\\[\n",
    "\\lim_{p\\to\\epsilon_{l}}\\left[\\left(p-\\epsilon_{l}\\right)\\mathcal{G}_{\\lambda_{0},\\lambda}^{\\mu}\\left(K,p\\right)\\right]\\approx C_{\\lambda_{0},l}^{\\mu}C_{\\lambda,l}^{\\mu}\n",
    "\\]"
   ]
  },
  {
   "cell_type": "code",
   "execution_count": 136,
   "metadata": {
    "collapsed": false
   },
   "outputs": [],
   "source": [
    "# l = Eigenvalue number\n",
    "# lam1, lam2: spherical harmonic l index\n",
    "# mu: spherical harmonic mu index\n",
    "@jit(nopython=True)\n",
    "def SmallAysmpRes(K,l,lam1,lam2,mu,d=3):\n",
    "    Res1=get_C(K,l,lam1,mu,d)\n",
    "    Res2=get_C(K,l,lam2,mu,d)\n",
    "    return Res1*Res2"
   ]
  },
  {
   "cell_type": "code",
   "execution_count": 137,
   "metadata": {
    "collapsed": true
   },
   "outputs": [],
   "source": [
    "@jit(nopython=True)\n",
    "def residues(K,eig,l,mu,nlam=10,d=3,lamMax=500,cutoff=10**-11):\n",
    "    # use small K limit if K<10^-3 or the limit < cutoff\n",
    "    if K<10**-3:\n",
    "        res=np.zeros((nlam,nlam),dtype=type(1+1j))*np.NaN\n",
    "        for lam in range(abs(mu),nlam):\n",
    "            for lam0 in range(abs(mu),nlam):\n",
    "                #print('lam0=',lam0,'lam',lam,'mu',mu)\n",
    "                smallK=SmallAysmpRes(K,l,lam,lam0,mu,d=d)\n",
    "                res[lam0,lam]=smallK\n",
    "        return res   \n",
    "    \n",
    "    res=largeKResidues(K,eig,mu,nlam,lamMax=lamMax)\n",
    "    for lam in range(abs(mu),nlam):\n",
    "        for lam0 in range(abs(mu),nlam):\n",
    "            #print('lam0=',lam0,'lam',lam,'mu',mu)\n",
    "            smallK=SmallAysmpRes(K,l,lam,lam0,mu,d=d)\n",
    "            if abs(smallK)<cutoff:\n",
    "                res[lam0,lam]=smallK\n",
    "    return res"
   ]
  },
  {
   "cell_type": "code",
   "execution_count": null,
   "metadata": {
    "collapsed": true
   },
   "outputs": [],
   "source": [
    "@jit(nopython=True)\n",
    "def bothResidues(K,eig,l,mu,nlam=10,d=3):\n",
    "    cutoff=10**-11\n",
    "    lamMax=500\n",
    "    res=largeKResidues(K,eig,mu,nlam,lamMax=lamMax)\n",
    "    resSmall=res*np.NaN\n",
    "    for lam in range(abs(mu),nlam):\n",
    "        for lam0 in range(abs(mu),nlam):\n",
    "            #print('lam0=',lam0,'lam',lam,'mu',mu)\n",
    "            resSmall[lam0,lam]=SmallAysmpRes(K,l,lam,lam0,mu,d=d)\n",
    "    return res, resSmall"
   ]
  },
  {
   "cell_type": "code",
   "execution_count": null,
   "metadata": {
    "collapsed": true
   },
   "outputs": [],
   "source": []
  }
 ],
 "metadata": {
  "anaconda-cloud": {},
  "kernelspec": {
   "display_name": "Python [conda root]",
   "language": "python",
   "name": "conda-root-py"
  },
  "language_info": {
   "codemirror_mode": {
    "name": "ipython",
    "version": 3
   },
   "file_extension": ".py",
   "mimetype": "text/x-python",
   "name": "python",
   "nbconvert_exporter": "python",
   "pygments_lexer": "ipython3",
   "version": "3.5.2"
  },
  "latex_envs": {
   "LaTeX_envs_menu_present": true,
   "autocomplete": true,
   "bibliofile": "biblio.bib",
   "cite_by": "apalike",
   "current_citInitial": 1,
   "eqLabelWithNumbers": true,
   "eqNumInitial": 1,
   "hotkeys": {
    "equation": "Ctrl-E",
    "itemize": "Ctrl-I"
   },
   "labels_anchors": false,
   "latex_user_defs": false,
   "report_style_numbering": false,
   "user_envs_cfg": false
  },
  "toc": {
   "colors": {
    "hover_highlight": "#DAA520",
    "running_highlight": "#FF0000",
    "selected_highlight": "#FFD700"
   },
   "moveMenuLeft": true,
   "nav_menu": {
    "height": "86px",
    "width": "252px"
   },
   "navigate_menu": true,
   "number_sections": true,
   "sideBar": true,
   "threshold": 4,
   "toc_cell": false,
   "toc_section_display": "block",
   "toc_window_display": false,
   "widenNotebook": false
  }
 },
 "nbformat": 4,
 "nbformat_minor": 1
}
